{
 "cells": [
  {
   "cell_type": "markdown",
   "metadata": {},
   "source": [
    "- trf\n",
    "    - ca37: distance=passthrough\n",
    "    - fa15: distance=pwr\n",
    "- imp\n",
    "    - 2474: tune=False\n",
    "    - 20cf: tune=True\n",
    "- clf\n",
    "    - 2c44: ensemble=True, time=20\n",
    "    - 25f2: ensemble=False, time=20"
   ]
  },
  {
   "cell_type": "code",
   "execution_count": 12,
   "metadata": {},
   "outputs": [
    {
     "data": {
      "text/html": [
       "<table border=\"1\" class=\"dataframe\">\n",
       "  <thead>\n",
       "    <tr style=\"text-align: right;\">\n",
       "      <th></th>\n",
       "      <th></th>\n",
       "      <th></th>\n",
       "      <th></th>\n",
       "      <th></th>\n",
       "      <th></th>\n",
       "      <th></th>\n",
       "      <th></th>\n",
       "      <th>202408_projection</th>\n",
       "      <th>202408_projection_pct_change</th>\n",
       "      <th>regstr</th>\n",
       "      <th>admit</th>\n",
       "      <th>census</th>\n",
       "      <th>predicted</th>\n",
       "      <th>error</th>\n",
       "      <th>error_pct</th>\n",
       "      <th>overall_score</th>\n",
       "      <th>test_score</th>\n",
       "      <th>train_score</th>\n",
       "      <th>mlt</th>\n",
       "      <th>regstr_pct</th>\n",
       "      <th>admit_pct</th>\n",
       "    </tr>\n",
       "    <tr>\n",
       "      <th>crse_code</th>\n",
       "      <th>levl_code</th>\n",
       "      <th>styp_code</th>\n",
       "      <th>train_code</th>\n",
       "      <th>pred_code</th>\n",
       "      <th>trf_hash</th>\n",
       "      <th>imp_hash</th>\n",
       "      <th>clf_hash</th>\n",
       "      <th></th>\n",
       "      <th></th>\n",
       "      <th></th>\n",
       "      <th></th>\n",
       "      <th></th>\n",
       "      <th></th>\n",
       "      <th></th>\n",
       "      <th></th>\n",
       "      <th></th>\n",
       "      <th></th>\n",
       "      <th></th>\n",
       "      <th></th>\n",
       "      <th></th>\n",
       "      <th></th>\n",
       "    </tr>\n",
       "  </thead>\n",
       "  <tbody>\n",
       "    <tr>\n",
       "      <th rowspan=\"12\" valign=\"top\">ansc1319</th>\n",
       "      <th rowspan=\"12\" valign=\"top\">ug</th>\n",
       "      <th rowspan=\"12\" valign=\"top\">n</th>\n",
       "      <th rowspan=\"3\" valign=\"top\">202108</th>\n",
       "      <th>202108</th>\n",
       "      <th>fa15</th>\n",
       "      <th>1bfb</th>\n",
       "      <th>346c</th>\n",
       "      <td>&lt;NA&gt;</td>\n",
       "      <td>&lt;NA&gt;</td>\n",
       "      <td>0</td>\n",
       "      <td>0</td>\n",
       "      <td>0</td>\n",
       "      <td>&lt;NA&gt;</td>\n",
       "      <td>&lt;NA&gt;</td>\n",
       "      <td>&lt;NA&gt;</td>\n",
       "      <td>&lt;NA&gt;</td>\n",
       "      <td>&lt;NA&gt;</td>\n",
       "      <td>&lt;NA&gt;</td>\n",
       "      <td>0.0</td>\n",
       "      <td>0.0</td>\n",
       "      <td>0.0</td>\n",
       "    </tr>\n",
       "    <tr>\n",
       "      <th>202208</th>\n",
       "      <th>fa15</th>\n",
       "      <th>1bfb</th>\n",
       "      <th>346c</th>\n",
       "      <td>&lt;NA&gt;</td>\n",
       "      <td>&lt;NA&gt;</td>\n",
       "      <td>0</td>\n",
       "      <td>0</td>\n",
       "      <td>0</td>\n",
       "      <td>&lt;NA&gt;</td>\n",
       "      <td>&lt;NA&gt;</td>\n",
       "      <td>&lt;NA&gt;</td>\n",
       "      <td>&lt;NA&gt;</td>\n",
       "      <td>&lt;NA&gt;</td>\n",
       "      <td>&lt;NA&gt;</td>\n",
       "      <td>0.0</td>\n",
       "      <td>0.0</td>\n",
       "      <td>0.0</td>\n",
       "    </tr>\n",
       "    <tr>\n",
       "      <th>202308</th>\n",
       "      <th>fa15</th>\n",
       "      <th>1bfb</th>\n",
       "      <th>346c</th>\n",
       "      <td>&lt;NA&gt;</td>\n",
       "      <td>&lt;NA&gt;</td>\n",
       "      <td>75</td>\n",
       "      <td>361</td>\n",
       "      <td>372</td>\n",
       "      <td>&lt;NA&gt;</td>\n",
       "      <td>&lt;NA&gt;</td>\n",
       "      <td>&lt;NA&gt;</td>\n",
       "      <td>&lt;NA&gt;</td>\n",
       "      <td>&lt;NA&gt;</td>\n",
       "      <td>&lt;NA&gt;</td>\n",
       "      <td>1.030471</td>\n",
       "      <td>20.16129</td>\n",
       "      <td>97.043011</td>\n",
       "    </tr>\n",
       "    <tr>\n",
       "      <th rowspan=\"3\" valign=\"top\">202208</th>\n",
       "      <th>202108</th>\n",
       "      <th>fa15</th>\n",
       "      <th>1bfb</th>\n",
       "      <th>346c</th>\n",
       "      <td>&lt;NA&gt;</td>\n",
       "      <td>&lt;NA&gt;</td>\n",
       "      <td>0</td>\n",
       "      <td>0</td>\n",
       "      <td>0</td>\n",
       "      <td>&lt;NA&gt;</td>\n",
       "      <td>&lt;NA&gt;</td>\n",
       "      <td>&lt;NA&gt;</td>\n",
       "      <td>&lt;NA&gt;</td>\n",
       "      <td>&lt;NA&gt;</td>\n",
       "      <td>&lt;NA&gt;</td>\n",
       "      <td>0.0</td>\n",
       "      <td>0.0</td>\n",
       "      <td>0.0</td>\n",
       "    </tr>\n",
       "    <tr>\n",
       "      <th>202208</th>\n",
       "      <th>fa15</th>\n",
       "      <th>1bfb</th>\n",
       "      <th>346c</th>\n",
       "      <td>&lt;NA&gt;</td>\n",
       "      <td>&lt;NA&gt;</td>\n",
       "      <td>0</td>\n",
       "      <td>0</td>\n",
       "      <td>0</td>\n",
       "      <td>&lt;NA&gt;</td>\n",
       "      <td>&lt;NA&gt;</td>\n",
       "      <td>&lt;NA&gt;</td>\n",
       "      <td>&lt;NA&gt;</td>\n",
       "      <td>&lt;NA&gt;</td>\n",
       "      <td>&lt;NA&gt;</td>\n",
       "      <td>0.0</td>\n",
       "      <td>0.0</td>\n",
       "      <td>0.0</td>\n",
       "    </tr>\n",
       "    <tr>\n",
       "      <th>202308</th>\n",
       "      <th>fa15</th>\n",
       "      <th>1bfb</th>\n",
       "      <th>346c</th>\n",
       "      <td>&lt;NA&gt;</td>\n",
       "      <td>&lt;NA&gt;</td>\n",
       "      <td>75</td>\n",
       "      <td>361</td>\n",
       "      <td>372</td>\n",
       "      <td>&lt;NA&gt;</td>\n",
       "      <td>&lt;NA&gt;</td>\n",
       "      <td>&lt;NA&gt;</td>\n",
       "      <td>&lt;NA&gt;</td>\n",
       "      <td>&lt;NA&gt;</td>\n",
       "      <td>&lt;NA&gt;</td>\n",
       "      <td>1.030471</td>\n",
       "      <td>20.16129</td>\n",
       "      <td>97.043011</td>\n",
       "    </tr>\n",
       "    <tr>\n",
       "      <th rowspan=\"3\" valign=\"top\">202308</th>\n",
       "      <th>202108</th>\n",
       "      <th>fa15</th>\n",
       "      <th>1bfb</th>\n",
       "      <th>346c</th>\n",
       "      <td>&lt;NA&gt;</td>\n",
       "      <td>&lt;NA&gt;</td>\n",
       "      <td>0</td>\n",
       "      <td>0</td>\n",
       "      <td>0</td>\n",
       "      <td>&lt;NA&gt;</td>\n",
       "      <td>&lt;NA&gt;</td>\n",
       "      <td>&lt;NA&gt;</td>\n",
       "      <td>&lt;NA&gt;</td>\n",
       "      <td>&lt;NA&gt;</td>\n",
       "      <td>&lt;NA&gt;</td>\n",
       "      <td>0.0</td>\n",
       "      <td>0.0</td>\n",
       "      <td>0.0</td>\n",
       "    </tr>\n",
       "    <tr>\n",
       "      <th>202208</th>\n",
       "      <th>fa15</th>\n",
       "      <th>1bfb</th>\n",
       "      <th>346c</th>\n",
       "      <td>&lt;NA&gt;</td>\n",
       "      <td>&lt;NA&gt;</td>\n",
       "      <td>0</td>\n",
       "      <td>0</td>\n",
       "      <td>0</td>\n",
       "      <td>&lt;NA&gt;</td>\n",
       "      <td>&lt;NA&gt;</td>\n",
       "      <td>&lt;NA&gt;</td>\n",
       "      <td>&lt;NA&gt;</td>\n",
       "      <td>&lt;NA&gt;</td>\n",
       "      <td>&lt;NA&gt;</td>\n",
       "      <td>0.0</td>\n",
       "      <td>0.0</td>\n",
       "      <td>0.0</td>\n",
       "    </tr>\n",
       "    <tr>\n",
       "      <th>202308</th>\n",
       "      <th>fa15</th>\n",
       "      <th>1bfb</th>\n",
       "      <th>346c</th>\n",
       "      <td>378.193011</td>\n",
       "      <td>1.664788</td>\n",
       "      <td>75</td>\n",
       "      <td>361</td>\n",
       "      <td>372</td>\n",
       "      <td>359.860196</td>\n",
       "      <td>-12.139804</td>\n",
       "      <td>-3.263388</td>\n",
       "      <td>7.385164</td>\n",
       "      <td>6.736843</td>\n",
       "      <td>8.033485</td>\n",
       "      <td>1.030471</td>\n",
       "      <td>20.16129</td>\n",
       "      <td>97.043011</td>\n",
       "    </tr>\n",
       "    <tr>\n",
       "      <th rowspan=\"3\" valign=\"top\">202408</th>\n",
       "      <th>202108</th>\n",
       "      <th>fa15</th>\n",
       "      <th>1bfb</th>\n",
       "      <th>346c</th>\n",
       "      <td>&lt;NA&gt;</td>\n",
       "      <td>&lt;NA&gt;</td>\n",
       "      <td>0</td>\n",
       "      <td>0</td>\n",
       "      <td>0</td>\n",
       "      <td>&lt;NA&gt;</td>\n",
       "      <td>&lt;NA&gt;</td>\n",
       "      <td>&lt;NA&gt;</td>\n",
       "      <td>&lt;NA&gt;</td>\n",
       "      <td>&lt;NA&gt;</td>\n",
       "      <td>&lt;NA&gt;</td>\n",
       "      <td>0.0</td>\n",
       "      <td>0.0</td>\n",
       "      <td>0.0</td>\n",
       "    </tr>\n",
       "    <tr>\n",
       "      <th>202208</th>\n",
       "      <th>fa15</th>\n",
       "      <th>1bfb</th>\n",
       "      <th>346c</th>\n",
       "      <td>&lt;NA&gt;</td>\n",
       "      <td>&lt;NA&gt;</td>\n",
       "      <td>0</td>\n",
       "      <td>0</td>\n",
       "      <td>0</td>\n",
       "      <td>&lt;NA&gt;</td>\n",
       "      <td>&lt;NA&gt;</td>\n",
       "      <td>&lt;NA&gt;</td>\n",
       "      <td>&lt;NA&gt;</td>\n",
       "      <td>&lt;NA&gt;</td>\n",
       "      <td>&lt;NA&gt;</td>\n",
       "      <td>0.0</td>\n",
       "      <td>0.0</td>\n",
       "      <td>0.0</td>\n",
       "    </tr>\n",
       "    <tr>\n",
       "      <th>202308</th>\n",
       "      <th>fa15</th>\n",
       "      <th>1bfb</th>\n",
       "      <th>346c</th>\n",
       "      <td>378.193011</td>\n",
       "      <td>1.664788</td>\n",
       "      <td>75</td>\n",
       "      <td>361</td>\n",
       "      <td>372</td>\n",
       "      <td>359.860196</td>\n",
       "      <td>-12.139804</td>\n",
       "      <td>-3.263388</td>\n",
       "      <td>7.385164</td>\n",
       "      <td>6.736843</td>\n",
       "      <td>8.033485</td>\n",
       "      <td>1.030471</td>\n",
       "      <td>20.16129</td>\n",
       "      <td>97.043011</td>\n",
       "    </tr>\n",
       "  </tbody>\n",
       "</table>"
      ],
      "text/plain": [
       "<IPython.core.display.HTML object>"
      ]
     },
     "metadata": {},
     "output_type": "display_data"
    }
   ],
   "source": [
    "from LiveAMP import *\n",
    "# , train_code=202408\n",
    "self = AMP(cycle_day=126, styp_code='n', crse_code='ansc1319', param=cartesian(param_dcts)[0])\n",
    "# self = run_amp(126)\n",
    "self.get_X()\n",
    "self.get_summary()\n",
    "self.rslt[' 50%'].disp(1000)\n",
    "# self = get_stack(126)\n"
   ]
  },
  {
   "cell_type": "code",
   "execution_count": 8,
   "metadata": {},
   "outputs": [
    {
     "data": {
      "text/html": [
       "<div>\n",
       "<style scoped>\n",
       "    .dataframe tbody tr th:only-of-type {\n",
       "        vertical-align: middle;\n",
       "    }\n",
       "\n",
       "    .dataframe tbody tr th {\n",
       "        vertical-align: top;\n",
       "    }\n",
       "\n",
       "    .dataframe thead th {\n",
       "        text-align: right;\n",
       "    }\n",
       "</style>\n",
       "<table border=\"1\" class=\"dataframe\">\n",
       "  <thead>\n",
       "    <tr style=\"text-align: right;\">\n",
       "      <th></th>\n",
       "      <th>regstr</th>\n",
       "      <th>admit</th>\n",
       "      <th>census</th>\n",
       "      <th>regstr_pct</th>\n",
       "      <th>admit_pct</th>\n",
       "      <th>mlt</th>\n",
       "    </tr>\n",
       "    <tr>\n",
       "      <th>crse_code</th>\n",
       "      <th></th>\n",
       "      <th></th>\n",
       "      <th></th>\n",
       "      <th></th>\n",
       "      <th></th>\n",
       "      <th></th>\n",
       "    </tr>\n",
       "  </thead>\n",
       "  <tbody>\n",
       "    <tr>\n",
       "      <th>_allcrse</th>\n",
       "      <td>1026</td>\n",
       "      <td>1026</td>\n",
       "      <td>1053</td>\n",
       "      <td>97.435897</td>\n",
       "      <td>97.435897</td>\n",
       "      <td>1.026316</td>\n",
       "    </tr>\n",
       "    <tr>\n",
       "      <th>acct2301</th>\n",
       "      <td>12</td>\n",
       "      <td>12</td>\n",
       "      <td>12</td>\n",
       "      <td>100.0</td>\n",
       "      <td>100.0</td>\n",
       "      <td>1.0</td>\n",
       "    </tr>\n",
       "    <tr>\n",
       "      <th>acct2302</th>\n",
       "      <td>1</td>\n",
       "      <td>1</td>\n",
       "      <td>2</td>\n",
       "      <td>50.0</td>\n",
       "      <td>50.0</td>\n",
       "      <td>2.0</td>\n",
       "    </tr>\n",
       "    <tr>\n",
       "      <th>acom1310</th>\n",
       "      <td>8</td>\n",
       "      <td>8</td>\n",
       "      <td>8</td>\n",
       "      <td>100.0</td>\n",
       "      <td>100.0</td>\n",
       "      <td>1.0</td>\n",
       "    </tr>\n",
       "    <tr>\n",
       "      <th>acom2301</th>\n",
       "      <td>1</td>\n",
       "      <td>1</td>\n",
       "      <td>1</td>\n",
       "      <td>100.0</td>\n",
       "      <td>100.0</td>\n",
       "      <td>1.0</td>\n",
       "    </tr>\n",
       "    <tr>\n",
       "      <th>...</th>\n",
       "      <td>...</td>\n",
       "      <td>...</td>\n",
       "      <td>...</td>\n",
       "      <td>...</td>\n",
       "      <td>...</td>\n",
       "      <td>...</td>\n",
       "    </tr>\n",
       "    <tr>\n",
       "      <th>univ0314</th>\n",
       "      <td>81</td>\n",
       "      <td>81</td>\n",
       "      <td>81</td>\n",
       "      <td>100.0</td>\n",
       "      <td>100.0</td>\n",
       "      <td>1.0</td>\n",
       "    </tr>\n",
       "    <tr>\n",
       "      <th>univ0324</th>\n",
       "      <td>2</td>\n",
       "      <td>2</td>\n",
       "      <td>3</td>\n",
       "      <td>66.666667</td>\n",
       "      <td>66.666667</td>\n",
       "      <td>1.5</td>\n",
       "    </tr>\n",
       "    <tr>\n",
       "      <th>univ0332</th>\n",
       "      <td>4</td>\n",
       "      <td>4</td>\n",
       "      <td>4</td>\n",
       "      <td>100.0</td>\n",
       "      <td>100.0</td>\n",
       "      <td>1.0</td>\n",
       "    </tr>\n",
       "    <tr>\n",
       "      <th>univ0342</th>\n",
       "      <td>28</td>\n",
       "      <td>28</td>\n",
       "      <td>28</td>\n",
       "      <td>100.0</td>\n",
       "      <td>100.0</td>\n",
       "      <td>1.0</td>\n",
       "    </tr>\n",
       "    <tr>\n",
       "      <th>univ1100</th>\n",
       "      <td>1</td>\n",
       "      <td>1</td>\n",
       "      <td>3</td>\n",
       "      <td>33.333333</td>\n",
       "      <td>33.333333</td>\n",
       "      <td>3.0</td>\n",
       "    </tr>\n",
       "  </tbody>\n",
       "</table>\n",
       "<p>184 rows × 6 columns</p>\n",
       "</div>"
      ],
      "text/plain": [
       "           regstr  admit  census  regstr_pct  admit_pct       mlt\n",
       "crse_code                                                        \n",
       "_allcrse     1026   1026    1053   97.435897  97.435897  1.026316\n",
       "acct2301       12     12      12       100.0      100.0       1.0\n",
       "acct2302        1      1       2        50.0       50.0       2.0\n",
       "acom1310        8      8       8       100.0      100.0       1.0\n",
       "acom2301        1      1       1       100.0      100.0       1.0\n",
       "...           ...    ...     ...         ...        ...       ...\n",
       "univ0314       81     81      81       100.0      100.0       1.0\n",
       "univ0324        2      2       3   66.666667  66.666667       1.5\n",
       "univ0332        4      4       4       100.0      100.0       1.0\n",
       "univ0342       28     28      28       100.0      100.0       1.0\n",
       "univ1100        1      1       3   33.333333  33.333333       3.0\n",
       "\n",
       "[184 rows x 6 columns]"
      ]
     },
     "execution_count": 8,
     "metadata": {},
     "output_type": "execute_result"
    }
   ],
   "source": [
    "self.mlt.loc[('n',202408)]"
   ]
  },
  {
   "cell_type": "code",
   "execution_count": null,
   "metadata": {},
   "outputs": [],
   "source": [
    "self.mlt"
   ]
  },
  {
   "cell_type": "code",
   "execution_count": null,
   "metadata": {},
   "outputs": [],
   "source": [
    "self.summary"
   ]
  },
  {
   "cell_type": "code",
   "execution_count": null,
   "metadata": {},
   "outputs": [],
   "source": [
    "clf_dct = self.param['clf'][2] | {'task':'classification', 'verbose':0, 'time_budget':5}\n",
    "g = lambda y: y.query(f\"crse_code=='{self.crse_code}'\").droplevel('crse_code')\n",
    "Z_proc = (\n",
    "    self.X_proc\n",
    "    .join(  self.y['credit']) .fillna({'credit':0})\n",
    "    .join(g(self.y['regstr'])).fillna({'regstr':False})\n",
    "    .join(g(self.y['actual'])).fillna({'actual':False})\n",
    "    .addlevel({'crse_code':self.crse_code, 'clf_hash':self.param['clf'][0]})\n",
    "    .prep(bool=True, cat=True)\n",
    ")\n",
    "Z = Z_proc.query(f\"pred_code!={self.proj_code}\").copy()\n",
    "G = Z.query(f\"sim==0\").groupby(['pred_code','actual','__coll_code'], observed=True).ngroup().rename('grp').to_frame().rsindex('idx')"
   ]
  },
  {
   "cell_type": "code",
   "execution_count": null,
   "metadata": {},
   "outputs": [],
   "source": [
    "Z.groupby(['pred_code','sim']).filter(lambda x:x['actual'].sum()>0).vc('pred_code')"
   ]
  },
  {
   "cell_type": "code",
   "execution_count": null,
   "metadata": {},
   "outputs": [],
   "source": [
    "def train(self, train_code='all'):\n",
    "    X = Z.copy() if train_code == self.proj_code else Z.query(f\"pred_code=={train_code}\").copy()\n",
    "    y = X.pop('actual')\n",
    "    idx = G.groupby('grp').sample(frac=0.75, random_state=clf_dct['seed']).index\n",
    "    msk = X.eval('idx.isin(@idx)')\n",
    "    dct = clf_dct | {\n",
    "        'X_train':X[msk],\n",
    "        'y_train':y[msk],\n",
    "        'X_val':X[~msk],\n",
    "        'y_val':y[~msk],\n",
    "    }\n",
    "    self.clf = fl.AutoML(**dct)\n",
    "    self.clf.fit(**dct)\n",
    "    self.Y = Z_proc[['actual']].assign(proba=self.clf.predict_proba(Z_proc.drop(columns='actual'))[:,1]).prep(bool=True).copy()\n",
    "    self.train_score = self.clf.best_result['val_loss'] * 100\n",
    "    self.clf = self.clf._trained_estimator\n"
   ]
  },
  {
   "cell_type": "code",
   "execution_count": null,
   "metadata": {},
   "outputs": [],
   "source": [
    "X.vc('pred_code')"
   ]
  },
  {
   "cell_type": "code",
   "execution_count": null,
   "metadata": {},
   "outputs": [],
   "source": [
    "G = Z.query(f\"sim==0\").groupby(['pred_code','actual','__coll_code'], observed=True).ngroup().rename('grp').to_frame().rsindex('idx')"
   ]
  },
  {
   "cell_type": "code",
   "execution_count": null,
   "metadata": {},
   "outputs": [],
   "source": [
    "idx = G.groupby('grp').sample(frac=0.75, random_state=clf_dct['seed']).index\n",
    "trn = Z.query(f'idx.isin(@idx)')\n",
    "tst = Z.query(f'not idx.isin(@idx)')\n",
    "Z.shape, trn.shape, tst.shape"
   ]
  },
  {
   "cell_type": "code",
   "execution_count": null,
   "metadata": {},
   "outputs": [],
   "source": [
    "Z = Z.rename_axis(index={'index':'idx'})"
   ]
  },
  {
   "cell_type": "code",
   "execution_count": null,
   "metadata": {},
   "outputs": [],
   "source": [
    "t = G.groupby('grp').sample(frac=0.75, random_state=clf_dct['seed']).reset_index()['index']\n",
    "Z.query(\"idx==1602\")\n",
    "# Z.reset_index()['index'].isin(t)"
   ]
  },
  {
   "cell_type": "code",
   "execution_count": null,
   "metadata": {},
   "outputs": [],
   "source": [
    "trn, tst = train_test_split(X, y)#, stratify=g, train_size=0.75, random_state=clf_dct['seed'])"
   ]
  },
  {
   "cell_type": "code",
   "execution_count": null,
   "metadata": {},
   "outputs": [],
   "source": []
  },
  {
   "cell_type": "code",
   "execution_count": null,
   "metadata": {},
   "outputs": [],
   "source": []
  },
  {
   "cell_type": "code",
   "execution_count": null,
   "metadata": {},
   "outputs": [],
   "source": [
    "# def train(self, train_code=None):\n",
    "dct = clf_dct | {\n",
    "    'X_train':X_trn,\n",
    "    'y_train':y_trn,\n",
    "    # 'eval_method':'cv',\n",
    "    # 'n_splits':5,\n",
    "    # 'split_type':'stratified',\n",
    "    'X_val':X_tst,\n",
    "    'y_val':y_tst,\n",
    "    # 'sample_weight':1+(2*y[mask]-1)*wgt,\n",
    "    # 'sample_weight_val':1+(2*y-1)*wgt,\n",
    "    # 'log_file_name': self.path.with_stem(f\"{self.path.stem}{iter}\").with_suffix('.log'),\n",
    "}\n",
    "self.clf = fl.AutoML(**dct)\n",
    "self.clf.fit(**dct)\n",
    "self.Y = Z_proc[['actual']].assign(proba=self.clf.predict_proba(Z_proc.drop(columns='actual'))[:,1]).prep(bool=True).copy()\n",
    "# return self\n",
    "# train(self)"
   ]
  },
  {
   "cell_type": "code",
   "execution_count": null,
   "metadata": {},
   "outputs": [],
   "source": [
    "X = read('/home/scook/institutional_data_analytics/admitted_matriculation_projection/resources/rslt3/126/X.pkl')\n",
    "X['mlt'].query(\"crse_code=='easc2310'\")"
   ]
  },
  {
   "cell_type": "code",
   "execution_count": null,
   "metadata": {},
   "outputs": [],
   "source": [
    "w = read('/home/scook/institutional_data_analytics/admitted_matriculation_projection/resources/rslt3/126/summary/n/easc2310/fa15/1bfb/1414.pkl')\n",
    "w['summary']\n"
   ]
  },
  {
   "cell_type": "code",
   "execution_count": null,
   "metadata": {},
   "outputs": [],
   "source": [
    "self.report"
   ]
  },
  {
   "cell_type": "code",
   "execution_count": null,
   "metadata": {},
   "outputs": [],
   "source": [
    "self.cycle_date"
   ]
  },
  {
   "cell_type": "code",
   "execution_count": null,
   "metadata": {},
   "outputs": [],
   "source": [
    "read('/home/scook/institutional_data_analytics/admitted_matriculation_projection/resources/rslt2/126/summary/n/anth2351/fa15/1bfb/4a31.pkl').keys()"
   ]
  },
  {
   "cell_type": "code",
   "execution_count": null,
   "metadata": {},
   "outputs": [],
   "source": [
    "g = lambda y: y.query(f\"crse_code=='{self.crse_code}'\").droplevel('crse_code')\n",
    "Z = (\n",
    "    self.X_proc\n",
    "    # .join(  self.y['credit']) .fillna({'credit':0})\n",
    "    # .join(g(self.y['regstr'])).fillna({'regstr':False})\n",
    "    .join(g(self.y['actual'])).fillna({'actual':False})\n",
    "    # .addlevel({'crse_code':self.crse_code, 'train_code':self.train_code, 'clf_hash':self.param['clf'][0]})\n",
    "    .addlevel({'crse_code':self.crse_code, 'clf_hash':self.param['clf'][0]})\n",
    "    .prep(bool=True, cat=True)\n",
    ")\n",
    "Z = Z[Z.eval(f\"pred_code=={self.proj_code}\") | (Z.groupby(['pred_code','sim'])['actual'].transform('sum')>=10)]"
   ]
  },
  {
   "cell_type": "code",
   "execution_count": null,
   "metadata": {},
   "outputs": [],
   "source": [
    "# Z.rsindex(['pred_code','sim']).groupby(['pred_code','sim'])['actual'].sum().sort_index().disp(1000)\n",
    "A = Z.query(f\"pred_code!={self.proj_code} & sim==0\").groupby('pred_code')['actual'].sum().query('actual>600').index.tolist()\n",
    "A\n",
    "# A[A>600].index"
   ]
  },
  {
   "cell_type": "code",
   "execution_count": null,
   "metadata": {},
   "outputs": [],
   "source": [
    "Z[Z.eval(f\"pred_code=={self.proj_code}\") | (Z.groupby(['pred_code','sim'])['actual'].transform('sum')>=10)]\n",
    "Z[mask]\n",
    "# Z['ct'] = Z.groupby(['pred_code','sim'])['actual'].transform('sum')\n",
    "# Z.query(\"pred_code==202408 | ct >= 100000\")\n",
    "\n",
    "#['actual'].sum()"
   ]
  },
  {
   "cell_type": "code",
   "execution_count": null,
   "metadata": {},
   "outputs": [],
   "source": [
    "dct = {'a':2,'b':1}\n",
    "min(dct, key=dct.get)"
   ]
  },
  {
   "cell_type": "code",
   "execution_count": null,
   "metadata": {},
   "outputs": [],
   "source": [
    "x = np.array([-678.938727,-69.417566,-47.140036])\n",
    "np.abs(np.sum(x))*10+np.mean(np.abs(x))"
   ]
  },
  {
   "cell_type": "code",
   "execution_count": null,
   "metadata": {},
   "outputs": [],
   "source": [
    "from LiveAMP import *\n",
    "self = run_amp(126)"
   ]
  },
  {
   "cell_type": "code",
   "execution_count": null,
   "metadata": {},
   "outputs": [],
   "source": []
  },
  {
   "cell_type": "code",
   "execution_count": null,
   "metadata": {},
   "outputs": [],
   "source": [
    "w = read('/home/scook/institutional_data_analytics/admitted_matriculation_projection/resources/rslt2/126/Y/n/_allcrse/202308/fa15/1bfb/2dbb.pkl')\n",
    "Y = w['Y']\n",
    "Y['proba'] = Y['actual'] == True\n",
    "log_loss(Y['actual'], Y['proba'])\n",
    "clf = fl.AutoML()\n"
   ]
  },
  {
   "cell_type": "code",
   "execution_count": null,
   "metadata": {},
   "outputs": [],
   "source": [
    "from flaml import AutoML\n",
    "w = AutoML()\n",
    "w.fit?"
   ]
  },
  {
   "cell_type": "code",
   "execution_count": null,
   "metadata": {},
   "outputs": [],
   "source": [
    "from flaml import AutoML\n",
    "from sklearn.datasets import load_iris\n",
    "\n",
    "# Initialize an AutoML instance\n",
    "\n",
    "# Specify automl goal and constraint\n",
    "automl_settings = {\n",
    "    \"time_budget\": 10,  # in seconds\n",
    "    \"metric\": \"log_loss\",\n",
    "    # \"metric\": \"accuracy\",\n",
    "    \"task\": \"classification\",\n",
    "    # \"log_file_name\": \"iris.log\",\n",
    "    'verbose':0,\n",
    "}\n",
    "clf = AutoML(**automl_settings)\n",
    "X_train, y_train = load_iris(return_X_y=True)\n",
    "# Train with labeled input data\n",
    "clf.fit(X_train=X_train, y_train=y_train, **automl_settings)\n",
    "# Predict\n",
    "# print(clf.predict_proba(X_train))\n",
    "# Print the best model\n",
    "# print(clf.model.estimator)\n"
   ]
  },
  {
   "cell_type": "code",
   "execution_count": null,
   "metadata": {},
   "outputs": [],
   "source": [
    "from sklearn.metrics import log_loss, accuracy_score\n",
    "log_loss(y_train, clf.predict_proba(X_train)), accuracy_score(y_train, clf.predict(X_train))\n",
    "# clf.score(X_train, y_train)"
   ]
  },
  {
   "cell_type": "code",
   "execution_count": null,
   "metadata": {},
   "outputs": [],
   "source": [
    "import plotly.express as px\n",
    "from LiveAMP import *\n",
    "w = []\n",
    "for path in sorted(AMP().root_path.parent.iterdir()):\n",
    "    for fn in (path / 'summary/n/_allcrse').rglob('*.pkl'):\n",
    "        w.append(read(fn)['rslt'][' 50%'].addlevel({'cycle_day':path.stem}))\n",
    "df = pd.concat(w).query('pred_code==202308').reset_index()\n",
    "fig = px.line(\n",
    "    df,\n",
    "    x='cycle_day',\n",
    "    y='202408_projection',\n",
    "    color='train_code',\n",
    "    # text=\"cycle_day\",\n",
    "    symbol=\"train_code\",\n",
    "    )\n",
    "fig.update_layout(hovermode=\"x unified\")\n",
    "fig.show()"
   ]
  },
  {
   "cell_type": "code",
   "execution_count": null,
   "metadata": {},
   "outputs": [],
   "source": [
    "self.y['adm'].disp()"
   ]
  },
  {
   "cell_type": "code",
   "execution_count": null,
   "metadata": {},
   "outputs": [],
   "source": []
  },
  {
   "cell_type": "code",
   "execution_count": null,
   "metadata": {},
   "outputs": [],
   "source": [
    "# y = {k:y.query(f\"crse_code=='{self.crse_code}'\").droplevel('crse_code') for k,y in self.y.items()}\n",
    "self.y['credit']"
   ]
  },
  {
   "cell_type": "code",
   "execution_count": null,
   "metadata": {},
   "outputs": [],
   "source": [
    "self.y['actual'].disp()"
   ]
  },
  {
   "cell_type": "code",
   "execution_count": null,
   "metadata": {},
   "outputs": [],
   "source": [
    "self.y['admit'].disp()"
   ]
  },
  {
   "cell_type": "code",
   "execution_count": null,
   "metadata": {},
   "outputs": [],
   "source": [
    "self.credit_hr\n",
    "self.y[self.cycle_day]"
   ]
  },
  {
   "cell_type": "code",
   "execution_count": null,
   "metadata": {},
   "outputs": [],
   "source": [
    "# y = self.y.query(f\"crse_code=='{self.crse_code}'\").droplevel('crse_code').rename(self.crse_code)\n",
    "y = self.y.query(f\"crse_code=='{self.crse_code}'\").unstack()\n",
    "cols = [self.crse_code]\n",
    "y = self.y.query(f\"crse_code.isin({cols})\").unstack()#.droplevel(0,1)\n",
    "\n",
    "y.disp()\n",
    "# Z = (\n",
    "#     self.X\n",
    "# # #     # .join(self.credit_hr)\n",
    "#     .join(y)\n",
    "# # #     # .fillna({'credit_hr':0})\n",
    "# # #     # .fillna({c: False for c in cols})\n",
    "# # #     # .addlevel({'crse_code':self.crse_code, 'train_code':self.train_code, 'clf_hash':self.param['clf'][0]})\n",
    "# # #     # .rsindex(['index','crse_code','levl_code','styp_code','train_code','pred_code','trf_hash','imp_hash','clf_hash','sim'])\n",
    "# # #     # .prep(bool=True, cat=True)\n",
    "# )\n",
    "# Z.disp()"
   ]
  },
  {
   "cell_type": "code",
   "execution_count": null,
   "metadata": {},
   "outputs": [],
   "source": [
    "self.y.vc('enrolled')\n",
    "# self.credit_hr.disp()"
   ]
  },
  {
   "cell_type": "code",
   "execution_count": null,
   "metadata": {},
   "outputs": [],
   "source": [
    "# M = self.mlt.copy()\n",
    "# M['reg_pct'] = M['reg'] / M['end'] * 100\n",
    "# M['adm_pct'] = M['adm'] / M['end'] * 100\n",
    "self.mlt.query(\"styp_code=='n' & crse_code.isin(['_allcrse','biol1406'])\").reset_index().sort_values(['crse_code','pred_code']).disp(100)#crse_code=='_allcrse'\")"
   ]
  },
  {
   "cell_type": "code",
   "execution_count": null,
   "metadata": {},
   "outputs": [],
   "source": [
    "y = self.y.query(\"crse_code.str.contains('biol1406')\").unstack().droplevel(0,1)\n",
    "z = y\n",
    "z = self.X[[]].join(y)\n",
    "A = z.groupby('pred_code').sum()\n",
    "A['mlt'] = A.iloc[:,0] / A.iloc[:,1]\n",
    "A['2024'] = A['mlt'] * A.iloc[-1,1]\n",
    "A"
   ]
  },
  {
   "cell_type": "code",
   "execution_count": null,
   "metadata": {},
   "outputs": [],
   "source": [
    "self.mlt.query(\"crse_code=='biol1406'\")"
   ]
  },
  {
   "cell_type": "code",
   "execution_count": null,
   "metadata": {},
   "outputs": [],
   "source": [
    "# self.crse_code = '_allcrse'\n",
    "cols = [self.crse_code+'_cur', self.crse_code]\n",
    "y = self.y.query(f\"crse_code.isin({cols})\").unstack().droplevel(0,1)[cols]\n",
    "Z = (\n",
    "    self.X[[]]#_proc\n",
    "    # .join(self.credit_hr)\n",
    "    .join(y)\n",
    "    # .fillna({'credit_hr':0})\n",
    "    # .fillna({c: False for c in cols})\n",
    "    # .addlevel({'crse_code':self.crse_code, 'train_code':self.train_code, 'clf_hash':self.param['clf'][0]})\n",
    "    # .rsindex(['index','crse_code','levl_code','styp_code','train_code','pred_code','trf_hash','imp_hash','clf_hash','sim'])\n",
    "    # .prep(bool=True, cat=True)\n",
    ")\n",
    "# Z.disp()\n",
    "Z.groupby('pred_code').sum()"
   ]
  },
  {
   "cell_type": "code",
   "execution_count": null,
   "metadata": {},
   "outputs": [],
   "source": [
    "Z.iloc[:,-2:].groupby('pred_code').sum()"
   ]
  },
  {
   "cell_type": "code",
   "execution_count": null,
   "metadata": {},
   "outputs": [],
   "source": [
    "self.mlt"
   ]
  },
  {
   "cell_type": "code",
   "execution_count": null,
   "metadata": {},
   "outputs": [],
   "source": [
    "Z.disp(4)"
   ]
  },
  {
   "cell_type": "code",
   "execution_count": null,
   "metadata": {},
   "outputs": [],
   "source": [
    "self.X_proc"
   ]
  },
  {
   "cell_type": "code",
   "execution_count": null,
   "metadata": {},
   "outputs": [],
   "source": [
    "fn = '/home/scook/institutional_data_analytics/admitted_matriculation_projection/resources/rslt2/126/summary/n/_allcrse/202208/fa15/1bfb/2dbb.pkl'\n",
    "w = read(fn)\n",
    "w['rslt'][' 50%']"
   ]
  },
  {
   "cell_type": "code",
   "execution_count": null,
   "metadata": {},
   "outputs": [],
   "source": [
    "self.credit_hr"
   ]
  },
  {
   "cell_type": "code",
   "execution_count": null,
   "metadata": {},
   "outputs": [],
   "source": [
    "self.mlt.query(\"crse_code.isin(['_allcrse','biol1406'])\")"
   ]
  },
  {
   "cell_type": "code",
   "execution_count": null,
   "metadata": {},
   "outputs": [],
   "source": [
    "133/7\n",
    "126/7"
   ]
  },
  {
   "cell_type": "code",
   "execution_count": null,
   "metadata": {},
   "outputs": [],
   "source": [
    "terms[133][202408]"
   ]
  },
  {
   "cell_type": "code",
   "execution_count": null,
   "metadata": {},
   "outputs": [],
   "source": []
  },
  {
   "cell_type": "code",
   "execution_count": null,
   "metadata": {},
   "outputs": [],
   "source": [
    "qry = \"select A.current_date, count(*) as ct from opeir.admissions_fall2024 A group by A.current_date order by A.current_date asc\"\n",
    "db.execute(qry).disp(1000)"
   ]
  },
  {
   "cell_type": "code",
   "execution_count": null,
   "metadata": {},
   "outputs": [],
   "source": [
    "from LiveAMP import *\n",
    "T = Term(term_code=202308, cycle_day=133, show='adm', overwrite='adm')\n",
    "T.get_adm()"
   ]
  },
  {
   "cell_type": "code",
   "execution_count": null,
   "metadata": {},
   "outputs": [],
   "source": [
    "T.adm.disp()"
   ]
  },
  {
   "cell_type": "code",
   "execution_count": null,
   "metadata": {},
   "outputs": [],
   "source": [
    "np.arange(126, 200, 7)"
   ]
  },
  {
   "cell_type": "code",
   "execution_count": null,
   "metadata": {},
   "outputs": [],
   "source": [
    "from LiveAMP import *\n",
    "fn = '/home/scook/institutional_data_analytics/admitted_matriculation_projection/resources/rslt2/126/X.pkl'\n",
    "fn = '/home/scook/institutional_data_analytics/admitted_matriculation_projection/resources/rslt2/126/X.pkl'\n",
    "# fn = '/home/scook/institutional_data_analytics/admitted_matriculation_projection/resources/rslt2/126/summary/n/_allcrse/202308/fa15/1bfb/2dbb.pkl'\n",
    "w = read(fn)\n",
    "# w['rslt'][' 50%']\n",
    "w['mlt'].query(\"crse_code=='biol1406'\")"
   ]
  },
  {
   "cell_type": "code",
   "execution_count": null,
   "metadata": {},
   "outputs": [],
   "source": [
    "self.mlt"
   ]
  },
  {
   "cell_type": "code",
   "execution_count": null,
   "metadata": {},
   "outputs": [],
   "source": [
    "w['X'].missing().disp(1000)"
   ]
  },
  {
   "cell_type": "code",
   "execution_count": null,
   "metadata": {},
   "outputs": [],
   "source": [
    "from LiveAMP import *\n",
    "# Flags().run()\n",
    "for cycle_week in range(19, 19+10):\n",
    "    cycle_day=cycle_week*7\n",
    "    print(cycle_day)\n",
    "    run_amp(cycle_day=cycle_day)\n",
    "\n",
    "# for cycle_day in range(132, 128, -1):\n",
    "# for cycle_day in [137,130]:\n",
    "#     print(cycle_day)\n",
    "#     A = AMP(cycle_day=cycle_day)\n",
    "#     A.print_days()\n",
    "# A.get_X()\n",
    "# run_amp(126)\n",
    "# self = get_stack(130, '_2024_05_10')\n",
    "# self.get_Y()\n",
    "# self.get_summary()\n",
    "# self.summary\n",
    "# # self.Y\n",
    "# getsizeof(self.__dict__)"
   ]
  },
  {
   "cell_type": "code",
   "execution_count": null,
   "metadata": {},
   "outputs": [],
   "source": [
    "trm = read('/home/scook/institutional_data_analytics/admitted_matriculation_projection/resources/trm.parq')\n",
    "trm.query(\"term_code==202108\")"
   ]
  },
  {
   "cell_type": "code",
   "execution_count": null,
   "metadata": {},
   "outputs": [],
   "source": [
    "4-6"
   ]
  },
  {
   "cell_type": "code",
   "execution_count": null,
   "metadata": {},
   "outputs": [],
   "source": [
    "w = read('/home/scook/institutional_data_analytics/admitted_matriculation_projection/resources/rslt/130/Y/n/_allcrse/202308/fa15/1bfb/2dbb.pkl')\n",
    "getsizeof(w)"
   ]
  },
  {
   "cell_type": "code",
   "execution_count": null,
   "metadata": {},
   "outputs": [],
   "source": [
    "w['Y']"
   ]
  },
  {
   "cell_type": "code",
   "execution_count": null,
   "metadata": {},
   "outputs": [],
   "source": [
    "# w = pd.to_datetime('today').normalize()-5\n",
    "# w.day_of_week\n",
    "\n",
    "# (pd.Timestamp.now().day-1)#.day_of_week\n",
    "pd.to_datetime('2024-05-13').day_name()"
   ]
  },
  {
   "cell_type": "code",
   "execution_count": null,
   "metadata": {},
   "outputs": [],
   "source": [
    "self = AMP()\n",
    "str(self.root_path).replace('data','1234')"
   ]
  },
  {
   "cell_type": "code",
   "execution_count": null,
   "metadata": {},
   "outputs": [],
   "source": [
    "read('/home/scook/institutional_data_analytics/admitted_matriculation_projection/resources/rslt/130/summary/n/_allcrse/202208/fa15/1bfb/2dbb.pkl').keys()"
   ]
  },
  {
   "cell_type": "code",
   "execution_count": null,
   "metadata": {},
   "outputs": [],
   "source": [
    "dct = {'a':1,'b':2}\n",
    "pd.Series(dct).sort_values(ascending=False)"
   ]
  },
  {
   "cell_type": "code",
   "execution_count": null,
   "metadata": {},
   "outputs": [],
   "source": [
    "w = AMP().load('/home/scook/institutional_data_analytics/admitted_matriculation_projection/resources/rslt/131/Y/n/ansc1119/202208/fa15/1bfb/4add.pkl', force=True)"
   ]
  },
  {
   "cell_type": "code",
   "execution_count": null,
   "metadata": {},
   "outputs": [],
   "source": [
    "w = read('/home/scook/institutional_data_analytics/admitted_matriculation_projection/resources/rslt2/133/summary/n/_allcrse/202208/fa15/1bfb/2dbb.pkl')\n",
    "w\n",
    "# getsizeof(w)\n",
    "# w['Y']"
   ]
  },
  {
   "cell_type": "code",
   "execution_count": null,
   "metadata": {},
   "outputs": [],
   "source": [
    "L=[1,2]\n",
    "L.remove(1)\n",
    "L"
   ]
  },
  {
   "cell_type": "code",
   "execution_count": null,
   "metadata": {},
   "outputs": [],
   "source": [
    "w['Y'].memory_usage().sum()"
   ]
  },
  {
   "cell_type": "code",
   "execution_count": null,
   "metadata": {},
   "outputs": [],
   "source": [
    "w['Y']"
   ]
  },
  {
   "cell_type": "code",
   "execution_count": null,
   "metadata": {},
   "outputs": [],
   "source": [
    "def getsizeof(x):\n",
    "    if isinstance(x, dict):\n",
    "        for k,v in x.items():\n",
    "            print(k, size(v))\n",
    "    else:\n",
    "        return sys.getsizeof(x)\n",
    "size(w)"
   ]
  },
  {
   "cell_type": "code",
   "execution_count": null,
   "metadata": {},
   "outputs": [],
   "source": [
    "w = read('/home/scook/institutional_data_analytics/admitted_matriculation_projection/resources/rslt/131/Y/n/arts1304/202108/fa15/1bfb/4add.pkl')\n",
    "\n",
    "w.keys()\n",
    "# w['rslt'][' 50%'].memory_usage().sum()\n",
    "# w['Y']"
   ]
  },
  {
   "cell_type": "code",
   "execution_count": null,
   "metadata": {},
   "outputs": [],
   "source": [
    "w['Y'].rsindex('index').info()\n",
    "w['Y'].info()"
   ]
  },
  {
   "cell_type": "code",
   "execution_count": null,
   "metadata": {},
   "outputs": [],
   "source": [
    "from LiveAMP import *\n",
    "fn = '/home/scook/institutional_data_analytics/admitted_matriculation_projection/resources/rslt/131/Y/n/_allcrse/202208/fa15/1bfb/4add.pkl'\n",
    "self = AMP().load(path=fn)\n",
    "self.summarize()\n",
    "self.__dict__.keys()"
   ]
  },
  {
   "cell_type": "code",
   "execution_count": null,
   "metadata": {},
   "outputs": [],
   "source": [
    "from LiveAMP import *\n",
    "fn = '/home/scook/institutional_data_analytics/admitted_matriculation_projection/resources/rslt/131/Y/n/ansc1119/202108/fa15/1bfb/4add.pkl'\n",
    "self = AMP().load(path=fn, force=True)\n",
    "# self.train_score = 0\n",
    "# self.get_X()\n",
    "# self.y\n",
    "# def summarize(self):\n",
    "#     self.get_X()\n",
    "#     self.get_Y()\n",
    "#     grp = ['index','crse_code','levl_code','styp_code','train_code','pred_code','trf_hash','imp_hash','clf_hash','sim']\n",
    "#     self.Y = self.Y.rsindex(grp)\n",
    "#     grp.remove('index')\n",
    "#     S = self.Y.groupby(grp).apply(lambda y: pd.Series({\n",
    "#         'actual': y['actual'].sum(),\n",
    "#         # 'predicted': y['predicted'].sum(),\n",
    "#         'predicted': y['proba'].sum(),\n",
    "#         'train_score': self.train_score,\n",
    "#         'test_score': log_loss(y['actual'], y['proba'], labels=[False,True], sample_weight=1+(2*y['actual']-1)*self.weight) * 100,\n",
    "#         'weight': self.weight,\n",
    "#     }))\n",
    "#     S['predicted'] *= S['actual'] > 0\n",
    "#     proj_mask = S.eval(f\"pred_code==@self.proj_code\")\n",
    "#     proj_col = f'{self.proj_code}_projection'\n",
    "#     S = (\n",
    "#         S[~proj_mask]\n",
    "#         .join(S[proj_mask]['predicted'].droplevel('pred_code').rename(proj_col))\n",
    "#         .join(self.mlt)\n",
    "#         .sort_index()\n",
    "#     ).prep().fillna(0)\n",
    "    # for k in ['predicted','actual',proj_col]:\n",
    "    #     S[k] *= S['mlt']\n",
    "    # S[proj_col+'_pct_change'] = (S[proj_col] / S.groupby(S.index.names.difference({'pred_code'})).transform('last')['actual'] - 1) * 100\n",
    "    # alpha = 1\n",
    "    # S['overall_score'] = (S['train_score'] + alpha * S['test_score']) / (1 + alpha)\n",
    "    # S['error'] = S['predicted'] - S['actual']\n",
    "    # S['error_pct'] = S['error'] / S['actual'] * 100\n",
    "    # S.loc[S.eval('predicted==0'), 'predicted':] = pd.NA\n",
    "    # self.summary = S[[proj_col,proj_col+'_pct_change','predicted','actual','error','error_pct','mlt','overall_score','test_score','train_score','weight']].prep()#.fillna(0)\n",
    "    # grp.remove('sim')\n",
    "    # self.rslt = {str(stat): self.summary.groupby(grp).agg(stat) for stat in self.stats}\n",
    "    # self.rslt[' 50%'].disp(100)\n",
    "    # for k in ['X_proc','y','mlt']:\n",
    "    #     del self[k]\n",
    "# summarize(self)"
   ]
  },
  {
   "cell_type": "code",
   "execution_count": null,
   "metadata": {},
   "outputs": [],
   "source": [
    "fn = '/home/scook/institutional_data_analytics/admitted_matriculation_projection/resources/rslt/131/Y/n/ansc1119/202108/fa15/1bfb/4add.pkl'\n",
    "self = AMP().load(path=fn, force=True)\n",
    "self.train_score = 0\n",
    "def summarize(self):\n",
    "    S = self.Y.groupby(['crse_code','levl_code','styp_code','train_code','pred_code','trf_hash','imp_hash','clf_hash','sim']).apply(lambda y: pd.Series({\n",
    "        'actual': y['actual'].sum(),\n",
    "        # 'predicted': y['predicted'].sum(),\n",
    "        'predicted': y['proba'].sum(),\n",
    "        'train_score': self.train_score,\n",
    "        'test_score': log_loss(y['actual'], y['proba'], labels=[False,True], sample_weight=1+(2*y['actual']-1)*self.weight) * 100,\n",
    "        'weight': self.weight,\n",
    "    }))\n",
    "    proj_mask = S.eval(f\"pred_code==@self.proj_code\")\n",
    "    proj_col = f'{self.proj_code}_projection'\n",
    "    S = (\n",
    "        S[~proj_mask]\n",
    "        .join(S[proj_mask]['predicted'].droplevel('pred_code').rename(proj_col))\n",
    "        .join(self.mlt)\n",
    "        .sort_index()\n",
    "    ).prep().fillna(0)\n",
    "    for k in ['predicted','actual',proj_col]:\n",
    "        S[k] *= S['mlt']\n",
    "    S[proj_col+'_pct_change'] = (S[proj_col] / S.groupby(S.index.names.difference({'pred_code'})).transform('last')['actual'] - 1) * 100\n",
    "    alpha = 1\n",
    "    S['overall_score'] = (S['train_score'] + alpha * S['test_score']) / (1 + alpha)\n",
    "    S['error'] = S['predicted'] - S['actual']\n",
    "    S['error_pct'] = S['error'] / S['actual'] * 100\n",
    "    S.loc[S.eval('predicted==0'), 'predicted':] = pd.NA\n",
    "    self.summary = S[[proj_col,proj_col+'_pct_change','predicted','actual','error','error_pct','mlt','overall_score','test_score','train_score','weight']].prep()#.fillna(0)\n",
    "    grp = [k for k in self.summary.index.names if k!= 'sim']\n",
    "    self.rslt = {str(stat): self.summary.groupby(grp).agg(stat) for stat in self.stats}\n",
    "    self.rslt[' 50%'].disp(100)\n",
    "    return self.summary\n",
    "summarize(self)"
   ]
  },
  {
   "cell_type": "code",
   "execution_count": null,
   "metadata": {},
   "outputs": [],
   "source": [
    "self.mlt"
   ]
  },
  {
   "cell_type": "code",
   "execution_count": null,
   "metadata": {},
   "outputs": [],
   "source": [
    "self.mlt.query(\"crse_code=='ansc1119'\")"
   ]
  },
  {
   "cell_type": "code",
   "execution_count": null,
   "metadata": {},
   "outputs": [],
   "source": [
    "sp.optiminze.show_options('minimize_scalar', method='bounded')"
   ]
  },
  {
   "cell_type": "code",
   "execution_count": null,
   "metadata": {},
   "outputs": [],
   "source": [
    "self.mlt.query(\"crse_code.isin(['chem1407','kine2315','kine2319','kine3319','fina1360'])\").sort_values(['styp_code','crse_code','pred_code']).reset_index()"
   ]
  },
  {
   "cell_type": "code",
   "execution_count": null,
   "metadata": {},
   "outputs": [],
   "source": [
    "self.mlt.query(\"crse_code=='chem1407'\").prep()"
   ]
  }
 ],
 "metadata": {
  "kernelspec": {
   "display_name": "my3.11",
   "language": "python",
   "name": "python3"
  },
  "language_info": {
   "codemirror_mode": {
    "name": "ipython",
    "version": 3
   },
   "file_extension": ".py",
   "mimetype": "text/x-python",
   "name": "python",
   "nbconvert_exporter": "python",
   "pygments_lexer": "ipython3",
   "version": "3.11.8"
  }
 },
 "nbformat": 4,
 "nbformat_minor": 2
}
