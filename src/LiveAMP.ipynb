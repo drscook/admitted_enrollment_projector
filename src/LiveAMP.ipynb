{
 "cells": [
  {
   "cell_type": "markdown",
   "metadata": {},
   "source": [
    "- trf\n",
    "    - ca37: distance=passthrough\n",
    "    - fa15: distance=pwr\n",
    "- imp\n",
    "    - 2474: tune=False\n",
    "    - 20cf: tune=True\n",
    "- clf\n",
    "    - 2c44: ensemble=True, time=20\n",
    "    - 25f2: ensemble=False, time=20"
   ]
  },
  {
   "cell_type": "code",
   "execution_count": 1,
   "metadata": {},
   "outputs": [
    {
     "name": "stdout",
     "output_type": "stream",
     "text": [
      "creating stack.pkl: Elapsed time: 35.9009 seconds\n"
     ]
    }
   ],
   "source": [
    "from LiveAMP import *\n",
    "# Flags().run()\n",
    "\n",
    "# self = AMP(cycle_day=126, styp_code='n', crse_code='_allcrse', param=cartesian(param_dcts)[0])\n",
    "self = run_amp(119)#, overwrite=[])\n",
    "# # self.get_X()\n",
    "# self.get_summary()\n",
    "# R = self.rslt[' 50%']\n",
    "# R.disp(1000)\n",
    "# self = get_stack(126)\n"
   ]
  },
  {
   "cell_type": "code",
   "execution_count": 2,
   "metadata": {},
   "outputs": [
    {
     "data": {
      "text/html": [
       "<div>\n",
       "<style scoped>\n",
       "    .dataframe tbody tr th:only-of-type {\n",
       "        vertical-align: middle;\n",
       "    }\n",
       "\n",
       "    .dataframe tbody tr th {\n",
       "        vertical-align: top;\n",
       "    }\n",
       "\n",
       "    .dataframe thead th {\n",
       "        text-align: right;\n",
       "    }\n",
       "</style>\n",
       "<table border=\"1\" class=\"dataframe\">\n",
       "  <thead>\n",
       "    <tr style=\"text-align: right;\">\n",
       "      <th></th>\n",
       "      <th></th>\n",
       "      <th></th>\n",
       "      <th></th>\n",
       "      <th></th>\n",
       "      <th></th>\n",
       "      <th>cycle_day</th>\n",
       "      <th>apdc_day</th>\n",
       "      <th>appl_day</th>\n",
       "      <th>birth_day</th>\n",
       "      <th>end_date</th>\n",
       "      <th>cycle_date</th>\n",
       "      <th>apdc_date</th>\n",
       "      <th>appl_date</th>\n",
       "      <th>birth_date</th>\n",
       "      <th>term_code_entry</th>\n",
       "      <th>...</th>\n",
       "      <th>remote_missing</th>\n",
       "      <th>resd_missing</th>\n",
       "      <th>lgcy_missing</th>\n",
       "      <th>majr_desc_missing</th>\n",
       "      <th>dept_code_missing</th>\n",
       "      <th>dept_desc_missing</th>\n",
       "      <th>coll_code_missing</th>\n",
       "      <th>coll_desc_missing</th>\n",
       "      <th>actual</th>\n",
       "      <th>proba</th>\n",
       "    </tr>\n",
       "    <tr>\n",
       "      <th>idx</th>\n",
       "      <th>id</th>\n",
       "      <th>pidm</th>\n",
       "      <th>levl_code</th>\n",
       "      <th>styp_code</th>\n",
       "      <th>pred_code</th>\n",
       "      <th></th>\n",
       "      <th></th>\n",
       "      <th></th>\n",
       "      <th></th>\n",
       "      <th></th>\n",
       "      <th></th>\n",
       "      <th></th>\n",
       "      <th></th>\n",
       "      <th></th>\n",
       "      <th></th>\n",
       "      <th></th>\n",
       "      <th></th>\n",
       "      <th></th>\n",
       "      <th></th>\n",
       "      <th></th>\n",
       "      <th></th>\n",
       "      <th></th>\n",
       "      <th></th>\n",
       "      <th></th>\n",
       "      <th></th>\n",
       "      <th></th>\n",
       "    </tr>\n",
       "  </thead>\n",
       "  <tbody>\n",
       "    <tr>\n",
       "      <th>30540</th>\n",
       "      <th>1122682</th>\n",
       "      <th>1121948</th>\n",
       "      <th>ug</th>\n",
       "      <th>n</th>\n",
       "      <th>202408</th>\n",
       "      <td>119</td>\n",
       "      <td>193</td>\n",
       "      <td>313</td>\n",
       "      <td>6687</td>\n",
       "      <td>2024-09-11</td>\n",
       "      <td>2024-05-15</td>\n",
       "      <td>2024-03-02</td>\n",
       "      <td>2023-11-03</td>\n",
       "      <td>2006-05-22</td>\n",
       "      <td>202408</td>\n",
       "      <td>...</td>\n",
       "      <td>False</td>\n",
       "      <td>False</td>\n",
       "      <td>False</td>\n",
       "      <td>False</td>\n",
       "      <td>False</td>\n",
       "      <td>False</td>\n",
       "      <td>False</td>\n",
       "      <td>False</td>\n",
       "      <td>False</td>\n",
       "      <td>0.028088</td>\n",
       "    </tr>\n",
       "    <tr>\n",
       "      <th>1413</th>\n",
       "      <th>1033877</th>\n",
       "      <th>1033132</th>\n",
       "      <th>ug</th>\n",
       "      <th>n</th>\n",
       "      <th>202108</th>\n",
       "      <td>119</td>\n",
       "      <td>327</td>\n",
       "      <td>347</td>\n",
       "      <td>6800</td>\n",
       "      <td>2021-09-08</td>\n",
       "      <td>2021-05-12</td>\n",
       "      <td>2020-10-16</td>\n",
       "      <td>2020-09-26</td>\n",
       "      <td>2003-01-26</td>\n",
       "      <td>202108</td>\n",
       "      <td>...</td>\n",
       "      <td>False</td>\n",
       "      <td>False</td>\n",
       "      <td>False</td>\n",
       "      <td>False</td>\n",
       "      <td>False</td>\n",
       "      <td>False</td>\n",
       "      <td>False</td>\n",
       "      <td>False</td>\n",
       "      <td>False</td>\n",
       "      <td>0.022435</td>\n",
       "    </tr>\n",
       "    <tr>\n",
       "      <th>11142</th>\n",
       "      <th>1064361</th>\n",
       "      <th>1063619</th>\n",
       "      <th>ug</th>\n",
       "      <th>n</th>\n",
       "      <th>202208</th>\n",
       "      <td>119</td>\n",
       "      <td>301</td>\n",
       "      <td>334</td>\n",
       "      <td>6897</td>\n",
       "      <td>2022-09-07</td>\n",
       "      <td>2022-05-11</td>\n",
       "      <td>2021-11-10</td>\n",
       "      <td>2021-10-08</td>\n",
       "      <td>2003-10-20</td>\n",
       "      <td>202208</td>\n",
       "      <td>...</td>\n",
       "      <td>False</td>\n",
       "      <td>False</td>\n",
       "      <td>False</td>\n",
       "      <td>False</td>\n",
       "      <td>False</td>\n",
       "      <td>False</td>\n",
       "      <td>False</td>\n",
       "      <td>False</td>\n",
       "      <td>True</td>\n",
       "      <td>0.785748</td>\n",
       "    </tr>\n",
       "    <tr>\n",
       "      <th>11278</th>\n",
       "      <th>1064650</th>\n",
       "      <th>1063908</th>\n",
       "      <th>ug</th>\n",
       "      <th>n</th>\n",
       "      <th>202208</th>\n",
       "      <td>119</td>\n",
       "      <td>322</td>\n",
       "      <td>329</td>\n",
       "      <td>6719</td>\n",
       "      <td>2022-09-07</td>\n",
       "      <td>2022-05-11</td>\n",
       "      <td>2021-10-20</td>\n",
       "      <td>2021-10-13</td>\n",
       "      <td>2004-04-15</td>\n",
       "      <td>202208</td>\n",
       "      <td>...</td>\n",
       "      <td>False</td>\n",
       "      <td>False</td>\n",
       "      <td>False</td>\n",
       "      <td>False</td>\n",
       "      <td>False</td>\n",
       "      <td>False</td>\n",
       "      <td>False</td>\n",
       "      <td>False</td>\n",
       "      <td>False</td>\n",
       "      <td>0.014598</td>\n",
       "    </tr>\n",
       "    <tr>\n",
       "      <th>13224</th>\n",
       "      <th>1071392</th>\n",
       "      <th>1070651</th>\n",
       "      <th>ug</th>\n",
       "      <th>n</th>\n",
       "      <th>202208</th>\n",
       "      <td>119</td>\n",
       "      <td>279</td>\n",
       "      <td>281</td>\n",
       "      <td>6809</td>\n",
       "      <td>2022-09-07</td>\n",
       "      <td>2022-05-11</td>\n",
       "      <td>2021-12-02</td>\n",
       "      <td>2021-11-30</td>\n",
       "      <td>2004-01-16</td>\n",
       "      <td>202208</td>\n",
       "      <td>...</td>\n",
       "      <td>False</td>\n",
       "      <td>False</td>\n",
       "      <td>False</td>\n",
       "      <td>False</td>\n",
       "      <td>False</td>\n",
       "      <td>False</td>\n",
       "      <td>False</td>\n",
       "      <td>False</td>\n",
       "      <td>False</td>\n",
       "      <td>0.017306</td>\n",
       "    </tr>\n",
       "    <tr>\n",
       "      <th>...</th>\n",
       "      <th>...</th>\n",
       "      <th>...</th>\n",
       "      <th>...</th>\n",
       "      <th>...</th>\n",
       "      <th>...</th>\n",
       "      <td>...</td>\n",
       "      <td>...</td>\n",
       "      <td>...</td>\n",
       "      <td>...</td>\n",
       "      <td>...</td>\n",
       "      <td>...</td>\n",
       "      <td>...</td>\n",
       "      <td>...</td>\n",
       "      <td>...</td>\n",
       "      <td>...</td>\n",
       "      <td>...</td>\n",
       "      <td>...</td>\n",
       "      <td>...</td>\n",
       "      <td>...</td>\n",
       "      <td>...</td>\n",
       "      <td>...</td>\n",
       "      <td>...</td>\n",
       "      <td>...</td>\n",
       "      <td>...</td>\n",
       "      <td>...</td>\n",
       "      <td>...</td>\n",
       "    </tr>\n",
       "    <tr>\n",
       "      <th>1794</th>\n",
       "      <th>1037430</th>\n",
       "      <th>1036685</th>\n",
       "      <th>ug</th>\n",
       "      <th>n</th>\n",
       "      <th>202108</th>\n",
       "      <td>119</td>\n",
       "      <td>266</td>\n",
       "      <td>431</td>\n",
       "      <td>6897</td>\n",
       "      <td>2021-09-08</td>\n",
       "      <td>2021-05-12</td>\n",
       "      <td>2020-12-16</td>\n",
       "      <td>2020-07-04</td>\n",
       "      <td>2002-10-21</td>\n",
       "      <td>202108</td>\n",
       "      <td>...</td>\n",
       "      <td>False</td>\n",
       "      <td>False</td>\n",
       "      <td>False</td>\n",
       "      <td>False</td>\n",
       "      <td>False</td>\n",
       "      <td>False</td>\n",
       "      <td>False</td>\n",
       "      <td>False</td>\n",
       "      <td>True</td>\n",
       "      <td>0.981509</td>\n",
       "    </tr>\n",
       "    <tr>\n",
       "      <th>27369</th>\n",
       "      <th>1116256</th>\n",
       "      <th>1115519</th>\n",
       "      <th>ug</th>\n",
       "      <th>n</th>\n",
       "      <th>202408</th>\n",
       "      <td>119</td>\n",
       "      <td>352</td>\n",
       "      <td>369</td>\n",
       "      <td>6679</td>\n",
       "      <td>2024-09-11</td>\n",
       "      <td>2024-05-15</td>\n",
       "      <td>2023-09-25</td>\n",
       "      <td>2023-09-08</td>\n",
       "      <td>2006-05-30</td>\n",
       "      <td>202408</td>\n",
       "      <td>...</td>\n",
       "      <td>False</td>\n",
       "      <td>False</td>\n",
       "      <td>False</td>\n",
       "      <td>False</td>\n",
       "      <td>False</td>\n",
       "      <td>False</td>\n",
       "      <td>False</td>\n",
       "      <td>False</td>\n",
       "      <td>False</td>\n",
       "      <td>0.877298</td>\n",
       "    </tr>\n",
       "    <tr>\n",
       "      <th>30579</th>\n",
       "      <th>1122769</th>\n",
       "      <th>1122035</th>\n",
       "      <th>ug</th>\n",
       "      <th>n</th>\n",
       "      <th>202408</th>\n",
       "      <td>119</td>\n",
       "      <td>277</td>\n",
       "      <td>312</td>\n",
       "      <td>6887</td>\n",
       "      <td>2024-09-11</td>\n",
       "      <td>2024-05-15</td>\n",
       "      <td>2023-12-09</td>\n",
       "      <td>2023-11-04</td>\n",
       "      <td>2005-11-03</td>\n",
       "      <td>202408</td>\n",
       "      <td>...</td>\n",
       "      <td>False</td>\n",
       "      <td>False</td>\n",
       "      <td>False</td>\n",
       "      <td>False</td>\n",
       "      <td>False</td>\n",
       "      <td>False</td>\n",
       "      <td>False</td>\n",
       "      <td>False</td>\n",
       "      <td>False</td>\n",
       "      <td>0.015157</td>\n",
       "    </tr>\n",
       "    <tr>\n",
       "      <th>16948</th>\n",
       "      <th>1082746</th>\n",
       "      <th>1082005</th>\n",
       "      <th>ug</th>\n",
       "      <th>n</th>\n",
       "      <th>202308</th>\n",
       "      <td>119</td>\n",
       "      <td>439</td>\n",
       "      <td>439</td>\n",
       "      <td>6908</td>\n",
       "      <td>2023-09-13</td>\n",
       "      <td>2023-05-17</td>\n",
       "      <td>2022-07-01</td>\n",
       "      <td>2022-07-01</td>\n",
       "      <td>2004-10-14</td>\n",
       "      <td>202308</td>\n",
       "      <td>...</td>\n",
       "      <td>False</td>\n",
       "      <td>False</td>\n",
       "      <td>False</td>\n",
       "      <td>False</td>\n",
       "      <td>False</td>\n",
       "      <td>False</td>\n",
       "      <td>False</td>\n",
       "      <td>False</td>\n",
       "      <td>True</td>\n",
       "      <td>0.993926</td>\n",
       "    </tr>\n",
       "    <tr>\n",
       "      <th>16059</th>\n",
       "      <th>1078027</th>\n",
       "      <th>1077286</th>\n",
       "      <th>ug</th>\n",
       "      <th>n</th>\n",
       "      <th>202308</th>\n",
       "      <td>119</td>\n",
       "      <td>247</td>\n",
       "      <td>434</td>\n",
       "      <td>6756</td>\n",
       "      <td>2023-09-13</td>\n",
       "      <td>2023-05-17</td>\n",
       "      <td>2023-01-09</td>\n",
       "      <td>2022-07-06</td>\n",
       "      <td>2005-03-15</td>\n",
       "      <td>202308</td>\n",
       "      <td>...</td>\n",
       "      <td>False</td>\n",
       "      <td>False</td>\n",
       "      <td>False</td>\n",
       "      <td>False</td>\n",
       "      <td>False</td>\n",
       "      <td>False</td>\n",
       "      <td>False</td>\n",
       "      <td>False</td>\n",
       "      <td>False</td>\n",
       "      <td>0.039609</td>\n",
       "    </tr>\n",
       "  </tbody>\n",
       "</table>\n",
       "<p>30142 rows × 141 columns</p>\n",
       "</div>"
      ],
      "text/plain": [
       "                                                     cycle_day  apdc_day  \\\n",
       "idx   id      pidm    levl_code styp_code pred_code                        \n",
       "30540 1122682 1121948 ug        n         202408           119       193   \n",
       "1413  1033877 1033132 ug        n         202108           119       327   \n",
       "11142 1064361 1063619 ug        n         202208           119       301   \n",
       "11278 1064650 1063908 ug        n         202208           119       322   \n",
       "13224 1071392 1070651 ug        n         202208           119       279   \n",
       "...                                                        ...       ...   \n",
       "1794  1037430 1036685 ug        n         202108           119       266   \n",
       "27369 1116256 1115519 ug        n         202408           119       352   \n",
       "30579 1122769 1122035 ug        n         202408           119       277   \n",
       "16948 1082746 1082005 ug        n         202308           119       439   \n",
       "16059 1078027 1077286 ug        n         202308           119       247   \n",
       "\n",
       "                                                     appl_day  birth_day  \\\n",
       "idx   id      pidm    levl_code styp_code pred_code                        \n",
       "30540 1122682 1121948 ug        n         202408          313       6687   \n",
       "1413  1033877 1033132 ug        n         202108          347       6800   \n",
       "11142 1064361 1063619 ug        n         202208          334       6897   \n",
       "11278 1064650 1063908 ug        n         202208          329       6719   \n",
       "13224 1071392 1070651 ug        n         202208          281       6809   \n",
       "...                                                       ...        ...   \n",
       "1794  1037430 1036685 ug        n         202108          431       6897   \n",
       "27369 1116256 1115519 ug        n         202408          369       6679   \n",
       "30579 1122769 1122035 ug        n         202408          312       6887   \n",
       "16948 1082746 1082005 ug        n         202308          439       6908   \n",
       "16059 1078027 1077286 ug        n         202308          434       6756   \n",
       "\n",
       "                                                      end_date cycle_date  \\\n",
       "idx   id      pidm    levl_code styp_code pred_code                         \n",
       "30540 1122682 1121948 ug        n         202408    2024-09-11 2024-05-15   \n",
       "1413  1033877 1033132 ug        n         202108    2021-09-08 2021-05-12   \n",
       "11142 1064361 1063619 ug        n         202208    2022-09-07 2022-05-11   \n",
       "11278 1064650 1063908 ug        n         202208    2022-09-07 2022-05-11   \n",
       "13224 1071392 1070651 ug        n         202208    2022-09-07 2022-05-11   \n",
       "...                                                        ...        ...   \n",
       "1794  1037430 1036685 ug        n         202108    2021-09-08 2021-05-12   \n",
       "27369 1116256 1115519 ug        n         202408    2024-09-11 2024-05-15   \n",
       "30579 1122769 1122035 ug        n         202408    2024-09-11 2024-05-15   \n",
       "16948 1082746 1082005 ug        n         202308    2023-09-13 2023-05-17   \n",
       "16059 1078027 1077286 ug        n         202308    2023-09-13 2023-05-17   \n",
       "\n",
       "                                                     apdc_date  appl_date  \\\n",
       "idx   id      pidm    levl_code styp_code pred_code                         \n",
       "30540 1122682 1121948 ug        n         202408    2024-03-02 2023-11-03   \n",
       "1413  1033877 1033132 ug        n         202108    2020-10-16 2020-09-26   \n",
       "11142 1064361 1063619 ug        n         202208    2021-11-10 2021-10-08   \n",
       "11278 1064650 1063908 ug        n         202208    2021-10-20 2021-10-13   \n",
       "13224 1071392 1070651 ug        n         202208    2021-12-02 2021-11-30   \n",
       "...                                                        ...        ...   \n",
       "1794  1037430 1036685 ug        n         202108    2020-12-16 2020-07-04   \n",
       "27369 1116256 1115519 ug        n         202408    2023-09-25 2023-09-08   \n",
       "30579 1122769 1122035 ug        n         202408    2023-12-09 2023-11-04   \n",
       "16948 1082746 1082005 ug        n         202308    2022-07-01 2022-07-01   \n",
       "16059 1078027 1077286 ug        n         202308    2023-01-09 2022-07-06   \n",
       "\n",
       "                                                    birth_date  \\\n",
       "idx   id      pidm    levl_code styp_code pred_code              \n",
       "30540 1122682 1121948 ug        n         202408    2006-05-22   \n",
       "1413  1033877 1033132 ug        n         202108    2003-01-26   \n",
       "11142 1064361 1063619 ug        n         202208    2003-10-20   \n",
       "11278 1064650 1063908 ug        n         202208    2004-04-15   \n",
       "13224 1071392 1070651 ug        n         202208    2004-01-16   \n",
       "...                                                        ...   \n",
       "1794  1037430 1036685 ug        n         202108    2002-10-21   \n",
       "27369 1116256 1115519 ug        n         202408    2006-05-30   \n",
       "30579 1122769 1122035 ug        n         202408    2005-11-03   \n",
       "16948 1082746 1082005 ug        n         202308    2004-10-14   \n",
       "16059 1078027 1077286 ug        n         202308    2005-03-15   \n",
       "\n",
       "                                                     term_code_entry  ...  \\\n",
       "idx   id      pidm    levl_code styp_code pred_code                   ...   \n",
       "30540 1122682 1121948 ug        n         202408              202408  ...   \n",
       "1413  1033877 1033132 ug        n         202108              202108  ...   \n",
       "11142 1064361 1063619 ug        n         202208              202208  ...   \n",
       "11278 1064650 1063908 ug        n         202208              202208  ...   \n",
       "13224 1071392 1070651 ug        n         202208              202208  ...   \n",
       "...                                                              ...  ...   \n",
       "1794  1037430 1036685 ug        n         202108              202108  ...   \n",
       "27369 1116256 1115519 ug        n         202408              202408  ...   \n",
       "30579 1122769 1122035 ug        n         202408              202408  ...   \n",
       "16948 1082746 1082005 ug        n         202308              202308  ...   \n",
       "16059 1078027 1077286 ug        n         202308              202308  ...   \n",
       "\n",
       "                                                    remote_missing  \\\n",
       "idx   id      pidm    levl_code styp_code pred_code                  \n",
       "30540 1122682 1121948 ug        n         202408             False   \n",
       "1413  1033877 1033132 ug        n         202108             False   \n",
       "11142 1064361 1063619 ug        n         202208             False   \n",
       "11278 1064650 1063908 ug        n         202208             False   \n",
       "13224 1071392 1070651 ug        n         202208             False   \n",
       "...                                                            ...   \n",
       "1794  1037430 1036685 ug        n         202108             False   \n",
       "27369 1116256 1115519 ug        n         202408             False   \n",
       "30579 1122769 1122035 ug        n         202408             False   \n",
       "16948 1082746 1082005 ug        n         202308             False   \n",
       "16059 1078027 1077286 ug        n         202308             False   \n",
       "\n",
       "                                                     resd_missing  \\\n",
       "idx   id      pidm    levl_code styp_code pred_code                 \n",
       "30540 1122682 1121948 ug        n         202408            False   \n",
       "1413  1033877 1033132 ug        n         202108            False   \n",
       "11142 1064361 1063619 ug        n         202208            False   \n",
       "11278 1064650 1063908 ug        n         202208            False   \n",
       "13224 1071392 1070651 ug        n         202208            False   \n",
       "...                                                           ...   \n",
       "1794  1037430 1036685 ug        n         202108            False   \n",
       "27369 1116256 1115519 ug        n         202408            False   \n",
       "30579 1122769 1122035 ug        n         202408            False   \n",
       "16948 1082746 1082005 ug        n         202308            False   \n",
       "16059 1078027 1077286 ug        n         202308            False   \n",
       "\n",
       "                                                    lgcy_missing  \\\n",
       "idx   id      pidm    levl_code styp_code pred_code                \n",
       "30540 1122682 1121948 ug        n         202408           False   \n",
       "1413  1033877 1033132 ug        n         202108           False   \n",
       "11142 1064361 1063619 ug        n         202208           False   \n",
       "11278 1064650 1063908 ug        n         202208           False   \n",
       "13224 1071392 1070651 ug        n         202208           False   \n",
       "...                                                          ...   \n",
       "1794  1037430 1036685 ug        n         202108           False   \n",
       "27369 1116256 1115519 ug        n         202408           False   \n",
       "30579 1122769 1122035 ug        n         202408           False   \n",
       "16948 1082746 1082005 ug        n         202308           False   \n",
       "16059 1078027 1077286 ug        n         202308           False   \n",
       "\n",
       "                                                    majr_desc_missing  \\\n",
       "idx   id      pidm    levl_code styp_code pred_code                     \n",
       "30540 1122682 1121948 ug        n         202408                False   \n",
       "1413  1033877 1033132 ug        n         202108                False   \n",
       "11142 1064361 1063619 ug        n         202208                False   \n",
       "11278 1064650 1063908 ug        n         202208                False   \n",
       "13224 1071392 1070651 ug        n         202208                False   \n",
       "...                                                               ...   \n",
       "1794  1037430 1036685 ug        n         202108                False   \n",
       "27369 1116256 1115519 ug        n         202408                False   \n",
       "30579 1122769 1122035 ug        n         202408                False   \n",
       "16948 1082746 1082005 ug        n         202308                False   \n",
       "16059 1078027 1077286 ug        n         202308                False   \n",
       "\n",
       "                                                    dept_code_missing  \\\n",
       "idx   id      pidm    levl_code styp_code pred_code                     \n",
       "30540 1122682 1121948 ug        n         202408                False   \n",
       "1413  1033877 1033132 ug        n         202108                False   \n",
       "11142 1064361 1063619 ug        n         202208                False   \n",
       "11278 1064650 1063908 ug        n         202208                False   \n",
       "13224 1071392 1070651 ug        n         202208                False   \n",
       "...                                                               ...   \n",
       "1794  1037430 1036685 ug        n         202108                False   \n",
       "27369 1116256 1115519 ug        n         202408                False   \n",
       "30579 1122769 1122035 ug        n         202408                False   \n",
       "16948 1082746 1082005 ug        n         202308                False   \n",
       "16059 1078027 1077286 ug        n         202308                False   \n",
       "\n",
       "                                                    dept_desc_missing  \\\n",
       "idx   id      pidm    levl_code styp_code pred_code                     \n",
       "30540 1122682 1121948 ug        n         202408                False   \n",
       "1413  1033877 1033132 ug        n         202108                False   \n",
       "11142 1064361 1063619 ug        n         202208                False   \n",
       "11278 1064650 1063908 ug        n         202208                False   \n",
       "13224 1071392 1070651 ug        n         202208                False   \n",
       "...                                                               ...   \n",
       "1794  1037430 1036685 ug        n         202108                False   \n",
       "27369 1116256 1115519 ug        n         202408                False   \n",
       "30579 1122769 1122035 ug        n         202408                False   \n",
       "16948 1082746 1082005 ug        n         202308                False   \n",
       "16059 1078027 1077286 ug        n         202308                False   \n",
       "\n",
       "                                                    coll_code_missing  \\\n",
       "idx   id      pidm    levl_code styp_code pred_code                     \n",
       "30540 1122682 1121948 ug        n         202408                False   \n",
       "1413  1033877 1033132 ug        n         202108                False   \n",
       "11142 1064361 1063619 ug        n         202208                False   \n",
       "11278 1064650 1063908 ug        n         202208                False   \n",
       "13224 1071392 1070651 ug        n         202208                False   \n",
       "...                                                               ...   \n",
       "1794  1037430 1036685 ug        n         202108                False   \n",
       "27369 1116256 1115519 ug        n         202408                False   \n",
       "30579 1122769 1122035 ug        n         202408                False   \n",
       "16948 1082746 1082005 ug        n         202308                False   \n",
       "16059 1078027 1077286 ug        n         202308                False   \n",
       "\n",
       "                                                    coll_desc_missing actual  \\\n",
       "idx   id      pidm    levl_code styp_code pred_code                            \n",
       "30540 1122682 1121948 ug        n         202408                False  False   \n",
       "1413  1033877 1033132 ug        n         202108                False  False   \n",
       "11142 1064361 1063619 ug        n         202208                False   True   \n",
       "11278 1064650 1063908 ug        n         202208                False  False   \n",
       "13224 1071392 1070651 ug        n         202208                False  False   \n",
       "...                                                               ...    ...   \n",
       "1794  1037430 1036685 ug        n         202108                False   True   \n",
       "27369 1116256 1115519 ug        n         202408                False  False   \n",
       "30579 1122769 1122035 ug        n         202408                False  False   \n",
       "16948 1082746 1082005 ug        n         202308                False   True   \n",
       "16059 1078027 1077286 ug        n         202308                False  False   \n",
       "\n",
       "                                                        proba  \n",
       "idx   id      pidm    levl_code styp_code pred_code            \n",
       "30540 1122682 1121948 ug        n         202408     0.028088  \n",
       "1413  1033877 1033132 ug        n         202108     0.022435  \n",
       "11142 1064361 1063619 ug        n         202208     0.785748  \n",
       "11278 1064650 1063908 ug        n         202208     0.014598  \n",
       "13224 1071392 1070651 ug        n         202208     0.017306  \n",
       "...                                                       ...  \n",
       "1794  1037430 1036685 ug        n         202108     0.981509  \n",
       "27369 1116256 1115519 ug        n         202408     0.877298  \n",
       "30579 1122769 1122035 ug        n         202408     0.015157  \n",
       "16948 1082746 1082005 ug        n         202308     0.993926  \n",
       "16059 1078027 1077286 ug        n         202308     0.039609  \n",
       "\n",
       "[30142 rows x 141 columns]"
      ]
     },
     "execution_count": 2,
     "metadata": {},
     "output_type": "execute_result"
    }
   ],
   "source": [
    "# self.stack['details']\n",
    "self.details"
   ]
  },
  {
   "cell_type": "code",
   "execution_count": null,
   "metadata": {},
   "outputs": [],
   "source": [
    "Y = self.stack['Y'].query(\"crse_code=='_allcrse'\").groupby('idx')[['actual','proba']].mean()\n",
    "A = self.get_pii().join(self.X).join(Y).prep(bool=True)\n",
    "A.disp(1)"
   ]
  },
  {
   "cell_type": "code",
   "execution_count": null,
   "metadata": {},
   "outputs": [],
   "source": [
    "w = read('/home/scook/institutional_data_analytics/admitted_matriculation_projection/resources/rslt2/119/Y/n/_allcrse/fa15/77d7/387d.pkl')\n",
    "w['Y']"
   ]
  },
  {
   "cell_type": "code",
   "execution_count": null,
   "metadata": {},
   "outputs": [],
   "source": [
    "self.X.dtypes.disp(1000)"
   ]
  },
  {
   "cell_type": "code",
   "execution_count": null,
   "metadata": {},
   "outputs": [],
   "source": [
    "# self.rslt_coll_desc.keys()\n",
    "self.rslt_gender[' 50%']"
   ]
  },
  {
   "cell_type": "code",
   "execution_count": null,
   "metadata": {},
   "outputs": [],
   "source": [
    "self.stack[' 50%']"
   ]
  },
  {
   "cell_type": "code",
   "execution_count": null,
   "metadata": {},
   "outputs": [],
   "source": [
    "from LiveAMP import *\n",
    "# run_amp(119)\n",
    "self = AMP(cycle_day=119, styp_code='n', crse_code='_allcrse', param=cartesian(param_dcts)[0])\n",
    "self.get_X()\n",
    "self.get_Y()\n",
    "# Z = self.X.join(self.Y)\n",
    "# Z = self.X.join(self.Y).query(f\"train_code==202408\")\n"
   ]
  },
  {
   "cell_type": "code",
   "execution_count": null,
   "metadata": {},
   "outputs": [],
   "source": [
    "w = read('/home/scook/institutional_data_analytics/admitted_matriculation_projection/resources/rslt2/119/rslt_crse_code/n/_allcrse/fa15/77d7/387d.pkl')\n",
    "w.keys()\n",
    "w['rslt_crse_code'].keys()"
   ]
  },
  {
   "cell_type": "code",
   "execution_count": null,
   "metadata": {},
   "outputs": [],
   "source": [
    "Z = self.X.join(self.Y, how='inner').reset_index()\n",
    "Z"
   ]
  },
  {
   "cell_type": "code",
   "execution_count": null,
   "metadata": {},
   "outputs": [],
   "source": [
    "col = 'coll_code'\n",
    "# col = 'crse_code'\n",
    "grp = uniquify([col,'crse_code','levl_code','styp_code','train_code','pred_code','trf_hash','imp_hash','clf_hash','sim'])\n",
    "S = Z.groupby(grp).apply(lambda y: pd.Series({\n",
    "    'actual': y['actual'].sum(),\n",
    "    'predicted': y['proba'].sum(),\n",
    "    'test_score': log_loss(y['actual'], y['proba'], labels=[False,True]) * 100,\n",
    "}), include_groups=False).join(self.train_score)\n",
    "proj_rgstr = f'{self.proj_code}_current'\n",
    "proj_pred = f'{self.proj_code}_projection'\n",
    "proj_chg = f'{self.proj_code}_change_pct'\n",
    "qry = f\"pred_code=={self.proj_code}\"\n",
    "S = (\n",
    "    S.query('not '+qry)\n",
    "    .join(S.query(qry)['predicted'].droplevel('pred_code').rename(proj_pred))\n",
    "    .join(S.query(qry)['actual'].droplevel('pred_code').rename(proj_rgstr))\n",
    "    # .join(self.mlt.query(qry)['regstr'].droplevel('pred_code').rename(proj_rgstr))\n",
    "    .join(self.mlt['mlt'])\n",
    "    .sort_index()\n",
    ").prep().fillna(0)\n",
    "S['predicted'] *= S['actual'] > 0\n",
    "for k in ['actual','predicted',proj_pred]:\n",
    "    S[k] *= S['mlt']\n",
    "S.loc[S.eval('predicted==0'), 'predicted':proj_pred] = pd.NA\n",
    "S[202308] = S.groupby(S.index.names.difference({'pred_code'})).transform('last')['actual']\n",
    "S[proj_chg] = (S[proj_pred] / S.groupby(S.index.names.difference({'pred_code'})).transform('last')['actual'] - 1) * 100\n",
    "alpha = 1\n",
    "S['overall_score'] = (S['train_score'] + alpha * S['test_score']) / (1 + alpha)\n",
    "S['error'] = S['predicted'] - S['actual']\n",
    "S['error_pct'] = S['error'] / S['actual'] * 100\n",
    "S = S[[proj_rgstr,proj_pred,proj_chg,'actual','predicted','error','error_pct','overall_score','test_score','train_score','mlt']].reset_index().prep()\n",
    "S['train_code'] = S['train_code'].astype('string').replace(str(self.proj_code), 'all')\n",
    "self.summary = S#.sort_values(['train_code','pred_code'], ascending=False)\n",
    "grp.remove('sim')\n",
    "self.rslt = {str(stat): self.summary.drop(columns='sim').groupby(grp).agg(stat).sort_index(ascending=False) for stat in self.stats}\n",
    "self.rslt[' 50%'].disp(100)\n",
    "# S.disp(100)"
   ]
  },
  {
   "cell_type": "code",
   "execution_count": null,
   "metadata": {},
   "outputs": [],
   "source": [
    "S.disp(100)"
   ]
  },
  {
   "cell_type": "code",
   "execution_count": null,
   "metadata": {},
   "outputs": [],
   "source": [
    "S"
   ]
  },
  {
   "cell_type": "code",
   "execution_count": null,
   "metadata": {},
   "outputs": [],
   "source": [
    "\n",
    "cols = [\n",
    "    'actual',\n",
    "    # 'styp_code',\n",
    "    # 'coll_desc',\n",
    "    # 'dept_desc',\n",
    "    # 'majr_desc',\n",
    "    # 'camp_desc',\n",
    "    # 'stat_desc',\n",
    "]\n",
    "\n",
    "for col in cols:\n",
    "    A = Z.groupby([col,'pred_code','sim'])[['proba','actual']].sum()#.groupby([col,'pred_code']).mean()#.rename(columns={'proba':'predicted'})\n",
    "    # A['err'] = A['predicted'] - A['actual']\n",
    "    # A['err_pct'] = A['err'] / A['actual'] * 100\n",
    "    # A.loc[A.eval(f\"pred_code=={self.proj_code}\"), 'err':] = pd.NA\n",
    "    # A.round(1).prep().disp(100)\n",
    "# .round().prep()\n",
    "A"
   ]
  },
  {
   "cell_type": "code",
   "execution_count": null,
   "metadata": {},
   "outputs": [],
   "source": [
    "from LiveAMP import *\n",
    "w = read('/home/scook/institutional_data_analytics/admitted_matriculation_projection/resources/rslt2/119/Y/n/_allcrse/fa15/77d7/387d.pkl')\n",
    "dct = w['train_score']\n",
    "pd.Series(dct, name='train_score').rename_axis('pred_code')\n",
    "# pd.Series.from_dict(dct, orient='index')"
   ]
  },
  {
   "cell_type": "code",
   "execution_count": null,
   "metadata": {},
   "outputs": [],
   "source": []
  },
  {
   "cell_type": "code",
   "execution_count": null,
   "metadata": {},
   "outputs": [],
   "source": [
    "# getsizeof(w['clf'])\n",
    "clf = w['clf']#[202208]\n",
    "write('/home/scook/institutional_data_analytics/admitted_matriculation_projection/resources/temp/temp.pkl', clf)"
   ]
  },
  {
   "cell_type": "code",
   "execution_count": null,
   "metadata": {},
   "outputs": [],
   "source": [
    "from LiveAMP import *\n",
    "self = AMP(cycle_day=119, styp_code='n', crse_code='_allcrse', param=cartesian(param_dcts)[0])\n",
    "self.get_X()\n",
    "self.get_Y()\n",
    "# Z = self.X.join(self.Y)\n",
    "Z = self.Y.query(f\"train_code==202408\").join(self.X)"
   ]
  },
  {
   "cell_type": "code",
   "execution_count": null,
   "metadata": {},
   "outputs": [],
   "source": [
    "# self.Y.query(\"styp_code=='n'\").shape[0] / self.X.query(\"styp_code=='n'\").shape[0]\n",
    "# self.Y\n",
    "self.X.query(\"styp_code=='n'\").shape, Z.shape"
   ]
  },
  {
   "cell_type": "code",
   "execution_count": null,
   "metadata": {},
   "outputs": [],
   "source": [
    "self.Y.shape, Z.shape"
   ]
  },
  {
   "cell_type": "code",
   "execution_count": null,
   "metadata": {},
   "outputs": [],
   "source": [
    "Z.groupby(['pred_code','styp_code','sim'])['actual'].sum()"
   ]
  },
  {
   "cell_type": "code",
   "execution_count": null,
   "metadata": {},
   "outputs": [],
   "source": [
    "Z.disp()"
   ]
  },
  {
   "cell_type": "code",
   "execution_count": null,
   "metadata": {},
   "outputs": [],
   "source": [
    "cols = [\n",
    "    'styp_code',\n",
    "    'coll_desc',\n",
    "    'dept_desc',\n",
    "    'majr_desc',\n",
    "    'camp_desc',\n",
    "    'stat_desc',\n",
    "]\n",
    "\n",
    "for col in cols:\n",
    "    A = Z.groupby([col,'pred_code','sim'])[['proba','actual']].sum().groupby([col,'pred_code']).mean().rename(columns={'proba':'predicted'})\n",
    "    A['err'] = A['predicted'] - A['actual']\n",
    "    A['err_pct'] = A['err'] / A['actual'] * 100\n",
    "    A.loc[A.eval(f\"pred_code=={self.proj_code}\"), 'err':] = pd.NA\n",
    "    A.round(1).prep().disp(100)\n",
    "# .round().prep()"
   ]
  },
  {
   "cell_type": "code",
   "execution_count": null,
   "metadata": {},
   "outputs": [],
   "source": [
    "dct = {'a':1,'b':2}\n",
    "df = pd.DataFrame()\n",
    "df['A'] = ['b','a']\n",
    "df['B'] = [12,pd.NA]\n",
    "# df['B'] = df['A'].map(dct)\n",
    "# df = df.assign(B=lambda x:x['A'].map(dct))\n",
    "# df\n",
    "\n",
    "# ser = pd.DataFrame.from_dict(dct, orient='index')\n",
    "# df = df.set_index('A')#.join(ser)\n",
    "# x = 'a'\n",
    "# df = df.query(\"A==@x\")\n",
    "df.fillna({'B':2}, inplace=True)\n",
    "# df.dtypes\n",
    "df"
   ]
  },
  {
   "cell_type": "code",
   "execution_count": null,
   "metadata": {},
   "outputs": [],
   "source": [
    "from LiveAMP import *\n",
    "T = MyBaseClass().load('/home/scook/institutional_data_analytics/admitted_matriculation_projection/resources/rslt/119/X.pkl')\n",
    "for k,v in T.y.items():\n",
    "    print(k)\n",
    "    v.disp()"
   ]
  },
  {
   "cell_type": "code",
   "execution_count": null,
   "metadata": {},
   "outputs": [],
   "source": [
    "T.terms[0][202108].reg.dtypes.disp(100)"
   ]
  },
  {
   "cell_type": "code",
   "execution_count": null,
   "metadata": {},
   "outputs": [],
   "source": [
    "b.model.estimator"
   ]
  },
  {
   "cell_type": "code",
   "execution_count": null,
   "metadata": {},
   "outputs": [],
   "source": [
    "b = dct['base']\n",
    "dir(b)\n",
    "est = b._trained_estimator.estimator\n",
    "est.set_params(enable_categorical=True)"
   ]
  },
  {
   "cell_type": "code",
   "execution_count": null,
   "metadata": {},
   "outputs": [],
   "source": [
    "from sklearn.calibration import CalibrationDisplay, CalibratedClassifierCV\n",
    "from sklearn.metrics import brier_score_loss\n",
    "def cal_disp(clf):\n",
    "    X = dct['base'].Z.copy()\n",
    "    clf.y_true = X.pop('actual')\n",
    "    clf.y_prob = clf.predict_proba(X)[:,1]\n",
    "    print(brier_score_loss(clf.y_true, clf.y_prob))\n",
    "    disp = CalibrationDisplay.from_predictions(clf.y_true, clf.y_prob, n_bins=20, strategy='quantile')\n",
    "    plt.show()\n",
    "\n",
    "def calibrate(method):\n",
    "    with Timer():\n",
    "        clf = CalibratedClassifierCV(dct['base']._trained_estimator.estimator.set_params(enable_categorical=True), method=method).fit(dct['base'].X, dct['base'].y)\n",
    "    cal_disp(clf)\n",
    "    return clf\n",
    "\n",
    "cal_disp(dct['base'])\n",
    "dct['iso'] = calibrate('isotonic')\n",
    "dct['sig'] = calibrate('sigmoid')\n"
   ]
  },
  {
   "cell_type": "code",
   "execution_count": null,
   "metadata": {},
   "outputs": [],
   "source": [
    "for k, clf in dct.items():\n",
    "    print(k, clf.y_true.sum(), clf.y_prob.sum())"
   ]
  },
  {
   "cell_type": "code",
   "execution_count": null,
   "metadata": {},
   "outputs": [],
   "source": [
    "from sklearn.calibration import calibration_curve, CalibrationDisplay\n",
    "prob_true, prob_pred = calibration_curve(clf.Y['actual'], clf.Y['proba'], n_bins=20)\n",
    "disp = CalibrationDisplay(prob_true, prob_pred, clf.Y['proba'])\n",
    "disp.plot()"
   ]
  },
  {
   "cell_type": "code",
   "execution_count": null,
   "metadata": {},
   "outputs": [],
   "source": [
    "clf = w['clf'][202408]\n",
    "clf.Y = w['Y']"
   ]
  },
  {
   "cell_type": "code",
   "execution_count": null,
   "metadata": {},
   "outputs": [],
   "source": [
    "qry = \"select max(A.current_date) from opeir.admissions_fall2024 A\"\n",
    "db.execute(qry)"
   ]
  },
  {
   "cell_type": "code",
   "execution_count": null,
   "metadata": {},
   "outputs": [],
   "source": [
    "w[202108]"
   ]
  },
  {
   "cell_type": "code",
   "execution_count": null,
   "metadata": {},
   "outputs": [],
   "source": [
    "from LiveAMP import *\n",
    "# w = read('/home/scook/institutional_data_analytics/admitted_matriculation_projection/resources/rslt2/126/Y/n/_allcrse/fa15/1bfb/88de.pkl')\n",
    "# getsizeof(w)\n",
    "w = fl.AutoML()\n",
    "w.fit?"
   ]
  },
  {
   "cell_type": "code",
   "execution_count": null,
   "metadata": {},
   "outputs": [],
   "source": [
    "\n",
    "S = self.summary.reset_index()\n",
    "S['train_code'] = S['train_code'].astype('string').replace(str(self.proj_code), 'all')\n",
    "# .prep()\n",
    "# )\n",
    "S\n"
   ]
  },
  {
   "cell_type": "code",
   "execution_count": null,
   "metadata": {},
   "outputs": [],
   "source": [
    "self.X.replace(202308, 1, )"
   ]
  },
  {
   "cell_type": "markdown",
   "metadata": {},
   "source": [
    "fl.AutoML(0)"
   ]
  },
  {
   "cell_type": "markdown",
   "metadata": {},
   "source": [
    "fl.AutoML()"
   ]
  },
  {
   "cell_type": "code",
   "execution_count": null,
   "metadata": {},
   "outputs": [],
   "source": [
    "fl.AutoML()"
   ]
  },
  {
   "cell_type": "code",
   "execution_count": null,
   "metadata": {},
   "outputs": [],
   "source": [
    "self.mlt.loc[('n',202408)].disp(1000)"
   ]
  },
  {
   "cell_type": "code",
   "execution_count": null,
   "metadata": {},
   "outputs": [],
   "source": [
    "self.mlt"
   ]
  },
  {
   "cell_type": "code",
   "execution_count": null,
   "metadata": {},
   "outputs": [],
   "source": [
    "self.summary"
   ]
  },
  {
   "cell_type": "code",
   "execution_count": null,
   "metadata": {},
   "outputs": [],
   "source": [
    "clf_dct = self.param['clf'][2] | {'task':'classification', 'verbose':0, 'time_budget':5}\n",
    "g = lambda y: y.query(f\"crse_code=='{self.crse_code}'\").droplevel('crse_code')\n",
    "Z_proc = (\n",
    "    self.X_proc\n",
    "    .join(  self.y['credit']) .fillna({'credit':0})\n",
    "    .join(g(self.y['regstr'])).fillna({'regstr':False})\n",
    "    .join(g(self.y['actual'])).fillna({'actual':False})\n",
    "    .addlevel({'crse_code':self.crse_code, 'clf_hash':self.param['clf'][0]})\n",
    "    .prep(bool=True, cat=True)\n",
    ")\n",
    "Z = Z_proc.query(f\"pred_code!={self.proj_code}\").copy()\n",
    "G = Z.query(f\"sim==0\").groupby(['pred_code','actual','__coll_code'], observed=True).ngroup().rename('grp').to_frame().rsindex('idx')"
   ]
  },
  {
   "cell_type": "code",
   "execution_count": null,
   "metadata": {},
   "outputs": [],
   "source": [
    "Z.groupby(['pred_code','sim']).filter(lambda x:x['actual'].sum()>0).vc('pred_code')"
   ]
  },
  {
   "cell_type": "code",
   "execution_count": null,
   "metadata": {},
   "outputs": [],
   "source": [
    "def train(self, train_code='all'):\n",
    "    X = Z.copy() if train_code == self.proj_code else Z.query(f\"pred_code=={train_code}\").copy()\n",
    "    y = X.pop('actual')\n",
    "    idx = G.groupby('grp').sample(frac=0.75, random_state=clf_dct['seed']).index\n",
    "    msk = X.eval('idx.isin(@idx)')\n",
    "    dct = clf_dct | {\n",
    "        'X_train':X[msk],\n",
    "        'y_train':y[msk],\n",
    "        'X_val':X[~msk],\n",
    "        'y_val':y[~msk],\n",
    "    }\n",
    "    self.clf = fl.AutoML(**dct)\n",
    "    self.clf.fit(**dct)\n",
    "    self.Y = Z_proc[['actual']].assign(proba=self.clf.predict_proba(Z_proc.drop(columns='actual'))[:,1]).prep(bool=True).copy()\n",
    "    self.train_score = self.clf.best_result['val_loss'] * 100\n",
    "    self.clf = self.clf._trained_estimator\n"
   ]
  },
  {
   "cell_type": "code",
   "execution_count": null,
   "metadata": {},
   "outputs": [],
   "source": [
    "X.vc('pred_code')"
   ]
  },
  {
   "cell_type": "code",
   "execution_count": null,
   "metadata": {},
   "outputs": [],
   "source": [
    "G = Z.query(f\"sim==0\").groupby(['pred_code','actual','__coll_code'], observed=True).ngroup().rename('grp').to_frame().rsindex('idx')"
   ]
  },
  {
   "cell_type": "code",
   "execution_count": null,
   "metadata": {},
   "outputs": [],
   "source": [
    "idx = G.groupby('grp').sample(frac=0.75, random_state=clf_dct['seed']).index\n",
    "trn = Z.query(f'idx.isin(@idx)')\n",
    "tst = Z.query(f'not idx.isin(@idx)')\n",
    "Z.shape, trn.shape, tst.shape"
   ]
  },
  {
   "cell_type": "code",
   "execution_count": null,
   "metadata": {},
   "outputs": [],
   "source": [
    "Z = Z.rename_axis(index={'index':'idx'})"
   ]
  },
  {
   "cell_type": "code",
   "execution_count": null,
   "metadata": {},
   "outputs": [],
   "source": [
    "t = G.groupby('grp').sample(frac=0.75, random_state=clf_dct['seed']).reset_index()['index']\n",
    "Z.query(\"idx==1602\")\n",
    "# Z.reset_index()['index'].isin(t)"
   ]
  },
  {
   "cell_type": "code",
   "execution_count": null,
   "metadata": {},
   "outputs": [],
   "source": [
    "trn, tst = train_test_split(X, y)#, stratify=g, train_size=0.75, random_state=clf_dct['seed'])"
   ]
  },
  {
   "cell_type": "code",
   "execution_count": null,
   "metadata": {},
   "outputs": [],
   "source": []
  },
  {
   "cell_type": "code",
   "execution_count": null,
   "metadata": {},
   "outputs": [],
   "source": []
  },
  {
   "cell_type": "code",
   "execution_count": null,
   "metadata": {},
   "outputs": [],
   "source": [
    "# def train(self, train_code=None):\n",
    "dct = clf_dct | {\n",
    "    'X_train':X_trn,\n",
    "    'y_train':y_trn,\n",
    "    # 'eval_method':'cv',\n",
    "    # 'n_splits':5,\n",
    "    # 'split_type':'stratified',\n",
    "    'X_val':X_tst,\n",
    "    'y_val':y_tst,\n",
    "    # 'sample_weight':1+(2*y[mask]-1)*wgt,\n",
    "    # 'sample_weight_val':1+(2*y-1)*wgt,\n",
    "    # 'log_file_name': self.path.with_stem(f\"{self.path.stem}{iter}\").with_suffix('.log'),\n",
    "}\n",
    "self.clf = fl.AutoML(**dct)\n",
    "self.clf.fit(**dct)\n",
    "self.Y = Z_proc[['actual']].assign(proba=self.clf.predict_proba(Z_proc.drop(columns='actual'))[:,1]).prep(bool=True).copy()\n",
    "# return self\n",
    "# train(self)"
   ]
  },
  {
   "cell_type": "code",
   "execution_count": null,
   "metadata": {},
   "outputs": [],
   "source": [
    "X = read('/home/scook/institutional_data_analytics/admitted_matriculation_projection/resources/rslt3/126/X.pkl')\n",
    "X['mlt'].query(\"crse_code=='easc2310'\")"
   ]
  },
  {
   "cell_type": "code",
   "execution_count": null,
   "metadata": {},
   "outputs": [],
   "source": [
    "w = read('/home/scook/institutional_data_analytics/admitted_matriculation_projection/resources/rslt3/126/summary/n/easc2310/fa15/1bfb/1414.pkl')\n",
    "w['summary']\n"
   ]
  },
  {
   "cell_type": "code",
   "execution_count": null,
   "metadata": {},
   "outputs": [],
   "source": [
    "self.report"
   ]
  },
  {
   "cell_type": "code",
   "execution_count": null,
   "metadata": {},
   "outputs": [],
   "source": [
    "self.cycle_date"
   ]
  },
  {
   "cell_type": "code",
   "execution_count": null,
   "metadata": {},
   "outputs": [],
   "source": [
    "read('/home/scook/institutional_data_analytics/admitted_matriculation_projection/resources/rslt2/126/summary/n/anth2351/fa15/1bfb/4a31.pkl').keys()"
   ]
  },
  {
   "cell_type": "code",
   "execution_count": null,
   "metadata": {},
   "outputs": [],
   "source": [
    "g = lambda y: y.query(f\"crse_code=='{self.crse_code}'\").droplevel('crse_code')\n",
    "Z = (\n",
    "    self.X_proc\n",
    "    # .join(  self.y['credit']) .fillna({'credit':0})\n",
    "    # .join(g(self.y['regstr'])).fillna({'regstr':False})\n",
    "    .join(g(self.y['actual'])).fillna({'actual':False})\n",
    "    # .addlevel({'crse_code':self.crse_code, 'train_code':self.train_code, 'clf_hash':self.param['clf'][0]})\n",
    "    .addlevel({'crse_code':self.crse_code, 'clf_hash':self.param['clf'][0]})\n",
    "    .prep(bool=True, cat=True)\n",
    ")\n",
    "Z = Z[Z.eval(f\"pred_code=={self.proj_code}\") | (Z.groupby(['pred_code','sim'])['actual'].transform('sum')>=10)]"
   ]
  },
  {
   "cell_type": "code",
   "execution_count": null,
   "metadata": {},
   "outputs": [],
   "source": [
    "# Z.rsindex(['pred_code','sim']).groupby(['pred_code','sim'])['actual'].sum().sort_index().disp(1000)\n",
    "A = Z.query(f\"pred_code!={self.proj_code} & sim==0\").groupby('pred_code')['actual'].sum().query('actual>600').index.tolist()\n",
    "A\n",
    "# A[A>600].index"
   ]
  },
  {
   "cell_type": "code",
   "execution_count": null,
   "metadata": {},
   "outputs": [],
   "source": [
    "Z[Z.eval(f\"pred_code=={self.proj_code}\") | (Z.groupby(['pred_code','sim'])['actual'].transform('sum')>=10)]\n",
    "Z[mask]\n",
    "# Z['ct'] = Z.groupby(['pred_code','sim'])['actual'].transform('sum')\n",
    "# Z.query(\"pred_code==202408 | ct >= 100000\")\n",
    "\n",
    "#['actual'].sum()"
   ]
  },
  {
   "cell_type": "code",
   "execution_count": null,
   "metadata": {},
   "outputs": [],
   "source": [
    "dct = {'a':2,'b':1}\n",
    "min(dct, key=dct.get)"
   ]
  },
  {
   "cell_type": "code",
   "execution_count": null,
   "metadata": {},
   "outputs": [],
   "source": [
    "x = np.array([-678.938727,-69.417566,-47.140036])\n",
    "np.abs(np.sum(x))*10+np.mean(np.abs(x))"
   ]
  },
  {
   "cell_type": "code",
   "execution_count": null,
   "metadata": {},
   "outputs": [],
   "source": [
    "from LiveAMP import *\n",
    "self = run_amp(126)"
   ]
  },
  {
   "cell_type": "code",
   "execution_count": null,
   "metadata": {},
   "outputs": [],
   "source": []
  },
  {
   "cell_type": "code",
   "execution_count": null,
   "metadata": {},
   "outputs": [],
   "source": [
    "w = read('/home/scook/institutional_data_analytics/admitted_matriculation_projection/resources/rslt2/126/Y/n/_allcrse/202308/fa15/1bfb/2dbb.pkl')\n",
    "Y = w['Y']\n",
    "Y['proba'] = Y['actual'] == True\n",
    "log_loss(Y['actual'], Y['proba'])\n",
    "clf = fl.AutoML()\n"
   ]
  },
  {
   "cell_type": "code",
   "execution_count": null,
   "metadata": {},
   "outputs": [],
   "source": [
    "from flaml import AutoML\n",
    "w = AutoML()\n",
    "w.fit?"
   ]
  },
  {
   "cell_type": "code",
   "execution_count": null,
   "metadata": {},
   "outputs": [],
   "source": [
    "from flaml import AutoML\n",
    "from sklearn.datasets import load_iris\n",
    "\n",
    "# Initialize an AutoML instance\n",
    "\n",
    "# Specify automl goal and constraint\n",
    "automl_settings = {\n",
    "    \"time_budget\": 10,  # in seconds\n",
    "    \"metric\": \"log_loss\",\n",
    "    # \"metric\": \"accuracy\",\n",
    "    \"task\": \"classification\",\n",
    "    # \"log_file_name\": \"iris.log\",\n",
    "    'verbose':0,\n",
    "}\n",
    "clf = AutoML(**automl_settings)\n",
    "X_train, y_train = load_iris(return_X_y=True)\n",
    "# Train with labeled input data\n",
    "clf.fit(X_train=X_train, y_train=y_train, **automl_settings)\n",
    "# Predict\n",
    "# print(clf.predict_proba(X_train))\n",
    "# Print the best model\n",
    "# print(clf.model.estimator)\n"
   ]
  },
  {
   "cell_type": "code",
   "execution_count": null,
   "metadata": {},
   "outputs": [],
   "source": [
    "from sklearn.metrics import log_loss, accuracy_score\n",
    "log_loss(y_train, clf.predict_proba(X_train)), accuracy_score(y_train, clf.predict(X_train))\n",
    "# clf.score(X_train, y_train)"
   ]
  },
  {
   "cell_type": "code",
   "execution_count": null,
   "metadata": {},
   "outputs": [],
   "source": [
    "import plotly.express as px\n",
    "from LiveAMP import *\n",
    "w = []\n",
    "for path in sorted(AMP().root_path.parent.iterdir()):\n",
    "    for fn in (path / 'summary/n/_allcrse').rglob('*.pkl'):\n",
    "        w.append(read(fn)['rslt'][' 50%'].addlevel({'cycle_day':path.stem}))\n",
    "df = pd.concat(w).query('pred_code==202308').reset_index()\n",
    "fig = px.line(\n",
    "    df,\n",
    "    x='cycle_day',\n",
    "    y='202408_projection',\n",
    "    color='train_code',\n",
    "    # text=\"cycle_day\",\n",
    "    symbol=\"train_code\",\n",
    "    )\n",
    "fig.update_layout(hovermode=\"x unified\")\n",
    "fig.show()"
   ]
  },
  {
   "cell_type": "code",
   "execution_count": null,
   "metadata": {},
   "outputs": [],
   "source": [
    "self.y['adm'].disp()"
   ]
  },
  {
   "cell_type": "code",
   "execution_count": null,
   "metadata": {},
   "outputs": [],
   "source": []
  },
  {
   "cell_type": "code",
   "execution_count": null,
   "metadata": {},
   "outputs": [],
   "source": [
    "# y = {k:y.query(f\"crse_code=='{self.crse_code}'\").droplevel('crse_code') for k,y in self.y.items()}\n",
    "self.y['credit']"
   ]
  },
  {
   "cell_type": "code",
   "execution_count": null,
   "metadata": {},
   "outputs": [],
   "source": [
    "self.y['actual'].disp()"
   ]
  },
  {
   "cell_type": "code",
   "execution_count": null,
   "metadata": {},
   "outputs": [],
   "source": [
    "self.y['admit'].disp()"
   ]
  },
  {
   "cell_type": "code",
   "execution_count": null,
   "metadata": {},
   "outputs": [],
   "source": [
    "self.credit_hr\n",
    "self.y[self.cycle_day]"
   ]
  },
  {
   "cell_type": "code",
   "execution_count": null,
   "metadata": {},
   "outputs": [],
   "source": [
    "# y = self.y.query(f\"crse_code=='{self.crse_code}'\").droplevel('crse_code').rename(self.crse_code)\n",
    "y = self.y.query(f\"crse_code=='{self.crse_code}'\").unstack()\n",
    "cols = [self.crse_code]\n",
    "y = self.y.query(f\"crse_code.isin({cols})\").unstack()#.droplevel(0,1)\n",
    "\n",
    "y.disp()\n",
    "# Z = (\n",
    "#     self.X\n",
    "# # #     # .join(self.credit_hr)\n",
    "#     .join(y)\n",
    "# # #     # .fillna({'credit_hr':0})\n",
    "# # #     # .fillna({c: False for c in cols})\n",
    "# # #     # .addlevel({'crse_code':self.crse_code, 'train_code':self.train_code, 'clf_hash':self.param['clf'][0]})\n",
    "# # #     # .rsindex(['index','crse_code','levl_code','styp_code','train_code','pred_code','trf_hash','imp_hash','clf_hash','sim'])\n",
    "# # #     # .prep(bool=True, cat=True)\n",
    "# )\n",
    "# Z.disp()"
   ]
  },
  {
   "cell_type": "code",
   "execution_count": null,
   "metadata": {},
   "outputs": [],
   "source": [
    "self.y.vc('enrolled')\n",
    "# self.credit_hr.disp()"
   ]
  },
  {
   "cell_type": "code",
   "execution_count": null,
   "metadata": {},
   "outputs": [],
   "source": [
    "# M = self.mlt.copy()\n",
    "# M['reg_pct'] = M['reg'] / M['end'] * 100\n",
    "# M['adm_pct'] = M['adm'] / M['end'] * 100\n",
    "self.mlt.query(\"styp_code=='n' & crse_code.isin(['_allcrse','biol1406'])\").reset_index().sort_values(['crse_code','pred_code']).disp(100)#crse_code=='_allcrse'\")"
   ]
  },
  {
   "cell_type": "code",
   "execution_count": null,
   "metadata": {},
   "outputs": [],
   "source": [
    "y = self.y.query(\"crse_code.str.contains('biol1406')\").unstack().droplevel(0,1)\n",
    "z = y\n",
    "z = self.X[[]].join(y)\n",
    "A = z.groupby('pred_code').sum()\n",
    "A['mlt'] = A.iloc[:,0] / A.iloc[:,1]\n",
    "A['2024'] = A['mlt'] * A.iloc[-1,1]\n",
    "A"
   ]
  },
  {
   "cell_type": "code",
   "execution_count": null,
   "metadata": {},
   "outputs": [],
   "source": [
    "self.mlt.query(\"crse_code=='biol1406'\")"
   ]
  },
  {
   "cell_type": "code",
   "execution_count": null,
   "metadata": {},
   "outputs": [],
   "source": [
    "# self.crse_code = '_allcrse'\n",
    "cols = [self.crse_code+'_cur', self.crse_code]\n",
    "y = self.y.query(f\"crse_code.isin({cols})\").unstack().droplevel(0,1)[cols]\n",
    "Z = (\n",
    "    self.X[[]]#_proc\n",
    "    # .join(self.credit_hr)\n",
    "    .join(y)\n",
    "    # .fillna({'credit_hr':0})\n",
    "    # .fillna({c: False for c in cols})\n",
    "    # .addlevel({'crse_code':self.crse_code, 'train_code':self.train_code, 'clf_hash':self.param['clf'][0]})\n",
    "    # .rsindex(['index','crse_code','levl_code','styp_code','train_code','pred_code','trf_hash','imp_hash','clf_hash','sim'])\n",
    "    # .prep(bool=True, cat=True)\n",
    ")\n",
    "# Z.disp()\n",
    "Z.groupby('pred_code').sum()"
   ]
  },
  {
   "cell_type": "code",
   "execution_count": null,
   "metadata": {},
   "outputs": [],
   "source": [
    "Z.iloc[:,-2:].groupby('pred_code').sum()"
   ]
  },
  {
   "cell_type": "code",
   "execution_count": null,
   "metadata": {},
   "outputs": [],
   "source": [
    "self.mlt"
   ]
  },
  {
   "cell_type": "code",
   "execution_count": null,
   "metadata": {},
   "outputs": [],
   "source": [
    "Z.disp(4)"
   ]
  },
  {
   "cell_type": "code",
   "execution_count": null,
   "metadata": {},
   "outputs": [],
   "source": [
    "self.X_proc"
   ]
  },
  {
   "cell_type": "code",
   "execution_count": null,
   "metadata": {},
   "outputs": [],
   "source": [
    "fn = '/home/scook/institutional_data_analytics/admitted_matriculation_projection/resources/rslt2/126/summary/n/_allcrse/202208/fa15/1bfb/2dbb.pkl'\n",
    "w = read(fn)\n",
    "w['rslt'][' 50%']"
   ]
  },
  {
   "cell_type": "code",
   "execution_count": null,
   "metadata": {},
   "outputs": [],
   "source": [
    "self.credit_hr"
   ]
  },
  {
   "cell_type": "code",
   "execution_count": null,
   "metadata": {},
   "outputs": [],
   "source": [
    "self.mlt.query(\"crse_code.isin(['_allcrse','biol1406'])\")"
   ]
  },
  {
   "cell_type": "code",
   "execution_count": null,
   "metadata": {},
   "outputs": [],
   "source": [
    "133/7\n",
    "126/7"
   ]
  },
  {
   "cell_type": "code",
   "execution_count": null,
   "metadata": {},
   "outputs": [],
   "source": [
    "terms[133][202408]"
   ]
  },
  {
   "cell_type": "code",
   "execution_count": null,
   "metadata": {},
   "outputs": [],
   "source": []
  },
  {
   "cell_type": "code",
   "execution_count": null,
   "metadata": {},
   "outputs": [],
   "source": [
    "qry = \"select A.current_date, count(*) as ct from opeir.admissions_fall2024 A group by A.current_date order by A.current_date asc\"\n",
    "db.execute(qry).disp(1000)"
   ]
  },
  {
   "cell_type": "code",
   "execution_count": null,
   "metadata": {},
   "outputs": [],
   "source": [
    "from LiveAMP import *\n",
    "T = Term(term_code=202308, cycle_day=133, show='adm', overwrite='adm')\n",
    "T.get_adm()"
   ]
  },
  {
   "cell_type": "code",
   "execution_count": null,
   "metadata": {},
   "outputs": [],
   "source": [
    "T.adm.disp()"
   ]
  },
  {
   "cell_type": "code",
   "execution_count": null,
   "metadata": {},
   "outputs": [],
   "source": [
    "np.arange(126, 200, 7)"
   ]
  },
  {
   "cell_type": "code",
   "execution_count": null,
   "metadata": {},
   "outputs": [],
   "source": [
    "from LiveAMP import *\n",
    "fn = '/home/scook/institutional_data_analytics/admitted_matriculation_projection/resources/rslt2/126/X.pkl'\n",
    "fn = '/home/scook/institutional_data_analytics/admitted_matriculation_projection/resources/rslt2/126/X.pkl'\n",
    "# fn = '/home/scook/institutional_data_analytics/admitted_matriculation_projection/resources/rslt2/126/summary/n/_allcrse/202308/fa15/1bfb/2dbb.pkl'\n",
    "w = read(fn)\n",
    "# w['rslt'][' 50%']\n",
    "w['mlt'].query(\"crse_code=='biol1406'\")"
   ]
  },
  {
   "cell_type": "code",
   "execution_count": null,
   "metadata": {},
   "outputs": [],
   "source": [
    "self.mlt"
   ]
  },
  {
   "cell_type": "code",
   "execution_count": null,
   "metadata": {},
   "outputs": [],
   "source": [
    "w['X'].missing().disp(1000)"
   ]
  },
  {
   "cell_type": "code",
   "execution_count": null,
   "metadata": {},
   "outputs": [],
   "source": [
    "from LiveAMP import *\n",
    "# Flags().run()\n",
    "for cycle_week in range(19, 19+10):\n",
    "    cycle_day=cycle_week*7\n",
    "    print(cycle_day)\n",
    "    run_amp(cycle_day=cycle_day)\n",
    "\n",
    "# for cycle_day in range(132, 128, -1):\n",
    "# for cycle_day in [137,130]:\n",
    "#     print(cycle_day)\n",
    "#     A = AMP(cycle_day=cycle_day)\n",
    "#     A.print_days()\n",
    "# A.get_X()\n",
    "# run_amp(126)\n",
    "# self = get_stack(130, '_2024_05_10')\n",
    "# self.get_Y()\n",
    "# self.get_summary()\n",
    "# self.summary\n",
    "# # self.Y\n",
    "# getsizeof(self.__dict__)"
   ]
  },
  {
   "cell_type": "code",
   "execution_count": null,
   "metadata": {},
   "outputs": [],
   "source": [
    "trm = read('/home/scook/institutional_data_analytics/admitted_matriculation_projection/resources/trm.parq')\n",
    "trm.query(\"term_code==202108\")"
   ]
  },
  {
   "cell_type": "code",
   "execution_count": null,
   "metadata": {},
   "outputs": [],
   "source": [
    "4-6"
   ]
  },
  {
   "cell_type": "code",
   "execution_count": null,
   "metadata": {},
   "outputs": [],
   "source": [
    "w = read('/home/scook/institutional_data_analytics/admitted_matriculation_projection/resources/rslt/130/Y/n/_allcrse/202308/fa15/1bfb/2dbb.pkl')\n",
    "getsizeof(w)"
   ]
  },
  {
   "cell_type": "code",
   "execution_count": null,
   "metadata": {},
   "outputs": [],
   "source": [
    "w['Y']"
   ]
  },
  {
   "cell_type": "code",
   "execution_count": null,
   "metadata": {},
   "outputs": [],
   "source": [
    "# w = pd.to_datetime('today').normalize()-5\n",
    "# w.day_of_week\n",
    "\n",
    "# (pd.Timestamp.now().day-1)#.day_of_week\n",
    "pd.to_datetime('2024-05-13').day_name()"
   ]
  },
  {
   "cell_type": "code",
   "execution_count": null,
   "metadata": {},
   "outputs": [],
   "source": [
    "self = AMP()\n",
    "str(self.root_path).replace('data','1234')"
   ]
  },
  {
   "cell_type": "code",
   "execution_count": null,
   "metadata": {},
   "outputs": [],
   "source": [
    "read('/home/scook/institutional_data_analytics/admitted_matriculation_projection/resources/rslt/130/summary/n/_allcrse/202208/fa15/1bfb/2dbb.pkl').keys()"
   ]
  },
  {
   "cell_type": "code",
   "execution_count": null,
   "metadata": {},
   "outputs": [],
   "source": [
    "dct = {'a':1,'b':2}\n",
    "pd.Series(dct).sort_values(ascending=False)"
   ]
  },
  {
   "cell_type": "code",
   "execution_count": null,
   "metadata": {},
   "outputs": [],
   "source": [
    "w = AMP().load('/home/scook/institutional_data_analytics/admitted_matriculation_projection/resources/rslt/131/Y/n/ansc1119/202208/fa15/1bfb/4add.pkl', force=True)"
   ]
  },
  {
   "cell_type": "code",
   "execution_count": null,
   "metadata": {},
   "outputs": [],
   "source": [
    "w = read('/home/scook/institutional_data_analytics/admitted_matriculation_projection/resources/rslt2/133/summary/n/_allcrse/202208/fa15/1bfb/2dbb.pkl')\n",
    "w\n",
    "# getsizeof(w)\n",
    "# w['Y']"
   ]
  },
  {
   "cell_type": "code",
   "execution_count": null,
   "metadata": {},
   "outputs": [],
   "source": [
    "L=[1,2]\n",
    "L.remove(1)\n",
    "L"
   ]
  },
  {
   "cell_type": "code",
   "execution_count": null,
   "metadata": {},
   "outputs": [],
   "source": [
    "w['Y'].memory_usage().sum()"
   ]
  },
  {
   "cell_type": "code",
   "execution_count": null,
   "metadata": {},
   "outputs": [],
   "source": [
    "w['Y']"
   ]
  },
  {
   "cell_type": "code",
   "execution_count": null,
   "metadata": {},
   "outputs": [],
   "source": [
    "def getsizeof(x):\n",
    "    if isinstance(x, dict):\n",
    "        for k,v in x.items():\n",
    "            print(k, size(v))\n",
    "    else:\n",
    "        return sys.getsizeof(x)\n",
    "size(w)"
   ]
  },
  {
   "cell_type": "code",
   "execution_count": null,
   "metadata": {},
   "outputs": [],
   "source": [
    "w = read('/home/scook/institutional_data_analytics/admitted_matriculation_projection/resources/rslt/131/Y/n/arts1304/202108/fa15/1bfb/4add.pkl')\n",
    "\n",
    "w.keys()\n",
    "# w['rslt'][' 50%'].memory_usage().sum()\n",
    "# w['Y']"
   ]
  },
  {
   "cell_type": "code",
   "execution_count": null,
   "metadata": {},
   "outputs": [],
   "source": [
    "w['Y'].rsindex('index').info()\n",
    "w['Y'].info()"
   ]
  },
  {
   "cell_type": "code",
   "execution_count": null,
   "metadata": {},
   "outputs": [],
   "source": [
    "from LiveAMP import *\n",
    "fn = '/home/scook/institutional_data_analytics/admitted_matriculation_projection/resources/rslt/131/Y/n/_allcrse/202208/fa15/1bfb/4add.pkl'\n",
    "self = AMP().load(path=fn)\n",
    "self.summarize()\n",
    "self.__dict__.keys()"
   ]
  },
  {
   "cell_type": "code",
   "execution_count": null,
   "metadata": {},
   "outputs": [],
   "source": [
    "from LiveAMP import *\n",
    "fn = '/home/scook/institutional_data_analytics/admitted_matriculation_projection/resources/rslt/131/Y/n/ansc1119/202108/fa15/1bfb/4add.pkl'\n",
    "self = AMP().load(path=fn, force=True)\n",
    "# self.train_score = 0\n",
    "# self.get_X()\n",
    "# self.y\n",
    "# def summarize(self):\n",
    "#     self.get_X()\n",
    "#     self.get_Y()\n",
    "#     grp = ['index','crse_code','levl_code','styp_code','train_code','pred_code','trf_hash','imp_hash','clf_hash','sim']\n",
    "#     self.Y = self.Y.rsindex(grp)\n",
    "#     grp.remove('index')\n",
    "#     S = self.Y.groupby(grp).apply(lambda y: pd.Series({\n",
    "#         'actual': y['actual'].sum(),\n",
    "#         # 'predicted': y['predicted'].sum(),\n",
    "#         'predicted': y['proba'].sum(),\n",
    "#         'train_score': self.train_score,\n",
    "#         'test_score': log_loss(y['actual'], y['proba'], labels=[False,True], sample_weight=1+(2*y['actual']-1)*self.weight) * 100,\n",
    "#         'weight': self.weight,\n",
    "#     }))\n",
    "#     S['predicted'] *= S['actual'] > 0\n",
    "#     proj_mask = S.eval(f\"pred_code==@self.proj_code\")\n",
    "#     proj_col = f'{self.proj_code}_projection'\n",
    "#     S = (\n",
    "#         S[~proj_mask]\n",
    "#         .join(S[proj_mask]['predicted'].droplevel('pred_code').rename(proj_col))\n",
    "#         .join(self.mlt)\n",
    "#         .sort_index()\n",
    "#     ).prep().fillna(0)\n",
    "    # for k in ['predicted','actual',proj_col]:\n",
    "    #     S[k] *= S['mlt']\n",
    "    # S[proj_col+'_pct_change'] = (S[proj_col] / S.groupby(S.index.names.difference({'pred_code'})).transform('last')['actual'] - 1) * 100\n",
    "    # alpha = 1\n",
    "    # S['overall_score'] = (S['train_score'] + alpha * S['test_score']) / (1 + alpha)\n",
    "    # S['error'] = S['predicted'] - S['actual']\n",
    "    # S['error_pct'] = S['error'] / S['actual'] * 100\n",
    "    # S.loc[S.eval('predicted==0'), 'predicted':] = pd.NA\n",
    "    # self.summary = S[[proj_col,proj_col+'_pct_change','predicted','actual','error','error_pct','mlt','overall_score','test_score','train_score','weight']].prep()#.fillna(0)\n",
    "    # grp.remove('sim')\n",
    "    # self.rslt = {str(stat): self.summary.groupby(grp).agg(stat) for stat in self.stats}\n",
    "    # self.rslt[' 50%'].disp(100)\n",
    "    # for k in ['X_proc','y','mlt']:\n",
    "    #     del self[k]\n",
    "# summarize(self)"
   ]
  },
  {
   "cell_type": "code",
   "execution_count": null,
   "metadata": {},
   "outputs": [],
   "source": [
    "fn = '/home/scook/institutional_data_analytics/admitted_matriculation_projection/resources/rslt/131/Y/n/ansc1119/202108/fa15/1bfb/4add.pkl'\n",
    "self = AMP().load(path=fn, force=True)\n",
    "self.train_score = 0\n",
    "def summarize(self):\n",
    "    S = self.Y.groupby(['crse_code','levl_code','styp_code','train_code','pred_code','trf_hash','imp_hash','clf_hash','sim']).apply(lambda y: pd.Series({\n",
    "        'actual': y['actual'].sum(),\n",
    "        # 'predicted': y['predicted'].sum(),\n",
    "        'predicted': y['proba'].sum(),\n",
    "        'train_score': self.train_score,\n",
    "        'test_score': log_loss(y['actual'], y['proba'], labels=[False,True], sample_weight=1+(2*y['actual']-1)*self.weight) * 100,\n",
    "        'weight': self.weight,\n",
    "    }))\n",
    "    proj_mask = S.eval(f\"pred_code==@self.proj_code\")\n",
    "    proj_col = f'{self.proj_code}_projection'\n",
    "    S = (\n",
    "        S[~proj_mask]\n",
    "        .join(S[proj_mask]['predicted'].droplevel('pred_code').rename(proj_col))\n",
    "        .join(self.mlt)\n",
    "        .sort_index()\n",
    "    ).prep().fillna(0)\n",
    "    for k in ['predicted','actual',proj_col]:\n",
    "        S[k] *= S['mlt']\n",
    "    S[proj_col+'_pct_change'] = (S[proj_col] / S.groupby(S.index.names.difference({'pred_code'})).transform('last')['actual'] - 1) * 100\n",
    "    alpha = 1\n",
    "    S['overall_score'] = (S['train_score'] + alpha * S['test_score']) / (1 + alpha)\n",
    "    S['error'] = S['predicted'] - S['actual']\n",
    "    S['error_pct'] = S['error'] / S['actual'] * 100\n",
    "    S.loc[S.eval('predicted==0'), 'predicted':] = pd.NA\n",
    "    self.summary = S[[proj_col,proj_col+'_pct_change','predicted','actual','error','error_pct','mlt','overall_score','test_score','train_score','weight']].prep()#.fillna(0)\n",
    "    grp = [k for k in self.summary.index.names if k!= 'sim']\n",
    "    self.rslt = {str(stat): self.summary.groupby(grp).agg(stat) for stat in self.stats}\n",
    "    self.rslt[' 50%'].disp(100)\n",
    "    return self.summary\n",
    "summarize(self)"
   ]
  },
  {
   "cell_type": "code",
   "execution_count": null,
   "metadata": {},
   "outputs": [],
   "source": [
    "self.mlt"
   ]
  },
  {
   "cell_type": "code",
   "execution_count": null,
   "metadata": {},
   "outputs": [],
   "source": [
    "self.mlt.query(\"crse_code=='ansc1119'\")"
   ]
  },
  {
   "cell_type": "code",
   "execution_count": null,
   "metadata": {},
   "outputs": [],
   "source": [
    "sp.optiminze.show_options('minimize_scalar', method='bounded')"
   ]
  },
  {
   "cell_type": "code",
   "execution_count": null,
   "metadata": {},
   "outputs": [],
   "source": [
    "self.mlt.query(\"crse_code.isin(['chem1407','kine2315','kine2319','kine3319','fina1360'])\").sort_values(['styp_code','crse_code','pred_code']).reset_index()"
   ]
  },
  {
   "cell_type": "code",
   "execution_count": null,
   "metadata": {},
   "outputs": [],
   "source": [
    "self.mlt.query(\"crse_code=='chem1407'\").prep()"
   ]
  }
 ],
 "metadata": {
  "kernelspec": {
   "display_name": "my3.11",
   "language": "python",
   "name": "python3"
  },
  "language_info": {
   "codemirror_mode": {
    "name": "ipython",
    "version": 3
   },
   "file_extension": ".py",
   "mimetype": "text/x-python",
   "name": "python",
   "nbconvert_exporter": "python",
   "pygments_lexer": "ipython3",
   "version": "3.11.8"
  }
 },
 "nbformat": 4,
 "nbformat_minor": 2
}
