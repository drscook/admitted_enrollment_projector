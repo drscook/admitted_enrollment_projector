{
 "cells": [
  {
   "cell_type": "code",
   "execution_count": 1,
   "metadata": {},
   "outputs": [
    {
     "name": "stdout",
     "output_type": "stream",
     "text": [
      "creating {'nm': 'optimal', 'styp_code': 'n', 'crse_code': '_allcrse', 'train_code': 202308}: 0.00 sec\n"
     ]
    },
    {
     "data": {
      "text/html": [
       "<table border=\"1\" class=\"dataframe\">\n",
       "  <thead>\n",
       "    <tr style=\"text-align: right;\">\n",
       "      <th></th>\n",
       "      <th>count</th>\n",
       "      <th>mean</th>\n",
       "      <th>std</th>\n",
       "      <th>min</th>\n",
       "      <th>25%</th>\n",
       "      <th>50%</th>\n",
       "      <th>75%</th>\n",
       "      <th>max</th>\n",
       "    </tr>\n",
       "  </thead>\n",
       "  <tbody>\n",
       "    <tr>\n",
       "      <th>train_score</th>\n",
       "      <td>2.0</td>\n",
       "      <td>10.479075</td>\n",
       "      <td>0.060081</td>\n",
       "      <td>10.436592</td>\n",
       "      <td>10.457833</td>\n",
       "      <td>10.479075</td>\n",
       "      <td>10.500317</td>\n",
       "      <td>10.521559</td>\n",
       "    </tr>\n",
       "    <tr>\n",
       "      <th>holdout_score</th>\n",
       "      <td>2.0</td>\n",
       "      <td>25.203732</td>\n",
       "      <td>0.681833</td>\n",
       "      <td>24.721604</td>\n",
       "      <td>24.962668</td>\n",
       "      <td>25.203732</td>\n",
       "      <td>25.444796</td>\n",
       "      <td>25.685861</td>\n",
       "    </tr>\n",
       "    <tr>\n",
       "      <th>2024_projection_raw</th>\n",
       "      <td>2.0</td>\n",
       "      <td>2702.000000</td>\n",
       "      <td>115.965512</td>\n",
       "      <td>2620.000000</td>\n",
       "      <td>2661.000000</td>\n",
       "      <td>2702.000000</td>\n",
       "      <td>2743.000000</td>\n",
       "      <td>2784.000000</td>\n",
       "    </tr>\n",
       "    <tr>\n",
       "      <th>2024_projection_202108</th>\n",
       "      <td>2.0</td>\n",
       "      <td>3185.030803</td>\n",
       "      <td>136.696420</td>\n",
       "      <td>3088.371837</td>\n",
       "      <td>3136.701320</td>\n",
       "      <td>3185.030803</td>\n",
       "      <td>3233.360286</td>\n",
       "      <td>3281.689769</td>\n",
       "    </tr>\n",
       "    <tr>\n",
       "      <th>2024_projection_202208</th>\n",
       "      <td>2.0</td>\n",
       "      <td>3130.381448</td>\n",
       "      <td>134.350958</td>\n",
       "      <td>3035.380975</td>\n",
       "      <td>3082.881212</td>\n",
       "      <td>3130.381448</td>\n",
       "      <td>3177.881685</td>\n",
       "      <td>3225.381921</td>\n",
       "    </tr>\n",
       "    <tr>\n",
       "      <th>2024_projection_202308</th>\n",
       "      <td>2.0</td>\n",
       "      <td>2985.024550</td>\n",
       "      <td>128.112472</td>\n",
       "      <td>2894.435352</td>\n",
       "      <td>2939.729951</td>\n",
       "      <td>2985.024550</td>\n",
       "      <td>3030.319149</td>\n",
       "      <td>3075.613748</td>\n",
       "    </tr>\n",
       "  </tbody>\n",
       "</table>"
      ],
      "text/plain": [
       "<IPython.core.display.HTML object>"
      ]
     },
     "metadata": {},
     "output_type": "display_data"
    }
   ],
   "source": [
    "from LiveAMP import *\n",
    "self = AMP(**kwargs)\n",
    "self.run()"
   ]
  },
  {
   "cell_type": "code",
   "execution_count": 12,
   "metadata": {},
   "outputs": [
    {
     "data": {
      "text/plain": [
       "dict_keys(['path', 'X_proc', 'trf_str', 'Z_proc', 'Y_pred', 'train_score', 'holdout_score', '2024_projection_raw', '2024_projection_202108', '2024_projection_202208', '2024_projection_202308', 'rslt', 'summary', 'score'])"
      ]
     },
     "execution_count": 12,
     "metadata": {},
     "output_type": "execute_result"
    }
   ],
   "source": [
    "A = self.optimal['n']['_allcrse'][202308]\n",
    "a = min(A, key=lambda x: x['score']['agg'])\n",
    "a.keys()\n",
    "\n",
    "# [0].keys()"
   ]
  },
  {
   "cell_type": "code",
   "execution_count": 13,
   "metadata": {},
   "outputs": [
    {
     "data": {
      "text/plain": [
       "dict_keys(['path', 'X_proc', 'trf_str', 'Z_proc', 'Y_pred', 'train_score', 'holdout_score', '2024_projection_raw', '2024_projection_202108', '2024_projection_202208', '2024_projection_202308', 'rslt', 'summary', 'score'])"
      ]
     },
     "execution_count": 13,
     "metadata": {},
     "output_type": "execute_result"
    }
   ],
   "source": [
    "for path in cartesian({'nm': '', 'styp_code': self.styp_codes, 'crse_code': self.crse_codes, 'train_code': self.train_codes}, sort=False):\n",
    "    s = self.get(path | {'nm': 'summary'})\n",
    "s['53c7']['3d79']['5742'].keys()"
   ]
  },
  {
   "cell_type": "code",
   "execution_count": null,
   "metadata": {},
   "outputs": [],
   "source": [
    "cartesian({'styp_code': self.styp_codes, 'crse_code': self.crse_codes, 'train_code': self.train_codes, 'trf_hash': self.trf_dict.keys(), 'imp_hash': self.imp_dict.keys(), 'clf_hash': self.clf_dict.keys()})\n"
   ]
  },
  {
   "cell_type": "code",
   "execution_count": null,
   "metadata": {},
   "outputs": [],
   "source": [
    "self.terms[202108]['cur'].get('raw')"
   ]
  },
  {
   "cell_type": "code",
   "execution_count": null,
   "metadata": {},
   "outputs": [],
   "source": [
    "self.get('reg_df')"
   ]
  },
  {
   "cell_type": "code",
   "execution_count": null,
   "metadata": {},
   "outputs": [],
   "source": [
    "self.terms"
   ]
  },
  {
   "cell_type": "code",
   "execution_count": null,
   "metadata": {},
   "outputs": [],
   "source": [
    "cartesian({'pred_code': self.pred_codes})"
   ]
  },
  {
   "cell_type": "code",
   "execution_count": null,
   "metadata": {},
   "outputs": [],
   "source": [
    "import codetiming\n",
    "x = 'hi'\n",
    "with codetiming.Timer(text=x+\"Elapsed time: {:0.4f} seconds\"):\n",
    "    for i in range(100000):\n",
    "        pass"
   ]
  },
  {
   "cell_type": "code",
   "execution_count": null,
   "metadata": {},
   "outputs": [],
   "source": [
    "from LiveAMP import *\n",
    "\n",
    "# FLAGS().run()\n",
    "self = AMP(**kwargs)\n",
    "self.get('raw_df')\n",
    "self.get('reg_df')\n",
    "self.get('X')\n",
    "self.get('Y')\n",
    "self.get('mlt')\n",
    "for styp_code in self.styp_codes:\n",
    "    for crse_code in self.crse_codes:\n",
    "        for train_code in self.train_codes:\n",
    "            for trf_hash in self.trf_dict.keys():\n",
    "                for imp_hash in self.imp_dict.keys():\n",
    "                    for clf_hash in self.clf_dict.keys():\n",
    "                        path = {'nm':'summary', 'styp_code': styp_code, 'crse_code':crse_code, 'train_code':train_code, 'trf_hash':trf_hash, 'imp_hash':imp_hash, 'clf_hash':clf_hash}\n",
    "                        print(path)\n",
    "                        dct = self.get(path)"
   ]
  },
  {
   "cell_type": "code",
   "execution_count": null,
   "metadata": {},
   "outputs": [],
   "source": [
    "dct['rslt'].describe().T"
   ]
  },
  {
   "cell_type": "code",
   "execution_count": null,
   "metadata": {},
   "outputs": [],
   "source": [
    "clf['Y_pred'][0]\n",
    "clf.keys()\n",
    "clf['2024_projection_202108']\n",
    "clf.keys()\n",
    "pd.DataFrame({k:v for k,v in clf.items() if 'score' in k or 'projection' in k})\n",
    "# for k in filter(lambda k,v: 'score' in k, clf.items()):\n",
    "#     print(k)"
   ]
  },
  {
   "cell_type": "code",
   "execution_count": null,
   "metadata": {},
   "outputs": [],
   "source": [
    "def f(dct):\n",
    "    dct.pop('a')\n",
    "\n",
    "class A():\n",
    "    def __init__(self):\n",
    "        dct = {'a':3}\n",
    "        f(dct)\n",
    "        print(dct)\n",
    "A()"
   ]
  },
  {
   "cell_type": "code",
   "execution_count": null,
   "metadata": {},
   "outputs": [],
   "source": [
    "M = self.get('mlt').query(f\"styp_code=='n' & crse_code=='_allcrse'\").rsindex('pred_code').squeeze()\n",
    "M\n",
    "{k:v for k,v in M.items()}\n"
   ]
  },
  {
   "cell_type": "code",
   "execution_count": null,
   "metadata": {},
   "outputs": [],
   "source": [
    "clf['rslt'].describe().T.disp(10)"
   ]
  },
  {
   "cell_type": "code",
   "execution_count": null,
   "metadata": {},
   "outputs": [],
   "source": [
    "self.get('X').dtypes.disp(100)"
   ]
  },
  {
   "cell_type": "code",
   "execution_count": null,
   "metadata": {},
   "outputs": [],
   "source": [
    "M = self.get('mlt').query(f\"styp_code==@path['styp_code'] & crse_code==@path['crse_code']\")\n",
    "A = (clf['Y_pred'].query('imp==0')['predicted'].sum() * M).reset_index()[['pred_code','mlt']]\n",
    "A.to_dict('records')\n",
    "# ('index')"
   ]
  },
  {
   "cell_type": "code",
   "execution_count": null,
   "metadata": {},
   "outputs": [],
   "source": [
    "M = self.get('mlt').query(f\"styp_code==@path['styp_code'] & crse_code==@path['crse_code']\")\n",
    "M\n",
    "# A = (clf['Y_pred'].query('imp==0')['predicted'].sum() * M).reset_index()[['pred_code','mlt']]\n",
    "# A = (clf['Y_pred'].query('imp==0')['predicted'].sum() * M).rindex('pred_code', bare=True).sindex('pred_code')#.values\n",
    "A = (clf['Y_pred'].query('imp==0')['predicted'].sum() * M).rsindex('pred_code').squeeze().to_dict()\n",
    "# {a['pred_code']: a['mlt'] for a in A}\n",
    "# A.to_dict('index')\n",
    "# # ('index')"
   ]
  },
  {
   "cell_type": "code",
   "execution_count": null,
   "metadata": {},
   "outputs": [],
   "source": [
    "self.get('mlt').reset_index().dtypes"
   ]
  },
  {
   "cell_type": "code",
   "execution_count": null,
   "metadata": {},
   "outputs": [],
   "source": [
    "clf['Y_pred'].prep().join(self.get('mlt').prep()).disp(4)"
   ]
  },
  {
   "cell_type": "code",
   "execution_count": null,
   "metadata": {},
   "outputs": [],
   "source": [
    "import seaborn as sns\n",
    "sns.kdeplot(clf['rslt']['projection21'])\n",
    "clf['rslt']['projection21'].describe()"
   ]
  },
  {
   "cell_type": "code",
   "execution_count": null,
   "metadata": {},
   "outputs": [],
   "source": [
    "self.mlt.disp(100)"
   ]
  },
  {
   "cell_type": "code",
   "execution_count": null,
   "metadata": {},
   "outputs": [],
   "source": [
    "clf['rslt']"
   ]
  },
  {
   "cell_type": "code",
   "execution_count": null,
   "metadata": {},
   "outputs": [],
   "source": [
    "1+1"
   ]
  },
  {
   "cell_type": "code",
   "execution_count": null,
   "metadata": {},
   "outputs": [],
   "source": [
    "imp.keys()\n",
    "# imp"
   ]
  },
  {
   "cell_type": "code",
   "execution_count": null,
   "metadata": {},
   "outputs": [],
   "source": [
    "path = {'nm':'test', 'sub':'test2'}\n",
    "L = listify(path)\n",
    "nm = L.pop(0)\n",
    "(self.root_path / join(L,'/')).with_suffix('.pkl')\n",
    "path"
   ]
  },
  {
   "cell_type": "code",
   "execution_count": null,
   "metadata": {},
   "outputs": [],
   "source": [
    "4200/10/20"
   ]
  },
  {
   "cell_type": "code",
   "execution_count": null,
   "metadata": {},
   "outputs": [],
   "source": [
    "X_imp.disp(1)"
   ]
  },
  {
   "cell_type": "code",
   "execution_count": null,
   "metadata": {},
   "outputs": [],
   "source": [
    "12800/9\n",
    "17.95*20*4\n",
    "21*20*52"
   ]
  },
  {
   "cell_type": "code",
   "execution_count": null,
   "metadata": {},
   "outputs": [],
   "source": [
    "str(trf).replace('\\n','').replace(' ','')"
   ]
  },
  {
   "cell_type": "code",
   "execution_count": null,
   "metadata": {},
   "outputs": [],
   "source": [
    "import hashlib\n",
    "self.trf_list = cartesian({k: uniquify(v, key=str) for k,v in self.trf_grid.items()})\n",
    "self.trf_list = [ColumnTransformer([(c,t,[\"__\"+c]) for c,t in trf.items() if t not in ['drop',None,'']], remainder='drop', verbose_feature_names_out=False) for trf in self.trf_list]\n",
    "self.trf_dict = {hashlib.md5(str(trf).encode()).hexdigest(): trf for trf in self.trf_list}\n",
    "self.trf_dict\n",
    "\n",
    "\n",
    "# self.trf_list = [uniquify({k:v for k,v in t.items() if v not in ['drop',None,'']}) for t in self.trf_list]\n",
    "# self.trf_list = [ColumnTransformer([(c,t,[\"__\"+c]) for c,t in trf.items()], remainder='drop', verbose_feature_names_out=False) for trf in self.trf_list]\n",
    "# self.trf_dict = {hashlib.md5(trf).encode()).hexdigest(): trf for trf in self.trf_list}\n",
    "# self.trf_dict\n",
    "# trf_par = self.trf_list[0]\n",
    "# trf = ColumnTransformer([(c,t,[\"__\"+c]) for c,t in trf_par.items()], remainder='drop', verbose_feature_names_out=False)\n",
    "# hashlib.md5(str(trf).encode()).hexdigest()\n",
    "# str(trf).replace('\\n','').replace(' ','')\n",
    "# self.trf_list = [uniquify({k:v for k,v in t.items() if v not in ['drop',None,'']}) for t in self.trf_list]\n",
    "\n",
    "# w = self.trf_list[0]\n",
    "# json.dumps(w)\n",
    "# w = [str({str(k):str(v) for k,v in t.items()}) for t in self.trf_list][0]\n",
    "# print(w)\n",
    "# print(hash(w))\n",
    "# self.trf_list = {hash(stringify(t)): t for t in self.trf_list}\n",
    "# self.trf_list\n",
    "# {hash(str(t)):1 for t in self.trf_list}\n",
    "# self.trf_list[0]\n",
    "# self.trf_list = [uniquify({k:v for k,v in t.items() if v not in ['drop',None,'']}) for t in self.trf_list]\n"
   ]
  },
  {
   "cell_type": "code",
   "execution_count": null,
   "metadata": {},
   "outputs": [],
   "source": [
    "# hash(stringify(self.trf_list[0]))\n",
    "# trf = StandardScaler()\n",
    "# hash(trf)\n",
    "hash(str(self.trf_list[0]))"
   ]
  },
  {
   "cell_type": "code",
   "execution_count": null,
   "metadata": {},
   "outputs": [],
   "source": [
    "self.trf_list"
   ]
  },
  {
   "cell_type": "code",
   "execution_count": null,
   "metadata": {},
   "outputs": [],
   "source": [
    "self.get('raw_df')\n",
    "self.get('reg_df')['cur']\n",
    "# self.get('X')\n",
    "# self.get('Y')\n",
    "# .set_index(['pidm','pred_code','crse_code'])"
   ]
  },
  {
   "cell_type": "code",
   "execution_count": null,
   "metadata": {},
   "outputs": [],
   "source": [
    "from flags import *\n",
    "\n",
    "@dataclasses.dataclass\n",
    "class TERM(MyBaseClass):\n",
    "    cycle_day: int = 0\n",
    "    term_code: int = 202308\n",
    "    root_path: str = root_path\n",
    "    show: set = dataclasses.field(default_factory=set)\n",
    "\n",
    "\n",
    "    def __post_init__(self):\n",
    "        self.dependence: dict = {'adm':'raw', 'flg':'raw', 'dst':'raw', 'raw':'term', 'reg':'term'}\n",
    "        super().__post_init__()\n",
    "    #     pass\n",
    "        # print(self.__dict__())\n",
    "TERM(overwrite={'adm'}).overwrite"
   ]
  },
  {
   "cell_type": "code",
   "execution_count": null,
   "metadata": {},
   "outputs": [],
   "source": [
    "dependence = {'adm':'raw', 'flg':'raw', 'dst':'raw', 'raw':'term', 'reg':'term'}\n",
    "l = 0\n",
    "overwrite = {'adm'}\n",
    "while l < len(overwrite):\n",
    "    l = len(overwrite)\n",
    "    overwrite |= {y for x in overwrite for y in setify(dependence[x] if x in dependence else {})}\n",
    "    # print(self.overwrite)\n",
    "overwrite"
   ]
  },
  {
   "cell_type": "code",
   "execution_count": null,
   "metadata": {},
   "outputs": [],
   "source": [
    "q = TERM(term_code=202408, overwrite={'adm'})\n",
    "q.overwrite"
   ]
  },
  {
   "cell_type": "code",
   "execution_count": null,
   "metadata": {},
   "outputs": [],
   "source": [
    "a = {'a'}\n",
    "a |= {'b'}\n",
    "a"
   ]
  },
  {
   "cell_type": "code",
   "execution_count": null,
   "metadata": {},
   "outputs": [],
   "source": [
    "dep = {\n",
    "    'a': {'b','c'},\n",
    "    'b': {'d','e'},\n",
    "}\n",
    "over = {'a'}\n",
    "l = 0\n",
    "while l < len(over):\n",
    "    l = len(over)\n",
    "    over |= {y for x in over for y in setify(dep[x] if x in dep else {})}\n",
    "    # if s == len(over):\n",
    "    #     break\n",
    "    # s = len(over)\n",
    "over"
   ]
  },
  {
   "cell_type": "code",
   "execution_count": null,
   "metadata": {},
   "outputs": [],
   "source": [
    "def g(L, D):\n",
    "    I = intersection(L, D.keys())\n",
    "    g()\n",
    "    {g(D[y]) for y in intersection(L, D.keys())}\n",
    "\n"
   ]
  },
  {
   "cell_type": "code",
   "execution_count": null,
   "metadata": {},
   "outputs": [],
   "source": [
    "a = pathlib.Path('/home/scook/institutional_data_analytics/admitted_matriculation_projection/admitted_matriculation_predictor/src/dst')\n",
    "a = pathlib.Path(a)"
   ]
  },
  {
   "cell_type": "code",
   "execution_count": null,
   "metadata": {},
   "outputs": [],
   "source": [
    "from setup import *\n",
    "fn = '/home/scook/institutional_data_analytics/admitted_matriculation_projection/admitted_matriculation_predictor/src/dst'\n",
    "dst = read(fn+'.parq')\n",
    "write(fn+'.pkl', dst)\n",
    "# fn.w\n",
    "# .with_suffix('.pkl')"
   ]
  }
 ],
 "metadata": {
  "kernelspec": {
   "display_name": "my3.11",
   "language": "python",
   "name": "python3"
  },
  "language_info": {
   "codemirror_mode": {
    "name": "ipython",
    "version": 3
   },
   "file_extension": ".py",
   "mimetype": "text/x-python",
   "name": "python",
   "nbconvert_exporter": "python",
   "pygments_lexer": "ipython3",
   "version": "3.11.8"
  }
 },
 "nbformat": 4,
 "nbformat_minor": 2
}
