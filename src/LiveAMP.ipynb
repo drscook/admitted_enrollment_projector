{
 "cells": [
  {
   "cell_type": "code",
   "execution_count": 1,
   "metadata": {},
   "outputs": [
    {
     "name": "stdout",
     "output_type": "stream",
     "text": [
      "creating terms: \n",
      "creating {'nm': 'term', 'term_code': 202108, 'cycle_day': 151}: \n",
      "0.07 sec\n",
      "creating {'nm': 'term', 'term_code': 202108, 'cycle_day': 0}: \n",
      "0.08 sec\n",
      "creating {'nm': 'term', 'term_code': 202208, 'cycle_day': 151}: \n",
      "0.06 sec\n",
      "creating {'nm': 'term', 'term_code': 202208, 'cycle_day': 0}: \n",
      "0.09 sec\n",
      "creating {'nm': 'term', 'term_code': 202308, 'cycle_day': 151}: \n",
      "0.07 sec\n",
      "creating {'nm': 'term', 'term_code': 202308, 'cycle_day': 0}: \n",
      "0.08 sec\n",
      "creating {'nm': 'term', 'term_code': 202408, 'cycle_day': 151}: \n",
      "0.09 sec\n",
      "creating {'nm': 'term', 'term_code': 202408, 'cycle_day': 0}: \n",
      "0.03 sec\n",
      "0.58 sec\n",
      "creating raw_df: 0.78 sec\n",
      "creating reg_df: 0.11 sec\n",
      "creating X: 2.55 sec\n",
      "creating Y: 0.93 sec\n",
      "creating mlt: 0.18 sec\n",
      "creating {'nm': 'X_proc', 'styp_code': 'n', 'crse_code': 'all', 'train_code': 'all', 'trf_hash': '6be4', 'imp_hash': '3d79', 'clf_hash': 'all'}: 39.71 sec\n",
      "creating {'nm': 'Z_proc', 'styp_code': 'n', 'crse_code': 'all', 'train_code': 'all', 'trf_hash': '6be4', 'imp_hash': '3d79', 'clf_hash': 'all'}: 2.09 sec\n",
      "creating {'nm': 'Y_pred', 'styp_code': 'n', 'crse_code': '_allcrse', 'train_code': 202308, 'trf_hash': '6be4', 'imp_hash': '3d79', 'clf_hash': 'd83b'}: 20.66 sec\n",
      "creating {'nm': 'summary', 'styp_code': 'n', 'crse_code': '_allcrse', 'train_code': 202308, 'trf_hash': '6be4', 'imp_hash': '3d79', 'clf_hash': 'd83b'}: {'train_score': 2}\n",
      "Index([202108, 202208, 202308], dtype='Int64', name='pred_code')\n",
      "{'train_score': 2, 'holdout_score': 2, '2024_projection_raw': 2, '2024_projection_202108': 2, '2024_projection_202208': 2, '2024_projection_202308': 2}\n",
      "0.23 sec\n",
      "{'nm': '', 'styp_code': 'n', 'crse_code': '_allcrse', 'train_code': 202308, 'trf_hash': '6be4', 'imp_hash': '3d79', 'clf_hash': 'd83b'}\n",
      "ColumnTransformer(transformers=[('act_equiv','passthrough',['__act_equiv']),('act_equiv_missing','passthrough',['__act_equiv_missing']),('apdc_day','passthrough',['__apdc_day']),('birth_day',Pipeline(steps=[('standardscaler',StandardScaler()),('powertransformer',PowerTransformer())]),['__birth_day']),('coll_code','passthrough',['__coll_code']),('di...('race_white','passthrough',['__race_white']),('reading','passthrough',['__reading']),('remote','passthrough',['__remote']),('resd','passthrough',['__resd']),('schlship_app','passthrough',['__schlship_app']),('ssb','passthrough',['__ssb']),('waiver','passthrough',['__waiver']),('writing','passthrough',['__writing'])],verbose_feature_names_out=False)\n",
      "{'datasets': 2, 'iterations': 3, 'tune': False}\n",
      "{'train': 10.506554559429226, 'holdout': 25.389561187285192, 'agg': 35.896115746714415}\n"
     ]
    },
    {
     "data": {
      "text/html": [
       "<table border=\"1\" class=\"dataframe\">\n",
       "  <thead>\n",
       "    <tr style=\"text-align: right;\">\n",
       "      <th></th>\n",
       "      <th>count</th>\n",
       "      <th>mean</th>\n",
       "      <th>std</th>\n",
       "      <th>min</th>\n",
       "      <th>25%</th>\n",
       "      <th>50%</th>\n",
       "      <th>75%</th>\n",
       "      <th>max</th>\n",
       "    </tr>\n",
       "  </thead>\n",
       "  <tbody>\n",
       "    <tr>\n",
       "      <th>train_score</th>\n",
       "      <td>2.0</td>\n",
       "      <td>10.506555</td>\n",
       "      <td>0.112652</td>\n",
       "      <td>10.426898</td>\n",
       "      <td>10.466726</td>\n",
       "      <td>10.506555</td>\n",
       "      <td>10.546383</td>\n",
       "      <td>10.586211</td>\n",
       "    </tr>\n",
       "    <tr>\n",
       "      <th>holdout_score</th>\n",
       "      <td>2.0</td>\n",
       "      <td>25.389561</td>\n",
       "      <td>0.242375</td>\n",
       "      <td>25.218176</td>\n",
       "      <td>25.303869</td>\n",
       "      <td>25.389561</td>\n",
       "      <td>25.475254</td>\n",
       "      <td>25.560946</td>\n",
       "    </tr>\n",
       "    <tr>\n",
       "      <th>2024_projection_raw</th>\n",
       "      <td>2.0</td>\n",
       "      <td>2567.000000</td>\n",
       "      <td>104.651804</td>\n",
       "      <td>2493.000000</td>\n",
       "      <td>2530.000000</td>\n",
       "      <td>2567.000000</td>\n",
       "      <td>2604.000000</td>\n",
       "      <td>2641.000000</td>\n",
       "    </tr>\n",
       "    <tr>\n",
       "      <th>2024_projection_202108</th>\n",
       "      <td>2.0</td>\n",
       "      <td>3025.897140</td>\n",
       "      <td>123.360184</td>\n",
       "      <td>2938.668317</td>\n",
       "      <td>2982.282728</td>\n",
       "      <td>3025.897140</td>\n",
       "      <td>3069.511551</td>\n",
       "      <td>3113.125963</td>\n",
       "    </tr>\n",
       "    <tr>\n",
       "      <th>2024_projection_202208</th>\n",
       "      <td>2.0</td>\n",
       "      <td>2973.978230</td>\n",
       "      <td>121.243547</td>\n",
       "      <td>2888.246096</td>\n",
       "      <td>2931.112163</td>\n",
       "      <td>2973.978230</td>\n",
       "      <td>3016.844297</td>\n",
       "      <td>3059.710364</td>\n",
       "    </tr>\n",
       "    <tr>\n",
       "      <th>2024_projection_202308</th>\n",
       "      <td>2.0</td>\n",
       "      <td>2835.883797</td>\n",
       "      <td>115.613695</td>\n",
       "      <td>2754.132570</td>\n",
       "      <td>2795.008183</td>\n",
       "      <td>2835.883797</td>\n",
       "      <td>2876.759411</td>\n",
       "      <td>2917.635025</td>\n",
       "    </tr>\n",
       "  </tbody>\n",
       "</table>"
      ],
      "text/plain": [
       "<IPython.core.display.HTML object>"
      ]
     },
     "metadata": {},
     "output_type": "display_data"
    },
    {
     "name": "stdout",
     "output_type": "stream",
     "text": [
      "creating {'nm': 'X_proc', 'styp_code': 'n', 'crse_code': 'all', 'train_code': 'all', 'trf_hash': '0c5c', 'imp_hash': '3d79', 'clf_hash': 'all'}: 25.74 sec\n",
      "creating {'nm': 'Z_proc', 'styp_code': 'n', 'crse_code': 'all', 'train_code': 'all', 'trf_hash': '0c5c', 'imp_hash': '3d79', 'clf_hash': 'all'}: 1.69 sec\n",
      "creating {'nm': 'Y_pred', 'styp_code': 'n', 'crse_code': '_allcrse', 'train_code': 202308, 'trf_hash': '0c5c', 'imp_hash': '3d79', 'clf_hash': 'd83b'}: 19.28 sec\n",
      "creating {'nm': 'summary', 'styp_code': 'n', 'crse_code': '_allcrse', 'train_code': 202308, 'trf_hash': '0c5c', 'imp_hash': '3d79', 'clf_hash': 'd83b'}: {'train_score': 2}\n",
      "Index([202108, 202208, 202308], dtype='Int64', name='pred_code')\n",
      "{'train_score': 2, 'holdout_score': 2, '2024_projection_raw': 2, '2024_projection_202108': 2, '2024_projection_202208': 2, '2024_projection_202308': 2}\n",
      "0.30 sec\n",
      "{'nm': '', 'styp_code': 'n', 'crse_code': '_allcrse', 'train_code': 202308, 'trf_hash': '0c5c', 'imp_hash': '3d79', 'clf_hash': 'd83b'}\n",
      "ColumnTransformer(transformers=[('act_equiv','passthrough',['__act_equiv']),('act_equiv_missing','passthrough',['__act_equiv_missing']),('apdc_day','passthrough',['__apdc_day']),('birth_day',Pipeline(steps=[('standardscaler',StandardScaler()),('powertransformer',PowerTransformer())]),['__birth_day']),('coll_code','passthrough',['__coll_code']),('di...('race_white','passthrough',['__race_white']),('reading','passthrough',['__reading']),('remote','passthrough',['__remote']),('resd','passthrough',['__resd']),('schlship_app','passthrough',['__schlship_app']),('ssb','passthrough',['__ssb']),('waiver','passthrough',['__waiver']),('writing','passthrough',['__writing'])],verbose_feature_names_out=False)\n",
      "{'datasets': 2, 'iterations': 3, 'tune': False}\n",
      "{'train': 10.460658751135135, 'holdout': 25.295783350331604, 'agg': 35.75644210146674}\n"
     ]
    },
    {
     "data": {
      "text/html": [
       "<table border=\"1\" class=\"dataframe\">\n",
       "  <thead>\n",
       "    <tr style=\"text-align: right;\">\n",
       "      <th></th>\n",
       "      <th>count</th>\n",
       "      <th>mean</th>\n",
       "      <th>std</th>\n",
       "      <th>min</th>\n",
       "      <th>25%</th>\n",
       "      <th>50%</th>\n",
       "      <th>75%</th>\n",
       "      <th>max</th>\n",
       "    </tr>\n",
       "  </thead>\n",
       "  <tbody>\n",
       "    <tr>\n",
       "      <th>train_score</th>\n",
       "      <td>2.0</td>\n",
       "      <td>10.460659</td>\n",
       "      <td>0.100848</td>\n",
       "      <td>10.389349</td>\n",
       "      <td>10.425004</td>\n",
       "      <td>10.460659</td>\n",
       "      <td>10.496314</td>\n",
       "      <td>10.531969</td>\n",
       "    </tr>\n",
       "    <tr>\n",
       "      <th>holdout_score</th>\n",
       "      <td>2.0</td>\n",
       "      <td>25.295783</td>\n",
       "      <td>0.163028</td>\n",
       "      <td>25.180505</td>\n",
       "      <td>25.238144</td>\n",
       "      <td>25.295783</td>\n",
       "      <td>25.353422</td>\n",
       "      <td>25.411061</td>\n",
       "    </tr>\n",
       "    <tr>\n",
       "      <th>2024_projection_raw</th>\n",
       "      <td>2.0</td>\n",
       "      <td>2592.500000</td>\n",
       "      <td>96.873629</td>\n",
       "      <td>2524.000000</td>\n",
       "      <td>2558.250000</td>\n",
       "      <td>2592.500000</td>\n",
       "      <td>2626.750000</td>\n",
       "      <td>2661.000000</td>\n",
       "    </tr>\n",
       "    <tr>\n",
       "      <th>2024_projection_202108</th>\n",
       "      <td>2.0</td>\n",
       "      <td>3055.955721</td>\n",
       "      <td>114.191522</td>\n",
       "      <td>2975.210121</td>\n",
       "      <td>3015.582921</td>\n",
       "      <td>3055.955721</td>\n",
       "      <td>3096.328520</td>\n",
       "      <td>3136.701320</td>\n",
       "    </tr>\n",
       "    <tr>\n",
       "      <th>2024_projection_202208</th>\n",
       "      <td>2.0</td>\n",
       "      <td>3003.521060</td>\n",
       "      <td>112.232202</td>\n",
       "      <td>2924.160909</td>\n",
       "      <td>2963.840984</td>\n",
       "      <td>3003.521060</td>\n",
       "      <td>3043.201136</td>\n",
       "      <td>3082.881212</td>\n",
       "    </tr>\n",
       "    <tr>\n",
       "      <th>2024_projection_202308</th>\n",
       "      <td>2.0</td>\n",
       "      <td>2864.054828</td>\n",
       "      <td>107.020785</td>\n",
       "      <td>2788.379705</td>\n",
       "      <td>2826.217267</td>\n",
       "      <td>2864.054828</td>\n",
       "      <td>2901.892390</td>\n",
       "      <td>2939.729951</td>\n",
       "    </tr>\n",
       "  </tbody>\n",
       "</table>"
      ],
      "text/plain": [
       "<IPython.core.display.HTML object>"
      ]
     },
     "metadata": {},
     "output_type": "display_data"
    },
    {
     "name": "stdout",
     "output_type": "stream",
     "text": [
      "creating {'nm': 'X_proc', 'styp_code': 'n', 'crse_code': 'all', 'train_code': 'all', 'trf_hash': '8dec', 'imp_hash': '3d79', 'clf_hash': 'all'}: 32.38 sec\n",
      "creating {'nm': 'Z_proc', 'styp_code': 'n', 'crse_code': 'all', 'train_code': 'all', 'trf_hash': '8dec', 'imp_hash': '3d79', 'clf_hash': 'all'}: 1.70 sec\n",
      "creating {'nm': 'Y_pred', 'styp_code': 'n', 'crse_code': '_allcrse', 'train_code': 202308, 'trf_hash': '8dec', 'imp_hash': '3d79', 'clf_hash': 'd83b'}: 19.43 sec\n",
      "creating {'nm': 'summary', 'styp_code': 'n', 'crse_code': '_allcrse', 'train_code': 202308, 'trf_hash': '8dec', 'imp_hash': '3d79', 'clf_hash': 'd83b'}: {'train_score': 2}\n",
      "Index([202108, 202208, 202308], dtype='Int64', name='pred_code')\n",
      "{'train_score': 2, 'holdout_score': 2, '2024_projection_raw': 2, '2024_projection_202108': 2, '2024_projection_202208': 2, '2024_projection_202308': 2}\n",
      "0.24 sec\n",
      "{'nm': '', 'styp_code': 'n', 'crse_code': '_allcrse', 'train_code': 202308, 'trf_hash': '8dec', 'imp_hash': '3d79', 'clf_hash': 'd83b'}\n",
      "ColumnTransformer(transformers=[('act_equiv','passthrough',['__act_equiv']),('act_equiv_missing','passthrough',['__act_equiv_missing']),('apdc_day','passthrough',['__apdc_day']),('birth_day','passthrough',['__birth_day']),('coll_code','passthrough',['__coll_code']),('distance',Pipeline(steps=[('standardscaler',StandardScaler()),('powertransformer',...('race_white','passthrough',['__race_white']),('reading','passthrough',['__reading']),('remote','passthrough',['__remote']),('resd','passthrough',['__resd']),('schlship_app','passthrough',['__schlship_app']),('ssb','passthrough',['__ssb']),('waiver','passthrough',['__waiver']),('writing','passthrough',['__writing'])],verbose_feature_names_out=False)\n",
      "{'datasets': 2, 'iterations': 3, 'tune': False}\n",
      "{'train': 10.452029898464158, 'holdout': 25.152710252759334, 'agg': 35.604740151223496}\n"
     ]
    },
    {
     "data": {
      "text/html": [
       "<table border=\"1\" class=\"dataframe\">\n",
       "  <thead>\n",
       "    <tr style=\"text-align: right;\">\n",
       "      <th></th>\n",
       "      <th>count</th>\n",
       "      <th>mean</th>\n",
       "      <th>std</th>\n",
       "      <th>min</th>\n",
       "      <th>25%</th>\n",
       "      <th>50%</th>\n",
       "      <th>75%</th>\n",
       "      <th>max</th>\n",
       "    </tr>\n",
       "  </thead>\n",
       "  <tbody>\n",
       "    <tr>\n",
       "      <th>train_score</th>\n",
       "      <td>2.0</td>\n",
       "      <td>10.452030</td>\n",
       "      <td>0.035838</td>\n",
       "      <td>10.426688</td>\n",
       "      <td>10.439359</td>\n",
       "      <td>10.452030</td>\n",
       "      <td>10.464701</td>\n",
       "      <td>10.477371</td>\n",
       "    </tr>\n",
       "    <tr>\n",
       "      <th>holdout_score</th>\n",
       "      <td>2.0</td>\n",
       "      <td>25.152710</td>\n",
       "      <td>0.274193</td>\n",
       "      <td>24.958826</td>\n",
       "      <td>25.055768</td>\n",
       "      <td>25.152710</td>\n",
       "      <td>25.249652</td>\n",
       "      <td>25.346594</td>\n",
       "    </tr>\n",
       "    <tr>\n",
       "      <th>2024_projection_raw</th>\n",
       "      <td>2.0</td>\n",
       "      <td>2158.500000</td>\n",
       "      <td>147.785317</td>\n",
       "      <td>2054.000000</td>\n",
       "      <td>2106.250000</td>\n",
       "      <td>2158.500000</td>\n",
       "      <td>2210.750000</td>\n",
       "      <td>2263.000000</td>\n",
       "    </tr>\n",
       "    <tr>\n",
       "      <th>2024_projection_202108</th>\n",
       "      <td>2.0</td>\n",
       "      <td>2544.370462</td>\n",
       "      <td>174.204585</td>\n",
       "      <td>2421.189219</td>\n",
       "      <td>2482.779840</td>\n",
       "      <td>2544.370462</td>\n",
       "      <td>2605.961084</td>\n",
       "      <td>2667.551705</td>\n",
       "    </tr>\n",
       "    <tr>\n",
       "      <th>2024_projection_202208</th>\n",
       "      <td>2.0</td>\n",
       "      <td>2500.713677</td>\n",
       "      <td>171.215550</td>\n",
       "      <td>2379.646001</td>\n",
       "      <td>2440.179839</td>\n",
       "      <td>2500.713677</td>\n",
       "      <td>2561.247515</td>\n",
       "      <td>2621.781354</td>\n",
       "    </tr>\n",
       "    <tr>\n",
       "      <th>2024_projection_202308</th>\n",
       "      <td>2.0</td>\n",
       "      <td>2384.594926</td>\n",
       "      <td>163.265285</td>\n",
       "      <td>2269.148936</td>\n",
       "      <td>2326.871931</td>\n",
       "      <td>2384.594926</td>\n",
       "      <td>2442.317921</td>\n",
       "      <td>2500.040917</td>\n",
       "    </tr>\n",
       "  </tbody>\n",
       "</table>"
      ],
      "text/plain": [
       "<IPython.core.display.HTML object>"
      ]
     },
     "metadata": {},
     "output_type": "display_data"
    },
    {
     "name": "stdout",
     "output_type": "stream",
     "text": [
      "creating {'nm': 'X_proc', 'styp_code': 'n', 'crse_code': 'all', 'train_code': 'all', 'trf_hash': '8975', 'imp_hash': '3d79', 'clf_hash': 'all'}: 35.08 sec\n",
      "creating {'nm': 'Z_proc', 'styp_code': 'n', 'crse_code': 'all', 'train_code': 'all', 'trf_hash': '8975', 'imp_hash': '3d79', 'clf_hash': 'all'}: 1.73 sec\n",
      "creating {'nm': 'Y_pred', 'styp_code': 'n', 'crse_code': '_allcrse', 'train_code': 202308, 'trf_hash': '8975', 'imp_hash': '3d79', 'clf_hash': 'd83b'}: 18.59 sec\n",
      "creating {'nm': 'summary', 'styp_code': 'n', 'crse_code': '_allcrse', 'train_code': 202308, 'trf_hash': '8975', 'imp_hash': '3d79', 'clf_hash': 'd83b'}: {'train_score': 2}\n",
      "Index([202108, 202208, 202308], dtype='Int64', name='pred_code')\n",
      "{'train_score': 2, 'holdout_score': 2, '2024_projection_raw': 2, '2024_projection_202108': 2, '2024_projection_202208': 2, '2024_projection_202308': 2}\n",
      "0.40 sec\n",
      "{'nm': '', 'styp_code': 'n', 'crse_code': '_allcrse', 'train_code': 202308, 'trf_hash': '8975', 'imp_hash': '3d79', 'clf_hash': 'd83b'}\n",
      "ColumnTransformer(transformers=[('act_equiv','passthrough',['__act_equiv']),('act_equiv_missing','passthrough',['__act_equiv_missing']),('apdc_day','passthrough',['__apdc_day']),('birth_day','passthrough',['__birth_day']),('coll_code','passthrough',['__coll_code']),('distance','passthrough',['__distance']),('gap_score','passthrough',['__gap_score']...('race_white','passthrough',['__race_white']),('reading','passthrough',['__reading']),('remote','passthrough',['__remote']),('resd','passthrough',['__resd']),('schlship_app','passthrough',['__schlship_app']),('ssb','passthrough',['__ssb']),('waiver','passthrough',['__waiver']),('writing','passthrough',['__writing'])],verbose_feature_names_out=False)\n",
      "{'datasets': 2, 'iterations': 3, 'tune': False}\n",
      "{'train': 10.487327701484348, 'holdout': 25.552961875779364, 'agg': 36.040289577263714}\n"
     ]
    },
    {
     "data": {
      "text/html": [
       "<table border=\"1\" class=\"dataframe\">\n",
       "  <thead>\n",
       "    <tr style=\"text-align: right;\">\n",
       "      <th></th>\n",
       "      <th>count</th>\n",
       "      <th>mean</th>\n",
       "      <th>std</th>\n",
       "      <th>min</th>\n",
       "      <th>25%</th>\n",
       "      <th>50%</th>\n",
       "      <th>75%</th>\n",
       "      <th>max</th>\n",
       "    </tr>\n",
       "  </thead>\n",
       "  <tbody>\n",
       "    <tr>\n",
       "      <th>train_score</th>\n",
       "      <td>2.0</td>\n",
       "      <td>10.487328</td>\n",
       "      <td>0.092634</td>\n",
       "      <td>10.421826</td>\n",
       "      <td>10.454577</td>\n",
       "      <td>10.487328</td>\n",
       "      <td>10.520079</td>\n",
       "      <td>10.552830</td>\n",
       "    </tr>\n",
       "    <tr>\n",
       "      <th>holdout_score</th>\n",
       "      <td>2.0</td>\n",
       "      <td>25.552962</td>\n",
       "      <td>0.024316</td>\n",
       "      <td>25.535768</td>\n",
       "      <td>25.544365</td>\n",
       "      <td>25.552962</td>\n",
       "      <td>25.561559</td>\n",
       "      <td>25.570156</td>\n",
       "    </tr>\n",
       "    <tr>\n",
       "      <th>2024_projection_raw</th>\n",
       "      <td>2.0</td>\n",
       "      <td>2781.000000</td>\n",
       "      <td>4.242641</td>\n",
       "      <td>2778.000000</td>\n",
       "      <td>2779.500000</td>\n",
       "      <td>2781.000000</td>\n",
       "      <td>2782.500000</td>\n",
       "      <td>2784.000000</td>\n",
       "    </tr>\n",
       "    <tr>\n",
       "      <th>2024_projection_202108</th>\n",
       "      <td>2.0</td>\n",
       "      <td>3278.153465</td>\n",
       "      <td>5.001089</td>\n",
       "      <td>3274.617162</td>\n",
       "      <td>3276.385314</td>\n",
       "      <td>3278.153465</td>\n",
       "      <td>3279.921617</td>\n",
       "      <td>3281.689769</td>\n",
       "    </tr>\n",
       "    <tr>\n",
       "      <th>2024_projection_202208</th>\n",
       "      <td>2.0</td>\n",
       "      <td>3221.906294</td>\n",
       "      <td>4.915279</td>\n",
       "      <td>3218.430667</td>\n",
       "      <td>3220.168481</td>\n",
       "      <td>3221.906294</td>\n",
       "      <td>3223.644108</td>\n",
       "      <td>3225.381921</td>\n",
       "    </tr>\n",
       "    <tr>\n",
       "      <th>2024_projection_202308</th>\n",
       "      <td>2.0</td>\n",
       "      <td>3072.299509</td>\n",
       "      <td>4.687042</td>\n",
       "      <td>3068.985270</td>\n",
       "      <td>3070.642390</td>\n",
       "      <td>3072.299509</td>\n",
       "      <td>3073.956628</td>\n",
       "      <td>3075.613748</td>\n",
       "    </tr>\n",
       "  </tbody>\n",
       "</table>"
      ],
      "text/plain": [
       "<IPython.core.display.HTML object>"
      ]
     },
     "metadata": {},
     "output_type": "display_data"
    },
    {
     "name": "stdout",
     "output_type": "stream",
     "text": [
      "creating {'nm': 'Y_pred', 'styp_code': 'n', 'crse_code': 'math1314', 'train_code': 202308, 'trf_hash': '6be4', 'imp_hash': '3d79', 'clf_hash': 'd83b'}: 19.47 sec\n",
      "creating {'nm': 'summary', 'styp_code': 'n', 'crse_code': 'math1314', 'train_code': 202308, 'trf_hash': '6be4', 'imp_hash': '3d79', 'clf_hash': 'd83b'}: {'train_score': 2}\n",
      "Index([202108, 202208, 202308], dtype='Int64', name='pred_code')\n",
      "{'train_score': 2, 'holdout_score': 2, '2024_projection_raw': 2, '2024_projection_202108': 2, '2024_projection_202208': 2, '2024_projection_202308': 2}\n",
      "0.24 sec\n",
      "{'nm': '', 'styp_code': 'n', 'crse_code': 'math1314', 'train_code': 202308, 'trf_hash': '6be4', 'imp_hash': '3d79', 'clf_hash': 'd83b'}\n",
      "ColumnTransformer(transformers=[('act_equiv','passthrough',['__act_equiv']),('act_equiv_missing','passthrough',['__act_equiv_missing']),('apdc_day','passthrough',['__apdc_day']),('birth_day',Pipeline(steps=[('standardscaler',StandardScaler()),('powertransformer',PowerTransformer())]),['__birth_day']),('coll_code','passthrough',['__coll_code']),('di...('race_white','passthrough',['__race_white']),('reading','passthrough',['__reading']),('remote','passthrough',['__remote']),('resd','passthrough',['__resd']),('schlship_app','passthrough',['__schlship_app']),('ssb','passthrough',['__ssb']),('waiver','passthrough',['__waiver']),('writing','passthrough',['__writing'])],verbose_feature_names_out=False)\n",
      "{'datasets': 2, 'iterations': 3, 'tune': False}\n",
      "{'train': 69.91529766266115, 'holdout': 68.69849448796816, 'agg': 138.6137921506293}\n"
     ]
    },
    {
     "data": {
      "text/html": [
       "<table border=\"1\" class=\"dataframe\">\n",
       "  <thead>\n",
       "    <tr style=\"text-align: right;\">\n",
       "      <th></th>\n",
       "      <th>count</th>\n",
       "      <th>mean</th>\n",
       "      <th>std</th>\n",
       "      <th>min</th>\n",
       "      <th>25%</th>\n",
       "      <th>50%</th>\n",
       "      <th>75%</th>\n",
       "      <th>max</th>\n",
       "    </tr>\n",
       "  </thead>\n",
       "  <tbody>\n",
       "    <tr>\n",
       "      <th>train_score</th>\n",
       "      <td>2.0</td>\n",
       "      <td>69.915298</td>\n",
       "      <td>6.589236</td>\n",
       "      <td>65.256004</td>\n",
       "      <td>67.585651</td>\n",
       "      <td>69.915298</td>\n",
       "      <td>72.244944</td>\n",
       "      <td>74.574591</td>\n",
       "    </tr>\n",
       "    <tr>\n",
       "      <th>holdout_score</th>\n",
       "      <td>2.0</td>\n",
       "      <td>68.698494</td>\n",
       "      <td>3.550096</td>\n",
       "      <td>66.188198</td>\n",
       "      <td>67.443346</td>\n",
       "      <td>68.698494</td>\n",
       "      <td>69.953643</td>\n",
       "      <td>71.208791</td>\n",
       "    </tr>\n",
       "    <tr>\n",
       "      <th>2024_projection_raw</th>\n",
       "      <td>2.0</td>\n",
       "      <td>462.500000</td>\n",
       "      <td>188.797511</td>\n",
       "      <td>329.000000</td>\n",
       "      <td>395.750000</td>\n",
       "      <td>462.500000</td>\n",
       "      <td>529.250000</td>\n",
       "      <td>596.000000</td>\n",
       "    </tr>\n",
       "    <tr>\n",
       "      <th>2024_projection_202108</th>\n",
       "      <td>2.0</td>\n",
       "      <td>545.968935</td>\n",
       "      <td>222.870434</td>\n",
       "      <td>388.375740</td>\n",
       "      <td>467.172337</td>\n",
       "      <td>545.968935</td>\n",
       "      <td>624.765533</td>\n",
       "      <td>703.562130</td>\n",
       "    </tr>\n",
       "    <tr>\n",
       "      <th>2024_projection_202208</th>\n",
       "      <td>2.0</td>\n",
       "      <td>522.278912</td>\n",
       "      <td>213.199910</td>\n",
       "      <td>371.523810</td>\n",
       "      <td>446.901361</td>\n",
       "      <td>522.278912</td>\n",
       "      <td>597.656463</td>\n",
       "      <td>673.034014</td>\n",
       "    </tr>\n",
       "    <tr>\n",
       "      <th>2024_projection_202308</th>\n",
       "      <td>2.0</td>\n",
       "      <td>505.126728</td>\n",
       "      <td>206.198203</td>\n",
       "      <td>359.322581</td>\n",
       "      <td>432.224654</td>\n",
       "      <td>505.126728</td>\n",
       "      <td>578.028802</td>\n",
       "      <td>650.930876</td>\n",
       "    </tr>\n",
       "  </tbody>\n",
       "</table>"
      ],
      "text/plain": [
       "<IPython.core.display.HTML object>"
      ]
     },
     "metadata": {},
     "output_type": "display_data"
    },
    {
     "name": "stdout",
     "output_type": "stream",
     "text": [
      "creating {'nm': 'Y_pred', 'styp_code': 'n', 'crse_code': 'math1314', 'train_code': 202308, 'trf_hash': '0c5c', 'imp_hash': '3d79', 'clf_hash': 'd83b'}: 9.30 sec\n"
     ]
    },
    {
     "ename": "KeyboardInterrupt",
     "evalue": "",
     "output_type": "error",
     "traceback": [
      "\u001b[0;31m---------------------------------------------------------------------------\u001b[0m",
      "\u001b[0;31mKeyboardInterrupt\u001b[0m                         Traceback (most recent call last)",
      "Cell \u001b[0;32mIn[1], line 3\u001b[0m\n\u001b[1;32m      1\u001b[0m \u001b[38;5;28;01mfrom\u001b[39;00m \u001b[38;5;21;01mLiveAMP\u001b[39;00m \u001b[38;5;28;01mimport\u001b[39;00m \u001b[38;5;241m*\u001b[39m\n\u001b[1;32m      2\u001b[0m \u001b[38;5;28mself\u001b[39m \u001b[38;5;241m=\u001b[39m AMP(\u001b[38;5;241m*\u001b[39m\u001b[38;5;241m*\u001b[39mkwargs)\n\u001b[0;32m----> 3\u001b[0m dct \u001b[38;5;241m=\u001b[39m \u001b[38;5;28;43mself\u001b[39;49m\u001b[38;5;241;43m.\u001b[39;49m\u001b[43mrun\u001b[49m\u001b[43m(\u001b[49m\u001b[43m)\u001b[49m\n",
      "File \u001b[0;32m~/institutional_data_analytics/admitted_matriculation_projection/admitted_matriculation_predictor/src/LiveAMP.py:246\u001b[0m, in \u001b[0;36mrun\u001b[0;34m(self)\u001b[0m\n\u001b[1;32m    244\u001b[0m dct \u001b[38;5;241m=\u001b[39m \u001b[38;5;28mself\u001b[39m\u001b[38;5;241m.\u001b[39mget(qath \u001b[38;5;241m|\u001b[39m {\u001b[38;5;124m'\u001b[39m\u001b[38;5;124mnm\u001b[39m\u001b[38;5;124m'\u001b[39m:\u001b[38;5;124m'\u001b[39m\u001b[38;5;124mZ_proc\u001b[39m\u001b[38;5;124m'\u001b[39m})\n\u001b[1;32m    245\u001b[0m dct \u001b[38;5;241m=\u001b[39m \u001b[38;5;28mself\u001b[39m\u001b[38;5;241m.\u001b[39mget(path \u001b[38;5;241m|\u001b[39m {\u001b[38;5;124m'\u001b[39m\u001b[38;5;124mnm\u001b[39m\u001b[38;5;124m'\u001b[39m:\u001b[38;5;124m'\u001b[39m\u001b[38;5;124mY_pred\u001b[39m\u001b[38;5;124m'\u001b[39m})\n\u001b[0;32m--> 246\u001b[0m dct \u001b[38;5;241m=\u001b[39m \u001b[38;5;28mself\u001b[39m\u001b[38;5;241m.\u001b[39mget(path \u001b[38;5;241m|\u001b[39m {\u001b[38;5;124m'\u001b[39m\u001b[38;5;124mnm\u001b[39m\u001b[38;5;124m'\u001b[39m:\u001b[38;5;124m'\u001b[39m\u001b[38;5;124msummary\u001b[39m\u001b[38;5;124m'\u001b[39m})\n\u001b[1;32m    247\u001b[0m \u001b[38;5;28mprint\u001b[39m(path)\n\u001b[1;32m    248\u001b[0m \u001b[38;5;28mprint\u001b[39m(dct[\u001b[38;5;124m'\u001b[39m\u001b[38;5;124mtrf_str\u001b[39m\u001b[38;5;124m'\u001b[39m])\n",
      "File \u001b[0;32m~/institutional_data_analytics/admitted_matriculation_projection/admitted_matriculation_predictor/src/setup.py:348\u001b[0m, in \u001b[0;36mMyBaseClass.get\u001b[0;34m(self, path, val, fn, **kwargs)\u001b[0m\n\u001b[1;32m    346\u001b[0m     \u001b[38;5;28mprint\u001b[39m(\u001b[38;5;124mf\u001b[39m\u001b[38;5;124m\"\u001b[39m\u001b[38;5;124mcreating \u001b[39m\u001b[38;5;132;01m{\u001b[39;00mpath\u001b[38;5;132;01m}\u001b[39;00m\u001b[38;5;124m\"\u001b[39m, end\u001b[38;5;241m=\u001b[39m\u001b[38;5;124m\"\u001b[39m\u001b[38;5;124m: \u001b[39m\u001b[38;5;124m\"\u001b[39m)\n\u001b[1;32m    347\u001b[0m     \u001b[38;5;28;01mwith\u001b[39;00m codetiming\u001b[38;5;241m.\u001b[39mTimer(text\u001b[38;5;241m=\u001b[39m\u001b[38;5;124m\"\u001b[39m\u001b[38;5;132;01m{:0.2f}\u001b[39;00m\u001b[38;5;124m sec\u001b[39m\u001b[38;5;124m\"\u001b[39m):\n\u001b[0;32m--> 348\u001b[0m         val \u001b[38;5;241m=\u001b[39m \u001b[38;5;28;43mgetattr\u001b[39;49m\u001b[43m(\u001b[49m\u001b[38;5;28;43mself\u001b[39;49m\u001b[43m,\u001b[49m\u001b[38;5;124;43m'\u001b[39;49m\u001b[38;5;124;43mget_\u001b[39;49m\u001b[38;5;124;43m'\u001b[39;49m\u001b[38;5;241;43m+\u001b[39;49m\u001b[43mnm\u001b[49m\u001b[43m)\u001b[49m\u001b[43m(\u001b[49m\u001b[43mpath\u001b[49m\u001b[43m,\u001b[49m\u001b[43m \u001b[49m\u001b[38;5;241;43m*\u001b[39;49m\u001b[38;5;241;43m*\u001b[39;49m\u001b[43mkwargs\u001b[49m\u001b[43m)\u001b[49m\n\u001b[1;32m    349\u001b[0m \u001b[38;5;28;01melse\u001b[39;00m:\n\u001b[1;32m    350\u001b[0m     \u001b[38;5;66;03m# print(f\"read {path} from {fn}\")\u001b[39;00m\n\u001b[1;32m    351\u001b[0m     fn \u001b[38;5;241m=\u001b[39m \u001b[38;5;28;01mNone\u001b[39;00m\n",
      "File \u001b[0;32m~/institutional_data_analytics/admitted_matriculation_projection/admitted_matriculation_predictor/src/LiveAMP.py:195\u001b[0m, in \u001b[0;36mget_Y_pred\u001b[0;34m(self, path, **kwargs)\u001b[0m\n\u001b[1;32m    193\u001b[0m \u001b[38;5;28;01mwith\u001b[39;00m warnings\u001b[38;5;241m.\u001b[39mcatch_warnings(action\u001b[38;5;241m=\u001b[39m\u001b[38;5;124m'\u001b[39m\u001b[38;5;124mignore\u001b[39m\u001b[38;5;124m'\u001b[39m):\n\u001b[1;32m    194\u001b[0m     clf\u001b[38;5;241m.\u001b[39mfit(Z[trn_mask]\u001b[38;5;241m.\u001b[39mdrop(columns\u001b[38;5;241m=\u001b[39mtarg), Z[trn_mask][targ], eval_method\u001b[38;5;241m=\u001b[39m\u001b[38;5;124m'\u001b[39m\u001b[38;5;124mcv\u001b[39m\u001b[38;5;124m'\u001b[39m, n_splits\u001b[38;5;241m=\u001b[39m\u001b[38;5;28mself\u001b[39m\u001b[38;5;241m.\u001b[39mn_splits, \u001b[38;5;241m*\u001b[39m\u001b[38;5;241m*\u001b[39mclf_par)\n\u001b[0;32m--> 195\u001b[0m Y \u001b[38;5;241m=\u001b[39m (\n\u001b[1;32m    196\u001b[0m     Z[targ]\u001b[38;5;241m.\u001b[39mrename(\u001b[38;5;124m'\u001b[39m\u001b[38;5;124mactual\u001b[39m\u001b[38;5;124m'\u001b[39m)\u001b[38;5;241m.\u001b[39mto_frame()\n\u001b[1;32m    197\u001b[0m     \u001b[38;5;241m.\u001b[39massign(predicted\u001b[38;5;241m=\u001b[39mclf\u001b[38;5;241m.\u001b[39mpredict(Z\u001b[38;5;241m.\u001b[39mdrop(columns\u001b[38;5;241m=\u001b[39mtarg)))\n\u001b[1;32m    198\u001b[0m     \u001b[38;5;241m.\u001b[39massign(proba\u001b[38;5;241m=\u001b[39mclf\u001b[38;5;241m.\u001b[39mpredict_proba(Z\u001b[38;5;241m.\u001b[39mdrop(columns\u001b[38;5;241m=\u001b[39mtarg))[:,\u001b[38;5;241m1\u001b[39m])\n\u001b[1;32m    199\u001b[0m )\n\u001b[1;32m    200\u001b[0m dct[\u001b[38;5;124m'\u001b[39m\u001b[38;5;124mY_pred\u001b[39m\u001b[38;5;124m'\u001b[39m]\u001b[38;5;241m.\u001b[39mappend(Y)\n\u001b[1;32m    201\u001b[0m dct[\u001b[38;5;124m'\u001b[39m\u001b[38;5;124mtrain_score\u001b[39m\u001b[38;5;124m'\u001b[39m]\u001b[38;5;241m.\u001b[39mappend(clf\u001b[38;5;241m.\u001b[39mbest_result[\u001b[38;5;124m'\u001b[39m\u001b[38;5;124mval_loss\u001b[39m\u001b[38;5;124m'\u001b[39m] \u001b[38;5;241m*\u001b[39m \u001b[38;5;241m100\u001b[39m)\n",
      "File \u001b[0;32m~/miniconda3/envs/my3.11/lib/python3.11/site-packages/flaml/automl/automl.py:1929\u001b[0m, in \u001b[0;36mAutoML.fit\u001b[0;34m(self, X_train, y_train, dataframe, label, metric, task, n_jobs, log_file_name, estimator_list, time_budget, max_iter, sample, ensemble, eval_method, log_type, model_history, split_ratio, n_splits, log_training_metric, mem_thres, pred_time_limit, train_time_limit, X_val, y_val, sample_weight_val, groups_val, groups, verbose, retrain_full, split_type, learner_selector, hpo_method, starting_points, seed, n_concurrent_trials, keep_search_state, preserve_checkpoint, early_stop, force_cancel, append_log, auto_augment, min_sample_size, use_ray, use_spark, free_mem_ratio, metric_constraints, custom_hp, time_col, cv_score_agg_func, skip_transform, mlflow_logging, fit_kwargs_by_estimator, **fit_kwargs)\u001b[0m\n\u001b[1;32m   1927\u001b[0m \u001b[38;5;28;01melse\u001b[39;00m:\n\u001b[1;32m   1928\u001b[0m     \u001b[38;5;28mself\u001b[39m\u001b[38;5;241m.\u001b[39m_training_log \u001b[38;5;241m=\u001b[39m \u001b[38;5;28;01mNone\u001b[39;00m\n\u001b[0;32m-> 1929\u001b[0m     \u001b[38;5;28;43mself\u001b[39;49m\u001b[38;5;241;43m.\u001b[39;49m\u001b[43m_search\u001b[49m\u001b[43m(\u001b[49m\u001b[43m)\u001b[49m\n\u001b[1;32m   1930\u001b[0m \u001b[38;5;28;01mif\u001b[39;00m \u001b[38;5;28mself\u001b[39m\u001b[38;5;241m.\u001b[39m_best_estimator:\n\u001b[1;32m   1931\u001b[0m     logger\u001b[38;5;241m.\u001b[39minfo(\u001b[38;5;124m\"\u001b[39m\u001b[38;5;124mfit succeeded\u001b[39m\u001b[38;5;124m\"\u001b[39m)\n",
      "File \u001b[0;32m~/miniconda3/envs/my3.11/lib/python3.11/site-packages/flaml/automl/automl.py:2483\u001b[0m, in \u001b[0;36mAutoML._search\u001b[0;34m(self)\u001b[0m\n\u001b[1;32m   2481\u001b[0m     state\u001b[38;5;241m.\u001b[39mbest_config \u001b[38;5;241m=\u001b[39m state\u001b[38;5;241m.\u001b[39minit_config[\u001b[38;5;241m0\u001b[39m] \u001b[38;5;28;01mif\u001b[39;00m state\u001b[38;5;241m.\u001b[39minit_config \u001b[38;5;28;01melse\u001b[39;00m {}\n\u001b[1;32m   2482\u001b[0m \u001b[38;5;28;01melif\u001b[39;00m \u001b[38;5;28mself\u001b[39m\u001b[38;5;241m.\u001b[39m_use_ray \u001b[38;5;129;01mis\u001b[39;00m \u001b[38;5;28;01mFalse\u001b[39;00m \u001b[38;5;129;01mand\u001b[39;00m \u001b[38;5;28mself\u001b[39m\u001b[38;5;241m.\u001b[39m_use_spark \u001b[38;5;129;01mis\u001b[39;00m \u001b[38;5;28;01mFalse\u001b[39;00m:\n\u001b[0;32m-> 2483\u001b[0m     \u001b[38;5;28;43mself\u001b[39;49m\u001b[38;5;241;43m.\u001b[39;49m\u001b[43m_search_sequential\u001b[49m\u001b[43m(\u001b[49m\u001b[43m)\u001b[49m\n\u001b[1;32m   2484\u001b[0m \u001b[38;5;28;01melse\u001b[39;00m:\n\u001b[1;32m   2485\u001b[0m     \u001b[38;5;28mself\u001b[39m\u001b[38;5;241m.\u001b[39m_search_parallel()\n",
      "File \u001b[0;32m~/miniconda3/envs/my3.11/lib/python3.11/site-packages/flaml/automl/automl.py:2319\u001b[0m, in \u001b[0;36mAutoML._search_sequential\u001b[0;34m(self)\u001b[0m\n\u001b[1;32m   2313\u001b[0m         search_state\u001b[38;5;241m.\u001b[39msearch_alg\u001b[38;5;241m.\u001b[39msearcher\u001b[38;5;241m.\u001b[39mset_search_properties(\n\u001b[1;32m   2314\u001b[0m             metric\u001b[38;5;241m=\u001b[39m\u001b[38;5;28;01mNone\u001b[39;00m,\n\u001b[1;32m   2315\u001b[0m             mode\u001b[38;5;241m=\u001b[39m\u001b[38;5;28;01mNone\u001b[39;00m,\n\u001b[1;32m   2316\u001b[0m             metric_target\u001b[38;5;241m=\u001b[39m\u001b[38;5;28mself\u001b[39m\u001b[38;5;241m.\u001b[39m_state\u001b[38;5;241m.\u001b[39mbest_loss,\n\u001b[1;32m   2317\u001b[0m         )\n\u001b[1;32m   2318\u001b[0m start_run_time \u001b[38;5;241m=\u001b[39m time\u001b[38;5;241m.\u001b[39mtime()\n\u001b[0;32m-> 2319\u001b[0m analysis \u001b[38;5;241m=\u001b[39m \u001b[43mtune\u001b[49m\u001b[38;5;241;43m.\u001b[39;49m\u001b[43mrun\u001b[49m\u001b[43m(\u001b[49m\n\u001b[1;32m   2320\u001b[0m \u001b[43m    \u001b[49m\u001b[43msearch_state\u001b[49m\u001b[38;5;241;43m.\u001b[39;49m\u001b[43mtraining_function\u001b[49m\u001b[43m,\u001b[49m\n\u001b[1;32m   2321\u001b[0m \u001b[43m    \u001b[49m\u001b[43msearch_alg\u001b[49m\u001b[38;5;241;43m=\u001b[39;49m\u001b[43msearch_state\u001b[49m\u001b[38;5;241;43m.\u001b[39;49m\u001b[43msearch_alg\u001b[49m\u001b[43m,\u001b[49m\n\u001b[1;32m   2322\u001b[0m \u001b[43m    \u001b[49m\u001b[43mtime_budget_s\u001b[49m\u001b[38;5;241;43m=\u001b[39;49m\u001b[43mtime_budget_s\u001b[49m\u001b[43m,\u001b[49m\n\u001b[1;32m   2323\u001b[0m \u001b[43m    \u001b[49m\u001b[43mverbose\u001b[49m\u001b[38;5;241;43m=\u001b[39;49m\u001b[38;5;28;43mmax\u001b[39;49m\u001b[43m(\u001b[49m\u001b[38;5;28;43mself\u001b[39;49m\u001b[38;5;241;43m.\u001b[39;49m\u001b[43mverbose\u001b[49m\u001b[43m \u001b[49m\u001b[38;5;241;43m-\u001b[39;49m\u001b[43m \u001b[49m\u001b[38;5;241;43m3\u001b[39;49m\u001b[43m,\u001b[49m\u001b[43m \u001b[49m\u001b[38;5;241;43m0\u001b[39;49m\u001b[43m)\u001b[49m\u001b[43m,\u001b[49m\n\u001b[1;32m   2324\u001b[0m \u001b[43m    \u001b[49m\u001b[43muse_ray\u001b[49m\u001b[38;5;241;43m=\u001b[39;49m\u001b[38;5;28;43;01mFalse\u001b[39;49;00m\u001b[43m,\u001b[49m\n\u001b[1;32m   2325\u001b[0m \u001b[43m    \u001b[49m\u001b[43muse_spark\u001b[49m\u001b[38;5;241;43m=\u001b[39;49m\u001b[38;5;28;43;01mFalse\u001b[39;49;00m\u001b[43m,\u001b[49m\n\u001b[1;32m   2326\u001b[0m \u001b[43m\u001b[49m\u001b[43m)\u001b[49m\n\u001b[1;32m   2327\u001b[0m time_used \u001b[38;5;241m=\u001b[39m time\u001b[38;5;241m.\u001b[39mtime() \u001b[38;5;241m-\u001b[39m start_run_time\n\u001b[1;32m   2328\u001b[0m better \u001b[38;5;241m=\u001b[39m \u001b[38;5;28;01mFalse\u001b[39;00m\n",
      "File \u001b[0;32m~/miniconda3/envs/my3.11/lib/python3.11/site-packages/flaml/tune/tune.py:814\u001b[0m, in \u001b[0;36mrun\u001b[0;34m(evaluation_function, config, low_cost_partial_config, cat_hp_cost, metric, mode, time_budget_s, points_to_evaluate, evaluated_rewards, resource_attr, min_resource, max_resource, reduction_factor, scheduler, search_alg, verbose, local_dir, num_samples, resources_per_trial, config_constraints, metric_constraints, max_failure, use_ray, use_spark, use_incumbent_result_in_evaluation, log_file_name, lexico_objectives, force_cancel, n_concurrent_trials, **ray_args)\u001b[0m\n\u001b[1;32m    812\u001b[0m result \u001b[38;5;241m=\u001b[39m \u001b[38;5;28;01mNone\u001b[39;00m\n\u001b[1;32m    813\u001b[0m \u001b[38;5;28;01mwith\u001b[39;00m PySparkOvertimeMonitor(time_start, time_budget_s, force_cancel):\n\u001b[0;32m--> 814\u001b[0m     result \u001b[38;5;241m=\u001b[39m \u001b[43mevaluation_function\u001b[49m\u001b[43m(\u001b[49m\u001b[43mtrial_to_run\u001b[49m\u001b[38;5;241;43m.\u001b[39;49m\u001b[43mconfig\u001b[49m\u001b[43m)\u001b[49m\n\u001b[1;32m    815\u001b[0m \u001b[38;5;28;01mif\u001b[39;00m result \u001b[38;5;129;01mis\u001b[39;00m \u001b[38;5;129;01mnot\u001b[39;00m \u001b[38;5;28;01mNone\u001b[39;00m:\n\u001b[1;32m    816\u001b[0m     \u001b[38;5;28;01mif\u001b[39;00m \u001b[38;5;28misinstance\u001b[39m(result, \u001b[38;5;28mdict\u001b[39m):\n",
      "File \u001b[0;32m~/miniconda3/envs/my3.11/lib/python3.11/site-packages/flaml/automl/state.py:304\u001b[0m, in \u001b[0;36mAutoMLState._compute_with_config_base\u001b[0;34m(config_w_resource, state, estimator, is_report)\u001b[0m\n\u001b[1;32m    289\u001b[0m     \u001b[38;5;28;01mdel\u001b[39;00m config[\u001b[38;5;124m\"\u001b[39m\u001b[38;5;124mFLAML_sample_size\u001b[39m\u001b[38;5;124m\"\u001b[39m]\n\u001b[1;32m    290\u001b[0m budget \u001b[38;5;241m=\u001b[39m (\n\u001b[1;32m    291\u001b[0m     \u001b[38;5;28;01mNone\u001b[39;00m\n\u001b[1;32m    292\u001b[0m     \u001b[38;5;28;01mif\u001b[39;00m state\u001b[38;5;241m.\u001b[39mtime_budget \u001b[38;5;241m<\u001b[39m \u001b[38;5;241m0\u001b[39m\n\u001b[0;32m   (...)\u001b[0m\n\u001b[1;32m    295\u001b[0m     \u001b[38;5;28;01melse\u001b[39;00m (state\u001b[38;5;241m.\u001b[39mtime_budget \u001b[38;5;241m-\u001b[39m state\u001b[38;5;241m.\u001b[39mtime_from_start) \u001b[38;5;241m/\u001b[39m \u001b[38;5;241m2\u001b[39m \u001b[38;5;241m*\u001b[39m sample_size \u001b[38;5;241m/\u001b[39m state\u001b[38;5;241m.\u001b[39mdata_size[\u001b[38;5;241m0\u001b[39m]\n\u001b[1;32m    296\u001b[0m )\n\u001b[1;32m    298\u001b[0m (\n\u001b[1;32m    299\u001b[0m     trained_estimator,\n\u001b[1;32m    300\u001b[0m     val_loss,\n\u001b[1;32m    301\u001b[0m     metric_for_logging,\n\u001b[1;32m    302\u001b[0m     _,\n\u001b[1;32m    303\u001b[0m     pred_time,\n\u001b[0;32m--> 304\u001b[0m ) \u001b[38;5;241m=\u001b[39m \u001b[43mcompute_estimator\u001b[49m\u001b[43m(\u001b[49m\n\u001b[1;32m    305\u001b[0m \u001b[43m    \u001b[49m\u001b[43msampled_X_train\u001b[49m\u001b[43m,\u001b[49m\n\u001b[1;32m    306\u001b[0m \u001b[43m    \u001b[49m\u001b[43msampled_y_train\u001b[49m\u001b[43m,\u001b[49m\n\u001b[1;32m    307\u001b[0m \u001b[43m    \u001b[49m\u001b[43mstate\u001b[49m\u001b[38;5;241;43m.\u001b[39;49m\u001b[43mX_val\u001b[49m\u001b[43m,\u001b[49m\n\u001b[1;32m    308\u001b[0m \u001b[43m    \u001b[49m\u001b[43mstate\u001b[49m\u001b[38;5;241;43m.\u001b[39;49m\u001b[43my_val\u001b[49m\u001b[43m,\u001b[49m\n\u001b[1;32m    309\u001b[0m \u001b[43m    \u001b[49m\u001b[43mstate\u001b[49m\u001b[38;5;241;43m.\u001b[39;49m\u001b[43mweight_val\u001b[49m\u001b[43m,\u001b[49m\n\u001b[1;32m    310\u001b[0m \u001b[43m    \u001b[49m\u001b[43mstate\u001b[49m\u001b[38;5;241;43m.\u001b[39;49m\u001b[43mgroups_val\u001b[49m\u001b[43m,\u001b[49m\n\u001b[1;32m    311\u001b[0m \u001b[43m    \u001b[49m\u001b[43mstate\u001b[49m\u001b[38;5;241;43m.\u001b[39;49m\u001b[43mtrain_time_limit\u001b[49m\u001b[43m \u001b[49m\u001b[38;5;28;43;01mif\u001b[39;49;00m\u001b[43m \u001b[49m\u001b[43mbudget\u001b[49m\u001b[43m \u001b[49m\u001b[38;5;129;43;01mis\u001b[39;49;00m\u001b[43m \u001b[49m\u001b[38;5;28;43;01mNone\u001b[39;49;00m\u001b[43m \u001b[49m\u001b[38;5;28;43;01melse\u001b[39;49;00m\u001b[43m \u001b[49m\u001b[38;5;28;43mmin\u001b[39;49m\u001b[43m(\u001b[49m\u001b[43mbudget\u001b[49m\u001b[43m,\u001b[49m\u001b[43m \u001b[49m\u001b[43mstate\u001b[49m\u001b[38;5;241;43m.\u001b[39;49m\u001b[43mtrain_time_limit\u001b[49m\u001b[43m \u001b[49m\u001b[38;5;129;43;01mor\u001b[39;49;00m\u001b[43m \u001b[49m\u001b[43mnp\u001b[49m\u001b[38;5;241;43m.\u001b[39;49m\u001b[43minf\u001b[49m\u001b[43m)\u001b[49m\u001b[43m,\u001b[49m\n\u001b[1;32m    312\u001b[0m \u001b[43m    \u001b[49m\u001b[43mstate\u001b[49m\u001b[38;5;241;43m.\u001b[39;49m\u001b[43mkf\u001b[49m\u001b[43m,\u001b[49m\n\u001b[1;32m    313\u001b[0m \u001b[43m    \u001b[49m\u001b[43mconfig\u001b[49m\u001b[43m,\u001b[49m\n\u001b[1;32m    314\u001b[0m \u001b[43m    \u001b[49m\u001b[43mstate\u001b[49m\u001b[38;5;241;43m.\u001b[39;49m\u001b[43mtask\u001b[49m\u001b[43m,\u001b[49m\n\u001b[1;32m    315\u001b[0m \u001b[43m    \u001b[49m\u001b[43mestimator\u001b[49m\u001b[43m,\u001b[49m\n\u001b[1;32m    316\u001b[0m \u001b[43m    \u001b[49m\u001b[43mstate\u001b[49m\u001b[38;5;241;43m.\u001b[39;49m\u001b[43meval_method\u001b[49m\u001b[43m,\u001b[49m\n\u001b[1;32m    317\u001b[0m \u001b[43m    \u001b[49m\u001b[43mstate\u001b[49m\u001b[38;5;241;43m.\u001b[39;49m\u001b[43mmetric\u001b[49m\u001b[43m,\u001b[49m\n\u001b[1;32m    318\u001b[0m \u001b[43m    \u001b[49m\u001b[43mstate\u001b[49m\u001b[38;5;241;43m.\u001b[39;49m\u001b[43mbest_loss\u001b[49m\u001b[43m,\u001b[49m\n\u001b[1;32m    319\u001b[0m \u001b[43m    \u001b[49m\u001b[43mstate\u001b[49m\u001b[38;5;241;43m.\u001b[39;49m\u001b[43mn_jobs\u001b[49m\u001b[43m,\u001b[49m\n\u001b[1;32m    320\u001b[0m \u001b[43m    \u001b[49m\u001b[43mstate\u001b[49m\u001b[38;5;241;43m.\u001b[39;49m\u001b[43mlearner_classes\u001b[49m\u001b[38;5;241;43m.\u001b[39;49m\u001b[43mget\u001b[49m\u001b[43m(\u001b[49m\u001b[43mestimator\u001b[49m\u001b[43m)\u001b[49m\u001b[43m,\u001b[49m\n\u001b[1;32m    321\u001b[0m \u001b[43m    \u001b[49m\u001b[43mstate\u001b[49m\u001b[38;5;241;43m.\u001b[39;49m\u001b[43mcv_score_agg_func\u001b[49m\u001b[43m,\u001b[49m\n\u001b[1;32m    322\u001b[0m \u001b[43m    \u001b[49m\u001b[43mstate\u001b[49m\u001b[38;5;241;43m.\u001b[39;49m\u001b[43mlog_training_metric\u001b[49m\u001b[43m,\u001b[49m\n\u001b[1;32m    323\u001b[0m \u001b[43m    \u001b[49m\u001b[43mthis_estimator_kwargs\u001b[49m\u001b[43m,\u001b[49m\n\u001b[1;32m    324\u001b[0m \u001b[43m    \u001b[49m\u001b[43mstate\u001b[49m\u001b[38;5;241;43m.\u001b[39;49m\u001b[43mfree_mem_ratio\u001b[49m\u001b[43m,\u001b[49m\n\u001b[1;32m    325\u001b[0m \u001b[43m\u001b[49m\u001b[43m)\u001b[49m\n\u001b[1;32m    326\u001b[0m \u001b[38;5;28;01mif\u001b[39;00m state\u001b[38;5;241m.\u001b[39mretrain_final \u001b[38;5;129;01mand\u001b[39;00m \u001b[38;5;129;01mnot\u001b[39;00m state\u001b[38;5;241m.\u001b[39mmodel_history:\n\u001b[1;32m    327\u001b[0m     trained_estimator\u001b[38;5;241m.\u001b[39mcleanup()\n",
      "File \u001b[0;32m~/miniconda3/envs/my3.11/lib/python3.11/site-packages/flaml/automl/ml.py:369\u001b[0m, in \u001b[0;36mcompute_estimator\u001b[0;34m(X_train, y_train, X_val, y_val, weight_val, groups_val, budget, kf, config_dic, task, estimator_name, eval_method, eval_metric, best_val_loss, n_jobs, estimator_class, cv_score_agg_func, log_training_metric, fit_kwargs, free_mem_ratio)\u001b[0m\n\u001b[1;32m    351\u001b[0m     val_loss, metric_for_logging, train_time, pred_time \u001b[38;5;241m=\u001b[39m get_val_loss(\n\u001b[1;32m    352\u001b[0m         config_dic,\n\u001b[1;32m    353\u001b[0m         estimator,\n\u001b[0;32m   (...)\u001b[0m\n\u001b[1;32m    366\u001b[0m         free_mem_ratio\u001b[38;5;241m=\u001b[39m\u001b[38;5;241m0\u001b[39m,\n\u001b[1;32m    367\u001b[0m     )\n\u001b[1;32m    368\u001b[0m \u001b[38;5;28;01melse\u001b[39;00m:\n\u001b[0;32m--> 369\u001b[0m     val_loss, metric_for_logging, train_time, pred_time \u001b[38;5;241m=\u001b[39m \u001b[43mtask\u001b[49m\u001b[38;5;241;43m.\u001b[39;49m\u001b[43mevaluate_model_CV\u001b[49m\u001b[43m(\u001b[49m\n\u001b[1;32m    370\u001b[0m \u001b[43m        \u001b[49m\u001b[43mconfig_dic\u001b[49m\u001b[43m,\u001b[49m\n\u001b[1;32m    371\u001b[0m \u001b[43m        \u001b[49m\u001b[43mestimator\u001b[49m\u001b[43m,\u001b[49m\n\u001b[1;32m    372\u001b[0m \u001b[43m        \u001b[49m\u001b[43mX_train\u001b[49m\u001b[43m,\u001b[49m\n\u001b[1;32m    373\u001b[0m \u001b[43m        \u001b[49m\u001b[43my_train\u001b[49m\u001b[43m,\u001b[49m\n\u001b[1;32m    374\u001b[0m \u001b[43m        \u001b[49m\u001b[43mbudget\u001b[49m\u001b[43m,\u001b[49m\n\u001b[1;32m    375\u001b[0m \u001b[43m        \u001b[49m\u001b[43mkf\u001b[49m\u001b[43m,\u001b[49m\n\u001b[1;32m    376\u001b[0m \u001b[43m        \u001b[49m\u001b[43meval_metric\u001b[49m\u001b[43m,\u001b[49m\n\u001b[1;32m    377\u001b[0m \u001b[43m        \u001b[49m\u001b[43mbest_val_loss\u001b[49m\u001b[43m,\u001b[49m\n\u001b[1;32m    378\u001b[0m \u001b[43m        \u001b[49m\u001b[43mcv_score_agg_func\u001b[49m\u001b[43m,\u001b[49m\n\u001b[1;32m    379\u001b[0m \u001b[43m        \u001b[49m\u001b[43mlog_training_metric\u001b[49m\u001b[38;5;241;43m=\u001b[39;49m\u001b[43mlog_training_metric\u001b[49m\u001b[43m,\u001b[49m\n\u001b[1;32m    380\u001b[0m \u001b[43m        \u001b[49m\u001b[43mfit_kwargs\u001b[49m\u001b[38;5;241;43m=\u001b[39;49m\u001b[43mfit_kwargs\u001b[49m\u001b[43m,\u001b[49m\n\u001b[1;32m    381\u001b[0m \u001b[43m        \u001b[49m\u001b[43mfree_mem_ratio\u001b[49m\u001b[38;5;241;43m=\u001b[39;49m\u001b[38;5;241;43m0\u001b[39;49m\u001b[43m,\u001b[49m\n\u001b[1;32m    382\u001b[0m \u001b[43m    \u001b[49m\u001b[43m)\u001b[49m\n\u001b[1;32m    384\u001b[0m \u001b[38;5;28;01mif\u001b[39;00m \u001b[38;5;28misinstance\u001b[39m(estimator, TransformersEstimator):\n\u001b[1;32m    385\u001b[0m     \u001b[38;5;28;01mdel\u001b[39;00m fit_kwargs[\u001b[38;5;124m\"\u001b[39m\u001b[38;5;124mmetric\u001b[39m\u001b[38;5;124m\"\u001b[39m], fit_kwargs[\u001b[38;5;124m\"\u001b[39m\u001b[38;5;124mX_val\u001b[39m\u001b[38;5;124m\"\u001b[39m], fit_kwargs[\u001b[38;5;124m\"\u001b[39m\u001b[38;5;124my_val\u001b[39m\u001b[38;5;124m\"\u001b[39m]\n",
      "File \u001b[0;32m~/miniconda3/envs/my3.11/lib/python3.11/site-packages/flaml/automl/task/generic_task.py:740\u001b[0m, in \u001b[0;36mGenericTask.evaluate_model_CV\u001b[0;34m(self, config, estimator, X_train_all, y_train_all, budget, kf, eval_metric, best_val_loss, cv_score_agg_func, log_training_metric, fit_kwargs, free_mem_ratio)\u001b[0m\n\u001b[1;32m    737\u001b[0m         groups_val \u001b[38;5;241m=\u001b[39m \u001b[38;5;28;01mNone\u001b[39;00m\n\u001b[1;32m    739\u001b[0m estimator\u001b[38;5;241m.\u001b[39mcleanup()\n\u001b[0;32m--> 740\u001b[0m val_loss_i, metric_i, train_time_i, pred_time_i \u001b[38;5;241m=\u001b[39m \u001b[43mget_val_loss\u001b[49m\u001b[43m(\u001b[49m\n\u001b[1;32m    741\u001b[0m \u001b[43m    \u001b[49m\u001b[43mconfig\u001b[49m\u001b[43m,\u001b[49m\n\u001b[1;32m    742\u001b[0m \u001b[43m    \u001b[49m\u001b[43mestimator\u001b[49m\u001b[43m,\u001b[49m\n\u001b[1;32m    743\u001b[0m \u001b[43m    \u001b[49m\u001b[43mX_train\u001b[49m\u001b[43m,\u001b[49m\n\u001b[1;32m    744\u001b[0m \u001b[43m    \u001b[49m\u001b[43my_train\u001b[49m\u001b[43m,\u001b[49m\n\u001b[1;32m    745\u001b[0m \u001b[43m    \u001b[49m\u001b[43mX_val\u001b[49m\u001b[43m,\u001b[49m\n\u001b[1;32m    746\u001b[0m \u001b[43m    \u001b[49m\u001b[43my_val\u001b[49m\u001b[43m,\u001b[49m\n\u001b[1;32m    747\u001b[0m \u001b[43m    \u001b[49m\u001b[43mweight_val\u001b[49m\u001b[43m,\u001b[49m\n\u001b[1;32m    748\u001b[0m \u001b[43m    \u001b[49m\u001b[43mgroups_val\u001b[49m\u001b[43m,\u001b[49m\n\u001b[1;32m    749\u001b[0m \u001b[43m    \u001b[49m\u001b[43meval_metric\u001b[49m\u001b[43m,\u001b[49m\n\u001b[1;32m    750\u001b[0m \u001b[43m    \u001b[49m\u001b[38;5;28;43mself\u001b[39;49m\u001b[43m,\u001b[49m\n\u001b[1;32m    751\u001b[0m \u001b[43m    \u001b[49m\u001b[43mlabels\u001b[49m\u001b[43m,\u001b[49m\n\u001b[1;32m    752\u001b[0m \u001b[43m    \u001b[49m\u001b[43mbudget_per_train\u001b[49m\u001b[43m,\u001b[49m\n\u001b[1;32m    753\u001b[0m \u001b[43m    \u001b[49m\u001b[43mlog_training_metric\u001b[49m\u001b[38;5;241;43m=\u001b[39;49m\u001b[43mlog_training_metric\u001b[49m\u001b[43m,\u001b[49m\n\u001b[1;32m    754\u001b[0m \u001b[43m    \u001b[49m\u001b[43mfit_kwargs\u001b[49m\u001b[38;5;241;43m=\u001b[39;49m\u001b[43mfit_kwargs\u001b[49m\u001b[43m,\u001b[49m\n\u001b[1;32m    755\u001b[0m \u001b[43m    \u001b[49m\u001b[43mfree_mem_ratio\u001b[49m\u001b[38;5;241;43m=\u001b[39;49m\u001b[43mfree_mem_ratio\u001b[49m\u001b[43m,\u001b[49m\n\u001b[1;32m    756\u001b[0m \u001b[43m\u001b[49m\u001b[43m)\u001b[49m\n\u001b[1;32m    757\u001b[0m \u001b[38;5;28;01mif\u001b[39;00m \u001b[38;5;28misinstance\u001b[39m(metric_i, \u001b[38;5;28mdict\u001b[39m) \u001b[38;5;129;01mand\u001b[39;00m \u001b[38;5;124m\"\u001b[39m\u001b[38;5;124mintermediate_results\u001b[39m\u001b[38;5;124m\"\u001b[39m \u001b[38;5;129;01min\u001b[39;00m metric_i\u001b[38;5;241m.\u001b[39mkeys():\n\u001b[1;32m    758\u001b[0m     \u001b[38;5;28;01mdel\u001b[39;00m metric_i[\u001b[38;5;124m\"\u001b[39m\u001b[38;5;124mintermediate_results\u001b[39m\u001b[38;5;124m\"\u001b[39m]\n",
      "File \u001b[0;32m~/miniconda3/envs/my3.11/lib/python3.11/site-packages/flaml/automl/ml.py:495\u001b[0m, in \u001b[0;36mget_val_loss\u001b[0;34m(config, estimator, X_train, y_train, X_val, y_val, weight_val, groups_val, eval_metric, task, labels, budget, log_training_metric, fit_kwargs, free_mem_ratio)\u001b[0m\n\u001b[1;32m    490\u001b[0m \u001b[38;5;66;03m# if groups_val is not None:\u001b[39;00m\n\u001b[1;32m    491\u001b[0m \u001b[38;5;66;03m#     fit_kwargs['groups_val'] = groups_val\u001b[39;00m\n\u001b[1;32m    492\u001b[0m \u001b[38;5;66;03m#     fit_kwargs['X_val'] = X_val\u001b[39;00m\n\u001b[1;32m    493\u001b[0m \u001b[38;5;66;03m#     fit_kwargs['y_val'] = y_val\u001b[39;00m\n\u001b[1;32m    494\u001b[0m estimator\u001b[38;5;241m.\u001b[39mfit(X_train, y_train, budget\u001b[38;5;241m=\u001b[39mbudget, free_mem_ratio\u001b[38;5;241m=\u001b[39mfree_mem_ratio, \u001b[38;5;241m*\u001b[39m\u001b[38;5;241m*\u001b[39mfit_kwargs)\n\u001b[0;32m--> 495\u001b[0m val_loss, metric_for_logging, pred_time, _ \u001b[38;5;241m=\u001b[39m \u001b[43m_eval_estimator\u001b[49m\u001b[43m(\u001b[49m\n\u001b[1;32m    496\u001b[0m \u001b[43m    \u001b[49m\u001b[43mconfig\u001b[49m\u001b[43m,\u001b[49m\n\u001b[1;32m    497\u001b[0m \u001b[43m    \u001b[49m\u001b[43mestimator\u001b[49m\u001b[43m,\u001b[49m\n\u001b[1;32m    498\u001b[0m \u001b[43m    \u001b[49m\u001b[43mX_train\u001b[49m\u001b[43m,\u001b[49m\n\u001b[1;32m    499\u001b[0m \u001b[43m    \u001b[49m\u001b[43my_train\u001b[49m\u001b[43m,\u001b[49m\n\u001b[1;32m    500\u001b[0m \u001b[43m    \u001b[49m\u001b[43mX_val\u001b[49m\u001b[43m,\u001b[49m\n\u001b[1;32m    501\u001b[0m \u001b[43m    \u001b[49m\u001b[43my_val\u001b[49m\u001b[43m,\u001b[49m\n\u001b[1;32m    502\u001b[0m \u001b[43m    \u001b[49m\u001b[43mweight_val\u001b[49m\u001b[43m,\u001b[49m\n\u001b[1;32m    503\u001b[0m \u001b[43m    \u001b[49m\u001b[43mgroups_val\u001b[49m\u001b[43m,\u001b[49m\n\u001b[1;32m    504\u001b[0m \u001b[43m    \u001b[49m\u001b[43meval_metric\u001b[49m\u001b[43m,\u001b[49m\n\u001b[1;32m    505\u001b[0m \u001b[43m    \u001b[49m\u001b[43mtask\u001b[49m\u001b[43m,\u001b[49m\n\u001b[1;32m    506\u001b[0m \u001b[43m    \u001b[49m\u001b[43mlabels\u001b[49m\u001b[43m,\u001b[49m\n\u001b[1;32m    507\u001b[0m \u001b[43m    \u001b[49m\u001b[43mlog_training_metric\u001b[49m\u001b[43m,\u001b[49m\n\u001b[1;32m    508\u001b[0m \u001b[43m    \u001b[49m\u001b[43mfit_kwargs\u001b[49m\u001b[43m,\u001b[49m\n\u001b[1;32m    509\u001b[0m \u001b[43m\u001b[49m\u001b[43m)\u001b[49m\n\u001b[1;32m    510\u001b[0m \u001b[38;5;28;01mif\u001b[39;00m \u001b[38;5;28mhasattr\u001b[39m(estimator, \u001b[38;5;124m\"\u001b[39m\u001b[38;5;124mintermediate_results\u001b[39m\u001b[38;5;124m\"\u001b[39m):\n\u001b[1;32m    511\u001b[0m     metric_for_logging[\u001b[38;5;124m\"\u001b[39m\u001b[38;5;124mintermediate_results\u001b[39m\u001b[38;5;124m\"\u001b[39m] \u001b[38;5;241m=\u001b[39m estimator\u001b[38;5;241m.\u001b[39mintermediate_results\n",
      "File \u001b[0;32m~/miniconda3/envs/my3.11/lib/python3.11/site-packages/flaml/automl/ml.py:551\u001b[0m, in \u001b[0;36m_eval_estimator\u001b[0;34m(config, estimator, X_train, y_train, X_val, y_val, weight_val, groups_val, eval_metric, task, labels, log_training_metric, fit_kwargs)\u001b[0m\n\u001b[1;32m    549\u001b[0m \u001b[38;5;28;01mif\u001b[39;00m \u001b[38;5;28misinstance\u001b[39m(eval_metric, \u001b[38;5;28mstr\u001b[39m):\n\u001b[1;32m    550\u001b[0m     pred_start \u001b[38;5;241m=\u001b[39m time\u001b[38;5;241m.\u001b[39mtime()\n\u001b[0;32m--> 551\u001b[0m     val_pred_y \u001b[38;5;241m=\u001b[39m \u001b[43mget_y_pred\u001b[49m\u001b[43m(\u001b[49m\u001b[43mestimator\u001b[49m\u001b[43m,\u001b[49m\u001b[43m \u001b[49m\u001b[43mX_val\u001b[49m\u001b[43m,\u001b[49m\u001b[43m \u001b[49m\u001b[43meval_metric\u001b[49m\u001b[43m,\u001b[49m\u001b[43m \u001b[49m\u001b[43mtask\u001b[49m\u001b[43m)\u001b[49m\n\u001b[1;32m    553\u001b[0m     \u001b[38;5;66;03m# TODO: why are integer labels being cast to str in the first place?\u001b[39;00m\n\u001b[1;32m    555\u001b[0m     \u001b[38;5;28;01mif\u001b[39;00m \u001b[38;5;28misinstance\u001b[39m(val_pred_y, Series) \u001b[38;5;129;01mor\u001b[39;00m \u001b[38;5;28misinstance\u001b[39m(val_pred_y, DataFrame) \u001b[38;5;129;01mor\u001b[39;00m \u001b[38;5;28misinstance\u001b[39m(val_pred_y, np\u001b[38;5;241m.\u001b[39mndarray):\n",
      "File \u001b[0;32m~/miniconda3/envs/my3.11/lib/python3.11/site-packages/flaml/automl/ml.py:295\u001b[0m, in \u001b[0;36mget_y_pred\u001b[0;34m(estimator, X, eval_metric, task)\u001b[0m\n\u001b[1;32m    293\u001b[0m     y_pred \u001b[38;5;241m=\u001b[39m estimator\u001b[38;5;241m.\u001b[39mpredict_proba(X)\n\u001b[1;32m    294\u001b[0m \u001b[38;5;28;01melse\u001b[39;00m:\n\u001b[0;32m--> 295\u001b[0m     y_pred \u001b[38;5;241m=\u001b[39m \u001b[43mestimator\u001b[49m\u001b[38;5;241;43m.\u001b[39;49m\u001b[43mpredict\u001b[49m\u001b[43m(\u001b[49m\u001b[43mX\u001b[49m\u001b[43m)\u001b[49m\n\u001b[1;32m    297\u001b[0m \u001b[38;5;28;01mif\u001b[39;00m \u001b[38;5;28misinstance\u001b[39m(y_pred, Series) \u001b[38;5;129;01mor\u001b[39;00m \u001b[38;5;28misinstance\u001b[39m(y_pred, DataFrame):\n\u001b[1;32m    298\u001b[0m     y_pred \u001b[38;5;241m=\u001b[39m y_pred\u001b[38;5;241m.\u001b[39mvalues\n",
      "File \u001b[0;32m~/miniconda3/envs/my3.11/lib/python3.11/site-packages/flaml/automl/model.py:284\u001b[0m, in \u001b[0;36mBaseEstimator.predict\u001b[0;34m(self, X, **kwargs)\u001b[0m\n\u001b[1;32m    282\u001b[0m \u001b[38;5;28;01mif\u001b[39;00m \u001b[38;5;28mself\u001b[39m\u001b[38;5;241m.\u001b[39m_model \u001b[38;5;129;01mis\u001b[39;00m \u001b[38;5;129;01mnot\u001b[39;00m \u001b[38;5;28;01mNone\u001b[39;00m:\n\u001b[1;32m    283\u001b[0m     X \u001b[38;5;241m=\u001b[39m \u001b[38;5;28mself\u001b[39m\u001b[38;5;241m.\u001b[39m_preprocess(X)\n\u001b[0;32m--> 284\u001b[0m     \u001b[38;5;28;01mreturn\u001b[39;00m \u001b[38;5;28;43mself\u001b[39;49m\u001b[38;5;241;43m.\u001b[39;49m\u001b[43m_model\u001b[49m\u001b[38;5;241;43m.\u001b[39;49m\u001b[43mpredict\u001b[49m\u001b[43m(\u001b[49m\u001b[43mX\u001b[49m\u001b[43m,\u001b[49m\u001b[43m \u001b[49m\u001b[38;5;241;43m*\u001b[39;49m\u001b[38;5;241;43m*\u001b[39;49m\u001b[43mkwargs\u001b[49m\u001b[43m)\u001b[49m\n\u001b[1;32m    285\u001b[0m \u001b[38;5;28;01melse\u001b[39;00m:\n\u001b[1;32m    286\u001b[0m     logger\u001b[38;5;241m.\u001b[39mwarning(\u001b[38;5;124m\"\u001b[39m\u001b[38;5;124mEstimator is not fit yet. Please run fit() before predict().\u001b[39m\u001b[38;5;124m\"\u001b[39m)\n",
      "File \u001b[0;32m~/miniconda3/envs/my3.11/lib/python3.11/site-packages/lightgbm/sklearn.py:1223\u001b[0m, in \u001b[0;36mLGBMClassifier.predict\u001b[0;34m(self, X, raw_score, start_iteration, num_iteration, pred_leaf, pred_contrib, validate_features, **kwargs)\u001b[0m\n\u001b[1;32m   1211\u001b[0m \u001b[38;5;28;01mdef\u001b[39;00m \u001b[38;5;21mpredict\u001b[39m(\n\u001b[1;32m   1212\u001b[0m     \u001b[38;5;28mself\u001b[39m,\n\u001b[1;32m   1213\u001b[0m     X: _LGBM_ScikitMatrixLike,\n\u001b[0;32m   (...)\u001b[0m\n\u001b[1;32m   1220\u001b[0m     \u001b[38;5;241m*\u001b[39m\u001b[38;5;241m*\u001b[39mkwargs: Any\n\u001b[1;32m   1221\u001b[0m ):\n\u001b[1;32m   1222\u001b[0m \u001b[38;5;250m    \u001b[39m\u001b[38;5;124;03m\"\"\"Docstring is inherited from the LGBMModel.\"\"\"\u001b[39;00m\n\u001b[0;32m-> 1223\u001b[0m     result \u001b[38;5;241m=\u001b[39m \u001b[38;5;28;43mself\u001b[39;49m\u001b[38;5;241;43m.\u001b[39;49m\u001b[43mpredict_proba\u001b[49m\u001b[43m(\u001b[49m\n\u001b[1;32m   1224\u001b[0m \u001b[43m        \u001b[49m\u001b[43mX\u001b[49m\u001b[38;5;241;43m=\u001b[39;49m\u001b[43mX\u001b[49m\u001b[43m,\u001b[49m\n\u001b[1;32m   1225\u001b[0m \u001b[43m        \u001b[49m\u001b[43mraw_score\u001b[49m\u001b[38;5;241;43m=\u001b[39;49m\u001b[43mraw_score\u001b[49m\u001b[43m,\u001b[49m\n\u001b[1;32m   1226\u001b[0m \u001b[43m        \u001b[49m\u001b[43mstart_iteration\u001b[49m\u001b[38;5;241;43m=\u001b[39;49m\u001b[43mstart_iteration\u001b[49m\u001b[43m,\u001b[49m\n\u001b[1;32m   1227\u001b[0m \u001b[43m        \u001b[49m\u001b[43mnum_iteration\u001b[49m\u001b[38;5;241;43m=\u001b[39;49m\u001b[43mnum_iteration\u001b[49m\u001b[43m,\u001b[49m\n\u001b[1;32m   1228\u001b[0m \u001b[43m        \u001b[49m\u001b[43mpred_leaf\u001b[49m\u001b[38;5;241;43m=\u001b[39;49m\u001b[43mpred_leaf\u001b[49m\u001b[43m,\u001b[49m\n\u001b[1;32m   1229\u001b[0m \u001b[43m        \u001b[49m\u001b[43mpred_contrib\u001b[49m\u001b[38;5;241;43m=\u001b[39;49m\u001b[43mpred_contrib\u001b[49m\u001b[43m,\u001b[49m\n\u001b[1;32m   1230\u001b[0m \u001b[43m        \u001b[49m\u001b[43mvalidate_features\u001b[49m\u001b[38;5;241;43m=\u001b[39;49m\u001b[43mvalidate_features\u001b[49m\u001b[43m,\u001b[49m\n\u001b[1;32m   1231\u001b[0m \u001b[43m        \u001b[49m\u001b[38;5;241;43m*\u001b[39;49m\u001b[38;5;241;43m*\u001b[39;49m\u001b[43mkwargs\u001b[49m\n\u001b[1;32m   1232\u001b[0m \u001b[43m    \u001b[49m\u001b[43m)\u001b[49m\n\u001b[1;32m   1233\u001b[0m     \u001b[38;5;28;01mif\u001b[39;00m \u001b[38;5;28mcallable\u001b[39m(\u001b[38;5;28mself\u001b[39m\u001b[38;5;241m.\u001b[39m_objective) \u001b[38;5;129;01mor\u001b[39;00m raw_score \u001b[38;5;129;01mor\u001b[39;00m pred_leaf \u001b[38;5;129;01mor\u001b[39;00m pred_contrib:\n\u001b[1;32m   1234\u001b[0m         \u001b[38;5;28;01mreturn\u001b[39;00m result\n",
      "File \u001b[0;32m~/miniconda3/envs/my3.11/lib/python3.11/site-packages/lightgbm/sklearn.py:1253\u001b[0m, in \u001b[0;36mLGBMClassifier.predict_proba\u001b[0;34m(self, X, raw_score, start_iteration, num_iteration, pred_leaf, pred_contrib, validate_features, **kwargs)\u001b[0m\n\u001b[1;32m   1241\u001b[0m \u001b[38;5;28;01mdef\u001b[39;00m \u001b[38;5;21mpredict_proba\u001b[39m(\n\u001b[1;32m   1242\u001b[0m     \u001b[38;5;28mself\u001b[39m,\n\u001b[1;32m   1243\u001b[0m     X: _LGBM_ScikitMatrixLike,\n\u001b[0;32m   (...)\u001b[0m\n\u001b[1;32m   1250\u001b[0m     \u001b[38;5;241m*\u001b[39m\u001b[38;5;241m*\u001b[39mkwargs: Any\n\u001b[1;32m   1251\u001b[0m ):\n\u001b[1;32m   1252\u001b[0m \u001b[38;5;250m    \u001b[39m\u001b[38;5;124;03m\"\"\"Docstring is set after definition, using a template.\"\"\"\u001b[39;00m\n\u001b[0;32m-> 1253\u001b[0m     result \u001b[38;5;241m=\u001b[39m \u001b[38;5;28;43msuper\u001b[39;49m\u001b[43m(\u001b[49m\u001b[43m)\u001b[49m\u001b[38;5;241;43m.\u001b[39;49m\u001b[43mpredict\u001b[49m\u001b[43m(\u001b[49m\n\u001b[1;32m   1254\u001b[0m \u001b[43m        \u001b[49m\u001b[43mX\u001b[49m\u001b[38;5;241;43m=\u001b[39;49m\u001b[43mX\u001b[49m\u001b[43m,\u001b[49m\n\u001b[1;32m   1255\u001b[0m \u001b[43m        \u001b[49m\u001b[43mraw_score\u001b[49m\u001b[38;5;241;43m=\u001b[39;49m\u001b[43mraw_score\u001b[49m\u001b[43m,\u001b[49m\n\u001b[1;32m   1256\u001b[0m \u001b[43m        \u001b[49m\u001b[43mstart_iteration\u001b[49m\u001b[38;5;241;43m=\u001b[39;49m\u001b[43mstart_iteration\u001b[49m\u001b[43m,\u001b[49m\n\u001b[1;32m   1257\u001b[0m \u001b[43m        \u001b[49m\u001b[43mnum_iteration\u001b[49m\u001b[38;5;241;43m=\u001b[39;49m\u001b[43mnum_iteration\u001b[49m\u001b[43m,\u001b[49m\n\u001b[1;32m   1258\u001b[0m \u001b[43m        \u001b[49m\u001b[43mpred_leaf\u001b[49m\u001b[38;5;241;43m=\u001b[39;49m\u001b[43mpred_leaf\u001b[49m\u001b[43m,\u001b[49m\n\u001b[1;32m   1259\u001b[0m \u001b[43m        \u001b[49m\u001b[43mpred_contrib\u001b[49m\u001b[38;5;241;43m=\u001b[39;49m\u001b[43mpred_contrib\u001b[49m\u001b[43m,\u001b[49m\n\u001b[1;32m   1260\u001b[0m \u001b[43m        \u001b[49m\u001b[43mvalidate_features\u001b[49m\u001b[38;5;241;43m=\u001b[39;49m\u001b[43mvalidate_features\u001b[49m\u001b[43m,\u001b[49m\n\u001b[1;32m   1261\u001b[0m \u001b[43m        \u001b[49m\u001b[38;5;241;43m*\u001b[39;49m\u001b[38;5;241;43m*\u001b[39;49m\u001b[43mkwargs\u001b[49m\n\u001b[1;32m   1262\u001b[0m \u001b[43m    \u001b[49m\u001b[43m)\u001b[49m\n\u001b[1;32m   1263\u001b[0m     \u001b[38;5;28;01mif\u001b[39;00m \u001b[38;5;28mcallable\u001b[39m(\u001b[38;5;28mself\u001b[39m\u001b[38;5;241m.\u001b[39m_objective) \u001b[38;5;129;01mand\u001b[39;00m \u001b[38;5;129;01mnot\u001b[39;00m (raw_score \u001b[38;5;129;01mor\u001b[39;00m pred_leaf \u001b[38;5;129;01mor\u001b[39;00m pred_contrib):\n\u001b[1;32m   1264\u001b[0m         _log_warning(\u001b[38;5;124m\"\u001b[39m\u001b[38;5;124mCannot compute class probabilities or labels \u001b[39m\u001b[38;5;124m\"\u001b[39m\n\u001b[1;32m   1265\u001b[0m                      \u001b[38;5;124m\"\u001b[39m\u001b[38;5;124mdue to the usage of customized objective function.\u001b[39m\u001b[38;5;130;01m\\n\u001b[39;00m\u001b[38;5;124m\"\u001b[39m\n\u001b[1;32m   1266\u001b[0m                      \u001b[38;5;124m\"\u001b[39m\u001b[38;5;124mReturning raw scores instead.\u001b[39m\u001b[38;5;124m\"\u001b[39m)\n",
      "File \u001b[0;32m~/miniconda3/envs/my3.11/lib/python3.11/site-packages/lightgbm/sklearn.py:961\u001b[0m, in \u001b[0;36mLGBMModel.predict\u001b[0;34m(self, X, raw_score, start_iteration, num_iteration, pred_leaf, pred_contrib, validate_features, **kwargs)\u001b[0m\n\u001b[1;32m    958\u001b[0m predict_params \u001b[38;5;241m=\u001b[39m _choose_param_value(\u001b[38;5;124m\"\u001b[39m\u001b[38;5;124mnum_threads\u001b[39m\u001b[38;5;124m\"\u001b[39m, predict_params, \u001b[38;5;28mself\u001b[39m\u001b[38;5;241m.\u001b[39mn_jobs)\n\u001b[1;32m    959\u001b[0m predict_params[\u001b[38;5;124m\"\u001b[39m\u001b[38;5;124mnum_threads\u001b[39m\u001b[38;5;124m\"\u001b[39m] \u001b[38;5;241m=\u001b[39m \u001b[38;5;28mself\u001b[39m\u001b[38;5;241m.\u001b[39m_process_n_jobs(predict_params[\u001b[38;5;124m\"\u001b[39m\u001b[38;5;124mnum_threads\u001b[39m\u001b[38;5;124m\"\u001b[39m])\n\u001b[0;32m--> 961\u001b[0m \u001b[38;5;28;01mreturn\u001b[39;00m \u001b[38;5;28;43mself\u001b[39;49m\u001b[38;5;241;43m.\u001b[39;49m\u001b[43m_Booster\u001b[49m\u001b[38;5;241;43m.\u001b[39;49m\u001b[43mpredict\u001b[49m\u001b[43m(\u001b[49m\u001b[43m  \u001b[49m\u001b[38;5;66;43;03m# type: ignore[union-attr]\u001b[39;49;00m\n\u001b[1;32m    962\u001b[0m \u001b[43m    \u001b[49m\u001b[43mX\u001b[49m\u001b[43m,\u001b[49m\u001b[43m \u001b[49m\u001b[43mraw_score\u001b[49m\u001b[38;5;241;43m=\u001b[39;49m\u001b[43mraw_score\u001b[49m\u001b[43m,\u001b[49m\u001b[43m \u001b[49m\u001b[43mstart_iteration\u001b[49m\u001b[38;5;241;43m=\u001b[39;49m\u001b[43mstart_iteration\u001b[49m\u001b[43m,\u001b[49m\u001b[43m \u001b[49m\u001b[43mnum_iteration\u001b[49m\u001b[38;5;241;43m=\u001b[39;49m\u001b[43mnum_iteration\u001b[49m\u001b[43m,\u001b[49m\n\u001b[1;32m    963\u001b[0m \u001b[43m    \u001b[49m\u001b[43mpred_leaf\u001b[49m\u001b[38;5;241;43m=\u001b[39;49m\u001b[43mpred_leaf\u001b[49m\u001b[43m,\u001b[49m\u001b[43m \u001b[49m\u001b[43mpred_contrib\u001b[49m\u001b[38;5;241;43m=\u001b[39;49m\u001b[43mpred_contrib\u001b[49m\u001b[43m,\u001b[49m\u001b[43m \u001b[49m\u001b[43mvalidate_features\u001b[49m\u001b[38;5;241;43m=\u001b[39;49m\u001b[43mvalidate_features\u001b[49m\u001b[43m,\u001b[49m\n\u001b[1;32m    964\u001b[0m \u001b[43m    \u001b[49m\u001b[38;5;241;43m*\u001b[39;49m\u001b[38;5;241;43m*\u001b[39;49m\u001b[43mpredict_params\u001b[49m\n\u001b[1;32m    965\u001b[0m \u001b[43m\u001b[49m\u001b[43m)\u001b[49m\n",
      "File \u001b[0;32m~/miniconda3/envs/my3.11/lib/python3.11/site-packages/lightgbm/basic.py:4453\u001b[0m, in \u001b[0;36mBooster.predict\u001b[0;34m(self, data, start_iteration, num_iteration, raw_score, pred_leaf, pred_contrib, data_has_header, validate_features, **kwargs)\u001b[0m\n\u001b[1;32m   4451\u001b[0m     \u001b[38;5;28;01melse\u001b[39;00m:\n\u001b[1;32m   4452\u001b[0m         num_iteration \u001b[38;5;241m=\u001b[39m \u001b[38;5;241m-\u001b[39m\u001b[38;5;241m1\u001b[39m\n\u001b[0;32m-> 4453\u001b[0m \u001b[38;5;28;01mreturn\u001b[39;00m \u001b[43mpredictor\u001b[49m\u001b[38;5;241;43m.\u001b[39;49m\u001b[43mpredict\u001b[49m\u001b[43m(\u001b[49m\n\u001b[1;32m   4454\u001b[0m \u001b[43m    \u001b[49m\u001b[43mdata\u001b[49m\u001b[38;5;241;43m=\u001b[39;49m\u001b[43mdata\u001b[49m\u001b[43m,\u001b[49m\n\u001b[1;32m   4455\u001b[0m \u001b[43m    \u001b[49m\u001b[43mstart_iteration\u001b[49m\u001b[38;5;241;43m=\u001b[39;49m\u001b[43mstart_iteration\u001b[49m\u001b[43m,\u001b[49m\n\u001b[1;32m   4456\u001b[0m \u001b[43m    \u001b[49m\u001b[43mnum_iteration\u001b[49m\u001b[38;5;241;43m=\u001b[39;49m\u001b[43mnum_iteration\u001b[49m\u001b[43m,\u001b[49m\n\u001b[1;32m   4457\u001b[0m \u001b[43m    \u001b[49m\u001b[43mraw_score\u001b[49m\u001b[38;5;241;43m=\u001b[39;49m\u001b[43mraw_score\u001b[49m\u001b[43m,\u001b[49m\n\u001b[1;32m   4458\u001b[0m \u001b[43m    \u001b[49m\u001b[43mpred_leaf\u001b[49m\u001b[38;5;241;43m=\u001b[39;49m\u001b[43mpred_leaf\u001b[49m\u001b[43m,\u001b[49m\n\u001b[1;32m   4459\u001b[0m \u001b[43m    \u001b[49m\u001b[43mpred_contrib\u001b[49m\u001b[38;5;241;43m=\u001b[39;49m\u001b[43mpred_contrib\u001b[49m\u001b[43m,\u001b[49m\n\u001b[1;32m   4460\u001b[0m \u001b[43m    \u001b[49m\u001b[43mdata_has_header\u001b[49m\u001b[38;5;241;43m=\u001b[39;49m\u001b[43mdata_has_header\u001b[49m\u001b[43m,\u001b[49m\n\u001b[1;32m   4461\u001b[0m \u001b[43m    \u001b[49m\u001b[43mvalidate_features\u001b[49m\u001b[38;5;241;43m=\u001b[39;49m\u001b[43mvalidate_features\u001b[49m\n\u001b[1;32m   4462\u001b[0m \u001b[43m\u001b[49m\u001b[43m)\u001b[49m\n",
      "File \u001b[0;32m~/miniconda3/envs/my3.11/lib/python3.11/site-packages/lightgbm/basic.py:1159\u001b[0m, in \u001b[0;36m_InnerPredictor.predict\u001b[0;34m(self, data, start_iteration, num_iteration, raw_score, pred_leaf, pred_contrib, data_has_header, validate_features)\u001b[0m\n\u001b[1;32m   1152\u001b[0m     preds, nrow \u001b[38;5;241m=\u001b[39m \u001b[38;5;28mself\u001b[39m\u001b[38;5;241m.\u001b[39m__pred_for_csc(\n\u001b[1;32m   1153\u001b[0m         csc\u001b[38;5;241m=\u001b[39mdata,\n\u001b[1;32m   1154\u001b[0m         start_iteration\u001b[38;5;241m=\u001b[39mstart_iteration,\n\u001b[1;32m   1155\u001b[0m         num_iteration\u001b[38;5;241m=\u001b[39mnum_iteration,\n\u001b[1;32m   1156\u001b[0m         predict_type\u001b[38;5;241m=\u001b[39mpredict_type\n\u001b[1;32m   1157\u001b[0m     )\n\u001b[1;32m   1158\u001b[0m \u001b[38;5;28;01melif\u001b[39;00m \u001b[38;5;28misinstance\u001b[39m(data, np\u001b[38;5;241m.\u001b[39mndarray):\n\u001b[0;32m-> 1159\u001b[0m     preds, nrow \u001b[38;5;241m=\u001b[39m \u001b[38;5;28;43mself\u001b[39;49m\u001b[38;5;241;43m.\u001b[39;49m\u001b[43m__pred_for_np2d\u001b[49m\u001b[43m(\u001b[49m\n\u001b[1;32m   1160\u001b[0m \u001b[43m        \u001b[49m\u001b[43mmat\u001b[49m\u001b[38;5;241;43m=\u001b[39;49m\u001b[43mdata\u001b[49m\u001b[43m,\u001b[49m\n\u001b[1;32m   1161\u001b[0m \u001b[43m        \u001b[49m\u001b[43mstart_iteration\u001b[49m\u001b[38;5;241;43m=\u001b[39;49m\u001b[43mstart_iteration\u001b[49m\u001b[43m,\u001b[49m\n\u001b[1;32m   1162\u001b[0m \u001b[43m        \u001b[49m\u001b[43mnum_iteration\u001b[49m\u001b[38;5;241;43m=\u001b[39;49m\u001b[43mnum_iteration\u001b[49m\u001b[43m,\u001b[49m\n\u001b[1;32m   1163\u001b[0m \u001b[43m        \u001b[49m\u001b[43mpredict_type\u001b[49m\u001b[38;5;241;43m=\u001b[39;49m\u001b[43mpredict_type\u001b[49m\n\u001b[1;32m   1164\u001b[0m \u001b[43m    \u001b[49m\u001b[43m)\u001b[49m\n\u001b[1;32m   1165\u001b[0m \u001b[38;5;28;01melif\u001b[39;00m _is_pyarrow_table(data):\n\u001b[1;32m   1166\u001b[0m     preds, nrow \u001b[38;5;241m=\u001b[39m \u001b[38;5;28mself\u001b[39m\u001b[38;5;241m.\u001b[39m__pred_for_pyarrow_table(\n\u001b[1;32m   1167\u001b[0m         table\u001b[38;5;241m=\u001b[39mdata,\n\u001b[1;32m   1168\u001b[0m         start_iteration\u001b[38;5;241m=\u001b[39mstart_iteration,\n\u001b[1;32m   1169\u001b[0m         num_iteration\u001b[38;5;241m=\u001b[39mnum_iteration,\n\u001b[1;32m   1170\u001b[0m         predict_type\u001b[38;5;241m=\u001b[39mpredict_type\n\u001b[1;32m   1171\u001b[0m     )\n",
      "File \u001b[0;32m~/miniconda3/envs/my3.11/lib/python3.11/site-packages/lightgbm/basic.py:1306\u001b[0m, in \u001b[0;36m_InnerPredictor.__pred_for_np2d\u001b[0;34m(self, mat, start_iteration, num_iteration, predict_type)\u001b[0m\n\u001b[1;32m   1304\u001b[0m     \u001b[38;5;28;01mreturn\u001b[39;00m preds, nrow\n\u001b[1;32m   1305\u001b[0m \u001b[38;5;28;01melse\u001b[39;00m:\n\u001b[0;32m-> 1306\u001b[0m     \u001b[38;5;28;01mreturn\u001b[39;00m \u001b[38;5;28;43mself\u001b[39;49m\u001b[38;5;241;43m.\u001b[39;49m\u001b[43m__inner_predict_np2d\u001b[49m\u001b[43m(\u001b[49m\n\u001b[1;32m   1307\u001b[0m \u001b[43m        \u001b[49m\u001b[43mmat\u001b[49m\u001b[38;5;241;43m=\u001b[39;49m\u001b[43mmat\u001b[49m\u001b[43m,\u001b[49m\n\u001b[1;32m   1308\u001b[0m \u001b[43m        \u001b[49m\u001b[43mstart_iteration\u001b[49m\u001b[38;5;241;43m=\u001b[39;49m\u001b[43mstart_iteration\u001b[49m\u001b[43m,\u001b[49m\n\u001b[1;32m   1309\u001b[0m \u001b[43m        \u001b[49m\u001b[43mnum_iteration\u001b[49m\u001b[38;5;241;43m=\u001b[39;49m\u001b[43mnum_iteration\u001b[49m\u001b[43m,\u001b[49m\n\u001b[1;32m   1310\u001b[0m \u001b[43m        \u001b[49m\u001b[43mpredict_type\u001b[49m\u001b[38;5;241;43m=\u001b[39;49m\u001b[43mpredict_type\u001b[49m\u001b[43m,\u001b[49m\n\u001b[1;32m   1311\u001b[0m \u001b[43m        \u001b[49m\u001b[43mpreds\u001b[49m\u001b[38;5;241;43m=\u001b[39;49m\u001b[38;5;28;43;01mNone\u001b[39;49;00m\n\u001b[1;32m   1312\u001b[0m \u001b[43m    \u001b[49m\u001b[43m)\u001b[49m\n",
      "File \u001b[0;32m~/miniconda3/envs/my3.11/lib/python3.11/site-packages/lightgbm/basic.py:1259\u001b[0m, in \u001b[0;36m_InnerPredictor.__inner_predict_np2d\u001b[0;34m(self, mat, start_iteration, num_iteration, predict_type, preds)\u001b[0m\n\u001b[1;32m   1257\u001b[0m     \u001b[38;5;28;01mraise\u001b[39;00m \u001b[38;5;167;01mValueError\u001b[39;00m(\u001b[38;5;124m\"\u001b[39m\u001b[38;5;124mWrong length of pre-allocated predict array\u001b[39m\u001b[38;5;124m\"\u001b[39m)\n\u001b[1;32m   1258\u001b[0m out_num_preds \u001b[38;5;241m=\u001b[39m ctypes\u001b[38;5;241m.\u001b[39mc_int64(\u001b[38;5;241m0\u001b[39m)\n\u001b[0;32m-> 1259\u001b[0m _safe_call(\u001b[43m_LIB\u001b[49m\u001b[38;5;241;43m.\u001b[39;49m\u001b[43mLGBM_BoosterPredictForMat\u001b[49m\u001b[43m(\u001b[49m\n\u001b[1;32m   1260\u001b[0m \u001b[43m    \u001b[49m\u001b[38;5;28;43mself\u001b[39;49m\u001b[38;5;241;43m.\u001b[39;49m\u001b[43m_handle\u001b[49m\u001b[43m,\u001b[49m\n\u001b[1;32m   1261\u001b[0m \u001b[43m    \u001b[49m\u001b[43mptr_data\u001b[49m\u001b[43m,\u001b[49m\n\u001b[1;32m   1262\u001b[0m \u001b[43m    \u001b[49m\u001b[43mctypes\u001b[49m\u001b[38;5;241;43m.\u001b[39;49m\u001b[43mc_int\u001b[49m\u001b[43m(\u001b[49m\u001b[43mtype_ptr_data\u001b[49m\u001b[43m)\u001b[49m\u001b[43m,\u001b[49m\n\u001b[1;32m   1263\u001b[0m \u001b[43m    \u001b[49m\u001b[43mctypes\u001b[49m\u001b[38;5;241;43m.\u001b[39;49m\u001b[43mc_int32\u001b[49m\u001b[43m(\u001b[49m\u001b[43mmat\u001b[49m\u001b[38;5;241;43m.\u001b[39;49m\u001b[43mshape\u001b[49m\u001b[43m[\u001b[49m\u001b[38;5;241;43m0\u001b[39;49m\u001b[43m]\u001b[49m\u001b[43m)\u001b[49m\u001b[43m,\u001b[49m\n\u001b[1;32m   1264\u001b[0m \u001b[43m    \u001b[49m\u001b[43mctypes\u001b[49m\u001b[38;5;241;43m.\u001b[39;49m\u001b[43mc_int32\u001b[49m\u001b[43m(\u001b[49m\u001b[43mmat\u001b[49m\u001b[38;5;241;43m.\u001b[39;49m\u001b[43mshape\u001b[49m\u001b[43m[\u001b[49m\u001b[38;5;241;43m1\u001b[39;49m\u001b[43m]\u001b[49m\u001b[43m)\u001b[49m\u001b[43m,\u001b[49m\n\u001b[1;32m   1265\u001b[0m \u001b[43m    \u001b[49m\u001b[43mctypes\u001b[49m\u001b[38;5;241;43m.\u001b[39;49m\u001b[43mc_int\u001b[49m\u001b[43m(\u001b[49m\u001b[43m_C_API_IS_ROW_MAJOR\u001b[49m\u001b[43m)\u001b[49m\u001b[43m,\u001b[49m\n\u001b[1;32m   1266\u001b[0m \u001b[43m    \u001b[49m\u001b[43mctypes\u001b[49m\u001b[38;5;241;43m.\u001b[39;49m\u001b[43mc_int\u001b[49m\u001b[43m(\u001b[49m\u001b[43mpredict_type\u001b[49m\u001b[43m)\u001b[49m\u001b[43m,\u001b[49m\n\u001b[1;32m   1267\u001b[0m \u001b[43m    \u001b[49m\u001b[43mctypes\u001b[49m\u001b[38;5;241;43m.\u001b[39;49m\u001b[43mc_int\u001b[49m\u001b[43m(\u001b[49m\u001b[43mstart_iteration\u001b[49m\u001b[43m)\u001b[49m\u001b[43m,\u001b[49m\n\u001b[1;32m   1268\u001b[0m \u001b[43m    \u001b[49m\u001b[43mctypes\u001b[49m\u001b[38;5;241;43m.\u001b[39;49m\u001b[43mc_int\u001b[49m\u001b[43m(\u001b[49m\u001b[43mnum_iteration\u001b[49m\u001b[43m)\u001b[49m\u001b[43m,\u001b[49m\n\u001b[1;32m   1269\u001b[0m \u001b[43m    \u001b[49m\u001b[43m_c_str\u001b[49m\u001b[43m(\u001b[49m\u001b[38;5;28;43mself\u001b[39;49m\u001b[38;5;241;43m.\u001b[39;49m\u001b[43mpred_parameter\u001b[49m\u001b[43m)\u001b[49m\u001b[43m,\u001b[49m\n\u001b[1;32m   1270\u001b[0m \u001b[43m    \u001b[49m\u001b[43mctypes\u001b[49m\u001b[38;5;241;43m.\u001b[39;49m\u001b[43mbyref\u001b[49m\u001b[43m(\u001b[49m\u001b[43mout_num_preds\u001b[49m\u001b[43m)\u001b[49m\u001b[43m,\u001b[49m\n\u001b[1;32m   1271\u001b[0m \u001b[43m    \u001b[49m\u001b[43mpreds\u001b[49m\u001b[38;5;241;43m.\u001b[39;49m\u001b[43mctypes\u001b[49m\u001b[38;5;241;43m.\u001b[39;49m\u001b[43mdata_as\u001b[49m\u001b[43m(\u001b[49m\u001b[43mctypes\u001b[49m\u001b[38;5;241;43m.\u001b[39;49m\u001b[43mPOINTER\u001b[49m\u001b[43m(\u001b[49m\u001b[43mctypes\u001b[49m\u001b[38;5;241;43m.\u001b[39;49m\u001b[43mc_double\u001b[49m\u001b[43m)\u001b[49m\u001b[43m)\u001b[49m\u001b[43m)\u001b[49m)\n\u001b[1;32m   1272\u001b[0m \u001b[38;5;28;01mif\u001b[39;00m n_preds \u001b[38;5;241m!=\u001b[39m out_num_preds\u001b[38;5;241m.\u001b[39mvalue:\n\u001b[1;32m   1273\u001b[0m     \u001b[38;5;28;01mraise\u001b[39;00m \u001b[38;5;167;01mValueError\u001b[39;00m(\u001b[38;5;124m\"\u001b[39m\u001b[38;5;124mWrong length for predict results\u001b[39m\u001b[38;5;124m\"\u001b[39m)\n",
      "\u001b[0;31mKeyboardInterrupt\u001b[0m: "
     ]
    }
   ],
   "source": [
    "from LiveAMP import *\n",
    "self = AMP(**kwargs)\n",
    "dct = self.run()"
   ]
  },
  {
   "cell_type": "code",
   "execution_count": 5,
   "metadata": {},
   "outputs": [
    {
     "data": {
      "text/plain": [
       "[26.31901840490798, 25.621588841722254, 67.44186046511628, 67.56756756756756]"
      ]
     },
     "execution_count": 5,
     "metadata": {},
     "output_type": "execute_result"
    }
   ],
   "source": [
    "dct['holdout_score']"
   ]
  },
  {
   "cell_type": "code",
   "execution_count": 6,
   "metadata": {},
   "outputs": [
    {
     "name": "stdout",
     "output_type": "stream",
     "text": [
      "trf\n",
      "4\n",
      "hi\n",
      "4\n",
      "imp\n",
      "1\n",
      "1\n",
      "clf\n",
      "1\n",
      "1\n"
     ]
    }
   ],
   "source": [
    "hasher = lambda t: hashlib.shake_128(str(t).encode()).hexdigest(2)\n",
    "for nm in ['trf','imp','clf']:\n",
    "    print(nm)\n",
    "    self[nm+'_list'] = cartesian({k: uniquify(v, key=str) for k,v in self[nm+'_grid'].items()})\n",
    "    print(len(self[nm+'_list']))\n",
    "    if nm == 'trf':\n",
    "        self[nm+'_list'] = [ColumnTransformer([(c,t,[\"__\"+c]) for c,t in trf.items() if t not in ['drop',None,'']], remainder='drop', verbose_feature_names_out=False) for trf in self[nm+'_list']]\n",
    "        self[nm+'_dict'] = {hasher(t.transformers): t for t in self[nm+'_list']}\n",
    "    else:\n",
    "        self[nm+'_dict'] = {hasher(t): t for t in self[nm+'_list']}\n",
    "    print(len(self[nm+'_dict']))\n"
   ]
  },
  {
   "cell_type": "code",
   "execution_count": 13,
   "metadata": {},
   "outputs": [
    {
     "data": {
      "text/plain": [
       "'8975'"
      ]
     },
     "execution_count": 13,
     "metadata": {},
     "output_type": "execute_result"
    }
   ],
   "source": [
    "\n",
    "hashlib.shake_128(str(x.transformers).encode()).hexdigest(2)"
   ]
  },
  {
   "cell_type": "code",
   "execution_count": 8,
   "metadata": {},
   "outputs": [
    {
     "name": "stdout",
     "output_type": "stream",
     "text": [
      "ColumnTransformer(transformers=[('act_equiv','passthrough',['__act_equiv']),('act_equiv_missing','passthrough',['__act_equiv_missing']),('apdc_day','passthrough',['__apdc_day']),('birth_day',Pipeline(steps=[('standardscaler',StandardScaler()),('powertransformer',PowerTransformer())]),['__birth_day']),('coll_code','passthrough',['__coll_code']),('di...('race_pacific','passthrough',['__race_pacific']),('race_white','passthrough',['__race_white']),('reading','passthrough',['__reading']),('remote','passthrough',['__remote']),('resd','passthrough',['__resd']),('schlship_app','passthrough',['__schlship_app']),('ssb','passthrough',['__ssb']),('waiver','passthrough',['__waiver']),('writing','passthrough',['__writing'])])\n",
      "ColumnTransformer(transformers=[('act_equiv','passthrough',['__act_equiv']),('act_equiv_missing','passthrough',['__act_equiv_missing']),('apdc_day','passthrough',['__apdc_day']),('birth_day',Pipeline(steps=[('standardscaler',StandardScaler()),('powertransformer',PowerTransformer())]),['__birth_day']),('coll_code','passthrough',['__coll_code']),('di...('race_pacific','passthrough',['__race_pacific']),('race_white','passthrough',['__race_white']),('reading','passthrough',['__reading']),('remote','passthrough',['__remote']),('resd','passthrough',['__resd']),('schlship_app','passthrough',['__schlship_app']),('ssb','passthrough',['__ssb']),('waiver','passthrough',['__waiver']),('writing','passthrough',['__writing'])])\n",
      "ColumnTransformer(transformers=[('act_equiv','passthrough',['__act_equiv']),('act_equiv_missing','passthrough',['__act_equiv_missing']),('apdc_day','passthrough',['__apdc_day']),('birth_day','passthrough',['__birth_day']),('coll_code','passthrough',['__coll_code']),('distance',Pipeline(steps=[('standardscaler',StandardScaler()),('powertransformer',...('race_pacific','passthrough',['__race_pacific']),('race_white','passthrough',['__race_white']),('reading','passthrough',['__reading']),('remote','passthrough',['__remote']),('resd','passthrough',['__resd']),('schlship_app','passthrough',['__schlship_app']),('ssb','passthrough',['__ssb']),('waiver','passthrough',['__waiver']),('writing','passthrough',['__writing'])])\n",
      "ColumnTransformer(transformers=[('act_equiv','passthrough',['__act_equiv']),('act_equiv_missing','passthrough',['__act_equiv_missing']),('apdc_day','passthrough',['__apdc_day']),('birth_day','passthrough',['__birth_day']),('coll_code','passthrough',['__coll_code']),('distance','passthrough',['__distance']),('gap_score','passthrough',['__gap_score']...('race_pacific','passthrough',['__race_pacific']),('race_white','passthrough',['__race_white']),('reading','passthrough',['__reading']),('remote','passthrough',['__remote']),('resd','passthrough',['__resd']),('schlship_app','passthrough',['__schlship_app']),('ssb','passthrough',['__ssb']),('waiver','passthrough',['__waiver']),('writing','passthrough',['__writing'])])\n"
     ]
    }
   ],
   "source": [
    "for x in self['trf_list']:\n",
    "    print(str(x).replace('\\n','').replace(' ',''))"
   ]
  },
  {
   "cell_type": "code",
   "execution_count": null,
   "metadata": {},
   "outputs": [],
   "source": []
  },
  {
   "cell_type": "code",
   "execution_count": null,
   "metadata": {},
   "outputs": [],
   "source": [
    "fn = '/home/scook/institutional_data_analytics/admitted_matriculation_projection/resources/rslt/151/False/Y_pred/n/math1314/202308/53c7/c519/5742.pkl'\n",
    "# fn = '/home/scook/institutional_data_analytics/admitted_matriculation_projection/resources/rslt/151/False/Y_pred/n/math1314/202308/5afa/c519/5742.pkl'\n",
    "# fn = '/home/scook/institutional_data_analytics/admitted_matriculation_projection/resources/rslt/151/False/Y_pred/n/math1314/202308/b051/c519/5742.pkl'\n",
    "# fn = '/home/scook/institutional_data_analytics/admitted_matriculation_projection/resources/rslt/151/False/Y_pred/n/math1314/202308/b314/c519/5742.pkl'\n",
    "fn = '/home/scook/institutional_data_analytics/admitted_matriculation_projection/resources/rslt/151/False/Y_pred/n/math1314/202308/e69c/c519/5742.pkl'\n",
    "fn = '/home/scook/institutional_data_analytics/admitted_matriculation_projection/resources/rslt/151/False/Y_pred/n/math1314/202308/e858/c519/5742.pkl'\n",
    "fn = '/home/scook/institutional_data_analytics/admitted_matriculation_projection/resources/rslt/151/False/Y_pred/n/math1314/202308/ed94/c519/5742.pkl'\n",
    "A = read(fn)\n",
    "A.keys()\n",
    "len(A['train_score'])"
   ]
  },
  {
   "cell_type": "code",
   "execution_count": null,
   "metadata": {},
   "outputs": [],
   "source": [
    "1+1"
   ]
  },
  {
   "cell_type": "code",
   "execution_count": null,
   "metadata": {},
   "outputs": [],
   "source": [
    "for k,v in self.trf_dict.items():\n",
    "    print(k)\n",
    "    print(str(v).replace('\\n','').replace(' ',''))"
   ]
  },
  {
   "cell_type": "code",
   "execution_count": null,
   "metadata": {},
   "outputs": [],
   "source": [
    "A = self.optimal['n']['_allcrse'][202308]\n",
    "a = min(A, key=lambda x: x['score']['agg'])\n",
    "a.keys()\n",
    "\n",
    "# [0].keys()"
   ]
  },
  {
   "cell_type": "code",
   "execution_count": null,
   "metadata": {},
   "outputs": [],
   "source": [
    "for path in cartesian({'nm': '', 'styp_code': self.styp_codes, 'crse_code': self.crse_codes, 'train_code': self.train_codes}, sort=False):\n",
    "    s = self.get(path | {'nm': 'summary'})\n",
    "s['53c7']['3d79']['5742'].keys()"
   ]
  },
  {
   "cell_type": "code",
   "execution_count": null,
   "metadata": {},
   "outputs": [],
   "source": [
    "cartesian({'styp_code': self.styp_codes, 'crse_code': self.crse_codes, 'train_code': self.train_codes, 'trf_hash': self.trf_dict.keys(), 'imp_hash': self.imp_dict.keys(), 'clf_hash': self.clf_dict.keys()})\n"
   ]
  },
  {
   "cell_type": "code",
   "execution_count": null,
   "metadata": {},
   "outputs": [],
   "source": [
    "self.terms[202108]['cur'].get('raw')"
   ]
  },
  {
   "cell_type": "code",
   "execution_count": null,
   "metadata": {},
   "outputs": [],
   "source": [
    "self.get('reg_df')"
   ]
  },
  {
   "cell_type": "code",
   "execution_count": null,
   "metadata": {},
   "outputs": [],
   "source": [
    "self.terms"
   ]
  },
  {
   "cell_type": "code",
   "execution_count": null,
   "metadata": {},
   "outputs": [],
   "source": [
    "cartesian({'pred_code': self.pred_codes})"
   ]
  },
  {
   "cell_type": "code",
   "execution_count": null,
   "metadata": {},
   "outputs": [],
   "source": [
    "import codetiming\n",
    "x = 'hi'\n",
    "with codetiming.Timer(text=x+\"Elapsed time: {:0.4f} seconds\"):\n",
    "    for i in range(100000):\n",
    "        pass"
   ]
  },
  {
   "cell_type": "code",
   "execution_count": null,
   "metadata": {},
   "outputs": [],
   "source": [
    "from LiveAMP import *\n",
    "\n",
    "# FLAGS().run()\n",
    "self = AMP(**kwargs)\n",
    "self.get('raw_df')\n",
    "self.get('reg_df')\n",
    "self.get('X')\n",
    "self.get('Y')\n",
    "self.get('mlt')\n",
    "for styp_code in self.styp_codes:\n",
    "    for crse_code in self.crse_codes:\n",
    "        for train_code in self.train_codes:\n",
    "            for trf_hash in self.trf_dict.keys():\n",
    "                for imp_hash in self.imp_dict.keys():\n",
    "                    for clf_hash in self.clf_dict.keys():\n",
    "                        path = {'nm':'summary', 'styp_code': styp_code, 'crse_code':crse_code, 'train_code':train_code, 'trf_hash':trf_hash, 'imp_hash':imp_hash, 'clf_hash':clf_hash}\n",
    "                        print(path)\n",
    "                        dct = self.get(path)"
   ]
  },
  {
   "cell_type": "code",
   "execution_count": null,
   "metadata": {},
   "outputs": [],
   "source": [
    "dct['rslt'].describe().T"
   ]
  },
  {
   "cell_type": "code",
   "execution_count": null,
   "metadata": {},
   "outputs": [],
   "source": [
    "clf['Y_pred'][0]\n",
    "clf.keys()\n",
    "clf['2024_projection_202108']\n",
    "clf.keys()\n",
    "pd.DataFrame({k:v for k,v in clf.items() if 'score' in k or 'projection' in k})\n",
    "# for k in filter(lambda k,v: 'score' in k, clf.items()):\n",
    "#     print(k)"
   ]
  },
  {
   "cell_type": "code",
   "execution_count": null,
   "metadata": {},
   "outputs": [],
   "source": [
    "def f(dct):\n",
    "    dct.pop('a')\n",
    "\n",
    "class A():\n",
    "    def __init__(self):\n",
    "        dct = {'a':3}\n",
    "        f(dct)\n",
    "        print(dct)\n",
    "A()"
   ]
  },
  {
   "cell_type": "code",
   "execution_count": null,
   "metadata": {},
   "outputs": [],
   "source": [
    "M = self.get('mlt').query(f\"styp_code=='n' & crse_code=='_allcrse'\").rsindex('pred_code').squeeze()\n",
    "M\n",
    "{k:v for k,v in M.items()}\n"
   ]
  },
  {
   "cell_type": "code",
   "execution_count": null,
   "metadata": {},
   "outputs": [],
   "source": [
    "clf['rslt'].describe().T.disp(10)"
   ]
  },
  {
   "cell_type": "code",
   "execution_count": null,
   "metadata": {},
   "outputs": [],
   "source": [
    "self.get('X').dtypes.disp(100)"
   ]
  },
  {
   "cell_type": "code",
   "execution_count": null,
   "metadata": {},
   "outputs": [],
   "source": [
    "M = self.get('mlt').query(f\"styp_code==@path['styp_code'] & crse_code==@path['crse_code']\")\n",
    "A = (clf['Y_pred'].query('imp==0')['predicted'].sum() * M).reset_index()[['pred_code','mlt']]\n",
    "A.to_dict('records')\n",
    "# ('index')"
   ]
  },
  {
   "cell_type": "code",
   "execution_count": null,
   "metadata": {},
   "outputs": [],
   "source": [
    "M = self.get('mlt').query(f\"styp_code==@path['styp_code'] & crse_code==@path['crse_code']\")\n",
    "M\n",
    "# A = (clf['Y_pred'].query('imp==0')['predicted'].sum() * M).reset_index()[['pred_code','mlt']]\n",
    "# A = (clf['Y_pred'].query('imp==0')['predicted'].sum() * M).rindex('pred_code', bare=True).sindex('pred_code')#.values\n",
    "A = (clf['Y_pred'].query('imp==0')['predicted'].sum() * M).rsindex('pred_code').squeeze().to_dict()\n",
    "# {a['pred_code']: a['mlt'] for a in A}\n",
    "# A.to_dict('index')\n",
    "# # ('index')"
   ]
  },
  {
   "cell_type": "code",
   "execution_count": null,
   "metadata": {},
   "outputs": [],
   "source": [
    "self.get('mlt').reset_index().dtypes"
   ]
  },
  {
   "cell_type": "code",
   "execution_count": null,
   "metadata": {},
   "outputs": [],
   "source": [
    "clf['Y_pred'].prep().join(self.get('mlt').prep()).disp(4)"
   ]
  },
  {
   "cell_type": "code",
   "execution_count": null,
   "metadata": {},
   "outputs": [],
   "source": [
    "import seaborn as sns\n",
    "sns.kdeplot(clf['rslt']['projection21'])\n",
    "clf['rslt']['projection21'].describe()"
   ]
  },
  {
   "cell_type": "code",
   "execution_count": null,
   "metadata": {},
   "outputs": [],
   "source": [
    "self.mlt.disp(100)"
   ]
  },
  {
   "cell_type": "code",
   "execution_count": null,
   "metadata": {},
   "outputs": [],
   "source": [
    "clf['rslt']"
   ]
  },
  {
   "cell_type": "code",
   "execution_count": null,
   "metadata": {},
   "outputs": [],
   "source": [
    "1+1"
   ]
  },
  {
   "cell_type": "code",
   "execution_count": null,
   "metadata": {},
   "outputs": [],
   "source": [
    "imp.keys()\n",
    "# imp"
   ]
  },
  {
   "cell_type": "code",
   "execution_count": null,
   "metadata": {},
   "outputs": [],
   "source": [
    "path = {'nm':'test', 'sub':'test2'}\n",
    "L = listify(path)\n",
    "nm = L.pop(0)\n",
    "(self.root_path / join(L,'/')).with_suffix('.pkl')\n",
    "path"
   ]
  },
  {
   "cell_type": "code",
   "execution_count": null,
   "metadata": {},
   "outputs": [],
   "source": [
    "4200/10/20"
   ]
  },
  {
   "cell_type": "code",
   "execution_count": null,
   "metadata": {},
   "outputs": [],
   "source": [
    "X_imp.disp(1)"
   ]
  },
  {
   "cell_type": "code",
   "execution_count": null,
   "metadata": {},
   "outputs": [],
   "source": [
    "12800/9\n",
    "17.95*20*4\n",
    "21*20*52"
   ]
  },
  {
   "cell_type": "code",
   "execution_count": null,
   "metadata": {},
   "outputs": [],
   "source": [
    "str(trf).replace('\\n','').replace(' ','')"
   ]
  },
  {
   "cell_type": "code",
   "execution_count": null,
   "metadata": {},
   "outputs": [],
   "source": [
    "import hashlib\n",
    "self.trf_list = cartesian({k: uniquify(v, key=str) for k,v in self.trf_grid.items()})\n",
    "self.trf_list = [ColumnTransformer([(c,t,[\"__\"+c]) for c,t in trf.items() if t not in ['drop',None,'']], remainder='drop', verbose_feature_names_out=False) for trf in self.trf_list]\n",
    "self.trf_dict = {hashlib.md5(str(trf).encode()).hexdigest(): trf for trf in self.trf_list}\n",
    "self.trf_dict\n",
    "\n",
    "\n",
    "# self.trf_list = [uniquify({k:v for k,v in t.items() if v not in ['drop',None,'']}) for t in self.trf_list]\n",
    "# self.trf_list = [ColumnTransformer([(c,t,[\"__\"+c]) for c,t in trf.items()], remainder='drop', verbose_feature_names_out=False) for trf in self.trf_list]\n",
    "# self.trf_dict = {hashlib.md5(trf).encode()).hexdigest(): trf for trf in self.trf_list}\n",
    "# self.trf_dict\n",
    "# trf_par = self.trf_list[0]\n",
    "# trf = ColumnTransformer([(c,t,[\"__\"+c]) for c,t in trf_par.items()], remainder='drop', verbose_feature_names_out=False)\n",
    "# hashlib.md5(str(trf).encode()).hexdigest()\n",
    "# str(trf).replace('\\n','').replace(' ','')\n",
    "# self.trf_list = [uniquify({k:v for k,v in t.items() if v not in ['drop',None,'']}) for t in self.trf_list]\n",
    "\n",
    "# w = self.trf_list[0]\n",
    "# json.dumps(w)\n",
    "# w = [str({str(k):str(v) for k,v in t.items()}) for t in self.trf_list][0]\n",
    "# print(w)\n",
    "# print(hash(w))\n",
    "# self.trf_list = {hash(stringify(t)): t for t in self.trf_list}\n",
    "# self.trf_list\n",
    "# {hash(str(t)):1 for t in self.trf_list}\n",
    "# self.trf_list[0]\n",
    "# self.trf_list = [uniquify({k:v for k,v in t.items() if v not in ['drop',None,'']}) for t in self.trf_list]\n"
   ]
  },
  {
   "cell_type": "code",
   "execution_count": null,
   "metadata": {},
   "outputs": [],
   "source": [
    "# hash(stringify(self.trf_list[0]))\n",
    "# trf = StandardScaler()\n",
    "# hash(trf)\n",
    "hash(str(self.trf_list[0]))"
   ]
  },
  {
   "cell_type": "code",
   "execution_count": null,
   "metadata": {},
   "outputs": [],
   "source": [
    "self.trf_list"
   ]
  },
  {
   "cell_type": "code",
   "execution_count": null,
   "metadata": {},
   "outputs": [],
   "source": [
    "self.get('raw_df')\n",
    "self.get('reg_df')['cur']\n",
    "# self.get('X')\n",
    "# self.get('Y')\n",
    "# .set_index(['pidm','pred_code','crse_code'])"
   ]
  },
  {
   "cell_type": "code",
   "execution_count": null,
   "metadata": {},
   "outputs": [],
   "source": [
    "from flags import *\n",
    "\n",
    "@dataclasses.dataclass\n",
    "class TERM(MyBaseClass):\n",
    "    cycle_day: int = 0\n",
    "    term_code: int = 202308\n",
    "    root_path: str = root_path\n",
    "    show: set = dataclasses.field(default_factory=set)\n",
    "\n",
    "\n",
    "    def __post_init__(self):\n",
    "        self.dependence: dict = {'adm':'raw', 'flg':'raw', 'dst':'raw', 'raw':'term', 'reg':'term'}\n",
    "        super().__post_init__()\n",
    "    #     pass\n",
    "        # print(self.__dict__())\n",
    "TERM(overwrite={'adm'}).overwrite"
   ]
  },
  {
   "cell_type": "code",
   "execution_count": null,
   "metadata": {},
   "outputs": [],
   "source": [
    "dependence = {'adm':'raw', 'flg':'raw', 'dst':'raw', 'raw':'term', 'reg':'term'}\n",
    "l = 0\n",
    "overwrite = {'adm'}\n",
    "while l < len(overwrite):\n",
    "    l = len(overwrite)\n",
    "    overwrite |= {y for x in overwrite for y in setify(dependence[x] if x in dependence else {})}\n",
    "    # print(self.overwrite)\n",
    "overwrite"
   ]
  },
  {
   "cell_type": "code",
   "execution_count": null,
   "metadata": {},
   "outputs": [],
   "source": [
    "q = TERM(term_code=202408, overwrite={'adm'})\n",
    "q.overwrite"
   ]
  },
  {
   "cell_type": "code",
   "execution_count": null,
   "metadata": {},
   "outputs": [],
   "source": [
    "a = {'a'}\n",
    "a |= {'b'}\n",
    "a"
   ]
  },
  {
   "cell_type": "code",
   "execution_count": null,
   "metadata": {},
   "outputs": [],
   "source": [
    "dep = {\n",
    "    'a': {'b','c'},\n",
    "    'b': {'d','e'},\n",
    "}\n",
    "over = {'a'}\n",
    "l = 0\n",
    "while l < len(over):\n",
    "    l = len(over)\n",
    "    over |= {y for x in over for y in setify(dep[x] if x in dep else {})}\n",
    "    # if s == len(over):\n",
    "    #     break\n",
    "    # s = len(over)\n",
    "over"
   ]
  },
  {
   "cell_type": "code",
   "execution_count": null,
   "metadata": {},
   "outputs": [],
   "source": [
    "def g(L, D):\n",
    "    I = intersection(L, D.keys())\n",
    "    g()\n",
    "    {g(D[y]) for y in intersection(L, D.keys())}\n",
    "\n"
   ]
  },
  {
   "cell_type": "code",
   "execution_count": null,
   "metadata": {},
   "outputs": [],
   "source": [
    "a = pathlib.Path('/home/scook/institutional_data_analytics/admitted_matriculation_projection/admitted_matriculation_predictor/src/dst')\n",
    "a = pathlib.Path(a)"
   ]
  },
  {
   "cell_type": "code",
   "execution_count": null,
   "metadata": {},
   "outputs": [],
   "source": [
    "from setup import *\n",
    "fn = '/home/scook/institutional_data_analytics/admitted_matriculation_projection/admitted_matriculation_predictor/src/dst'\n",
    "dst = read(fn+'.parq')\n",
    "write(fn+'.pkl', dst)\n",
    "# fn.w\n",
    "# .with_suffix('.pkl')"
   ]
  }
 ],
 "metadata": {
  "kernelspec": {
   "display_name": "my3.11",
   "language": "python",
   "name": "python3"
  },
  "language_info": {
   "codemirror_mode": {
    "name": "ipython",
    "version": 3
   },
   "file_extension": ".py",
   "mimetype": "text/x-python",
   "name": "python",
   "nbconvert_exporter": "python",
   "pygments_lexer": "ipython3",
   "version": "3.11.8"
  }
 },
 "nbformat": 4,
 "nbformat_minor": 2
}
