{
 "cells": [
  {
   "cell_type": "markdown",
   "metadata": {},
   "source": [
    "- trf\n",
    "    - ca37: distance=passthrough\n",
    "    - fa15: distance=pwr\n",
    "- imp\n",
    "    - 2474: tune=False\n",
    "    - 20cf: tune=True\n",
    "- clf\n",
    "    - 2c44: ensemble=True, time=20\n",
    "    - 25f2: ensemble=False, time=20"
   ]
  },
  {
   "cell_type": "code",
   "execution_count": null,
   "metadata": {},
   "outputs": [],
   "source": [
    "from LiveAMP import *\n",
    "# Flags().run()\n",
    "\n",
    "# self = AMP(cycle_day=126, styp_code='n', crse_code='_allcrse', param=cartesian(param_dcts)[0])\n",
    "# self = run_amp(119)\n",
    "# # self.get_X()\n",
    "# self.get_summary()\n",
    "# R = self.rslt[' 50%']\n",
    "# R.disp(1000)\n",
    "# self = get_stack(126)\n"
   ]
  },
  {
   "cell_type": "code",
   "execution_count": null,
   "metadata": {},
   "outputs": [],
   "source": [
    "/home/scook/institutional_data_analytics/admitted_matriculation_projection/resources/rslt2/119/Y/n/_allcrse/fa15/77d7/387d.pkl"
   ]
  },
  {
   "cell_type": "code",
   "execution_count": 12,
   "metadata": {},
   "outputs": [
    {
     "data": {
      "text/plain": [
       "pred_code\n",
       "202108    23.382423\n",
       "202208    19.320035\n",
       "202308    15.049047\n",
       "202408    19.245374\n",
       "Name: train_score, dtype: float64"
      ]
     },
     "execution_count": 12,
     "metadata": {},
     "output_type": "execute_result"
    }
   ],
   "source": [
    "from LiveAMP import *\n",
    "w = read('/home/scook/institutional_data_analytics/admitted_matriculation_projection/resources/rslt2/119/Y/n/_allcrse/fa15/77d7/387d.pkl')\n",
    "dct = w['train_score']\n",
    "pd.Series(dct, name='train_score').rename_axis('pred_code')\n",
    "# pd.Series.from_dict(dct, orient='index')"
   ]
  },
  {
   "cell_type": "code",
   "execution_count": null,
   "metadata": {},
   "outputs": [],
   "source": []
  },
  {
   "cell_type": "code",
   "execution_count": 22,
   "metadata": {},
   "outputs": [
    {
     "data": {
      "text/plain": [
       "{202108: <flaml.automl.model.LGBMEstimator at 0x7f6d3346a3d0>,\n",
       " 202208: <flaml.automl.model.LGBMEstimator at 0x7f6d334467d0>,\n",
       " 202308: <flaml.automl.model.CatBoostEstimator at 0x7f6d3344f1d0>,\n",
       " 202408: <flaml.automl.model.LGBMEstimator at 0x7f6d334e9010>}"
      ]
     },
     "execution_count": 22,
     "metadata": {},
     "output_type": "execute_result"
    }
   ],
   "source": [
    "# getsizeof(w['clf'])\n",
    "clf = w['clf']#[202208]\n",
    "write('/home/scook/institutional_data_analytics/admitted_matriculation_projection/resources/temp/temp.pkl', clf)"
   ]
  },
  {
   "cell_type": "code",
   "execution_count": 56,
   "metadata": {},
   "outputs": [
    {
     "data": {
      "text/plain": [
       "pred_code\n",
       "202108      78670.17473\n",
       "202208     86950.397247\n",
       "202308    103212.464418\n",
       "202408    114951.909224\n",
       "Name: proba, dtype: Float64"
      ]
     },
     "execution_count": 56,
     "metadata": {},
     "output_type": "execute_result"
    }
   ],
   "source": [
    "from LiveAMP import *\n",
    "# T = MyBaseClass().load('/home/scook/institutional_data_analytics/admitted_matriculation_projection/resources/rslt2/119/X.pkl')\n",
    "self = MyBaseClass().load('/home/scook/institutional_data_analytics/admitted_matriculation_projection/resources/rslt2/119/Y/n/_allcrse/fa15/77d7/387d.pkl')\n",
    "self.Y.groupby('pred_code')['proba'].sum()\n",
    "# T.__dict__.keys()\n",
    "# for k,v in T.y.items():\n",
    "#     print(k)\n",
    "#     v.disp()\n",
    "# T.X.disp()\n",
    "# getsizeof(T.__dict__)"
   ]
  },
  {
   "cell_type": "code",
   "execution_count": 52,
   "metadata": {},
   "outputs": [
    {
     "data": {
      "text/plain": [
       "2"
      ]
     },
     "execution_count": 52,
     "metadata": {},
     "output_type": "execute_result"
    }
   ],
   "source": [
    "1+1"
   ]
  },
  {
   "cell_type": "code",
   "execution_count": 51,
   "metadata": {},
   "outputs": [
    {
     "name": "stderr",
     "output_type": "stream",
     "text": [
      "/tmp/ipykernel_26641/28603547.py:13: FutureWarning: Downcasting object dtype arrays on .fillna, .ffill, .bfill is deprecated and will change in a future version. Call result.infer_objects(copy=False) instead. To opt-in to the future behavior, set `pd.set_option('future.no_silent_downcasting', True)`\n",
      "  df.fillna({'B':2}, inplace=True)\n"
     ]
    },
    {
     "data": {
      "text/html": [
       "<div>\n",
       "<style scoped>\n",
       "    .dataframe tbody tr th:only-of-type {\n",
       "        vertical-align: middle;\n",
       "    }\n",
       "\n",
       "    .dataframe tbody tr th {\n",
       "        vertical-align: top;\n",
       "    }\n",
       "\n",
       "    .dataframe thead th {\n",
       "        text-align: right;\n",
       "    }\n",
       "</style>\n",
       "<table border=\"1\" class=\"dataframe\">\n",
       "  <thead>\n",
       "    <tr style=\"text-align: right;\">\n",
       "      <th></th>\n",
       "      <th>A</th>\n",
       "      <th>B</th>\n",
       "    </tr>\n",
       "  </thead>\n",
       "  <tbody>\n",
       "    <tr>\n",
       "      <th>0</th>\n",
       "      <td>b</td>\n",
       "      <td>12</td>\n",
       "    </tr>\n",
       "    <tr>\n",
       "      <th>1</th>\n",
       "      <td>a</td>\n",
       "      <td>2</td>\n",
       "    </tr>\n",
       "  </tbody>\n",
       "</table>\n",
       "</div>"
      ],
      "text/plain": [
       "   A   B\n",
       "0  b  12\n",
       "1  a   2"
      ]
     },
     "execution_count": 51,
     "metadata": {},
     "output_type": "execute_result"
    }
   ],
   "source": [
    "dct = {'a':1,'b':2}\n",
    "df = pd.DataFrame()\n",
    "df['A'] = ['b','a']\n",
    "df['B'] = [12,pd.NA]\n",
    "# df['B'] = df['A'].map(dct)\n",
    "# df = df.assign(B=lambda x:x['A'].map(dct))\n",
    "# df\n",
    "\n",
    "# ser = pd.DataFrame.from_dict(dct, orient='index')\n",
    "# df = df.set_index('A')#.join(ser)\n",
    "# x = 'a'\n",
    "# df = df.query(\"A==@x\")\n",
    "df.fillna({'B':2}, inplace=True)\n",
    "# df.dtypes\n",
    "df"
   ]
  },
  {
   "cell_type": "code",
   "execution_count": null,
   "metadata": {},
   "outputs": [],
   "source": [
    "from LiveAMP import *\n",
    "T = MyBaseClass().load('/home/scook/institutional_data_analytics/admitted_matriculation_projection/resources/rslt/119/X.pkl')\n",
    "for k,v in T.y.items():\n",
    "    print(k)\n",
    "    v.disp()"
   ]
  },
  {
   "cell_type": "code",
   "execution_count": null,
   "metadata": {},
   "outputs": [],
   "source": [
    "T.terms[0][202108].reg.dtypes.disp(100)"
   ]
  },
  {
   "cell_type": "code",
   "execution_count": null,
   "metadata": {},
   "outputs": [],
   "source": [
    "b.model.estimator"
   ]
  },
  {
   "cell_type": "code",
   "execution_count": null,
   "metadata": {},
   "outputs": [],
   "source": [
    "b = dct['base']\n",
    "dir(b)\n",
    "est = b._trained_estimator.estimator\n",
    "est.set_params(enable_categorical=True)"
   ]
  },
  {
   "cell_type": "code",
   "execution_count": null,
   "metadata": {},
   "outputs": [],
   "source": [
    "from sklearn.calibration import CalibrationDisplay, CalibratedClassifierCV\n",
    "from sklearn.metrics import brier_score_loss\n",
    "def cal_disp(clf):\n",
    "    X = dct['base'].Z.copy()\n",
    "    clf.y_true = X.pop('actual')\n",
    "    clf.y_prob = clf.predict_proba(X)[:,1]\n",
    "    print(brier_score_loss(clf.y_true, clf.y_prob))\n",
    "    disp = CalibrationDisplay.from_predictions(clf.y_true, clf.y_prob, n_bins=20, strategy='quantile')\n",
    "    plt.show()\n",
    "\n",
    "def calibrate(method):\n",
    "    with Timer():\n",
    "        clf = CalibratedClassifierCV(dct['base']._trained_estimator.estimator.set_params(enable_categorical=True), method=method).fit(dct['base'].X, dct['base'].y)\n",
    "    cal_disp(clf)\n",
    "    return clf\n",
    "\n",
    "cal_disp(dct['base'])\n",
    "dct['iso'] = calibrate('isotonic')\n",
    "dct['sig'] = calibrate('sigmoid')\n"
   ]
  },
  {
   "cell_type": "code",
   "execution_count": null,
   "metadata": {},
   "outputs": [],
   "source": [
    "for k, clf in dct.items():\n",
    "    print(k, clf.y_true.sum(), clf.y_prob.sum())"
   ]
  },
  {
   "cell_type": "code",
   "execution_count": null,
   "metadata": {},
   "outputs": [],
   "source": [
    "from sklearn.calibration import calibration_curve, CalibrationDisplay\n",
    "prob_true, prob_pred = calibration_curve(clf.Y['actual'], clf.Y['proba'], n_bins=20)\n",
    "disp = CalibrationDisplay(prob_true, prob_pred, clf.Y['proba'])\n",
    "disp.plot()"
   ]
  },
  {
   "cell_type": "code",
   "execution_count": null,
   "metadata": {},
   "outputs": [],
   "source": [
    "clf = w['clf'][202408]\n",
    "clf.Y = w['Y']"
   ]
  },
  {
   "cell_type": "code",
   "execution_count": null,
   "metadata": {},
   "outputs": [],
   "source": [
    "qry = \"select max(A.current_date) from opeir.admissions_fall2024 A\"\n",
    "db.execute(qry)"
   ]
  },
  {
   "cell_type": "code",
   "execution_count": null,
   "metadata": {},
   "outputs": [],
   "source": [
    "w[202108]"
   ]
  },
  {
   "cell_type": "code",
   "execution_count": null,
   "metadata": {},
   "outputs": [],
   "source": [
    "from LiveAMP import *\n",
    "# w = read('/home/scook/institutional_data_analytics/admitted_matriculation_projection/resources/rslt2/126/Y/n/_allcrse/fa15/1bfb/88de.pkl')\n",
    "# getsizeof(w)\n",
    "w = fl.AutoML()\n",
    "w.fit?"
   ]
  },
  {
   "cell_type": "code",
   "execution_count": null,
   "metadata": {},
   "outputs": [],
   "source": [
    "\n",
    "S = self.summary.reset_index()\n",
    "S['train_code'] = S['train_code'].astype('string').replace(str(self.proj_code), 'all')\n",
    "# .prep()\n",
    "# )\n",
    "S\n"
   ]
  },
  {
   "cell_type": "code",
   "execution_count": null,
   "metadata": {},
   "outputs": [],
   "source": [
    "self.X.replace(202308, 1, )"
   ]
  },
  {
   "cell_type": "markdown",
   "metadata": {},
   "source": [
    "fl.AutoML(0)"
   ]
  },
  {
   "cell_type": "markdown",
   "metadata": {},
   "source": [
    "fl.AutoML()"
   ]
  },
  {
   "cell_type": "code",
   "execution_count": null,
   "metadata": {},
   "outputs": [],
   "source": [
    "fl.AutoML()"
   ]
  },
  {
   "cell_type": "code",
   "execution_count": null,
   "metadata": {},
   "outputs": [],
   "source": [
    "self.mlt.loc[('n',202408)].disp(1000)"
   ]
  },
  {
   "cell_type": "code",
   "execution_count": null,
   "metadata": {},
   "outputs": [],
   "source": [
    "self.mlt"
   ]
  },
  {
   "cell_type": "code",
   "execution_count": null,
   "metadata": {},
   "outputs": [],
   "source": [
    "self.summary"
   ]
  },
  {
   "cell_type": "code",
   "execution_count": null,
   "metadata": {},
   "outputs": [],
   "source": [
    "clf_dct = self.param['clf'][2] | {'task':'classification', 'verbose':0, 'time_budget':5}\n",
    "g = lambda y: y.query(f\"crse_code=='{self.crse_code}'\").droplevel('crse_code')\n",
    "Z_proc = (\n",
    "    self.X_proc\n",
    "    .join(  self.y['credit']) .fillna({'credit':0})\n",
    "    .join(g(self.y['regstr'])).fillna({'regstr':False})\n",
    "    .join(g(self.y['actual'])).fillna({'actual':False})\n",
    "    .addlevel({'crse_code':self.crse_code, 'clf_hash':self.param['clf'][0]})\n",
    "    .prep(bool=True, cat=True)\n",
    ")\n",
    "Z = Z_proc.query(f\"pred_code!={self.proj_code}\").copy()\n",
    "G = Z.query(f\"sim==0\").groupby(['pred_code','actual','__coll_code'], observed=True).ngroup().rename('grp').to_frame().rsindex('idx')"
   ]
  },
  {
   "cell_type": "code",
   "execution_count": null,
   "metadata": {},
   "outputs": [],
   "source": [
    "Z.groupby(['pred_code','sim']).filter(lambda x:x['actual'].sum()>0).vc('pred_code')"
   ]
  },
  {
   "cell_type": "code",
   "execution_count": null,
   "metadata": {},
   "outputs": [],
   "source": [
    "def train(self, train_code='all'):\n",
    "    X = Z.copy() if train_code == self.proj_code else Z.query(f\"pred_code=={train_code}\").copy()\n",
    "    y = X.pop('actual')\n",
    "    idx = G.groupby('grp').sample(frac=0.75, random_state=clf_dct['seed']).index\n",
    "    msk = X.eval('idx.isin(@idx)')\n",
    "    dct = clf_dct | {\n",
    "        'X_train':X[msk],\n",
    "        'y_train':y[msk],\n",
    "        'X_val':X[~msk],\n",
    "        'y_val':y[~msk],\n",
    "    }\n",
    "    self.clf = fl.AutoML(**dct)\n",
    "    self.clf.fit(**dct)\n",
    "    self.Y = Z_proc[['actual']].assign(proba=self.clf.predict_proba(Z_proc.drop(columns='actual'))[:,1]).prep(bool=True).copy()\n",
    "    self.train_score = self.clf.best_result['val_loss'] * 100\n",
    "    self.clf = self.clf._trained_estimator\n"
   ]
  },
  {
   "cell_type": "code",
   "execution_count": null,
   "metadata": {},
   "outputs": [],
   "source": [
    "X.vc('pred_code')"
   ]
  },
  {
   "cell_type": "code",
   "execution_count": null,
   "metadata": {},
   "outputs": [],
   "source": [
    "G = Z.query(f\"sim==0\").groupby(['pred_code','actual','__coll_code'], observed=True).ngroup().rename('grp').to_frame().rsindex('idx')"
   ]
  },
  {
   "cell_type": "code",
   "execution_count": null,
   "metadata": {},
   "outputs": [],
   "source": [
    "idx = G.groupby('grp').sample(frac=0.75, random_state=clf_dct['seed']).index\n",
    "trn = Z.query(f'idx.isin(@idx)')\n",
    "tst = Z.query(f'not idx.isin(@idx)')\n",
    "Z.shape, trn.shape, tst.shape"
   ]
  },
  {
   "cell_type": "code",
   "execution_count": null,
   "metadata": {},
   "outputs": [],
   "source": [
    "Z = Z.rename_axis(index={'index':'idx'})"
   ]
  },
  {
   "cell_type": "code",
   "execution_count": null,
   "metadata": {},
   "outputs": [],
   "source": [
    "t = G.groupby('grp').sample(frac=0.75, random_state=clf_dct['seed']).reset_index()['index']\n",
    "Z.query(\"idx==1602\")\n",
    "# Z.reset_index()['index'].isin(t)"
   ]
  },
  {
   "cell_type": "code",
   "execution_count": null,
   "metadata": {},
   "outputs": [],
   "source": [
    "trn, tst = train_test_split(X, y)#, stratify=g, train_size=0.75, random_state=clf_dct['seed'])"
   ]
  },
  {
   "cell_type": "code",
   "execution_count": null,
   "metadata": {},
   "outputs": [],
   "source": []
  },
  {
   "cell_type": "code",
   "execution_count": null,
   "metadata": {},
   "outputs": [],
   "source": []
  },
  {
   "cell_type": "code",
   "execution_count": null,
   "metadata": {},
   "outputs": [],
   "source": [
    "# def train(self, train_code=None):\n",
    "dct = clf_dct | {\n",
    "    'X_train':X_trn,\n",
    "    'y_train':y_trn,\n",
    "    # 'eval_method':'cv',\n",
    "    # 'n_splits':5,\n",
    "    # 'split_type':'stratified',\n",
    "    'X_val':X_tst,\n",
    "    'y_val':y_tst,\n",
    "    # 'sample_weight':1+(2*y[mask]-1)*wgt,\n",
    "    # 'sample_weight_val':1+(2*y-1)*wgt,\n",
    "    # 'log_file_name': self.path.with_stem(f\"{self.path.stem}{iter}\").with_suffix('.log'),\n",
    "}\n",
    "self.clf = fl.AutoML(**dct)\n",
    "self.clf.fit(**dct)\n",
    "self.Y = Z_proc[['actual']].assign(proba=self.clf.predict_proba(Z_proc.drop(columns='actual'))[:,1]).prep(bool=True).copy()\n",
    "# return self\n",
    "# train(self)"
   ]
  },
  {
   "cell_type": "code",
   "execution_count": null,
   "metadata": {},
   "outputs": [],
   "source": [
    "X = read('/home/scook/institutional_data_analytics/admitted_matriculation_projection/resources/rslt3/126/X.pkl')\n",
    "X['mlt'].query(\"crse_code=='easc2310'\")"
   ]
  },
  {
   "cell_type": "code",
   "execution_count": null,
   "metadata": {},
   "outputs": [],
   "source": [
    "w = read('/home/scook/institutional_data_analytics/admitted_matriculation_projection/resources/rslt3/126/summary/n/easc2310/fa15/1bfb/1414.pkl')\n",
    "w['summary']\n"
   ]
  },
  {
   "cell_type": "code",
   "execution_count": null,
   "metadata": {},
   "outputs": [],
   "source": [
    "self.report"
   ]
  },
  {
   "cell_type": "code",
   "execution_count": null,
   "metadata": {},
   "outputs": [],
   "source": [
    "self.cycle_date"
   ]
  },
  {
   "cell_type": "code",
   "execution_count": null,
   "metadata": {},
   "outputs": [],
   "source": [
    "read('/home/scook/institutional_data_analytics/admitted_matriculation_projection/resources/rslt2/126/summary/n/anth2351/fa15/1bfb/4a31.pkl').keys()"
   ]
  },
  {
   "cell_type": "code",
   "execution_count": null,
   "metadata": {},
   "outputs": [],
   "source": [
    "g = lambda y: y.query(f\"crse_code=='{self.crse_code}'\").droplevel('crse_code')\n",
    "Z = (\n",
    "    self.X_proc\n",
    "    # .join(  self.y['credit']) .fillna({'credit':0})\n",
    "    # .join(g(self.y['regstr'])).fillna({'regstr':False})\n",
    "    .join(g(self.y['actual'])).fillna({'actual':False})\n",
    "    # .addlevel({'crse_code':self.crse_code, 'train_code':self.train_code, 'clf_hash':self.param['clf'][0]})\n",
    "    .addlevel({'crse_code':self.crse_code, 'clf_hash':self.param['clf'][0]})\n",
    "    .prep(bool=True, cat=True)\n",
    ")\n",
    "Z = Z[Z.eval(f\"pred_code=={self.proj_code}\") | (Z.groupby(['pred_code','sim'])['actual'].transform('sum')>=10)]"
   ]
  },
  {
   "cell_type": "code",
   "execution_count": null,
   "metadata": {},
   "outputs": [],
   "source": [
    "# Z.rsindex(['pred_code','sim']).groupby(['pred_code','sim'])['actual'].sum().sort_index().disp(1000)\n",
    "A = Z.query(f\"pred_code!={self.proj_code} & sim==0\").groupby('pred_code')['actual'].sum().query('actual>600').index.tolist()\n",
    "A\n",
    "# A[A>600].index"
   ]
  },
  {
   "cell_type": "code",
   "execution_count": null,
   "metadata": {},
   "outputs": [],
   "source": [
    "Z[Z.eval(f\"pred_code=={self.proj_code}\") | (Z.groupby(['pred_code','sim'])['actual'].transform('sum')>=10)]\n",
    "Z[mask]\n",
    "# Z['ct'] = Z.groupby(['pred_code','sim'])['actual'].transform('sum')\n",
    "# Z.query(\"pred_code==202408 | ct >= 100000\")\n",
    "\n",
    "#['actual'].sum()"
   ]
  },
  {
   "cell_type": "code",
   "execution_count": null,
   "metadata": {},
   "outputs": [],
   "source": [
    "dct = {'a':2,'b':1}\n",
    "min(dct, key=dct.get)"
   ]
  },
  {
   "cell_type": "code",
   "execution_count": null,
   "metadata": {},
   "outputs": [],
   "source": [
    "x = np.array([-678.938727,-69.417566,-47.140036])\n",
    "np.abs(np.sum(x))*10+np.mean(np.abs(x))"
   ]
  },
  {
   "cell_type": "code",
   "execution_count": null,
   "metadata": {},
   "outputs": [],
   "source": [
    "from LiveAMP import *\n",
    "self = run_amp(126)"
   ]
  },
  {
   "cell_type": "code",
   "execution_count": null,
   "metadata": {},
   "outputs": [],
   "source": []
  },
  {
   "cell_type": "code",
   "execution_count": null,
   "metadata": {},
   "outputs": [],
   "source": [
    "w = read('/home/scook/institutional_data_analytics/admitted_matriculation_projection/resources/rslt2/126/Y/n/_allcrse/202308/fa15/1bfb/2dbb.pkl')\n",
    "Y = w['Y']\n",
    "Y['proba'] = Y['actual'] == True\n",
    "log_loss(Y['actual'], Y['proba'])\n",
    "clf = fl.AutoML()\n"
   ]
  },
  {
   "cell_type": "code",
   "execution_count": null,
   "metadata": {},
   "outputs": [],
   "source": [
    "from flaml import AutoML\n",
    "w = AutoML()\n",
    "w.fit?"
   ]
  },
  {
   "cell_type": "code",
   "execution_count": null,
   "metadata": {},
   "outputs": [],
   "source": [
    "from flaml import AutoML\n",
    "from sklearn.datasets import load_iris\n",
    "\n",
    "# Initialize an AutoML instance\n",
    "\n",
    "# Specify automl goal and constraint\n",
    "automl_settings = {\n",
    "    \"time_budget\": 10,  # in seconds\n",
    "    \"metric\": \"log_loss\",\n",
    "    # \"metric\": \"accuracy\",\n",
    "    \"task\": \"classification\",\n",
    "    # \"log_file_name\": \"iris.log\",\n",
    "    'verbose':0,\n",
    "}\n",
    "clf = AutoML(**automl_settings)\n",
    "X_train, y_train = load_iris(return_X_y=True)\n",
    "# Train with labeled input data\n",
    "clf.fit(X_train=X_train, y_train=y_train, **automl_settings)\n",
    "# Predict\n",
    "# print(clf.predict_proba(X_train))\n",
    "# Print the best model\n",
    "# print(clf.model.estimator)\n"
   ]
  },
  {
   "cell_type": "code",
   "execution_count": null,
   "metadata": {},
   "outputs": [],
   "source": [
    "from sklearn.metrics import log_loss, accuracy_score\n",
    "log_loss(y_train, clf.predict_proba(X_train)), accuracy_score(y_train, clf.predict(X_train))\n",
    "# clf.score(X_train, y_train)"
   ]
  },
  {
   "cell_type": "code",
   "execution_count": null,
   "metadata": {},
   "outputs": [],
   "source": [
    "import plotly.express as px\n",
    "from LiveAMP import *\n",
    "w = []\n",
    "for path in sorted(AMP().root_path.parent.iterdir()):\n",
    "    for fn in (path / 'summary/n/_allcrse').rglob('*.pkl'):\n",
    "        w.append(read(fn)['rslt'][' 50%'].addlevel({'cycle_day':path.stem}))\n",
    "df = pd.concat(w).query('pred_code==202308').reset_index()\n",
    "fig = px.line(\n",
    "    df,\n",
    "    x='cycle_day',\n",
    "    y='202408_projection',\n",
    "    color='train_code',\n",
    "    # text=\"cycle_day\",\n",
    "    symbol=\"train_code\",\n",
    "    )\n",
    "fig.update_layout(hovermode=\"x unified\")\n",
    "fig.show()"
   ]
  },
  {
   "cell_type": "code",
   "execution_count": null,
   "metadata": {},
   "outputs": [],
   "source": [
    "self.y['adm'].disp()"
   ]
  },
  {
   "cell_type": "code",
   "execution_count": null,
   "metadata": {},
   "outputs": [],
   "source": []
  },
  {
   "cell_type": "code",
   "execution_count": null,
   "metadata": {},
   "outputs": [],
   "source": [
    "# y = {k:y.query(f\"crse_code=='{self.crse_code}'\").droplevel('crse_code') for k,y in self.y.items()}\n",
    "self.y['credit']"
   ]
  },
  {
   "cell_type": "code",
   "execution_count": null,
   "metadata": {},
   "outputs": [],
   "source": [
    "self.y['actual'].disp()"
   ]
  },
  {
   "cell_type": "code",
   "execution_count": null,
   "metadata": {},
   "outputs": [],
   "source": [
    "self.y['admit'].disp()"
   ]
  },
  {
   "cell_type": "code",
   "execution_count": null,
   "metadata": {},
   "outputs": [],
   "source": [
    "self.credit_hr\n",
    "self.y[self.cycle_day]"
   ]
  },
  {
   "cell_type": "code",
   "execution_count": null,
   "metadata": {},
   "outputs": [],
   "source": [
    "# y = self.y.query(f\"crse_code=='{self.crse_code}'\").droplevel('crse_code').rename(self.crse_code)\n",
    "y = self.y.query(f\"crse_code=='{self.crse_code}'\").unstack()\n",
    "cols = [self.crse_code]\n",
    "y = self.y.query(f\"crse_code.isin({cols})\").unstack()#.droplevel(0,1)\n",
    "\n",
    "y.disp()\n",
    "# Z = (\n",
    "#     self.X\n",
    "# # #     # .join(self.credit_hr)\n",
    "#     .join(y)\n",
    "# # #     # .fillna({'credit_hr':0})\n",
    "# # #     # .fillna({c: False for c in cols})\n",
    "# # #     # .addlevel({'crse_code':self.crse_code, 'train_code':self.train_code, 'clf_hash':self.param['clf'][0]})\n",
    "# # #     # .rsindex(['index','crse_code','levl_code','styp_code','train_code','pred_code','trf_hash','imp_hash','clf_hash','sim'])\n",
    "# # #     # .prep(bool=True, cat=True)\n",
    "# )\n",
    "# Z.disp()"
   ]
  },
  {
   "cell_type": "code",
   "execution_count": null,
   "metadata": {},
   "outputs": [],
   "source": [
    "self.y.vc('enrolled')\n",
    "# self.credit_hr.disp()"
   ]
  },
  {
   "cell_type": "code",
   "execution_count": null,
   "metadata": {},
   "outputs": [],
   "source": [
    "# M = self.mlt.copy()\n",
    "# M['reg_pct'] = M['reg'] / M['end'] * 100\n",
    "# M['adm_pct'] = M['adm'] / M['end'] * 100\n",
    "self.mlt.query(\"styp_code=='n' & crse_code.isin(['_allcrse','biol1406'])\").reset_index().sort_values(['crse_code','pred_code']).disp(100)#crse_code=='_allcrse'\")"
   ]
  },
  {
   "cell_type": "code",
   "execution_count": null,
   "metadata": {},
   "outputs": [],
   "source": [
    "y = self.y.query(\"crse_code.str.contains('biol1406')\").unstack().droplevel(0,1)\n",
    "z = y\n",
    "z = self.X[[]].join(y)\n",
    "A = z.groupby('pred_code').sum()\n",
    "A['mlt'] = A.iloc[:,0] / A.iloc[:,1]\n",
    "A['2024'] = A['mlt'] * A.iloc[-1,1]\n",
    "A"
   ]
  },
  {
   "cell_type": "code",
   "execution_count": null,
   "metadata": {},
   "outputs": [],
   "source": [
    "self.mlt.query(\"crse_code=='biol1406'\")"
   ]
  },
  {
   "cell_type": "code",
   "execution_count": null,
   "metadata": {},
   "outputs": [],
   "source": [
    "# self.crse_code = '_allcrse'\n",
    "cols = [self.crse_code+'_cur', self.crse_code]\n",
    "y = self.y.query(f\"crse_code.isin({cols})\").unstack().droplevel(0,1)[cols]\n",
    "Z = (\n",
    "    self.X[[]]#_proc\n",
    "    # .join(self.credit_hr)\n",
    "    .join(y)\n",
    "    # .fillna({'credit_hr':0})\n",
    "    # .fillna({c: False for c in cols})\n",
    "    # .addlevel({'crse_code':self.crse_code, 'train_code':self.train_code, 'clf_hash':self.param['clf'][0]})\n",
    "    # .rsindex(['index','crse_code','levl_code','styp_code','train_code','pred_code','trf_hash','imp_hash','clf_hash','sim'])\n",
    "    # .prep(bool=True, cat=True)\n",
    ")\n",
    "# Z.disp()\n",
    "Z.groupby('pred_code').sum()"
   ]
  },
  {
   "cell_type": "code",
   "execution_count": null,
   "metadata": {},
   "outputs": [],
   "source": [
    "Z.iloc[:,-2:].groupby('pred_code').sum()"
   ]
  },
  {
   "cell_type": "code",
   "execution_count": null,
   "metadata": {},
   "outputs": [],
   "source": [
    "self.mlt"
   ]
  },
  {
   "cell_type": "code",
   "execution_count": null,
   "metadata": {},
   "outputs": [],
   "source": [
    "Z.disp(4)"
   ]
  },
  {
   "cell_type": "code",
   "execution_count": null,
   "metadata": {},
   "outputs": [],
   "source": [
    "self.X_proc"
   ]
  },
  {
   "cell_type": "code",
   "execution_count": null,
   "metadata": {},
   "outputs": [],
   "source": [
    "fn = '/home/scook/institutional_data_analytics/admitted_matriculation_projection/resources/rslt2/126/summary/n/_allcrse/202208/fa15/1bfb/2dbb.pkl'\n",
    "w = read(fn)\n",
    "w['rslt'][' 50%']"
   ]
  },
  {
   "cell_type": "code",
   "execution_count": null,
   "metadata": {},
   "outputs": [],
   "source": [
    "self.credit_hr"
   ]
  },
  {
   "cell_type": "code",
   "execution_count": null,
   "metadata": {},
   "outputs": [],
   "source": [
    "self.mlt.query(\"crse_code.isin(['_allcrse','biol1406'])\")"
   ]
  },
  {
   "cell_type": "code",
   "execution_count": null,
   "metadata": {},
   "outputs": [],
   "source": [
    "133/7\n",
    "126/7"
   ]
  },
  {
   "cell_type": "code",
   "execution_count": null,
   "metadata": {},
   "outputs": [],
   "source": [
    "terms[133][202408]"
   ]
  },
  {
   "cell_type": "code",
   "execution_count": null,
   "metadata": {},
   "outputs": [],
   "source": []
  },
  {
   "cell_type": "code",
   "execution_count": null,
   "metadata": {},
   "outputs": [],
   "source": [
    "qry = \"select A.current_date, count(*) as ct from opeir.admissions_fall2024 A group by A.current_date order by A.current_date asc\"\n",
    "db.execute(qry).disp(1000)"
   ]
  },
  {
   "cell_type": "code",
   "execution_count": null,
   "metadata": {},
   "outputs": [],
   "source": [
    "from LiveAMP import *\n",
    "T = Term(term_code=202308, cycle_day=133, show='adm', overwrite='adm')\n",
    "T.get_adm()"
   ]
  },
  {
   "cell_type": "code",
   "execution_count": null,
   "metadata": {},
   "outputs": [],
   "source": [
    "T.adm.disp()"
   ]
  },
  {
   "cell_type": "code",
   "execution_count": null,
   "metadata": {},
   "outputs": [],
   "source": [
    "np.arange(126, 200, 7)"
   ]
  },
  {
   "cell_type": "code",
   "execution_count": null,
   "metadata": {},
   "outputs": [],
   "source": [
    "from LiveAMP import *\n",
    "fn = '/home/scook/institutional_data_analytics/admitted_matriculation_projection/resources/rslt2/126/X.pkl'\n",
    "fn = '/home/scook/institutional_data_analytics/admitted_matriculation_projection/resources/rslt2/126/X.pkl'\n",
    "# fn = '/home/scook/institutional_data_analytics/admitted_matriculation_projection/resources/rslt2/126/summary/n/_allcrse/202308/fa15/1bfb/2dbb.pkl'\n",
    "w = read(fn)\n",
    "# w['rslt'][' 50%']\n",
    "w['mlt'].query(\"crse_code=='biol1406'\")"
   ]
  },
  {
   "cell_type": "code",
   "execution_count": null,
   "metadata": {},
   "outputs": [],
   "source": [
    "self.mlt"
   ]
  },
  {
   "cell_type": "code",
   "execution_count": null,
   "metadata": {},
   "outputs": [],
   "source": [
    "w['X'].missing().disp(1000)"
   ]
  },
  {
   "cell_type": "code",
   "execution_count": null,
   "metadata": {},
   "outputs": [],
   "source": [
    "from LiveAMP import *\n",
    "# Flags().run()\n",
    "for cycle_week in range(19, 19+10):\n",
    "    cycle_day=cycle_week*7\n",
    "    print(cycle_day)\n",
    "    run_amp(cycle_day=cycle_day)\n",
    "\n",
    "# for cycle_day in range(132, 128, -1):\n",
    "# for cycle_day in [137,130]:\n",
    "#     print(cycle_day)\n",
    "#     A = AMP(cycle_day=cycle_day)\n",
    "#     A.print_days()\n",
    "# A.get_X()\n",
    "# run_amp(126)\n",
    "# self = get_stack(130, '_2024_05_10')\n",
    "# self.get_Y()\n",
    "# self.get_summary()\n",
    "# self.summary\n",
    "# # self.Y\n",
    "# getsizeof(self.__dict__)"
   ]
  },
  {
   "cell_type": "code",
   "execution_count": null,
   "metadata": {},
   "outputs": [],
   "source": [
    "trm = read('/home/scook/institutional_data_analytics/admitted_matriculation_projection/resources/trm.parq')\n",
    "trm.query(\"term_code==202108\")"
   ]
  },
  {
   "cell_type": "code",
   "execution_count": null,
   "metadata": {},
   "outputs": [],
   "source": [
    "4-6"
   ]
  },
  {
   "cell_type": "code",
   "execution_count": null,
   "metadata": {},
   "outputs": [],
   "source": [
    "w = read('/home/scook/institutional_data_analytics/admitted_matriculation_projection/resources/rslt/130/Y/n/_allcrse/202308/fa15/1bfb/2dbb.pkl')\n",
    "getsizeof(w)"
   ]
  },
  {
   "cell_type": "code",
   "execution_count": null,
   "metadata": {},
   "outputs": [],
   "source": [
    "w['Y']"
   ]
  },
  {
   "cell_type": "code",
   "execution_count": null,
   "metadata": {},
   "outputs": [],
   "source": [
    "# w = pd.to_datetime('today').normalize()-5\n",
    "# w.day_of_week\n",
    "\n",
    "# (pd.Timestamp.now().day-1)#.day_of_week\n",
    "pd.to_datetime('2024-05-13').day_name()"
   ]
  },
  {
   "cell_type": "code",
   "execution_count": null,
   "metadata": {},
   "outputs": [],
   "source": [
    "self = AMP()\n",
    "str(self.root_path).replace('data','1234')"
   ]
  },
  {
   "cell_type": "code",
   "execution_count": null,
   "metadata": {},
   "outputs": [],
   "source": [
    "read('/home/scook/institutional_data_analytics/admitted_matriculation_projection/resources/rslt/130/summary/n/_allcrse/202208/fa15/1bfb/2dbb.pkl').keys()"
   ]
  },
  {
   "cell_type": "code",
   "execution_count": null,
   "metadata": {},
   "outputs": [],
   "source": [
    "dct = {'a':1,'b':2}\n",
    "pd.Series(dct).sort_values(ascending=False)"
   ]
  },
  {
   "cell_type": "code",
   "execution_count": null,
   "metadata": {},
   "outputs": [],
   "source": [
    "w = AMP().load('/home/scook/institutional_data_analytics/admitted_matriculation_projection/resources/rslt/131/Y/n/ansc1119/202208/fa15/1bfb/4add.pkl', force=True)"
   ]
  },
  {
   "cell_type": "code",
   "execution_count": null,
   "metadata": {},
   "outputs": [],
   "source": [
    "w = read('/home/scook/institutional_data_analytics/admitted_matriculation_projection/resources/rslt2/133/summary/n/_allcrse/202208/fa15/1bfb/2dbb.pkl')\n",
    "w\n",
    "# getsizeof(w)\n",
    "# w['Y']"
   ]
  },
  {
   "cell_type": "code",
   "execution_count": null,
   "metadata": {},
   "outputs": [],
   "source": [
    "L=[1,2]\n",
    "L.remove(1)\n",
    "L"
   ]
  },
  {
   "cell_type": "code",
   "execution_count": null,
   "metadata": {},
   "outputs": [],
   "source": [
    "w['Y'].memory_usage().sum()"
   ]
  },
  {
   "cell_type": "code",
   "execution_count": null,
   "metadata": {},
   "outputs": [],
   "source": [
    "w['Y']"
   ]
  },
  {
   "cell_type": "code",
   "execution_count": null,
   "metadata": {},
   "outputs": [],
   "source": [
    "def getsizeof(x):\n",
    "    if isinstance(x, dict):\n",
    "        for k,v in x.items():\n",
    "            print(k, size(v))\n",
    "    else:\n",
    "        return sys.getsizeof(x)\n",
    "size(w)"
   ]
  },
  {
   "cell_type": "code",
   "execution_count": null,
   "metadata": {},
   "outputs": [],
   "source": [
    "w = read('/home/scook/institutional_data_analytics/admitted_matriculation_projection/resources/rslt/131/Y/n/arts1304/202108/fa15/1bfb/4add.pkl')\n",
    "\n",
    "w.keys()\n",
    "# w['rslt'][' 50%'].memory_usage().sum()\n",
    "# w['Y']"
   ]
  },
  {
   "cell_type": "code",
   "execution_count": null,
   "metadata": {},
   "outputs": [],
   "source": [
    "w['Y'].rsindex('index').info()\n",
    "w['Y'].info()"
   ]
  },
  {
   "cell_type": "code",
   "execution_count": null,
   "metadata": {},
   "outputs": [],
   "source": [
    "from LiveAMP import *\n",
    "fn = '/home/scook/institutional_data_analytics/admitted_matriculation_projection/resources/rslt/131/Y/n/_allcrse/202208/fa15/1bfb/4add.pkl'\n",
    "self = AMP().load(path=fn)\n",
    "self.summarize()\n",
    "self.__dict__.keys()"
   ]
  },
  {
   "cell_type": "code",
   "execution_count": null,
   "metadata": {},
   "outputs": [],
   "source": [
    "from LiveAMP import *\n",
    "fn = '/home/scook/institutional_data_analytics/admitted_matriculation_projection/resources/rslt/131/Y/n/ansc1119/202108/fa15/1bfb/4add.pkl'\n",
    "self = AMP().load(path=fn, force=True)\n",
    "# self.train_score = 0\n",
    "# self.get_X()\n",
    "# self.y\n",
    "# def summarize(self):\n",
    "#     self.get_X()\n",
    "#     self.get_Y()\n",
    "#     grp = ['index','crse_code','levl_code','styp_code','train_code','pred_code','trf_hash','imp_hash','clf_hash','sim']\n",
    "#     self.Y = self.Y.rsindex(grp)\n",
    "#     grp.remove('index')\n",
    "#     S = self.Y.groupby(grp).apply(lambda y: pd.Series({\n",
    "#         'actual': y['actual'].sum(),\n",
    "#         # 'predicted': y['predicted'].sum(),\n",
    "#         'predicted': y['proba'].sum(),\n",
    "#         'train_score': self.train_score,\n",
    "#         'test_score': log_loss(y['actual'], y['proba'], labels=[False,True], sample_weight=1+(2*y['actual']-1)*self.weight) * 100,\n",
    "#         'weight': self.weight,\n",
    "#     }))\n",
    "#     S['predicted'] *= S['actual'] > 0\n",
    "#     proj_mask = S.eval(f\"pred_code==@self.proj_code\")\n",
    "#     proj_col = f'{self.proj_code}_projection'\n",
    "#     S = (\n",
    "#         S[~proj_mask]\n",
    "#         .join(S[proj_mask]['predicted'].droplevel('pred_code').rename(proj_col))\n",
    "#         .join(self.mlt)\n",
    "#         .sort_index()\n",
    "#     ).prep().fillna(0)\n",
    "    # for k in ['predicted','actual',proj_col]:\n",
    "    #     S[k] *= S['mlt']\n",
    "    # S[proj_col+'_pct_change'] = (S[proj_col] / S.groupby(S.index.names.difference({'pred_code'})).transform('last')['actual'] - 1) * 100\n",
    "    # alpha = 1\n",
    "    # S['overall_score'] = (S['train_score'] + alpha * S['test_score']) / (1 + alpha)\n",
    "    # S['error'] = S['predicted'] - S['actual']\n",
    "    # S['error_pct'] = S['error'] / S['actual'] * 100\n",
    "    # S.loc[S.eval('predicted==0'), 'predicted':] = pd.NA\n",
    "    # self.summary = S[[proj_col,proj_col+'_pct_change','predicted','actual','error','error_pct','mlt','overall_score','test_score','train_score','weight']].prep()#.fillna(0)\n",
    "    # grp.remove('sim')\n",
    "    # self.rslt = {str(stat): self.summary.groupby(grp).agg(stat) for stat in self.stats}\n",
    "    # self.rslt[' 50%'].disp(100)\n",
    "    # for k in ['X_proc','y','mlt']:\n",
    "    #     del self[k]\n",
    "# summarize(self)"
   ]
  },
  {
   "cell_type": "code",
   "execution_count": null,
   "metadata": {},
   "outputs": [],
   "source": [
    "fn = '/home/scook/institutional_data_analytics/admitted_matriculation_projection/resources/rslt/131/Y/n/ansc1119/202108/fa15/1bfb/4add.pkl'\n",
    "self = AMP().load(path=fn, force=True)\n",
    "self.train_score = 0\n",
    "def summarize(self):\n",
    "    S = self.Y.groupby(['crse_code','levl_code','styp_code','train_code','pred_code','trf_hash','imp_hash','clf_hash','sim']).apply(lambda y: pd.Series({\n",
    "        'actual': y['actual'].sum(),\n",
    "        # 'predicted': y['predicted'].sum(),\n",
    "        'predicted': y['proba'].sum(),\n",
    "        'train_score': self.train_score,\n",
    "        'test_score': log_loss(y['actual'], y['proba'], labels=[False,True], sample_weight=1+(2*y['actual']-1)*self.weight) * 100,\n",
    "        'weight': self.weight,\n",
    "    }))\n",
    "    proj_mask = S.eval(f\"pred_code==@self.proj_code\")\n",
    "    proj_col = f'{self.proj_code}_projection'\n",
    "    S = (\n",
    "        S[~proj_mask]\n",
    "        .join(S[proj_mask]['predicted'].droplevel('pred_code').rename(proj_col))\n",
    "        .join(self.mlt)\n",
    "        .sort_index()\n",
    "    ).prep().fillna(0)\n",
    "    for k in ['predicted','actual',proj_col]:\n",
    "        S[k] *= S['mlt']\n",
    "    S[proj_col+'_pct_change'] = (S[proj_col] / S.groupby(S.index.names.difference({'pred_code'})).transform('last')['actual'] - 1) * 100\n",
    "    alpha = 1\n",
    "    S['overall_score'] = (S['train_score'] + alpha * S['test_score']) / (1 + alpha)\n",
    "    S['error'] = S['predicted'] - S['actual']\n",
    "    S['error_pct'] = S['error'] / S['actual'] * 100\n",
    "    S.loc[S.eval('predicted==0'), 'predicted':] = pd.NA\n",
    "    self.summary = S[[proj_col,proj_col+'_pct_change','predicted','actual','error','error_pct','mlt','overall_score','test_score','train_score','weight']].prep()#.fillna(0)\n",
    "    grp = [k for k in self.summary.index.names if k!= 'sim']\n",
    "    self.rslt = {str(stat): self.summary.groupby(grp).agg(stat) for stat in self.stats}\n",
    "    self.rslt[' 50%'].disp(100)\n",
    "    return self.summary\n",
    "summarize(self)"
   ]
  },
  {
   "cell_type": "code",
   "execution_count": null,
   "metadata": {},
   "outputs": [],
   "source": [
    "self.mlt"
   ]
  },
  {
   "cell_type": "code",
   "execution_count": null,
   "metadata": {},
   "outputs": [],
   "source": [
    "self.mlt.query(\"crse_code=='ansc1119'\")"
   ]
  },
  {
   "cell_type": "code",
   "execution_count": null,
   "metadata": {},
   "outputs": [],
   "source": [
    "sp.optiminze.show_options('minimize_scalar', method='bounded')"
   ]
  },
  {
   "cell_type": "code",
   "execution_count": null,
   "metadata": {},
   "outputs": [],
   "source": [
    "self.mlt.query(\"crse_code.isin(['chem1407','kine2315','kine2319','kine3319','fina1360'])\").sort_values(['styp_code','crse_code','pred_code']).reset_index()"
   ]
  },
  {
   "cell_type": "code",
   "execution_count": null,
   "metadata": {},
   "outputs": [],
   "source": [
    "self.mlt.query(\"crse_code=='chem1407'\").prep()"
   ]
  }
 ],
 "metadata": {
  "kernelspec": {
   "display_name": "my3.11",
   "language": "python",
   "name": "python3"
  },
  "language_info": {
   "codemirror_mode": {
    "name": "ipython",
    "version": 3
   },
   "file_extension": ".py",
   "mimetype": "text/x-python",
   "name": "python",
   "nbconvert_exporter": "python",
   "pygments_lexer": "ipython3",
   "version": "3.11.8"
  }
 },
 "nbformat": 4,
 "nbformat_minor": 2
}
