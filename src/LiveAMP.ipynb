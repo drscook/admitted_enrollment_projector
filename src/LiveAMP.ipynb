{
 "cells": [
  {
   "cell_type": "code",
   "execution_count": 1,
   "metadata": {},
   "outputs": [
    {
     "data": {
      "text/plain": [
       "AMP(overwrite=set(), dependence={'adm': 'raw', 'flg': 'raw', 'raw': 'X', 'reg': 'X', 'X': 'X_proc', 'X_proc': 'Y'}, cycle_day=98, proj_code=202408, term_codes=(202108, 202208, 202308, 202408), crse_code='_anycrse', styp_code='n', stats=(<setup.pctl object at 0x000002AF417A6F50>, <setup.pctl object at 0x000002AF416CB6D0>, <setup.pctl object at 0x000002AF7F85E750>, <setup.pctl object at 0x000002AF7F85C250>, <setup.pctl object at 0x000002AF41368610>), show=set(), param={'trf': ['2d76', \"[('_allcrse','passthrough',['_allcrse_']),('act_equiv','passthrough',['act_equiv_']),('act_equiv_missing','passthrough',['act_equiv_missing_']),('apdc_day','passthrough',['apdc_day_']),('birth_day','passthrough',['birth_day_']),('coll_code','passthrough',['coll_code_']),('distance','passthrough',['distance_']),('gap_score','passthrough',['gap_score_']),('gender','passthrough',['gender_']),('hs_qrtl','passthrough',['hs_qrtl_']),('international','passthrough',['international_']),('lgcy','passthrough',['lgcy_']),('math','passthrough',['math_']),('oriented','passthrough',['oriented_']),('race_american_indian','passthrough',['race_american_indian_']),('race_asian','passthrough',['race_asian_']),('race_black','passthrough',['race_black_']),('race_hispanic','passthrough',['race_hispanic_']),('race_pacific','passthrough',['race_pacific_']),('race_white','passthrough',['race_white_']),('reading','passthrough',['reading_']),('remote','passthrough',['remote_']),('resd','passthrough',['resd_']),('schlship_app','passthrough',['schlship_app_']),('ssb','passthrough',['ssb_']),('waiver','passthrough',['waiver_']),('writing','passthrough',['writing_'])]\", [('_allcrse', 'passthrough', ['_allcrse_']), ('act_equiv', 'passthrough', ['act_equiv_']), ('act_equiv_missing', 'passthrough', ['act_equiv_missing_']), ('apdc_day', 'passthrough', ['apdc_day_']), ('birth_day', 'passthrough', ['birth_day_']), ('coll_code', 'passthrough', ['coll_code_']), ('distance', 'passthrough', ['distance_']), ('gap_score', 'passthrough', ['gap_score_']), ('gender', 'passthrough', ['gender_']), ('hs_qrtl', 'passthrough', ['hs_qrtl_']), ('international', 'passthrough', ['international_']), ('lgcy', 'passthrough', ['lgcy_']), ('math', 'passthrough', ['math_']), ('oriented', 'passthrough', ['oriented_']), ('race_american_indian', 'passthrough', ['race_american_indian_']), ('race_asian', 'passthrough', ['race_asian_']), ('race_black', 'passthrough', ['race_black_']), ('race_hispanic', 'passthrough', ['race_hispanic_']), ('race_pacific', 'passthrough', ['race_pacific_']), ('race_white', 'passthrough', ['race_white_']), ('reading', 'passthrough', ['reading_']), ('remote', 'passthrough', ['remote_']), ('resd', 'passthrough', ['resd_']), ('schlship_app', 'passthrough', ['schlship_app_']), ('ssb', 'passthrough', ['ssb_']), ('waiver', 'passthrough', ['waiver_']), ('writing', 'passthrough', ['writing_'])]], 'imp': ['77d7', \"{'datasets':10,'iterations':10,'random_state':42,'tune':False}\", {'datasets': 10, 'iterations': 10, 'random_state': 42, 'tune': False}], 'clf': ['fb12', \"{'early_stop':True,'ensemble':False,'estimator_list':['xgboost'],'metric':'log_loss','seed':42,'time_budget':120}\", {'early_stop': True, 'ensemble': False, 'estimator_list': ['xgboost'], 'metric': 'log_loss', 'seed': 42, 'time_budget': 120}]}, root_path=WindowsPath('C:/Users/Gavin/Documents/admitted_matriculation_predictor/098'), aggregations=('crse_code', 'coll_desc', 'dept_desc', 'majr_desc', 'camp_desc', 'gender', 'race_american_indian', 'race_asian', 'race_black', 'race_pacific', 'race_white', 'race_hispanic', 'hs_qrtl', 'international', 'lgcy_desc', 'math', 'reading', 'writing'))"
      ]
     },
     "execution_count": 1,
     "metadata": {},
     "output_type": "execute_result"
    }
   ],
   "source": [
    "from LiveAMP import *\n",
    "run_amp(cycle_day=98)\n",
    "# self = AMP(cycle_day=98, param=param_lst[0])\n",
    "# # #     # crse_code='ansc1319',\n",
    "# # #     # crse_code='an/th2302',\n",
    "#     # )\n",
    "# self.get_y_pred()\n",
    "# # self.get_X_proc()\n",
    "# # self.get_terms()\n",
    "# self.get_X()\n",
    "# y_pred = pd.concat([read(fn).get('y_pred', pd.DataFrame()) for fn in sorted((self.root_path / 'y_pred').rglob('*.pkl'))]).prep().reset_index()"
   ]
  },
  {
   "cell_type": "code",
   "execution_count": 5,
   "metadata": {},
   "outputs": [
    {
     "data": {
      "text/plain": [
       "WindowsPath('/home/scook/institutional_data_analytics/admitted_matriculation_projection/resources/rslt/098')"
      ]
     },
     "execution_count": 5,
     "metadata": {},
     "output_type": "execute_result"
    }
   ],
   "source": [
    "self.root_path"
   ]
  },
  {
   "cell_type": "code",
   "execution_count": 3,
   "metadata": {},
   "outputs": [
    {
     "data": {
      "text/html": [
       "<div>\n",
       "<style scoped>\n",
       "    .dataframe tbody tr th:only-of-type {\n",
       "        vertical-align: middle;\n",
       "    }\n",
       "\n",
       "    .dataframe tbody tr th {\n",
       "        vertical-align: top;\n",
       "    }\n",
       "\n",
       "    .dataframe thead th {\n",
       "        text-align: right;\n",
       "    }\n",
       "</style>\n",
       "<table border=\"1\" class=\"dataframe\">\n",
       "  <thead>\n",
       "    <tr style=\"text-align: right;\">\n",
       "      <th></th>\n",
       "      <th></th>\n",
       "      <th></th>\n",
       "      <th></th>\n",
       "      <th></th>\n",
       "      <th></th>\n",
       "      <th></th>\n",
       "      <th></th>\n",
       "      <th></th>\n",
       "      <th>admit</th>\n",
       "      <th>enroll</th>\n",
       "      <th>predict</th>\n",
       "      <th>prior</th>\n",
       "      <th>predict_change</th>\n",
       "      <th>predict_change_pct</th>\n",
       "      <th>actual</th>\n",
       "      <th>predict_error</th>\n",
       "      <th>predict_error_pct</th>\n",
       "      <th>overall_score</th>\n",
       "      <th>test_score</th>\n",
       "      <th>train_score</th>\n",
       "      <th>mlt</th>\n",
       "    </tr>\n",
       "    <tr>\n",
       "      <th>crse_code</th>\n",
       "      <th>levl_code</th>\n",
       "      <th>styp_code</th>\n",
       "      <th>term_code</th>\n",
       "      <th>train_code</th>\n",
       "      <th>sim</th>\n",
       "      <th>trf_hash</th>\n",
       "      <th>imp_hash</th>\n",
       "      <th>clf_hash</th>\n",
       "      <th></th>\n",
       "      <th></th>\n",
       "      <th></th>\n",
       "      <th></th>\n",
       "      <th></th>\n",
       "      <th></th>\n",
       "      <th></th>\n",
       "      <th></th>\n",
       "      <th></th>\n",
       "      <th></th>\n",
       "      <th></th>\n",
       "      <th></th>\n",
       "      <th></th>\n",
       "    </tr>\n",
       "  </thead>\n",
       "  <tbody>\n",
       "    <tr>\n",
       "      <th rowspan=\"5\" valign=\"top\">_anycrse</th>\n",
       "      <th rowspan=\"5\" valign=\"top\">ug</th>\n",
       "      <th rowspan=\"5\" valign=\"top\">n</th>\n",
       "      <th rowspan=\"5\" valign=\"top\">202408</th>\n",
       "      <th rowspan=\"5\" valign=\"top\">all</th>\n",
       "      <th rowspan=\"3\" valign=\"top\">0</th>\n",
       "      <th rowspan=\"3\" valign=\"top\">2d76</th>\n",
       "      <th rowspan=\"3\" valign=\"top\">77d7</th>\n",
       "      <th>fb12</th>\n",
       "      <td>1512</td>\n",
       "      <td>1512</td>\n",
       "      <td>3060.443637</td>\n",
       "      <td>2700</td>\n",
       "      <td>360.443637</td>\n",
       "      <td>13.349764</td>\n",
       "      <td>&lt;NA&gt;</td>\n",
       "      <td>&lt;NA&gt;</td>\n",
       "      <td>&lt;NA&gt;</td>\n",
       "      <td>67.113061</td>\n",
       "      <td>119.365595</td>\n",
       "      <td>14.860527</td>\n",
       "      <td>1.047945</td>\n",
       "    </tr>\n",
       "    <tr>\n",
       "      <th>fb12</th>\n",
       "      <td>1512</td>\n",
       "      <td>1512</td>\n",
       "      <td>3020.361781</td>\n",
       "      <td>2700</td>\n",
       "      <td>320.361781</td>\n",
       "      <td>11.865251</td>\n",
       "      <td>&lt;NA&gt;</td>\n",
       "      <td>&lt;NA&gt;</td>\n",
       "      <td>&lt;NA&gt;</td>\n",
       "      <td>67.113061</td>\n",
       "      <td>119.365595</td>\n",
       "      <td>14.860527</td>\n",
       "      <td>1.034221</td>\n",
       "    </tr>\n",
       "    <tr>\n",
       "      <th>fb12</th>\n",
       "      <td>1512</td>\n",
       "      <td>1512</td>\n",
       "      <td>2991.328914</td>\n",
       "      <td>2700</td>\n",
       "      <td>291.328914</td>\n",
       "      <td>10.78996</td>\n",
       "      <td>&lt;NA&gt;</td>\n",
       "      <td>&lt;NA&gt;</td>\n",
       "      <td>&lt;NA&gt;</td>\n",
       "      <td>67.113061</td>\n",
       "      <td>119.365595</td>\n",
       "      <td>14.860527</td>\n",
       "      <td>1.024279</td>\n",
       "    </tr>\n",
       "    <tr>\n",
       "      <th rowspan=\"2\" valign=\"top\">1</th>\n",
       "      <th rowspan=\"2\" valign=\"top\">2d76</th>\n",
       "      <th rowspan=\"2\" valign=\"top\">77d7</th>\n",
       "      <th>fb12</th>\n",
       "      <td>1512</td>\n",
       "      <td>1512</td>\n",
       "      <td>3060.157089</td>\n",
       "      <td>2700</td>\n",
       "      <td>360.157089</td>\n",
       "      <td>13.339151</td>\n",
       "      <td>&lt;NA&gt;</td>\n",
       "      <td>&lt;NA&gt;</td>\n",
       "      <td>&lt;NA&gt;</td>\n",
       "      <td>67.106824</td>\n",
       "      <td>119.35312</td>\n",
       "      <td>14.860527</td>\n",
       "      <td>1.047945</td>\n",
       "    </tr>\n",
       "    <tr>\n",
       "      <th>fb12</th>\n",
       "      <td>1512</td>\n",
       "      <td>1512</td>\n",
       "      <td>3020.078986</td>\n",
       "      <td>2700</td>\n",
       "      <td>320.078986</td>\n",
       "      <td>11.854777</td>\n",
       "      <td>&lt;NA&gt;</td>\n",
       "      <td>&lt;NA&gt;</td>\n",
       "      <td>&lt;NA&gt;</td>\n",
       "      <td>67.106824</td>\n",
       "      <td>119.35312</td>\n",
       "      <td>14.860527</td>\n",
       "      <td>1.034221</td>\n",
       "    </tr>\n",
       "    <tr>\n",
       "      <th>...</th>\n",
       "      <th>...</th>\n",
       "      <th>...</th>\n",
       "      <th>...</th>\n",
       "      <th>...</th>\n",
       "      <th>...</th>\n",
       "      <th>...</th>\n",
       "      <th>...</th>\n",
       "      <th>...</th>\n",
       "      <td>...</td>\n",
       "      <td>...</td>\n",
       "      <td>...</td>\n",
       "      <td>...</td>\n",
       "      <td>...</td>\n",
       "      <td>...</td>\n",
       "      <td>...</td>\n",
       "      <td>...</td>\n",
       "      <td>...</td>\n",
       "      <td>...</td>\n",
       "      <td>...</td>\n",
       "      <td>...</td>\n",
       "      <td>...</td>\n",
       "    </tr>\n",
       "    <tr>\n",
       "      <th rowspan=\"5\" valign=\"top\">univ0342</th>\n",
       "      <th rowspan=\"5\" valign=\"top\">ug</th>\n",
       "      <th rowspan=\"5\" valign=\"top\">n</th>\n",
       "      <th rowspan=\"5\" valign=\"top\">202208</th>\n",
       "      <th rowspan=\"5\" valign=\"top\">202208</th>\n",
       "      <th>5</th>\n",
       "      <th>2d76</th>\n",
       "      <th>77d7</th>\n",
       "      <th>fb12</th>\n",
       "      <td>10</td>\n",
       "      <td>10</td>\n",
       "      <td>36.977467</td>\n",
       "      <td>&lt;NA&gt;</td>\n",
       "      <td>&lt;NA&gt;</td>\n",
       "      <td>&lt;NA&gt;</td>\n",
       "      <td>38</td>\n",
       "      <td>-1.022533</td>\n",
       "      <td>-2.690877</td>\n",
       "      <td>8.015012</td>\n",
       "      <td>0.826121</td>\n",
       "      <td>15.203903</td>\n",
       "      <td>1.055556</td>\n",
       "    </tr>\n",
       "    <tr>\n",
       "      <th>6</th>\n",
       "      <th>2d76</th>\n",
       "      <th>77d7</th>\n",
       "      <th>fb12</th>\n",
       "      <td>10</td>\n",
       "      <td>10</td>\n",
       "      <td>37.156406</td>\n",
       "      <td>&lt;NA&gt;</td>\n",
       "      <td>&lt;NA&gt;</td>\n",
       "      <td>&lt;NA&gt;</td>\n",
       "      <td>38</td>\n",
       "      <td>-0.843594</td>\n",
       "      <td>-2.219984</td>\n",
       "      <td>8.023831</td>\n",
       "      <td>0.84376</td>\n",
       "      <td>15.203903</td>\n",
       "      <td>1.055556</td>\n",
       "    </tr>\n",
       "    <tr>\n",
       "      <th>7</th>\n",
       "      <th>2d76</th>\n",
       "      <th>77d7</th>\n",
       "      <th>fb12</th>\n",
       "      <td>10</td>\n",
       "      <td>10</td>\n",
       "      <td>36.600273</td>\n",
       "      <td>&lt;NA&gt;</td>\n",
       "      <td>&lt;NA&gt;</td>\n",
       "      <td>&lt;NA&gt;</td>\n",
       "      <td>38</td>\n",
       "      <td>-1.399727</td>\n",
       "      <td>-3.683493</td>\n",
       "      <td>8.024551</td>\n",
       "      <td>0.8452</td>\n",
       "      <td>15.203903</td>\n",
       "      <td>1.055556</td>\n",
       "    </tr>\n",
       "    <tr>\n",
       "      <th>8</th>\n",
       "      <th>2d76</th>\n",
       "      <th>77d7</th>\n",
       "      <th>fb12</th>\n",
       "      <td>10</td>\n",
       "      <td>10</td>\n",
       "      <td>36.750591</td>\n",
       "      <td>&lt;NA&gt;</td>\n",
       "      <td>&lt;NA&gt;</td>\n",
       "      <td>&lt;NA&gt;</td>\n",
       "      <td>38</td>\n",
       "      <td>-1.249409</td>\n",
       "      <td>-3.287919</td>\n",
       "      <td>8.019007</td>\n",
       "      <td>0.834112</td>\n",
       "      <td>15.203903</td>\n",
       "      <td>1.055556</td>\n",
       "    </tr>\n",
       "    <tr>\n",
       "      <th>9</th>\n",
       "      <th>2d76</th>\n",
       "      <th>77d7</th>\n",
       "      <th>fb12</th>\n",
       "      <td>10</td>\n",
       "      <td>10</td>\n",
       "      <td>36.691733</td>\n",
       "      <td>&lt;NA&gt;</td>\n",
       "      <td>&lt;NA&gt;</td>\n",
       "      <td>&lt;NA&gt;</td>\n",
       "      <td>38</td>\n",
       "      <td>-1.308267</td>\n",
       "      <td>-3.442807</td>\n",
       "      <td>8.01506</td>\n",
       "      <td>0.826217</td>\n",
       "      <td>15.203903</td>\n",
       "      <td>1.055556</td>\n",
       "    </tr>\n",
       "  </tbody>\n",
       "</table>\n",
       "<p>13720 rows × 13 columns</p>\n",
       "</div>"
      ],
      "text/plain": [
       "                                                                                   admit  \\\n",
       "crse_code levl_code styp_code term_code train_code sim trf_hash imp_hash clf_hash          \n",
       "_anycrse  ug        n         202408    all        0   2d76     77d7     fb12       1512   \n",
       "                                                                         fb12       1512   \n",
       "                                                                         fb12       1512   \n",
       "                                                   1   2d76     77d7     fb12       1512   \n",
       "                                                                         fb12       1512   \n",
       "...                                                                                  ...   \n",
       "univ0342  ug        n         202208    202208     5   2d76     77d7     fb12         10   \n",
       "                                                   6   2d76     77d7     fb12         10   \n",
       "                                                   7   2d76     77d7     fb12         10   \n",
       "                                                   8   2d76     77d7     fb12         10   \n",
       "                                                   9   2d76     77d7     fb12         10   \n",
       "\n",
       "                                                                                   enroll  \\\n",
       "crse_code levl_code styp_code term_code train_code sim trf_hash imp_hash clf_hash           \n",
       "_anycrse  ug        n         202408    all        0   2d76     77d7     fb12        1512   \n",
       "                                                                         fb12        1512   \n",
       "                                                                         fb12        1512   \n",
       "                                                   1   2d76     77d7     fb12        1512   \n",
       "                                                                         fb12        1512   \n",
       "...                                                                                   ...   \n",
       "univ0342  ug        n         202208    202208     5   2d76     77d7     fb12          10   \n",
       "                                                   6   2d76     77d7     fb12          10   \n",
       "                                                   7   2d76     77d7     fb12          10   \n",
       "                                                   8   2d76     77d7     fb12          10   \n",
       "                                                   9   2d76     77d7     fb12          10   \n",
       "\n",
       "                                                                                       predict  \\\n",
       "crse_code levl_code styp_code term_code train_code sim trf_hash imp_hash clf_hash                \n",
       "_anycrse  ug        n         202408    all        0   2d76     77d7     fb12      3060.443637   \n",
       "                                                                         fb12      3020.361781   \n",
       "                                                                         fb12      2991.328914   \n",
       "                                                   1   2d76     77d7     fb12      3060.157089   \n",
       "                                                                         fb12      3020.078986   \n",
       "...                                                                                        ...   \n",
       "univ0342  ug        n         202208    202208     5   2d76     77d7     fb12        36.977467   \n",
       "                                                   6   2d76     77d7     fb12        37.156406   \n",
       "                                                   7   2d76     77d7     fb12        36.600273   \n",
       "                                                   8   2d76     77d7     fb12        36.750591   \n",
       "                                                   9   2d76     77d7     fb12        36.691733   \n",
       "\n",
       "                                                                                   prior  \\\n",
       "crse_code levl_code styp_code term_code train_code sim trf_hash imp_hash clf_hash          \n",
       "_anycrse  ug        n         202408    all        0   2d76     77d7     fb12       2700   \n",
       "                                                                         fb12       2700   \n",
       "                                                                         fb12       2700   \n",
       "                                                   1   2d76     77d7     fb12       2700   \n",
       "                                                                         fb12       2700   \n",
       "...                                                                                  ...   \n",
       "univ0342  ug        n         202208    202208     5   2d76     77d7     fb12       <NA>   \n",
       "                                                   6   2d76     77d7     fb12       <NA>   \n",
       "                                                   7   2d76     77d7     fb12       <NA>   \n",
       "                                                   8   2d76     77d7     fb12       <NA>   \n",
       "                                                   9   2d76     77d7     fb12       <NA>   \n",
       "\n",
       "                                                                                   predict_change  \\\n",
       "crse_code levl_code styp_code term_code train_code sim trf_hash imp_hash clf_hash                   \n",
       "_anycrse  ug        n         202408    all        0   2d76     77d7     fb12          360.443637   \n",
       "                                                                         fb12          320.361781   \n",
       "                                                                         fb12          291.328914   \n",
       "                                                   1   2d76     77d7     fb12          360.157089   \n",
       "                                                                         fb12          320.078986   \n",
       "...                                                                                           ...   \n",
       "univ0342  ug        n         202208    202208     5   2d76     77d7     fb12                <NA>   \n",
       "                                                   6   2d76     77d7     fb12                <NA>   \n",
       "                                                   7   2d76     77d7     fb12                <NA>   \n",
       "                                                   8   2d76     77d7     fb12                <NA>   \n",
       "                                                   9   2d76     77d7     fb12                <NA>   \n",
       "\n",
       "                                                                                   predict_change_pct  \\\n",
       "crse_code levl_code styp_code term_code train_code sim trf_hash imp_hash clf_hash                       \n",
       "_anycrse  ug        n         202408    all        0   2d76     77d7     fb12               13.349764   \n",
       "                                                                         fb12               11.865251   \n",
       "                                                                         fb12                10.78996   \n",
       "                                                   1   2d76     77d7     fb12               13.339151   \n",
       "                                                                         fb12               11.854777   \n",
       "...                                                                                               ...   \n",
       "univ0342  ug        n         202208    202208     5   2d76     77d7     fb12                    <NA>   \n",
       "                                                   6   2d76     77d7     fb12                    <NA>   \n",
       "                                                   7   2d76     77d7     fb12                    <NA>   \n",
       "                                                   8   2d76     77d7     fb12                    <NA>   \n",
       "                                                   9   2d76     77d7     fb12                    <NA>   \n",
       "\n",
       "                                                                                   actual  \\\n",
       "crse_code levl_code styp_code term_code train_code sim trf_hash imp_hash clf_hash           \n",
       "_anycrse  ug        n         202408    all        0   2d76     77d7     fb12        <NA>   \n",
       "                                                                         fb12        <NA>   \n",
       "                                                                         fb12        <NA>   \n",
       "                                                   1   2d76     77d7     fb12        <NA>   \n",
       "                                                                         fb12        <NA>   \n",
       "...                                                                                   ...   \n",
       "univ0342  ug        n         202208    202208     5   2d76     77d7     fb12          38   \n",
       "                                                   6   2d76     77d7     fb12          38   \n",
       "                                                   7   2d76     77d7     fb12          38   \n",
       "                                                   8   2d76     77d7     fb12          38   \n",
       "                                                   9   2d76     77d7     fb12          38   \n",
       "\n",
       "                                                                                   predict_error  \\\n",
       "crse_code levl_code styp_code term_code train_code sim trf_hash imp_hash clf_hash                  \n",
       "_anycrse  ug        n         202408    all        0   2d76     77d7     fb12               <NA>   \n",
       "                                                                         fb12               <NA>   \n",
       "                                                                         fb12               <NA>   \n",
       "                                                   1   2d76     77d7     fb12               <NA>   \n",
       "                                                                         fb12               <NA>   \n",
       "...                                                                                          ...   \n",
       "univ0342  ug        n         202208    202208     5   2d76     77d7     fb12          -1.022533   \n",
       "                                                   6   2d76     77d7     fb12          -0.843594   \n",
       "                                                   7   2d76     77d7     fb12          -1.399727   \n",
       "                                                   8   2d76     77d7     fb12          -1.249409   \n",
       "                                                   9   2d76     77d7     fb12          -1.308267   \n",
       "\n",
       "                                                                                   predict_error_pct  \\\n",
       "crse_code levl_code styp_code term_code train_code sim trf_hash imp_hash clf_hash                      \n",
       "_anycrse  ug        n         202408    all        0   2d76     77d7     fb12                   <NA>   \n",
       "                                                                         fb12                   <NA>   \n",
       "                                                                         fb12                   <NA>   \n",
       "                                                   1   2d76     77d7     fb12                   <NA>   \n",
       "                                                                         fb12                   <NA>   \n",
       "...                                                                                              ...   \n",
       "univ0342  ug        n         202208    202208     5   2d76     77d7     fb12              -2.690877   \n",
       "                                                   6   2d76     77d7     fb12              -2.219984   \n",
       "                                                   7   2d76     77d7     fb12              -3.683493   \n",
       "                                                   8   2d76     77d7     fb12              -3.287919   \n",
       "                                                   9   2d76     77d7     fb12              -3.442807   \n",
       "\n",
       "                                                                                   overall_score  \\\n",
       "crse_code levl_code styp_code term_code train_code sim trf_hash imp_hash clf_hash                  \n",
       "_anycrse  ug        n         202408    all        0   2d76     77d7     fb12          67.113061   \n",
       "                                                                         fb12          67.113061   \n",
       "                                                                         fb12          67.113061   \n",
       "                                                   1   2d76     77d7     fb12          67.106824   \n",
       "                                                                         fb12          67.106824   \n",
       "...                                                                                          ...   \n",
       "univ0342  ug        n         202208    202208     5   2d76     77d7     fb12           8.015012   \n",
       "                                                   6   2d76     77d7     fb12           8.023831   \n",
       "                                                   7   2d76     77d7     fb12           8.024551   \n",
       "                                                   8   2d76     77d7     fb12           8.019007   \n",
       "                                                   9   2d76     77d7     fb12            8.01506   \n",
       "\n",
       "                                                                                   test_score  \\\n",
       "crse_code levl_code styp_code term_code train_code sim trf_hash imp_hash clf_hash               \n",
       "_anycrse  ug        n         202408    all        0   2d76     77d7     fb12      119.365595   \n",
       "                                                                         fb12      119.365595   \n",
       "                                                                         fb12      119.365595   \n",
       "                                                   1   2d76     77d7     fb12       119.35312   \n",
       "                                                                         fb12       119.35312   \n",
       "...                                                                                       ...   \n",
       "univ0342  ug        n         202208    202208     5   2d76     77d7     fb12        0.826121   \n",
       "                                                   6   2d76     77d7     fb12         0.84376   \n",
       "                                                   7   2d76     77d7     fb12          0.8452   \n",
       "                                                   8   2d76     77d7     fb12        0.834112   \n",
       "                                                   9   2d76     77d7     fb12        0.826217   \n",
       "\n",
       "                                                                                   train_score  \\\n",
       "crse_code levl_code styp_code term_code train_code sim trf_hash imp_hash clf_hash                \n",
       "_anycrse  ug        n         202408    all        0   2d76     77d7     fb12        14.860527   \n",
       "                                                                         fb12        14.860527   \n",
       "                                                                         fb12        14.860527   \n",
       "                                                   1   2d76     77d7     fb12        14.860527   \n",
       "                                                                         fb12        14.860527   \n",
       "...                                                                                        ...   \n",
       "univ0342  ug        n         202208    202208     5   2d76     77d7     fb12        15.203903   \n",
       "                                                   6   2d76     77d7     fb12        15.203903   \n",
       "                                                   7   2d76     77d7     fb12        15.203903   \n",
       "                                                   8   2d76     77d7     fb12        15.203903   \n",
       "                                                   9   2d76     77d7     fb12        15.203903   \n",
       "\n",
       "                                                                                        mlt  \n",
       "crse_code levl_code styp_code term_code train_code sim trf_hash imp_hash clf_hash            \n",
       "_anycrse  ug        n         202408    all        0   2d76     77d7     fb12      1.047945  \n",
       "                                                                         fb12      1.034221  \n",
       "                                                                         fb12      1.024279  \n",
       "                                                   1   2d76     77d7     fb12      1.047945  \n",
       "                                                                         fb12      1.034221  \n",
       "...                                                                                     ...  \n",
       "univ0342  ug        n         202208    202208     5   2d76     77d7     fb12      1.055556  \n",
       "                                                   6   2d76     77d7     fb12      1.055556  \n",
       "                                                   7   2d76     77d7     fb12      1.055556  \n",
       "                                                   8   2d76     77d7     fb12      1.055556  \n",
       "                                                   9   2d76     77d7     fb12      1.055556  \n",
       "\n",
       "[13720 rows x 13 columns]"
      ]
     },
     "execution_count": 3,
     "metadata": {},
     "output_type": "execute_result"
    }
   ],
   "source": [
    "variable = 'crse_code'\n",
    "# variable = 'coll_code'\n",
    "grp = [variable,'levl_code','styp_code','term_code','train_code','sim','trf_hash','imp_hash','clf_hash']\n",
    "S = (y_pred.query(\"crse_code=='_anycrse'\" if variable!=\"crse_code\" else \"crse_code.notnull()\")\n",
    "    .merge(self.X[variable if variable!=\"crse_code\" else []].reset_index())\n",
    "    .groupby(grp).apply(lambda y: pd.Series({\n",
    "            'predict': y['proba'].sum(),\n",
    "            'test_score': log_loss(y['actual'], y['proba'], labels=[False,True]) * 100,\n",
    "        }), include_groups=False)\n",
    "    .join(self.train_score)\n",
    "    .join(self.agg.loc[variable].rename_axis(index={'value':variable}))\n",
    ")\n",
    "P = S['actual'].rename('prior').reset_index()\n",
    "P['term_code'] += 100\n",
    "S = S.reset_index().merge(P, 'left')\n",
    "alpha = 1\n",
    "S['overall_score'] = (S['train_score'] + alpha * S['test_score']) / (1 + alpha)\n",
    "S['predict'] *= S['mlt']\n",
    "S['predict_error'] = S['predict'] - S['actual']\n",
    "S['predict_error_pct'] = S['predict_error'] / S['actual'] * 100\n",
    "S['predict_change'] = S['predict'] - S['prior']\n",
    "S['predict_change_pct'] = S['predict_change'] / S['prior'] * 100\n",
    "S['train_code'] = S['train_code'].astype('string').replace(str(self.proj_code), 'all')\n",
    "S = (S\n",
    "    .prep()\n",
    "    .sort_values(grp, ascending=[True,True,True,False,False,True,True,True,True])\n",
    "    .set_index(grp)\n",
    "    [['admit','enroll','predict','prior','predict_change','predict_change_pct','actual','predict_error','predict_error_pct','overall_score','test_score','train_score','mlt']]\n",
    ")\n",
    "grp.remove('sim')\n",
    "M = S.groupby(grp, sort=False).mean().prep()\n",
    "S"
   ]
  },
  {
   "cell_type": "code",
   "execution_count": 6,
   "metadata": {},
   "outputs": [],
   "source": [
    "y_pred = pd.concat([read(fn).get('y_pred', pd.DataFrame()) for fn in sorted((self.root_path / 'y_pred').rglob('*.pkl'))]).reset_index().prep()\n",
    "# Z = self.X.reset_index().merge(y_pred.reset_index()).prep()"
   ]
  },
  {
   "cell_type": "code",
   "execution_count": 37,
   "metadata": {},
   "outputs": [
    {
     "data": {
      "text/html": [
       "<div>\n",
       "<style scoped>\n",
       "    .dataframe tbody tr th:only-of-type {\n",
       "        vertical-align: middle;\n",
       "    }\n",
       "\n",
       "    .dataframe tbody tr th {\n",
       "        vertical-align: top;\n",
       "    }\n",
       "\n",
       "    .dataframe thead th {\n",
       "        text-align: right;\n",
       "    }\n",
       "</style>\n",
       "<table border=\"1\" class=\"dataframe\">\n",
       "  <thead>\n",
       "    <tr style=\"text-align: right;\">\n",
       "      <th></th>\n",
       "      <th></th>\n",
       "      <th></th>\n",
       "      <th></th>\n",
       "      <th></th>\n",
       "      <th></th>\n",
       "      <th></th>\n",
       "      <th></th>\n",
       "      <th></th>\n",
       "      <th>predict</th>\n",
       "      <th>test_score</th>\n",
       "      <th>train_score</th>\n",
       "      <th>admit</th>\n",
       "      <th>enroll</th>\n",
       "      <th>actual</th>\n",
       "      <th>mlt</th>\n",
       "    </tr>\n",
       "    <tr>\n",
       "      <th>crse_code</th>\n",
       "      <th>levl_code</th>\n",
       "      <th>styp_code</th>\n",
       "      <th>term_code</th>\n",
       "      <th>train_code</th>\n",
       "      <th>sim</th>\n",
       "      <th>trf_hash</th>\n",
       "      <th>imp_hash</th>\n",
       "      <th>clf_hash</th>\n",
       "      <th></th>\n",
       "      <th></th>\n",
       "      <th></th>\n",
       "      <th></th>\n",
       "      <th></th>\n",
       "      <th></th>\n",
       "      <th></th>\n",
       "    </tr>\n",
       "  </thead>\n",
       "  <tbody>\n",
       "    <tr>\n",
       "      <th rowspan=\"5\" valign=\"top\">_anycrse</th>\n",
       "      <th rowspan=\"5\" valign=\"top\">ug</th>\n",
       "      <th rowspan=\"5\" valign=\"top\">n</th>\n",
       "      <th rowspan=\"5\" valign=\"top\">202108</th>\n",
       "      <th rowspan=\"5\" valign=\"top\">202108</th>\n",
       "      <th>0</th>\n",
       "      <th>2d76</th>\n",
       "      <th>77d7</th>\n",
       "      <th>fb12</th>\n",
       "      <td>2062.525879</td>\n",
       "      <td>13.814130</td>\n",
       "      <td>13.574245</td>\n",
       "      <td>1437.0</td>\n",
       "      <td>1437.0</td>\n",
       "      <td>2142.0</td>\n",
       "      <td>1.047945</td>\n",
       "    </tr>\n",
       "    <tr>\n",
       "      <th>1</th>\n",
       "      <th>2d76</th>\n",
       "      <th>77d7</th>\n",
       "      <th>fb12</th>\n",
       "      <td>2062.542480</td>\n",
       "      <td>13.819672</td>\n",
       "      <td>13.574245</td>\n",
       "      <td>1437.0</td>\n",
       "      <td>1437.0</td>\n",
       "      <td>2142.0</td>\n",
       "      <td>1.047945</td>\n",
       "    </tr>\n",
       "    <tr>\n",
       "      <th>2</th>\n",
       "      <th>2d76</th>\n",
       "      <th>77d7</th>\n",
       "      <th>fb12</th>\n",
       "      <td>2062.191162</td>\n",
       "      <td>13.815795</td>\n",
       "      <td>13.574245</td>\n",
       "      <td>1437.0</td>\n",
       "      <td>1437.0</td>\n",
       "      <td>2142.0</td>\n",
       "      <td>1.047945</td>\n",
       "    </tr>\n",
       "    <tr>\n",
       "      <th>3</th>\n",
       "      <th>2d76</th>\n",
       "      <th>77d7</th>\n",
       "      <th>fb12</th>\n",
       "      <td>2062.065674</td>\n",
       "      <td>13.814471</td>\n",
       "      <td>13.574245</td>\n",
       "      <td>1437.0</td>\n",
       "      <td>1437.0</td>\n",
       "      <td>2142.0</td>\n",
       "      <td>1.047945</td>\n",
       "    </tr>\n",
       "    <tr>\n",
       "      <th>4</th>\n",
       "      <th>2d76</th>\n",
       "      <th>77d7</th>\n",
       "      <th>fb12</th>\n",
       "      <td>2061.924072</td>\n",
       "      <td>13.824811</td>\n",
       "      <td>13.574245</td>\n",
       "      <td>1437.0</td>\n",
       "      <td>1437.0</td>\n",
       "      <td>2142.0</td>\n",
       "      <td>1.047945</td>\n",
       "    </tr>\n",
       "    <tr>\n",
       "      <th>...</th>\n",
       "      <th>...</th>\n",
       "      <th>...</th>\n",
       "      <th>...</th>\n",
       "      <th>...</th>\n",
       "      <th>...</th>\n",
       "      <th>...</th>\n",
       "      <th>...</th>\n",
       "      <th>...</th>\n",
       "      <td>...</td>\n",
       "      <td>...</td>\n",
       "      <td>...</td>\n",
       "      <td>...</td>\n",
       "      <td>...</td>\n",
       "      <td>...</td>\n",
       "      <td>...</td>\n",
       "    </tr>\n",
       "    <tr>\n",
       "      <th rowspan=\"5\" valign=\"top\">univ0342</th>\n",
       "      <th rowspan=\"5\" valign=\"top\">ug</th>\n",
       "      <th rowspan=\"5\" valign=\"top\">n</th>\n",
       "      <th rowspan=\"5\" valign=\"top\">202408</th>\n",
       "      <th rowspan=\"5\" valign=\"top\">202408</th>\n",
       "      <th rowspan=\"2\" valign=\"top\">8</th>\n",
       "      <th rowspan=\"2\" valign=\"top\">2d76</th>\n",
       "      <th rowspan=\"2\" valign=\"top\">77d7</th>\n",
       "      <th>fb12</th>\n",
       "      <td>56.243942</td>\n",
       "      <td>0.880693</td>\n",
       "      <td>14.860527</td>\n",
       "      <td>37.0</td>\n",
       "      <td>37.0</td>\n",
       "      <td>NaN</td>\n",
       "      <td>1.055556</td>\n",
       "    </tr>\n",
       "    <tr>\n",
       "      <th>fb12</th>\n",
       "      <td>56.243942</td>\n",
       "      <td>0.880693</td>\n",
       "      <td>14.860527</td>\n",
       "      <td>37.0</td>\n",
       "      <td>37.0</td>\n",
       "      <td>NaN</td>\n",
       "      <td>1.000000</td>\n",
       "    </tr>\n",
       "    <tr>\n",
       "      <th rowspan=\"3\" valign=\"top\">9</th>\n",
       "      <th rowspan=\"3\" valign=\"top\">2d76</th>\n",
       "      <th rowspan=\"3\" valign=\"top\">77d7</th>\n",
       "      <th>fb12</th>\n",
       "      <td>56.546394</td>\n",
       "      <td>0.879028</td>\n",
       "      <td>14.860527</td>\n",
       "      <td>37.0</td>\n",
       "      <td>37.0</td>\n",
       "      <td>NaN</td>\n",
       "      <td>1.000000</td>\n",
       "    </tr>\n",
       "    <tr>\n",
       "      <th>fb12</th>\n",
       "      <td>56.546394</td>\n",
       "      <td>0.879028</td>\n",
       "      <td>14.860527</td>\n",
       "      <td>37.0</td>\n",
       "      <td>37.0</td>\n",
       "      <td>NaN</td>\n",
       "      <td>1.055556</td>\n",
       "    </tr>\n",
       "    <tr>\n",
       "      <th>fb12</th>\n",
       "      <td>56.546394</td>\n",
       "      <td>0.879028</td>\n",
       "      <td>14.860527</td>\n",
       "      <td>37.0</td>\n",
       "      <td>37.0</td>\n",
       "      <td>NaN</td>\n",
       "      <td>1.000000</td>\n",
       "    </tr>\n",
       "  </tbody>\n",
       "</table>\n",
       "<p>13720 rows × 7 columns</p>\n",
       "</div>"
      ],
      "text/plain": [
       "                                                                                       predict  \\\n",
       "crse_code levl_code styp_code term_code train_code sim trf_hash imp_hash clf_hash                \n",
       "_anycrse  ug        n         202108    202108     0   2d76     77d7     fb12      2062.525879   \n",
       "                                                   1   2d76     77d7     fb12      2062.542480   \n",
       "                                                   2   2d76     77d7     fb12      2062.191162   \n",
       "                                                   3   2d76     77d7     fb12      2062.065674   \n",
       "                                                   4   2d76     77d7     fb12      2061.924072   \n",
       "...                                                                                        ...   \n",
       "univ0342  ug        n         202408    202408     8   2d76     77d7     fb12        56.243942   \n",
       "                                                                         fb12        56.243942   \n",
       "                                                   9   2d76     77d7     fb12        56.546394   \n",
       "                                                                         fb12        56.546394   \n",
       "                                                                         fb12        56.546394   \n",
       "\n",
       "                                                                                   test_score  \\\n",
       "crse_code levl_code styp_code term_code train_code sim trf_hash imp_hash clf_hash               \n",
       "_anycrse  ug        n         202108    202108     0   2d76     77d7     fb12       13.814130   \n",
       "                                                   1   2d76     77d7     fb12       13.819672   \n",
       "                                                   2   2d76     77d7     fb12       13.815795   \n",
       "                                                   3   2d76     77d7     fb12       13.814471   \n",
       "                                                   4   2d76     77d7     fb12       13.824811   \n",
       "...                                                                                       ...   \n",
       "univ0342  ug        n         202408    202408     8   2d76     77d7     fb12        0.880693   \n",
       "                                                                         fb12        0.880693   \n",
       "                                                   9   2d76     77d7     fb12        0.879028   \n",
       "                                                                         fb12        0.879028   \n",
       "                                                                         fb12        0.879028   \n",
       "\n",
       "                                                                                   train_score  \\\n",
       "crse_code levl_code styp_code term_code train_code sim trf_hash imp_hash clf_hash                \n",
       "_anycrse  ug        n         202108    202108     0   2d76     77d7     fb12        13.574245   \n",
       "                                                   1   2d76     77d7     fb12        13.574245   \n",
       "                                                   2   2d76     77d7     fb12        13.574245   \n",
       "                                                   3   2d76     77d7     fb12        13.574245   \n",
       "                                                   4   2d76     77d7     fb12        13.574245   \n",
       "...                                                                                        ...   \n",
       "univ0342  ug        n         202408    202408     8   2d76     77d7     fb12        14.860527   \n",
       "                                                                         fb12        14.860527   \n",
       "                                                   9   2d76     77d7     fb12        14.860527   \n",
       "                                                                         fb12        14.860527   \n",
       "                                                                         fb12        14.860527   \n",
       "\n",
       "                                                                                    admit  \\\n",
       "crse_code levl_code styp_code term_code train_code sim trf_hash imp_hash clf_hash           \n",
       "_anycrse  ug        n         202108    202108     0   2d76     77d7     fb12      1437.0   \n",
       "                                                   1   2d76     77d7     fb12      1437.0   \n",
       "                                                   2   2d76     77d7     fb12      1437.0   \n",
       "                                                   3   2d76     77d7     fb12      1437.0   \n",
       "                                                   4   2d76     77d7     fb12      1437.0   \n",
       "...                                                                                   ...   \n",
       "univ0342  ug        n         202408    202408     8   2d76     77d7     fb12        37.0   \n",
       "                                                                         fb12        37.0   \n",
       "                                                   9   2d76     77d7     fb12        37.0   \n",
       "                                                                         fb12        37.0   \n",
       "                                                                         fb12        37.0   \n",
       "\n",
       "                                                                                   enroll  \\\n",
       "crse_code levl_code styp_code term_code train_code sim trf_hash imp_hash clf_hash           \n",
       "_anycrse  ug        n         202108    202108     0   2d76     77d7     fb12      1437.0   \n",
       "                                                   1   2d76     77d7     fb12      1437.0   \n",
       "                                                   2   2d76     77d7     fb12      1437.0   \n",
       "                                                   3   2d76     77d7     fb12      1437.0   \n",
       "                                                   4   2d76     77d7     fb12      1437.0   \n",
       "...                                                                                   ...   \n",
       "univ0342  ug        n         202408    202408     8   2d76     77d7     fb12        37.0   \n",
       "                                                                         fb12        37.0   \n",
       "                                                   9   2d76     77d7     fb12        37.0   \n",
       "                                                                         fb12        37.0   \n",
       "                                                                         fb12        37.0   \n",
       "\n",
       "                                                                                   actual  \\\n",
       "crse_code levl_code styp_code term_code train_code sim trf_hash imp_hash clf_hash           \n",
       "_anycrse  ug        n         202108    202108     0   2d76     77d7     fb12      2142.0   \n",
       "                                                   1   2d76     77d7     fb12      2142.0   \n",
       "                                                   2   2d76     77d7     fb12      2142.0   \n",
       "                                                   3   2d76     77d7     fb12      2142.0   \n",
       "                                                   4   2d76     77d7     fb12      2142.0   \n",
       "...                                                                                   ...   \n",
       "univ0342  ug        n         202408    202408     8   2d76     77d7     fb12         NaN   \n",
       "                                                                         fb12         NaN   \n",
       "                                                   9   2d76     77d7     fb12         NaN   \n",
       "                                                                         fb12         NaN   \n",
       "                                                                         fb12         NaN   \n",
       "\n",
       "                                                                                        mlt  \n",
       "crse_code levl_code styp_code term_code train_code sim trf_hash imp_hash clf_hash            \n",
       "_anycrse  ug        n         202108    202108     0   2d76     77d7     fb12      1.047945  \n",
       "                                                   1   2d76     77d7     fb12      1.047945  \n",
       "                                                   2   2d76     77d7     fb12      1.047945  \n",
       "                                                   3   2d76     77d7     fb12      1.047945  \n",
       "                                                   4   2d76     77d7     fb12      1.047945  \n",
       "...                                                                                     ...  \n",
       "univ0342  ug        n         202408    202408     8   2d76     77d7     fb12      1.055556  \n",
       "                                                                         fb12      1.000000  \n",
       "                                                   9   2d76     77d7     fb12      1.000000  \n",
       "                                                                         fb12      1.055556  \n",
       "                                                                         fb12      1.000000  \n",
       "\n",
       "[13720 rows x 7 columns]"
      ]
     },
     "execution_count": 37,
     "metadata": {},
     "output_type": "execute_result"
    }
   ],
   "source": [
    "variable = 'crse_code'\n",
    "# variable = 'coll_code'\n",
    "grp = [variable,'levl_code','styp_code','term_code','train_code','sim','trf_hash','imp_hash','clf_hash']\n",
    "# Z = y_pred.query(\"crse_code=='_anycrse'\" if variable!=\"crse_code\" else \"crse_code.notnull()\").merge(self.X[variable if variable!=\"crse_code\" else []].reset_index())\n",
    "S = (y_pred.query(\"crse_code=='_anycrse'\" if variable!=\"crse_code\" else \"crse_code.notnull()\")\n",
    "    .merge(self.X[variable if variable!=\"crse_code\" else []].reset_index())\n",
    "    .groupby(grp).apply(lambda y: pd.Series({\n",
    "            'predict': y['proba'].sum(),\n",
    "            'test_score': log_loss(y['actual'], y['proba'], labels=[False,True]) * 100,\n",
    "        }), include_groups=False)\n",
    "    .join(self.train_score)\n",
    "    .join(self.agg.loc[variable].rename_axis(index={'value':variable}))\n",
    ")\n",
    "# P = S['actual'].rename('prior').reset_index()\n",
    "# P['term_code'] += 100\n",
    "# S = S.reset_index().merge(P, 'left')\n",
    "# alpha = 1\n",
    "# S['overall_score'] = (S['train_score'] + alpha * S['test_score']) / (1 + alpha)\n",
    "# S['predict'] *= S['mlt']\n",
    "# S['predict_error'] = S['predict'] - S['actual']\n",
    "# S['predict_error_pct'] = S['predict_error'] / S['actual'] * 100\n",
    "# S['predict_change'] = S['predict'] - S['prior']\n",
    "# S['predict_change_pct'] = S['predict_change'] / S['prior'] * 100\n",
    "# S['train_code'] = S['train_code'].astype('string').replace(str(self.proj_code), 'all')\n",
    "# S = (S\n",
    "#     .prep()\n",
    "#     .sort_values(grp, ascending=[True,True,True,False,False,True,True,True,True])\n",
    "#     .set_index(grp)\n",
    "#     [['admit','enroll','predict','prior','predict_change','predict_change_pct','actual','predict_error','predict_error_pct','overall_score','test_score','train_score','mlt']]\n",
    "# )\n",
    "# grp.remove('sim')\n",
    "# M = S.groupby(grp, sort=False).mean().prep()\n",
    "S"
   ]
  },
  {
   "cell_type": "code",
   "execution_count": null,
   "metadata": {},
   "outputs": [],
   "source": [
    "path = pathlib.Path('/home/scook/institutional_data_analytics/admitted_matriculation_projection/resources/rslt/098/y_pred')\n",
    "y_pred = pd.concat([read(fn).get('y_pred', pd.DataFrame()) for fn in sorted(path.rglob('*.pkl'))])\n",
    "# dct = {str(fn): read(fn).get('y_pred', pd.DataFrame()) for fn in sorted(path.rglob('*.pkl'))}\n",
    "# dct = {str(fn): read(fn)['y_pred'] for fn in sorted(path.rglob('*.pkl'))[:20]}\n",
    "# dct = [read(fn) for fn in sorted(path.rglob('*.pkl'))[:2]]"
   ]
  },
  {
   "cell_type": "code",
   "execution_count": null,
   "metadata": {},
   "outputs": [],
   "source": [
    "pd.concat(dct.values())"
   ]
  },
  {
   "cell_type": "code",
   "execution_count": null,
   "metadata": {},
   "outputs": [],
   "source": [
    "dct[0].get('y_pred', pd.NA)"
   ]
  },
  {
   "cell_type": "code",
   "execution_count": null,
   "metadata": {},
   "outputs": [],
   "source": [
    "self.y_pred"
   ]
  },
  {
   "cell_type": "code",
   "execution_count": null,
   "metadata": {},
   "outputs": [],
   "source": [
    "# grp.remove('sim')\n",
    "S.groupby(grp).mean().prep()"
   ]
  },
  {
   "cell_type": "code",
   "execution_count": null,
   "metadata": {},
   "outputs": [],
   "source": [
    "variable = 'crse_code'\n",
    "variable = 'coll_code'\n",
    "grp = [variable,'term_code','levl_code','styp_code','train_code','sim','trf_hash','imp_hash','clf_hash']\n",
    "S = (Z\n",
    "    .groupby(grp).apply(lambda y: pd.Series({\n",
    "            'predict': y['proba'].sum(),\n",
    "            'test_score': log_loss(y['actual'], y['proba'], labels=[False,True]) * 100,\n",
    "        }), include_groups=False)\n",
    "    .join(self.train_score)\n",
    "    .join(self.agg.loc[variable].rename_axis(index={'value':variable}))\n",
    "    .rename(index={202408:'all'}, level='train_code')\n",
    ")\n",
    "alpha = 1\n",
    "S['overall_score'] = (S['train_score'] + alpha * S['test_score']) / (1 + alpha)\n",
    "S['predict'] *= S['mlt']\n",
    "S['error'] = S['predict'] - S['actual']\n",
    "S['error_pct'] = S['error'] / S['actual'] * 100\n",
    "P = S.reset_index()\n",
    "P['term_code'] += 100\n",
    "S = S.join(P.set_index(S.index.names)['actual'].rename('prior'))\n",
    "S['change'] = S['predict'] - S['prior']\n",
    "S['change_pct'] = S['change'] / S['prior'] * 100\n",
    "S = S[['admit','enroll','predict','actual','error','error_pct','prior','change','change_pct','overall_score','test_score','train_score','mlt']]"
   ]
  },
  {
   "cell_type": "code",
   "execution_count": null,
   "metadata": {},
   "outputs": [],
   "source": [
    "S"
   ]
  },
  {
   "cell_type": "code",
   "execution_count": null,
   "metadata": {},
   "outputs": [],
   "source": [
    "# S.index.set_level_values(S.index.get_level_values('train_code'), level='train_code')\n",
    "# S.index.set_levels(S.index.get_level_values('term_code').tolist(), level='term_code')\n",
    "# S.index.get_level_values('term_code').tolist()\n",
    "# S.index['term_code']\n",
    "# S.ge\n"
   ]
  },
  {
   "cell_type": "code",
   "execution_count": null,
   "metadata": {},
   "outputs": [],
   "source": [
    "self.X.rename(columns={'fall 2024':'a'}, level='term_desc')\n",
    "self.X.replace"
   ]
  },
  {
   "cell_type": "code",
   "execution_count": null,
   "metadata": {},
   "outputs": [],
   "source": [
    "S.rename(index={202408:\"all\"}, level='train_code')"
   ]
  },
  {
   "cell_type": "code",
   "execution_count": null,
   "metadata": {},
   "outputs": [],
   "source": [
    "A = self.agg.query(f\"variable==@self.crse_code\")\n",
    "mask = A.eval(f\"term_code!={self.proj_code}\")\n",
    "B = A[mask]\n",
    "C = A[~mask].drop(columns='mlt').join(B['mlt'].rename(index={k:self.proj_code for k in self.term_codes}))\n",
    "M = pd.concat([B,C])\n",
    "# C\n",
    "# A = self.agg.query('term_code==202408').drop(columns='mlt')\n",
    "# B = self.agg.query('term_code!=202408')['mlt'].rename(index={k:self.proj_code for k in self.term_codes})\n",
    "# C = A.join(B)\n",
    "# C.reset_index().missing()\n",
    "# C\n",
    "# .rename(index={k:self.proj_code for k in self.term_codes})\n",
    "# .rename(index={k*100+8:202408 for k in range(2021,2025)})\n",
    "# .rename(index={202108:202408, 202208:202408, 202308:202408 for k in range(2021,2025)})\n",
    "# B.vc('term_code')\n",
    "# A.shape, B.shape, A.join(B).shape\n",
    "# A.shape, A.join(B).shape\n",
    "# A.join(B)"
   ]
  },
  {
   "cell_type": "code",
   "execution_count": null,
   "metadata": {},
   "outputs": [],
   "source": [
    "Z"
   ]
  },
  {
   "cell_type": "code",
   "execution_count": null,
   "metadata": {},
   "outputs": [],
   "source": [
    "variable = 'crse_code'\n",
    "grp = [variable,'term_code','levl_code','styp_code','train_code','sim','trf_hash','imp_hash','clf_hash']\n",
    "S = (Z\n",
    "    .groupby(grp).apply(lambda y: pd.Series({\n",
    "            'predict': y['proba'].sum(),\n",
    "            'test_score': log_loss(y['actual'], y['proba'], labels=[False,True]) * 100,\n",
    "        }), include_groups=False)\n",
    "    .join(self.train_score)\n",
    "    .rename_axis(index={variable:'variable'})\n",
    "    .join(self.agg)\n",
    "    # .join(self.mlt.query(\"variable==@variable\").droplevel('variable').rename_axis(index={'value':variable}))\n",
    ")\n",
    "# S['predict'] *= S['mlt']\n",
    "S.disp(1000)\n",
    "# self.agg"
   ]
  },
  {
   "cell_type": "code",
   "execution_count": null,
   "metadata": {},
   "outputs": [],
   "source": [
    "self.y_pred.reset_index().dtypes.head(10)"
   ]
  },
  {
   "cell_type": "code",
   "execution_count": null,
   "metadata": {},
   "outputs": [],
   "source": [
    "# set(crse_codes).difference(set(self.y_true.reset_index()['variable']))\n",
    "intersection(crse_codes, self.y_true.reset_index()['variable'], sort=True)\n"
   ]
  },
  {
   "cell_type": "code",
   "execution_count": null,
   "metadata": {},
   "outputs": [],
   "source": [
    "from LiveAMP import *\n",
    "qry = f\"\"\"\n",
    "select distinct\n",
    "    ssbsect_term_code, ssbsect_crn\n",
    "from ssbsect\n",
    "where ssbsect_subj_code = 'AGEC' and ssbsect_crse_numb = 2317\n",
    "\"\"\"\n",
    "qry = f\"\"\"\n",
    "select\n",
    "    lower(B.ssbsect_subj_code) || B.ssbsect_crse_numb as crse_code,\n",
    "    A.sfrstcr_term_code as term_code,\n",
    "    A.sfrstcr_pidm as pidm,\n",
    "    (select C.sgbstdn_levl_code from sgbstdn C where C.sgbstdn_pidm = A.sfrstcr_pidm and C.sgbstdn_term_code_eff <= A.sfrstcr_term_code order by C.sgbstdn_term_code_eff desc fetch first 1 rows only) as levl_code,\n",
    "    (select C.sgbstdn_styp_code from sgbstdn C where C.sgbstdn_pidm = A.sfrstcr_pidm and C.sgbstdn_term_code_eff <= A.sfrstcr_term_code order by C.sgbstdn_term_code_eff desc fetch first 1 rows only) as styp_code,\n",
    "    sum(A.sfrstcr_credit_hr) as credit_hr\n",
    "from sfrstcr A, ssbsect B\n",
    "where\n",
    "    A.sfrstcr_term_code = B.ssbsect_term_code\n",
    "    and A.sfrstcr_term_code in (202108,202208,202308,202408)\n",
    "    and A.sfrstcr_crn = B.ssbsect_crn\n",
    "    and A.sfrstcr_ptrm_code not in ('28','R3')\n",
    "    and B.ssbsect_subj_code <> 'INST'\n",
    "group by B.ssbsect_subj_code, B.ssbsect_crse_numb, A.sfrstcr_term_code, A.sfrstcr_pidm\n",
    "\"\"\"\n",
    "\n",
    "qry = f\"\"\"\n",
    "select A.crse_code, A.term_code, A.styp_code, count(*) as ct\n",
    "from {subqry(qry)} A\n",
    "where A.levl_code = 'UG' and A.styp_code in ('N','R','T') and A.credit_hr > 0\n",
    "group by A.crse_code, A.term_code, A.styp_code\n",
    "--order by A.crse_code, A.term_code, A.styp_code\n",
    "\"\"\"\n",
    "\n",
    "qry = f\"\"\"\n",
    "select distinct A.crse_code--, A.styp_code\n",
    "from {subqry(qry)} A\n",
    "where A.ct >= 5\n",
    "order by A.crse_code--, A.styp_code\n",
    "\"\"\"\n",
    "X = db.execute(qry)"
   ]
  },
  {
   "cell_type": "code",
   "execution_count": null,
   "metadata": {},
   "outputs": [],
   "source": [
    "X['crse_code']#.squeeze().values#.to_list()#.disp(100)"
   ]
  },
  {
   "cell_type": "code",
   "execution_count": null,
   "metadata": {},
   "outputs": [],
   "source": [
    "set(crse_codes).difference(X.squeeze())"
   ]
  },
  {
   "cell_type": "code",
   "execution_count": null,
   "metadata": {},
   "outputs": [],
   "source": [
    "X.groupby(['crse_code','term_code','levl_code','styp_code']).size().reset_index().disp(2000)"
   ]
  },
  {
   "cell_type": "code",
   "execution_count": null,
   "metadata": {},
   "outputs": [],
   "source": [
    "self.Z['actual']#.vc('variable').disp(1000)"
   ]
  },
  {
   "cell_type": "code",
   "execution_count": null,
   "metadata": {},
   "outputs": [],
   "source": [
    "self.y_pred.vc('term_code')"
   ]
  },
  {
   "cell_type": "code",
   "execution_count": null,
   "metadata": {},
   "outputs": [],
   "source": [
    "print(self.X.query(f\"styp_code==@self.styp_code\").shape, self.X_proc.shape, self.y_pred.shape)"
   ]
  },
  {
   "cell_type": "code",
   "execution_count": null,
   "metadata": {},
   "outputs": [],
   "source": [
    "i = self.X\n",
    "i.ge\n",
    "# i.get_level_values('term_code')\n",
    "# ('term_code')"
   ]
  },
  {
   "cell_type": "code",
   "execution_count": null,
   "metadata": {},
   "outputs": [],
   "source": [
    "self.y_pred.groupby('term_code').groups.keys()#.vc('train_code')\n",
    "self.y_pred.index.unique('term_code')"
   ]
  },
  {
   "cell_type": "code",
   "execution_count": null,
   "metadata": {},
   "outputs": [],
   "source": [
    "Z = (\n",
    "    self.X_proc\n",
    "    .join(self.y_true.loc[self.crse_code])\n",
    "    .fillna({c:False for c in self.y_true.columns})\n",
    "    .sort_values(['actual','act_equiv_missing_','pidm'], ascending=False)\n",
    "    .groupby(['term_code','sim']).filter(lambda x: x['actual'].sum() >= 5)\n",
    "    .assign(mask = lambda x: x.groupby(['term_code','sim']).cumcount() % 5 > 0)\n",
    ")\n",
    "Z.groupby(['term_code','sim'])['actual'].sum()"
   ]
  },
  {
   "cell_type": "code",
   "execution_count": null,
   "metadata": {},
   "outputs": [],
   "source": [
    "z = self.X.join(self.y_pred)#.groupby(['crse_code','styp_code'], dropna=False).size()\n",
    "z\n",
    "# z.vc('crse_code')"
   ]
  },
  {
   "cell_type": "code",
   "execution_count": null,
   "metadata": {},
   "outputs": [],
   "source": [
    "self.y_pred\n",
    "# self.X_proc"
   ]
  },
  {
   "cell_type": "code",
   "execution_count": null,
   "metadata": {},
   "outputs": [],
   "source": [
    "Z = self.X.join(self.y_pred)#, how='inner')\n",
    "Z"
   ]
  },
  {
   "cell_type": "code",
   "execution_count": null,
   "metadata": {},
   "outputs": [],
   "source": [
    "self.y_pred"
   ]
  },
  {
   "cell_type": "code",
   "execution_count": null,
   "metadata": {},
   "outputs": [],
   "source": [
    "from LiveAMP import *\n",
    "self = AMP(cycle_day=98, param=param_lst[0])\n",
    "self.get_X()\n",
    "self.get_terms()\n",
    "idx = ['term_code','pidm']\n",
    "attr = ['id','levl_code','styp_code','admit','enroll','matric']\n",
    "crse = {'crse_code':'variable','credit_hr':'value'}\n",
    "X = self.X.copy()\n",
    "Y = {key:\n",
    "    pd.concat([T.reg for term_code, T in dct.items()])\n",
    "    .assign(credit_hr=lambda y: (y['crse_code']=='_allcrse')*(y['credit_hr']) + (y['crse_code']!='_allcrse')*(y['credit_hr']>0))\n",
    "    .sort_values(['crse_code',*idx])\n",
    "    .set_index(idx)\n",
    "    # .replace('_anycrse','_'+key)\n",
    "    for key, dct in self.terms.items()}\n",
    "\n",
    "courses = sorted(pd.concat(Y.values())['crse_code'].unique())\n",
    "courses.remove('_allcrse')\n",
    "# z = pd.concat([\n",
    "#     X['current'][[]].assign(variable='admitted', value=True),\n",
    "#     *[y.query(\"crse_code=='_allcrse' & credit_hr>0\")[[]].assign(variable=key, value=True) for key,y in Y.items()],\n",
    "# ])\n",
    "# z\n",
    "# for key, y in Y.items():\n",
    "#     X = {j: x.join(y.query(\"crse_code=='_allcrse'\")['credit_hr'].rename(key)) for j,x in X.items()}\n",
    "#     # X = {j: x.join(y.query(\"crse_code=='_anycrse'\")['credit_hr'].rename(key).prep(bool=True)) for j,x in X.items()}\n",
    "# X['final'] = X['final'].query(\"final>0\")\n",
    "# a, b = 'current', 'final'\n",
    "# for i in range(2):\n",
    "#     Y[a] = pd.concat([Y[a], Y[b].query(\"crse_code.str.contains(@b)\")])\n",
    "#     a,b = b,a\n",
    "\n",
    "# Y['current'].query(\"crse_code=='_current'\")\n",
    "\n",
    "# def f(*L):\n",
    "#     C = [z.filter(crse).rename(columns=crse) for z in L]\n",
    "#     F = [z[z.columns.difference(crse)].melt(ignore_index=False) for z in L]    \n",
    "#     Z = pd.concat(F+C).prep().groupby([*idx,'variable'], sort=False).first()\n",
    "#     mask = Z.eval(\"variable in @attr\")\n",
    "#     # return Z[mask].unstack().droplevel(0,1).prep(bool=True).set_index(attr, append=True).join(Z[~mask]).query(\"levl_code=='ug' & styp_code in ('n','r','t')\")\n",
    "#     return Z[mask].unstack().droplevel(0,1).prep(bool=True).set_index(attr, append=True).join(Z).query(\"levl_code=='ug' & styp_code in ('n','r','t')\")\n",
    "# Z = {'current': f(X['current'],Y['current']), 'final': f(Y['final'],X['final']).query(\"final>0\")}\n",
    "# Z['final'] = Z['final'].query(\"final>0\")\n",
    "# X = {key: z.query(\"variable not in @courses\").unstack().droplevel(0,1).prep(bool=True) for key, z in Z.items()}\n",
    "# Y = {key: z.query(\"variable in @courses\").prep(bool=True) for key, z in Z.items()}"
   ]
  },
  {
   "cell_type": "code",
   "execution_count": null,
   "metadata": {},
   "outputs": [],
   "source": [
    "from LiveAMP import *\n",
    "self = AMP(cycle_day=98, param=param_lst[0])\n",
    "self.get_X()\n",
    "self.get_terms()\n",
    "\n",
    "idx = ['term_code','pidm']\n",
    "X = self.X.copy()\n",
    "Y = {key:\n",
    "    pd.concat([T.reg for term_code, T in dct.items()])\n",
    "    .assign(credit_hr=lambda y: (y['crse_code']=='_allcrse')*(y['credit_hr']) + (y['crse_code']!='_allcrse')*(y['credit_hr']>0))\n",
    "    .sort_values(['crse_code',*idx])\n",
    "    .set_index(idx)\n",
    "    # .replace('_anycrse','_'+key)\n",
    "    for key, dct in self.terms.items()}\n",
    "\n",
    "courses = sorted(pd.concat(Y.values())['crse_code'].unique())\n",
    "courses.remove('_allcrse')\n",
    "attr = ['id','levl_code','styp_code','admit','enroll','matric','variable']\n",
    "crse = {'crse_code':'variable','credit_hr':'value'}\n",
    "def g(key):\n",
    "    qry = \"crse_code=='_anycrse'\"\n",
    "    h = lambda D: D[key].drop(columns=crse, errors='ignore').melt(ignore_index=False)\n",
    "    Z = pd.concat([\n",
    "        X['current']           [[]].assign(variable='admit' , value=True),\n",
    "        Y['current'].query(qry)[[]].assign(variable='enroll', value=True),\n",
    "        Y['final'  ].query(qry)[[]].assign(variable='matric', value=True),\n",
    "        # Y[key].filter(crse).rename(columns=crse),\n",
    "        Y[key][crse.keys()].rename(columns=crse),\n",
    "        h(Y),\n",
    "        h(X),\n",
    "    ]).dropna().astype('string').groupby([*idx,'variable'], sort=False).first()\n",
    "    mask = Z.eval(\"variable in @attr\")\n",
    "    return (\n",
    "        Z[mask].unstack().droplevel(0,1).prep(bool=True)\n",
    "        .join(Z[~mask])\n",
    "        .query(\"levl_code=='ug' & styp_code in ('n','r','t')\")\n",
    "        .reset_index()\n",
    "        .assign(**{k: lambda z: encrypt(z[k]) for k in ['pidm','id']})\n",
    "        .set_index(idx+attr)\n",
    "    )\n",
    "Z = {'current':g('current').query('admit'), 'final':g('final').query('matric')}\n",
    "\n",
    "g = lambda df: df.groupby(['term_code','levl_code','styp_code','variable','value']).size()\n",
    "dct = {\n",
    "    'admit' : g(Z['current']),\n",
    "    'enroll': g(Z['current'].query('enroll')),\n",
    "    'matric': g(Z['final']),\n",
    "}\n",
    "dct['mlt'] = dct['matric'] / g(Z['final'].query('admit'))\n",
    "agg = pd.DataFrame(dct)"
   ]
  },
  {
   "cell_type": "code",
   "execution_count": null,
   "metadata": {},
   "outputs": [],
   "source": [
    "Y['final'].reset_index().query(\"(credit_hr.isnull() or credit_hr==0) and crse_code not in ['_allcrse','_anycrse']\").sort_values(['term_code','crse_code']).disp(100)"
   ]
  },
  {
   "cell_type": "code",
   "execution_count": null,
   "metadata": {},
   "outputs": [],
   "source": []
  },
  {
   "cell_type": "code",
   "execution_count": null,
   "metadata": {},
   "outputs": [],
   "source": [
    "X = self.X.query(f\"styp_code==@self.styp_code\").rename_axis(columns=None)#.rename(columns=lambda x:'__'+x)\n",
    "\n",
    "# trf = ColumnTransformer(self.param['trf'][2], remainder='drop', verbose_feature_names_out=False)\n",
    "# {x[0] for x in self.param['trf'][2]}.difference(X.columns)\n",
    "# # trf\n",
    "# X_trf = trf.fit_transform(X)#.prep(bool=True, cat=True)\n",
    "# X.rename_axis(columns='')\n"
   ]
  },
  {
   "cell_type": "code",
   "execution_count": null,
   "metadata": {},
   "outputs": [],
   "source": [
    "crse_code = 'math1314'\n",
    "self.X.join(self.Y.loc[crse_code]).fillna({c:False for c in self.Y.columns})"
   ]
  },
  {
   "cell_type": "code",
   "execution_count": null,
   "metadata": {},
   "outputs": [],
   "source": [
    "from LiveAMP import *\n",
    "self = AMP(cycle_day=98, param=param_lst[0])\n",
    "self.get_X()\n",
    "self.get_terms()\n",
    "\n",
    "idx = ['term_code','pidm']\n",
    "crse = {'crse_code':'variable','credit_hr':'value'}\n",
    "X = self.X.copy()\n",
    "\n",
    "\n",
    "Y = {key:\n",
    "    pd.concat([T.reg for term_code, T in dct.items()])\n",
    "    .dropna()\n",
    "    .sort_values(['crse_code',*idx])\n",
    "    .set_index(idx)\n",
    "    .assign(credit_hr=lambda y: (y['crse_code']=='_allcrse')*(y['credit_hr']) + (y['crse_code']!='_allcrse')*(y['credit_hr']>0))\n",
    "    for key, dct in self.terms.items()}\n",
    "\n",
    "idx = ['variable','term_code','pidm']\n",
    "attr = ['id','levl_code','styp_code','admit','enroll','matric']\n",
    "crse = {'crse_code':'variable','credit_hr':'value'}\n",
    "def g(key):\n",
    "    qry = \"crse_code=='_anycrse'\"\n",
    "    h = lambda D: D[key].drop(columns=crse, errors='ignore').melt(ignore_index=False)\n",
    "    Z = pd.concat([\n",
    "        X['current']           [[]].assign(variable='admit' , value=True),\n",
    "        Y['current'].query(qry)[[]].assign(variable='enroll', value=True),\n",
    "        Y['final'  ].query(qry)[[]].assign(variable='matric', value=True),\n",
    "        Y[key].filter(crse).rename(columns=crse),\n",
    "        h(Y),\n",
    "        h(X),\n",
    "    ]).dropna().astype('string').groupby(idx, sort=False).first()\n",
    "    mask = Z.eval(\"variable in @attr\")\n",
    "    return (\n",
    "        Z[mask].unstack(0).droplevel(0,1).prep(bool=True)\n",
    "        .join(Z[~mask])\n",
    "        .query(\"levl_code=='ug' & styp_code in ('n','r','t')\")\n",
    "        .reset_index()\n",
    "        .assign(pidm=lambda z: encrypt(z['pidm']), id=lambda z: encrypt(z['id']))\n",
    "        .set_index(idx+attr)\n",
    "    #     # .set_index(['variable',*idx,*attr])\n",
    "    )\n",
    "self.Z = {'current':g('current').query('admit'), 'final':g('final').query('matric')}\n",
    "# self.Z = {'current':g('current'), 'final':g('final')}\n"
   ]
  },
  {
   "cell_type": "code",
   "execution_count": null,
   "metadata": {},
   "outputs": [],
   "source": [
    "Y['final'].filter(crse).rename(columns=crse)"
   ]
  },
  {
   "cell_type": "code",
   "execution_count": null,
   "metadata": {},
   "outputs": [],
   "source": [
    "self.Z['final'].reset_index().missing()\n",
    "# self.Z['current'].query(\"id.isnull()\")"
   ]
  },
  {
   "cell_type": "code",
   "execution_count": null,
   "metadata": {},
   "outputs": [],
   "source": [
    "from LiveAMP import *\n",
    "self = AMP(cycle_day=98, param=param_lst[0])\n",
    "self.get_X()\n",
    "self.get_terms()\n",
    "\n",
    "idx = ['term_code','pidm']\n",
    "crse = {'crse_code':'variable','credit_hr':'value'}\n",
    "X = self.X.copy()\n",
    "\n",
    "\n",
    "Y = {key:\n",
    "    pd.concat([T.reg for term_code, T in dct.items()])\n",
    "    .sort_values(['crse_code',*idx])\n",
    "    .set_index(idx)\n",
    "    .assign(credit_hr=lambda y: (y['crse_code']=='_allcrse')*(y['credit_hr']) + (y['crse_code']!='_allcrse')*(y['credit_hr']>0))\n",
    "    for key, dct in self.terms.items()}\n",
    "\n",
    "courses = sorted(pd.concat(Y.values())['crse_code'].unique())\n",
    "courses.remove('_allcrse')\n",
    "idx = ['variable','term_code','pidm']\n",
    "attr = ['id','levl_code','styp_code','admit','enroll','matric']\n",
    "def g(key):\n",
    "    qry = \"crse_code=='_anycrse'\"\n",
    "    h = lambda D: D[key].drop(columns=crse, errors='ignore').melt(ignore_index=False)\n",
    "    Z = pd.concat([\n",
    "        X['current']           [[]].assign(variable='admit' , value=True),\n",
    "        Y['current'].query(qry)[[]].assign(variable='enroll', value=True),\n",
    "        Y['final'  ].query(qry)[[]].assign(variable='matric', value=True),\n",
    "        Y[key].filter(crse).rename(columns=crse),\n",
    "        h(Y),\n",
    "        h(X),\n",
    "    ]).dropna().astype('string').groupby(idx, sort=False).first()\n",
    "    mask = Z.eval(\"variable in @attr\")\n",
    "    return (\n",
    "        Z[mask].unstack(0).droplevel(0,1).prep(bool=True)\n",
    "        .join(Z[~mask])\n",
    "        .query(\"levl_code=='ug' & styp_code in ('n','r','t')\")\n",
    "        .reset_index()\n",
    "        .assign(**{k: lambda z: encrypt(z[k]) for k in ['pidm','id']})\n",
    "        .set_index(idx+attr)\n",
    "        # .set_index(['variable',*idx,*attr])\n",
    "    )\n",
    "Z = {'current':g('current').query('admit'), 'final':g('final').query('matric')}\n",
    "X = Z['current'].query(\"variable not in @courses\").unstack(0).droplevel(0,1).prep(bool=True)\n",
    "Y = [z.query(\"variable in @courses\").droplevel(attr).rename(columns={'value':key}) for key,z in Z.items()]\n",
    "Y = Y[0].join(Y[1], how='outer').prep(bool=True)\n",
    "\n",
    "g = lambda df: df.groupby(['term_code','levl_code','styp_code','variable','value']).size()\n",
    "dct = {\n",
    "    'admit' : g(Z['current']),\n",
    "    'enroll': g(Z['current'].query('enroll')),\n",
    "    'matric': g(Z['final']),\n",
    "}\n",
    "dct['mlt'] = dct['matric'] / g(Z['final'].query('admit'))\n",
    "agg = pd.DataFrame(dct)\n",
    "\n",
    "\n",
    "# crse_code = 'math1314'\n",
    "# for key, z in Z.items():\n",
    "#     X[key] = z.query(\"variable==@crse_code\").droplevel(attr).prep(bool=True)\n"
   ]
  },
  {
   "cell_type": "code",
   "execution_count": null,
   "metadata": {},
   "outputs": [],
   "source": [
    "Y.loc['math1314']"
   ]
  },
  {
   "cell_type": "code",
   "execution_count": null,
   "metadata": {},
   "outputs": [],
   "source": [
    "X['final'].drop(columns='value', errors='ignore').melt(ignore_index=False)#.melt(id_vars=idx)"
   ]
  },
  {
   "cell_type": "code",
   "execution_count": null,
   "metadata": {},
   "outputs": [],
   "source": [
    "Y = [z.query(\"variable in @courses\").droplevel(attr).rename(columns={'value':key}) for key,z in Z.items()]\n",
    "Y = Y[0].join(Y[1], how='outer').prep(bool=True)\n",
    "# pd.concat(Y, axis=1)"
   ]
  },
  {
   "cell_type": "code",
   "execution_count": null,
   "metadata": {},
   "outputs": [],
   "source": [
    "crse_code = 'math1314'\n",
    "Y.loc[crse_code]"
   ]
  },
  {
   "cell_type": "code",
   "execution_count": null,
   "metadata": {},
   "outputs": [],
   "source": [
    "Y.loc[:,:,'math1314']"
   ]
  },
  {
   "cell_type": "code",
   "execution_count": null,
   "metadata": {},
   "outputs": [],
   "source": [
    "crse_code = 'math1314'\n",
    "for key, z in Z.items():\n",
    "    z.query(\"variable==@crse_code\").rsindex(idx).prep(bool=True).disp()\n"
   ]
  },
  {
   "cell_type": "code",
   "execution_count": null,
   "metadata": {},
   "outputs": [],
   "source": [
    "Z['final'].query(\"variable==@crse_code\").droplevel(attr).prep()#.sum()"
   ]
  },
  {
   "cell_type": "code",
   "execution_count": null,
   "metadata": {},
   "outputs": [],
   "source": [
    "X = Z['current'].query(\"variable not in @courses\").unstack().droplevel(0,1).prep(bool=True)\n",
    "crse_code='math1314'\n",
    "print(X.shape)\n",
    "for key, z in Z.items():\n",
    "    X[key] = z.query(\"variable==@crse_code\").droplevel(attr).prep(bool=True)\n",
    "    # X[key] = z.query(\"variable==@crse_code\").droplevel(attr).astype('boolean')\n",
    "# y = [z.query(\"variable==@crse_code\").droplevel(attr).rename(columns={'value':key}) for key,z in Z.items()]\n",
    "# y[0]\n",
    "print(X.shape)\n",
    "X.iloc[:,-2:].sum()"
   ]
  },
  {
   "cell_type": "code",
   "execution_count": null,
   "metadata": {},
   "outputs": [],
   "source": [
    "X.dtypes"
   ]
  },
  {
   "cell_type": "code",
   "execution_count": null,
   "metadata": {},
   "outputs": [],
   "source": [
    "X.disp()"
   ]
  },
  {
   "cell_type": "code",
   "execution_count": null,
   "metadata": {},
   "outputs": [],
   "source": [
    "X['current'].sum()\n",
    "X.dtypes"
   ]
  },
  {
   "cell_type": "code",
   "execution_count": null,
   "metadata": {},
   "outputs": [],
   "source": [
    "X = Z['current'].query(\"variable not in @courses\").unstack().droplevel(0,1).prep(bool=True)\n",
    "y = [z.query(\"variable in @courses\").droplevel(attr).rename(columns={'value':key}) for key,z in Z.items()]\n",
    "y = y[0].join(y[1], how='outer').prep(bool=True)\n",
    "y"
   ]
  },
  {
   "cell_type": "code",
   "execution_count": null,
   "metadata": {},
   "outputs": [],
   "source": [
    "Z['final'].groupby(['term_code','levl_code','styp_code','variable','value'])"
   ]
  },
  {
   "cell_type": "code",
   "execution_count": null,
   "metadata": {},
   "outputs": [],
   "source": [
    "z = Z['final']\n",
    "mask = z.isnull().any(axis=1)\n",
    "z[mask]"
   ]
  },
  {
   "cell_type": "code",
   "execution_count": null,
   "metadata": {},
   "outputs": [],
   "source": [
    "# y = [z.droplevel(attr).query(\"variable in @courses\") for key,z in Z.items()]\n",
    "y = [z.droplevel(attr).query(\"variable in @courses\").rename(columns={'value':key}) for key,z in Z.items()]\n",
    "y[0]\n",
    "# pd.concat(y, axis=1)"
   ]
  },
  {
   "cell_type": "code",
   "execution_count": null,
   "metadata": {},
   "outputs": [],
   "source": [
    "X = Z['current'].query(\"variable not in @courses\").unstack().droplevel(0,1).prep(bool=True)\n",
    "y = [z.query(\"variable in @courses\").droplevel(attr).rename(columns={'value':key}) for key,z in Z.items()]\n",
    "\n",
    "# y = [z.droplevel(attr).query(\"variable in @courses\").rename(columns={'value':key}) for key,z in Z.items()]\n",
    "# y = y[0].join(y[1], how='outer').prep(bool=True)\n",
    "# pd.concat(y, axis=1)\n"
   ]
  },
  {
   "cell_type": "code",
   "execution_count": null,
   "metadata": {},
   "outputs": [],
   "source": [
    "y"
   ]
  },
  {
   "cell_type": "code",
   "execution_count": null,
   "metadata": {},
   "outputs": [],
   "source": [
    "crse_code = 'math1314'\n",
    "X.join(y.query(f\"variable==@crse_code\"))"
   ]
  },
  {
   "cell_type": "code",
   "execution_count": null,
   "metadata": {},
   "outputs": [],
   "source": [
    "y"
   ]
  },
  {
   "cell_type": "code",
   "execution_count": null,
   "metadata": {},
   "outputs": [],
   "source": [
    "crse_code = 'math1314'\n",
    "X.join(y.query(\"variable==@crse_code\")).droplevel(['id','enroll'])\n"
   ]
  },
  {
   "cell_type": "code",
   "execution_count": null,
   "metadata": {},
   "outputs": [],
   "source": [
    "#.sum(axis=1).value_counts()\n",
    "\n",
    "# y[0].to_frame().join(y[1], how='outer')#.sum(axis=1).value_counts()\n",
    "\n",
    "\n",
    "# y = {key: z.query(\"variable in @courses\").squeeze().prep().rename(key) for key,z in Z.items()}\n",
    "# pd.DataFrame(y)\n",
    "# y['final'].reset_index().min()"
   ]
  },
  {
   "cell_type": "code",
   "execution_count": null,
   "metadata": {},
   "outputs": [],
   "source": [
    "y = {key: z.query(\"variable in @courses\").rename(columns={'value':key}).prep() for key,z in Z.items()}\n",
    "# pd.concat(y.values(), axis=1)\n",
    "y['current'].join(y['final']).sum(axis=1).value_counts()\n",
    "# y = pd.concat([Z[key].query(\"variable in @courses\").\n",
    "# y = pd.DataFrame({key: z.query(\"variable in @courses\").squeeze() for key,z in Z.items()})\n",
    "# y"
   ]
  },
  {
   "cell_type": "code",
   "execution_count": null,
   "metadata": {},
   "outputs": [],
   "source": [
    "X"
   ]
  },
  {
   "cell_type": "code",
   "execution_count": null,
   "metadata": {},
   "outputs": [],
   "source": []
  },
  {
   "cell_type": "code",
   "execution_count": null,
   "metadata": {},
   "outputs": [],
   "source": []
  },
  {
   "cell_type": "code",
   "execution_count": null,
   "metadata": {},
   "outputs": [],
   "source": [
    "dct['mlt'].query(\"variable=='_allcrse'\")"
   ]
  },
  {
   "cell_type": "code",
   "execution_count": null,
   "metadata": {},
   "outputs": [],
   "source": []
  },
  {
   "cell_type": "code",
   "execution_count": null,
   "metadata": {},
   "outputs": [],
   "source": [
    "Z['current'].query(\"variable=='act_equiv'\")"
   ]
  },
  {
   "cell_type": "code",
   "execution_count": null,
   "metadata": {},
   "outputs": [],
   "source": [
    "Z = pd.concat([\n",
    "    X['current']['apdc_day'].rename('admitted'),\n",
    "    *[y.query(\"crse_code=='_allcrse'\")['credit_hr'].rename(key) for key,y in Y.items()]\n",
    "    ])\n",
    "Z"
   ]
  },
  {
   "cell_type": "code",
   "execution_count": null,
   "metadata": {},
   "outputs": [],
   "source": [
    "Z = (pd.concat([\n",
    "    X['current']['apdc_day'].rename('admitted'),\n",
    "    *[y.query(\"crse_code=='_allcrse'\")['credit_hr'].rename(key) for key,y in Y.items()]\n",
    "    ], axis=1) > 0).fillna(False)\n",
    "mask = Z.sum(axis=1) == 0\n",
    "Z[mask]\n",
    "Z.melt(ignore_index=False)"
   ]
  },
  {
   "cell_type": "code",
   "execution_count": null,
   "metadata": {},
   "outputs": [],
   "source": [
    "# Z = (\n",
    "#     X['current'][[]].assign(current=True)\n",
    "#     .join(Y['final'].query(\"crse_code=='_allcrse' & credit_hr>0\")[[]].assign(final=True), how='outer')\n",
    "#     .prep(bool=True).fillna(False)\n",
    "#     .assign(yld=lambda z: z.all(axis=1))\n",
    "# )\n",
    "# Z['yield'] = Z['current'] & Z['final']\n",
    "qry = \"crse_code=='_allcrse' & credit_hr>0\"\n",
    "Z = pd.concat([\n",
    "    X['current']           [[]].assign(admitted=True),\n",
    "    Y['current'].query(qry)[[]].assign(enrolled=True),\n",
    "    Y['final'  ].query(qry)[[]].assign(final   =True),\n",
    "    ], axis=1).prep(bool=True).fillna(False)\n",
    "# A = X['current'][].assign(current=True).join(Y['final'].query(\"crse_code=='_allcrse' & credit_hr>0\")[[]].assign(final=True), how='outer').prep(bool=True).fillna(False)\n",
    "\n",
    "                                           \n",
    "                                           \n",
    "                                        #    .query([[]].assign(current=True))\n",
    "  "
   ]
  },
  {
   "cell_type": "code",
   "execution_count": null,
   "metadata": {},
   "outputs": [],
   "source": [
    "# Y['final'].query(\"crse_code=='_allcrse' & credit_hr>0\")\n",
    "Y['final'].query(\"pidm.notnull()\")"
   ]
  },
  {
   "cell_type": "code",
   "execution_count": null,
   "metadata": {},
   "outputs": [],
   "source": [
    "X['final']"
   ]
  },
  {
   "cell_type": "code",
   "execution_count": null,
   "metadata": {},
   "outputs": [],
   "source": [
    "A = X['current'][[]]#.assign(a=True)\n",
    "B = X['final'][[]]#.assign(b=True)\n",
    "A.join(B, how='outer')"
   ]
  },
  {
   "cell_type": "code",
   "execution_count": null,
   "metadata": {},
   "outputs": [],
   "source": [
    "A = pd.concat([x[[]].assign(**{key:True}).prep() for key,x in X.items()], axis=1).fillna(False)\n",
    "A#.query('pidm==2376')"
   ]
  },
  {
   "cell_type": "code",
   "execution_count": null,
   "metadata": {},
   "outputs": [],
   "source": [
    "Z['current'].query(\"variable not in @courses\")\n"
   ]
  },
  {
   "cell_type": "code",
   "execution_count": null,
   "metadata": {},
   "outputs": [],
   "source": [
    "A.query(\"variable=='_anycrse'\").disp(30)\n",
    "B.query(\"variable=='_anycrse'\").disp(30)\n",
    "C.query(\"variable=='_anycrse'\").disp(30)"
   ]
  },
  {
   "cell_type": "code",
   "execution_count": null,
   "metadata": {},
   "outputs": [],
   "source": [
    "agg = lambda df, nm: df.groupby(['term_code','levl_code','styp_code','variable','value']).size().squeeze().rename(nm)\n",
    "A = agg(Z['current']                 , 'current')\n",
    "B = agg(Z['current'].query(\"final>0\"), 'yield')\n",
    "C = agg(Z['final'  ].query(\"final>0\"), 'final')\n",
    "M = pd.concat([A,B,C], axis=1)\n",
    "M['mlt'] = M['final'] / M['yield']\n",
    "M.query(\"variable=='_anycrse'\")\n",
    "# C.query(\"variable=='_anycrse'\").disp(30)\n",
    "\n",
    "# M = {key: z.groupby(['term_code','levl_code','styp_code','variable','value']).size() for key, z in Z.items()}\n",
    "# M = {key: z.groupby(['term_code','levl_code','styp_code','variable','value']).size() for key, z in Z.items()}\n",
    "# M['current']\n",
    "# Z['current']"
   ]
  },
  {
   "cell_type": "code",
   "execution_count": null,
   "metadata": {},
   "outputs": [],
   "source": [
    "M = pd.concat([A,B,C], axis=1)\n",
    "M['mlt'] = M['final'] / M['yield']\n",
    "M.query(\"variable=='_anycrse'\")"
   ]
  },
  {
   "cell_type": "code",
   "execution_count": null,
   "metadata": {},
   "outputs": [],
   "source": [
    "Z['current'].reset_index().dtypes"
   ]
  },
  {
   "cell_type": "code",
   "execution_count": null,
   "metadata": {},
   "outputs": [],
   "source": [
    "# Q = {key: z.query(\"variable not in @courses\") for key, z in Z.items()}\n",
    "Z['final']"
   ]
  },
  {
   "cell_type": "code",
   "execution_count": null,
   "metadata": {},
   "outputs": [],
   "source": [
    "Z['final'].query(\"id.isnull() & variable=='styp_code'\")#.vc('styp_code')"
   ]
  },
  {
   "cell_type": "code",
   "execution_count": null,
   "metadata": {},
   "outputs": [],
   "source": [
    "M = {key: z.groupby(['term_code','levl_code','styp_code','variable','value']).size() for key, z in Z.items()}"
   ]
  },
  {
   "cell_type": "code",
   "execution_count": null,
   "metadata": {},
   "outputs": [],
   "source": [
    "# Z['current'].query(\"variable=='styp_code'\").groupby(['term_code','levl_code','styp_code','variable','value']).size().query(\"variable=='styp_code'\")\n",
    "Z['current'].groupby(['term_code','levl_code','styp_code','variable','value']).size().query(\"variable=='styp_code'\")"
   ]
  },
  {
   "cell_type": "code",
   "execution_count": null,
   "metadata": {},
   "outputs": [],
   "source": [
    "# mlt = M['final'] / M['current']\n",
    "# mlt.query(\"variable=='_anycrse'\")\n",
    "# M['current'].vc('variable')#.query(\"variable=='_anycrse'\")\n",
    "M['current'].query(\"variable=='styp_code'\")"
   ]
  },
  {
   "cell_type": "code",
   "execution_count": null,
   "metadata": {},
   "outputs": [],
   "source": [
    "courses[:10]"
   ]
  },
  {
   "cell_type": "code",
   "execution_count": null,
   "metadata": {},
   "outputs": [],
   "source": [
    "Y = {key: z.query(\"variable in @courses\").prep(bool=True) for key, z in Z.items()}\n",
    "Y['final']#.reset_index().dtypes"
   ]
  },
  {
   "cell_type": "code",
   "execution_count": null,
   "metadata": {},
   "outputs": [],
   "source": [
    "X = {key: z.query(\"variable not in @courses\").unstack().droplevel(0,1).prep(bool=True) for key, z in Z.items()}\n",
    "X['final'].reset_index().dtypes"
   ]
  },
  {
   "cell_type": "code",
   "execution_count": null,
   "metadata": {},
   "outputs": [],
   "source": [
    "Z['final'].query(\"variable not in @courses\").unstack().droplevel(0,1)"
   ]
  },
  {
   "cell_type": "code",
   "execution_count": null,
   "metadata": {},
   "outputs": [],
   "source": [
    "courses = pd.concat(Y.values())['crse_code'].unique().tolist()\n",
    "courses"
   ]
  },
  {
   "cell_type": "code",
   "execution_count": null,
   "metadata": {},
   "outputs": [],
   "source": [
    "a = Z['current']\n",
    "a\n",
    "mask = a.eval(\"variable in @attr\")\n",
    "c = a[mask].unstack().droplevel(0,1).set_index(attr, append=True).join(a[~mask])\n",
    "c\n",
    "# a[~mask].join(b)\n",
    "\n",
    "# .squeeze().rename('styp_code').droplevel('variable')\n",
    "# a.join(b)\n",
    "# pd.concat([a,], axis=1)"
   ]
  },
  {
   "cell_type": "code",
   "execution_count": null,
   "metadata": {},
   "outputs": [],
   "source": [
    "X['final']"
   ]
  },
  {
   "cell_type": "code",
   "execution_count": null,
   "metadata": {},
   "outputs": [],
   "source": [
    "from LiveAMP import *\n",
    "# Flags().run()\n",
    "self = AMP(cycle_day=98, param=param_lst[0])\n",
    "self.get_X()\n",
    "self.get_terms()\n",
    "\n",
    "X = self.X.copy()\n",
    "idx  = ['term_code','pidm']\n",
    "Y = {key: pd.concat([\n",
    "    T.reg\n",
    "    # .fillna({'credit_hr':0})\n",
    "    # .query('credit_hr>0')\n",
    "    .assign(pidm=lambda x: encrypt(x['pidm']))\n",
    "\n",
    "    # .assign(pidm=lambda x: encrypt(x['pidm']), variable='crse_code')#, value=lambda x: x['crse_code'])\n",
    "    .set_index(idx)\n",
    "    # .rename(columns={'crse_code':'level', 'credit_hr':'value'})\n",
    "    # .prep(bool=True)\n",
    "    \n",
    "#     .filter(col)\n",
    "for term_code, T in dct.items()]) for key, dct in self.terms.items()}\n",
    "\n",
    "# E = {key: y.query(\"value=='_allcrse'\")[attr] for key, y in Y.items()}\n",
    "# E['final']\n",
    "# # A = pd.concat(E.values(), axis=1, join='outer')\n",
    "# A = E['current'].join(E['final'], how='outer', lsuffix='_x', rsuffix='_y')\n",
    "# mask = A['levl_code_x'] != A['levl_code_y']\n",
    "# mask = A['styp_code_x'] != A['styp_code_y']\n",
    "# A[mask]\n",
    "# # A.query()\n",
    "# Y['final'].droplevel(attr).join(X['final'], how='outer')\n",
    "Y['final']\n",
    "col = ['crse_code','credit_hr']\n",
    "a = Y['final'].drop(columns=col)\n",
    "a"
   ]
  },
  {
   "cell_type": "code",
   "execution_count": null,
   "metadata": {},
   "outputs": [],
   "source": [
    "C.sort_values('variable')\n",
    "courses = C['variable'].unique().tolist()\n",
    "courses"
   ]
  },
  {
   "cell_type": "code",
   "execution_count": null,
   "metadata": {},
   "outputs": [],
   "source": [
    "col = ['crse_code','credit_hr']\n",
    "C = Y['final'].filter(col).sort_values('crse_code').rename(columns={'crse_code':'variable','credit_hr':'value'})\n",
    "A = Y['final'].drop(columns=col).melt(ignore_index=False)\n",
    "B = X['final'].set_index(['term_code','pidm'])[['id','levl_code','styp_code','distance','international']].melt(ignore_index=False)\n",
    "D = pd.concat([A,B,C]).groupby([*idx,'variable'], sort=False).first()\n",
    "D.query(\"variable in @courses\")\n",
    "D.query(\"variable not in @courses\").unstack().droplevel(0,1)"
   ]
  },
  {
   "cell_type": "code",
   "execution_count": null,
   "metadata": {},
   "outputs": [],
   "source": [
    "D.unstack(sort=False).prep(bool=True).disp()"
   ]
  },
  {
   "cell_type": "code",
   "execution_count": null,
   "metadata": {},
   "outputs": [],
   "source": [
    "from LiveAMP import *\n",
    "# Flags().run()\n",
    "self = AMP(cycle_day=98, param=param_lst[0])\n",
    "self.get_X()\n",
    "self.get_terms()\n",
    "# self = run_amp(98)\n",
    "\n",
    "idx = ['term_code','pidm','id']\n",
    "attr = ['levl_code','styp_code']\n",
    "col = ['variable','value',*idx,*attr,'current','final']\n",
    "# col = attr + ['variable','value','current','final']\n",
    "X = self.X.copy()\n",
    "Y = {key: pd.concat([\n",
    "    T.reg\n",
    "    # .fillna({'credit_hr':0})\n",
    "    # .query('credit_hr>0')\n",
    "    .rename(columns={'crse_code':'value', 'credit_hr':key})\n",
    "    .assign(pidm=lambda x: encrypt(x['pidm']), variable='crse_code')#, value=lambda x: x['crse_code'])\n",
    "    .prep(bool=True)\n",
    "    .sindex(idx)\n",
    "    .filter(col)\n",
    "for term_code, T in dct.items()]) for key, dct in self.terms.items()}\n",
    "\n",
    "\n",
    "f = lambda df: (df.query(\"value=='_allcrse'\") if 'value' in df else df).filter(col)\n",
    "A = (\n",
    "    f(X['current'])\n",
    "    .join(f(X['final'  ]), how='outer', lsuffix='currentX', rsuffix='finalX')\n",
    "    .join(f(Y['current']), how='outer')\n",
    "    .join(f(Y['final'  ]), how='outer', lsuffix='currentY', rsuffix='finalY')\n",
    "    .fillna({'current':0,'final':0})\n",
    ")\n",
    "g = lambda a, b: f(A.assign(**{key: A[key+a].combine_first(A[key+b]) for key in attr}))#.set_index(attr, append=True)\n",
    "# g = lambda a, b: f(Z.assign(levl_code=Z['levl_code'+a].combine_first(Z['levl_code'+b]), styp_code=Z['styp_code'+a].combine_first(Z['styp_code'+b])))\n",
    "Z = {'current': g('currentX', 'currentY'), 'final':g('finalY', 'finalX')}\n",
    "h = lambda dct: {key: dct[key].drop(columns=z.columns, errors='ignore').join(z).set_index(attr, append=True) for key, z in Z.items()}\n",
    "X = h(X)\n",
    "Y = h(Y)\n",
    "Z['current']\n",
    "A\n",
    "# qry = f\"levl_code == 'ug' & styp_code in ('n','r','t')\"\n",
    "# # grp = ['variable','value','term_code'] + attr\n",
    "# col.remove('pidm')\n",
    "# col.remove('id')\n",
    "# col\n",
    "# aggy = lambda y: y.query(qry).groupby(col).size()\n",
    "# aggy(Y['current'])"
   ]
  },
  {
   "cell_type": "code",
   "execution_count": null,
   "metadata": {},
   "outputs": [],
   "source": [
    "X = self.X.copy()\n",
    "f = lambda df: (df.query(\"value=='_allcrse'\") if 'value' in df else df).filter(attr+val)\n",
    "A = (\n",
    "    f(X['current'])\n",
    "    .join(f(X['final'  ]), how='outer', lsuffix='currentX', rsuffix='finalX')\n",
    "    .join(f(Y['current']), how='outer')\n",
    "    .join(f(Y['final'  ]), how='outer', lsuffix='currentY', rsuffix='finalY')\n",
    ")\n",
    "g = lambda a, b: f(A.assign(**{key: A[key+a].combine_first(A[key+b]) for key in attr}))#.set_index(attr, append=True)\n",
    "# g = lambda a, b: f(Z.assign(levl_code=Z['levl_code'+a].combine_first(Z['levl_code'+b]), styp_code=Z['styp_code'+a].combine_first(Z['styp_code'+b])))\n",
    "Z = {'current': g('currentX', 'currentY'), 'final':g('finalY', 'finalX')}\n",
    "h = lambda dct: {key: dct[key].drop(columns=z.columns, errors='ignore').join(z).set_index(attr, append=True) for key, z in Z.items()}\n",
    "X = h(X)\n",
    "Y = h(Y)\n",
    "# X['current']\n",
    "Z['current']"
   ]
  },
  {
   "cell_type": "code",
   "execution_count": null,
   "metadata": {},
   "outputs": [],
   "source": [
    "Z['current']"
   ]
  },
  {
   "cell_type": "code",
   "execution_count": null,
   "metadata": {},
   "outputs": [],
   "source": [
    "Y['current']"
   ]
  },
  {
   "cell_type": "code",
   "execution_count": null,
   "metadata": {},
   "outputs": [],
   "source": [
    "def g(A,B):\n",
    "    C = A.join(B, how='outer', rsuffix='_x')\n",
    "    for key in attr:\n",
    "        C[key] = C[key].combine_first(C[key+'_x'])\n",
    "        C = C.drop(columns=key+'_x')\n",
    "    return C\n",
    "g(E['current'], E['final'])\n",
    "\n",
    "# Z = pd.concat([e for key, e in E.items()], axis=1)\n",
    "# E['current'].join(E['final'], how='outer', rsuffix='_x')\n",
    "\n",
    "# Z\n",
    "\n",
    "# E['current']"
   ]
  },
  {
   "cell_type": "code",
   "execution_count": null,
   "metadata": {},
   "outputs": [],
   "source": [
    "E['final']"
   ]
  },
  {
   "cell_type": "code",
   "execution_count": null,
   "metadata": {},
   "outputs": [],
   "source": [
    "def g(A,B):\n",
    "    C = A.join(B, rsuffix='_x')\n",
    "    for key in attr:\n",
    "        C[key] = C[key].combine_first(C[key+'_x'])\n",
    "        C = C.drop(columns=key+'_x')\n",
    "    return C\n",
    "\n",
    "\n",
    "A = X['current']\n",
    "B = E['current'][[]]\n",
    "g(A,B)\n",
    "# C = A.join(B, rsuffix='_x')\n",
    "# for key in attr:\n",
    "#     C[key] = C[key].combine_first(C[key+'_x'])\n",
    "#     C = C.drop(columns=key+'_x')\n",
    "# # C = C.drop(columns=[key])\n",
    "# C"
   ]
  },
  {
   "cell_type": "code",
   "execution_count": null,
   "metadata": {},
   "outputs": [],
   "source": [
    "X['final']"
   ]
  },
  {
   "cell_type": "code",
   "execution_count": null,
   "metadata": {},
   "outputs": [],
   "source": [
    "Y['current']"
   ]
  },
  {
   "cell_type": "code",
   "execution_count": null,
   "metadata": {},
   "outputs": [],
   "source": []
  },
  {
   "cell_type": "code",
   "execution_count": null,
   "metadata": {},
   "outputs": [],
   "source": [
    "Z = Y['current'].query(\"value=='_allcrse'\")[['current']].join(Y['final'].query(\"value=='_allcrse'\")[['final']], how='outer')\n",
    "Z.notnull().sum(axis=1).query('pidm==9568241')#.describe()\n",
    "# Z.query('pidm==9568241').disp(100)"
   ]
  },
  {
   "cell_type": "code",
   "execution_count": null,
   "metadata": {},
   "outputs": [],
   "source": [
    "ids"
   ]
  },
  {
   "cell_type": "code",
   "execution_count": null,
   "metadata": {},
   "outputs": [],
   "source": [
    "X = self.X.copy()\n",
    "XX = pd.concat(X.values())\n",
    "idx = ['cycle_day','term_code','pidm','id']\n",
    "XXX = XX.groupby(idx).size()\n",
    "XXX[XXX>0]#.vc('term_code')\n",
    "XXX.vc('cycle_day')\n",
    "# XX.query(f\"term_code==202408 & pidm==9175235\").drop_duplicates().disp(5)"
   ]
  },
  {
   "cell_type": "code",
   "execution_count": null,
   "metadata": {},
   "outputs": [],
   "source": [
    "ids = pd.concat(X.values())[idx].drop_duplicates()#.groupby(idx).first()\n",
    "ids"
   ]
  },
  {
   "cell_type": "code",
   "execution_count": null,
   "metadata": {},
   "outputs": [],
   "source": [
    "Y = {key: pd.concat([\n",
    "    T.reg\n",
    "    .assign(pidm=lambda x: encrypt(x['pidm']), variable='crse_code', value=lambda x: x['crse_code'])\n",
    "    .fillna({'credit_hr':0})\n",
    "    .query('credit_hr>0')\n",
    "    .merge(ids, how='left')\n",
    "    .prep(bool=True)\n",
    "    # .set_index(idx)\n",
    "    .rename(columns={'credit_hr':key})\n",
    "    [[*idx,*attr,'variable','value',key]]\n",
    "    # [[*idx,key]]\n",
    "#     # .sindex(idx)\n",
    "#     # ['credit_hr']\n",
    "#     # .rename(key)\n",
    "for term_code, T in dct.items()]) for key, dct in self.terms.items()}\n",
    "Y['final']\n",
    "# X['current']\n",
    "# [idx].drop_duplicates()\n",
    "# idx += col\n",
    "# X"
   ]
  },
  {
   "cell_type": "code",
   "execution_count": null,
   "metadata": {},
   "outputs": [],
   "source": [
    "X = self.X.copy()\n",
    "idx = ['term_code','pidm','id']\n",
    "col = ['levl_code','styp_code']\n",
    "ids = pd.concat(X.values())[idx].drop_duplicates()\n",
    "idx += col\n",
    "idx = ['variable','value',*idx,*col]\n",
    "Y = {key: pd.concat([\n",
    "    T.reg\n",
    "    .assign(pidm=lambda x: encrypt(x['pidm']), variable='crse_code', value=lambda x: x['crse_code'])\n",
    "    .fillna({'credit_hr':0})\n",
    "    .query('credit_hr>0')\n",
    "    .merge(ids, how='left')\n",
    "    .prep(bool=True)\n",
    "    .set_index(idx)\n",
    "    .rename(columns={'credit_hr':key})\n",
    "    [[key]]\n",
    "    # [[*idx,key]]\n",
    "#     # .sindex(idx)\n",
    "#     # ['credit_hr']\n",
    "#     # .rename(key)\n",
    "for term_code, T in dct.items()]) for key, dct in self.terms.items()}\n",
    "z = Y['current'].droplevel(col).join(Y['final'].droplevel(col))\n",
    "\n",
    "def g(A, B):\n",
    "    C = A.reset_index().merge(B.reset_index(), on=idx, how='outer', suffixes=('','_x'))\n",
    "    for key in col:\n",
    "        C[key] = C[key].combine_first(C[key+'_x'])\n",
    "    C = C.groupby(idx+col).first()[[]]\n",
    "    return A.droplevel(col).join(C), B.droplevel(col).join(C)\n",
    "X['current'], Y['current'] = g(X['current'], Y['current'])\n",
    "Y['final'  ], X['final'  ] = g(Y['final'  ], X['final'  ])\n",
    "\n",
    "for key in ['current','final']:\n",
    "    X[key] = X[key].join(z)"
   ]
  },
  {
   "cell_type": "code",
   "execution_count": null,
   "metadata": {},
   "outputs": [],
   "source": [
    "X['current']"
   ]
  },
  {
   "cell_type": "code",
   "execution_count": null,
   "metadata": {},
   "outputs": [],
   "source": [
    "z"
   ]
  },
  {
   "cell_type": "code",
   "execution_count": null,
   "metadata": {},
   "outputs": [],
   "source": [
    "X['current'].query('term_code==202408')\n",
    "X['final'].query('term_code==202408')"
   ]
  },
  {
   "cell_type": "code",
   "execution_count": null,
   "metadata": {},
   "outputs": [],
   "source": [
    "mask = z['current'] != z['final']\n",
    "z[mask]"
   ]
  },
  {
   "cell_type": "code",
   "execution_count": null,
   "metadata": {},
   "outputs": [],
   "source": [
    "# X, Y = self.X.copy(), self.Y.copy()\n",
    "# z = pd.concat([y.query(f\"value=='_allcrse'\").rsindex(['pidm','id','term_code']) for key,y in Y.items()], axis=1)\n",
    "def g(A, B):\n",
    "    idx = ['pidm','id','term_code']\n",
    "    col = ['levl_code','styp_code']\n",
    "    C = A.reset_index().merge(B.reset_index(), on=idx, how='outer', suffixes=('','_x'))\n",
    "    for key in col:\n",
    "        C[key] = C[key].combine_first(C[key+'_x'])\n",
    "    C = C.groupby(idx+col).first()[[]]\n",
    "    return A.droplevel(col).join(C), B.droplevel(col).join(C)\n",
    "X['current'], Y['current'] = g(X['current'], Y['current'])\n",
    "Y['final'  ], X['final'  ] = g(Y['final'  ], X['final'  ])\n",
    "\n",
    "for key in ['current','final']:\n",
    "    X[key] = X[key].join(z)"
   ]
  },
  {
   "cell_type": "code",
   "execution_count": null,
   "metadata": {},
   "outputs": [],
   "source": [
    "X['final']"
   ]
  },
  {
   "cell_type": "code",
   "execution_count": null,
   "metadata": {},
   "outputs": [],
   "source": [
    "z"
   ]
  },
  {
   "cell_type": "code",
   "execution_count": null,
   "metadata": {},
   "outputs": [],
   "source": [
    "X['final']"
   ]
  },
  {
   "cell_type": "code",
   "execution_count": null,
   "metadata": {},
   "outputs": [],
   "source": [
    "Y['final']"
   ]
  },
  {
   "cell_type": "code",
   "execution_count": null,
   "metadata": {},
   "outputs": [],
   "source": [
    "Q = Y['final'].groupby(['value','pidm','id','term_code']).size()\n",
    "Q[Q>1]"
   ]
  },
  {
   "cell_type": "code",
   "execution_count": null,
   "metadata": {},
   "outputs": [],
   "source": [
    "# Z = drp(E['current']).join(drp(E['final']), how='outer')\n",
    "# {key: y.query(f\"value=='_allcrse'\").rename(columns={'credit_hr':key}) for key,y in Y.items()}\n",
    "z = pd.concat([y.query(f\"value=='_allcrse'\").rsindex(['pidm','id','term_code']).rename(columns={'credit_hr':key}) for key,y in Y.items()], axis=1)\n",
    "\n",
    "#     # .groupby(['pidm','id','term_code'], dropna=False)\n",
    "#     # .sum()\n",
    "#     # .rsindex(['pidm','id'])\n",
    "#     # .squeeze()\n",
    "#     # .rename(key)\n",
    "# for key,y in Y.items()], axis=1)\n",
    "z\n",
    "# z[0]\n",
    "# pd.concat(z, axis=1)"
   ]
  },
  {
   "cell_type": "code",
   "execution_count": null,
   "metadata": {},
   "outputs": [],
   "source": [
    "z[0]"
   ]
  },
  {
   "cell_type": "code",
   "execution_count": null,
   "metadata": {},
   "outputs": [],
   "source": [
    "Y['current']"
   ]
  },
  {
   "cell_type": "code",
   "execution_count": null,
   "metadata": {},
   "outputs": [],
   "source": [
    "for key in ['current','final']:\n",
    "    X[key] = X[key].join(Y['current'])\n",
    "X['']"
   ]
  },
  {
   "cell_type": "code",
   "execution_count": null,
   "metadata": {},
   "outputs": [],
   "source": [
    "Y['final']"
   ]
  },
  {
   "cell_type": "code",
   "execution_count": null,
   "metadata": {},
   "outputs": [],
   "source": [
    "X, Y = self.X.copy(), self.Y.copy()\n",
    "def g(A, B):\n",
    "    # g = lambda df: df.reset_index().set_index(['pidm','id','term_code'])\n",
    "    idx = ['pidm','id','term_code']\n",
    "    col = ['levl_code','styp_code']\n",
    "    C = A.reset_index().set_index(idx)[col].join(B.reset_index().set_index(idx)[col], how='outer', rsuffix='_x')\n",
    "    # C = A[[]].reset_index(col).rsindex().join(B[[]].reset_index(col).rsindex(), how='outer', rsuffix='_x')\n",
    "    for key in col:\n",
    "        C[key] = C[key].combine_first(C[key+'_x'])\n",
    "    C[col].disp(3)\n",
    "    C = C.set_index(col, append=True)[[]]\n",
    "    return A.droplevel(col).join(C), B.droplevel(col).join(C)\n",
    "g(X['current'], Y['current'])\n",
    "# C = A.merge(B, on=['pidm','id','term_code'], how='outer', suffixes=('','_x'))\n",
    "# C['levl_code'] = C['levl_code'].combine_first(C['levl_code_x'])\n",
    "# C['styp_code'] = C['styp_code'].combine_first(C['styp_code_x'])\n",
    "# C.drop(['levl_code_y','styp_code_y'])"
   ]
  },
  {
   "cell_type": "code",
   "execution_count": null,
   "metadata": {},
   "outputs": [],
   "source": [
    "X, Y = self.X.copy(), self.Y.copy()\n",
    "idx = ['variable','value','id','pidm','levl_code','styp_code','term_code']\n",
    "qry = f\"levl_code == 'ug' & styp_code in ('n','r','t')\"\n",
    "E = {key: y.query(\"value=='_allcrse'\").droplevel(['variable','value']).rename(columns={'credit_hr':key}) for key, y in Y.items()}  # only rows for _allcrse\n",
    "drp = lambda df: df.droplevel(['levl_code','styp_code'])\n",
    "E['current'] = drp(E['current']).join(X['current'][[]], how='outer')  # X determines current levl_code & styp_code\n",
    "X['final'  ] = drp(X['final'  ]).join(E['final'  ][[]], how='outer')  # E determines final   levl_code & styp_code\n",
    "Z = drp(E['current']).join(drp(E['final']), how='outer')\n",
    "for key in ['final','current']:\n",
    "    X[key] = X[key].join(Z)  # join current & final credit hours\n",
    "Y = {key: drp(y[[]]).join(E[key][[]]) for key, y in Y.items()}  # copy levl_code & stype_code from E to Y\n",
    "\n",
    "# E['current'] = E['current'].droplevel(col).join(X['current'][[]], how='outer')  # X determines current levl_code & styp_code\n",
    "# X['final'  ] = X['final'  ].droplevel(col).join(E['final'  ][[]], how='outer')  # E determines final   levl_code & styp_code\n",
    "# z = E['current'].droplevel(col).join(E['final'].droplevel(col), how='outer')\n",
    "\n",
    "# for key in ['final','current']:\n",
    "#     X[key] = X[key].join(E['current'].droplevel(col)).join(E['final'].droplevel(col))  # join current & final credit hours\n",
    "# Y = {key: y[[]].droplevel(col).join(E[key][[]]) for key, y in Y.items()}  # copy levl_code & stype_code from E to Y\n",
    "cols = sorted(c for c in X['final'].select_dtypes(['string','boolean']).columns if \"_missing\" not in c and \"_code\" not in c)\n",
    "idx.remove('id')\n",
    "idx.remove('pidm')\n",
    "aggy = lambda y: y.query(qry).groupby(idx).size()\n",
    "# aggx = lambda x: aggy(x[cols].melt(ignore_index=False))\n",
    "# def get_df(dct):\n",
    "#     Y = pd.concat(dct, axis=1).prep().fillna(0)\n",
    "#     Y['mlt'] = Y['final'] / Y['admitted']\n",
    "#     Y[np.isinf(Y)] = pd.NA\n",
    "#     return Y#.rename(columns=lambda x: \"term_code_\"+x)\n",
    "\n",
    "AY = get_df({\n",
    "    'current': aggy(Y['current']),\n",
    "    'admitted': aggy(Y['current'][[]].join(drp(Y['final']), how='inner')),\n",
    "    'final': aggy(Y['final']),\n",
    "})\n",
    "# AX = get_df({\n",
    "#     'current': aggx(X['current'].query(\"current.notnull()\")),\n",
    "#     'admitted': aggx(X['current'].query(\"final.notnull()\")),\n",
    "#     'final': aggx(X['final'].query(\"final.notnull()\")),\n",
    "# })\n",
    "\n",
    "# AX.query(f\"value in ('_allcrse','biol1406') & term_code==202408\")\n"
   ]
  },
  {
   "cell_type": "code",
   "execution_count": null,
   "metadata": {},
   "outputs": [],
   "source": [
    "aggy(X['current'][[]].join(drp(Y['final']), how='inner'))"
   ]
  },
  {
   "cell_type": "code",
   "execution_count": null,
   "metadata": {},
   "outputs": [],
   "source": [
    "aggy(Y['current'][[]].join(drp(Y['final']), how='inner'))\n",
    "# drp(Y['final'])"
   ]
  },
  {
   "cell_type": "code",
   "execution_count": null,
   "metadata": {},
   "outputs": [],
   "source": [
    "E['current'].droplevel(col).join(E['final'].droplevel(col), how='outer')"
   ]
  },
  {
   "cell_type": "code",
   "execution_count": null,
   "metadata": {},
   "outputs": [],
   "source": [
    "Y['current']#.query(\"current.notnull()\")['current'].min()"
   ]
  },
  {
   "cell_type": "code",
   "execution_count": null,
   "metadata": {},
   "outputs": [],
   "source": [
    "AX"
   ]
  },
  {
   "cell_type": "code",
   "execution_count": null,
   "metadata": {},
   "outputs": [],
   "source": [
    "qry = f\"term_code==202408 & styp_code=='r' & pidm in [9207146,9240010,10313929]\"\n",
    "X['current'].query(qry).disp(10)\n",
    "X['final'].query(qry).disp(10)\n",
    "qry += \" &value=='biol1406'\"\n",
    "Y['current'].query(qry).disp(10)\n",
    "Y['final'].query(qry).disp(10)"
   ]
  },
  {
   "cell_type": "code",
   "execution_count": null,
   "metadata": {},
   "outputs": [],
   "source": [
    "\n"
   ]
  },
  {
   "cell_type": "code",
   "execution_count": null,
   "metadata": {},
   "outputs": [],
   "source": [
    "\n",
    "\n",
    "# E['final'  ] = E['final'  ].droplevel(col).join(X['final'  ][[]], how='outer')  # copy id from X to E\n",
    "# E['current'] = E['current'].droplevel(col).join(X['current'][[]], how='outer')  # X determines current levl_code, styp_code, & credit_hr\n",
    "\n",
    "# X['current'] = X['current'].join(E['current'], how='outer')  # copy current credit_hr from E to X\n",
    "\n",
    "# X['current'] = X['current'].join(E['final'  ].droplevel(col)    , how='outer')  # copy final credit_hr from E to X\n",
    "# X['final'  ] = X['final'  ].join(E['current'].droplevel(col)    , how='outer')  # copy current credit_hr from E to X\n",
    "\n",
    "# Y = {key: y[[]].droplevel(col).join(E[key][[]]) for key, y in Y.items()}  # copy levl_code & stype_code from E to Y\n",
    "\n",
    "# cols = sorted(c for c in X['final'].select_dtypes(['string','boolean']).columns if \"_missing\" not in c and \"_code\" not in c)\n",
    "# idx.remove('id')\n",
    "# idx.remove('pidm')\n",
    "# aggy = lambda y: y.query(qry).groupby(idx).size()\n",
    "# aggx = lambda x: aggy(x[cols].melt(ignore_index=False))\n",
    "# def get_df(dct):\n",
    "#     Y = pd.concat(dct, axis=1).prep().fillna(0)\n",
    "#     Y['mlt'] = Y['final'] / Y['admitted']\n",
    "#     Y[np.isinf(Y)] = pd.NA\n",
    "#     return Y#.rename(columns=lambda x: \"term_code_\"+x)\n",
    "\n",
    "# AY = get_df({\n",
    "#     'current': aggy(Y['current']),\n",
    "#     'admitted': aggy(X['current'][[]].join(Y['final'].droplevel(col))),\n",
    "#     'final': aggy(Y['final']),\n",
    "# })\n",
    "# AY.query(f\"value in ('_allcrse','biol1406')\")"
   ]
  },
  {
   "cell_type": "code",
   "execution_count": null,
   "metadata": {},
   "outputs": [],
   "source": [
    "Y['final'].vc('styp_code')"
   ]
  },
  {
   "cell_type": "code",
   "execution_count": null,
   "metadata": {},
   "outputs": [],
   "source": [
    "id = pd.concat(X.values())[[]].groupby(['id','pidm']).first()\n",
    "Y['current'].join(id)\n",
    "# A = Y['current'].join(#.drop_duplicates().set_index('pidm'))\n",
    "# A = Y['current'].join(pd.concat(X.values()).reset_index()[['id','pidm']].drop_duplicates().set_index('pidm'))\n",
    "# A\n",
    "# A.query('id.isnull()').vc('styp_code')\n",
    "# X['final']"
   ]
  },
  {
   "cell_type": "code",
   "execution_count": null,
   "metadata": {},
   "outputs": [],
   "source": [
    "pd.concat(X.values()).reset_index()[['id','pidm']].drop_duplicates()"
   ]
  },
  {
   "cell_type": "code",
   "execution_count": null,
   "metadata": {},
   "outputs": [],
   "source": [
    "key = 'final'\n",
    "X[key].query(qry).query(\"term_code==202408\")#.query(\"pidm==9175235\")\n",
    "# E[key].query(qry).query(\"term_code==202408\")\n",
    "# Y[key].droplevel(col).join(E[key][[]])"
   ]
  },
  {
   "cell_type": "code",
   "execution_count": null,
   "metadata": {},
   "outputs": [],
   "source": [
    "Y['final'].query(qry).query('term_code==202408')"
   ]
  },
  {
   "cell_type": "code",
   "execution_count": null,
   "metadata": {},
   "outputs": [],
   "source": [
    "X, Y = self.X.copy(), self.Y.copy()\n",
    "idx = ['variable','value','id','pidm','levl_code','styp_code','term_code']\n",
    "\n",
    "E = {key, y.query(\"value=='_allcrse'\").droplevel(['variable','value']).squeeze() for key, y in Y.items()}  # only rows for _allcrse\n",
    "E[0] = E[0].rename('final').to_frame()\n",
    "E[1] = E[1].rename('current').to_frame()\n",
    "col = ['levl_code','styp_code']\n",
    "X[0] = X[0].droplevel(col).join(E[0], how='outer')  # E[0] determines final levl_code, styp_code, & credit_hr\n",
    "E[0] = E[0].droplevel(col).join(X[0][[]], how='outer')  # copy id from X[0] to E[0]\n",
    "E[1] = E[1].droplevel(col).join(X[1][[]], how='outer')  # X[1] determines current levl_code & styp_code\n",
    "X[1] = X[1].droplevel(col).join(E[1], how='outer')  # copy current credit_hr from E[1] to X[1]\n",
    "X[1] = X[1].join(E[0].droplevel(col), how='outer')  # copy final credit_hr from E[0] to X[1]\n",
    "X[0] = X[0].join(E[1].droplevel(col), how='outer')  # copy current credit_hr from E[1] to X[0]\n",
    "Y = [y[[]].droplevel(col).join(e[[]]) for y,e in zip(Y,E)]  # copy levl_code & stype_code from E to Y\n",
    "qry = f\"levl_code == 'ug' & styp_code in ('n','r','t')\"\n",
    "cols = sorted(c for c in X[0].select_dtypes(['string','boolean']).columns if \"_missing\" not in c and \"_code\" not in c)\n",
    "idx.remove('id')\n",
    "idx.remove('pidm')\n",
    "aggy = lambda y: y.query(qry).groupby(idx).size()\n",
    "aggx = lambda x: aggy(x[cols].melt(ignore_index=False))\n",
    "def get_df(dct):\n",
    "    Y = pd.concat(dct, axis=1).prep().fillna(0)\n",
    "    Y['mlt'] = Y['final'] / Y['admitted']\n",
    "    Y[np.isinf(Y)] = pd.NA\n",
    "    return Y#.rename(columns=lambda x: \"term_code_\"+x)\n",
    "\n",
    "AY = get_df({\n",
    "    'current': aggy(Y[1]),\n",
    "    'admitted': aggy(X[1][[]].join(Y[0].droplevel(col))),\n",
    "    'final': aggy(Y[0]),\n",
    "})"
   ]
  },
  {
   "cell_type": "code",
   "execution_count": null,
   "metadata": {},
   "outputs": [],
   "source": [
    "Y[0]\n",
    "X[1]"
   ]
  },
  {
   "cell_type": "code",
   "execution_count": null,
   "metadata": {},
   "outputs": [],
   "source": [
    "AY.query(f\"value in ('_allcrse','biol1406')\")"
   ]
  },
  {
   "cell_type": "code",
   "execution_count": null,
   "metadata": {},
   "outputs": [],
   "source": [
    "self.mlt.query(f'term_code==202408')#.vc('term_code')"
   ]
  },
  {
   "cell_type": "code",
   "execution_count": null,
   "metadata": {},
   "outputs": [],
   "source": [
    "M = self.mlt.copy().reset_index()\n",
    "# M['mlt_code'] = M['term_code']\n",
    "# M = pd.concat([M, M.assign(term_code=self.proj_code)]).set_index(['variable','levl_code','styp_code','term_code','mlt_code','value'])\n",
    "# M.groupby(['variable','term_code','styp_code'])\n",
    "M.query(\"value=='_allcrse'\")"
   ]
  },
  {
   "cell_type": "code",
   "execution_count": null,
   "metadata": {},
   "outputs": [],
   "source": [
    "variable = 'crse_code'\n",
    "grp = [variable,'levl_code','styp_code','term_code','train_code','sim','trf_hash','imp_hash','clf_hash']\n",
    "S = (Z\n",
    "    .groupby(grp).apply(lambda y: pd.Series({\n",
    "            'predict': y['proba'].sum(),\n",
    "            'test_score': log_loss(y['actual'], y['proba'], labels=[False,True]) * 100,\n",
    "        }), include_groups=False)\n",
    "    .join(self.train_score)\n",
    "    # .join(self.mlt.query(\"variable==@variable\").droplevel('variable').rename_axis(index={'value':variable}))\n",
    "    .reset_index()\n",
    ")\n",
    "S\n",
    "# S['train_code'] = S['train_code'].astype('string').replace(str(self.proj_code), 'all')\n",
    "# S['predict'] *= S['mlt']\n",
    "# alpha = 1\n",
    "# S['overall_score'] = (S['train_score'] + alpha * S['test_score']) / (1 + alpha)\n",
    "# S"
   ]
  },
  {
   "cell_type": "code",
   "execution_count": null,
   "metadata": {},
   "outputs": [],
   "source": [
    "msk = S.eval(\"term_code == @self.proj_code\")\n",
    "proj_col = f'{self.proj_code}_projection'\n",
    "S['predict'] *= S['mlt']\n",
    "# T = S[~msk].join(S[msk].droplevel('term_code')['predict'].rename(proj_col))\n",
    "\n",
    "# for k in ['predict',proj_col]:\n",
    "#     T[k] *= T['mlt']\n",
    "\n",
    "\n",
    "    # [[proj_col,'current','admitted','final','predict','overall_score']]\n",
    "# )\n",
    "S.disp(100)"
   ]
  },
  {
   "cell_type": "code",
   "execution_count": null,
   "metadata": {},
   "outputs": [],
   "source": [
    "L = [pd.concat([df.droplevel('term_code')], axis=1, keys=[term_code]) for term_code, df in A.groupby('term_code')]\n",
    "df = pd.concat(L, axis=1)\n",
    "df\n",
    "# pd.concat([df], axis=1, keys=['C'])\n",
    "# def g(df):\n",
    "#     df.columns = pd.MultiIndex.from_product([['C'], df.columns, ])\n",
    "# df.columns = [['c']*df.shape[1], df.columns]\n",
    "# df\n",
    "# df.addlevel?\n",
    "# df.set_index?\n",
    "# df.columns.levels\n",
    "# pd.MultiIndex.from_product([df.columns, ['C']])"
   ]
  },
  {
   "cell_type": "code",
   "execution_count": null,
   "metadata": {},
   "outputs": [],
   "source": [
    "A = S#[['predict']]\n",
    "idx = list(A.index.names)\n",
    "idx.remove('term_code')\n",
    "idx\n",
    "B = A.reset_index().pivot_table(\n",
    "    index=idx,\n",
    "    # values=['term_code','predict','current'],\n",
    "    # values=['predict','current'],\n",
    "    columns='term_code',\n",
    "    # values='term_code',\n",
    ")\n",
    "C = B.swaplevel(0,1,1)\n",
    "C[sorted(C.columns)]"
   ]
  },
  {
   "cell_type": "code",
   "execution_count": null,
   "metadata": {},
   "outputs": [],
   "source": [
    "S.groupby('term_code')\n",
    "S.pivot_table?"
   ]
  },
  {
   "cell_type": "code",
   "execution_count": null,
   "metadata": {},
   "outputs": [],
   "source": [
    "self.Y.reset_index().dtypes"
   ]
  },
  {
   "cell_type": "code",
   "execution_count": null,
   "metadata": {},
   "outputs": [],
   "source": [
    "self.X"
   ]
  },
  {
   "cell_type": "code",
   "execution_count": null,
   "metadata": {},
   "outputs": [],
   "source": [
    "self.Y"
   ]
  },
  {
   "cell_type": "code",
   "execution_count": null,
   "metadata": {},
   "outputs": [],
   "source": [
    "self.stack.keys()\n",
    "# ['coll_desc']['mean'].keys()"
   ]
  },
  {
   "cell_type": "code",
   "execution_count": null,
   "metadata": {},
   "outputs": [],
   "source": [
    "s = {3}\n",
    "s.add(4)\n",
    "s"
   ]
  },
  {
   "cell_type": "code",
   "execution_count": null,
   "metadata": {},
   "outputs": [],
   "source": [
    "from LiveAMP import *\n",
    "# A = read('/home/scook/institutional_data_analytics/admitted_matriculation_projection/resources/rslt/105/result/n/_allcrse/77d9/77d7/bb31.pkl')\n",
    "A = read('/home/scook/institutional_data_analytics/admitted_matriculation_projection/resources/rslt/105/stack.pkl')\n",
    "A.keys()"
   ]
  },
  {
   "cell_type": "code",
   "execution_count": null,
   "metadata": {},
   "outputs": [],
   "source": [
    "self.get_X()\n",
    "stack = {'Y': dict()}\n",
    "for fn in sorted((self.root_path / 'result').rglob('*.pkl')):\n",
    "    self.load(fn, force=True)\n",
    "    self.load(str(fn).replace('result','Y'), force=True)\n",
    "    stack['Y'][self.crse_code] = self.Y\n",
    "    for k, v in self.result.items():\n",
    "        for stat, df in v.items():\n",
    "            stack.setdefault(k, dict()).setdefault(stat, dict())[self.crse_code] = df\n",
    "Y = stack['Y']['_allcrse'].groupby(['pidm','pred_code']).agg(actual=('actual','mean'), proba_mean=('proba','mean'), proba_stdev=('proba','std'))\n",
    "Z = self.X.join(Y).prep(bool=True)\n",
    "# Z.to_excel(self.root_path / f'AMP_details_{self.cycle_date.date()}.xlsx')\n",
    "Z.to_csv(self.root_path / f'AMP_details_{self.cycle_date.date()}.csv')\n",
    "\n",
    "for k, v in stack.items():\n",
    "    if k != 'Y':\n",
    "        stack[k] = {stat: pd.concat(dct.values()) for stat, dct in v.items()}\n",
    "    else:\n",
    "        stack[k] = pd.concat(v.values())\n",
    "\n",
    "with pd.ExcelWriter(self.root_path / f'AMP_{self.cycle_date.date()}.xlsx') as writer:\n",
    "    for k, v in stack.items():\n",
    "        if k != 'Y':\n",
    "            v['mean'].droplevel(['trf_hash','imp_hash','clf_hash']).round(2).prep().to_excel(writer, sheet_name=k)\n",
    "\n",
    "# stack['Z'] = self.X.join(Y).prep(bool=True)\n"
   ]
  },
  {
   "cell_type": "code",
   "execution_count": null,
   "metadata": {},
   "outputs": [],
   "source": [
    "self.stack['Z']"
   ]
  },
  {
   "cell_type": "code",
   "execution_count": null,
   "metadata": {},
   "outputs": [],
   "source": [
    "with pd.ExcelWriter(self.root_path / f'AMP_summary_{self.cycle_date.date()}.xlsx') as writer:\n",
    "    "
   ]
  },
  {
   "cell_type": "code",
   "execution_count": null,
   "metadata": {},
   "outputs": [],
   "source": [
    "# stack['crse_code']['summary']#['biol1407']\n",
    "# stack['Y']\n",
    "# details\n",
    "self.stack['crse_code']['mean']#.keys()"
   ]
  },
  {
   "cell_type": "code",
   "execution_count": null,
   "metadata": {},
   "outputs": [],
   "source": [
    "self.stack['crse_code']['biol1407'].keys()\n",
    "# self.stack['Y'].keys()"
   ]
  },
  {
   "cell_type": "code",
   "execution_count": null,
   "metadata": {},
   "outputs": [],
   "source": [
    "self.result['coll_desc']['mean']"
   ]
  },
  {
   "cell_type": "code",
   "execution_count": null,
   "metadata": {},
   "outputs": [],
   "source": [
    "X = self.X.query(f\"styp_code==@self.styp_code\").rename(columns=lambda x:'__'+x)"
   ]
  },
  {
   "cell_type": "code",
   "execution_count": null,
   "metadata": {},
   "outputs": [],
   "source": [
    "import dill\n",
    "path = '/home/scook/institutional_data_analytics/admitted_matriculation_projection/resources/rslt/105/X.pkl'\n",
    "with open(path, 'rb') as f:\n",
    "    A = dill.load(f)\n"
   ]
  },
  {
   "cell_type": "code",
   "execution_count": null,
   "metadata": {},
   "outputs": [],
   "source": [
    "for k,v in A.items():\n",
    "    print(k, type(v))"
   ]
  },
  {
   "cell_type": "code",
   "execution_count": null,
   "metadata": {},
   "outputs": [],
   "source": [
    "g = lambda y, nm: y.query(f\"value=='{self.crse_code}'\").droplevel('value').assign(**{nm:True})\n",
    "Z = (\n",
    "    self.X_proc\n",
    "    .join(g(self.y[1],'registered'))\n",
    "    .join(g(self.y[0],'actual'))\n",
    "    .prep(bool=True, cat=True)\n",
    "    .fillna({'registered':False,'actual':False})\n",
    ")\n",
    "\n",
    "train_code = 202108\n",
    "\n",
    "stratify = ['actual','__act_equiv_missing','pidm']\n",
    "grp = ['pred_code','sim']\n",
    "qry = f\"pred_code=={train_code}\" if train_code != self.proj_code else f\"pred_code!={train_code}\"\n",
    "X_model = (Z\n",
    "    .query(qry)\n",
    "    .sort_values(stratify, ascending=False).copy()\n",
    "    .groupby(grp).filter(lambda x: x['actual'].sum() >= 5)\n",
    "    .assign(msk = lambda x: x.groupby(grp).cumcount() % 5 > 0)\n",
    ")\n",
    "X_model['msk'] = X_model.groupby(grp).cumcount() % 5 > 0\n"
   ]
  },
  {
   "cell_type": "code",
   "execution_count": null,
   "metadata": {},
   "outputs": [],
   "source": [
    "Z"
   ]
  },
  {
   "cell_type": "code",
   "execution_count": null,
   "metadata": {},
   "outputs": [],
   "source": [
    "def intersection(*args, sort=False, **kwargs):\n",
    "    L = [listify(x) for x in args]\n",
    "    y = [x for x in L[0] if x in set(L[0]).intersection(*L)]\n",
    "    return mysort(y, **kwargs) if sort else y\n",
    "\n",
    "A = [2,1]\n",
    "B = [1,2,3]\n",
    "C = [2,4,1]\n",
    "D = 1\n",
    "intersection(A,B,C, sort=True)"
   ]
  },
  {
   "cell_type": "code",
   "execution_count": null,
   "metadata": {},
   "outputs": [],
   "source": [
    "import dill, pathlib, pandas as pd\n",
    "class T():\n",
    "    def __init__(self):\n",
    "        self.df = pd.DataFrame()\n",
    "        self.df['A'] = [1,2,3]\n",
    "\n",
    "t = T()\n",
    "path = pathlib.Path('/home/scook/institutional_data_analytics/admitted_matriculation_projection/admitted_matriculation_predictor/test_linux.pkl')\n",
    "with open(path, 'wb') as file:\n",
    "    dill.dump(t, file)"
   ]
  },
  {
   "cell_type": "code",
   "execution_count": null,
   "metadata": {},
   "outputs": [],
   "source": [
    "self.get_X()\n",
    "self.X"
   ]
  },
  {
   "cell_type": "code",
   "execution_count": null,
   "metadata": {},
   "outputs": [],
   "source": [
    "from LiveAMP import *\n",
    "T = Term(cycle_day=0, term_code=202308)\n",
    "T.get_adm()\n",
    "self = run_amp(119)"
   ]
  },
  {
   "cell_type": "code",
   "execution_count": null,
   "metadata": {},
   "outputs": [],
   "source": [
    "self = AMP().load('/home/scook/institutional_data_analytics/admitted_matriculation_projection/resources/rslt/119/X.pkl')\n",
    "del self['path']\n",
    "# del self['X']\n",
    "# del self['Y']\n",
    "# del self['y']\n",
    "# del self['mlt']\n",
    "# del self['aggregations']\n",
    "del self['root_path']\n",
    "self.dump('/home/scook/institutional_data_analytics/admitted_matriculation_projection/resources/rslt/119/X.pkl')\n",
    "self.__dict__.keys()"
   ]
  },
  {
   "cell_type": "code",
   "execution_count": null,
   "metadata": {},
   "outputs": [],
   "source": [
    "# self.X.join(self.Y).groupby(['pred_code','pidm'])['proba'].agg(('mean','std'])\n",
    "Y = self.stack['Y']['_allcrse'].groupby(['pidm','pred_code']).agg(actual=('actual','mean'), proba_mean=('proba','mean'), proba_stdev=('proba','std')).prep(bool=True)\n",
    "# Z = self.Y.join(self.X)\n",
    "# Z['proba'] *= 100\n",
    "# var().sort_values(ascending=False)"
   ]
  },
  {
   "cell_type": "code",
   "execution_count": null,
   "metadata": {},
   "outputs": [],
   "source": [
    "Z"
   ]
  },
  {
   "cell_type": "code",
   "execution_count": null,
   "metadata": {},
   "outputs": [],
   "source": [
    "Z.groupby(['pred_code','pidm']).agg(actual=('actual','mean'), proba_mean=('proba','mean'), proba_stdev=('proba','std')).prep(bool=True)"
   ]
  },
  {
   "cell_type": "code",
   "execution_count": null,
   "metadata": {},
   "outputs": [],
   "source": [
    "df = pd.DataFrame()\n",
    "df['a'] = [2,1,pd.NA]\n",
    "df.sort_values(['a','a'])\n",
    "df.query('a>1')"
   ]
  },
  {
   "cell_type": "code",
   "execution_count": null,
   "metadata": {},
   "outputs": [],
   "source": [
    "variable = 'gender'\n",
    "self.mlt.query(f\"variable=='{variable}'\").droplevel(['variable']).rename_axis(index={'value':variable})"
   ]
  },
  {
   "cell_type": "code",
   "execution_count": null,
   "metadata": {},
   "outputs": [],
   "source": [
    "from LiveAMP import *\n",
    "fn = '/home/scook/institutional_data_analytics/admitted_matriculation_projection/resources/rslt/119/rslt_camp_desc/n/_allcrse/77d9/77d7/fb12.pkl'\n",
    "A = read(fn)"
   ]
  },
  {
   "cell_type": "code",
   "execution_count": null,
   "metadata": {},
   "outputs": [],
   "source": [
    "from LiveAMP import *\n",
    "# Flags().run()\n",
    "self = run_amp(105)\n",
    "1# self = AMP(cycle_day=105, styp_code='n', crse_code='_allcrse', param=cartesian(param_dcts)[0])\n",
    "# self.get_result('gender')\n",
    "# # self.get_Y()\n",
    "# self.get_Y()\n",
    "\n",
    "# # self.get_X_proc()\n",
    "# self.get_X()\n",
    "\n",
    "# variable = 'gender'\n",
    "# self.get_result(variable)\n",
    "# self.mlt.query(f\"variable=='{variable}'\").droplevel(['variable']).rename_axis(index={'value':variable})\n",
    "# self.qry(self.mlt, variable).rename_axis(index={'value':variable})\n",
    "# self.get_terms()\n",
    "# self = run_amp(119, overwrite=[])"
   ]
  },
  {
   "cell_type": "code",
   "execution_count": null,
   "metadata": {},
   "outputs": [],
   "source": [
    "import pathlib\n",
    "root = pathlib.Path('/content')\n",
    "# a = 'first'\n",
    "a = ''\n",
    "b = 'second'\n",
    "c = root / a / b\n",
    "str(c)\n"
   ]
  },
  {
   "cell_type": "code",
   "execution_count": null,
   "metadata": {},
   "outputs": [],
   "source": [
    "x = 'HI'.lower()\n",
    "x."
   ]
  },
  {
   "cell_type": "code",
   "execution_count": null,
   "metadata": {},
   "outputs": [],
   "source": [
    "self.root_path"
   ]
  },
  {
   "cell_type": "code",
   "execution_count": null,
   "metadata": {},
   "outputs": [],
   "source": [
    "for k,v in self.__dict__.items():\n",
    "    print(k, type(v), isinstance(v, pathlib.PosixPath))\n"
   ]
  },
  {
   "cell_type": "code",
   "execution_count": null,
   "metadata": {},
   "outputs": [],
   "source": [
    "self.X.missing().disp(100)"
   ]
  },
  {
   "cell_type": "code",
   "execution_count": null,
   "metadata": {},
   "outputs": [],
   "source": [
    "self.y[0].vc('pred_code')\n",
    "self.X.vc('pred_code')"
   ]
  },
  {
   "cell_type": "code",
   "execution_count": null,
   "metadata": {},
   "outputs": [],
   "source": [
    "self.X.vc('pred_code')"
   ]
  },
  {
   "cell_type": "code",
   "execution_count": null,
   "metadata": {},
   "outputs": [],
   "source": [
    "self.Y.vc('pred_code')"
   ]
  },
  {
   "cell_type": "code",
   "execution_count": null,
   "metadata": {},
   "outputs": [],
   "source": [
    "variable = 'crse_code'\n",
    "variable = 'gender'\n",
    "grp = uniquify([variable,'levl_code','styp_code','train_code','pred_code','trf_hash','imp_hash','clf_hash','sim'])\n",
    "S = (\n",
    "    self.X\n",
    "    .join(self.Y, how='inner')\n",
    "    # .reset_index()\n",
    "    .groupby(grp).apply(lambda y: pd.Series({\n",
    "            # 'pred_code_final': y['actual'].sum(),\n",
    "            'pred_code_predict': y['proba'].sum(),\n",
    "            'test_score': log_loss(y['actual'], y['proba'], labels=[False,True]) * 100,\n",
    "        }), include_groups=False)\n",
    "    .join(self.train_score)\n",
    "    .join(self.mlt.query(f\"variable=='{variable}'\").droplevel('variable').rename_axis(index={'value':variable}))\n",
    ")\n",
    "alpha = 1\n",
    "S['overall_score'] = (S['train_score'] + alpha * S['test_score']) / (1 + alpha)\n",
    "# qry = lambda q: S.query(f\"pred_code=={q}\").droplevel('pred_code')\n",
    "# S = (S\n",
    "#     .join(qry(self.proj_code-100)['pred_code_current'].rename(prior_current))\n",
    "#     .join(qry(self.proj_code    )['pred_code_current'].rename(proj_current))\n",
    "#     .join(qry(self.proj_code-100)['pred_code_final'  ].rename(prior_final))\n",
    "#     .join(qry(self.proj_code    )['pred_code_predict'].rename(proj_predict))\n",
    "#     .query(f\"pred_code!={self.proj_code}\")\n",
    "#     .astype('Float64').fillna(0)\n",
    "# )\n",
    "\n",
    "S.vc('pred_code')"
   ]
  },
  {
   "cell_type": "code",
   "execution_count": null,
   "metadata": {},
   "outputs": [],
   "source": [
    "self.mlt"
   ]
  },
  {
   "cell_type": "code",
   "execution_count": null,
   "metadata": {},
   "outputs": [],
   "source": [
    "self.mlt.query(f\"variable=='{variable}'\").droplevel('variable').rename_axis(index={'value':variable})"
   ]
  },
  {
   "cell_type": "code",
   "execution_count": null,
   "metadata": {},
   "outputs": [],
   "source": [
    "self.mlt"
   ]
  },
  {
   "cell_type": "code",
   "execution_count": null,
   "metadata": {},
   "outputs": [],
   "source": []
  },
  {
   "cell_type": "code",
   "execution_count": null,
   "metadata": {},
   "outputs": [],
   "source": [
    "g = lambda y, nm: y.query(f\"value=='{self.crse_code}'\").droplevel('value').assign(**{nm:True})\n",
    "g(self.y[1], 'hi')"
   ]
  },
  {
   "cell_type": "code",
   "execution_count": null,
   "metadata": {},
   "outputs": [],
   "source": [
    "self.y_final"
   ]
  },
  {
   "cell_type": "code",
   "execution_count": null,
   "metadata": {},
   "outputs": [],
   "source": [
    "a = self.y_current.rsindex(['pidm','pred_code','value']).assign(current=True)\n",
    "a\n",
    "# crse_code = '_allcrse'\n",
    "# a.query(f\"value=='{crse_code}'\").droplevel('value').assign(current=True)\n",
    "# self.X"
   ]
  },
  {
   "cell_type": "code",
   "execution_count": null,
   "metadata": {},
   "outputs": [],
   "source": [
    "self.mlt"
   ]
  },
  {
   "cell_type": "code",
   "execution_count": null,
   "metadata": {},
   "outputs": [],
   "source": [
    "self.mlt"
   ]
  },
  {
   "cell_type": "code",
   "execution_count": null,
   "metadata": {},
   "outputs": [],
   "source": [
    "variable = 'crse_code'\n",
    "variable = 'gender'\n",
    "grp = uniquify([variable,'levl_code','styp_code','train_code','pred_code','trf_hash','imp_hash','clf_hash','sim'])\n",
    "S = (\n",
    "    self.X\n",
    "    .join(self.Y, how='inner')\n",
    "    # .reset_index()\n",
    "    .groupby(grp).apply(lambda y: pd.Series({\n",
    "            # 'pred_code_final': y['actual'].sum(),\n",
    "            'pred_code_predict': y['proba'].sum(),\n",
    "            'test_score': log_loss(y['actual'], y['proba'], labels=[False,True]) * 100,\n",
    "        }), include_groups=False)\n",
    "    .join(self.train_score)\n",
    "    # .join(self.qry(self.mlt, variable).rename_axis(index={'value':variable}).rename(columns=lambda x: \"pred_code_\"+x))\n",
    "    # .join(self.mlt.rename(columns=lambda x: \"pred_code_\"+x))\n",
    ")\n",
    "S"
   ]
  },
  {
   "cell_type": "code",
   "execution_count": null,
   "metadata": {},
   "outputs": [],
   "source": [
    "variable = 'gender'\n",
    "self.qry(self.mlt, variable)#.rename_axis(index={'value':variable}).rename(columns=lambda x: \"pred_code_\"+x)\n",
    "\n",
    "self.mlt.query(f\"variable=='{variable}'\").droplevel('variable').rename_axis(index={'value':variable})"
   ]
  },
  {
   "cell_type": "code",
   "execution_count": null,
   "metadata": {},
   "outputs": [],
   "source": [
    "self.mlt"
   ]
  },
  {
   "cell_type": "code",
   "execution_count": null,
   "metadata": {},
   "outputs": [],
   "source": [
    "\n",
    "self.X.join(self.Y)"
   ]
  },
  {
   "cell_type": "code",
   "execution_count": null,
   "metadata": {},
   "outputs": [],
   "source": [
    "self.Y"
   ]
  },
  {
   "cell_type": "code",
   "execution_count": null,
   "metadata": {},
   "outputs": [],
   "source": [
    "self.X.disp()"
   ]
  },
  {
   "cell_type": "code",
   "execution_count": null,
   "metadata": {},
   "outputs": [],
   "source": [
    "self.get_X()\n",
    "self.X.disp()"
   ]
  },
  {
   "cell_type": "code",
   "execution_count": null,
   "metadata": {},
   "outputs": [],
   "source": [
    "self.y_current"
   ]
  },
  {
   "cell_type": "code",
   "execution_count": null,
   "metadata": {},
   "outputs": [],
   "source": [
    "self.y_final.dtype"
   ]
  },
  {
   "cell_type": "code",
   "execution_count": null,
   "metadata": {},
   "outputs": [],
   "source": []
  },
  {
   "cell_type": "code",
   "execution_count": null,
   "metadata": {},
   "outputs": [],
   "source": [
    "qry = lambda y, value: y.query(f\"variable=='{value}'\").droplevel('variable')\n",
    "g = lambda y, nm: qry(y, self.crse_code).rename(nm)\n",
    "Z = (\n",
    "    self.X_proc\n",
    "    .join(g(self.y_current, 'registered'))\n",
    "    .join(g(self.y_final, 'actual'))\n",
    "    .prep(bool=True, cat=True)\n",
    "    .fillna({'registered':False, 'actual':False})\n",
    "    # .sort_index()\n",
    ")\n",
    "# g = lambda y: self.qry(y, self.crse_code)\n",
    "\n",
    "\n",
    "# g = lambda y: y.query(f\"variable=='{self.crse_code}'\").droplevel('variable')\n",
    "\n",
    "# if 'registration' in dct and dct.pop('registration'):\n",
    "#     Z = Z.join(g(self.y['current']))\n",
    "\n",
    "\n",
    "# if 'registration' in dct and dct.pop('registration'):\n",
    "#     Z = Z.join(self.credit).join(g(self.y['current']))\n",
    "# Z = (Z\n",
    "#     .join(g(self.y['admit'].rename('actual')))\n",
    "#     .fillna({'credit':0, 'current':False, 'actual':False})\n",
    "#     # .fillna({self.crse_code:False, 'current':False, 'credit':0})\n",
    "#     .prep(bool=True, cat=True)\n",
    "#     .sort_index()\n",
    "# )\n",
    "Z.vc('registered')\n",
    "Z"
   ]
  },
  {
   "cell_type": "code",
   "execution_count": null,
   "metadata": {},
   "outputs": [],
   "source": [
    "self.X"
   ]
  },
  {
   "cell_type": "code",
   "execution_count": null,
   "metadata": {},
   "outputs": [],
   "source": [
    "import dill, dataclasses, pandas as pd\n",
    "\n",
    "# @dataclasses.dataclass\n",
    "class MyClass():\n",
    "    def __init__(self):\n",
    "        self.df = pd.DataFrame()\n",
    "        self.df['A'] = [1,2,3]\n",
    "        self.df['B'] = ['kai','q','mumford']\n",
    "\n",
    "obj = MyClass()\n",
    "path = '/home/scook/institutional_data_analytics/admitted_matriculation_projection/admitted_matriculation_predictor/test2.pkl'\n",
    "with open(path, 'wb') as f:\n",
    "    dill.dump(obj, f)\n"
   ]
  },
  {
   "cell_type": "code",
   "execution_count": null,
   "metadata": {},
   "outputs": [],
   "source": [
    "obj.df"
   ]
  },
  {
   "cell_type": "code",
   "execution_count": null,
   "metadata": {},
   "outputs": [],
   "source": [
    "import dill\n",
    "path = '/home/scook/institutional_data_analytics/admitted_matriculation_projection/admitted_matriculation_predictor/test.pkl'\n",
    "with open(path, 'rb') as f:\n",
    "    obj = dill.load(f)\n",
    "obj.df"
   ]
  },
  {
   "cell_type": "code",
   "execution_count": null,
   "metadata": {},
   "outputs": [],
   "source": [
    "self.mlt"
   ]
  },
  {
   "cell_type": "code",
   "execution_count": null,
   "metadata": {},
   "outputs": [],
   "source": [
    "self.X[1][[]].join(self.Y[0].droplevel(col)).query(qry).groupby(['pred_code','levl_code','styp_code','variable','value']).size()"
   ]
  },
  {
   "cell_type": "code",
   "execution_count": null,
   "metadata": {},
   "outputs": [],
   "source": [
    "self.X[1].melt(ignore_index=False)"
   ]
  },
  {
   "cell_type": "code",
   "execution_count": null,
   "metadata": {},
   "outputs": [],
   "source": [
    "col = ['levl_code','styp_code']\n",
    "qry = f\"levl_code == 'ug' & styp_code in ('n','r','t') & pred_code!={self.proj_code}\"\n",
    "variables = ['gender','lgcy']\n",
    "aggy = lambda y: y.query(qry).groupby(['pred_code','levl_code','styp_code','variable','value']).size()\n",
    "aggx = lambda x: aggy(x[variables].melt(ignore_index=False))\n",
    "\n",
    "def get_df(dct):\n",
    "    Y = pd.DataFrame(dct).fillna(0).prep()\n",
    "    Y['mlt'] = Y['final'] / Y['admitted']\n",
    "    Y[np.isinf(Y)] = pd.NA\n",
    "    return Y\n",
    "\n",
    "AY = get_df({\n",
    "    'current': aggy(self.Y[1]),\n",
    "    'admitted': aggy(self.X[1][[]].join(self.Y[0].droplevel(col))),\n",
    "    'final': aggy(self.Y[0]),\n",
    "})\n",
    "\n",
    "AX = get_df({\n",
    "    'current': aggx(self.X[1].query(\"current.notnull()\")),\n",
    "    'admitted': aggx(self.X[1].query(\"final.notnull()\")),\n",
    "    'final': aggx(self.X[0].query(\"final.notnull()\")),\n",
    "})\n",
    "\n",
    "pd.concat([AX,AY])"
   ]
  },
  {
   "cell_type": "code",
   "execution_count": null,
   "metadata": {},
   "outputs": [],
   "source": [
    "self.X[1].disp()"
   ]
  },
  {
   "cell_type": "code",
   "execution_count": null,
   "metadata": {},
   "outputs": [],
   "source": [
    "final"
   ]
  },
  {
   "cell_type": "code",
   "execution_count": null,
   "metadata": {},
   "outputs": [],
   "source": [
    "self.X[0]"
   ]
  },
  {
   "cell_type": "code",
   "execution_count": null,
   "metadata": {},
   "outputs": [],
   "source": [
    "self.X[0].vc('value')"
   ]
  },
  {
   "cell_type": "code",
   "execution_count": null,
   "metadata": {},
   "outputs": [],
   "source": [
    "self.Y[1]"
   ]
  },
  {
   "cell_type": "code",
   "execution_count": null,
   "metadata": {},
   "outputs": [],
   "source": [
    "self.Y[0]"
   ]
  },
  {
   "cell_type": "code",
   "execution_count": null,
   "metadata": {},
   "outputs": [],
   "source": [
    "attr = ['gender','lgcy']\n",
    "grp = ['pred_code','levl_code','styp_code','variable','value']\n",
    "# X = self.X[1][attr].melt(ignore_index=False)\n",
    "aggy = lambda y: y.groupby(grp).size()\n",
    "aggx = lambda x: aggy(x[attr].droplevel('value').melt(ignore_index=False))\n",
    "current = aggx(self.X[1].query('value.notnull()'))\n",
    "final = aggx(self.X[0])\n",
    "# current = self.X[1].query(\"credit_hr>0\")[attr].melt(ignore_index=False).groupby(grp).size()\n",
    "X = self.X[0].droplevel('value').join(self.X[1][[]])\n",
    "admitted = aggx(X.query(\"value.notnull()\"))\n",
    "\n",
    "\n",
    "\n",
    "current = aggy(self.Y[1])\n",
    "final = aggy(self.Y[0])\n",
    "Y = self.Y[0].droplevel('value').join(self.Y[1][[]])\n",
    "admitted = aggy(Y.query(\"value.notnull()\"))\n",
    "final = aggy(Y)\n",
    "\n",
    "# final = X.groupby(grp).size()\n",
    "\n",
    "# current = self.Y[1].query(\"enrolled_ind\").melt(ignore_index=False).groupby(grp).size()\n",
    "\n",
    "# self.X[1].vc('enrolled_ind')\n",
    "\n",
    "# current#.disp(4)\n",
    "# Y\n",
    "# admitted\n",
    "final.query(\"variable=='_allcrse'\")\n",
    "# self.X[1]\n",
    "# X"
   ]
  },
  {
   "cell_type": "code",
   "execution_count": null,
   "metadata": {},
   "outputs": [],
   "source": [
    "self.Y[1].vc('value')"
   ]
  },
  {
   "cell_type": "code",
   "execution_count": null,
   "metadata": {},
   "outputs": [],
   "source": [
    "aggy(self.Y[0])"
   ]
  },
  {
   "cell_type": "code",
   "execution_count": null,
   "metadata": {},
   "outputs": [],
   "source": [
    "self.Y[0]"
   ]
  },
  {
   "cell_type": "code",
   "execution_count": null,
   "metadata": {},
   "outputs": [],
   "source": [
    "# self.X[1].melt(ignore_index=False).droplevel(['id','idx'])\n",
    "grp = ['pred_code','levl_code','styp_code','variable','value']\n",
    "col = ['gender','lgcy']\n",
    "aggy = lambda y: y.groupby(grp).size()\n",
    "aggx = lambda x: aggy(x[col].melt(ignore_index=False))\n",
    "aggx(self.X[0])\n",
    "aggx(self.X[0].join(self.X[1][[]].rsindex(['pidm','pred_code']), how='inner'))\n",
    "# aggy(self.Y[1])\n",
    "# self.X[0]\n",
    "# self.X[0]['credit_hr'].min()\n",
    "# self.X[1]\n",
    "# self.X[0][[]].rsindex(['pidm','pred_code'])"
   ]
  },
  {
   "cell_type": "code",
   "execution_count": null,
   "metadata": {},
   "outputs": [],
   "source": [
    "a = self.y0.query(f\"styp_code=='n' & variable=='_allcrse' & credit_hr>0\").groupby(['pred_code','styp_code']).size()\n",
    "# b = self.Y[0].query(f\"variable=='_allcrse' & styp_code=='n'\").groupby(['pred_code','styp_code']).sum()\n",
    "print(a)\n",
    "self.X0.query(f\"styp_code=='n' & enrolled_ind\").groupby(['pred_code','styp_code']).size()"
   ]
  },
  {
   "cell_type": "code",
   "execution_count": null,
   "metadata": {},
   "outputs": [],
   "source": [
    "y.vc('styp_code')"
   ]
  },
  {
   "cell_type": "code",
   "execution_count": null,
   "metadata": {},
   "outputs": [],
   "source": [
    "self.get_terms()\n",
    "self.terms[0][202308].cycle_date"
   ]
  },
  {
   "cell_type": "code",
   "execution_count": null,
   "metadata": {},
   "outputs": [],
   "source": [
    "# qry = f\"select * from opeir.registration_fall2023 A where A.current_date={dt('2023-09-13')} and pidm=1108765\"\n",
    "qry = f\"select * from opeir.registration_fall2021 A where pidm=1026466\"\n",
    "# 1111252\"\n",
    "db.execute(qry).disp(1000)"
   ]
  },
  {
   "cell_type": "code",
   "execution_count": null,
   "metadata": {},
   "outputs": [],
   "source": [
    "y = self.y0.to_frame().query(f\"variable=='_allcrse' & credit_hr>0 & pred_code<202408\").reset_index(['levl_code','styp_code','variable'], drop=True)\n",
    "# y = self.y0.to_frame().query(f\"variable=='_allcrse'\").reset_index('variable', drop=True).reset_index(['levl_code','styp_code'])\n",
    "X = self.X0.query(f\"styp_code=='n' & enrolled_ind\")[['enrolled_ind']]\n",
    "Z = X.join(y, how=\"left\")\n",
    "Z[Z.isnull().any(axis=1)]#.vc('pred_code')\n",
    "# y.join(X).vc(['pred_code','styp_code'])"
   ]
  },
  {
   "cell_type": "code",
   "execution_count": null,
   "metadata": {},
   "outputs": [],
   "source": [
    "y = self.y0.to_frame().query(f\"variable=='_allcrse' & credit_hr>0 & levl_code=='ug' & styp_code=='n'\").reset_index(['levl_code','styp_code','variable'], drop=True)\n",
    "# y = self.y0.to_frame().query(f\"variable=='_allcrse'\").reset_index('variable', drop=True).reset_index(['levl_code','styp_code'])\n",
    "X = self.X0#.query(f\"styp_code=='n' & enrolled_ind\")[[]]\n",
    "# Z = X.join(y, how=\"left\")\n",
    "# Z[Z.isnull().any(axis=1)]\n",
    "y.join(X).vc(['pred_code','styp_code'])"
   ]
  },
  {
   "cell_type": "code",
   "execution_count": null,
   "metadata": {},
   "outputs": [],
   "source": [
    "self.get_X()\n",
    "self.mlt"
   ]
  },
  {
   "cell_type": "code",
   "execution_count": null,
   "metadata": {},
   "outputs": [],
   "source": [
    "self.Y"
   ]
  },
  {
   "cell_type": "code",
   "execution_count": null,
   "metadata": {},
   "outputs": [],
   "source": [
    "self.Y"
   ]
  },
  {
   "cell_type": "code",
   "execution_count": null,
   "metadata": {},
   "outputs": [],
   "source": [
    "qry = f\"\"\"\n",
    "select\n",
    "    A.*,\n",
    "    (select B.stvlgcy_desc from stvlgcy B where B.stvlgcy_code = A.lgcy_code) as lgcy_desc\n",
    "from (\n",
    "    select\n",
    "        A.*,\n",
    "        (select B.spbpers_lgcy_code from spbpers B where B.spbpers_pidm = A.pidm) as lgcy_code\n",
    "    from\n",
    "        opeir.admissions_fall2023 A\n",
    "    where enrolled_ind='Y' and A.current_date = {dt('2023-09-13')}\n",
    ") A\n",
    "--fetch first 1 rows only\n",
    "\"\"\"\n",
    "X = db.execute(qry)"
   ]
  },
  {
   "cell_type": "code",
   "execution_count": null,
   "metadata": {},
   "outputs": [],
   "source": [
    "X.vc(['lgcy_code','lgcy_desc'])\n",
    "# X['lgcy_code'].isin([pd.NA,'o']).sum()"
   ]
  },
  {
   "cell_type": "code",
   "execution_count": null,
   "metadata": {},
   "outputs": [],
   "source": [
    "self.mlt"
   ]
  },
  {
   "cell_type": "code",
   "execution_count": null,
   "metadata": {},
   "outputs": [],
   "source": [
    "self.y['final']\n",
    "# self.credit"
   ]
  },
  {
   "cell_type": "code",
   "execution_count": null,
   "metadata": {},
   "outputs": [],
   "source": [
    "self.X.vc(['pred_code','lgcy'])"
   ]
  },
  {
   "cell_type": "code",
   "execution_count": null,
   "metadata": {},
   "outputs": [],
   "source": [
    "self.credit\n",
    "g = lambda y: y.query(f\"variable=='{self.crse_code}'\").droplevel('variable')\n",
    "y = self.y['current']\n",
    "y.squeeze().rename_axis(index={'variable':'crse_code'}).rename('d')\n",
    "# g(self.y['current'])"
   ]
  },
  {
   "cell_type": "code",
   "execution_count": null,
   "metadata": {},
   "outputs": [],
   "source": [
    "# for k,v in self.y.items():\n",
    "#     print(k)\n",
    "#     v.disp(4)\n",
    "self.mlt.query(\"styp_code=='n'\").head(10)\n",
    "# self.__dict__.keys()\n",
    "# self.credit"
   ]
  },
  {
   "cell_type": "code",
   "execution_count": null,
   "metadata": {},
   "outputs": [],
   "source": [
    "self.X.apdc_code"
   ]
  },
  {
   "cell_type": "code",
   "execution_count": null,
   "metadata": {},
   "outputs": [],
   "source": [
    "attr = ['gender','lgcy']\n",
    "Z = self.X_final[attr].melt(ignore_index=False).astype('string')\n",
    "A1 = Z.groupby(['styp_code','pred_code','variable','value']).size()"
   ]
  },
  {
   "cell_type": "code",
   "execution_count": null,
   "metadata": {},
   "outputs": [],
   "source": [
    "ren = {'term_code':'pred_code', 'term_desc':'pred_desc', 'index':'idx', 'crse_code':'variable'}\n",
    "Y = [pd.concat([\n",
    "        T.reg\n",
    "        .rename(columns=ren)\n",
    "        .set_index(['pidm','levl_code','styp_code','pred_code','variable'])\n",
    "        ['credit_hr']\n",
    "        .fillna(0)\n",
    "        .query('credit_hr>0')\n",
    "        .rename('value')\n",
    "        .to_frame()\n",
    "        > 0\n",
    "        \n",
    "    for pred_code, T in dct.items()]) for dct in self.terms]\n",
    "Y[1].rename(columns={'a':'b'})\n",
    "# A2 = Y[1].groupby(['styp_code','pred_code','variable','value']).size()"
   ]
  },
  {
   "cell_type": "code",
   "execution_count": null,
   "metadata": {},
   "outputs": [],
   "source": [
    "pd.concat([A1,A2])"
   ]
  },
  {
   "cell_type": "code",
   "execution_count": null,
   "metadata": {},
   "outputs": [],
   "source": [
    "dct = self.terms[1]\n",
    "ren = {'term_code':'pred_code', 'term_desc':'pred_desc', 'index':'idx', 'crse_code':'variable'}\n",
    "R = pd.concat([T.raw.rename(columns=ren) for pred_code, T in dct.items()]).copy().dropna(axis=1, how='all').reset_index(drop=True).prep()\n",
    "repl = {'ae':0, 'n1':1, 'n2':2, 'n3':3, 'n4':4, 'r1':1, 'r2':2, 'r3':3, 'r4':4}\n",
    "R['hs_qrtl'] = pd.cut(R['hs_pctl'], bins=[-1,25,50,75,90,101], labels=[4,3,2,1,0], right=False).combine_first(R['apdc_code'].map(repl))\n",
    "R['remote'] = R['camp_code'] != 's'\n",
    "R['resd'] = R['resd_code'] == 'r'\n",
    "R['oriented'] = R['oriented'] != 'n'\n",
    "R['lgcy'] = ~R['lgcy_code'].isin(['n','o'])\n",
    "R['majr_code'] = R['majr_code'].replace({'0000':pd.NA, 'und':pd.NA, 'eled':'eted', 'agri':'unda'})\n",
    "R['coll_code'] = R['coll_code'].replace({'ae':'an', 'eh':'ed', 'hs':'hl', 'st':'sm', '00':pd.NA})\n",
    "R['coll_desc'] = R['coll_code'].map({\n",
    "    'an': 'ag & natural_resources',\n",
    "    'ba': 'business',\n",
    "    'ed': 'education',\n",
    "    'en': 'engineering',\n",
    "    'hl': 'health sciences',\n",
    "    'la': 'liberal & fine arts',\n",
    "    'sm': 'science & mathematics',\n",
    "    pd.NA: 'no college designated',\n",
    "})\n",
    "majr = ['majr_desc','dept_code','dept_desc','coll_code','coll_desc']\n",
    "S = R.sort_values('cycle_date').drop_duplicates(subset='majr_code', keep='last')[['majr_code',*majr]]\n",
    "X = R.drop(columns=majr).merge(S, on='majr_code', how='left').prep(bool=True)\n",
    "checks = [\n",
    "    'cycle_day >= 0',\n",
    "    'apdc_day >= cycle_day',\n",
    "    'appl_day >= apdc_day',\n",
    "    'birth_day >= appl_day',\n",
    "    'birth_day >= 5000',\n",
    "    'distance >= 0',\n",
    "    'hs_pctl >=0',\n",
    "    'hs_pctl <= 100',\n",
    "    'hs_qrtl >= 0',\n",
    "    'hs_qrtl <= 4',\n",
    "    'act_equiv >= 1',\n",
    "    'act_equiv <= 36',\n",
    "    'gap_score >= 0',\n",
    "    'gap_score <= 100',\n",
    "]\n",
    "for check in checks:\n",
    "    mask = X.eval(check)\n",
    "    assert mask.all(), [check,X[~mask].disp(5)]\n",
    "\n",
    "fill = {\n",
    "    'birth_day': ['median',['pred_code','styp_code']],\n",
    "    'remote': False,\n",
    "    'international': False,\n",
    "    **{f'race_{r}': False for r in ['american_indian','asian','black','pacific','white','hispanic']},\n",
    "    'lgcy': False,\n",
    "    'resd': False,\n",
    "    'waiver': False,\n",
    "    'fafsa_app': False,\n",
    "    'schlship_app': False,\n",
    "    'finaid_accepted': False,\n",
    "    'ssb': False,\n",
    "    'math': False,\n",
    "    'reading': False,\n",
    "    'writing': False,\n",
    "    'gap_score': 0,\n",
    "    'oriented': False,\n",
    "    # 'coll_code': 'na',\n",
    "    # 'coll_desc': 'na',\n",
    "}\n",
    "for k, v in fill.items():\n",
    "    X[k] = X.impute(k, *listify(v))\n",
    "M = X.isnull().rename(columns=lambda x:x+'_missing')\n",
    "attr = ['idx','id','pidm','levl_code','styp_code','pred_code']\n",
    "X = X.join(M).sample(frac=1, random_state=self.param['imp'][2]['random_state']).reset_index().rename(columns=ren).prep(bool=True).set_index(attr).sort_index()\n",
    "X.disp(4)"
   ]
  },
  {
   "cell_type": "code",
   "execution_count": null,
   "metadata": {},
   "outputs": [],
   "source": [
    "X"
   ]
  },
  {
   "cell_type": "code",
   "execution_count": null,
   "metadata": {},
   "outputs": [],
   "source": [
    "y = pd.concat([\n",
    "        T.reg\n",
    "        .rename(columns=ren)\n",
    "        .set_index(['pidm','pred_code','variable'])\n",
    "        # .set_index(['pidm','pred_code','crse_code'])\n",
    "        [['credit_hr','levl_code','styp_code']]\n",
    "        # .query('credit_hr>0')\n",
    "        # .rename('value')\n",
    "    for pred_code, T in dct.items()])#.reset_index()#.unstack().fillna(0)#.prep()\n",
    "y"
   ]
  },
  {
   "cell_type": "code",
   "execution_count": null,
   "metadata": {},
   "outputs": [],
   "source": [
    "y"
   ]
  },
  {
   "cell_type": "code",
   "execution_count": null,
   "metadata": {},
   "outputs": [],
   "source": [
    "cols = ['levl_code_x','levl_code_y','styp_code_x','styp_code_y']\n",
    "Z = y.reset_index().merge(X[[]].reset_index(), on=['pidm','pred_code'], how='outer').fillna({k:'' for k in cols})\n",
    "# Z = Z[['levl_code_x','levl_code_y','styp_code_x','styp_code_y']].fillna('')\n",
    "msk = (Z['levl_code_x'] != Z['levl_code_y']) | (Z['styp_code_x'] != Z['styp_code_y'])\n",
    "Z[msk].vc(cols).sort_index().reset_index()\n",
    "# Z"
   ]
  },
  {
   "cell_type": "code",
   "execution_count": null,
   "metadata": {},
   "outputs": [],
   "source": [
    "Z = X[[]].join(y, how='right').reset_index()"
   ]
  },
  {
   "cell_type": "code",
   "execution_count": null,
   "metadata": {},
   "outputs": [],
   "source": [
    "y.reset_index()"
   ]
  },
  {
   "cell_type": "code",
   "execution_count": null,
   "metadata": {},
   "outputs": [],
   "source": [
    "y.query(\"variable=='_allcrse'\").drop(columns='variable')"
   ]
  },
  {
   "cell_type": "code",
   "execution_count": null,
   "metadata": {},
   "outputs": [],
   "source": [
    "r = y.query(\"variable=='_allcrse' & value>0\").droplevel('variable').rename('registered')>0\n",
    "r"
   ]
  },
  {
   "cell_type": "code",
   "execution_count": null,
   "metadata": {},
   "outputs": [],
   "source": [
    "y.to_frame().join(r)"
   ]
  },
  {
   "cell_type": "code",
   "execution_count": null,
   "metadata": {},
   "outputs": [],
   "source": [
    "attr = ['gender','lgcy']\n",
    "Z = X[attr].melt(ignore_index=False).astype('string').join(r)\n",
    "Z"
   ]
  },
  {
   "cell_type": "code",
   "execution_count": null,
   "metadata": {},
   "outputs": [],
   "source": [
    "y.join(y.query(\"variable=='_allcrse'\").droplevel('variable').rename('registered')>0)"
   ]
  },
  {
   "cell_type": "code",
   "execution_count": null,
   "metadata": {},
   "outputs": [],
   "source": [
    "Z.groupby(['styp_code','pred_code','variable','value'])['registered'].sum()"
   ]
  },
  {
   "cell_type": "code",
   "execution_count": null,
   "metadata": {},
   "outputs": [],
   "source": [
    "Z = X.join(y).melt(ignore_index=False).astype('string')"
   ]
  },
  {
   "cell_type": "code",
   "execution_count": null,
   "metadata": {},
   "outputs": [],
   "source": []
  },
  {
   "cell_type": "code",
   "execution_count": null,
   "metadata": {},
   "outputs": [],
   "source": [
    "Z.dtypes"
   ]
  },
  {
   "cell_type": "code",
   "execution_count": null,
   "metadata": {},
   "outputs": [],
   "source": []
  },
  {
   "cell_type": "code",
   "execution_count": null,
   "metadata": {},
   "outputs": [],
   "source": [
    "Z.prep().dtypes"
   ]
  },
  {
   "cell_type": "code",
   "execution_count": null,
   "metadata": {},
   "outputs": [],
   "source": [
    "pd.concat([X.melt(ignore_index=False).reset_index(), y])"
   ]
  },
  {
   "cell_type": "code",
   "execution_count": null,
   "metadata": {},
   "outputs": [],
   "source": [
    "self.X"
   ]
  },
  {
   "cell_type": "code",
   "execution_count": null,
   "metadata": {},
   "outputs": [],
   "source": []
  },
  {
   "cell_type": "code",
   "execution_count": null,
   "metadata": {},
   "outputs": [],
   "source": [
    "self.get_X()\n",
    "self.mlt.query(\"crse_code=='_allcrse'\")"
   ]
  },
  {
   "cell_type": "code",
   "execution_count": null,
   "metadata": {},
   "outputs": [],
   "source": [
    "A = self.summary.groupby('crse_code')['pred_code_actual'].agg(['min','max'])\n",
    "A.query('min>1 & min<5').sort_values('max', ascending=False)"
   ]
  },
  {
   "cell_type": "code",
   "execution_count": null,
   "metadata": {},
   "outputs": [],
   "source": [
    "import numpy as np\n",
    "x = np.arange(100)\n",
    "100 * (1 - (x%5==0).cumsum() / (x+1))"
   ]
  },
  {
   "cell_type": "code",
   "execution_count": null,
   "metadata": {},
   "outputs": [],
   "source": [
    "self.train_score\n",
    "self.get_X()\n",
    "nm='crse_code'\n",
    "grp = uniquify([nm,'crse_code','levl_code','styp_code','train_code','pred_code','trf_hash','imp_hash','clf_hash','sim'])\n",
    "Z = self.X.join(self.Y, how='inner').reset_index()\n",
    "S = Z.groupby(grp).apply(lambda y: pd.Series({\n",
    "    'pred_code_actual': y['actual'].sum(),\n",
    "    'pred_code_predicted': y['proba'].sum(),\n",
    "    'test_score': log_loss(y['actual'], y['proba'], labels=[False,True]) * 100,\n",
    "}), include_groups=False).join(self.train_score)\n"
   ]
  },
  {
   "cell_type": "code",
   "execution_count": null,
   "metadata": {},
   "outputs": [],
   "source": [
    "w = read('/home/scook/institutional_data_analytics/admitted_matriculation_projection/resources/rslt3/119/rslt_crse_code/n/_allcrse/fa15/77d7/d6c4.pkl')\n",
    "w = read('/home/scook/institutional_data_analytics/admitted_matriculation_projection/resources/rslt5/119/rslt_crse_code/n/_allcrse/fa15/77d7/bf3e.pkl')\n",
    "print(w['param']['clf'][2]['time_budget'])\n",
    "w['rslt_crse_code'][' 50%']"
   ]
  },
  {
   "cell_type": "code",
   "execution_count": null,
   "metadata": {},
   "outputs": [],
   "source": [
    "w = read('/home/scook/institutional_data_analytics/admitted_matriculation_projection/resources/rslt4/119/rslt_crse_code/n/_allcrse/fa15/77d7/d6c4.pkl')\n",
    "w['rslt_crse_code'][' 50%']"
   ]
  },
  {
   "cell_type": "code",
   "execution_count": null,
   "metadata": {},
   "outputs": [],
   "source": [
    "w = read('/home/scook/institutional_data_analytics/admitted_matriculation_projection/resources/rslt5/119/rslt_crse_code/n/_allcrse/fa15/77d7/b66c.pkl')\n",
    "w['rslt_crse_code'][' 50%']"
   ]
  },
  {
   "cell_type": "code",
   "execution_count": null,
   "metadata": {},
   "outputs": [],
   "source": [
    "w = read('/home/scook/institutional_data_analytics/admitted_matriculation_projection/resources/rslt2/119/rslt_crse_code/n/_allcrse/fa15/77d7/114b.pkl')\n",
    "w['rslt_crse_code'][' 50%']"
   ]
  },
  {
   "cell_type": "code",
   "execution_count": null,
   "metadata": {},
   "outputs": [],
   "source": [
    "y1 = read('/home/scook/institutional_data_analytics/admitted_matriculation_projection/resources/rslt/119/Y/n/_allcrse/fa15/77d7/b66c.pkl')['Y']\n",
    "y2 = read('/home/scook/institutional_data_analytics/admitted_matriculation_projection/resources/rslt2/119/Y/n/_allcrse/fa15/77d7/b66c.pkl')['Y']\n",
    "y2b = read('/home/scook/institutional_data_analytics/admitted_matriculation_projection/resources/rslt2/119/Y/n/_allcrse/fa15/77d7/114b.pkl')['Y']\n",
    "y3 = read('/home/scook/institutional_data_analytics/admitted_matriculation_projection/resources/rslt3/119/Y/n/_allcrse/fa15/77d7/b66c.pkl')['Y']\n",
    "nm = 'crse_code'\n",
    "def g(y):\n",
    "    grp = uniquify([nm,'crse_code','levl_code','styp_code','train_code','pred_code','trf_hash','imp_hash','clf_hash','sim'])\n",
    "    z = y.groupby(grp)[['actual','proba']].sum()\n",
    "    grp.remove('sim')\n",
    "    return z.groupby(grp).mean()"
   ]
  },
  {
   "cell_type": "code",
   "execution_count": null,
   "metadata": {},
   "outputs": [],
   "source": [
    "g(y1)"
   ]
  },
  {
   "cell_type": "code",
   "execution_count": null,
   "metadata": {},
   "outputs": [],
   "source": [
    "g(y2)"
   ]
  },
  {
   "cell_type": "code",
   "execution_count": null,
   "metadata": {},
   "outputs": [],
   "source": [
    "g(y2b)"
   ]
  },
  {
   "cell_type": "code",
   "execution_count": null,
   "metadata": {},
   "outputs": [],
   "source": [
    "g(y3)"
   ]
  },
  {
   "cell_type": "code",
   "execution_count": null,
   "metadata": {},
   "outputs": [],
   "source": [
    "g(y3) - g(y2)"
   ]
  },
  {
   "cell_type": "code",
   "execution_count": 15,
   "metadata": {},
   "outputs": [
    {
     "name": "stdout",
     "output_type": "stream",
     "text": [
      "{'overwrite': set(), 'dependence': {'adm': 'raw', 'flg': 'raw', 'raw': 'X', 'reg': 'X', 'X': 'X_proc', 'X_proc': 'Y'}, 'cycle_day': 0, 'proj_code': 202408, 'pred_codes': (202108, 202208, 202308, 202408), 'crse_code': '_allcrse', 'styp_code': 'n', 'stats': ('mean',), 'show': set(), 'param': {}, 'aggregations': ('coll_desc', 'dept_desc', 'majr_desc', 'camp_desc', 'stat_desc', 'cnty_desc', 'gender', 'race_american_indian', 'race_asian', 'race_black', 'race_pacific', 'race_white', 'race_hispanic', 'waiver', 'hs_qrtl', 'international', 'resd_desc', 'lgcy', 'lgcy_desc', 'admt_desc', 'math', 'reading', 'writing', 'ssb', 'oriented'), 'cycle_date': Timestamp('2024-05-15 00:00:00'), 'mlt':                                                                         pred_code_current  \\\n",
      "pred_code levl_code styp_code variable  value                                               \n",
      "202108    ug        n         crse_code _allcrse                                     1104   \n",
      "                                        acct2301                                       10   \n",
      "                                        acom1110                                        4   \n",
      "                                        aest1101                                        1   \n",
      "                                        aestl100                                        1   \n",
      "...                                                                                   ...   \n",
      "202308    ug        t         majr_desc international business                          0   \n",
      "                                        premedical - biomedical scienc                  0   \n",
      "                                        spanish                                         0   \n",
      "                              resd_desc undeclared                                      0   \n",
      "                              styp_desc dual admit                                      0   \n",
      "\n",
      "                                                                        pred_code_admitted  \\\n",
      "pred_code levl_code styp_code variable  value                                                \n",
      "202108    ug        n         crse_code _allcrse                                      1975   \n",
      "                                        acct2301                                        38   \n",
      "                                        acom1110                                        16   \n",
      "                                        aest1101                                         6   \n",
      "                                        aestl100                                         6   \n",
      "...                                                                                    ...   \n",
      "202308    ug        t         majr_desc international business                           0   \n",
      "                                        premedical - biomedical scienc                   0   \n",
      "                                        spanish                                          0   \n",
      "                              resd_desc undeclared                                       0   \n",
      "                              styp_desc dual admit                                       0   \n",
      "\n",
      "                                                                        pred_code_final  \\\n",
      "pred_code levl_code styp_code variable  value                                             \n",
      "202108    ug        n         crse_code _allcrse                                   2142   \n",
      "                                        acct2301                                     40   \n",
      "                                        acom1110                                     16   \n",
      "                                        aest1101                                      6   \n",
      "                                        aestl100                                      6   \n",
      "...                                                                                 ...   \n",
      "202308    ug        t         majr_desc international business                        1   \n",
      "                                        premedical - biomedical scienc                3   \n",
      "                                        spanish                                       1   \n",
      "                              resd_desc undeclared                                    3   \n",
      "                              styp_desc dual admit                                    3   \n",
      "\n",
      "                                                                        pred_code_mlt  \n",
      "pred_code levl_code styp_code variable  value                                          \n",
      "202108    ug        n         crse_code _allcrse                             1.084557  \n",
      "                                        acct2301                             1.052632  \n",
      "                                        acom1110                                  1.0  \n",
      "                                        aest1101                                  1.0  \n",
      "                                        aestl100                                  1.0  \n",
      "...                                                                               ...  \n",
      "202308    ug        t         majr_desc international business                   <NA>  \n",
      "                                        premedical - biomedical scienc           <NA>  \n",
      "                                        spanish                                  <NA>  \n",
      "                              resd_desc undeclared                               <NA>  \n",
      "                              styp_desc dual admit                               <NA>  \n",
      "\n",
      "[7705 rows x 4 columns], 'X':                                                  cycle_day  apdc_day  \\\n",
      "id       pidm     pred_code levl_code styp_code                        \n",
      "9175043  9176350  202208    ug        n                119       166   \n",
      "9175060  9175795  202208    ug        t                119       147   \n",
      "9175062  9175789  202208    ug        t                119       160   \n",
      "9175069  9175800  202208    ug        t                119       162   \n",
      "9175071  9175802  202208    ug        n                119       158   \n",
      "...                                                    ...       ...   \n",
      "10481658 10425099 202308    ug        t                119       250   \n",
      "10482947 10483294 202108    ug        r                119       172   \n",
      "10483082 10483361 202108    ug        t                119       237   \n",
      "10485195 10485475 202108    ug        r                119       134   \n",
      "10485540 10477692 202208    ug        n                119       140   \n",
      "\n",
      "                                                 appl_day  birth_day  \\\n",
      "id       pidm     pred_code levl_code styp_code                        \n",
      "9175043  9176350  202208    ug        n               176       6717   \n",
      "9175060  9175795  202208    ug        t               176       7519   \n",
      "9175062  9175789  202208    ug        t               176       7534   \n",
      "9175069  9175800  202208    ug        t               176       9330   \n",
      "9175071  9175802  202208    ug        n               176       8435   \n",
      "...                                                   ...        ...   \n",
      "10481658 10425099 202308    ug        t               250      11846   \n",
      "10482947 10483294 202108    ug        r               175      11789   \n",
      "10483082 10483361 202108    ug        t               244       9652   \n",
      "10485195 10485475 202108    ug        r               134      10956   \n",
      "10485540 10477692 202208    ug        n               155      11035   \n",
      "\n",
      "                                                  end_date cycle_date  \\\n",
      "id       pidm     pred_code levl_code styp_code                         \n",
      "9175043  9176350  202208    ug        n         2022-09-07 2022-05-11   \n",
      "9175060  9175795  202208    ug        t         2022-09-07 2022-05-11   \n",
      "9175062  9175789  202208    ug        t         2022-09-07 2022-05-11   \n",
      "9175069  9175800  202208    ug        t         2022-09-07 2022-05-11   \n",
      "9175071  9175802  202208    ug        n         2022-09-07 2022-05-11   \n",
      "...                                                    ...        ...   \n",
      "10481658 10425099 202308    ug        t         2023-09-13 2023-05-17   \n",
      "10482947 10483294 202108    ug        r         2021-09-08 2021-05-12   \n",
      "10483082 10483361 202108    ug        t         2021-09-08 2021-05-12   \n",
      "10485195 10485475 202108    ug        r         2021-09-08 2021-05-12   \n",
      "10485540 10477692 202208    ug        n         2022-09-07 2022-05-11   \n",
      "\n",
      "                                                 apdc_date  appl_date  \\\n",
      "id       pidm     pred_code levl_code styp_code                         \n",
      "9175043  9176350  202208    ug        n         2022-03-25 2022-03-15   \n",
      "9175060  9175795  202208    ug        t         2022-04-13 2022-03-15   \n",
      "9175062  9175789  202208    ug        t         2022-03-31 2022-03-15   \n",
      "9175069  9175800  202208    ug        t         2022-03-29 2022-03-15   \n",
      "9175071  9175802  202208    ug        n         2022-04-02 2022-03-15   \n",
      "...                                                    ...        ...   \n",
      "10481658 10425099 202308    ug        t         2023-01-06 2023-01-06   \n",
      "10482947 10483294 202108    ug        r         2021-03-20 2021-03-17   \n",
      "10483082 10483361 202108    ug        t         2021-01-14 2021-01-07   \n",
      "10485195 10485475 202108    ug        r         2021-04-27 2021-04-27   \n",
      "10485540 10477692 202208    ug        n         2022-04-20 2022-04-05   \n",
      "\n",
      "                                                birth_date  term_code_entry  \\\n",
      "id       pidm     pred_code levl_code styp_code                               \n",
      "9175043  9176350  202208    ug        n         2004-04-17           202208   \n",
      "9175060  9175795  202208    ug        t         2002-02-05           202208   \n",
      "9175062  9175789  202208    ug        t         2002-01-21           202208   \n",
      "9175069  9175800  202208    ug        t         1997-02-20           202208   \n",
      "9175071  9175802  202208    ug        n         1999-08-04           202208   \n",
      "...                                                    ...              ...   \n",
      "10481658 10425099 202308    ug        t         1991-04-08           202306   \n",
      "10482947 10483294 202108    ug        r         1989-05-30           202108   \n",
      "10483082 10483361 202108    ug        t         1995-04-06           202108   \n",
      "10485195 10485475 202108    ug        r         1991-09-10           202106   \n",
      "10485540 10477692 202208    ug        n         1992-06-21           202208   \n",
      "\n",
      "                                                 ... hs_qrtl_missing  \\\n",
      "id       pidm     pred_code levl_code styp_code  ...                   \n",
      "9175043  9176350  202208    ug        n          ...           False   \n",
      "9175060  9175795  202208    ug        t          ...            True   \n",
      "9175062  9175789  202208    ug        t          ...            True   \n",
      "9175069  9175800  202208    ug        t          ...            True   \n",
      "9175071  9175802  202208    ug        n          ...           False   \n",
      "...                                              ...             ...   \n",
      "10481658 10425099 202308    ug        t          ...            True   \n",
      "10482947 10483294 202108    ug        r          ...            True   \n",
      "10483082 10483361 202108    ug        t          ...            True   \n",
      "10485195 10485475 202108    ug        r          ...            True   \n",
      "10485540 10477692 202208    ug        n          ...           False   \n",
      "\n",
      "                                                 remote_missing resd_missing  \\\n",
      "id       pidm     pred_code levl_code styp_code                                \n",
      "9175043  9176350  202208    ug        n                   False        False   \n",
      "9175060  9175795  202208    ug        t                   False        False   \n",
      "9175062  9175789  202208    ug        t                   False        False   \n",
      "9175069  9175800  202208    ug        t                   False        False   \n",
      "9175071  9175802  202208    ug        n                   False        False   \n",
      "...                                                         ...          ...   \n",
      "10481658 10425099 202308    ug        t                   False        False   \n",
      "10482947 10483294 202108    ug        r                   False        False   \n",
      "10483082 10483361 202108    ug        t                   False        False   \n",
      "10485195 10485475 202108    ug        r                   False        False   \n",
      "10485540 10477692 202208    ug        n                   False        False   \n",
      "\n",
      "                                                lgcy_missing  \\\n",
      "id       pidm     pred_code levl_code styp_code                \n",
      "9175043  9176350  202208    ug        n                False   \n",
      "9175060  9175795  202208    ug        t                False   \n",
      "9175062  9175789  202208    ug        t                False   \n",
      "9175069  9175800  202208    ug        t                False   \n",
      "9175071  9175802  202208    ug        n                False   \n",
      "...                                                      ...   \n",
      "10481658 10425099 202308    ug        t                False   \n",
      "10482947 10483294 202108    ug        r                False   \n",
      "10483082 10483361 202108    ug        t                False   \n",
      "10485195 10485475 202108    ug        r                False   \n",
      "10485540 10477692 202208    ug        n                False   \n",
      "\n",
      "                                                majr_desc_missing  \\\n",
      "id       pidm     pred_code levl_code styp_code                     \n",
      "9175043  9176350  202208    ug        n                     False   \n",
      "9175060  9175795  202208    ug        t                     False   \n",
      "9175062  9175789  202208    ug        t                     False   \n",
      "9175069  9175800  202208    ug        t                     False   \n",
      "9175071  9175802  202208    ug        n                     False   \n",
      "...                                                           ...   \n",
      "10481658 10425099 202308    ug        t                     False   \n",
      "10482947 10483294 202108    ug        r                     False   \n",
      "10483082 10483361 202108    ug        t                     False   \n",
      "10485195 10485475 202108    ug        r                     False   \n",
      "10485540 10477692 202208    ug        n                     False   \n",
      "\n",
      "                                                dept_code_missing  \\\n",
      "id       pidm     pred_code levl_code styp_code                     \n",
      "9175043  9176350  202208    ug        n                     False   \n",
      "9175060  9175795  202208    ug        t                     False   \n",
      "9175062  9175789  202208    ug        t                     False   \n",
      "9175069  9175800  202208    ug        t                     False   \n",
      "9175071  9175802  202208    ug        n                     False   \n",
      "...                                                           ...   \n",
      "10481658 10425099 202308    ug        t                     False   \n",
      "10482947 10483294 202108    ug        r                     False   \n",
      "10483082 10483361 202108    ug        t                     False   \n",
      "10485195 10485475 202108    ug        r                     False   \n",
      "10485540 10477692 202208    ug        n                     False   \n",
      "\n",
      "                                                dept_desc_missing  \\\n",
      "id       pidm     pred_code levl_code styp_code                     \n",
      "9175043  9176350  202208    ug        n                     False   \n",
      "9175060  9175795  202208    ug        t                     False   \n",
      "9175062  9175789  202208    ug        t                     False   \n",
      "9175069  9175800  202208    ug        t                     False   \n",
      "9175071  9175802  202208    ug        n                     False   \n",
      "...                                                           ...   \n",
      "10481658 10425099 202308    ug        t                     False   \n",
      "10482947 10483294 202108    ug        r                     False   \n",
      "10483082 10483361 202108    ug        t                     False   \n",
      "10485195 10485475 202108    ug        r                     False   \n",
      "10485540 10477692 202208    ug        n                     False   \n",
      "\n",
      "                                                coll_code_missing  \\\n",
      "id       pidm     pred_code levl_code styp_code                     \n",
      "9175043  9176350  202208    ug        n                     False   \n",
      "9175060  9175795  202208    ug        t                     False   \n",
      "9175062  9175789  202208    ug        t                     False   \n",
      "9175069  9175800  202208    ug        t                     False   \n",
      "9175071  9175802  202208    ug        n                     False   \n",
      "...                                                           ...   \n",
      "10481658 10425099 202308    ug        t                     False   \n",
      "10482947 10483294 202108    ug        r                     False   \n",
      "10483082 10483361 202108    ug        t                     False   \n",
      "10485195 10485475 202108    ug        r                     False   \n",
      "10485540 10477692 202208    ug        n                     False   \n",
      "\n",
      "                                                coll_desc_missing credit_hr  \n",
      "id       pidm     pred_code levl_code styp_code                              \n",
      "9175043  9176350  202208    ug        n                     False       0.0  \n",
      "9175060  9175795  202208    ug        t                     False       0.0  \n",
      "9175062  9175789  202208    ug        t                     False      15.0  \n",
      "9175069  9175800  202208    ug        t                     False       0.0  \n",
      "9175071  9175802  202208    ug        n                     False       0.0  \n",
      "...                                                           ...       ...  \n",
      "10481658 10425099 202308    ug        t                     False      12.0  \n",
      "10482947 10483294 202108    ug        r                     False       0.0  \n",
      "10483082 10483361 202108    ug        t                     False      15.0  \n",
      "10485195 10485475 202108    ug        r                     False       3.0  \n",
      "10485540 10477692 202208    ug        n                     False       0.0  \n",
      "\n",
      "[35476 rows x 132 columns], 'y': [Empty DataFrame\n",
      "Columns: []\n",
      "Index: [(9614650, 202108, wses4326), (9507391, 202108, wses4326), (9503907, 202108, wses4326), (9639317, 202108, wses4326), (9930919, 202108, wses4326), (9495438, 202108, agsd3101), (9538762, 202108, agsd3101), (9640885, 202108, agsd3101), (9654918, 202108, agsd3101), (9676446, 202108, agsd3101), (9655369, 202108, agsd3101), (9750145, 202108, agsd3101), (9491351, 202108, agsd3101), (10042142, 202108, agsd3101), (9548123, 202108, agri2304), (9676965, 202108, agri2304), (9206641, 202108, agri2304), (9537224, 202108, agri2304), (9476713, 202108, agri2304), (9655216, 202108, cven2200), (9492762, 202108, acrs5088), (10073781, 202108, cnsl5350), (9672490, 202108, cnsl5350), (9562851, 202108, cnsl5350), (9872649, 202108, cnsl5350), (9753325, 202108, cnsl5350), (10049400, 202108, cnsl5350), (9202400, 202108, cnsl5350), (9200137, 202108, cnsl5350), (9637381, 202108, cnsl5350), (9207298, 202108, cnsl5350), (9672640, 202108, cnsl5350), (9918072, 202108, cnsl5350), (9207298, 202108, cnsl5353), (9515822, 202108, cnsl5353), (9962945, 202108, cnsl5353), (9194630, 202108, cnsl5353), (10096352, 202108, cnsl5353), (9503134, 202108, edad7088), (9538274, 202108, edad7088), (10483738, 202108, edad7088), (9683788, 202108, elen3314), (9636007, 202108, elen3314), (9584525, 202108, elen3314), (9587854, 202108, elen3314), (9822905, 202108, educ5085), (9669778, 202108, univ0301), (9692371, 202108, comm1315), (9204692, 202108, comm1315), (9689227, 202108, comm1315), (9672563, 202108, comm1315), (9682129, 202108, comm1315), (9680569, 202108, comm1315), (9682499, 202108, comm1315), (9671943, 202108, comm1315), (9535932, 202108, comm1315), (9668193, 202108, comm1315), (9698523, 202108, comm1315), (9692295, 202108, comm1315), (9677030, 202108, comm1315), (9537237, 202108, comm4085), (9612523, 202108, muap4121), (9836235, 202108, busi3312), (9694059, 202108, busi3312), (9744869, 202108, muap4121), (9614074, 202108, busi3312), (9684691, 202108, busi3312), (9480776, 202108, busi4344), (9640511, 202108, busi4344), (9493169, 202108, muap4231), (9695902, 202108, muap4231), (9676248, 202108, mdls4592), (9688255, 202108, mdls4592), (9688255, 202108, mdls4593), (9689909, 202108, mdls4594), (9676248, 202108, mdls4594), (9684830, 202108, mdls4595), (9635853, 202108, mdls4595), (9675838, 202108, mdls4595), (9686645, 202108, kine2315), (9637651, 202108, kine2315), (9195438, 202108, kine2315), (9675368, 202108, kine2315), (9871601, 202108, kine2315), (9671510, 202108, kine2315), (9759768, 202108, kine2315), (9676067, 202108, kine2315), (9861360, 202108, kine2315), (9681622, 202108, agri1100), (9682887, 202108, agri1100), (9669324, 202108, agri1100), (9682235, 202108, agri1100), (9678956, 202108, agri1100), (9207556, 202108, agri1100), (9681397, 202108, agri1100), (9671107, 202108, agri1100), (9678656, 202108, agri1100), (9203326, 202108, agri1100), (9678776, 202108, agri1100), (9678047, 202108, agri1100), ...]\n",
      "\n",
      "[260897 rows x 0 columns], Empty DataFrame\n",
      "Columns: []\n",
      "Index: [(9680853, 202108, socw5340), (9732914, 202108, socw5340), (9764248, 202108, socw5373), (9698386, 202108, chfs3333), (9721051, 202108, chfs3333), (9687815, 202108, chfs3333), (9459627, 202108, engt2303), (10171638, 202108, engt2303), (10159267, 202108, engt3360), (9613482, 202108, engt3360), (9535641, 202108, agsd2330), (9542563, 202108, agsd2330), (9540323, 202108, agsd2330), (9499567, 202108, agsd2330), (9654461, 202108, agsd2330), (9686883, 202108, huma1315), (9685097, 202108, musi1116), (9673196, 202108, musi1116), (9644756, 202108, psyc3360), (9655633, 202108, psyc3360), (9520348, 202108, atrn5191), (9690279, 202108, dram1310), (9698841, 202108, dram1310), (9676130, 202108, psyc4312), (9693113, 202108, psyc4312), (9677106, 202108, engl1301), (9676257, 202108, govt2305), (9640078, 202108, govt2305), (9684558, 202108, govt2305), (9492722, 202108, pbhl4305), (9537640, 202108, pbhl4305), (9644789, 202108, pbhl4305), (9646649, 202108, pbhl4350), (9670280, 202108, pbhl4350), (9639193, 202108, socw5360), (9452574, 202108, mdls4137), (9680389, 202108, mdls4137), (9765881, 202108, mdls4147), (9668935, 202108, mdls4147), (9934343, 202108, mdls4147), (9680389, 202108, mdls4147), (9670186, 202108, mdls4179), (9636457, 202108, crij5352), (9539534, 202108, crij5352), (9644202, 202108, math2412), (9673980, 202108, math2412), (9202215, 202108, kine3360), (9646750, 202108, kine3360), (9646473, 202108, kine3360), (9586374, 202108, kine3360), (9687956, 202108, psyc3307), (9675082, 202108, psyc3307), (9492713, 202108, psyc3307), (9684174, 202108, chfs4320), (9682672, 202108, chfs4320), (9642841, 202108, acct2301), (9687525, 202108, acct2301), (9639161, 202108, acct2301), (9639958, 202108, acct2301), (9681588, 202108, acct2301), (9691458, 202108, acct2301), (9682512, 202108, bcis1305), (9509956, 202108, bcis1305), (9646316, 202108, bcis1305), (9674905, 202108, engl1302), (9676028, 202108, engl2320), (9602364, 202108, engl2320), (9697387, 202108, engl2340), (9636076, 202108, engl2340), (9488639, 202108, engl2340), (9689311, 202108, engl2340), (9203475, 202108, engl3301), (9519199, 202108, engl3301), (9675451, 202108, engl3301), (9603801, 202108, comm1311), (9587135, 202108, comm1311), (9521744, 202108, acct2302), (9653708, 202108, acct2302), (9645306, 202108, acct2302), (9925028, 202108, acct2302), (9561992, 202108, acct3301), (9819317, 202108, acct5307), (9678747, 202108, acct5307), (9831898, 202108, acct5307), (9875500, 202108, acct5307), (9654883, 202108, busi2301), (9645655, 202108, econ2301), (9650925, 202108, econ2301), (9541643, 202108, econ2301), (9691516, 202108, econ2301), (9602317, 202108, finc3301), (9646595, 202108, finc3301), (9656695, 202108, finc3301), (9636886, 202108, finc3301), (9562038, 202108, econ2301), (9656159, 202108, arts1311), (9644605, 202108, arts2316), (9449585, 202108, arts3310), (10162158, 202108, arts3363), (9675742, 202108, arts3363), ...]\n",
      "\n",
      "[164200 rows x 0 columns]]}\n"
     ]
    }
   ],
   "source": [
    "import pathlib\n",
    "import dill\n",
    "\n",
    "path = pathlib.Path('C:\\\\Users\\\\gavin\\Documents\\\\AMP\\\\admitted_matriculation_predictor\\\\119\\\\X.pkl')\n",
    "\n",
    "with open(path, 'rb') as f:\n",
    "    a = dill.load(f)\n",
    "\n",
    "print(a)"
   ]
  },
  {
   "cell_type": "code",
   "execution_count": 2,
   "metadata": {},
   "outputs": [
    {
     "name": "stdout",
     "output_type": "stream",
     "text": [
      "creating terms.pkl: \n",
      "creating trm.parq: Elapsed time: 0.0002 seconds\n",
      "Elapsed time: 0.0014 seconds\n"
     ]
    },
    {
     "ename": "DatabaseError",
     "evalue": "DPY-4001: no credentials specified",
     "output_type": "error",
     "traceback": [
      "\u001b[1;31m---------------------------------------------------------------------------\u001b[0m",
      "\u001b[1;31mDatabaseError\u001b[0m                             Traceback (most recent call last)",
      "Cell \u001b[1;32mIn[2], line 3\u001b[0m\n\u001b[0;32m      1\u001b[0m \u001b[38;5;28;01mfrom\u001b[39;00m \u001b[38;5;21;01mLiveAMP\u001b[39;00m \u001b[38;5;28;01mimport\u001b[39;00m \u001b[38;5;241m*\u001b[39m\n\u001b[1;32m----> 3\u001b[0m \u001b[43mrun_amp\u001b[49m\u001b[43m(\u001b[49m\u001b[38;5;241;43m98\u001b[39;49m\u001b[43m)\u001b[49m\n",
      "File \u001b[1;32mc:\\Users\\Gavin\\Documents\\admitted_matriculation_predictor\\src\\LiveAMP.py:474\u001b[0m, in \u001b[0;36mrun_amp\u001b[1;34m(cycle_day, *styp_codes)\u001b[0m\n\u001b[0;32m    472\u001b[0m cycle_day \u001b[38;5;241m=\u001b[39m \u001b[38;5;28mint\u001b[39m(cycle_day)\n\u001b[0;32m    473\u001b[0m styp_codes \u001b[38;5;241m=\u001b[39m styp_codes \u001b[38;5;28;01mif\u001b[39;00m styp_codes \u001b[38;5;28;01melse\u001b[39;00m [\u001b[38;5;124m'\u001b[39m\u001b[38;5;124mn\u001b[39m\u001b[38;5;124m'\u001b[39m,\u001b[38;5;124m'\u001b[39m\u001b[38;5;124mr\u001b[39m\u001b[38;5;124m'\u001b[39m,\u001b[38;5;124m'\u001b[39m\u001b[38;5;124mt\u001b[39m\u001b[38;5;124m'\u001b[39m]\n\u001b[1;32m--> 474\u001b[0m \u001b[38;5;28mself\u001b[39m \u001b[38;5;241m=\u001b[39m \u001b[43mAMP\u001b[49m\u001b[43m(\u001b[49m\u001b[43mcycle_day\u001b[49m\u001b[38;5;241;43m=\u001b[39;49m\u001b[43mcycle_day\u001b[49m\u001b[43m)\u001b[49m\u001b[38;5;241;43m.\u001b[39;49m\u001b[43mget_X\u001b[49m\u001b[43m(\u001b[49m\u001b[43m)\u001b[49m\n\u001b[0;32m    475\u001b[0m \u001b[38;5;28;01mfor\u001b[39;00m kwargs \u001b[38;5;129;01min\u001b[39;00m cartesian({\u001b[38;5;124m'\u001b[39m\u001b[38;5;124mcrse_code\u001b[39m\u001b[38;5;124m'\u001b[39m:intersection(crse_codes, \u001b[38;5;28mself\u001b[39m\u001b[38;5;241m.\u001b[39my_true\u001b[38;5;241m.\u001b[39mreset_index()[\u001b[38;5;124m'\u001b[39m\u001b[38;5;124mvalue\u001b[39m\u001b[38;5;124m'\u001b[39m], sort\u001b[38;5;241m=\u001b[39m\u001b[38;5;28;01mTrue\u001b[39;00m, reverse\u001b[38;5;241m=\u001b[39m\u001b[38;5;28;01mTrue\u001b[39;00m), \u001b[38;5;124m'\u001b[39m\u001b[38;5;124mcycle_day\u001b[39m\u001b[38;5;124m'\u001b[39m:cycle_day, \u001b[38;5;124m'\u001b[39m\u001b[38;5;124mstyp_code\u001b[39m\u001b[38;5;124m'\u001b[39m:styp_codes, \u001b[38;5;124m'\u001b[39m\u001b[38;5;124mparam\u001b[39m\u001b[38;5;124m'\u001b[39m:param_lst}):\n\u001b[0;32m    476\u001b[0m     \u001b[38;5;28mself\u001b[39m \u001b[38;5;241m=\u001b[39m AMP(\u001b[38;5;241m*\u001b[39m\u001b[38;5;241m*\u001b[39mkwargs)\u001b[38;5;241m.\u001b[39mget_y_pred()\n",
      "File \u001b[1;32mc:\\Users\\Gavin\\Documents\\admitted_matriculation_predictor\\src\\LiveAMP.py:282\u001b[0m, in \u001b[0;36mAMP.get_X\u001b[1;34m(self)\u001b[0m\n\u001b[0;32m    280\u001b[0m     M \u001b[38;5;241m=\u001b[39m X\u001b[38;5;241m.\u001b[39misnull()\u001b[38;5;241m.\u001b[39mrename(columns\u001b[38;5;241m=\u001b[39m\u001b[38;5;28;01mlambda\u001b[39;00m x:x\u001b[38;5;241m+\u001b[39m\u001b[38;5;124m'\u001b[39m\u001b[38;5;124m_missing\u001b[39m\u001b[38;5;124m'\u001b[39m)\n\u001b[0;32m    281\u001b[0m     \u001b[38;5;28mself\u001b[39m\u001b[38;5;241m.\u001b[39mX \u001b[38;5;241m=\u001b[39m X\u001b[38;5;241m.\u001b[39mjoin(M)\u001b[38;5;241m.\u001b[39mprep(\u001b[38;5;28mbool\u001b[39m\u001b[38;5;241m=\u001b[39m\u001b[38;5;28;01mTrue\u001b[39;00m)\n\u001b[1;32m--> 282\u001b[0m \u001b[38;5;28;01mreturn\u001b[39;00m \u001b[38;5;28;43mself\u001b[39;49m\u001b[38;5;241;43m.\u001b[39;49m\u001b[43mget\u001b[49m\u001b[43m(\u001b[49m\u001b[43mfunc\u001b[49m\u001b[43m,\u001b[49m\u001b[43m \u001b[49m\u001b[43mpre\u001b[49m\u001b[38;5;241;43m=\u001b[39;49m\u001b[38;5;124;43m\"\u001b[39;49m\u001b[38;5;124;43mterms\u001b[39;49m\u001b[38;5;124;43m\"\u001b[39;49m\u001b[43m,\u001b[49m\u001b[43m \u001b[49m\u001b[43mdrop\u001b[49m\u001b[38;5;241;43m=\u001b[39;49m\u001b[38;5;124;43m\"\u001b[39;49m\u001b[38;5;124;43mterms\u001b[39;49m\u001b[38;5;124;43m\"\u001b[39;49m\u001b[43m,\u001b[49m\u001b[43m \u001b[49m\u001b[43mfn\u001b[49m\u001b[38;5;241;43m=\u001b[39;49m\u001b[38;5;124;43m\"\u001b[39;49m\u001b[38;5;124;43mX.pkl\u001b[39;49m\u001b[38;5;124;43m\"\u001b[39;49m\u001b[43m)\u001b[49m\n",
      "File \u001b[1;32mc:\\Users\\Gavin\\Documents\\admitted_matriculation_predictor\\src\\setup.py:310\u001b[0m, in \u001b[0;36mMyBaseClass.get\u001b[1;34m(self, func, fn, subpath, pre, drop)\u001b[0m\n\u001b[0;32m    308\u001b[0m \u001b[38;5;28;01mif\u001b[39;00m nm \u001b[38;5;129;01mnot\u001b[39;00m \u001b[38;5;129;01min\u001b[39;00m \u001b[38;5;28mself\u001b[39m \u001b[38;5;129;01mor\u001b[39;00m \u001b[38;5;28mself\u001b[39m[nm] \u001b[38;5;129;01mis\u001b[39;00m \u001b[38;5;28;01mNone\u001b[39;00m:\n\u001b[0;32m    309\u001b[0m     \u001b[38;5;28;01mfor\u001b[39;00m k \u001b[38;5;129;01min\u001b[39;00m uniquify(pre):\n\u001b[1;32m--> 310\u001b[0m         \u001b[38;5;28;43mgetattr\u001b[39;49m\u001b[43m(\u001b[49m\u001b[38;5;28;43mself\u001b[39;49m\u001b[43m,\u001b[49m\u001b[43m \u001b[49m\u001b[38;5;124;43m'\u001b[39;49m\u001b[38;5;124;43mget_\u001b[39;49m\u001b[38;5;124;43m'\u001b[39;49m\u001b[38;5;241;43m+\u001b[39;49m\u001b[43mk\u001b[49m\u001b[43m)\u001b[49m\u001b[43m(\u001b[49m\u001b[43m)\u001b[49m\n\u001b[0;32m    311\u001b[0m     \u001b[38;5;28;01mwith\u001b[39;00m Timer():\n\u001b[0;32m    312\u001b[0m         \u001b[38;5;28mprint\u001b[39m(\u001b[38;5;124m'\u001b[39m\u001b[38;5;124mcreating\u001b[39m\u001b[38;5;124m'\u001b[39m, fn, end\u001b[38;5;241m=\u001b[39m\u001b[38;5;124m\"\u001b[39m\u001b[38;5;124m: \u001b[39m\u001b[38;5;124m\"\u001b[39m)\n",
      "File \u001b[1;32mc:\\Users\\Gavin\\Documents\\admitted_matriculation_predictor\\src\\LiveAMP.py:165\u001b[0m, in \u001b[0;36mAMP.get_terms\u001b[1;34m(self)\u001b[0m\n\u001b[0;32m    163\u001b[0m     \u001b[38;5;28;01mdel\u001b[39;00m \u001b[38;5;28mself\u001b[39m\u001b[38;5;241m.\u001b[39mterms[\u001b[38;5;124m'\u001b[39m\u001b[38;5;124mactual\u001b[39m\u001b[38;5;124m'\u001b[39m][\u001b[38;5;28mself\u001b[39m\u001b[38;5;241m.\u001b[39mproj_code]\n\u001b[0;32m    164\u001b[0m     \u001b[38;5;28mself\u001b[39m\u001b[38;5;241m.\u001b[39mcycle_date \u001b[38;5;241m=\u001b[39m \u001b[38;5;28mself\u001b[39m\u001b[38;5;241m.\u001b[39mterms[\u001b[38;5;124m'\u001b[39m\u001b[38;5;124mcurrent\u001b[39m\u001b[38;5;124m'\u001b[39m][\u001b[38;5;28mself\u001b[39m\u001b[38;5;241m.\u001b[39mproj_code]\u001b[38;5;241m.\u001b[39mcycle_date\n\u001b[1;32m--> 165\u001b[0m \u001b[38;5;28;01mreturn\u001b[39;00m \u001b[38;5;28;43mself\u001b[39;49m\u001b[38;5;241;43m.\u001b[39;49m\u001b[43mget\u001b[49m\u001b[43m(\u001b[49m\u001b[43mfunc\u001b[49m\u001b[43m,\u001b[49m\u001b[43m \u001b[49m\u001b[43mfn\u001b[49m\u001b[38;5;241;43m=\u001b[39;49m\u001b[38;5;124;43m\"\u001b[39;49m\u001b[38;5;124;43mterms.pkl\u001b[39;49m\u001b[38;5;124;43m\"\u001b[39;49m\u001b[43m)\u001b[49m\n",
      "File \u001b[1;32mc:\\Users\\Gavin\\Documents\\admitted_matriculation_predictor\\src\\setup.py:313\u001b[0m, in \u001b[0;36mMyBaseClass.get\u001b[1;34m(self, func, fn, subpath, pre, drop)\u001b[0m\n\u001b[0;32m    311\u001b[0m \u001b[38;5;28;01mwith\u001b[39;00m Timer():\n\u001b[0;32m    312\u001b[0m     \u001b[38;5;28mprint\u001b[39m(\u001b[38;5;124m'\u001b[39m\u001b[38;5;124mcreating\u001b[39m\u001b[38;5;124m'\u001b[39m, fn, end\u001b[38;5;241m=\u001b[39m\u001b[38;5;124m\"\u001b[39m\u001b[38;5;124m: \u001b[39m\u001b[38;5;124m\"\u001b[39m)\n\u001b[1;32m--> 313\u001b[0m     \u001b[43mfunc\u001b[49m\u001b[43m(\u001b[49m\u001b[43m)\u001b[49m\n\u001b[0;32m    314\u001b[0m     \u001b[38;5;28;01mfor\u001b[39;00m k \u001b[38;5;129;01min\u001b[39;00m uniquify(drop):\n\u001b[0;32m    315\u001b[0m         \u001b[38;5;28;01mdel\u001b[39;00m \u001b[38;5;28mself\u001b[39m[k]\n",
      "File \u001b[1;32mc:\\Users\\Gavin\\Documents\\admitted_matriculation_predictor\\src\\LiveAMP.py:160\u001b[0m, in \u001b[0;36mAMP.get_terms.<locals>.func\u001b[1;34m()\u001b[0m\n\u001b[0;32m    158\u001b[0m \u001b[38;5;28;01mdef\u001b[39;00m \u001b[38;5;21mfunc\u001b[39m():\n\u001b[0;32m    159\u001b[0m     \u001b[38;5;28mprint\u001b[39m()\n\u001b[1;32m--> 160\u001b[0m     \u001b[38;5;28mself\u001b[39m\u001b[38;5;241m.\u001b[39mterms \u001b[38;5;241m=\u001b[39m \u001b[43m{\u001b[49m\u001b[43mkey\u001b[49m\u001b[43m:\u001b[49m\u001b[43m \u001b[49m\u001b[43m{\u001b[49m\u001b[43mterm_code\u001b[49m\u001b[43m:\u001b[49m\n\u001b[0;32m    161\u001b[0m \u001b[43m        \u001b[49m\u001b[43mTerm\u001b[49m\u001b[43m(\u001b[49m\u001b[43mterm_code\u001b[49m\u001b[38;5;241;43m=\u001b[39;49m\u001b[43mterm_code\u001b[49m\u001b[43m,\u001b[49m\u001b[43m \u001b[49m\u001b[43mcycle_day\u001b[49m\u001b[38;5;241;43m=\u001b[39;49m\u001b[43mcycle_day\u001b[49m\u001b[43m,\u001b[49m\u001b[43m \u001b[49m\u001b[43moverwrite\u001b[49m\u001b[38;5;241;43m=\u001b[39;49m\u001b[38;5;28;43mself\u001b[39;49m\u001b[38;5;241;43m.\u001b[39;49m\u001b[43moverwrite\u001b[49m\u001b[43m,\u001b[49m\u001b[43m \u001b[49m\u001b[43mshow\u001b[49m\u001b[38;5;241;43m=\u001b[39;49m\u001b[38;5;28;43mself\u001b[39;49m\u001b[38;5;241;43m.\u001b[39;49m\u001b[43mshow\u001b[49m\u001b[43m)\u001b[49m\u001b[38;5;241;43m.\u001b[39;49m\u001b[43mget_reg\u001b[49m\u001b[43m(\u001b[49m\u001b[43m)\u001b[49m\u001b[38;5;241;43m.\u001b[39;49m\u001b[43mget_raw\u001b[49m\u001b[43m(\u001b[49m\u001b[43m)\u001b[49m\n\u001b[0;32m    162\u001b[0m \u001b[43m    \u001b[49m\u001b[38;5;28;43;01mfor\u001b[39;49;00m\u001b[43m \u001b[49m\u001b[43mterm_code\u001b[49m\u001b[43m \u001b[49m\u001b[38;5;129;43;01min\u001b[39;49;00m\u001b[43m \u001b[49m\u001b[38;5;28;43mself\u001b[39;49m\u001b[38;5;241;43m.\u001b[39;49m\u001b[43mterm_codes\u001b[49m\u001b[43m}\u001b[49m\u001b[43m \u001b[49m\u001b[38;5;28;43;01mfor\u001b[39;49;00m\u001b[43m \u001b[49m\u001b[43mkey\u001b[49m\u001b[43m,\u001b[49m\u001b[43m \u001b[49m\u001b[43mcycle_day\u001b[49m\u001b[43m \u001b[49m\u001b[38;5;129;43;01min\u001b[39;49;00m\u001b[43m \u001b[49m\u001b[43m{\u001b[49m\u001b[38;5;124;43m'\u001b[39;49m\u001b[38;5;124;43mcurrent\u001b[39;49m\u001b[38;5;124;43m'\u001b[39;49m\u001b[43m:\u001b[49m\u001b[38;5;28;43mself\u001b[39;49m\u001b[38;5;241;43m.\u001b[39;49m\u001b[43mcycle_day\u001b[49m\u001b[43m,\u001b[49m\u001b[43m \u001b[49m\u001b[38;5;124;43m'\u001b[39;49m\u001b[38;5;124;43mactual\u001b[39;49m\u001b[38;5;124;43m'\u001b[39;49m\u001b[43m:\u001b[49m\u001b[38;5;241;43m0\u001b[39;49m\u001b[43m}\u001b[49m\u001b[38;5;241;43m.\u001b[39;49m\u001b[43mitems\u001b[49m\u001b[43m(\u001b[49m\u001b[43m)\u001b[49m\u001b[43m}\u001b[49m\n\u001b[0;32m    163\u001b[0m     \u001b[38;5;28;01mdel\u001b[39;00m \u001b[38;5;28mself\u001b[39m\u001b[38;5;241m.\u001b[39mterms[\u001b[38;5;124m'\u001b[39m\u001b[38;5;124mactual\u001b[39m\u001b[38;5;124m'\u001b[39m][\u001b[38;5;28mself\u001b[39m\u001b[38;5;241m.\u001b[39mproj_code]\n\u001b[0;32m    164\u001b[0m     \u001b[38;5;28mself\u001b[39m\u001b[38;5;241m.\u001b[39mcycle_date \u001b[38;5;241m=\u001b[39m \u001b[38;5;28mself\u001b[39m\u001b[38;5;241m.\u001b[39mterms[\u001b[38;5;124m'\u001b[39m\u001b[38;5;124mcurrent\u001b[39m\u001b[38;5;124m'\u001b[39m][\u001b[38;5;28mself\u001b[39m\u001b[38;5;241m.\u001b[39mproj_code]\u001b[38;5;241m.\u001b[39mcycle_date\n",
      "File \u001b[1;32mc:\\Users\\Gavin\\Documents\\admitted_matriculation_predictor\\src\\LiveAMP.py:160\u001b[0m, in \u001b[0;36m<dictcomp>\u001b[1;34m(.0)\u001b[0m\n\u001b[0;32m    158\u001b[0m \u001b[38;5;28;01mdef\u001b[39;00m \u001b[38;5;21mfunc\u001b[39m():\n\u001b[0;32m    159\u001b[0m     \u001b[38;5;28mprint\u001b[39m()\n\u001b[1;32m--> 160\u001b[0m     \u001b[38;5;28mself\u001b[39m\u001b[38;5;241m.\u001b[39mterms \u001b[38;5;241m=\u001b[39m {key: \u001b[43m{\u001b[49m\u001b[43mterm_code\u001b[49m\u001b[43m:\u001b[49m\n\u001b[0;32m    161\u001b[0m \u001b[43m        \u001b[49m\u001b[43mTerm\u001b[49m\u001b[43m(\u001b[49m\u001b[43mterm_code\u001b[49m\u001b[38;5;241;43m=\u001b[39;49m\u001b[43mterm_code\u001b[49m\u001b[43m,\u001b[49m\u001b[43m \u001b[49m\u001b[43mcycle_day\u001b[49m\u001b[38;5;241;43m=\u001b[39;49m\u001b[43mcycle_day\u001b[49m\u001b[43m,\u001b[49m\u001b[43m \u001b[49m\u001b[43moverwrite\u001b[49m\u001b[38;5;241;43m=\u001b[39;49m\u001b[38;5;28;43mself\u001b[39;49m\u001b[38;5;241;43m.\u001b[39;49m\u001b[43moverwrite\u001b[49m\u001b[43m,\u001b[49m\u001b[43m \u001b[49m\u001b[43mshow\u001b[49m\u001b[38;5;241;43m=\u001b[39;49m\u001b[38;5;28;43mself\u001b[39;49m\u001b[38;5;241;43m.\u001b[39;49m\u001b[43mshow\u001b[49m\u001b[43m)\u001b[49m\u001b[38;5;241;43m.\u001b[39;49m\u001b[43mget_reg\u001b[49m\u001b[43m(\u001b[49m\u001b[43m)\u001b[49m\u001b[38;5;241;43m.\u001b[39;49m\u001b[43mget_raw\u001b[49m\u001b[43m(\u001b[49m\u001b[43m)\u001b[49m\n\u001b[0;32m    162\u001b[0m \u001b[43m    \u001b[49m\u001b[38;5;28;43;01mfor\u001b[39;49;00m\u001b[43m \u001b[49m\u001b[43mterm_code\u001b[49m\u001b[43m \u001b[49m\u001b[38;5;129;43;01min\u001b[39;49;00m\u001b[43m \u001b[49m\u001b[38;5;28;43mself\u001b[39;49m\u001b[38;5;241;43m.\u001b[39;49m\u001b[43mterm_codes\u001b[49m\u001b[43m}\u001b[49m \u001b[38;5;28;01mfor\u001b[39;00m key, cycle_day \u001b[38;5;129;01min\u001b[39;00m {\u001b[38;5;124m'\u001b[39m\u001b[38;5;124mcurrent\u001b[39m\u001b[38;5;124m'\u001b[39m:\u001b[38;5;28mself\u001b[39m\u001b[38;5;241m.\u001b[39mcycle_day, \u001b[38;5;124m'\u001b[39m\u001b[38;5;124mactual\u001b[39m\u001b[38;5;124m'\u001b[39m:\u001b[38;5;241m0\u001b[39m}\u001b[38;5;241m.\u001b[39mitems()}\n\u001b[0;32m    163\u001b[0m     \u001b[38;5;28;01mdel\u001b[39;00m \u001b[38;5;28mself\u001b[39m\u001b[38;5;241m.\u001b[39mterms[\u001b[38;5;124m'\u001b[39m\u001b[38;5;124mactual\u001b[39m\u001b[38;5;124m'\u001b[39m][\u001b[38;5;28mself\u001b[39m\u001b[38;5;241m.\u001b[39mproj_code]\n\u001b[0;32m    164\u001b[0m     \u001b[38;5;28mself\u001b[39m\u001b[38;5;241m.\u001b[39mcycle_date \u001b[38;5;241m=\u001b[39m \u001b[38;5;28mself\u001b[39m\u001b[38;5;241m.\u001b[39mterms[\u001b[38;5;124m'\u001b[39m\u001b[38;5;124mcurrent\u001b[39m\u001b[38;5;124m'\u001b[39m][\u001b[38;5;28mself\u001b[39m\u001b[38;5;241m.\u001b[39mproj_code]\u001b[38;5;241m.\u001b[39mcycle_date\n",
      "File \u001b[1;32mc:\\Users\\Gavin\\Documents\\admitted_matriculation_predictor\\src\\LiveAMP.py:161\u001b[0m, in \u001b[0;36m<dictcomp>\u001b[1;34m(.0)\u001b[0m\n\u001b[0;32m    158\u001b[0m \u001b[38;5;28;01mdef\u001b[39;00m \u001b[38;5;21mfunc\u001b[39m():\n\u001b[0;32m    159\u001b[0m     \u001b[38;5;28mprint\u001b[39m()\n\u001b[0;32m    160\u001b[0m     \u001b[38;5;28mself\u001b[39m\u001b[38;5;241m.\u001b[39mterms \u001b[38;5;241m=\u001b[39m {key: {term_code:\n\u001b[1;32m--> 161\u001b[0m         \u001b[43mTerm\u001b[49m\u001b[43m(\u001b[49m\u001b[43mterm_code\u001b[49m\u001b[38;5;241;43m=\u001b[39;49m\u001b[43mterm_code\u001b[49m\u001b[43m,\u001b[49m\u001b[43m \u001b[49m\u001b[43mcycle_day\u001b[49m\u001b[38;5;241;43m=\u001b[39;49m\u001b[43mcycle_day\u001b[49m\u001b[43m,\u001b[49m\u001b[43m \u001b[49m\u001b[43moverwrite\u001b[49m\u001b[38;5;241;43m=\u001b[39;49m\u001b[38;5;28;43mself\u001b[39;49m\u001b[38;5;241;43m.\u001b[39;49m\u001b[43moverwrite\u001b[49m\u001b[43m,\u001b[49m\u001b[43m \u001b[49m\u001b[43mshow\u001b[49m\u001b[38;5;241;43m=\u001b[39;49m\u001b[38;5;28;43mself\u001b[39;49m\u001b[38;5;241;43m.\u001b[39;49m\u001b[43mshow\u001b[49m\u001b[43m)\u001b[49m\u001b[38;5;241m.\u001b[39mget_reg()\u001b[38;5;241m.\u001b[39mget_raw()\n\u001b[0;32m    162\u001b[0m     \u001b[38;5;28;01mfor\u001b[39;00m term_code \u001b[38;5;129;01min\u001b[39;00m \u001b[38;5;28mself\u001b[39m\u001b[38;5;241m.\u001b[39mterm_codes} \u001b[38;5;28;01mfor\u001b[39;00m key, cycle_day \u001b[38;5;129;01min\u001b[39;00m {\u001b[38;5;124m'\u001b[39m\u001b[38;5;124mcurrent\u001b[39m\u001b[38;5;124m'\u001b[39m:\u001b[38;5;28mself\u001b[39m\u001b[38;5;241m.\u001b[39mcycle_day, \u001b[38;5;124m'\u001b[39m\u001b[38;5;124mactual\u001b[39m\u001b[38;5;124m'\u001b[39m:\u001b[38;5;241m0\u001b[39m}\u001b[38;5;241m.\u001b[39mitems()}\n\u001b[0;32m    163\u001b[0m     \u001b[38;5;28;01mdel\u001b[39;00m \u001b[38;5;28mself\u001b[39m\u001b[38;5;241m.\u001b[39mterms[\u001b[38;5;124m'\u001b[39m\u001b[38;5;124mactual\u001b[39m\u001b[38;5;124m'\u001b[39m][\u001b[38;5;28mself\u001b[39m\u001b[38;5;241m.\u001b[39mproj_code]\n\u001b[0;32m    164\u001b[0m     \u001b[38;5;28mself\u001b[39m\u001b[38;5;241m.\u001b[39mcycle_date \u001b[38;5;241m=\u001b[39m \u001b[38;5;28mself\u001b[39m\u001b[38;5;241m.\u001b[39mterms[\u001b[38;5;124m'\u001b[39m\u001b[38;5;124mcurrent\u001b[39m\u001b[38;5;124m'\u001b[39m][\u001b[38;5;28mself\u001b[39m\u001b[38;5;241m.\u001b[39mproj_code]\u001b[38;5;241m.\u001b[39mcycle_date\n",
      "File \u001b[1;32m<string>:9\u001b[0m, in \u001b[0;36m__init__\u001b[1;34m(self, overwrite, dependence, cycle_day, term_code, show, root_path)\u001b[0m\n",
      "File \u001b[1;32mc:\\Users\\Gavin\\Documents\\admitted_matriculation_predictor\\src\\term.py:53\u001b[0m, in \u001b[0;36mTerm.__post_init__\u001b[1;34m(self)\u001b[0m\n\u001b[0;32m     51\u001b[0m \u001b[38;5;28;01mdef\u001b[39;00m \u001b[38;5;21m__post_init__\u001b[39m(\u001b[38;5;28mself\u001b[39m):\n\u001b[0;32m     52\u001b[0m     \u001b[38;5;28msuper\u001b[39m()\u001b[38;5;241m.\u001b[39m__post_init__()\n\u001b[1;32m---> 53\u001b[0m     \u001b[38;5;28;43mself\u001b[39;49m\u001b[38;5;241;43m.\u001b[39;49m\u001b[43mget_trm\u001b[49m\u001b[43m(\u001b[49m\u001b[43m)\u001b[49m\n\u001b[0;32m     54\u001b[0m     \u001b[38;5;28mself\u001b[39m\u001b[38;5;241m.\u001b[39mget_dst()\n\u001b[0;32m     55\u001b[0m     \u001b[38;5;28mself\u001b[39m\u001b[38;5;241m.\u001b[39myear \u001b[38;5;241m=\u001b[39m \u001b[38;5;28mself\u001b[39m\u001b[38;5;241m.\u001b[39mterm_code \u001b[38;5;241m/\u001b[39m\u001b[38;5;241m/\u001b[39m \u001b[38;5;241m100\u001b[39m\n",
      "File \u001b[1;32mc:\\Users\\Gavin\\Documents\\admitted_matriculation_predictor\\src\\term.py:44\u001b[0m, in \u001b[0;36mTerm.get_trm\u001b[1;34m(self)\u001b[0m\n\u001b[0;32m     31\u001b[0m             qry \u001b[38;5;241m=\u001b[39m \u001b[38;5;124mf\u001b[39m\u001b[38;5;124m\"\"\"\u001b[39m\n\u001b[0;32m     32\u001b[0m \u001b[38;5;124mselect\u001b[39m\n\u001b[0;32m     33\u001b[0m \u001b[38;5;124m    A.stvterm_code as term_code,\u001b[39m\n\u001b[1;32m   (...)\u001b[0m\n\u001b[0;32m     41\u001b[0m \u001b[38;5;124mfrom stvterm A, sobptrm B\u001b[39m\n\u001b[0;32m     42\u001b[0m \u001b[38;5;124mwhere A.stvterm_code = B.sobptrm_term_code and B.sobptrm_ptrm_code=\u001b[39m\u001b[38;5;124m'\u001b[39m\u001b[38;5;124m1\u001b[39m\u001b[38;5;124m'\u001b[39m\u001b[38;5;124m\"\"\"\u001b[39m\n\u001b[0;32m     43\u001b[0m             \u001b[38;5;28mself\u001b[39m\u001b[38;5;241m.\u001b[39mtrm \u001b[38;5;241m=\u001b[39m db\u001b[38;5;241m.\u001b[39mexecute(qry, \u001b[38;5;124m'\u001b[39m\u001b[38;5;124mtrm\u001b[39m\u001b[38;5;124m'\u001b[39m \u001b[38;5;129;01min\u001b[39;00m \u001b[38;5;28mself\u001b[39m\u001b[38;5;241m.\u001b[39mshow)\n\u001b[1;32m---> 44\u001b[0m         \u001b[38;5;28;01mreturn\u001b[39;00m \u001b[38;5;28;43mself\u001b[39;49m\u001b[38;5;241;43m.\u001b[39;49m\u001b[43mget\u001b[49m\u001b[43m(\u001b[49m\u001b[43mfunc\u001b[49m\u001b[43m,\u001b[49m\u001b[43m \u001b[49m\u001b[38;5;124;43m\"\u001b[39;49m\u001b[38;5;124;43mtrm.parq\u001b[39;49m\u001b[38;5;124;43m\"\u001b[39;49m\u001b[43m)\u001b[49m\n",
      "File \u001b[1;32mc:\\Users\\Gavin\\Documents\\admitted_matriculation_predictor\\src\\setup.py:313\u001b[0m, in \u001b[0;36mMyBaseClass.get\u001b[1;34m(self, func, fn, subpath, pre, drop)\u001b[0m\n\u001b[0;32m    311\u001b[0m \u001b[38;5;28;01mwith\u001b[39;00m Timer():\n\u001b[0;32m    312\u001b[0m     \u001b[38;5;28mprint\u001b[39m(\u001b[38;5;124m'\u001b[39m\u001b[38;5;124mcreating\u001b[39m\u001b[38;5;124m'\u001b[39m, fn, end\u001b[38;5;241m=\u001b[39m\u001b[38;5;124m\"\u001b[39m\u001b[38;5;124m: \u001b[39m\u001b[38;5;124m\"\u001b[39m)\n\u001b[1;32m--> 313\u001b[0m     \u001b[43mfunc\u001b[49m\u001b[43m(\u001b[49m\u001b[43m)\u001b[49m\n\u001b[0;32m    314\u001b[0m     \u001b[38;5;28;01mfor\u001b[39;00m k \u001b[38;5;129;01min\u001b[39;00m uniquify(drop):\n\u001b[0;32m    315\u001b[0m         \u001b[38;5;28;01mdel\u001b[39;00m \u001b[38;5;28mself\u001b[39m[k]\n",
      "File \u001b[1;32mc:\\Users\\Gavin\\Documents\\admitted_matriculation_predictor\\src\\term.py:43\u001b[0m, in \u001b[0;36mTerm.get_trm.<locals>.func\u001b[1;34m()\u001b[0m\n\u001b[0;32m     30\u001b[0m         \u001b[38;5;28;01mdef\u001b[39;00m \u001b[38;5;21mfunc\u001b[39m():\n\u001b[0;32m     31\u001b[0m             qry \u001b[38;5;241m=\u001b[39m \u001b[38;5;124mf\u001b[39m\u001b[38;5;124m\"\"\"\u001b[39m\n\u001b[0;32m     32\u001b[0m \u001b[38;5;124mselect\u001b[39m\n\u001b[0;32m     33\u001b[0m \u001b[38;5;124m    A.stvterm_code as term_code,\u001b[39m\n\u001b[1;32m   (...)\u001b[0m\n\u001b[0;32m     41\u001b[0m \u001b[38;5;124mfrom stvterm A, sobptrm B\u001b[39m\n\u001b[0;32m     42\u001b[0m \u001b[38;5;124mwhere A.stvterm_code = B.sobptrm_term_code and B.sobptrm_ptrm_code=\u001b[39m\u001b[38;5;124m'\u001b[39m\u001b[38;5;124m1\u001b[39m\u001b[38;5;124m'\u001b[39m\u001b[38;5;124m\"\"\"\u001b[39m\n\u001b[1;32m---> 43\u001b[0m             \u001b[38;5;28mself\u001b[39m\u001b[38;5;241m.\u001b[39mtrm \u001b[38;5;241m=\u001b[39m \u001b[43mdb\u001b[49m\u001b[38;5;241;43m.\u001b[39;49m\u001b[43mexecute\u001b[49m\u001b[43m(\u001b[49m\u001b[43mqry\u001b[49m\u001b[43m,\u001b[49m\u001b[43m \u001b[49m\u001b[38;5;124;43m'\u001b[39;49m\u001b[38;5;124;43mtrm\u001b[39;49m\u001b[38;5;124;43m'\u001b[39;49m\u001b[43m \u001b[49m\u001b[38;5;129;43;01min\u001b[39;49;00m\u001b[43m \u001b[49m\u001b[38;5;28;43mself\u001b[39;49m\u001b[38;5;241;43m.\u001b[39;49m\u001b[43mshow\u001b[49m\u001b[43m)\u001b[49m\n",
      "File \u001b[1;32mc:\\Users\\Gavin\\Documents\\admitted_matriculation_predictor\\src\\setup.py:332\u001b[0m, in \u001b[0;36mOracle.execute\u001b[1;34m(self, qry, show, timeout, **opts)\u001b[0m\n\u001b[0;32m    330\u001b[0m \u001b[38;5;28;01mif\u001b[39;00m show:\n\u001b[0;32m    331\u001b[0m     \u001b[38;5;28mprint\u001b[39m(qry)\n\u001b[1;32m--> 332\u001b[0m \u001b[38;5;28;01mwith\u001b[39;00m warnings\u001b[38;5;241m.\u001b[39mcatch_warnings(action\u001b[38;5;241m=\u001b[39m\u001b[38;5;124m'\u001b[39m\u001b[38;5;124mignore\u001b[39m\u001b[38;5;124m'\u001b[39m), \u001b[43moracledb\u001b[49m\u001b[38;5;241;43m.\u001b[39;49m\u001b[43mconnect\u001b[49m\u001b[43m(\u001b[49m\u001b[43muser\u001b[49m\u001b[38;5;241;43m=\u001b[39;49m\u001b[43mos\u001b[49m\u001b[38;5;241;43m.\u001b[39;49m\u001b[43menviron\u001b[49m\u001b[38;5;241;43m.\u001b[39;49m\u001b[43mget\u001b[49m\u001b[43m(\u001b[49m\u001b[38;5;28;43mself\u001b[39;49m\u001b[38;5;241;43m.\u001b[39;49m\u001b[43mdatabase\u001b[49m\u001b[38;5;241;43m+\u001b[39;49m\u001b[38;5;124;43m'\u001b[39;49m\u001b[38;5;124;43m_USER\u001b[39;49m\u001b[38;5;124;43m'\u001b[39;49m\u001b[43m)\u001b[49m\u001b[43m,\u001b[49m\u001b[43m \u001b[49m\u001b[43mpassword\u001b[49m\u001b[38;5;241;43m=\u001b[39;49m\u001b[43mos\u001b[49m\u001b[38;5;241;43m.\u001b[39;49m\u001b[43menviron\u001b[49m\u001b[38;5;241;43m.\u001b[39;49m\u001b[43mget\u001b[49m\u001b[43m(\u001b[49m\u001b[38;5;28;43mself\u001b[39;49m\u001b[38;5;241;43m.\u001b[39;49m\u001b[43mdatabase\u001b[49m\u001b[38;5;241;43m+\u001b[39;49m\u001b[38;5;124;43m'\u001b[39;49m\u001b[38;5;124;43m_PASS\u001b[39;49m\u001b[38;5;124;43m'\u001b[39;49m\u001b[43m)\u001b[49m\u001b[43m,\u001b[49m\u001b[43m \u001b[49m\u001b[43mdsn\u001b[49m\u001b[38;5;241;43m=\u001b[39;49m\u001b[43mos\u001b[49m\u001b[38;5;241;43m.\u001b[39;49m\u001b[43menviron\u001b[49m\u001b[38;5;241;43m.\u001b[39;49m\u001b[43mget\u001b[49m\u001b[43m(\u001b[49m\u001b[38;5;28;43mself\u001b[39;49m\u001b[38;5;241;43m.\u001b[39;49m\u001b[43mdatabase\u001b[49m\u001b[38;5;241;43m+\u001b[39;49m\u001b[38;5;124;43m'\u001b[39;49m\u001b[38;5;124;43m_DSN\u001b[39;49m\u001b[38;5;124;43m'\u001b[39;49m\u001b[43m)\u001b[49m\u001b[43m)\u001b[49m \u001b[38;5;28;01mas\u001b[39;00m connection:\n\u001b[0;32m    333\u001b[0m     connection\u001b[38;5;241m.\u001b[39mcall_timeout \u001b[38;5;241m=\u001b[39m \u001b[38;5;28mself\u001b[39m\u001b[38;5;241m.\u001b[39mtimeout_default \u001b[38;5;28;01mif\u001b[39;00m timeout \u001b[38;5;129;01mis\u001b[39;00m \u001b[38;5;28;01mNone\u001b[39;00m \u001b[38;5;28;01melse\u001b[39;00m timeout\n\u001b[0;32m    334\u001b[0m     \u001b[38;5;28;01mtry\u001b[39;00m:\n",
      "File \u001b[1;32mc:\\Users\\Gavin\\Documents\\admitted_matriculation_predictor\\.conda\\Lib\\site-packages\\oracledb\\connection.py:1158\u001b[0m, in \u001b[0;36m_connection_factory.<locals>.connect\u001b[1;34m(dsn, pool, conn_class, params, **kwargs)\u001b[0m\n\u001b[0;32m   1156\u001b[0m     message \u001b[38;5;241m=\u001b[39m \u001b[38;5;124m\"\u001b[39m\u001b[38;5;124mpool must be an instance of oracledb.ConnectionPool\u001b[39m\u001b[38;5;124m\"\u001b[39m\n\u001b[0;32m   1157\u001b[0m     \u001b[38;5;28;01mraise\u001b[39;00m \u001b[38;5;167;01mTypeError\u001b[39;00m(message)\n\u001b[1;32m-> 1158\u001b[0m \u001b[38;5;28;01mreturn\u001b[39;00m \u001b[43mconn_class\u001b[49m\u001b[43m(\u001b[49m\u001b[43mdsn\u001b[49m\u001b[38;5;241;43m=\u001b[39;49m\u001b[43mdsn\u001b[49m\u001b[43m,\u001b[49m\u001b[43m \u001b[49m\u001b[43mpool\u001b[49m\u001b[38;5;241;43m=\u001b[39;49m\u001b[43mpool\u001b[49m\u001b[43m,\u001b[49m\u001b[43m \u001b[49m\u001b[43mparams\u001b[49m\u001b[38;5;241;43m=\u001b[39;49m\u001b[43mparams\u001b[49m\u001b[43m,\u001b[49m\u001b[43m \u001b[49m\u001b[38;5;241;43m*\u001b[39;49m\u001b[38;5;241;43m*\u001b[39;49m\u001b[43mkwargs\u001b[49m\u001b[43m)\u001b[49m\n",
      "File \u001b[1;32mc:\\Users\\Gavin\\Documents\\admitted_matriculation_predictor\\.conda\\Lib\\site-packages\\oracledb\\connection.py:541\u001b[0m, in \u001b[0;36mConnection.__init__\u001b[1;34m(self, dsn, pool, params, **kwargs)\u001b[0m\n\u001b[0;32m    539\u001b[0m     \u001b[38;5;28;01melse\u001b[39;00m:\n\u001b[0;32m    540\u001b[0m         impl \u001b[38;5;241m=\u001b[39m thin_impl\u001b[38;5;241m.\u001b[39mThinConnImpl(dsn, params_impl)\n\u001b[1;32m--> 541\u001b[0m         \u001b[43mimpl\u001b[49m\u001b[38;5;241;43m.\u001b[39;49m\u001b[43mconnect\u001b[49m\u001b[43m(\u001b[49m\u001b[43mparams_impl\u001b[49m\u001b[43m)\u001b[49m\n\u001b[0;32m    542\u001b[0m \u001b[38;5;28;01melse\u001b[39;00m:\n\u001b[0;32m    543\u001b[0m     impl \u001b[38;5;241m=\u001b[39m thick_impl\u001b[38;5;241m.\u001b[39mThickConnImpl(dsn, params_impl)\n",
      "File \u001b[1;32msrc\\\\oracledb\\\\impl/thin/connection.pyx:381\u001b[0m, in \u001b[0;36moracledb.thin_impl.ThinConnImpl.connect\u001b[1;34m()\u001b[0m\n",
      "File \u001b[1;32msrc\\\\oracledb\\\\impl/thin/connection.pyx:376\u001b[0m, in \u001b[0;36moracledb.thin_impl.ThinConnImpl.connect\u001b[1;34m()\u001b[0m\n",
      "File \u001b[1;32msrc\\\\oracledb\\\\impl/thin/connection.pyx:151\u001b[0m, in \u001b[0;36moracledb.thin_impl.BaseThinConnImpl._pre_connect\u001b[1;34m()\u001b[0m\n",
      "File \u001b[1;32msrc\\\\oracledb\\\\impl/base/connect_params.pyx:182\u001b[0m, in \u001b[0;36moracledb.base_impl.ConnectParamsImpl._check_credentials\u001b[1;34m()\u001b[0m\n",
      "File \u001b[1;32mc:\\Users\\Gavin\\Documents\\admitted_matriculation_predictor\\.conda\\Lib\\site-packages\\oracledb\\errors.py:182\u001b[0m, in \u001b[0;36m_raise_err\u001b[1;34m(error_num, context_error_message, cause, **args)\u001b[0m\n\u001b[0;32m    180\u001b[0m     message \u001b[38;5;241m=\u001b[39m \u001b[38;5;124mf\u001b[39m\u001b[38;5;124m\"\u001b[39m\u001b[38;5;132;01m{\u001b[39;00mmessage\u001b[38;5;132;01m}\u001b[39;00m\u001b[38;5;130;01m\\n\u001b[39;00m\u001b[38;5;132;01m{\u001b[39;00mcontext_error_message\u001b[38;5;132;01m}\u001b[39;00m\u001b[38;5;124m\"\u001b[39m\n\u001b[0;32m    181\u001b[0m error \u001b[38;5;241m=\u001b[39m _Error(message)\n\u001b[1;32m--> 182\u001b[0m \u001b[38;5;28;01mraise\u001b[39;00m error\u001b[38;5;241m.\u001b[39mexc_type(error) \u001b[38;5;28;01mfrom\u001b[39;00m \u001b[38;5;21;01mcause\u001b[39;00m\n",
      "\u001b[1;31mDatabaseError\u001b[0m: DPY-4001: no credentials specified"
     ]
    }
   ],
   "source": [
    "from LiveAMP import *\n",
    "\n",
    "run_amp(98)"
   ]
  }
 ],
 "metadata": {
  "kernelspec": {
   "display_name": "my3.11",
   "language": "python",
   "name": "python3"
  },
  "language_info": {
   "codemirror_mode": {
    "name": "ipython",
    "version": 3
   },
   "file_extension": ".py",
   "mimetype": "text/x-python",
   "name": "python",
   "nbconvert_exporter": "python",
   "pygments_lexer": "ipython3",
   "version": "3.11.9"
  }
 },
 "nbformat": 4,
 "nbformat_minor": 2
}
