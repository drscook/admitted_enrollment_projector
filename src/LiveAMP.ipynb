{
 "cells": [
  {
   "cell_type": "markdown",
   "metadata": {},
   "source": [
    "- trf\n",
    "    - ca37: distance=passthrough\n",
    "    - fa15: distance=pwr\n",
    "- imp\n",
    "    - 2474: tune=False\n",
    "    - 20cf: tune=True\n",
    "- clf\n",
    "    - 2c44: ensemble=True, time=20\n",
    "    - 25f2: ensemble=False, time=20"
   ]
  },
  {
   "cell_type": "code",
   "execution_count": 1,
   "metadata": {},
   "outputs": [
    {
     "name": "stdout",
     "output_type": "stream",
     "text": [
      "creating stack.pkl: "
     ]
    }
   ],
   "source": [
    "from LiveAMP import *\n",
    "# run_amp(137)\n",
    "self = get_stack(137, '_2024_05_07')"
   ]
  },
  {
   "cell_type": "code",
   "execution_count": 5,
   "metadata": {},
   "outputs": [],
   "source": [
    "fn = '/home/scook/institutional_data_analytics/admitted_matriculation_projection/resources/rslt/137/AMP_2024_05_07.csv'\n",
    "df = read(fn).iloc[:,1:]\n",
    "df.to_csv(fn, index=False)"
   ]
  }
 ],
 "metadata": {
  "kernelspec": {
   "display_name": "my3.11",
   "language": "python",
   "name": "python3"
  },
  "language_info": {
   "codemirror_mode": {
    "name": "ipython",
    "version": 3
   },
   "file_extension": ".py",
   "mimetype": "text/x-python",
   "name": "python",
   "nbconvert_exporter": "python",
   "pygments_lexer": "ipython3",
   "version": "3.11.8"
  }
 },
 "nbformat": 4,
 "nbformat_minor": 2
}
