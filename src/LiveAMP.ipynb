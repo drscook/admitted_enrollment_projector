{
 "cells": [
  {
   "cell_type": "code",
   "execution_count": 2,
   "metadata": {},
   "outputs": [
    {
     "name": "stdout",
     "output_type": "stream",
     "text": [
      "_total   202108 n creating\n",
      "_total   202208 n creating\n",
      "_total   202308 n creating\n",
      "92\n"
     ]
    },
    {
     "data": {
      "text/html": [
       "<table border=\"1\" class=\"dataframe\">\n",
       "  <thead>\n",
       "    <tr style=\"text-align: right;\">\n",
       "      <th></th>\n",
       "      <th>count</th>\n",
       "      <th>mean</th>\n",
       "      <th>std</th>\n",
       "      <th>min</th>\n",
       "      <th>25%</th>\n",
       "      <th>50%</th>\n",
       "      <th>75%</th>\n",
       "      <th>max</th>\n",
       "    </tr>\n",
       "  </thead>\n",
       "  <tbody>\n",
       "    <tr>\n",
       "      <th>err_pct</th>\n",
       "      <td>20.0</td>\n",
       "      <td>9.04207</td>\n",
       "      <td>7.774839</td>\n",
       "      <td>0.09058</td>\n",
       "      <td>1.179113</td>\n",
       "      <td>9.314449</td>\n",
       "      <td>16.521729</td>\n",
       "      <td>18.081181</td>\n",
       "    </tr>\n",
       "  </tbody>\n",
       "</table>"
      ],
      "text/plain": [
       "<IPython.core.display.HTML object>"
      ]
     },
     "metadata": {},
     "output_type": "display_data"
    },
    {
     "name": "stdout",
     "output_type": "stream",
     "text": [
      "{'imp': {'datasets': 5, 'iterations': 3, 'mmc': 10, 'mmf': 'mean_match_default', 'tune': True}, 'trf': {'act_equiv': 'passthrough', 'appl_day': 'passthrough', 'birth_day': 'passthrough', 'coll_code': 'passthrough', 'distance': Pipeline(steps=[('standardscaler', StandardScaler()),\n",
      "                ('powertransformer', PowerTransformer())]), 'gap_score': 'passthrough', 'gender': 'passthrough', 'hs_qrtl': 'passthrough', 'international': 'passthrough', 'lgcy': 'passthrough', 'math': 'passthrough', 'oriented': 'passthrough', 'race_american_indian': 'passthrough', 'race_asian': 'passthrough', 'race_black': 'passthrough', 'race_hispanic': 'passthrough', 'race_pacific': 'passthrough', 'race_white': 'passthrough', 'reading': 'passthrough', 'remote': 'passthrough', 'resd': 'passthrough', 'schlship_app': 'passthrough', 'ssb': 'passthrough', 'writing': 'passthrough'}}\n",
      "_total   202008 n creating\n",
      "_total   202108 n creating\n",
      "_total   202208 n creating\n",
      "_total   202308 n creating\n",
      "93\n"
     ]
    },
    {
     "data": {
      "text/html": [
       "<table border=\"1\" class=\"dataframe\">\n",
       "  <thead>\n",
       "    <tr style=\"text-align: right;\">\n",
       "      <th></th>\n",
       "      <th>count</th>\n",
       "      <th>mean</th>\n",
       "      <th>std</th>\n",
       "      <th>min</th>\n",
       "      <th>25%</th>\n",
       "      <th>50%</th>\n",
       "      <th>75%</th>\n",
       "      <th>max</th>\n",
       "    </tr>\n",
       "  </thead>\n",
       "  <tbody>\n",
       "    <tr>\n",
       "      <th>err_pct</th>\n",
       "      <td>20.0</td>\n",
       "      <td>10.991921</td>\n",
       "      <td>6.662147</td>\n",
       "      <td>0.09058</td>\n",
       "      <td>6.968045</td>\n",
       "      <td>10.821492</td>\n",
       "      <td>16.912669</td>\n",
       "      <td>19.434194</td>\n",
       "    </tr>\n",
       "  </tbody>\n",
       "</table>"
      ],
      "text/plain": [
       "<IPython.core.display.HTML object>"
      ]
     },
     "metadata": {},
     "output_type": "display_data"
    },
    {
     "name": "stdout",
     "output_type": "stream",
     "text": [
      "94\n"
     ]
    },
    {
     "data": {
      "text/html": [
       "<table border=\"1\" class=\"dataframe\">\n",
       "  <thead>\n",
       "    <tr style=\"text-align: right;\">\n",
       "      <th></th>\n",
       "      <th>count</th>\n",
       "      <th>mean</th>\n",
       "      <th>std</th>\n",
       "      <th>min</th>\n",
       "      <th>25%</th>\n",
       "      <th>50%</th>\n",
       "      <th>75%</th>\n",
       "      <th>max</th>\n",
       "    </tr>\n",
       "  </thead>\n",
       "  <tbody>\n",
       "    <tr>\n",
       "      <th>err_pct</th>\n",
       "      <td>20.0</td>\n",
       "      <td>8.952582</td>\n",
       "      <td>5.232257</td>\n",
       "      <td>0.181159</td>\n",
       "      <td>6.892084</td>\n",
       "      <td>10.308821</td>\n",
       "      <td>12.677698</td>\n",
       "      <td>15.252153</td>\n",
       "    </tr>\n",
       "  </tbody>\n",
       "</table>"
      ],
      "text/plain": [
       "<IPython.core.display.HTML object>"
      ]
     },
     "metadata": {},
     "output_type": "display_data"
    },
    {
     "name": "stdout",
     "output_type": "stream",
     "text": [
      "95\n"
     ]
    },
    {
     "data": {
      "text/html": [
       "<table border=\"1\" class=\"dataframe\">\n",
       "  <thead>\n",
       "    <tr style=\"text-align: right;\">\n",
       "      <th></th>\n",
       "      <th>count</th>\n",
       "      <th>mean</th>\n",
       "      <th>std</th>\n",
       "      <th>min</th>\n",
       "      <th>25%</th>\n",
       "      <th>50%</th>\n",
       "      <th>75%</th>\n",
       "      <th>max</th>\n",
       "    </tr>\n",
       "  </thead>\n",
       "  <tbody>\n",
       "    <tr>\n",
       "      <th>err_pct</th>\n",
       "      <td>20.0</td>\n",
       "      <td>8.414736</td>\n",
       "      <td>7.63908</td>\n",
       "      <td>0.330215</td>\n",
       "      <td>0.792572</td>\n",
       "      <td>7.139143</td>\n",
       "      <td>16.592236</td>\n",
       "      <td>18.215223</td>\n",
       "    </tr>\n",
       "  </tbody>\n",
       "</table>"
      ],
      "text/plain": [
       "<IPython.core.display.HTML object>"
      ]
     },
     "metadata": {},
     "output_type": "display_data"
    },
    {
     "name": "stdout",
     "output_type": "stream",
     "text": [
      "96\n"
     ]
    },
    {
     "data": {
      "text/html": [
       "<table border=\"1\" class=\"dataframe\">\n",
       "  <thead>\n",
       "    <tr style=\"text-align: right;\">\n",
       "      <th></th>\n",
       "      <th>count</th>\n",
       "      <th>mean</th>\n",
       "      <th>std</th>\n",
       "      <th>min</th>\n",
       "      <th>25%</th>\n",
       "      <th>50%</th>\n",
       "      <th>75%</th>\n",
       "      <th>max</th>\n",
       "    </tr>\n",
       "  </thead>\n",
       "  <tbody>\n",
       "    <tr>\n",
       "      <th>err_pct</th>\n",
       "      <td>20.0</td>\n",
       "      <td>8.772022</td>\n",
       "      <td>7.259692</td>\n",
       "      <td>0.04529</td>\n",
       "      <td>1.751256</td>\n",
       "      <td>9.180177</td>\n",
       "      <td>15.285106</td>\n",
       "      <td>18.204182</td>\n",
       "    </tr>\n",
       "  </tbody>\n",
       "</table>"
      ],
      "text/plain": [
       "<IPython.core.display.HTML object>"
      ]
     },
     "metadata": {},
     "output_type": "display_data"
    },
    {
     "name": "stdout",
     "output_type": "stream",
     "text": [
      "97\n"
     ]
    },
    {
     "data": {
      "text/html": [
       "<table border=\"1\" class=\"dataframe\">\n",
       "  <thead>\n",
       "    <tr style=\"text-align: right;\">\n",
       "      <th></th>\n",
       "      <th>count</th>\n",
       "      <th>mean</th>\n",
       "      <th>std</th>\n",
       "      <th>min</th>\n",
       "      <th>25%</th>\n",
       "      <th>50%</th>\n",
       "      <th>75%</th>\n",
       "      <th>max</th>\n",
       "    </tr>\n",
       "  </thead>\n",
       "  <tbody>\n",
       "    <tr>\n",
       "      <th>err_pct</th>\n",
       "      <td>20.0</td>\n",
       "      <td>8.573376</td>\n",
       "      <td>6.382236</td>\n",
       "      <td>0.407609</td>\n",
       "      <td>2.200428</td>\n",
       "      <td>9.246617</td>\n",
       "      <td>14.140347</td>\n",
       "      <td>18.511685</td>\n",
       "    </tr>\n",
       "  </tbody>\n",
       "</table>"
      ],
      "text/plain": [
       "<IPython.core.display.HTML object>"
      ]
     },
     "metadata": {},
     "output_type": "display_data"
    },
    {
     "name": "stdout",
     "output_type": "stream",
     "text": [
      "98\n"
     ]
    },
    {
     "data": {
      "text/html": [
       "<table border=\"1\" class=\"dataframe\">\n",
       "  <thead>\n",
       "    <tr style=\"text-align: right;\">\n",
       "      <th></th>\n",
       "      <th>count</th>\n",
       "      <th>mean</th>\n",
       "      <th>std</th>\n",
       "      <th>min</th>\n",
       "      <th>25%</th>\n",
       "      <th>50%</th>\n",
       "      <th>75%</th>\n",
       "      <th>max</th>\n",
       "    </tr>\n",
       "  </thead>\n",
       "  <tbody>\n",
       "    <tr>\n",
       "      <th>err_pct</th>\n",
       "      <td>20.0</td>\n",
       "      <td>10.45248</td>\n",
       "      <td>6.482041</td>\n",
       "      <td>0.996377</td>\n",
       "      <td>4.897611</td>\n",
       "      <td>11.83831</td>\n",
       "      <td>15.469608</td>\n",
       "      <td>20.479705</td>\n",
       "    </tr>\n",
       "  </tbody>\n",
       "</table>"
      ],
      "text/plain": [
       "<IPython.core.display.HTML object>"
      ]
     },
     "metadata": {},
     "output_type": "display_data"
    },
    {
     "name": "stdout",
     "output_type": "stream",
     "text": [
      "99\n"
     ]
    },
    {
     "data": {
      "text/html": [
       "<table border=\"1\" class=\"dataframe\">\n",
       "  <thead>\n",
       "    <tr style=\"text-align: right;\">\n",
       "      <th></th>\n",
       "      <th>count</th>\n",
       "      <th>mean</th>\n",
       "      <th>std</th>\n",
       "      <th>min</th>\n",
       "      <th>25%</th>\n",
       "      <th>50%</th>\n",
       "      <th>75%</th>\n",
       "      <th>max</th>\n",
       "    </tr>\n",
       "  </thead>\n",
       "  <tbody>\n",
       "    <tr>\n",
       "      <th>err_pct</th>\n",
       "      <td>20.0</td>\n",
       "      <td>9.130482</td>\n",
       "      <td>6.855482</td>\n",
       "      <td>0.0</td>\n",
       "      <td>2.541965</td>\n",
       "      <td>9.746781</td>\n",
       "      <td>15.175616</td>\n",
       "      <td>19.580052</td>\n",
       "    </tr>\n",
       "  </tbody>\n",
       "</table>"
      ],
      "text/plain": [
       "<IPython.core.display.HTML object>"
      ]
     },
     "metadata": {},
     "output_type": "display_data"
    },
    {
     "name": "stdout",
     "output_type": "stream",
     "text": [
      "100\n"
     ]
    },
    {
     "data": {
      "text/html": [
       "<table border=\"1\" class=\"dataframe\">\n",
       "  <thead>\n",
       "    <tr style=\"text-align: right;\">\n",
       "      <th></th>\n",
       "      <th>count</th>\n",
       "      <th>mean</th>\n",
       "      <th>std</th>\n",
       "      <th>min</th>\n",
       "      <th>25%</th>\n",
       "      <th>50%</th>\n",
       "      <th>75%</th>\n",
       "      <th>max</th>\n",
       "    </tr>\n",
       "  </thead>\n",
       "  <tbody>\n",
       "    <tr>\n",
       "      <th>err_pct</th>\n",
       "      <td>20.0</td>\n",
       "      <td>10.296203</td>\n",
       "      <td>7.758646</td>\n",
       "      <td>0.181159</td>\n",
       "      <td>3.562563</td>\n",
       "      <td>11.522454</td>\n",
       "      <td>17.258961</td>\n",
       "      <td>20.524934</td>\n",
       "    </tr>\n",
       "  </tbody>\n",
       "</table>"
      ],
      "text/plain": [
       "<IPython.core.display.HTML object>"
      ]
     },
     "metadata": {},
     "output_type": "display_data"
    },
    {
     "name": "stdout",
     "output_type": "stream",
     "text": [
      "101\n"
     ]
    },
    {
     "data": {
      "text/html": [
       "<table border=\"1\" class=\"dataframe\">\n",
       "  <thead>\n",
       "    <tr style=\"text-align: right;\">\n",
       "      <th></th>\n",
       "      <th>count</th>\n",
       "      <th>mean</th>\n",
       "      <th>std</th>\n",
       "      <th>min</th>\n",
       "      <th>25%</th>\n",
       "      <th>50%</th>\n",
       "      <th>75%</th>\n",
       "      <th>max</th>\n",
       "    </tr>\n",
       "  </thead>\n",
       "  <tbody>\n",
       "    <tr>\n",
       "      <th>err_pct</th>\n",
       "      <td>20.0</td>\n",
       "      <td>9.513538</td>\n",
       "      <td>5.560523</td>\n",
       "      <td>0.09058</td>\n",
       "      <td>6.055942</td>\n",
       "      <td>10.855366</td>\n",
       "      <td>14.237659</td>\n",
       "      <td>16.297663</td>\n",
       "    </tr>\n",
       "  </tbody>\n",
       "</table>"
      ],
      "text/plain": [
       "<IPython.core.display.HTML object>"
      ]
     },
     "metadata": {},
     "output_type": "display_data"
    },
    {
     "name": "stdout",
     "output_type": "stream",
     "text": [
      "102\n"
     ]
    },
    {
     "data": {
      "text/html": [
       "<table border=\"1\" class=\"dataframe\">\n",
       "  <thead>\n",
       "    <tr style=\"text-align: right;\">\n",
       "      <th></th>\n",
       "      <th>count</th>\n",
       "      <th>mean</th>\n",
       "      <th>std</th>\n",
       "      <th>min</th>\n",
       "      <th>25%</th>\n",
       "      <th>50%</th>\n",
       "      <th>75%</th>\n",
       "      <th>max</th>\n",
       "    </tr>\n",
       "  </thead>\n",
       "  <tbody>\n",
       "    <tr>\n",
       "      <th>err_pct</th>\n",
       "      <td>20.0</td>\n",
       "      <td>10.16424</td>\n",
       "      <td>6.978291</td>\n",
       "      <td>0.181159</td>\n",
       "      <td>4.786249</td>\n",
       "      <td>10.564485</td>\n",
       "      <td>15.727959</td>\n",
       "      <td>22.509225</td>\n",
       "    </tr>\n",
       "  </tbody>\n",
       "</table>"
      ],
      "text/plain": [
       "<IPython.core.display.HTML object>"
      ]
     },
     "metadata": {},
     "output_type": "display_data"
    },
    {
     "name": "stdout",
     "output_type": "stream",
     "text": [
      "103\n"
     ]
    },
    {
     "data": {
      "text/html": [
       "<table border=\"1\" class=\"dataframe\">\n",
       "  <thead>\n",
       "    <tr style=\"text-align: right;\">\n",
       "      <th></th>\n",
       "      <th>count</th>\n",
       "      <th>mean</th>\n",
       "      <th>std</th>\n",
       "      <th>min</th>\n",
       "      <th>25%</th>\n",
       "      <th>50%</th>\n",
       "      <th>75%</th>\n",
       "      <th>max</th>\n",
       "    </tr>\n",
       "  </thead>\n",
       "  <tbody>\n",
       "    <tr>\n",
       "      <th>err_pct</th>\n",
       "      <td>20.0</td>\n",
       "      <td>5.962719</td>\n",
       "      <td>5.719137</td>\n",
       "      <td>0.110072</td>\n",
       "      <td>2.242934</td>\n",
       "      <td>3.630449</td>\n",
       "      <td>8.097113</td>\n",
       "      <td>18.582677</td>\n",
       "    </tr>\n",
       "  </tbody>\n",
       "</table>"
      ],
      "text/plain": [
       "<IPython.core.display.HTML object>"
      ]
     },
     "metadata": {},
     "output_type": "display_data"
    },
    {
     "name": "stdout",
     "output_type": "stream",
     "text": [
      "104\n"
     ]
    },
    {
     "data": {
      "text/html": [
       "<table border=\"1\" class=\"dataframe\">\n",
       "  <thead>\n",
       "    <tr style=\"text-align: right;\">\n",
       "      <th></th>\n",
       "      <th>count</th>\n",
       "      <th>mean</th>\n",
       "      <th>std</th>\n",
       "      <th>min</th>\n",
       "      <th>25%</th>\n",
       "      <th>50%</th>\n",
       "      <th>75%</th>\n",
       "      <th>max</th>\n",
       "    </tr>\n",
       "  </thead>\n",
       "  <tbody>\n",
       "    <tr>\n",
       "      <th>err_pct</th>\n",
       "      <td>20.0</td>\n",
       "      <td>9.810763</td>\n",
       "      <td>7.023091</td>\n",
       "      <td>0.317029</td>\n",
       "      <td>2.892245</td>\n",
       "      <td>10.827776</td>\n",
       "      <td>16.266913</td>\n",
       "      <td>18.265683</td>\n",
       "    </tr>\n",
       "  </tbody>\n",
       "</table>"
      ],
      "text/plain": [
       "<IPython.core.display.HTML object>"
      ]
     },
     "metadata": {},
     "output_type": "display_data"
    },
    {
     "name": "stdout",
     "output_type": "stream",
     "text": [
      "105\n"
     ]
    },
    {
     "data": {
      "text/html": [
       "<table border=\"1\" class=\"dataframe\">\n",
       "  <thead>\n",
       "    <tr style=\"text-align: right;\">\n",
       "      <th></th>\n",
       "      <th>count</th>\n",
       "      <th>mean</th>\n",
       "      <th>std</th>\n",
       "      <th>min</th>\n",
       "      <th>25%</th>\n",
       "      <th>50%</th>\n",
       "      <th>75%</th>\n",
       "      <th>max</th>\n",
       "    </tr>\n",
       "  </thead>\n",
       "  <tbody>\n",
       "    <tr>\n",
       "      <th>err_pct</th>\n",
       "      <td>20.0</td>\n",
       "      <td>9.813367</td>\n",
       "      <td>6.550571</td>\n",
       "      <td>0.226449</td>\n",
       "      <td>4.760308</td>\n",
       "      <td>9.728404</td>\n",
       "      <td>15.346607</td>\n",
       "      <td>18.634686</td>\n",
       "    </tr>\n",
       "  </tbody>\n",
       "</table>"
      ],
      "text/plain": [
       "<IPython.core.display.HTML object>"
      ]
     },
     "metadata": {},
     "output_type": "display_data"
    },
    {
     "name": "stdout",
     "output_type": "stream",
     "text": [
      "106\n"
     ]
    },
    {
     "data": {
      "text/html": [
       "<table border=\"1\" class=\"dataframe\">\n",
       "  <thead>\n",
       "    <tr style=\"text-align: right;\">\n",
       "      <th></th>\n",
       "      <th>count</th>\n",
       "      <th>mean</th>\n",
       "      <th>std</th>\n",
       "      <th>min</th>\n",
       "      <th>25%</th>\n",
       "      <th>50%</th>\n",
       "      <th>75%</th>\n",
       "      <th>max</th>\n",
       "    </tr>\n",
       "  </thead>\n",
       "  <tbody>\n",
       "    <tr>\n",
       "      <th>err_pct</th>\n",
       "      <td>20.0</td>\n",
       "      <td>9.748789</td>\n",
       "      <td>6.351941</td>\n",
       "      <td>0.181159</td>\n",
       "      <td>4.523253</td>\n",
       "      <td>11.365046</td>\n",
       "      <td>14.720414</td>\n",
       "      <td>18.511685</td>\n",
       "    </tr>\n",
       "  </tbody>\n",
       "</table>"
      ],
      "text/plain": [
       "<IPython.core.display.HTML object>"
      ]
     },
     "metadata": {},
     "output_type": "display_data"
    },
    {
     "name": "stdout",
     "output_type": "stream",
     "text": [
      "107\n"
     ]
    },
    {
     "data": {
      "text/html": [
       "<table border=\"1\" class=\"dataframe\">\n",
       "  <thead>\n",
       "    <tr style=\"text-align: right;\">\n",
       "      <th></th>\n",
       "      <th>count</th>\n",
       "      <th>mean</th>\n",
       "      <th>std</th>\n",
       "      <th>min</th>\n",
       "      <th>25%</th>\n",
       "      <th>50%</th>\n",
       "      <th>75%</th>\n",
       "      <th>max</th>\n",
       "    </tr>\n",
       "  </thead>\n",
       "  <tbody>\n",
       "    <tr>\n",
       "      <th>err_pct</th>\n",
       "      <td>20.0</td>\n",
       "      <td>10.374049</td>\n",
       "      <td>7.981668</td>\n",
       "      <td>0.04529</td>\n",
       "      <td>2.825026</td>\n",
       "      <td>11.904339</td>\n",
       "      <td>17.952756</td>\n",
       "      <td>20.418204</td>\n",
       "    </tr>\n",
       "  </tbody>\n",
       "</table>"
      ],
      "text/plain": [
       "<IPython.core.display.HTML object>"
      ]
     },
     "metadata": {},
     "output_type": "display_data"
    },
    {
     "name": "stdout",
     "output_type": "stream",
     "text": [
      "108\n"
     ]
    },
    {
     "data": {
      "text/html": [
       "<table border=\"1\" class=\"dataframe\">\n",
       "  <thead>\n",
       "    <tr style=\"text-align: right;\">\n",
       "      <th></th>\n",
       "      <th>count</th>\n",
       "      <th>mean</th>\n",
       "      <th>std</th>\n",
       "      <th>min</th>\n",
       "      <th>25%</th>\n",
       "      <th>50%</th>\n",
       "      <th>75%</th>\n",
       "      <th>max</th>\n",
       "    </tr>\n",
       "  </thead>\n",
       "  <tbody>\n",
       "    <tr>\n",
       "      <th>err_pct</th>\n",
       "      <td>20.0</td>\n",
       "      <td>9.382394</td>\n",
       "      <td>7.865928</td>\n",
       "      <td>0.13587</td>\n",
       "      <td>1.774904</td>\n",
       "      <td>10.272684</td>\n",
       "      <td>16.732283</td>\n",
       "      <td>20.233702</td>\n",
       "    </tr>\n",
       "  </tbody>\n",
       "</table>"
      ],
      "text/plain": [
       "<IPython.core.display.HTML object>"
      ]
     },
     "metadata": {},
     "output_type": "display_data"
    },
    {
     "name": "stdout",
     "output_type": "stream",
     "text": [
      "109\n"
     ]
    },
    {
     "data": {
      "text/html": [
       "<table border=\"1\" class=\"dataframe\">\n",
       "  <thead>\n",
       "    <tr style=\"text-align: right;\">\n",
       "      <th></th>\n",
       "      <th>count</th>\n",
       "      <th>mean</th>\n",
       "      <th>std</th>\n",
       "      <th>min</th>\n",
       "      <th>25%</th>\n",
       "      <th>50%</th>\n",
       "      <th>75%</th>\n",
       "      <th>max</th>\n",
       "    </tr>\n",
       "  </thead>\n",
       "  <tbody>\n",
       "    <tr>\n",
       "      <th>err_pct</th>\n",
       "      <td>20.0</td>\n",
       "      <td>9.028014</td>\n",
       "      <td>5.787542</td>\n",
       "      <td>0.0</td>\n",
       "      <td>6.023837</td>\n",
       "      <td>10.0</td>\n",
       "      <td>12.670144</td>\n",
       "      <td>18.819188</td>\n",
       "    </tr>\n",
       "  </tbody>\n",
       "</table>"
      ],
      "text/plain": [
       "<IPython.core.display.HTML object>"
      ]
     },
     "metadata": {},
     "output_type": "display_data"
    },
    {
     "name": "stdout",
     "output_type": "stream",
     "text": [
      "110\n"
     ]
    },
    {
     "data": {
      "text/html": [
       "<table border=\"1\" class=\"dataframe\">\n",
       "  <thead>\n",
       "    <tr style=\"text-align: right;\">\n",
       "      <th></th>\n",
       "      <th>count</th>\n",
       "      <th>mean</th>\n",
       "      <th>std</th>\n",
       "      <th>min</th>\n",
       "      <th>25%</th>\n",
       "      <th>50%</th>\n",
       "      <th>75%</th>\n",
       "      <th>max</th>\n",
       "    </tr>\n",
       "  </thead>\n",
       "  <tbody>\n",
       "    <tr>\n",
       "      <th>err_pct</th>\n",
       "      <td>20.0</td>\n",
       "      <td>10.605924</td>\n",
       "      <td>6.840864</td>\n",
       "      <td>0.634058</td>\n",
       "      <td>4.396842</td>\n",
       "      <td>11.969992</td>\n",
       "      <td>16.378146</td>\n",
       "      <td>20.479705</td>\n",
       "    </tr>\n",
       "  </tbody>\n",
       "</table>"
      ],
      "text/plain": [
       "<IPython.core.display.HTML object>"
      ]
     },
     "metadata": {},
     "output_type": "display_data"
    },
    {
     "name": "stdout",
     "output_type": "stream",
     "text": [
      "111\n"
     ]
    },
    {
     "data": {
      "text/html": [
       "<table border=\"1\" class=\"dataframe\">\n",
       "  <thead>\n",
       "    <tr style=\"text-align: right;\">\n",
       "      <th></th>\n",
       "      <th>count</th>\n",
       "      <th>mean</th>\n",
       "      <th>std</th>\n",
       "      <th>min</th>\n",
       "      <th>25%</th>\n",
       "      <th>50%</th>\n",
       "      <th>75%</th>\n",
       "      <th>max</th>\n",
       "    </tr>\n",
       "  </thead>\n",
       "  <tbody>\n",
       "    <tr>\n",
       "      <th>err_pct</th>\n",
       "      <td>20.0</td>\n",
       "      <td>10.085115</td>\n",
       "      <td>7.198582</td>\n",
       "      <td>0.181159</td>\n",
       "      <td>3.326941</td>\n",
       "      <td>12.037061</td>\n",
       "      <td>16.001225</td>\n",
       "      <td>20.367454</td>\n",
       "    </tr>\n",
       "  </tbody>\n",
       "</table>"
      ],
      "text/plain": [
       "<IPython.core.display.HTML object>"
      ]
     },
     "metadata": {},
     "output_type": "display_data"
    },
    {
     "name": "stdout",
     "output_type": "stream",
     "text": [
      "112\n"
     ]
    },
    {
     "data": {
      "text/html": [
       "<table border=\"1\" class=\"dataframe\">\n",
       "  <thead>\n",
       "    <tr style=\"text-align: right;\">\n",
       "      <th></th>\n",
       "      <th>count</th>\n",
       "      <th>mean</th>\n",
       "      <th>std</th>\n",
       "      <th>min</th>\n",
       "      <th>25%</th>\n",
       "      <th>50%</th>\n",
       "      <th>75%</th>\n",
       "      <th>max</th>\n",
       "    </tr>\n",
       "  </thead>\n",
       "  <tbody>\n",
       "    <tr>\n",
       "      <th>err_pct</th>\n",
       "      <td>20.0</td>\n",
       "      <td>10.343565</td>\n",
       "      <td>7.19936</td>\n",
       "      <td>0.04529</td>\n",
       "      <td>2.962043</td>\n",
       "      <td>11.755418</td>\n",
       "      <td>16.620541</td>\n",
       "      <td>20.419948</td>\n",
       "    </tr>\n",
       "  </tbody>\n",
       "</table>"
      ],
      "text/plain": [
       "<IPython.core.display.HTML object>"
      ]
     },
     "metadata": {},
     "output_type": "display_data"
    },
    {
     "name": "stdout",
     "output_type": "stream",
     "text": [
      "113\n"
     ]
    },
    {
     "data": {
      "text/html": [
       "<table border=\"1\" class=\"dataframe\">\n",
       "  <thead>\n",
       "    <tr style=\"text-align: right;\">\n",
       "      <th></th>\n",
       "      <th>count</th>\n",
       "      <th>mean</th>\n",
       "      <th>std</th>\n",
       "      <th>min</th>\n",
       "      <th>25%</th>\n",
       "      <th>50%</th>\n",
       "      <th>75%</th>\n",
       "      <th>max</th>\n",
       "    </tr>\n",
       "  </thead>\n",
       "  <tbody>\n",
       "    <tr>\n",
       "      <th>err_pct</th>\n",
       "      <td>20.0</td>\n",
       "      <td>8.688501</td>\n",
       "      <td>6.873427</td>\n",
       "      <td>0.226449</td>\n",
       "      <td>1.656519</td>\n",
       "      <td>9.114112</td>\n",
       "      <td>15.979555</td>\n",
       "      <td>18.142681</td>\n",
       "    </tr>\n",
       "  </tbody>\n",
       "</table>"
      ],
      "text/plain": [
       "<IPython.core.display.HTML object>"
      ]
     },
     "metadata": {},
     "output_type": "display_data"
    },
    {
     "name": "stdout",
     "output_type": "stream",
     "text": [
      "114\n"
     ]
    },
    {
     "data": {
      "text/html": [
       "<table border=\"1\" class=\"dataframe\">\n",
       "  <thead>\n",
       "    <tr style=\"text-align: right;\">\n",
       "      <th></th>\n",
       "      <th>count</th>\n",
       "      <th>mean</th>\n",
       "      <th>std</th>\n",
       "      <th>min</th>\n",
       "      <th>25%</th>\n",
       "      <th>50%</th>\n",
       "      <th>75%</th>\n",
       "      <th>max</th>\n",
       "    </tr>\n",
       "  </thead>\n",
       "  <tbody>\n",
       "    <tr>\n",
       "      <th>err_pct</th>\n",
       "      <td>20.0</td>\n",
       "      <td>11.872948</td>\n",
       "      <td>7.273064</td>\n",
       "      <td>0.0</td>\n",
       "      <td>7.754168</td>\n",
       "      <td>14.452171</td>\n",
       "      <td>17.139108</td>\n",
       "      <td>20.418204</td>\n",
       "    </tr>\n",
       "  </tbody>\n",
       "</table>"
      ],
      "text/plain": [
       "<IPython.core.display.HTML object>"
      ]
     },
     "metadata": {},
     "output_type": "display_data"
    },
    {
     "name": "stdout",
     "output_type": "stream",
     "text": [
      "115\n"
     ]
    },
    {
     "data": {
      "text/html": [
       "<table border=\"1\" class=\"dataframe\">\n",
       "  <thead>\n",
       "    <tr style=\"text-align: right;\">\n",
       "      <th></th>\n",
       "      <th>count</th>\n",
       "      <th>mean</th>\n",
       "      <th>std</th>\n",
       "      <th>min</th>\n",
       "      <th>25%</th>\n",
       "      <th>50%</th>\n",
       "      <th>75%</th>\n",
       "      <th>max</th>\n",
       "    </tr>\n",
       "  </thead>\n",
       "  <tbody>\n",
       "    <tr>\n",
       "      <th>err_pct</th>\n",
       "      <td>20.0</td>\n",
       "      <td>8.700048</td>\n",
       "      <td>8.028128</td>\n",
       "      <td>0.09058</td>\n",
       "      <td>0.661146</td>\n",
       "      <td>8.236445</td>\n",
       "      <td>16.388631</td>\n",
       "      <td>18.573186</td>\n",
       "    </tr>\n",
       "  </tbody>\n",
       "</table>"
      ],
      "text/plain": [
       "<IPython.core.display.HTML object>"
      ]
     },
     "metadata": {},
     "output_type": "display_data"
    },
    {
     "name": "stdout",
     "output_type": "stream",
     "text": [
      "116\n"
     ]
    },
    {
     "data": {
      "text/html": [
       "<table border=\"1\" class=\"dataframe\">\n",
       "  <thead>\n",
       "    <tr style=\"text-align: right;\">\n",
       "      <th></th>\n",
       "      <th>count</th>\n",
       "      <th>mean</th>\n",
       "      <th>std</th>\n",
       "      <th>min</th>\n",
       "      <th>25%</th>\n",
       "      <th>50%</th>\n",
       "      <th>75%</th>\n",
       "      <th>max</th>\n",
       "    </tr>\n",
       "  </thead>\n",
       "  <tbody>\n",
       "    <tr>\n",
       "      <th>err_pct</th>\n",
       "      <td>20.0</td>\n",
       "      <td>8.222557</td>\n",
       "      <td>6.591452</td>\n",
       "      <td>0.04529</td>\n",
       "      <td>1.030344</td>\n",
       "      <td>9.361531</td>\n",
       "      <td>14.000663</td>\n",
       "      <td>17.322835</td>\n",
       "    </tr>\n",
       "  </tbody>\n",
       "</table>"
      ],
      "text/plain": [
       "<IPython.core.display.HTML object>"
      ]
     },
     "metadata": {},
     "output_type": "display_data"
    },
    {
     "name": "stdout",
     "output_type": "stream",
     "text": [
      "117\n"
     ]
    },
    {
     "data": {
      "text/html": [
       "<table border=\"1\" class=\"dataframe\">\n",
       "  <thead>\n",
       "    <tr style=\"text-align: right;\">\n",
       "      <th></th>\n",
       "      <th>count</th>\n",
       "      <th>mean</th>\n",
       "      <th>std</th>\n",
       "      <th>min</th>\n",
       "      <th>25%</th>\n",
       "      <th>50%</th>\n",
       "      <th>75%</th>\n",
       "      <th>max</th>\n",
       "    </tr>\n",
       "  </thead>\n",
       "  <tbody>\n",
       "    <tr>\n",
       "      <th>err_pct</th>\n",
       "      <td>20.0</td>\n",
       "      <td>9.789028</td>\n",
       "      <td>6.307295</td>\n",
       "      <td>0.362319</td>\n",
       "      <td>4.546614</td>\n",
       "      <td>10.956091</td>\n",
       "      <td>14.887677</td>\n",
       "      <td>18.204182</td>\n",
       "    </tr>\n",
       "  </tbody>\n",
       "</table>"
      ],
      "text/plain": [
       "<IPython.core.display.HTML object>"
      ]
     },
     "metadata": {},
     "output_type": "display_data"
    },
    {
     "name": "stdout",
     "output_type": "stream",
     "text": [
      "118\n"
     ]
    },
    {
     "data": {
      "text/html": [
       "<table border=\"1\" class=\"dataframe\">\n",
       "  <thead>\n",
       "    <tr style=\"text-align: right;\">\n",
       "      <th></th>\n",
       "      <th>count</th>\n",
       "      <th>mean</th>\n",
       "      <th>std</th>\n",
       "      <th>min</th>\n",
       "      <th>25%</th>\n",
       "      <th>50%</th>\n",
       "      <th>75%</th>\n",
       "      <th>max</th>\n",
       "    </tr>\n",
       "  </thead>\n",
       "  <tbody>\n",
       "    <tr>\n",
       "      <th>err_pct</th>\n",
       "      <td>20.0</td>\n",
       "      <td>8.747053</td>\n",
       "      <td>6.125828</td>\n",
       "      <td>0.362319</td>\n",
       "      <td>2.825026</td>\n",
       "      <td>9.195394</td>\n",
       "      <td>14.181582</td>\n",
       "      <td>19.126691</td>\n",
       "    </tr>\n",
       "  </tbody>\n",
       "</table>"
      ],
      "text/plain": [
       "<IPython.core.display.HTML object>"
      ]
     },
     "metadata": {},
     "output_type": "display_data"
    },
    {
     "name": "stdout",
     "output_type": "stream",
     "text": [
      "119\n"
     ]
    },
    {
     "data": {
      "text/html": [
       "<table border=\"1\" class=\"dataframe\">\n",
       "  <thead>\n",
       "    <tr style=\"text-align: right;\">\n",
       "      <th></th>\n",
       "      <th>count</th>\n",
       "      <th>mean</th>\n",
       "      <th>std</th>\n",
       "      <th>min</th>\n",
       "      <th>25%</th>\n",
       "      <th>50%</th>\n",
       "      <th>75%</th>\n",
       "      <th>max</th>\n",
       "    </tr>\n",
       "  </thead>\n",
       "  <tbody>\n",
       "    <tr>\n",
       "      <th>err_pct</th>\n",
       "      <td>20.0</td>\n",
       "      <td>6.88635</td>\n",
       "      <td>5.546867</td>\n",
       "      <td>0.317029</td>\n",
       "      <td>1.42663</td>\n",
       "      <td>6.990598</td>\n",
       "      <td>12.776753</td>\n",
       "      <td>13.648294</td>\n",
       "    </tr>\n",
       "  </tbody>\n",
       "</table>"
      ],
      "text/plain": [
       "<IPython.core.display.HTML object>"
      ]
     },
     "metadata": {},
     "output_type": "display_data"
    },
    {
     "name": "stdout",
     "output_type": "stream",
     "text": [
      "120\n"
     ]
    },
    {
     "data": {
      "text/html": [
       "<table border=\"1\" class=\"dataframe\">\n",
       "  <thead>\n",
       "    <tr style=\"text-align: right;\">\n",
       "      <th></th>\n",
       "      <th>count</th>\n",
       "      <th>mean</th>\n",
       "      <th>std</th>\n",
       "      <th>min</th>\n",
       "      <th>25%</th>\n",
       "      <th>50%</th>\n",
       "      <th>75%</th>\n",
       "      <th>max</th>\n",
       "    </tr>\n",
       "  </thead>\n",
       "  <tbody>\n",
       "    <tr>\n",
       "      <th>err_pct</th>\n",
       "      <td>20.0</td>\n",
       "      <td>9.794705</td>\n",
       "      <td>8.168588</td>\n",
       "      <td>0.181159</td>\n",
       "      <td>1.930122</td>\n",
       "      <td>10.562451</td>\n",
       "      <td>17.358549</td>\n",
       "      <td>21.207349</td>\n",
       "    </tr>\n",
       "  </tbody>\n",
       "</table>"
      ],
      "text/plain": [
       "<IPython.core.display.HTML object>"
      ]
     },
     "metadata": {},
     "output_type": "display_data"
    },
    {
     "name": "stdout",
     "output_type": "stream",
     "text": [
      "121\n"
     ]
    },
    {
     "data": {
      "text/html": [
       "<table border=\"1\" class=\"dataframe\">\n",
       "  <thead>\n",
       "    <tr style=\"text-align: right;\">\n",
       "      <th></th>\n",
       "      <th>count</th>\n",
       "      <th>mean</th>\n",
       "      <th>std</th>\n",
       "      <th>min</th>\n",
       "      <th>25%</th>\n",
       "      <th>50%</th>\n",
       "      <th>75%</th>\n",
       "      <th>max</th>\n",
       "    </tr>\n",
       "  </thead>\n",
       "  <tbody>\n",
       "    <tr>\n",
       "      <th>err_pct</th>\n",
       "      <td>20.0</td>\n",
       "      <td>10.131391</td>\n",
       "      <td>6.569998</td>\n",
       "      <td>0.498188</td>\n",
       "      <td>5.075187</td>\n",
       "      <td>10.83585</td>\n",
       "      <td>15.942049</td>\n",
       "      <td>19.00369</td>\n",
       "    </tr>\n",
       "  </tbody>\n",
       "</table>"
      ],
      "text/plain": [
       "<IPython.core.display.HTML object>"
      ]
     },
     "metadata": {},
     "output_type": "display_data"
    },
    {
     "name": "stdout",
     "output_type": "stream",
     "text": [
      "122\n"
     ]
    },
    {
     "data": {
      "text/html": [
       "<table border=\"1\" class=\"dataframe\">\n",
       "  <thead>\n",
       "    <tr style=\"text-align: right;\">\n",
       "      <th></th>\n",
       "      <th>count</th>\n",
       "      <th>mean</th>\n",
       "      <th>std</th>\n",
       "      <th>min</th>\n",
       "      <th>25%</th>\n",
       "      <th>50%</th>\n",
       "      <th>75%</th>\n",
       "      <th>max</th>\n",
       "    </tr>\n",
       "  </thead>\n",
       "  <tbody>\n",
       "    <tr>\n",
       "      <th>err_pct</th>\n",
       "      <td>20.0</td>\n",
       "      <td>11.699538</td>\n",
       "      <td>7.253605</td>\n",
       "      <td>0.452899</td>\n",
       "      <td>7.300839</td>\n",
       "      <td>13.224374</td>\n",
       "      <td>16.971724</td>\n",
       "      <td>21.771218</td>\n",
       "    </tr>\n",
       "  </tbody>\n",
       "</table>"
      ],
      "text/plain": [
       "<IPython.core.display.HTML object>"
      ]
     },
     "metadata": {},
     "output_type": "display_data"
    },
    {
     "name": "stdout",
     "output_type": "stream",
     "text": [
      "123\n"
     ]
    },
    {
     "data": {
      "text/html": [
       "<table border=\"1\" class=\"dataframe\">\n",
       "  <thead>\n",
       "    <tr style=\"text-align: right;\">\n",
       "      <th></th>\n",
       "      <th>count</th>\n",
       "      <th>mean</th>\n",
       "      <th>std</th>\n",
       "      <th>min</th>\n",
       "      <th>25%</th>\n",
       "      <th>50%</th>\n",
       "      <th>75%</th>\n",
       "      <th>max</th>\n",
       "    </tr>\n",
       "  </thead>\n",
       "  <tbody>\n",
       "    <tr>\n",
       "      <th>err_pct</th>\n",
       "      <td>20.0</td>\n",
       "      <td>8.814251</td>\n",
       "      <td>6.571932</td>\n",
       "      <td>0.0</td>\n",
       "      <td>3.29627</td>\n",
       "      <td>8.717421</td>\n",
       "      <td>15.033511</td>\n",
       "      <td>18.267717</td>\n",
       "    </tr>\n",
       "  </tbody>\n",
       "</table>"
      ],
      "text/plain": [
       "<IPython.core.display.HTML object>"
      ]
     },
     "metadata": {},
     "output_type": "display_data"
    },
    {
     "name": "stdout",
     "output_type": "stream",
     "text": [
      "124\n"
     ]
    },
    {
     "data": {
      "text/html": [
       "<table border=\"1\" class=\"dataframe\">\n",
       "  <thead>\n",
       "    <tr style=\"text-align: right;\">\n",
       "      <th></th>\n",
       "      <th>count</th>\n",
       "      <th>mean</th>\n",
       "      <th>std</th>\n",
       "      <th>min</th>\n",
       "      <th>25%</th>\n",
       "      <th>50%</th>\n",
       "      <th>75%</th>\n",
       "      <th>max</th>\n",
       "    </tr>\n",
       "  </thead>\n",
       "  <tbody>\n",
       "    <tr>\n",
       "      <th>err_pct</th>\n",
       "      <td>20.0</td>\n",
       "      <td>10.691263</td>\n",
       "      <td>8.051541</td>\n",
       "      <td>0.13587</td>\n",
       "      <td>3.945377</td>\n",
       "      <td>11.081974</td>\n",
       "      <td>18.635171</td>\n",
       "      <td>21.094711</td>\n",
       "    </tr>\n",
       "  </tbody>\n",
       "</table>"
      ],
      "text/plain": [
       "<IPython.core.display.HTML object>"
      ]
     },
     "metadata": {},
     "output_type": "display_data"
    },
    {
     "name": "stdout",
     "output_type": "stream",
     "text": [
      "125\n"
     ]
    },
    {
     "data": {
      "text/html": [
       "<table border=\"1\" class=\"dataframe\">\n",
       "  <thead>\n",
       "    <tr style=\"text-align: right;\">\n",
       "      <th></th>\n",
       "      <th>count</th>\n",
       "      <th>mean</th>\n",
       "      <th>std</th>\n",
       "      <th>min</th>\n",
       "      <th>25%</th>\n",
       "      <th>50%</th>\n",
       "      <th>75%</th>\n",
       "      <th>max</th>\n",
       "    </tr>\n",
       "  </thead>\n",
       "  <tbody>\n",
       "    <tr>\n",
       "      <th>err_pct</th>\n",
       "      <td>20.0</td>\n",
       "      <td>9.318596</td>\n",
       "      <td>6.454992</td>\n",
       "      <td>0.13587</td>\n",
       "      <td>4.796855</td>\n",
       "      <td>9.987057</td>\n",
       "      <td>14.493976</td>\n",
       "      <td>19.126691</td>\n",
       "    </tr>\n",
       "  </tbody>\n",
       "</table>"
      ],
      "text/plain": [
       "<IPython.core.display.HTML object>"
      ]
     },
     "metadata": {},
     "output_type": "display_data"
    },
    {
     "name": "stdout",
     "output_type": "stream",
     "text": [
      "126\n"
     ]
    },
    {
     "data": {
      "text/html": [
       "<table border=\"1\" class=\"dataframe\">\n",
       "  <thead>\n",
       "    <tr style=\"text-align: right;\">\n",
       "      <th></th>\n",
       "      <th>count</th>\n",
       "      <th>mean</th>\n",
       "      <th>std</th>\n",
       "      <th>min</th>\n",
       "      <th>25%</th>\n",
       "      <th>50%</th>\n",
       "      <th>75%</th>\n",
       "      <th>max</th>\n",
       "    </tr>\n",
       "  </thead>\n",
       "  <tbody>\n",
       "    <tr>\n",
       "      <th>err_pct</th>\n",
       "      <td>20.0</td>\n",
       "      <td>14.728211</td>\n",
       "      <td>8.379817</td>\n",
       "      <td>0.271739</td>\n",
       "      <td>12.623687</td>\n",
       "      <td>18.106769</td>\n",
       "      <td>19.787823</td>\n",
       "      <td>24.661747</td>\n",
       "    </tr>\n",
       "  </tbody>\n",
       "</table>"
      ],
      "text/plain": [
       "<IPython.core.display.HTML object>"
      ]
     },
     "metadata": {},
     "output_type": "display_data"
    },
    {
     "name": "stdout",
     "output_type": "stream",
     "text": [
      "127\n"
     ]
    },
    {
     "data": {
      "text/html": [
       "<table border=\"1\" class=\"dataframe\">\n",
       "  <thead>\n",
       "    <tr style=\"text-align: right;\">\n",
       "      <th></th>\n",
       "      <th>count</th>\n",
       "      <th>mean</th>\n",
       "      <th>std</th>\n",
       "      <th>min</th>\n",
       "      <th>25%</th>\n",
       "      <th>50%</th>\n",
       "      <th>75%</th>\n",
       "      <th>max</th>\n",
       "    </tr>\n",
       "  </thead>\n",
       "  <tbody>\n",
       "    <tr>\n",
       "      <th>err_pct</th>\n",
       "      <td>20.0</td>\n",
       "      <td>8.935528</td>\n",
       "      <td>8.110028</td>\n",
       "      <td>0.0</td>\n",
       "      <td>1.031921</td>\n",
       "      <td>9.817895</td>\n",
       "      <td>16.30989</td>\n",
       "      <td>21.156212</td>\n",
       "    </tr>\n",
       "  </tbody>\n",
       "</table>"
      ],
      "text/plain": [
       "<IPython.core.display.HTML object>"
      ]
     },
     "metadata": {},
     "output_type": "display_data"
    },
    {
     "name": "stdout",
     "output_type": "stream",
     "text": [
      "128\n"
     ]
    },
    {
     "data": {
      "text/html": [
       "<table border=\"1\" class=\"dataframe\">\n",
       "  <thead>\n",
       "    <tr style=\"text-align: right;\">\n",
       "      <th></th>\n",
       "      <th>count</th>\n",
       "      <th>mean</th>\n",
       "      <th>std</th>\n",
       "      <th>min</th>\n",
       "      <th>25%</th>\n",
       "      <th>50%</th>\n",
       "      <th>75%</th>\n",
       "      <th>max</th>\n",
       "    </tr>\n",
       "  </thead>\n",
       "  <tbody>\n",
       "    <tr>\n",
       "      <th>err_pct</th>\n",
       "      <td>20.0</td>\n",
       "      <td>9.848626</td>\n",
       "      <td>7.728257</td>\n",
       "      <td>0.181159</td>\n",
       "      <td>2.899554</td>\n",
       "      <td>10.106778</td>\n",
       "      <td>17.107461</td>\n",
       "      <td>19.557196</td>\n",
       "    </tr>\n",
       "  </tbody>\n",
       "</table>"
      ],
      "text/plain": [
       "<IPython.core.display.HTML object>"
      ]
     },
     "metadata": {},
     "output_type": "display_data"
    },
    {
     "data": {
      "text/plain": [
       "AMP(cycle_day=183, term_codes=[202008, 202108, 202208, 202308], infer_term=202408, crse=['_total'], attr=['pidm', 'term_code', 'term_desc', 'apdc_code', 'apdc_desc', 'levl_code', 'levl_desc', 'styp_code', 'styp_desc', 'admt_code', 'admt_desc', 'camp_code', 'camp_desc', 'coll_code', 'coll_desc', 'dept_code', 'dept_desc', 'majr_code', 'majr_desc', 'cnty_code', 'cnty_desc', 'stat_code', 'stat_desc', 'natn_code', 'natn_desc', 'resd_code', 'resd_desc', 'lgcy_code', 'lgcy_desc', 'international', 'gender', 'race_american_indian', 'race_asian', 'race_black', 'race_pacific', 'race_white', 'race_hispanic', 'waiver', 'birth_day', 'distance', 'hs_qrtl'], fill={'birth_day': ['median', ['term_code', 'styp_code']], 'remote': False, 'international': False, 'race_american_indian': False, 'race_asian': False, 'race_black': False, 'race_pacific': False, 'race_white': False, 'race_hispanic': False, 'lgcy': False, 'resd': False, 'waiver': False, 'fafsa_app': False, 'schlship_app': False, 'finaid_accepted': False, 'ssb': False, 'math': False, 'reading': False, 'writing': False, 'gap_score': 0, 'oriented': 'n'}, trf_grid={'appl_day': ['passthrough', 'drop'], 'apdc_day': ['passthrough', 'drop'], 'birth_day': ['passthrough', Pipeline(steps=[('standardscaler', StandardScaler()),\n",
       "                ('powertransformer', PowerTransformer())])], 'remote': ['passthrough'], 'coll_code': ['passthrough', 'drop'], 'international': ['passthrough'], 'race_american_indian': ['passthrough'], 'race_asian': ['passthrough'], 'race_black': ['passthrough'], 'race_pacific': ['passthrough'], 'race_white': ['passthrough'], 'race_hispanic': ['passthrough'], 'gender': ['passthrough'], 'lgcy': ['passthrough', 'drop'], 'resd': ['passthrough'], 'waiver': ['passthrough', 'drop'], 'schlship_app': ['passthrough'], 'ssb': ['passthrough'], 'math': ['passthrough'], 'reading': ['passthrough'], 'writing': ['passthrough'], 'gap_score': ['passthrough'], 'oriented': ['passthrough'], 'hs_qrtl': ['passthrough'], 'act_equiv': ['passthrough'], 'distance': ['passthrough', Pipeline(steps=[('standardscaler', StandardScaler()),\n",
       "                ('powertransformer', PowerTransformer())])]}, imp_grid={'mmc': 10}, overwrite={'trm': False, 'adm': False, 'reg': False, 'flg': False, 'raw': False, 'term': False, 'raw_df': False, 'reg_df': False, 'X': False, 'Y': False, 'pred': False}, show={'trm': False, 'adm': False, 'reg': False, 'flg': False, 'raw': False, 'term': False, 'raw_df': False, 'reg_df': False, 'X': False, 'Y': False, 'pred': False}, inspect=False)"
      ]
     },
     "execution_count": 2,
     "metadata": {},
     "output_type": "execute_result"
    }
   ],
   "source": [
    "from LiveAMP import *\n",
    "import miceforest as mf\n",
    "from sklearn.compose import make_column_selector, ColumnTransformer\n",
    "from sklearn.preprocessing import OneHotEncoder, StandardScaler, PowerTransformer, KBinsDiscretizer\n",
    "from sklearn.pipeline import Pipeline, make_pipeline\n",
    "from sklearn.metrics import f1_score\n",
    "from sklearn import set_config\n",
    "set_config(transform_output=\"pandas\")\n",
    "\n",
    "def feature_importance_df(self, dataset=0, iteration=None, normalize=True):\n",
    "    targ = [self._get_var_name_from_scalar(int(i)) for i in np.sort(self.imputation_order)]\n",
    "    feat = [self._get_var_name_from_scalar(int(i)) for i in np.sort(self.predictor_vars)]\n",
    "    I = pd.DataFrame(self.get_feature_importance(dataset, iteration), index=targ, columns=feat).T\n",
    "    return I / I.sum() * 100 if normalize else I\n",
    "mf.ImputationKernel.feature_importance_df = feature_importance_df\n",
    "\n",
    "def inspect(self, **kwargs):\n",
    "    self.plot_imputed_distributions(wspace=0.3,hspace=0.3)\n",
    "    plt.show()\n",
    "    self.plot_mean_convergence(wspace=0.3, hspace=0.4)\n",
    "    plt.show()\n",
    "    I = self.feature_importance_df(**kwargs)\n",
    "    I.disp(100)\n",
    "    return I\n",
    "mf.ImputationKernel.inspect = inspect\n",
    "\n",
    "\n",
    "@dataclasses.dataclass\n",
    "class AMP(MyBaseClass):\n",
    "    cycle_day: int\n",
    "    term_codes: typing.List\n",
    "    infer_term: int\n",
    "    crse: typing.List\n",
    "    attr: typing.List\n",
    "    fill: typing.Dict = None\n",
    "    trf_grid: typing.Dict = None\n",
    "    imp_grid: typing.Dict = None\n",
    "    overwrite: typing.Dict = None\n",
    "    show: typing.Dict = None\n",
    "    inspect: bool = False\n",
    "\n",
    "    def dump(self):\n",
    "        return write(self.rslt, self, overwrite=True)\n",
    "\n",
    "    def __post_init__(self):\n",
    "        self.rslt = root_path / f\"resources/rslt/{rjust(self.cycle_day,3,0)}/rslt.pkl\"\n",
    "        D = {'trm':False, 'adm':False, 'reg':False, 'flg':False, 'raw':False, 'term':False, 'raw_df':False, 'reg_df':False, 'X':False, 'Y':False, 'pred':False}\n",
    "        for x in ['overwrite','show']:\n",
    "            self[x] = D.copy() if self[x] is None else D.copy() | self[x]\n",
    "        self.overwrite['raw'] |= self.overwrite['reg'] | self.overwrite['adm'] | self.overwrite['flg']\n",
    "        self.overwrite['term'] |= self.overwrite['raw']\n",
    "        self.overwrite['raw_df'] |= self.overwrite['term']\n",
    "        self.overwrite['reg_df'] |= self.overwrite['term']\n",
    "        self.overwrite['X'] |= self.overwrite['raw_df']\n",
    "        self.overwrite['Y'] |= self.overwrite['reg_df'] | self.overwrite['X']\n",
    "        self.overwrite['pred'] |= self.overwrite['Y']\n",
    "\n",
    "        try:\n",
    "            self.__dict__ = read(self.rslt).__dict__ | self.__dict__\n",
    "        except:\n",
    "            pass\n",
    "        for k, v in self.overwrite.items():\n",
    "            if v and k in self:\n",
    "                del self[k]\n",
    "        for k in ['fill','term','pred','trf_grid','imp_grid']:\n",
    "            if k not in self:\n",
    "                self[k] = dict()\n",
    "\n",
    "        self.term_codes = uniquify([*listify(self.term_codes), self.infer_term])\n",
    "        self.crse = uniquify(['_total', *listify(self.crse)])\n",
    "        self.mlt_grp = ['crse','levl_code','styp_code','term_code']\n",
    "        self.trf_list = cartesian({k: sorted(setify(v), key=str) for k,v in self.trf_grid.items()})\n",
    "        self.trf_list = [mysort({k:v for k,v in t.items() if v not in ['drop',None,'']}) for t in self.trf_list]\n",
    "        imp_default = {'iterations':3, 'mmc':0, 'mmf':'mean_match_default', 'datasets':5, 'tune':True}\n",
    "        self.imp_list = cartesian(self.imp_grid)\n",
    "        self.imp_list = [mysort(imp_default | v) for v in self.imp_list]\n",
    "        self.params_list = [mysort({'imp':imp, 'trf':trf}) for trf, imp in it.product(self.trf_list,self.imp_list)]\n",
    "        return self\n",
    "\n",
    "    def get_terms(self):\n",
    "        opts = {x:self[x] for x in ['cycle_day','overwrite','show']}\n",
    "        for nm in self.term_codes:\n",
    "            if nm not in self.term:\n",
    "                print(f'get {nm}')\n",
    "                self.term[nm] = TERM(term_code=nm, **opts).get_raw()\n",
    "\n",
    "\n",
    "    def preprocess(self):\n",
    "        def get(nm):\n",
    "            if nm in self:\n",
    "                return False\n",
    "            print(f'get {nm}')\n",
    "            return True\n",
    "\n",
    "        if get('raw_df') or get('reg_df'):\n",
    "            self.get_terms()\n",
    "\n",
    "        if get('raw_df'):\n",
    "            with warnings.catch_warnings(action='ignore'):\n",
    "                self.raw_df = pd.concat([term.raw for term in self.term.values()], ignore_index=True).dropna(axis=1, how='all').prep()\n",
    "\n",
    "        if get('reg_df'):\n",
    "            with warnings.catch_warnings(action='ignore'):\n",
    "                self.reg_df = {k: pd.concat([term.reg[k].query(\"crse in @self.crse\") for term in self.term.values()]).prep() for k in ['cur','end']}\n",
    "\n",
    "        where = lambda x: x.query(\"levl_code == 'ug' and styp_code in ('n','r','t')\").copy()\n",
    "        if get('X'):\n",
    "            R = self.raw_df.copy()\n",
    "            repl = {'ae':0, 'n1':1, 'n2':2, 'n3':3, 'n4':4, 'r1':1, 'r2':2, 'r3':3, 'r4':4}\n",
    "            R['hs_qrtl'] = pd.cut(R['hs_pctl'], bins=[-1,25,50,75,90,101], labels=[4,3,2,1,0], right=False).combine_first(R['apdc_code'].map(repl))\n",
    "            R['remote'] = R['camp_code'] != 's'\n",
    "            R['resd'] = R['resd_code'] == 'r'\n",
    "            R['lgcy'] = ~R['lgcy_code'].isin(['n','o'])\n",
    "            R['majr_code'] = R['majr_code'].replace({'0000':'und', 'eled':'eted', 'agri':'unda'})\n",
    "            R['coll_code'] = R['coll_code'].replace({'ae':'an', 'eh':'ed', 'hs':'hl', 'st':'sm', '00':pd.NA})\n",
    "            R['coll_desc'] = R['coll_desc'].replace({\n",
    "                'ag & environmental_sciences':'ag & natural_resources',\n",
    "                'education & human development':'education',\n",
    "                'health science & human_service':'health sciences',\n",
    "                'science & technology':'science & mathematics'})\n",
    "            majr = ['majr_desc','dept_code','dept_desc','coll_code','coll_desc']\n",
    "            S = R.sort_values('cycle_date').drop_duplicates(subset='majr_code', keep='last')[['majr_code',*majr]]\n",
    "            X = where(R.drop(columns=majr).merge(S, on='majr_code', how='left')).prep().prep_bool()\n",
    "\n",
    "            checks = [\n",
    "                'cycle_day >= 0',\n",
    "                'apdc_day >= cycle_day',\n",
    "                'appl_day >= apdc_day',\n",
    "                'birth_day >= appl_day',\n",
    "                'birth_day >= 5000',\n",
    "                'distance >= 0',\n",
    "                'hs_pctl >=0',\n",
    "                'hs_pctl <= 100',\n",
    "                'hs_qrtl >= 0',\n",
    "                'hs_qrtl <= 4',\n",
    "                'act_equiv >= 1',\n",
    "                'act_equiv <= 36',\n",
    "                'gap_score >= 0',\n",
    "                'gap_score <= 100',\n",
    "            ]\n",
    "            for check in checks:\n",
    "                mask = X.eval(check)\n",
    "                assert mask.all(), [check,X[~mask].disp(5)]\n",
    "            \n",
    "            for k, v in self.fill.items():\n",
    "                X[k] = X.impute(k, *listify(v))\n",
    "            self.X = X.prep().prep_bool().set_index(self.attr, drop=False).rename(columns=lambda x:'__'+x)\n",
    "            self.X.missing().disp(100)\n",
    "\n",
    "        if get('Y'):\n",
    "            Y = {k: self.X[[]].join(y.set_index(['pidm','term_code','crse'])['credit_hr']) for k, y in self.reg_df.items()}\n",
    "            agg = lambda y: where(y).groupby(self.mlt_grp)['credit_hr'].agg(lambda x: (x>0).sum())\n",
    "            A = agg(self.reg_df['end'])\n",
    "            B = agg(Y['end'])\n",
    "            M = (A / B).replace(np.inf, pd.NA).rename('mlt').reset_index().query(f\"term_code != {self.infer_term}\").prep()\n",
    "            N = M.assign(term_code=self.infer_term)\n",
    "            self.mlt = pd.concat([M, N], axis=0).set_index(self.mlt_grp)\n",
    "            Y = {k: y.squeeze().unstack().dropna(how='all', axis=1).fillna(0) for k, y in Y.items()}\n",
    "            self.Y = Y['cur'].rename(columns=lambda x:x+'_cur').join(Y['end']>0).prep()\n",
    "        return self.dump()\n",
    "\n",
    "\n",
    "    def predict(self, params, crse, train_term, styp_code='all'):\n",
    "        # for p, P in self.pred.items():\n",
    "        #     if p == str(params):\n",
    "        #         for c, C in P.items():\n",
    "        #             if c == crse:\n",
    "        #                 for t, T in C.items():\n",
    "        #                     if t == train_term:\n",
    "        #                         for s, S in T.items():\n",
    "        #                             if s == styp_code:\n",
    "        #                                 # print(ljust(crse,8), train_term, styp_code, 'reusing')\n",
    "        #                                 return S, False\n",
    "\n",
    "        print(ljust(crse,8), train_term, styp_code, 'creating')\n",
    "        X = self.X.copy()\n",
    "        if styp_code != 'all':\n",
    "            X = X.query(f\"styp_code==@styp_code\")\n",
    "        trf = ColumnTransformer([(c,t,[\"__\"+c]) for c,t in params['trf'].items()], remainder='drop', verbose_feature_names_out=False)\n",
    "        cols = uniquify(['_total_cur',crse+'_cur',crse])\n",
    "        Z = trf.fit_transform(X).join(self.Y[cols]).prep().prep_bool().prep_category().sort_index()\n",
    "        y = Z[crse].copy().rename('true').to_frame()\n",
    "        Z.loc[Z.eval(\"term_code!=@train_term\"), crse] = pd.NA\n",
    "\n",
    "        iterations = params['imp'].pop('iterations')\n",
    "        datasets = params['imp'].pop('datasets')\n",
    "        tune = params['imp'].pop('tune')\n",
    "        mmc = params['imp'].pop('mmc')\n",
    "        mmf = params['imp'].pop('mmf')\n",
    "        if mmc > 0 and mmf is not None:\n",
    "            params['imp']['mean_match_scheme'] = getattr(mf, mmf).copy()\n",
    "            params['imp']['mean_match_scheme'].set_mean_match_candidates(mmc)\n",
    "        \n",
    "        if tune:\n",
    "            # print('tuning')\n",
    "            imp = mf.ImputationKernel(Z, datasets=1, **params['imp'])\n",
    "            imp.mice(iterations=1)\n",
    "            optimal_parameters, losses = imp.tune_parameters(dataset=0, optimization_steps=5)\n",
    "        else:\n",
    "            # print('not tuning')\n",
    "            optimal_parameters = None\n",
    "        imp = mf.ImputationKernel(Z, datasets=datasets, **params['imp'])\n",
    "        imp.mice(iterations=iterations, variable_parameters=optimal_parameters)\n",
    "        if self.inspect:\n",
    "            imp.inspect()\n",
    "\n",
    "        Z.loc[:, crse] = pd.NA\n",
    "        P = imp.impute_new_data(Z)\n",
    "        details = pd.concat([y\n",
    "                .assign(pred=P.complete_data(k)[crse], train_term=train_term, crse=crse, sim=k)\n",
    "                .set_index(['train_term','crse','sim'], append=True)\n",
    "            for k in range(P.dataset_count())]).prep_bool()\n",
    "        agg = lambda x: pd.Series({\n",
    "            'pred': x['pred'].sum(min_count=1),\n",
    "            'true': x['true'].sum(min_count=1),\n",
    "            'mse_pct': ((1*x['pred'] - x['true'])**2).mean()*100,\n",
    "            'f1_inv_pct': (1-f1_score(x.dropna()['true'], x.dropna()['pred'], zero_division=np.nan))*100,\n",
    "        })\n",
    "        summary = details.groupby([*self.mlt_grp,'train_term','sim']).apply(agg).join(self.mlt).rename_axis(index={'term_code':'pred_term'})\n",
    "        for x in ['pred','true']:\n",
    "            summary[x] = summary[x] * summary['mlt']\n",
    "        summary.insert(2, 'err', summary['pred'] - summary['true'])\n",
    "        summary.insert(3, 'err_pct', (summary['err'] / summary['true']).clip(-1, 1) * 100)\n",
    "        S = {'details':details, 'summary':summary.drop(columns='mlt').prep()}#, 'trf':trf, 'imp':imp}\n",
    "        # S['summary'].disp(5)\n",
    "        return S\n",
    "        # return S, True\n",
    "\n",
    "\n",
    "    def analyze(self, df):\n",
    "        def pivot(df, val):\n",
    "            Y = (\n",
    "                df\n",
    "                .reset_index()\n",
    "                .pivot_table(columns='train_term', index=['crse','styp_code','pred_term'], values=val, aggfunc=['count',pctl(0),pctl(25),pctl(50),pctl(75),pctl(100)])\n",
    "                .rename_axis(columns=[val,'train_term'])\n",
    "                .stack(0, future_stack=True)\n",
    "                .assign(abs_mean = lambda x: x.abs().mean(axis=1))\n",
    "            )\n",
    "            return Y\n",
    "        mask = df.eval(f\"pred_term!={self.infer_term}\")\n",
    "        rslt = {stat: pivot(df[mask], stat) for stat in [\"pred\",\"err\",\"err_pct\",\"mse_pct\",\"f1_inv_pct\"]} | {\"proj\": pivot(df[~mask], \"pred\")}\n",
    "        # R = rslt[\"err_pct\"].query(\"err_pct in [' 50%']\")\n",
    "        # R.disp(200)\n",
    "        # df.query(f\"train_term==202308 & pred_term!=202408\")[\"err_pct\"].abs().describe().to_frame().T.disp(200)\n",
    "        return rslt\n",
    "\n",
    "\n",
    "    def main(self, styp_codes=('n','t','r')):\n",
    "        self = self.preprocess()\n",
    "        g = lambda Y: {k: pd.concat([y[k] for y in Y.values() if isinstance(y, dict) and k in y.keys()]).sort_index() for k in ['details','summary']}\n",
    "        # g = lambda Y: Y | {k: pd.concat([y[k] for y in Y.values() if isinstance(y, dict) and k in y.keys()]).sort_index() for k in ['summary']}\n",
    "        start_time = time.perf_counter()\n",
    "        L = len(self.params_list)\n",
    "        k = 0\n",
    "        for params in self.params_list:\n",
    "            # print(str(params))\n",
    "            try:\n",
    "                P = self.pred[str(params)]\n",
    "                S = P['summary']\n",
    "            except:\n",
    "                print(str(params))\n",
    "                P = dict()\n",
    "                for crse in self.crse:\n",
    "                    for train_term in self.term_codes:\n",
    "                        for styp_code in listify(styp_codes):\n",
    "                            S = self.predict(copy.deepcopy(params), crse, train_term, styp_code)\n",
    "                            path = [crse,train_term,styp_code]\n",
    "                            nest(path, P, S)\n",
    "                        path.pop(-1)\n",
    "                        nest(path, P, g(nest(path, P)))\n",
    "                    path.pop(-1)\n",
    "                    nest(path, P, g(nest(path, P)))\n",
    "                P = g(P)\n",
    "                S = P['summary']\n",
    "            # if 'rslt' not in P:\n",
    "            P['rslt'] = self.analyze(S)\n",
    "            self.pred[str(params)] = P\n",
    "            self.dump()\n",
    "            k += 1\n",
    "            print(k)\n",
    "            # elapsed = (time.perf_counter() - start_time) / 60\n",
    "            # rate = elapsed / k\n",
    "            # remaining = rate * (L - k)\n",
    "            # print(f\"{k} / {L} = {round(k/L*100,1)}% complete, elapsed = {round(elapsed,1)} min, remaining = {round(remaining,1)} min @ {round(rate,1)} min per model\")\n",
    "            S.query(f\"train_term==202308 & pred_term!=202408\")[\"err_pct\"].abs().describe().to_frame().T.disp(200)\n",
    "            # print(\"\\n========================================================================================================\\n\")\n",
    "        return self\n",
    "\n",
    "    # def main(self, styp_codes=('n','t','r')):\n",
    "    #     self = self.preprocess()\n",
    "    #     # g = lambda Y: {k: pd.concat([y[k] for y in Y.values() if isinstance(y, dict) and k in y.keys()]).sort_index() for k in ['details','summary']}\n",
    "    #     # g = lambda Y: Y | {k: pd.concat([y[k] for y in Y.values() if isinstance(y, dict) and k in y.keys()]).sort_index() for k in ['summary']}\n",
    "    #     start_time = time.perf_counter()\n",
    "    #     L = len(self.params_list)\n",
    "    #     k = 0\n",
    "    #     P = self.pred\n",
    "    #     for params in self.params_list:\n",
    "    #         print(str(params))\n",
    "    #         for crse in self.crse:\n",
    "    #             dump = False\n",
    "    #             for train_term in self.term_codes:\n",
    "    #                 for styp_code in listify(styp_codes):\n",
    "    #                     S, new = self.predict(copy.deepcopy(params), crse, train_term, styp_code)\n",
    "    #                     path = [str(params),crse,train_term,styp_code]\n",
    "    #                     P = nest(path, P, S)\n",
    "    #                     dump |= new\n",
    "    #                 path.pop(-1)\n",
    "    #                 P = nest(path, P, g(nest(path, P)))\n",
    "    #             path.pop(-1)\n",
    "    #             P = nest(path, P, g(nest(path, P)))\n",
    "    #         path.pop(-1)\n",
    "    #         P = nest(path, P, g(nest(path, P)))\n",
    "    #         # if dump:\n",
    "    #         #     self.dump()\n",
    "\n",
    "    #         self.analyze(str(params))\n",
    "    #         k += 1\n",
    "    #         elapsed = (time.perf_counter() - start_time) / 60\n",
    "    #         rate = elapsed / k\n",
    "    #         remaining = rate * (L - k)\n",
    "    #         print(f\"{k} / {L} = {round(k/L*100,1)}% complete, elapsed = {round(elapsed,1)} min, remaining = {round(remaining,1)} min @ {round(rate,1)} min per model\")\n",
    "    #         print(\"\\n========================================================================================================\\n\")\n",
    "    #         return self\n",
    "    \n",
    "    # def main(self, styp_codes=('n','t','r')):\n",
    "    #     self = self.preprocess()\n",
    "    #     # g = lambda Y: Y | {k: pd.concat([y[k] for y in Y.values() if isinstance(y, dict) and k in y.keys()]).sort_index() for k in ['details','summary']}\n",
    "    #     g = lambda Y: Y | {k: pd.concat([y[k] for y in Y.values() if isinstance(y, dict) and k in y.keys()]).sort_index() for k in ['summary']}\n",
    "    #     start_time = time.perf_counter()\n",
    "    #     L = len(self.params_list)\n",
    "    #     k = 0\n",
    "    #     for params in self.params_list:\n",
    "    #         print(str(params))\n",
    "    #         self.pred.setdefault(str(params), dict())\n",
    "    #         for crse in self.crse:\n",
    "    #             self.pred[str(params)].setdefault(crse, dict())\n",
    "    #             for train_term in self.term_codes:\n",
    "    #                 self.pred[str(params)][crse].setdefault(train_term, dict())\n",
    "    #                 for styp_code in listify(styp_codes):\n",
    "    #                     S, new = self.predict(copy.deepcopy(params), crse, train_term, styp_code)\n",
    "    #                     self.pred[str(params)][crse][train_term][styp_code] = S\n",
    "    #                     if new:\n",
    "    #                         self.dump()\n",
    "    #                 self.pred[str(params)][crse][train_term] = g(self.pred[str(params)][crse][train_term])\n",
    "    #             self.pred[str(params)][crse] = g(self.pred[str(params)][crse])\n",
    "    #         self.pred[str(params)] = g(self.pred[str(params)])\n",
    "    #         self.analyze(str(params))\n",
    "    #         k += 1\n",
    "    #         elapsed = (time.perf_counter() - start_time) / 60\n",
    "    #         rate = elapsed / k\n",
    "    #         remaining = rate * (L - k)\n",
    "    #         print(f\"{k} / {L} = {round(k/L*100,1)}% complete, elapsed = {round(elapsed,1)} min, remaining = {round(remaining,1)} min @ {round(rate,1)} min per model\")\n",
    "    #         print(\"\\n========================================================================================================\\n\")\n",
    "    #     return self\n",
    "\n",
    "\n",
    "code_desc = lambda x: [x+'_code', x+'_desc']\n",
    "passthru = ['passthrough']\n",
    "passdrop = ['passthrough', 'drop']\n",
    "# passthru = passdrop\n",
    "bintrf = lambda n_bins: KBinsDiscretizer(n_bins=n_bins, encode='ordinal', strategy='uniform', subsample=None)\n",
    "pwrtrf = make_pipeline(StandardScaler(), PowerTransformer())\n",
    "kwargs = {\n",
    "    'term_codes': np.arange(2020,2025)*100+8,\n",
    "    'infer_term': 202408,\n",
    "    'show': {\n",
    "        # 'reg':True,\n",
    "        # 'adm':True,\n",
    "    },\n",
    "    'fill': {\n",
    "        'birth_day': ['median',['term_code','styp_code']],\n",
    "        'remote': False,\n",
    "        'international': False,\n",
    "        **{f'race_{r}': False for r in ['american_indian','asian','black','pacific','white','hispanic']},\n",
    "        'lgcy': False,\n",
    "        'resd': False,\n",
    "        'waiver': False,\n",
    "        'fafsa_app': False,\n",
    "        'schlship_app': False,\n",
    "        'finaid_accepted': False,\n",
    "        'ssb': False,\n",
    "        'math': False,\n",
    "        'reading': False,\n",
    "        'writing': False,\n",
    "        'gap_score': 0,\n",
    "        'oriented': 'n',\n",
    "    },\n",
    "    'attr': [\n",
    "        'pidm',\n",
    "        *code_desc('term'),\n",
    "        *code_desc('apdc'),\n",
    "        *code_desc('levl'),\n",
    "        *code_desc('styp'),\n",
    "        *code_desc('admt'),\n",
    "        *code_desc('camp'),\n",
    "        *code_desc('coll'),\n",
    "        *code_desc('dept'),\n",
    "        *code_desc('majr'),\n",
    "        *code_desc('cnty'),\n",
    "        *code_desc('stat'),\n",
    "        *code_desc('natn'),\n",
    "        *code_desc('resd'),\n",
    "        *code_desc('lgcy'),\n",
    "        'international',\n",
    "        'gender',\n",
    "        *[f'race_{r}' for r in ['american_indian','asian','black','pacific','white','hispanic']],\n",
    "        'waiver',\n",
    "        'birth_day',\n",
    "        'distance',\n",
    "        'hs_qrtl',\n",
    "    ],\n",
    "    'cycle_day': (TERM(term_code=202408).cycle_date-pd.Timestamp.now()).days+1,\n",
    "    'cycle_day': 183,\n",
    "    'crse': [\n",
    "        # 'engl1301',\n",
    "        # 'biol1406',\n",
    "        # 'biol2401',\n",
    "        # 'math1314',\n",
    "        # 'math2412',\n",
    "        # 'agri1419',\n",
    "        # 'psyc2301',\n",
    "        # 'ansc1319',\n",
    "        # 'comm1311',\n",
    "        # 'hist1301',\n",
    "        # 'govt2306',\n",
    "        # 'math1324',\n",
    "        # 'chem1411',\n",
    "        # 'univ0301',\n",
    "        # 'univ0204',\n",
    "        # 'univ0304',\n",
    "        # 'agri1100',\n",
    "        # 'comm1315',\n",
    "        # 'agec2317',\n",
    "        # 'govt2305',\n",
    "        # 'busi1301',\n",
    "        # 'arts1301',\n",
    "        # 'math1342',\n",
    "        # 'math2413',\n",
    "        ],\n",
    "    'trf_grid': {\n",
    "        'appl_day': passdrop,\n",
    "        'apdc_day': passdrop,\n",
    "        'birth_day': [*passthru, pwrtrf],#, ],\n",
    "        # 'levl_code': passthru,\n",
    "        # 'styp_code': passthru,\n",
    "        # 'admt_code': passdrop,\n",
    "        # 'camp_code': passdrop,\n",
    "        'remote': passthru,\n",
    "        'coll_code': passdrop,\n",
    "        'international': passthru,\n",
    "        **{f'race_{r}': passthru for r in ['american_indian','asian','black','pacific','white','hispanic']},\n",
    "        'gender': passthru,\n",
    "        'lgcy': passdrop,\n",
    "        'resd': passthru,\n",
    "        'waiver': passdrop,\n",
    "        # 'fafsa_app': passthru,\n",
    "        'schlship_app': passthru,\n",
    "        # 'finaid_accepted': passthru,\n",
    "        'ssb': passthru,\n",
    "        'math': passthru,\n",
    "        'reading': passthru,\n",
    "        'writing': passthru,\n",
    "        'gap_score': passthru,\n",
    "        'oriented': passthru,\n",
    "        'hs_qrtl': passthru,\n",
    "        'act_equiv': passthru,\n",
    "        'distance': [*passthru, pwrtrf],#, bintrf(5)],\n",
    "        },\n",
    "    'imp_grid': {\n",
    "        'mmc': 10\n",
    "        # 'mmc': range(0, 41, 5),\n",
    "        # 'datasets': 1,\n",
    "        # 'iterations': 1,\n",
    "        # 'tune': False,\n",
    "    },\n",
    "    'overwrite': {\n",
    "        # # 'trm':True,\n",
    "        # 'reg':True,\n",
    "        # 'adm':True,\n",
    "        # 'flg':True,\n",
    "        # 'raw':True,\n",
    "        # 'term': True,\n",
    "        # 'raw_df': True,\n",
    "        # 'reg_df': True,\n",
    "        # 'X': True,\n",
    "        # 'Y': True,\n",
    "        # 'pred': True,\n",
    "    },\n",
    "    # 'inspect': True,\n",
    "}\n",
    "\n",
    "# FLAGS().run()\n",
    "self = AMP(**kwargs)\n",
    "self = self.preprocess()\n",
    "self.term_codes.remove(self.infer_term)\n",
    "# self.params_list = list(reversed(self.params_list))\n",
    "self.main(styp_codes='n')\n",
    "# len(self.params_list)\n",
    "# for x in self.params_list:\n",
    "#     print(x)\n",
    "# T = TERM(202008, cycle_day=184, show={'adm':True}).get_adm(184)"
   ]
  },
  {
   "cell_type": "code",
   "execution_count": null,
   "metadata": {},
   "outputs": [],
   "source": [
    "k = list(self.pred.keys())[10]\n",
    "self.pred[k].keys()#['rslt']"
   ]
  },
  {
   "cell_type": "code",
   "execution_count": 4,
   "metadata": {},
   "outputs": [
    {
     "data": {
      "text/plain": [
       "AMP(cycle_day=183, term_codes=[202008, 202108, 202208, 202308], infer_term=202408, crse=['_total'], attr=['pidm', 'term_code', 'term_desc', 'apdc_code', 'apdc_desc', 'levl_code', 'levl_desc', 'styp_code', 'styp_desc', 'admt_code', 'admt_desc', 'camp_code', 'camp_desc', 'coll_code', 'coll_desc', 'dept_code', 'dept_desc', 'majr_code', 'majr_desc', 'cnty_code', 'cnty_desc', 'stat_code', 'stat_desc', 'natn_code', 'natn_desc', 'resd_code', 'resd_desc', 'lgcy_code', 'lgcy_desc', 'international', 'gender', 'race_american_indian', 'race_asian', 'race_black', 'race_pacific', 'race_white', 'race_hispanic', 'waiver', 'birth_day', 'distance', 'hs_qrtl'], fill={'birth_day': ['median', ['term_code', 'styp_code']], 'remote': False, 'international': False, 'race_american_indian': False, 'race_asian': False, 'race_black': False, 'race_pacific': False, 'race_white': False, 'race_hispanic': False, 'lgcy': False, 'resd': False, 'waiver': False, 'fafsa_app': False, 'schlship_app': False, 'finaid_accepted': False, 'ssb': False, 'math': False, 'reading': False, 'writing': False, 'gap_score': 0, 'oriented': 'n'}, trf_grid={'appl_day': ['passthrough', 'drop'], 'apdc_day': ['passthrough', 'drop'], 'birth_day': ['passthrough', Pipeline(steps=[('standardscaler', StandardScaler()),\n",
       "                ('powertransformer', PowerTransformer())])], 'remote': ['passthrough'], 'coll_code': ['passthrough', 'drop'], 'international': ['passthrough'], 'race_american_indian': ['passthrough'], 'race_asian': ['passthrough'], 'race_black': ['passthrough'], 'race_pacific': ['passthrough'], 'race_white': ['passthrough'], 'race_hispanic': ['passthrough'], 'gender': ['passthrough'], 'lgcy': ['passthrough', 'drop'], 'resd': ['passthrough'], 'waiver': ['passthrough', 'drop'], 'schlship_app': ['passthrough'], 'ssb': ['passthrough'], 'math': ['passthrough'], 'reading': ['passthrough'], 'writing': ['passthrough'], 'gap_score': ['passthrough'], 'oriented': ['passthrough'], 'hs_qrtl': ['passthrough'], 'act_equiv': ['passthrough'], 'distance': ['passthrough', Pipeline(steps=[('standardscaler', StandardScaler()),\n",
       "                ('powertransformer', PowerTransformer())])]}, imp_grid={'mmc': 10}, overwrite={'trm': False, 'adm': False, 'reg': False, 'flg': False, 'raw': False, 'term': False, 'raw_df': False, 'reg_df': False, 'X': False, 'Y': False, 'pred': False}, show={'trm': False, 'adm': False, 'reg': False, 'flg': False, 'raw': False, 'term': False, 'raw_df': False, 'reg_df': False, 'X': False, 'Y': False, 'pred': False}, inspect=False)"
      ]
     },
     "execution_count": 4,
     "metadata": {},
     "output_type": "execute_result"
    }
   ],
   "source": [
    "self.dump()"
   ]
  },
  {
   "cell_type": "code",
   "execution_count": null,
   "metadata": {},
   "outputs": [],
   "source": [
    "self.raw_df.query('pidm==1121725').disp(1)"
   ]
  },
  {
   "cell_type": "code",
   "execution_count": 5,
   "metadata": {},
   "outputs": [
    {
     "name": "stdout",
     "output_type": "stream",
     "text": [
      "dict_keys(['details', 'summary', 'rslt'])\n",
      "dict_keys(['details', 'summary', 'rslt'])\n",
      "dict_keys(['details', 'summary', 'rslt'])\n",
      "dict_keys(['details', 'summary', 'rslt'])\n",
      "dict_keys(['details', 'summary', 'rslt'])\n",
      "dict_keys(['details', 'summary', 'rslt'])\n",
      "dict_keys(['details', 'summary', 'rslt'])\n",
      "dict_keys(['details', 'summary', 'rslt'])\n",
      "dict_keys(['details', 'summary', 'rslt'])\n",
      "dict_keys(['details', 'summary', 'rslt'])\n",
      "dict_keys(['details', 'summary', 'rslt'])\n",
      "dict_keys(['details', 'summary', 'rslt'])\n",
      "dict_keys(['details', 'summary', 'rslt'])\n",
      "dict_keys(['details', 'summary', 'rslt'])\n",
      "dict_keys(['details', 'summary', 'rslt'])\n",
      "dict_keys(['details', 'summary', 'rslt'])\n",
      "dict_keys(['details', 'summary', 'rslt'])\n",
      "dict_keys(['details', 'summary', 'rslt'])\n",
      "dict_keys(['details', 'summary', 'rslt'])\n",
      "dict_keys(['details', 'summary', 'rslt'])\n",
      "dict_keys(['details', 'summary', 'rslt'])\n",
      "dict_keys(['details', 'summary', 'rslt'])\n",
      "dict_keys(['details', 'summary', 'rslt'])\n",
      "dict_keys(['details', 'summary', 'rslt'])\n",
      "dict_keys(['details', 'summary', 'rslt'])\n",
      "dict_keys(['details', 'summary', 'rslt'])\n",
      "dict_keys(['details', 'summary', 'rslt'])\n",
      "dict_keys(['details', 'summary', 'rslt'])\n",
      "dict_keys(['details', 'summary', 'rslt'])\n",
      "dict_keys(['details', 'summary', 'rslt'])\n",
      "dict_keys(['details', 'summary', 'rslt'])\n",
      "dict_keys(['details', 'summary', 'rslt'])\n",
      "dict_keys(['details', 'summary', 'rslt'])\n",
      "dict_keys(['details', 'summary', 'rslt'])\n",
      "dict_keys(['details', 'summary', 'rslt'])\n",
      "dict_keys(['details', 'summary', 'rslt'])\n",
      "dict_keys(['details', 'summary', 'rslt'])\n",
      "dict_keys(['details', 'summary', 'rslt'])\n",
      "dict_keys(['details', 'summary', 'rslt'])\n",
      "dict_keys(['details', 'summary', 'rslt'])\n",
      "dict_keys(['details', 'summary', 'rslt'])\n",
      "dict_keys(['details', 'summary', 'rslt'])\n",
      "dict_keys(['details', 'summary', 'rslt'])\n",
      "dict_keys(['details', 'summary', 'rslt'])\n",
      "dict_keys(['details', 'summary', 'rslt'])\n",
      "dict_keys(['details', 'summary', 'rslt'])\n",
      "dict_keys(['details', 'summary', 'rslt'])\n",
      "dict_keys(['details', 'summary', 'rslt'])\n",
      "dict_keys(['details', 'summary', 'rslt'])\n",
      "dict_keys(['details', 'summary', 'rslt'])\n",
      "dict_keys(['details', 'summary', 'rslt'])\n",
      "dict_keys(['details', 'summary', 'rslt'])\n",
      "dict_keys(['details', 'summary', 'rslt'])\n",
      "dict_keys(['details', 'summary', 'rslt'])\n",
      "dict_keys(['details', 'summary', 'rslt'])\n",
      "dict_keys(['details', 'summary', 'rslt'])\n",
      "dict_keys(['details', 'summary', 'rslt'])\n",
      "dict_keys(['details', 'summary', 'rslt'])\n",
      "dict_keys(['details', 'summary', 'rslt'])\n",
      "dict_keys(['details', 'summary', 'rslt'])\n",
      "dict_keys(['details', 'summary', 'rslt'])\n",
      "dict_keys(['details', 'summary', 'rslt'])\n",
      "dict_keys(['details', 'summary', 'rslt'])\n",
      "dict_keys(['details', 'summary', 'rslt'])\n",
      "dict_keys(['details', 'summary', 'rslt'])\n",
      "dict_keys(['details', 'summary', 'rslt'])\n",
      "dict_keys(['details', 'summary', 'rslt'])\n",
      "dict_keys(['details', 'summary', 'rslt'])\n",
      "dict_keys(['details', 'summary', 'rslt'])\n",
      "dict_keys(['details', 'summary', 'rslt'])\n",
      "dict_keys(['details', 'summary', 'rslt'])\n",
      "dict_keys(['details', 'summary', 'rslt'])\n",
      "dict_keys(['details', 'summary', 'rslt'])\n",
      "dict_keys(['details', 'summary', 'rslt'])\n",
      "dict_keys(['details', 'summary', 'rslt'])\n",
      "dict_keys(['details', 'summary', 'rslt'])\n",
      "dict_keys(['details', 'summary', 'rslt'])\n",
      "dict_keys(['details', 'summary', 'rslt'])\n",
      "dict_keys(['details', 'summary', 'rslt'])\n",
      "dict_keys(['details', 'summary', 'rslt'])\n",
      "dict_keys(['details', 'summary', 'rslt'])\n",
      "dict_keys(['details', 'summary', 'rslt'])\n",
      "dict_keys(['details', 'summary', 'rslt'])\n",
      "dict_keys(['details', 'summary', 'rslt'])\n",
      "dict_keys(['details', 'summary', 'rslt'])\n",
      "dict_keys(['details', 'summary', 'rslt'])\n",
      "dict_keys(['details', 'summary', 'rslt'])\n",
      "dict_keys(['details', 'summary', 'rslt'])\n",
      "dict_keys(['details', 'summary', 'rslt'])\n",
      "dict_keys(['details', 'summary', 'rslt'])\n",
      "dict_keys(['details', 'summary', 'rslt'])\n",
      "dict_keys(['details', 'summary', 'rslt'])\n",
      "dict_keys(['details', 'summary', 'rslt'])\n",
      "dict_keys(['details', 'summary', 'rslt'])\n",
      "dict_keys(['details', 'summary', 'rslt'])\n",
      "dict_keys(['details', 'summary', 'rslt'])\n",
      "dict_keys(['details', 'summary', 'rslt'])\n",
      "dict_keys(['details', 'summary', 'rslt'])\n",
      "dict_keys(['details', 'summary', 'rslt'])\n",
      "dict_keys(['details', 'summary', 'rslt'])\n",
      "dict_keys(['details', 'summary', 'rslt'])\n",
      "dict_keys(['details', 'summary', 'rslt'])\n",
      "dict_keys(['details', 'summary', 'rslt'])\n",
      "dict_keys(['details', 'summary', 'rslt'])\n",
      "dict_keys(['details', 'summary', 'rslt'])\n",
      "dict_keys(['details', 'summary', 'rslt'])\n",
      "dict_keys(['details', 'summary', 'rslt'])\n",
      "dict_keys(['details', 'summary', 'rslt'])\n",
      "dict_keys(['details', 'summary', 'rslt'])\n",
      "dict_keys(['details', 'summary', 'rslt'])\n",
      "dict_keys(['details', 'summary', 'rslt'])\n",
      "dict_keys(['details', 'summary', 'rslt'])\n",
      "dict_keys(['details', 'summary', 'rslt'])\n",
      "dict_keys(['details', 'summary', 'rslt'])\n",
      "dict_keys(['details', 'summary', 'rslt'])\n",
      "dict_keys(['details', 'summary', 'rslt'])\n",
      "dict_keys(['details', 'summary', 'rslt'])\n",
      "dict_keys(['details', 'summary', 'rslt'])\n",
      "dict_keys(['details', 'summary', 'rslt'])\n",
      "dict_keys(['details', 'summary', 'rslt'])\n",
      "dict_keys(['details', 'summary', 'rslt'])\n",
      "dict_keys(['details', 'summary', 'rslt'])\n",
      "dict_keys(['details', 'summary', 'rslt'])\n",
      "dict_keys(['details', 'summary', 'rslt'])\n",
      "dict_keys(['details', 'summary', 'rslt'])\n",
      "dict_keys(['details', 'summary', 'rslt'])\n",
      "dict_keys(['details', 'summary', 'rslt'])\n",
      "dict_keys(['details', 'summary', 'rslt'])\n"
     ]
    }
   ],
   "source": [
    "for v in self.pred.values():\n",
    "    print(v.keys())\n",
    "    # pass\n",
    "# A = list(self.pred.values())[0]\n",
    "# A.keys()\n",
    "# self.analyze(A['summary'])\n",
    "# v['rslt']['proj']"
   ]
  },
  {
   "cell_type": "code",
   "execution_count": null,
   "metadata": {},
   "outputs": [],
   "source": [
    "crse = '_total'\n",
    "train_term = 202308\n",
    "styp_code = 'n'\n",
    "A = list(self.pred.values())[0]['summary'].query(f\"crse==@crse & train_term==@train_term & styp_code==@styp_code & pred_term!=202408\")\n",
    "A['err_pct'].abs().describe().to_frame().T"
   ]
  },
  {
   "cell_type": "code",
   "execution_count": null,
   "metadata": {},
   "outputs": [],
   "source": [
    "g = lambda Y: {k: pd.concat([y[k] for y in Y.values() if isinstance(y, dict) and k in y.keys()]).sort_index() for k in ['details','summary']}\n",
    "Q = dict()\n",
    "for params, P in self.pred.items():\n",
    "    print(str(params))\n",
    "    for crse, C in P.items():\n",
    "        if crse in self.crse:\n",
    "            for train_term, T in C.items():\n",
    "                if train_term in self.term_codes:\n",
    "                    for styp_code, S in T.items():\n",
    "                        if styp_code in ['n','r','t']:\n",
    "                            path = [str(params),crse,train_term,styp_code]\n",
    "                            nest(path, Q, S)\n",
    "                    path.pop(-1)\n",
    "                    nest(path, Q, g(nest(path, Q)))\n",
    "            path.pop(-1)\n",
    "            nest(path, Q, g(nest(path, Q)))\n",
    "    path.pop(-1)\n",
    "    nest(path, Q, g(nest(path, Q)))\n",
    "    # nest(path, self.pred[params], g(nest(path, Q)))\n",
    "    # self.pred[params] = g(Q)\n",
    "    # break\n"
   ]
  },
  {
   "cell_type": "code",
   "execution_count": null,
   "metadata": {},
   "outputs": [],
   "source": [
    "g = lambda Y: {k: pd.concat([y[k] for y in Y.values() if isinstance(y, dict) and k in y.keys()]).sort_index() for k in ['details','summary']}\n",
    "for params, P in self.pred.items():\n",
    "    print(str(params))\n",
    "    for crse in self.crse:\n",
    "        for train_term in self.term_codes:\n",
    "            for styp_code in ['n']:\n",
    "                S, new = self.predict(copy.deepcopy(params), crse, train_term, styp_code)\n",
    "                assert new is False\n",
    "                path = [str(params),crse,train_term,styp_code]\n",
    "                P = nest(path, P, S)\n",
    "                dump |= new\n",
    "            path.pop(-1)\n",
    "            P = nest(path, P, g(nest(path, P)))\n",
    "        path.pop(-1)\n",
    "        P = nest(path, P, g(nest(path, P)))\n",
    "    path.pop(-1)\n",
    "    self.pred[str(params)] = nest(path, P, g(nest(path, P)))\n"
   ]
  },
  {
   "cell_type": "code",
   "execution_count": null,
   "metadata": {},
   "outputs": [],
   "source": [
    "k = 25\n",
    "params = list(self.pred.keys())[k]\n",
    "rslt = self.pred[params]\n",
    "rslt.keys()"
   ]
  },
  {
   "cell_type": "code",
   "execution_count": null,
   "metadata": {},
   "outputs": [],
   "source": [
    "k = 25\n",
    "params = list(self.pred.keys())[k]\n",
    "rslt = self.pred[params]\n",
    "df = rslt['summary']\n",
    "# df.query(f\"train_term==202308 & pred_term!=202408\")['err_pct'].abs().describe().to_frame().T.disp(200)\n",
    "\n",
    "def analyze(df):\n",
    "    def pivot(df, val):\n",
    "        Y = (\n",
    "            df\n",
    "            .reset_index()\n",
    "            .pivot_table(columns='train_term', index=['crse','styp_code','pred_term'], values=val, aggfunc=['count',pctl(0),pctl(25),pctl(50),pctl(75),pctl(100)])\n",
    "            .rename_axis(columns=[val,'train_term'])\n",
    "            .stack(0, future_stack=True)\n",
    "            .assign(abs_mean = lambda x: x.abs().mean(axis=1))\n",
    "        )\n",
    "        return Y\n",
    "    # v = self.pred[params]\n",
    "    # df = v['summary']\n",
    "    mask = df.eval(f\"pred_term!={self.infer_term}\")\n",
    "    rslt = {stat: pivot(df[mask], stat) for stat in [\"pred\",\"err\",\"err_pct\",\"mse_pct\",\"f1_inv_pct\"]} | {'pred': pivot(df[~mask], \"pred\")}\n",
    "    \n",
    "    return rslt\n",
    "    # R = v['rslt']['err_pct'].query(\"err_pct in [' 50%']\")\n",
    "    # R.disp(200)\n",
    "    # # R[['abs_mean']].describe().T.disp(200)\n",
    "    # # df.query(f\"crse==@crse & train_term==@train_term & styp_code==@styp_code & pred_term!=202408\")\n",
    "    # df.query(f\"train_term==202308 & pred_term!=202408\")['err_pct'].abs().describe().to_frame().T.disp(200)\n",
    "    # return self.dump()\n",
    "\n",
    "rslt = analyze(df)\n",
    "rslt['pred']\n",
    "# rslt.keys()\n",
    "# for k, (params, rslt) in enumerate(self.pred.items()):\n",
    "#     print(k, params)\n",
    "#     df = rslt['summary']\n",
    "#     df.query(f\"train_term==202308 & pred_term!=202408\")['err_pct'].abs().describe().to_frame().T.disp(200)"
   ]
  }
 ],
 "metadata": {
  "kernelspec": {
   "display_name": "my3.11",
   "language": "python",
   "name": "python3"
  },
  "language_info": {
   "codemirror_mode": {
    "name": "ipython",
    "version": 3
   },
   "file_extension": ".py",
   "mimetype": "text/x-python",
   "name": "python",
   "nbconvert_exporter": "python",
   "pygments_lexer": "ipython3",
   "version": "3.11.8"
  }
 },
 "nbformat": 4,
 "nbformat_minor": 2
}
