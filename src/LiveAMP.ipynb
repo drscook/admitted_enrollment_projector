{
 "cells": [
  {
   "cell_type": "code",
   "execution_count": null,
   "metadata": {},
   "outputs": [],
   "source": [
    "from LiveAMP import *\n",
    "self = AMP(**kwargs)\n",
    "S = self.run()"
   ]
  },
  {
   "cell_type": "code",
   "execution_count": 3,
   "metadata": {},
   "outputs": [
    {
     "data": {
      "text/html": [
       "<div>\n",
       "<style scoped>\n",
       "    .dataframe tbody tr th:only-of-type {\n",
       "        vertical-align: middle;\n",
       "    }\n",
       "\n",
       "    .dataframe tbody tr th {\n",
       "        vertical-align: top;\n",
       "    }\n",
       "\n",
       "    .dataframe thead th {\n",
       "        text-align: right;\n",
       "    }\n",
       "</style>\n",
       "<table border=\"1\" class=\"dataframe\">\n",
       "  <thead>\n",
       "    <tr style=\"text-align: right;\">\n",
       "      <th></th>\n",
       "      <th></th>\n",
       "      <th></th>\n",
       "      <th></th>\n",
       "      <th></th>\n",
       "      <th></th>\n",
       "      <th></th>\n",
       "      <th></th>\n",
       "      <th></th>\n",
       "      <th>overall_score</th>\n",
       "      <th>train_score</th>\n",
       "      <th>test_score</th>\n",
       "      <th>actual</th>\n",
       "      <th>predicted</th>\n",
       "      <th>error</th>\n",
       "      <th>error_pct</th>\n",
       "      <th>202408_projection</th>\n",
       "    </tr>\n",
       "    <tr>\n",
       "      <th>crse_code</th>\n",
       "      <th>levl_code</th>\n",
       "      <th>styp_code</th>\n",
       "      <th>pred_code</th>\n",
       "      <th>train_code</th>\n",
       "      <th>trf_hash</th>\n",
       "      <th>imp_hash</th>\n",
       "      <th>clf_hash</th>\n",
       "      <th>sim</th>\n",
       "      <th></th>\n",
       "      <th></th>\n",
       "      <th></th>\n",
       "      <th></th>\n",
       "      <th></th>\n",
       "      <th></th>\n",
       "      <th></th>\n",
       "      <th></th>\n",
       "    </tr>\n",
       "  </thead>\n",
       "  <tbody>\n",
       "    <tr>\n",
       "      <th rowspan=\"11\" valign=\"top\">_allcrse</th>\n",
       "      <th rowspan=\"11\" valign=\"top\">ug</th>\n",
       "      <th rowspan=\"11\" valign=\"top\">n</th>\n",
       "      <th rowspan=\"5\" valign=\"top\">202108</th>\n",
       "      <th rowspan=\"5\" valign=\"top\">202108</th>\n",
       "      <th rowspan=\"5\" valign=\"top\">fa15</th>\n",
       "      <th rowspan=\"5\" valign=\"top\">36d5</th>\n",
       "      <th rowspan=\"5\" valign=\"top\">c244</th>\n",
       "      <th>0</th>\n",
       "      <td>39.527859</td>\n",
       "      <td>20.11523</td>\n",
       "      <td>19.412628</td>\n",
       "      <td>1831</td>\n",
       "      <td>1574</td>\n",
       "      <td>-257</td>\n",
       "      <td>-14.036046</td>\n",
       "      <td>3274.775532</td>\n",
       "    </tr>\n",
       "    <tr>\n",
       "      <th>1</th>\n",
       "      <td>36.986022</td>\n",
       "      <td>20.09026</td>\n",
       "      <td>16.895762</td>\n",
       "      <td>1831</td>\n",
       "      <td>1661</td>\n",
       "      <td>-170</td>\n",
       "      <td>-9.284544</td>\n",
       "      <td>3325.102676</td>\n",
       "    </tr>\n",
       "    <tr>\n",
       "      <th>2</th>\n",
       "      <td>35.394069</td>\n",
       "      <td>19.989519</td>\n",
       "      <td>15.404549</td>\n",
       "      <td>1831</td>\n",
       "      <td>1642</td>\n",
       "      <td>-189</td>\n",
       "      <td>-10.322228</td>\n",
       "      <td>3300.524304</td>\n",
       "    </tr>\n",
       "    <tr>\n",
       "      <th>3</th>\n",
       "      <td>34.792033</td>\n",
       "      <td>20.342492</td>\n",
       "      <td>14.449541</td>\n",
       "      <td>1831</td>\n",
       "      <td>1657</td>\n",
       "      <td>-174</td>\n",
       "      <td>-9.503004</td>\n",
       "      <td>3227.959585</td>\n",
       "    </tr>\n",
       "    <tr>\n",
       "      <th>4</th>\n",
       "      <td>40.327737</td>\n",
       "      <td>20.760612</td>\n",
       "      <td>19.567125</td>\n",
       "      <td>1831</td>\n",
       "      <td>1588</td>\n",
       "      <td>-243</td>\n",
       "      <td>-13.271436</td>\n",
       "      <td>3313.398689</td>\n",
       "    </tr>\n",
       "    <tr>\n",
       "      <th>...</th>\n",
       "      <th>...</th>\n",
       "      <th>...</th>\n",
       "      <th>...</th>\n",
       "      <th>...</th>\n",
       "      <th>...</th>\n",
       "      <td>...</td>\n",
       "      <td>...</td>\n",
       "      <td>...</td>\n",
       "      <td>...</td>\n",
       "      <td>...</td>\n",
       "      <td>...</td>\n",
       "      <td>...</td>\n",
       "      <td>...</td>\n",
       "    </tr>\n",
       "    <tr>\n",
       "      <th rowspan=\"5\" valign=\"top\">202308</th>\n",
       "      <th rowspan=\"5\" valign=\"top\">202308</th>\n",
       "      <th rowspan=\"5\" valign=\"top\">fa15</th>\n",
       "      <th rowspan=\"5\" valign=\"top\">36d5</th>\n",
       "      <th rowspan=\"5\" valign=\"top\">1d1f</th>\n",
       "      <th>25</th>\n",
       "      <td>19.996737</td>\n",
       "      <td>10.298017</td>\n",
       "      <td>9.698721</td>\n",
       "      <td>2460</td>\n",
       "      <td>2386</td>\n",
       "      <td>-74</td>\n",
       "      <td>-3.00813</td>\n",
       "      <td>2479.390244</td>\n",
       "    </tr>\n",
       "    <tr>\n",
       "      <th>26</th>\n",
       "      <td>19.561244</td>\n",
       "      <td>10.402366</td>\n",
       "      <td>9.158879</td>\n",
       "      <td>2460</td>\n",
       "      <td>2355</td>\n",
       "      <td>-105</td>\n",
       "      <td>-4.268293</td>\n",
       "      <td>2244.512195</td>\n",
       "    </tr>\n",
       "    <tr>\n",
       "      <th>27</th>\n",
       "      <td>19.833078</td>\n",
       "      <td>10.238372</td>\n",
       "      <td>9.594706</td>\n",
       "      <td>2460</td>\n",
       "      <td>2376</td>\n",
       "      <td>-84</td>\n",
       "      <td>-3.414634</td>\n",
       "      <td>2760.365854</td>\n",
       "    </tr>\n",
       "    <tr>\n",
       "      <th>28</th>\n",
       "      <td>20.420894</td>\n",
       "      <td>10.317374</td>\n",
       "      <td>10.10352</td>\n",
       "      <td>2460</td>\n",
       "      <td>2370</td>\n",
       "      <td>-90</td>\n",
       "      <td>-3.658537</td>\n",
       "      <td>2895.365854</td>\n",
       "    </tr>\n",
       "    <tr>\n",
       "      <th>29</th>\n",
       "      <td>19.934021</td>\n",
       "      <td>10.343281</td>\n",
       "      <td>9.59074</td>\n",
       "      <td>2460</td>\n",
       "      <td>2378</td>\n",
       "      <td>-82</td>\n",
       "      <td>-3.333333</td>\n",
       "      <td>2563.902439</td>\n",
       "    </tr>\n",
       "  </tbody>\n",
       "</table>\n",
       "<p>540 rows × 8 columns</p>\n",
       "</div>"
      ],
      "text/plain": [
       "                                                                                   overall_score  \\\n",
       "crse_code levl_code styp_code pred_code train_code trf_hash imp_hash clf_hash sim                  \n",
       "_allcrse  ug        n         202108    202108     fa15     36d5     c244     0        39.527859   \n",
       "                                                                              1        36.986022   \n",
       "                                                                              2        35.394069   \n",
       "                                                                              3        34.792033   \n",
       "                                                                              4        40.327737   \n",
       "...                                                                                          ...   \n",
       "                              202308    202308     fa15     36d5     1d1f     25       19.996737   \n",
       "                                                                              26       19.561244   \n",
       "                                                                              27       19.833078   \n",
       "                                                                              28       20.420894   \n",
       "                                                                              29       19.934021   \n",
       "\n",
       "                                                                                   train_score  \\\n",
       "crse_code levl_code styp_code pred_code train_code trf_hash imp_hash clf_hash sim                \n",
       "_allcrse  ug        n         202108    202108     fa15     36d5     c244     0       20.11523   \n",
       "                                                                              1       20.09026   \n",
       "                                                                              2      19.989519   \n",
       "                                                                              3      20.342492   \n",
       "                                                                              4      20.760612   \n",
       "...                                                                                        ...   \n",
       "                              202308    202308     fa15     36d5     1d1f     25     10.298017   \n",
       "                                                                              26     10.402366   \n",
       "                                                                              27     10.238372   \n",
       "                                                                              28     10.317374   \n",
       "                                                                              29     10.343281   \n",
       "\n",
       "                                                                                   test_score  \\\n",
       "crse_code levl_code styp_code pred_code train_code trf_hash imp_hash clf_hash sim               \n",
       "_allcrse  ug        n         202108    202108     fa15     36d5     c244     0     19.412628   \n",
       "                                                                              1     16.895762   \n",
       "                                                                              2     15.404549   \n",
       "                                                                              3     14.449541   \n",
       "                                                                              4     19.567125   \n",
       "...                                                                                       ...   \n",
       "                              202308    202308     fa15     36d5     1d1f     25     9.698721   \n",
       "                                                                              26     9.158879   \n",
       "                                                                              27     9.594706   \n",
       "                                                                              28     10.10352   \n",
       "                                                                              29      9.59074   \n",
       "\n",
       "                                                                                   actual  \\\n",
       "crse_code levl_code styp_code pred_code train_code trf_hash imp_hash clf_hash sim           \n",
       "_allcrse  ug        n         202108    202108     fa15     36d5     c244     0      1831   \n",
       "                                                                              1      1831   \n",
       "                                                                              2      1831   \n",
       "                                                                              3      1831   \n",
       "                                                                              4      1831   \n",
       "...                                                                                   ...   \n",
       "                              202308    202308     fa15     36d5     1d1f     25     2460   \n",
       "                                                                              26     2460   \n",
       "                                                                              27     2460   \n",
       "                                                                              28     2460   \n",
       "                                                                              29     2460   \n",
       "\n",
       "                                                                                   predicted  \\\n",
       "crse_code levl_code styp_code pred_code train_code trf_hash imp_hash clf_hash sim              \n",
       "_allcrse  ug        n         202108    202108     fa15     36d5     c244     0         1574   \n",
       "                                                                              1         1661   \n",
       "                                                                              2         1642   \n",
       "                                                                              3         1657   \n",
       "                                                                              4         1588   \n",
       "...                                                                                      ...   \n",
       "                              202308    202308     fa15     36d5     1d1f     25        2386   \n",
       "                                                                              26        2355   \n",
       "                                                                              27        2376   \n",
       "                                                                              28        2370   \n",
       "                                                                              29        2378   \n",
       "\n",
       "                                                                                   error  \\\n",
       "crse_code levl_code styp_code pred_code train_code trf_hash imp_hash clf_hash sim          \n",
       "_allcrse  ug        n         202108    202108     fa15     36d5     c244     0     -257   \n",
       "                                                                              1     -170   \n",
       "                                                                              2     -189   \n",
       "                                                                              3     -174   \n",
       "                                                                              4     -243   \n",
       "...                                                                                  ...   \n",
       "                              202308    202308     fa15     36d5     1d1f     25     -74   \n",
       "                                                                              26    -105   \n",
       "                                                                              27     -84   \n",
       "                                                                              28     -90   \n",
       "                                                                              29     -82   \n",
       "\n",
       "                                                                                   error_pct  \\\n",
       "crse_code levl_code styp_code pred_code train_code trf_hash imp_hash clf_hash sim              \n",
       "_allcrse  ug        n         202108    202108     fa15     36d5     c244     0   -14.036046   \n",
       "                                                                              1    -9.284544   \n",
       "                                                                              2   -10.322228   \n",
       "                                                                              3    -9.503004   \n",
       "                                                                              4   -13.271436   \n",
       "...                                                                                      ...   \n",
       "                              202308    202308     fa15     36d5     1d1f     25    -3.00813   \n",
       "                                                                              26   -4.268293   \n",
       "                                                                              27   -3.414634   \n",
       "                                                                              28   -3.658537   \n",
       "                                                                              29   -3.333333   \n",
       "\n",
       "                                                                                   202408_projection  \n",
       "crse_code levl_code styp_code pred_code train_code trf_hash imp_hash clf_hash sim                     \n",
       "_allcrse  ug        n         202108    202108     fa15     36d5     c244     0          3274.775532  \n",
       "                                                                              1          3325.102676  \n",
       "                                                                              2          3300.524304  \n",
       "                                                                              3          3227.959585  \n",
       "                                                                              4          3313.398689  \n",
       "...                                                                                              ...  \n",
       "                              202308    202308     fa15     36d5     1d1f     25         2479.390244  \n",
       "                                                                              26         2244.512195  \n",
       "                                                                              27         2760.365854  \n",
       "                                                                              28         2895.365854  \n",
       "                                                                              29         2563.902439  \n",
       "\n",
       "[540 rows x 8 columns]"
      ]
     },
     "execution_count": 3,
     "metadata": {},
     "output_type": "execute_result"
    }
   ],
   "source": [
    "S"
   ]
  },
  {
   "cell_type": "code",
   "execution_count": null,
   "metadata": {},
   "outputs": [],
   "source": [
    "S"
   ]
  },
  {
   "cell_type": "code",
   "execution_count": null,
   "metadata": {},
   "outputs": [],
   "source": [
    "self.get('mlt')"
   ]
  },
  {
   "cell_type": "code",
   "execution_count": null,
   "metadata": {},
   "outputs": [],
   "source": [
    "from LiveAMP import *\n",
    "proj_code = 202408\n",
    "path = {'styp_code': 'n', 'crse_code': '_allcrse'}\n",
    "mlt = read('/home/scook/institutional_data_analytics/admitted_matriculation_projection/resources/rslt/150/False/mlt.pkl')\n",
    "M = mlt.query(f\"styp_code==@path['styp_code'] & crse_code==@path['crse_code']\").rsindex('pred_code').squeeze().rename(f'{proj_code}_projection')\n",
    "A = pathlib.Path('/home/scook/institutional_data_analytics/admitted_matriculation_projection/resources/rslt/150/False/Y_pred/'+join(path.values(),'/'))\n",
    "for B in sorted(A.iterdir()):\n",
    "    path['train_code'] = B.stem\n",
    "    for C in sorted(B.iterdir()):\n",
    "        path['trf_hash'] = C.stem\n",
    "        for D in sorted(C.iterdir()):\n",
    "            path['imp_hash'] = D.stem\n",
    "            for E in sorted(D.iterdir()):\n",
    "                path['clf_hash'] = E.stem\n",
    "                dct = read(E)\n",
    "                for path['sim'], (Y, ts) in enumerate(zip(dct['Y_pred'], dct['train_score'])):\n",
    "                    print(path)\n",
    "                    # A = Y.groupby('pred_code')\n",
    "                    A = Y.addlevel('imp_hash', path['imp_hash']).addlevel('sim', path['sim'])\n",
    "                    S = A.groupby([*path.keys(),'pred_code']).apply(lambda y: pd.Series({\n",
    "                        'train_score': ts,\n",
    "                        'test_score': (1 - f1_score(y['actual'], y['predicted'])) * 100,\n",
    "                        'actual': y['actual'].sum(),\n",
    "                        'predicted': y['predicted'].sum(),\n",
    "                        })).prep()\n",
    "                    S.insert(0, 'overall_score', S['train_score'] + S['test_score'])\n",
    "                    S['error'] = S['predicted'] - S['actual']\n",
    "                    S['error_pct'] = S['error'] / S['actual'] * 100\n",
    "                    proj_mask = S.eval(\"pred_code==@proj_code\")\n",
    "                    S.loc[proj_mask, [c for c in S.columns if 'score' in c or 'error' in c]] = pd.NA\n",
    "                    S = S.join(M*S.loc[proj_mask, 'predicted'].squeeze())\n",
    "                    S.disp(10)\n",
    "                    assert 1==2\n",
    "                    S\n",
    "\n"
   ]
  },
  {
   "cell_type": "code",
   "execution_count": null,
   "metadata": {},
   "outputs": [],
   "source": [
    "(5127-2731)/2731"
   ]
  },
  {
   "cell_type": "code",
   "execution_count": null,
   "metadata": {},
   "outputs": [],
   "source": [
    "dct = dict()\n",
    "lst = [1,2]\n",
    "for dct['a'] in lst:\n",
    "    print('hi')\n",
    "dct\n"
   ]
  },
  {
   "cell_type": "code",
   "execution_count": null,
   "metadata": {},
   "outputs": [],
   "source": [
    "A = read('/home/scook/institutional_data_analytics/admitted_matriculation_projection/resources/rslt/150/False/Z_proc/n/all/all/fa15/9f20/all.pkl')\n",
    "targ = '_allcrse'\n",
    "clf_par = {\n",
    "    'ensemble':True,\n",
    "    'estimator_list':['lgbm','xgboost','rf','extra_tree','histgb'],\n",
    "    'metric':'f1',\n",
    "    'seed':42,\n",
    "    'split_type':'stratified',\n",
    "    'task':'classification',\n",
    "    'time_budget': 60*10,\n",
    "    'early_stop': True,\n",
    "    'eval_method': 'cv',\n",
    "    'n_splits': 5,\n",
    "    'verbose':0}\n",
    "cols = uniquify([*A['Z_proc'][0].filter(like='__').columns, '_allcrse_cur', targ+'_cur', targ])\n",
    "Z = A['Z_proc'][0].filter(cols).copy()\n",
    "trn_mask = Z.eval(f\"pred_code==202308\")\n",
    "clf = fl.AutoML(**clf_par)\n",
    "clf.fit(Z[trn_mask].drop(columns=targ), Z[trn_mask][targ], **clf_par, log_file_name=self.root_path / 'log.txt')\n",
    "# plt.barh(clf.model.estimator.feature_name_, clf.model.estimator.feature_importances_)\n",
    "# plt.show()\n",
    "time_history, best_valid_loss_history, valid_loss_history, config_history, metric_history = fl.automl.data.get_output_from_log(filename=self.root_path / \"log.txt\", time_budget=120)\n",
    "plt.title(\"Learning Curve\")\n",
    "plt.xlabel(\"Wall Clock Time (s)\")\n",
    "plt.ylabel(\"Validation Accuracy\")\n",
    "plt.step(time_history, 1 - np.array(best_valid_loss_history), where=\"post\")\n",
    "plt.show()"
   ]
  },
  {
   "cell_type": "code",
   "execution_count": null,
   "metadata": {},
   "outputs": [],
   "source": [
    "time_history, best_valid_loss_history, valid_loss_history, config_history, metric_history = fl.automl.data.get_output_from_log(filename=self.root_path / \"log.txt\", time_budget=np.inf)\n",
    "plt.title(\"Learning Curve\")\n",
    "plt.xlabel(\"Wall Clock Time (s)\")\n",
    "plt.ylabel(\"Validation Accuracy\")\n",
    "plt.step(time_history, 1 - np.array(best_valid_loss_history), where=\"post\")\n",
    "plt.show()"
   ]
  },
  {
   "cell_type": "code",
   "execution_count": null,
   "metadata": {},
   "outputs": [],
   "source": [
    "from LiveAMP import *\n",
    "A = read('/home/scook/institutional_data_analytics/admitted_matriculation_projection/resources/rslt/150/False/Z_proc/n/all/all/fa15/9f20/all.pkl')\n",
    "targ = '_allcrse'\n",
    "cols = uniquify([*A['Z_proc'][0].filter(like='__').columns, '_allcrse_cur', targ+'_cur', targ])\n",
    "Z = A['Z_proc'][0].filter(cols).copy()\n",
    "trn_mask = Z.eval(f\"pred_code==202308\")\n",
    "\n",
    "dt = 30\n",
    "clf_par = {\n",
    "    'ensemble':True,\n",
    "    'estimator_list':[\n",
    "        'lgbm',\n",
    "        'xgboost',\n",
    "        # 'rf',\n",
    "        # 'extra_tree',\n",
    "        # 'histgb',\n",
    "        ],\n",
    "    'metric':'f1',\n",
    "    'seed':42,\n",
    "    'split_type':'stratified',\n",
    "    'task':'classification',\n",
    "    'time_budget': 120,\n",
    "    # 'time_budget': dt,\n",
    "    'early_stop': True,\n",
    "    'eval_method': 'cv',\n",
    "    'n_splits': 5,\n",
    "    'verbose': 0,\n",
    "    'log_file_name': '/home/scook/institutional_data_analytics/admitted_matriculation_projection/admitted_matriculation_predictor/log.txt',\n",
    "    'log_type': 'all',\n",
    "    'X_train': Z[trn_mask].drop(columns=targ),\n",
    "    'y_train': Z[trn_mask][targ],\n",
    "    }\n",
    "\n",
    "def plot():\n",
    "    time_history, best_valid_loss_history, valid_loss_history, config_history, metric_history = fl.automl.data.get_output_from_log(filename=clf_par['log_file_name'], time_budget=np.inf)\n",
    "    plt.title(\"Learning Curve\")\n",
    "    plt.xlabel(\"Wall Clock Time (s)\")\n",
    "    plt.ylabel(\"Validation Accuracy\")\n",
    "    plt.step(time_history, 1 - np.array(best_valid_loss_history), where=\"post\")\n",
    "    plt.show()\n",
    "\n",
    "clf = fl.AutoML(**clf_par)\n",
    "clf.fit(**clf_par)\n",
    "plot()\n",
    "# for k in range(100):\n",
    "#     clf_par['time_budget'] += dt\n",
    "#     clf.retrain_from_log(**{k: clf_par[k] for k in {'log_file_name','X_train','y_train'}})\n",
    "#     clf.fit(**clf_par)\n",
    "#     plot()"
   ]
  },
  {
   "cell_type": "code",
   "execution_count": null,
   "metadata": {},
   "outputs": [],
   "source": [
    "Y = (\n",
    "    Z[targ].rename('actual').to_frame()\n",
    "    .assign(predicted=clf.predict(Z.drop(columns=targ)))\n",
    "    .assign(proba=clf.predict_proba(Z.drop(columns=targ))[:,1])\n",
    ")\n",
    "Y"
   ]
  },
  {
   "cell_type": "code",
   "execution_count": null,
   "metadata": {},
   "outputs": [],
   "source": [
    "clf.predict(Z)"
   ]
  },
  {
   "cell_type": "code",
   "execution_count": null,
   "metadata": {},
   "outputs": [],
   "source": [
    "clf.predict(Z.drop(columns=targ))"
   ]
  },
  {
   "cell_type": "code",
   "execution_count": null,
   "metadata": {},
   "outputs": [],
   "source": [
    "Y = (\n",
    "    Z[targ].rename('actual').to_frame()\n",
    "    .assign(predicted=clf.predict(Z.drop(columns=targ)))\n",
    "    .assign(proba=clf.predict_proba(Z.drop(columns=targ))[:,1])\n",
    ")\n"
   ]
  },
  {
   "cell_type": "code",
   "execution_count": null,
   "metadata": {},
   "outputs": [],
   "source": [
    "q = fl.AutoML()\n",
    "q.fit?"
   ]
  },
  {
   "cell_type": "code",
   "execution_count": null,
   "metadata": {},
   "outputs": [],
   "source": [
    "clf.retrain_from_log?"
   ]
  },
  {
   "cell_type": "code",
   "execution_count": null,
   "metadata": {},
   "outputs": [],
   "source": [
    "clf.retrain_from_log"
   ]
  },
  {
   "cell_type": "code",
   "execution_count": null,
   "metadata": {},
   "outputs": [],
   "source": [
    "vars(clf)"
   ]
  },
  {
   "cell_type": "code",
   "execution_count": null,
   "metadata": {},
   "outputs": [],
   "source": [
    "plt.barh(clf.model.estimator.feature_name_, clf.model.estimator.feature_importances_)"
   ]
  },
  {
   "cell_type": "code",
   "execution_count": null,
   "metadata": {},
   "outputs": [],
   "source": [
    "from flaml.automl.data import get_output_from_log\n",
    "\n",
    "import matplotlib.pyplot as plt\n",
    "import numpy as np\n",
    "\n",
    "time_history, best_valid_loss_history, valid_loss_history, config_history, metric_history = fl.automl.data.get_output_from_log(filename=self.root_path / \"log.txt\", time_budget=120)\n",
    "plt.title(\"Learning Curve\")\n",
    "plt.xlabel(\"Wall Clock Time (s)\")\n",
    "plt.ylabel(\"Validation Accuracy\")\n",
    "plt.step(time_history, 1 - np.array(best_valid_loss_history), where=\"post\")\n",
    "plt.show()"
   ]
  },
  {
   "cell_type": "code",
   "execution_count": null,
   "metadata": {},
   "outputs": [],
   "source": [
    "path = {'nm': 'Z_proc', 'styp_code': 'n', 'crse_code': '_allcrse', 'train_code': 202308, 'trf_hash': '8dec', 'imp_hash': '2438', 'clf_hash': '0213'}\n",
    "dct = deepcopy(self.get(path | {'nm':'Z_proc', 'crse_code':'all', 'train_code':'all', 'clf_hash':'all'})) | {'Y_pred':[], 'train_score': []}\n",
    "targ = path['crse_code']\n",
    "# df = dct['Z_proc']\n",
    "clf_par = self.clf_dict[path['clf_hash']]\n",
    "clf_par['seed'] = self.random_state\n",
    "\n",
    "clf_par['time_budget'] = 2\n",
    "clf_par['estimator_list'] = ['lgbm', 'xgboost', 'xgb_limitdepth', 'rf', 'extra_tree']\n",
    "\n",
    "# for imp, Z in enumerate(df):\n",
    "# Z = df[0]\n",
    "for Z in deepcopy(dct['Z_proc']):\n",
    "    cols = uniquify([*Z.filter(like='__').columns, '_allcrse_cur', targ+'_cur', targ])\n",
    "    Z = Z.filter(cols).copy().addlevel('crse_code', targ).addlevel('train_code', path['train_code']).addlevel('clf_hash', path['clf_hash']).prep().prep_category()\n",
    "    trn_mask = Z.eval(f\"pred_code==@path['train_code']\")\n",
    "    clf = fl.AutoML(**clf_par)\n",
    "    # with warnings.catch_warnings(action='ignore'):\n",
    "    clf.fit(X_train=Z[trn_mask].drop(columns=targ), y_train=Z[trn_mask][targ], **clf_par)\n",
    "    print('done')\n",
    "        #  eval_method='cv', n_splits=self.n_splits, **clf_par)"
   ]
  },
  {
   "cell_type": "code",
   "execution_count": null,
   "metadata": {},
   "outputs": [],
   "source": [
    "{'nm': 'Z_proc', 'styp_code': 'n', 'crse_code': '_allcrse', 'train_code': 202308, 'trf_hash': '8dec', 'imp_hash': '2438', 'clf_hash': '0213'}: {'nm': 'Y_pred', 'styp_code': 'n', 'crse_code': '_allcrse', 'train_code': 202308, 'trf_hash': '8dec', 'imp_hash': '2438', 'clf_hash': '0213'}\n",
    "path = dct['path'] |{'clf_hash': '5023', 'crse_code':'_allcrse', 'train_code':202308}\n",
    "targ = path['crse_code']\n",
    "clf_par = self.clf_dict[path['clf_hash']]\n",
    "clf_par['seed'] = self.random_state\n",
    "clf_par['time_budget'] = 2\n",
    "clf_par['ensemble'] = {\"final_estimator\": LogisticRegression()}\n",
    "print(clf_par)\n",
    "Z = dct['Z_proc'][0]\n",
    "cols = uniquify([*Z.filter(like='__').columns, '_allcrse_cur', targ+'_cur', targ])\n",
    "Z = Z.filter(cols).copy().addlevel('crse_code', targ).addlevel('train_code', path['train_code']).addlevel('clf_hash', path['clf_hash']).prep().prep_category()\n",
    "trn_mask = Z.eval(f\"pred_code==@path['train_code']\")\n",
    "clf = fl.AutoML(**clf_par)\n",
    "with warnings.catch_warnings(action='ignore'):\n",
    "    clf.fit(Z[trn_mask].drop(columns=targ), Z[trn_mask][targ], eval_method='cv', n_splits=self.n_splits, **clf_par)\n",
    "\n",
    "# Z"
   ]
  },
  {
   "cell_type": "code",
   "execution_count": null,
   "metadata": {},
   "outputs": [],
   "source": [
    "fl.AutoML?"
   ]
  },
  {
   "cell_type": "code",
   "execution_count": null,
   "metadata": {},
   "outputs": [],
   "source": [
    "X.groupby(['pred_code'])['__fafsa_app'].mean()"
   ]
  },
  {
   "cell_type": "code",
   "execution_count": null,
   "metadata": {},
   "outputs": [],
   "source": [
    "self.trf_dict"
   ]
  },
  {
   "cell_type": "code",
   "execution_count": null,
   "metadata": {},
   "outputs": [],
   "source": [
    "dct['holdout_score']"
   ]
  },
  {
   "cell_type": "code",
   "execution_count": null,
   "metadata": {},
   "outputs": [],
   "source": [
    "hasher = lambda t: hashlib.shake_128(str(t).encode()).hexdigest(2)\n",
    "for nm in ['trf','imp','clf']:\n",
    "    print(nm)\n",
    "    self[nm+'_list'] = cartesian({k: uniquify(v, key=str) for k,v in self[nm+'_grid'].items()})\n",
    "    print(len(self[nm+'_list']))\n",
    "    if nm == 'trf':\n",
    "        self[nm+'_list'] = [ColumnTransformer([(c,t,[\"__\"+c]) for c,t in trf.items() if t not in ['drop',None,'']], remainder='drop', verbose_feature_names_out=False) for trf in self[nm+'_list']]\n",
    "        self[nm+'_dict'] = {hasher(t.transformers): t for t in self[nm+'_list']}\n",
    "    else:\n",
    "        self[nm+'_dict'] = {hasher(t): t for t in self[nm+'_list']}\n",
    "    print(len(self[nm+'_dict']))\n"
   ]
  },
  {
   "cell_type": "code",
   "execution_count": null,
   "metadata": {},
   "outputs": [],
   "source": [
    "\n",
    "hashlib.shake_128(str(x.transformers).encode()).hexdigest(2)"
   ]
  },
  {
   "cell_type": "code",
   "execution_count": null,
   "metadata": {},
   "outputs": [],
   "source": [
    "for x in self['trf_list']:\n",
    "    print(str(x).replace('\\n','').replace(' ',''))"
   ]
  },
  {
   "cell_type": "code",
   "execution_count": null,
   "metadata": {},
   "outputs": [],
   "source": []
  },
  {
   "cell_type": "code",
   "execution_count": null,
   "metadata": {},
   "outputs": [],
   "source": [
    "fn = '/home/scook/institutional_data_analytics/admitted_matriculation_projection/resources/rslt/151/False/Y_pred/n/math1314/202308/53c7/c519/5742.pkl'\n",
    "# fn = '/home/scook/institutional_data_analytics/admitted_matriculation_projection/resources/rslt/151/False/Y_pred/n/math1314/202308/5afa/c519/5742.pkl'\n",
    "# fn = '/home/scook/institutional_data_analytics/admitted_matriculation_projection/resources/rslt/151/False/Y_pred/n/math1314/202308/b051/c519/5742.pkl'\n",
    "# fn = '/home/scook/institutional_data_analytics/admitted_matriculation_projection/resources/rslt/151/False/Y_pred/n/math1314/202308/b314/c519/5742.pkl'\n",
    "fn = '/home/scook/institutional_data_analytics/admitted_matriculation_projection/resources/rslt/151/False/Y_pred/n/math1314/202308/e69c/c519/5742.pkl'\n",
    "fn = '/home/scook/institutional_data_analytics/admitted_matriculation_projection/resources/rslt/151/False/Y_pred/n/math1314/202308/e858/c519/5742.pkl'\n",
    "fn = '/home/scook/institutional_data_analytics/admitted_matriculation_projection/resources/rslt/151/False/Y_pred/n/math1314/202308/ed94/c519/5742.pkl'\n",
    "A = read(fn)\n",
    "A.keys()\n",
    "len(A['train_score'])"
   ]
  },
  {
   "cell_type": "code",
   "execution_count": null,
   "metadata": {},
   "outputs": [],
   "source": [
    "1+1"
   ]
  },
  {
   "cell_type": "code",
   "execution_count": null,
   "metadata": {},
   "outputs": [],
   "source": [
    "for k,v in self.trf_dict.items():\n",
    "    print(k)\n",
    "    print(str(v).replace('\\n','').replace(' ',''))"
   ]
  },
  {
   "cell_type": "code",
   "execution_count": null,
   "metadata": {},
   "outputs": [],
   "source": [
    "A = self.optimal['n']['_allcrse'][202308]\n",
    "a = min(A, key=lambda x: x['score']['agg'])\n",
    "a.keys()\n",
    "\n",
    "# [0].keys()"
   ]
  },
  {
   "cell_type": "code",
   "execution_count": null,
   "metadata": {},
   "outputs": [],
   "source": [
    "for path in cartesian({'nm': '', 'styp_code': self.styp_codes, 'crse_code': self.crse_codes, 'train_code': self.train_codes}, sort=False):\n",
    "    s = self.get(path | {'nm': 'summary'})\n",
    "s['53c7']['3d79']['5742'].keys()"
   ]
  },
  {
   "cell_type": "code",
   "execution_count": null,
   "metadata": {},
   "outputs": [],
   "source": [
    "cartesian({'styp_code': self.styp_codes, 'crse_code': self.crse_codes, 'train_code': self.train_codes, 'trf_hash': self.trf_dict.keys(), 'imp_hash': self.imp_dict.keys(), 'clf_hash': self.clf_dict.keys()})\n"
   ]
  },
  {
   "cell_type": "code",
   "execution_count": null,
   "metadata": {},
   "outputs": [],
   "source": [
    "self.terms[202108]['cur'].get('raw')"
   ]
  },
  {
   "cell_type": "code",
   "execution_count": null,
   "metadata": {},
   "outputs": [],
   "source": [
    "self.get('reg_df')"
   ]
  },
  {
   "cell_type": "code",
   "execution_count": null,
   "metadata": {},
   "outputs": [],
   "source": [
    "self.terms"
   ]
  },
  {
   "cell_type": "code",
   "execution_count": null,
   "metadata": {},
   "outputs": [],
   "source": [
    "cartesian({'pred_code': self.pred_codes})"
   ]
  },
  {
   "cell_type": "code",
   "execution_count": null,
   "metadata": {},
   "outputs": [],
   "source": [
    "import codetiming\n",
    "x = 'hi'\n",
    "with codetiming.Timer(text=x+\"Elapsed time: {:0.4f} seconds\"):\n",
    "    for i in range(100000):\n",
    "        pass"
   ]
  },
  {
   "cell_type": "code",
   "execution_count": null,
   "metadata": {},
   "outputs": [],
   "source": [
    "from LiveAMP import *\n",
    "\n",
    "# FLAGS().run()\n",
    "self = AMP(**kwargs)\n",
    "self.get('raw_df')\n",
    "self.get('reg_df')\n",
    "self.get('X')\n",
    "self.get('Y')\n",
    "self.get('mlt')\n",
    "for styp_code in self.styp_codes:\n",
    "    for crse_code in self.crse_codes:\n",
    "        for train_code in self.train_codes:\n",
    "            for trf_hash in self.trf_dict.keys():\n",
    "                for imp_hash in self.imp_dict.keys():\n",
    "                    for clf_hash in self.clf_dict.keys():\n",
    "                        path = {'nm':'summary', 'styp_code': styp_code, 'crse_code':crse_code, 'train_code':train_code, 'trf_hash':trf_hash, 'imp_hash':imp_hash, 'clf_hash':clf_hash}\n",
    "                        print(path)\n",
    "                        dct = self.get(path)"
   ]
  },
  {
   "cell_type": "code",
   "execution_count": null,
   "metadata": {},
   "outputs": [],
   "source": [
    "dct['rslt'].describe().T"
   ]
  },
  {
   "cell_type": "code",
   "execution_count": null,
   "metadata": {},
   "outputs": [],
   "source": [
    "clf['Y_pred'][0]\n",
    "clf.keys()\n",
    "clf['2024_projection_202108']\n",
    "clf.keys()\n",
    "pd.DataFrame({k:v for k,v in clf.items() if 'score' in k or 'projection' in k})\n",
    "# for k in filter(lambda k,v: 'score' in k, clf.items()):\n",
    "#     print(k)"
   ]
  },
  {
   "cell_type": "code",
   "execution_count": null,
   "metadata": {},
   "outputs": [],
   "source": [
    "def f(dct):\n",
    "    dct.pop('a')\n",
    "\n",
    "class A():\n",
    "    def __init__(self):\n",
    "        dct = {'a':3}\n",
    "        f(dct)\n",
    "        print(dct)\n",
    "A()"
   ]
  },
  {
   "cell_type": "code",
   "execution_count": null,
   "metadata": {},
   "outputs": [],
   "source": [
    "M = self.get('mlt').query(f\"styp_code=='n' & crse_code=='_allcrse'\").rsindex('pred_code').squeeze()\n",
    "M\n",
    "{k:v for k,v in M.items()}\n"
   ]
  },
  {
   "cell_type": "code",
   "execution_count": null,
   "metadata": {},
   "outputs": [],
   "source": [
    "clf['rslt'].describe().T.disp(10)"
   ]
  },
  {
   "cell_type": "code",
   "execution_count": null,
   "metadata": {},
   "outputs": [],
   "source": [
    "self.get('X').dtypes.disp(100)"
   ]
  },
  {
   "cell_type": "code",
   "execution_count": null,
   "metadata": {},
   "outputs": [],
   "source": [
    "M = self.get('mlt').query(f\"styp_code==@path['styp_code'] & crse_code==@path['crse_code']\")\n",
    "A = (clf['Y_pred'].query('imp==0')['predicted'].sum() * M).reset_index()[['pred_code','mlt']]\n",
    "A.to_dict('records')\n",
    "# ('index')"
   ]
  },
  {
   "cell_type": "code",
   "execution_count": null,
   "metadata": {},
   "outputs": [],
   "source": [
    "M = self.get('mlt').query(f\"styp_code==@path['styp_code'] & crse_code==@path['crse_code']\")\n",
    "M\n",
    "# A = (clf['Y_pred'].query('imp==0')['predicted'].sum() * M).reset_index()[['pred_code','mlt']]\n",
    "# A = (clf['Y_pred'].query('imp==0')['predicted'].sum() * M).rindex('pred_code', bare=True).sindex('pred_code')#.values\n",
    "A = (clf['Y_pred'].query('imp==0')['predicted'].sum() * M).rsindex('pred_code').squeeze().to_dict()\n",
    "# {a['pred_code']: a['mlt'] for a in A}\n",
    "# A.to_dict('index')\n",
    "# # ('index')"
   ]
  },
  {
   "cell_type": "code",
   "execution_count": null,
   "metadata": {},
   "outputs": [],
   "source": [
    "self.get('mlt').reset_index().dtypes"
   ]
  },
  {
   "cell_type": "code",
   "execution_count": null,
   "metadata": {},
   "outputs": [],
   "source": [
    "clf['Y_pred'].prep().join(self.get('mlt').prep()).disp(4)"
   ]
  },
  {
   "cell_type": "code",
   "execution_count": null,
   "metadata": {},
   "outputs": [],
   "source": [
    "import seaborn as sns\n",
    "sns.kdeplot(clf['rslt']['projection21'])\n",
    "clf['rslt']['projection21'].describe()"
   ]
  },
  {
   "cell_type": "code",
   "execution_count": null,
   "metadata": {},
   "outputs": [],
   "source": [
    "self.mlt.disp(100)"
   ]
  },
  {
   "cell_type": "code",
   "execution_count": null,
   "metadata": {},
   "outputs": [],
   "source": [
    "clf['rslt']"
   ]
  },
  {
   "cell_type": "code",
   "execution_count": null,
   "metadata": {},
   "outputs": [],
   "source": [
    "1+1"
   ]
  },
  {
   "cell_type": "code",
   "execution_count": null,
   "metadata": {},
   "outputs": [],
   "source": [
    "imp.keys()\n",
    "# imp"
   ]
  },
  {
   "cell_type": "code",
   "execution_count": null,
   "metadata": {},
   "outputs": [],
   "source": [
    "path = {'nm':'test', 'sub':'test2'}\n",
    "L = listify(path)\n",
    "nm = L.pop(0)\n",
    "(self.root_path / join(L,'/')).with_suffix('.pkl')\n",
    "path"
   ]
  },
  {
   "cell_type": "code",
   "execution_count": null,
   "metadata": {},
   "outputs": [],
   "source": [
    "4200/10/20"
   ]
  },
  {
   "cell_type": "code",
   "execution_count": null,
   "metadata": {},
   "outputs": [],
   "source": [
    "X_imp.disp(1)"
   ]
  },
  {
   "cell_type": "code",
   "execution_count": null,
   "metadata": {},
   "outputs": [],
   "source": [
    "12800/9\n",
    "17.95*20*4\n",
    "21*20*52"
   ]
  },
  {
   "cell_type": "code",
   "execution_count": null,
   "metadata": {},
   "outputs": [],
   "source": [
    "str(trf).replace('\\n','').replace(' ','')"
   ]
  },
  {
   "cell_type": "code",
   "execution_count": null,
   "metadata": {},
   "outputs": [],
   "source": [
    "import hashlib\n",
    "self.trf_list = cartesian({k: uniquify(v, key=str) for k,v in self.trf_grid.items()})\n",
    "self.trf_list = [ColumnTransformer([(c,t,[\"__\"+c]) for c,t in trf.items() if t not in ['drop',None,'']], remainder='drop', verbose_feature_names_out=False) for trf in self.trf_list]\n",
    "self.trf_dict = {hashlib.md5(str(trf).encode()).hexdigest(): trf for trf in self.trf_list}\n",
    "self.trf_dict\n",
    "\n",
    "\n",
    "# self.trf_list = [uniquify({k:v for k,v in t.items() if v not in ['drop',None,'']}) for t in self.trf_list]\n",
    "# self.trf_list = [ColumnTransformer([(c,t,[\"__\"+c]) for c,t in trf.items()], remainder='drop', verbose_feature_names_out=False) for trf in self.trf_list]\n",
    "# self.trf_dict = {hashlib.md5(trf).encode()).hexdigest(): trf for trf in self.trf_list}\n",
    "# self.trf_dict\n",
    "# trf_par = self.trf_list[0]\n",
    "# trf = ColumnTransformer([(c,t,[\"__\"+c]) for c,t in trf_par.items()], remainder='drop', verbose_feature_names_out=False)\n",
    "# hashlib.md5(str(trf).encode()).hexdigest()\n",
    "# str(trf).replace('\\n','').replace(' ','')\n",
    "# self.trf_list = [uniquify({k:v for k,v in t.items() if v not in ['drop',None,'']}) for t in self.trf_list]\n",
    "\n",
    "# w = self.trf_list[0]\n",
    "# json.dumps(w)\n",
    "# w = [str({str(k):str(v) for k,v in t.items()}) for t in self.trf_list][0]\n",
    "# print(w)\n",
    "# print(hash(w))\n",
    "# self.trf_list = {hash(stringify(t)): t for t in self.trf_list}\n",
    "# self.trf_list\n",
    "# {hash(str(t)):1 for t in self.trf_list}\n",
    "# self.trf_list[0]\n",
    "# self.trf_list = [uniquify({k:v for k,v in t.items() if v not in ['drop',None,'']}) for t in self.trf_list]\n"
   ]
  },
  {
   "cell_type": "code",
   "execution_count": null,
   "metadata": {},
   "outputs": [],
   "source": [
    "# hash(stringify(self.trf_list[0]))\n",
    "# trf = StandardScaler()\n",
    "# hash(trf)\n",
    "hash(str(self.trf_list[0]))"
   ]
  },
  {
   "cell_type": "code",
   "execution_count": null,
   "metadata": {},
   "outputs": [],
   "source": [
    "self.trf_list"
   ]
  },
  {
   "cell_type": "code",
   "execution_count": null,
   "metadata": {},
   "outputs": [],
   "source": [
    "self.get('raw_df')\n",
    "self.get('reg_df')['cur']\n",
    "# self.get('X')\n",
    "# self.get('Y')\n",
    "# .set_index(['pidm','pred_code','crse_code'])"
   ]
  },
  {
   "cell_type": "code",
   "execution_count": null,
   "metadata": {},
   "outputs": [],
   "source": [
    "from flags import *\n",
    "\n",
    "@dataclasses.dataclass\n",
    "class TERM(MyBaseClass):\n",
    "    cycle_day: int = 0\n",
    "    term_code: int = 202308\n",
    "    root_path: str = root_path\n",
    "    show: set = dataclasses.field(default_factory=set)\n",
    "\n",
    "\n",
    "    def __post_init__(self):\n",
    "        self.dependence: dict = {'adm':'raw', 'flg':'raw', 'dst':'raw', 'raw':'term', 'reg':'term'}\n",
    "        super().__post_init__()\n",
    "    #     pass\n",
    "        # print(self.__dict__())\n",
    "TERM(overwrite={'adm'}).overwrite"
   ]
  },
  {
   "cell_type": "code",
   "execution_count": null,
   "metadata": {},
   "outputs": [],
   "source": [
    "dependence = {'adm':'raw', 'flg':'raw', 'dst':'raw', 'raw':'term', 'reg':'term'}\n",
    "l = 0\n",
    "overwrite = {'adm'}\n",
    "while l < len(overwrite):\n",
    "    l = len(overwrite)\n",
    "    overwrite |= {y for x in overwrite for y in setify(dependence[x] if x in dependence else {})}\n",
    "    # print(self.overwrite)\n",
    "overwrite"
   ]
  },
  {
   "cell_type": "code",
   "execution_count": null,
   "metadata": {},
   "outputs": [],
   "source": [
    "q = TERM(term_code=202408, overwrite={'adm'})\n",
    "q.overwrite"
   ]
  },
  {
   "cell_type": "code",
   "execution_count": null,
   "metadata": {},
   "outputs": [],
   "source": [
    "a = {'a'}\n",
    "a |= {'b'}\n",
    "a"
   ]
  },
  {
   "cell_type": "code",
   "execution_count": null,
   "metadata": {},
   "outputs": [],
   "source": [
    "dep = {\n",
    "    'a': {'b','c'},\n",
    "    'b': {'d','e'},\n",
    "}\n",
    "over = {'a'}\n",
    "l = 0\n",
    "while l < len(over):\n",
    "    l = len(over)\n",
    "    over |= {y for x in over for y in setify(dep[x] if x in dep else {})}\n",
    "    # if s == len(over):\n",
    "    #     break\n",
    "    # s = len(over)\n",
    "over"
   ]
  },
  {
   "cell_type": "code",
   "execution_count": null,
   "metadata": {},
   "outputs": [],
   "source": [
    "def g(L, D):\n",
    "    I = intersection(L, D.keys())\n",
    "    g()\n",
    "    {g(D[y]) for y in intersection(L, D.keys())}\n",
    "\n"
   ]
  },
  {
   "cell_type": "code",
   "execution_count": null,
   "metadata": {},
   "outputs": [],
   "source": [
    "a = pathlib.Path('/home/scook/institutional_data_analytics/admitted_matriculation_projection/admitted_matriculation_predictor/src/dst')\n",
    "a = pathlib.Path(a)"
   ]
  },
  {
   "cell_type": "code",
   "execution_count": null,
   "metadata": {},
   "outputs": [],
   "source": [
    "from setup import *\n",
    "fn = '/home/scook/institutional_data_analytics/admitted_matriculation_projection/admitted_matriculation_predictor/src/dst'\n",
    "dst = read(fn+'.parq')\n",
    "write(fn+'.pkl', dst)\n",
    "# fn.w\n",
    "# .with_suffix('.pkl')"
   ]
  }
 ],
 "metadata": {
  "kernelspec": {
   "display_name": "my3.11",
   "language": "python",
   "name": "python3"
  },
  "language_info": {
   "codemirror_mode": {
    "name": "ipython",
    "version": 3
   },
   "file_extension": ".py",
   "mimetype": "text/x-python",
   "name": "python",
   "nbconvert_exporter": "python",
   "pygments_lexer": "ipython3",
   "version": "3.11.8"
  }
 },
 "nbformat": 4,
 "nbformat_minor": 2
}
