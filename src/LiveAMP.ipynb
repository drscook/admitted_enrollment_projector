{
 "cells": [
  {
   "cell_type": "code",
   "execution_count": 1,
   "metadata": {},
   "outputs": [
    {
     "name": "stdout",
     "output_type": "stream",
     "text": [
      "creating Y/n/_allcrse/77d9/77d7/bb31.pkl: ...202108...202208...202308...202408Elapsed time: 12.5887 seconds\n",
      "creating result/n/_allcrse/77d9/77d7/bb31.pkl: "
     ]
    },
    {
     "data": {
      "text/html": [
       "<table border=\"1\" class=\"dataframe\">\n",
       "  <thead>\n",
       "    <tr style=\"text-align: right;\">\n",
       "      <th></th>\n",
       "      <th></th>\n",
       "      <th></th>\n",
       "      <th></th>\n",
       "      <th></th>\n",
       "      <th></th>\n",
       "      <th></th>\n",
       "      <th></th>\n",
       "      <th>202308_current</th>\n",
       "      <th>202408_current</th>\n",
       "      <th>202308_final</th>\n",
       "      <th>202408_predict</th>\n",
       "      <th>202408_change_pct</th>\n",
       "      <th>pred_code_final</th>\n",
       "      <th>pred_code_predict</th>\n",
       "      <th>pred_code_error</th>\n",
       "      <th>pred_code_error_pct</th>\n",
       "      <th>pred_code_mlt</th>\n",
       "      <th>train_score</th>\n",
       "      <th>test_score</th>\n",
       "      <th>overall_score</th>\n",
       "    </tr>\n",
       "    <tr>\n",
       "      <th>crse_code</th>\n",
       "      <th>levl_code</th>\n",
       "      <th>styp_code</th>\n",
       "      <th>train_code</th>\n",
       "      <th>pred_code</th>\n",
       "      <th>trf_hash</th>\n",
       "      <th>imp_hash</th>\n",
       "      <th>clf_hash</th>\n",
       "      <th></th>\n",
       "      <th></th>\n",
       "      <th></th>\n",
       "      <th></th>\n",
       "      <th></th>\n",
       "      <th></th>\n",
       "      <th></th>\n",
       "      <th></th>\n",
       "      <th></th>\n",
       "      <th></th>\n",
       "      <th></th>\n",
       "      <th></th>\n",
       "      <th></th>\n",
       "    </tr>\n",
       "  </thead>\n",
       "  <tbody>\n",
       "    <tr>\n",
       "      <th rowspan=\"12\" valign=\"top\">_allcrse</th>\n",
       "      <th rowspan=\"12\" valign=\"top\">ug</th>\n",
       "      <th rowspan=\"12\" valign=\"top\">n</th>\n",
       "      <th rowspan=\"3\" valign=\"top\">all</th>\n",
       "      <th>202308</th>\n",
       "      <th>77d9</th>\n",
       "      <th>77d7</th>\n",
       "      <th>bb31</th>\n",
       "      <td>1180</td>\n",
       "      <td>1486</td>\n",
       "      <td>2700</td>\n",
       "      <td>3071.147399</td>\n",
       "      <td>13.7462</td>\n",
       "      <td>2700</td>\n",
       "      <td>2732.762624</td>\n",
       "      <td>32.762624</td>\n",
       "      <td>1.213431</td>\n",
       "      <td>1.037663</td>\n",
       "      <td>17.383263</td>\n",
       "      <td>12.300671</td>\n",
       "      <td>14.841967</td>\n",
       "    </tr>\n",
       "    <tr>\n",
       "      <th>202208</th>\n",
       "      <th>77d9</th>\n",
       "      <th>77d7</th>\n",
       "      <th>bb31</th>\n",
       "      <td>1180</td>\n",
       "      <td>1486</td>\n",
       "      <td>2700</td>\n",
       "      <td>3106.898434</td>\n",
       "      <td>15.070312</td>\n",
       "      <td>2448</td>\n",
       "      <td>2378.92775</td>\n",
       "      <td>-69.07225</td>\n",
       "      <td>-2.821579</td>\n",
       "      <td>1.049743</td>\n",
       "      <td>17.383263</td>\n",
       "      <td>14.511225</td>\n",
       "      <td>15.947244</td>\n",
       "    </tr>\n",
       "    <tr>\n",
       "      <th>202108</th>\n",
       "      <th>77d9</th>\n",
       "      <th>77d7</th>\n",
       "      <th>bb31</th>\n",
       "      <td>1180</td>\n",
       "      <td>1486</td>\n",
       "      <td>2700</td>\n",
       "      <td>3141.539274</td>\n",
       "      <td>16.353306</td>\n",
       "      <td>2142</td>\n",
       "      <td>2169.187464</td>\n",
       "      <td>27.187464</td>\n",
       "      <td>1.269256</td>\n",
       "      <td>1.061447</td>\n",
       "      <td>17.383263</td>\n",
       "      <td>17.951863</td>\n",
       "      <td>17.667563</td>\n",
       "    </tr>\n",
       "    <tr>\n",
       "      <th rowspan=\"3\" valign=\"top\">202308</th>\n",
       "      <th>202308</th>\n",
       "      <th>77d9</th>\n",
       "      <th>77d7</th>\n",
       "      <th>bb31</th>\n",
       "      <td>1180</td>\n",
       "      <td>1486</td>\n",
       "      <td>2700</td>\n",
       "      <td>3053.18455</td>\n",
       "      <td>13.080909</td>\n",
       "      <td>2700</td>\n",
       "      <td>2694.334804</td>\n",
       "      <td>-5.665196</td>\n",
       "      <td>-0.209822</td>\n",
       "      <td>1.037663</td>\n",
       "      <td>14.85913</td>\n",
       "      <td>12.81682</td>\n",
       "      <td>13.837975</td>\n",
       "    </tr>\n",
       "    <tr>\n",
       "      <th>202208</th>\n",
       "      <th>77d9</th>\n",
       "      <th>77d7</th>\n",
       "      <th>bb31</th>\n",
       "      <td>1180</td>\n",
       "      <td>1486</td>\n",
       "      <td>2700</td>\n",
       "      <td>3088.726481</td>\n",
       "      <td>14.397277</td>\n",
       "      <td>2448</td>\n",
       "      <td>2226.604829</td>\n",
       "      <td>-221.395171</td>\n",
       "      <td>-9.04392</td>\n",
       "      <td>1.049743</td>\n",
       "      <td>14.85913</td>\n",
       "      <td>17.824442</td>\n",
       "      <td>16.341786</td>\n",
       "    </tr>\n",
       "    <tr>\n",
       "      <th>202108</th>\n",
       "      <th>77d9</th>\n",
       "      <th>77d7</th>\n",
       "      <th>bb31</th>\n",
       "      <td>1180</td>\n",
       "      <td>1486</td>\n",
       "      <td>2700</td>\n",
       "      <td>3123.16471</td>\n",
       "      <td>15.672767</td>\n",
       "      <td>2142</td>\n",
       "      <td>2018.325049</td>\n",
       "      <td>-123.674951</td>\n",
       "      <td>-5.773807</td>\n",
       "      <td>1.061447</td>\n",
       "      <td>14.85913</td>\n",
       "      <td>23.10833</td>\n",
       "      <td>18.98373</td>\n",
       "    </tr>\n",
       "    <tr>\n",
       "      <th rowspan=\"3\" valign=\"top\">202208</th>\n",
       "      <th>202308</th>\n",
       "      <th>77d9</th>\n",
       "      <th>77d7</th>\n",
       "      <th>bb31</th>\n",
       "      <td>1180</td>\n",
       "      <td>1486</td>\n",
       "      <td>2700</td>\n",
       "      <td>3273.203504</td>\n",
       "      <td>21.229759</td>\n",
       "      <td>2700</td>\n",
       "      <td>2876.66996</td>\n",
       "      <td>176.66996</td>\n",
       "      <td>6.543332</td>\n",
       "      <td>1.037663</td>\n",
       "      <td>16.410246</td>\n",
       "      <td>14.23773</td>\n",
       "      <td>15.323988</td>\n",
       "    </tr>\n",
       "    <tr>\n",
       "      <th>202208</th>\n",
       "      <th>77d9</th>\n",
       "      <th>77d7</th>\n",
       "      <th>bb31</th>\n",
       "      <td>1180</td>\n",
       "      <td>1486</td>\n",
       "      <td>2700</td>\n",
       "      <td>3311.306662</td>\n",
       "      <td>22.640987</td>\n",
       "      <td>2448</td>\n",
       "      <td>2445.925041</td>\n",
       "      <td>-2.074959</td>\n",
       "      <td>-0.084761</td>\n",
       "      <td>1.049743</td>\n",
       "      <td>16.410246</td>\n",
       "      <td>14.513487</td>\n",
       "      <td>15.461866</td>\n",
       "    </tr>\n",
       "    <tr>\n",
       "      <th>202108</th>\n",
       "      <th>77d9</th>\n",
       "      <th>77d7</th>\n",
       "      <th>bb31</th>\n",
       "      <td>1180</td>\n",
       "      <td>1486</td>\n",
       "      <td>2700</td>\n",
       "      <td>3348.226583</td>\n",
       "      <td>24.008392</td>\n",
       "      <td>2142</td>\n",
       "      <td>2235.662797</td>\n",
       "      <td>93.662797</td>\n",
       "      <td>4.37268</td>\n",
       "      <td>1.061447</td>\n",
       "      <td>16.410246</td>\n",
       "      <td>20.91051</td>\n",
       "      <td>18.660378</td>\n",
       "    </tr>\n",
       "    <tr>\n",
       "      <th rowspan=\"3\" valign=\"top\">202108</th>\n",
       "      <th>202308</th>\n",
       "      <th>77d9</th>\n",
       "      <th>77d7</th>\n",
       "      <th>bb31</th>\n",
       "      <td>1180</td>\n",
       "      <td>1486</td>\n",
       "      <td>2700</td>\n",
       "      <td>2838.494159</td>\n",
       "      <td>5.129413</td>\n",
       "      <td>2700</td>\n",
       "      <td>2488.636136</td>\n",
       "      <td>-211.363864</td>\n",
       "      <td>-7.828291</td>\n",
       "      <td>1.037663</td>\n",
       "      <td>20.774978</td>\n",
       "      <td>16.536085</td>\n",
       "      <td>18.655532</td>\n",
       "    </tr>\n",
       "    <tr>\n",
       "      <th>202208</th>\n",
       "      <th>77d9</th>\n",
       "      <th>77d7</th>\n",
       "      <th>bb31</th>\n",
       "      <td>1180</td>\n",
       "      <td>1486</td>\n",
       "      <td>2700</td>\n",
       "      <td>2871.536893</td>\n",
       "      <td>6.353218</td>\n",
       "      <td>2448</td>\n",
       "      <td>2147.508176</td>\n",
       "      <td>-300.491824</td>\n",
       "      <td>-12.274993</td>\n",
       "      <td>1.049743</td>\n",
       "      <td>20.774978</td>\n",
       "      <td>19.310396</td>\n",
       "      <td>20.042687</td>\n",
       "    </tr>\n",
       "    <tr>\n",
       "      <th>202108</th>\n",
       "      <th>77d9</th>\n",
       "      <th>77d7</th>\n",
       "      <th>bb31</th>\n",
       "      <td>1180</td>\n",
       "      <td>1486</td>\n",
       "      <td>2700</td>\n",
       "      <td>2903.553533</td>\n",
       "      <td>7.53902</td>\n",
       "      <td>2142</td>\n",
       "      <td>2140.458375</td>\n",
       "      <td>-1.541625</td>\n",
       "      <td>-0.071971</td>\n",
       "      <td>1.061447</td>\n",
       "      <td>20.774978</td>\n",
       "      <td>16.300932</td>\n",
       "      <td>18.537955</td>\n",
       "    </tr>\n",
       "  </tbody>\n",
       "</table>"
      ],
      "text/plain": [
       "<IPython.core.display.HTML object>"
      ]
     },
     "metadata": {},
     "output_type": "display_data"
    },
    {
     "name": "stdout",
     "output_type": "stream",
     "text": [
      "Elapsed time: 12.6035 seconds\n"
     ]
    },
    {
     "data": {
      "text/plain": [
       "AMP(overwrite=set(), dependence={'adm': 'raw', 'flg': 'raw', 'raw': 'X', 'reg': 'X', 'X': 'X_proc', 'X_proc': 'Y'}, cycle_day=105, proj_code=202408, pred_codes=(202108, 202208, 202308, 202408), crse_code='_allcrse', styp_code='n', stats=('mean',), show=set(), param={'trf': ['77d9', \"[('act_equiv','passthrough',['__act_equiv']),('act_equiv_missing','passthrough',['__act_equiv_missing']),('apdc_day','passthrough',['__apdc_day']),('birth_day','passthrough',['__birth_day']),('coll_code','passthrough',['__coll_code']),('credit_hr','passthrough',['__credit_hr']),('distance','passthrough',['__distance']),('gap_score','passthrough',['__gap_score']),('gender','passthrough',['__gender']),('hs_qrtl','passthrough',['__hs_qrtl']),('international','passthrough',['__international']),('lgcy','passthrough',['__lgcy']),('math','passthrough',['__math']),('oriented','passthrough',['__oriented']),('race_american_indian','passthrough',['__race_american_indian']),('race_asian','passthrough',['__race_asian']),('race_black','passthrough',['__race_black']),('race_hispanic','passthrough',['__race_hispanic']),('race_pacific','passthrough',['__race_pacific']),('race_white','passthrough',['__race_white']),('reading','passthrough',['__reading']),('remote','passthrough',['__remote']),('resd','passthrough',['__resd']),('schlship_app','passthrough',['__schlship_app']),('ssb','passthrough',['__ssb']),('waiver','passthrough',['__waiver']),('writing','passthrough',['__writing'])]\", [('act_equiv', 'passthrough', ['__act_equiv']), ('act_equiv_missing', 'passthrough', ['__act_equiv_missing']), ('apdc_day', 'passthrough', ['__apdc_day']), ('birth_day', 'passthrough', ['__birth_day']), ('coll_code', 'passthrough', ['__coll_code']), ('credit_hr', 'passthrough', ['__credit_hr']), ('distance', 'passthrough', ['__distance']), ('gap_score', 'passthrough', ['__gap_score']), ('gender', 'passthrough', ['__gender']), ('hs_qrtl', 'passthrough', ['__hs_qrtl']), ('international', 'passthrough', ['__international']), ('lgcy', 'passthrough', ['__lgcy']), ('math', 'passthrough', ['__math']), ('oriented', 'passthrough', ['__oriented']), ('race_american_indian', 'passthrough', ['__race_american_indian']), ('race_asian', 'passthrough', ['__race_asian']), ('race_black', 'passthrough', ['__race_black']), ('race_hispanic', 'passthrough', ['__race_hispanic']), ('race_pacific', 'passthrough', ['__race_pacific']), ('race_white', 'passthrough', ['__race_white']), ('reading', 'passthrough', ['__reading']), ('remote', 'passthrough', ['__remote']), ('resd', 'passthrough', ['__resd']), ('schlship_app', 'passthrough', ['__schlship_app']), ('ssb', 'passthrough', ['__ssb']), ('waiver', 'passthrough', ['__waiver']), ('writing', 'passthrough', ['__writing'])]], 'imp': ['77d7', \"{'datasets':10,'iterations':10,'random_state':42,'tune':False}\", {'datasets': 10, 'iterations': 10, 'random_state': 42, 'tune': False}], 'clf': ['bb31', \"{'early_stop':True,'ensemble':False,'estimator_list':['xgboost'],'metric':'log_loss','seed':42,'time_budget':2}\", {'early_stop': True, 'ensemble': False, 'estimator_list': ['xgboost'], 'metric': 'log_loss', 'seed': 42, 'time_budget': 2}]}, root_path=PosixPath('/home/scook/institutional_data_analytics/admitted_matriculation_projection/resources/rslt/105'), aggregations=('crse_code', 'coll_desc'))"
      ]
     },
     "execution_count": 1,
     "metadata": {},
     "output_type": "execute_result"
    }
   ],
   "source": [
    "from LiveAMP import *\n",
    "self = AMP(cycle_day=105, styp_code='n', crse_code='_allcrse', param=cartesian(param_dcts)[0])\n",
    "# self.get_terms()\n",
    "# self.get_X()\n",
    "# self.get_X_proc()\n",
    "# self.get_Y()\n",
    "self.get_result()"
   ]
  },
  {
   "cell_type": "code",
   "execution_count": null,
   "metadata": {},
   "outputs": [],
   "source": [
    "self.result['coll_desc']['mean']"
   ]
  },
  {
   "cell_type": "code",
   "execution_count": null,
   "metadata": {},
   "outputs": [],
   "source": [
    "X = self.X.query(f\"styp_code==@self.styp_code\").rename(columns=lambda x:'__'+x)"
   ]
  },
  {
   "cell_type": "code",
   "execution_count": null,
   "metadata": {},
   "outputs": [],
   "source": [
    "import dill\n",
    "path = '/home/scook/institutional_data_analytics/admitted_matriculation_projection/resources/rslt/105/X.pkl'\n",
    "with open(path, 'rb') as f:\n",
    "    A = dill.load(f)\n"
   ]
  },
  {
   "cell_type": "code",
   "execution_count": null,
   "metadata": {},
   "outputs": [],
   "source": [
    "for k,v in A.items():\n",
    "    print(k, type(v))"
   ]
  },
  {
   "cell_type": "code",
   "execution_count": null,
   "metadata": {},
   "outputs": [],
   "source": [
    "g = lambda y, nm: y.query(f\"value=='{self.crse_code}'\").droplevel('value').assign(**{nm:True})\n",
    "Z = (\n",
    "    self.X_proc\n",
    "    .join(g(self.y[1],'registered'))\n",
    "    .join(g(self.y[0],'actual'))\n",
    "    .prep(bool=True, cat=True)\n",
    "    .fillna({'registered':False,'actual':False})\n",
    ")\n",
    "\n",
    "train_code = 202108\n",
    "\n",
    "stratify = ['actual','__act_equiv_missing','pidm']\n",
    "grp = ['pred_code','sim']\n",
    "qry = f\"pred_code=={train_code}\" if train_code != self.proj_code else f\"pred_code!={train_code}\"\n",
    "X_model = (Z\n",
    "    .query(qry)\n",
    "    .sort_values(stratify, ascending=False).copy()\n",
    "    .groupby(grp).filter(lambda x: x['actual'].sum() >= 5)\n",
    "    .assign(msk = lambda x: x.groupby(grp).cumcount() % 5 > 0)\n",
    ")\n",
    "X_model['msk'] = X_model.groupby(grp).cumcount() % 5 > 0\n"
   ]
  },
  {
   "cell_type": "code",
   "execution_count": null,
   "metadata": {},
   "outputs": [],
   "source": [
    "Z"
   ]
  },
  {
   "cell_type": "code",
   "execution_count": null,
   "metadata": {},
   "outputs": [],
   "source": [
    "def intersection(*args, sort=False, **kwargs):\n",
    "    L = [listify(x) for x in args]\n",
    "    y = [x for x in L[0] if x in set(L[0]).intersection(*L)]\n",
    "    return mysort(y, **kwargs) if sort else y\n",
    "\n",
    "A = [2,1]\n",
    "B = [1,2,3]\n",
    "C = [2,4,1]\n",
    "D = 1\n",
    "intersection(A,B,C, sort=True)"
   ]
  },
  {
   "cell_type": "code",
   "execution_count": null,
   "metadata": {},
   "outputs": [],
   "source": [
    "import dill, pathlib, pandas as pd\n",
    "class T():\n",
    "    def __init__(self):\n",
    "        self.df = pd.DataFrame()\n",
    "        self.df['A'] = [1,2,3]\n",
    "\n",
    "t = T()\n",
    "path = pathlib.Path('/home/scook/institutional_data_analytics/admitted_matriculation_projection/admitted_matriculation_predictor/test_linux.pkl')\n",
    "with open(path, 'wb') as file:\n",
    "    dill.dump(t, file)"
   ]
  },
  {
   "cell_type": "code",
   "execution_count": null,
   "metadata": {},
   "outputs": [],
   "source": [
    "self.get_X()\n",
    "self.X"
   ]
  },
  {
   "cell_type": "code",
   "execution_count": null,
   "metadata": {},
   "outputs": [],
   "source": [
    "from LiveAMP import *\n",
    "T = Term(cycle_day=0, term_code=202308)\n",
    "T.get_adm()\n",
    "self = run_amp(119)"
   ]
  },
  {
   "cell_type": "code",
   "execution_count": null,
   "metadata": {},
   "outputs": [],
   "source": [
    "self = AMP().load('/home/scook/institutional_data_analytics/admitted_matriculation_projection/resources/rslt/119/X.pkl')\n",
    "del self['path']\n",
    "# del self['X']\n",
    "# del self['Y']\n",
    "# del self['y']\n",
    "# del self['mlt']\n",
    "# del self['aggregations']\n",
    "del self['root_path']\n",
    "self.dump('/home/scook/institutional_data_analytics/admitted_matriculation_projection/resources/rslt/119/X.pkl')\n",
    "self.__dict__.keys()"
   ]
  },
  {
   "cell_type": "code",
   "execution_count": null,
   "metadata": {},
   "outputs": [],
   "source": [
    "# self.X.join(self.Y).groupby(['pred_code','pidm'])['proba'].agg(('mean','std'])\n",
    "Y = self.stack['Y']['_allcrse'].groupby(['pidm','pred_code']).agg(actual=('actual','mean'), proba_mean=('proba','mean'), proba_stdev=('proba','std')).prep(bool=True)\n",
    "# Z = self.Y.join(self.X)\n",
    "# Z['proba'] *= 100\n",
    "# var().sort_values(ascending=False)"
   ]
  },
  {
   "cell_type": "code",
   "execution_count": null,
   "metadata": {},
   "outputs": [],
   "source": [
    "Z"
   ]
  },
  {
   "cell_type": "code",
   "execution_count": null,
   "metadata": {},
   "outputs": [],
   "source": [
    "Z.groupby(['pred_code','pidm']).agg(actual=('actual','mean'), proba_mean=('proba','mean'), proba_stdev=('proba','std')).prep(bool=True)"
   ]
  },
  {
   "cell_type": "code",
   "execution_count": null,
   "metadata": {},
   "outputs": [],
   "source": [
    "df = pd.DataFrame()\n",
    "df['a'] = [2,1,pd.NA]\n",
    "df.sort_values(['a','a'])\n",
    "df.query('a>1')"
   ]
  },
  {
   "cell_type": "code",
   "execution_count": null,
   "metadata": {},
   "outputs": [],
   "source": [
    "variable = 'gender'\n",
    "self.mlt.query(f\"variable=='{variable}'\").droplevel(['variable']).rename_axis(index={'value':variable})"
   ]
  },
  {
   "cell_type": "code",
   "execution_count": null,
   "metadata": {},
   "outputs": [],
   "source": [
    "from LiveAMP import *\n",
    "fn = '/home/scook/institutional_data_analytics/admitted_matriculation_projection/resources/rslt/119/rslt_camp_desc/n/_allcrse/77d9/77d7/fb12.pkl'\n",
    "A = read(fn)"
   ]
  },
  {
   "cell_type": "code",
   "execution_count": null,
   "metadata": {},
   "outputs": [],
   "source": [
    "from LiveAMP import *\n",
    "# Flags().run()\n",
    "self = run_amp(105)\n",
    "1# self = AMP(cycle_day=105, styp_code='n', crse_code='_allcrse', param=cartesian(param_dcts)[0])\n",
    "# self.get_result('gender')\n",
    "# # self.get_Y()\n",
    "# self.get_Y()\n",
    "\n",
    "# # self.get_X_proc()\n",
    "# self.get_X()\n",
    "\n",
    "# variable = 'gender'\n",
    "# self.get_result(variable)\n",
    "# self.mlt.query(f\"variable=='{variable}'\").droplevel(['variable']).rename_axis(index={'value':variable})\n",
    "# self.qry(self.mlt, variable).rename_axis(index={'value':variable})\n",
    "# self.get_terms()\n",
    "# self = run_amp(119, overwrite=[])"
   ]
  },
  {
   "cell_type": "code",
   "execution_count": null,
   "metadata": {},
   "outputs": [],
   "source": [
    "import pathlib\n",
    "root = pathlib.Path('/content')\n",
    "# a = 'first'\n",
    "a = ''\n",
    "b = 'second'\n",
    "c = root / a / b\n",
    "str(c)\n"
   ]
  },
  {
   "cell_type": "code",
   "execution_count": null,
   "metadata": {},
   "outputs": [],
   "source": [
    "x = 'HI'.lower()\n",
    "x."
   ]
  },
  {
   "cell_type": "code",
   "execution_count": null,
   "metadata": {},
   "outputs": [],
   "source": [
    "self.root_path"
   ]
  },
  {
   "cell_type": "code",
   "execution_count": null,
   "metadata": {},
   "outputs": [],
   "source": [
    "for k,v in self.__dict__.items():\n",
    "    print(k, type(v), isinstance(v, pathlib.PosixPath))\n"
   ]
  },
  {
   "cell_type": "code",
   "execution_count": null,
   "metadata": {},
   "outputs": [],
   "source": [
    "self.X.missing().disp(100)"
   ]
  },
  {
   "cell_type": "code",
   "execution_count": null,
   "metadata": {},
   "outputs": [],
   "source": [
    "self.y[0].vc('pred_code')\n",
    "self.X.vc('pred_code')"
   ]
  },
  {
   "cell_type": "code",
   "execution_count": null,
   "metadata": {},
   "outputs": [],
   "source": [
    "self.X.vc('pred_code')"
   ]
  },
  {
   "cell_type": "code",
   "execution_count": null,
   "metadata": {},
   "outputs": [],
   "source": [
    "self.Y.vc('pred_code')"
   ]
  },
  {
   "cell_type": "code",
   "execution_count": null,
   "metadata": {},
   "outputs": [],
   "source": [
    "variable = 'crse_code'\n",
    "variable = 'gender'\n",
    "grp = uniquify([variable,'levl_code','styp_code','train_code','pred_code','trf_hash','imp_hash','clf_hash','sim'])\n",
    "S = (\n",
    "    self.X\n",
    "    .join(self.Y, how='inner')\n",
    "    # .reset_index()\n",
    "    .groupby(grp).apply(lambda y: pd.Series({\n",
    "            # 'pred_code_final': y['actual'].sum(),\n",
    "            'pred_code_predict': y['proba'].sum(),\n",
    "            'test_score': log_loss(y['actual'], y['proba'], labels=[False,True]) * 100,\n",
    "        }), include_groups=False)\n",
    "    .join(self.train_score)\n",
    "    .join(self.mlt.query(f\"variable=='{variable}'\").droplevel('variable').rename_axis(index={'value':variable}))\n",
    ")\n",
    "alpha = 1\n",
    "S['overall_score'] = (S['train_score'] + alpha * S['test_score']) / (1 + alpha)\n",
    "# qry = lambda q: S.query(f\"pred_code=={q}\").droplevel('pred_code')\n",
    "# S = (S\n",
    "#     .join(qry(self.proj_code-100)['pred_code_current'].rename(prior_current))\n",
    "#     .join(qry(self.proj_code    )['pred_code_current'].rename(proj_current))\n",
    "#     .join(qry(self.proj_code-100)['pred_code_final'  ].rename(prior_final))\n",
    "#     .join(qry(self.proj_code    )['pred_code_predict'].rename(proj_predict))\n",
    "#     .query(f\"pred_code!={self.proj_code}\")\n",
    "#     .astype('Float64').fillna(0)\n",
    "# )\n",
    "\n",
    "S.vc('pred_code')"
   ]
  },
  {
   "cell_type": "code",
   "execution_count": null,
   "metadata": {},
   "outputs": [],
   "source": [
    "self.mlt"
   ]
  },
  {
   "cell_type": "code",
   "execution_count": null,
   "metadata": {},
   "outputs": [],
   "source": [
    "self.mlt.query(f\"variable=='{variable}'\").droplevel('variable').rename_axis(index={'value':variable})"
   ]
  },
  {
   "cell_type": "code",
   "execution_count": null,
   "metadata": {},
   "outputs": [],
   "source": [
    "self.mlt"
   ]
  },
  {
   "cell_type": "code",
   "execution_count": null,
   "metadata": {},
   "outputs": [],
   "source": []
  },
  {
   "cell_type": "code",
   "execution_count": null,
   "metadata": {},
   "outputs": [],
   "source": [
    "g = lambda y, nm: y.query(f\"value=='{self.crse_code}'\").droplevel('value').assign(**{nm:True})\n",
    "g(self.y[1], 'hi')"
   ]
  },
  {
   "cell_type": "code",
   "execution_count": null,
   "metadata": {},
   "outputs": [],
   "source": [
    "self.y_final"
   ]
  },
  {
   "cell_type": "code",
   "execution_count": null,
   "metadata": {},
   "outputs": [],
   "source": [
    "a = self.y_current.rsindex(['pidm','pred_code','value']).assign(current=True)\n",
    "a\n",
    "# crse_code = '_allcrse'\n",
    "# a.query(f\"value=='{crse_code}'\").droplevel('value').assign(current=True)\n",
    "# self.X"
   ]
  },
  {
   "cell_type": "code",
   "execution_count": null,
   "metadata": {},
   "outputs": [],
   "source": [
    "self.mlt"
   ]
  },
  {
   "cell_type": "code",
   "execution_count": null,
   "metadata": {},
   "outputs": [],
   "source": [
    "self.mlt"
   ]
  },
  {
   "cell_type": "code",
   "execution_count": null,
   "metadata": {},
   "outputs": [],
   "source": [
    "variable = 'crse_code'\n",
    "variable = 'gender'\n",
    "grp = uniquify([variable,'levl_code','styp_code','train_code','pred_code','trf_hash','imp_hash','clf_hash','sim'])\n",
    "S = (\n",
    "    self.X\n",
    "    .join(self.Y, how='inner')\n",
    "    # .reset_index()\n",
    "    .groupby(grp).apply(lambda y: pd.Series({\n",
    "            # 'pred_code_final': y['actual'].sum(),\n",
    "            'pred_code_predict': y['proba'].sum(),\n",
    "            'test_score': log_loss(y['actual'], y['proba'], labels=[False,True]) * 100,\n",
    "        }), include_groups=False)\n",
    "    .join(self.train_score)\n",
    "    # .join(self.qry(self.mlt, variable).rename_axis(index={'value':variable}).rename(columns=lambda x: \"pred_code_\"+x))\n",
    "    # .join(self.mlt.rename(columns=lambda x: \"pred_code_\"+x))\n",
    ")\n",
    "S"
   ]
  },
  {
   "cell_type": "code",
   "execution_count": null,
   "metadata": {},
   "outputs": [],
   "source": [
    "variable = 'gender'\n",
    "self.qry(self.mlt, variable)#.rename_axis(index={'value':variable}).rename(columns=lambda x: \"pred_code_\"+x)\n",
    "\n",
    "self.mlt.query(f\"variable=='{variable}'\").droplevel('variable').rename_axis(index={'value':variable})"
   ]
  },
  {
   "cell_type": "code",
   "execution_count": null,
   "metadata": {},
   "outputs": [],
   "source": [
    "self.mlt"
   ]
  },
  {
   "cell_type": "code",
   "execution_count": null,
   "metadata": {},
   "outputs": [],
   "source": [
    "\n",
    "self.X.join(self.Y)"
   ]
  },
  {
   "cell_type": "code",
   "execution_count": null,
   "metadata": {},
   "outputs": [],
   "source": [
    "self.Y"
   ]
  },
  {
   "cell_type": "code",
   "execution_count": null,
   "metadata": {},
   "outputs": [],
   "source": [
    "self.X.disp()"
   ]
  },
  {
   "cell_type": "code",
   "execution_count": null,
   "metadata": {},
   "outputs": [],
   "source": [
    "self.get_X()\n",
    "self.X.disp()"
   ]
  },
  {
   "cell_type": "code",
   "execution_count": null,
   "metadata": {},
   "outputs": [],
   "source": [
    "self.y_current"
   ]
  },
  {
   "cell_type": "code",
   "execution_count": null,
   "metadata": {},
   "outputs": [],
   "source": [
    "self.y_final.dtype"
   ]
  },
  {
   "cell_type": "code",
   "execution_count": null,
   "metadata": {},
   "outputs": [],
   "source": []
  },
  {
   "cell_type": "code",
   "execution_count": null,
   "metadata": {},
   "outputs": [],
   "source": [
    "qry = lambda y, value: y.query(f\"variable=='{value}'\").droplevel('variable')\n",
    "g = lambda y, nm: qry(y, self.crse_code).rename(nm)\n",
    "Z = (\n",
    "    self.X_proc\n",
    "    .join(g(self.y_current, 'registered'))\n",
    "    .join(g(self.y_final, 'actual'))\n",
    "    .prep(bool=True, cat=True)\n",
    "    .fillna({'registered':False, 'actual':False})\n",
    "    # .sort_index()\n",
    ")\n",
    "# g = lambda y: self.qry(y, self.crse_code)\n",
    "\n",
    "\n",
    "# g = lambda y: y.query(f\"variable=='{self.crse_code}'\").droplevel('variable')\n",
    "\n",
    "# if 'registration' in dct and dct.pop('registration'):\n",
    "#     Z = Z.join(g(self.y['current']))\n",
    "\n",
    "\n",
    "# if 'registration' in dct and dct.pop('registration'):\n",
    "#     Z = Z.join(self.credit).join(g(self.y['current']))\n",
    "# Z = (Z\n",
    "#     .join(g(self.y['admit'].rename('actual')))\n",
    "#     .fillna({'credit':0, 'current':False, 'actual':False})\n",
    "#     # .fillna({self.crse_code:False, 'current':False, 'credit':0})\n",
    "#     .prep(bool=True, cat=True)\n",
    "#     .sort_index()\n",
    "# )\n",
    "Z.vc('registered')\n",
    "Z"
   ]
  },
  {
   "cell_type": "code",
   "execution_count": null,
   "metadata": {},
   "outputs": [],
   "source": [
    "self.X"
   ]
  },
  {
   "cell_type": "code",
   "execution_count": null,
   "metadata": {},
   "outputs": [],
   "source": [
    "import dill, dataclasses, pandas as pd\n",
    "\n",
    "# @dataclasses.dataclass\n",
    "class MyClass():\n",
    "    def __init__(self):\n",
    "        self.df = pd.DataFrame()\n",
    "        self.df['A'] = [1,2,3]\n",
    "        self.df['B'] = ['kai','q','mumford']\n",
    "\n",
    "obj = MyClass()\n",
    "path = '/home/scook/institutional_data_analytics/admitted_matriculation_projection/admitted_matriculation_predictor/test2.pkl'\n",
    "with open(path, 'wb') as f:\n",
    "    dill.dump(obj, f)\n"
   ]
  },
  {
   "cell_type": "code",
   "execution_count": null,
   "metadata": {},
   "outputs": [],
   "source": [
    "obj.df"
   ]
  },
  {
   "cell_type": "code",
   "execution_count": null,
   "metadata": {},
   "outputs": [],
   "source": [
    "import dill\n",
    "path = '/home/scook/institutional_data_analytics/admitted_matriculation_projection/admitted_matriculation_predictor/test.pkl'\n",
    "with open(path, 'rb') as f:\n",
    "    obj = dill.load(f)\n",
    "obj.df"
   ]
  },
  {
   "cell_type": "code",
   "execution_count": null,
   "metadata": {},
   "outputs": [],
   "source": [
    "self.mlt"
   ]
  },
  {
   "cell_type": "code",
   "execution_count": null,
   "metadata": {},
   "outputs": [],
   "source": [
    "self.X[1][[]].join(self.Y[0].droplevel(col)).query(qry).groupby(['pred_code','levl_code','styp_code','variable','value']).size()"
   ]
  },
  {
   "cell_type": "code",
   "execution_count": null,
   "metadata": {},
   "outputs": [],
   "source": [
    "self.X[1].melt(ignore_index=False)"
   ]
  },
  {
   "cell_type": "code",
   "execution_count": null,
   "metadata": {},
   "outputs": [],
   "source": [
    "col = ['levl_code','styp_code']\n",
    "qry = f\"levl_code == 'ug' & styp_code in ('n','r','t') & pred_code!={self.proj_code}\"\n",
    "variables = ['gender','lgcy']\n",
    "aggy = lambda y: y.query(qry).groupby(['pred_code','levl_code','styp_code','variable','value']).size()\n",
    "aggx = lambda x: aggy(x[variables].melt(ignore_index=False))\n",
    "\n",
    "def get_df(dct):\n",
    "    Y = pd.DataFrame(dct).fillna(0).prep()\n",
    "    Y['mlt'] = Y['final'] / Y['admitted']\n",
    "    Y[np.isinf(Y)] = pd.NA\n",
    "    return Y\n",
    "\n",
    "AY = get_df({\n",
    "    'current': aggy(self.Y[1]),\n",
    "    'admitted': aggy(self.X[1][[]].join(self.Y[0].droplevel(col))),\n",
    "    'final': aggy(self.Y[0]),\n",
    "})\n",
    "\n",
    "AX = get_df({\n",
    "    'current': aggx(self.X[1].query(\"current.notnull()\")),\n",
    "    'admitted': aggx(self.X[1].query(\"final.notnull()\")),\n",
    "    'final': aggx(self.X[0].query(\"final.notnull()\")),\n",
    "})\n",
    "\n",
    "pd.concat([AX,AY])"
   ]
  },
  {
   "cell_type": "code",
   "execution_count": null,
   "metadata": {},
   "outputs": [],
   "source": [
    "self.X[1].disp()"
   ]
  },
  {
   "cell_type": "code",
   "execution_count": null,
   "metadata": {},
   "outputs": [],
   "source": [
    "final"
   ]
  },
  {
   "cell_type": "code",
   "execution_count": null,
   "metadata": {},
   "outputs": [],
   "source": [
    "self.X[0]"
   ]
  },
  {
   "cell_type": "code",
   "execution_count": null,
   "metadata": {},
   "outputs": [],
   "source": [
    "self.X[0].vc('value')"
   ]
  },
  {
   "cell_type": "code",
   "execution_count": null,
   "metadata": {},
   "outputs": [],
   "source": [
    "self.Y[1]"
   ]
  },
  {
   "cell_type": "code",
   "execution_count": null,
   "metadata": {},
   "outputs": [],
   "source": [
    "self.Y[0]"
   ]
  },
  {
   "cell_type": "code",
   "execution_count": null,
   "metadata": {},
   "outputs": [],
   "source": [
    "attr = ['gender','lgcy']\n",
    "grp = ['pred_code','levl_code','styp_code','variable','value']\n",
    "# X = self.X[1][attr].melt(ignore_index=False)\n",
    "aggy = lambda y: y.groupby(grp).size()\n",
    "aggx = lambda x: aggy(x[attr].droplevel('value').melt(ignore_index=False))\n",
    "current = aggx(self.X[1].query('value.notnull()'))\n",
    "final = aggx(self.X[0])\n",
    "# current = self.X[1].query(\"credit_hr>0\")[attr].melt(ignore_index=False).groupby(grp).size()\n",
    "X = self.X[0].droplevel('value').join(self.X[1][[]])\n",
    "admitted = aggx(X.query(\"value.notnull()\"))\n",
    "\n",
    "\n",
    "\n",
    "current = aggy(self.Y[1])\n",
    "final = aggy(self.Y[0])\n",
    "Y = self.Y[0].droplevel('value').join(self.Y[1][[]])\n",
    "admitted = aggy(Y.query(\"value.notnull()\"))\n",
    "final = aggy(Y)\n",
    "\n",
    "# final = X.groupby(grp).size()\n",
    "\n",
    "# current = self.Y[1].query(\"enrolled_ind\").melt(ignore_index=False).groupby(grp).size()\n",
    "\n",
    "# self.X[1].vc('enrolled_ind')\n",
    "\n",
    "# current#.disp(4)\n",
    "# Y\n",
    "# admitted\n",
    "final.query(\"variable=='_allcrse'\")\n",
    "# self.X[1]\n",
    "# X"
   ]
  },
  {
   "cell_type": "code",
   "execution_count": null,
   "metadata": {},
   "outputs": [],
   "source": [
    "self.Y[1].vc('value')"
   ]
  },
  {
   "cell_type": "code",
   "execution_count": null,
   "metadata": {},
   "outputs": [],
   "source": [
    "aggy(self.Y[0])"
   ]
  },
  {
   "cell_type": "code",
   "execution_count": null,
   "metadata": {},
   "outputs": [],
   "source": [
    "self.Y[0]"
   ]
  },
  {
   "cell_type": "code",
   "execution_count": null,
   "metadata": {},
   "outputs": [],
   "source": [
    "# self.X[1].melt(ignore_index=False).droplevel(['id','idx'])\n",
    "grp = ['pred_code','levl_code','styp_code','variable','value']\n",
    "col = ['gender','lgcy']\n",
    "aggy = lambda y: y.groupby(grp).size()\n",
    "aggx = lambda x: aggy(x[col].melt(ignore_index=False))\n",
    "aggx(self.X[0])\n",
    "aggx(self.X[0].join(self.X[1][[]].rsindex(['pidm','pred_code']), how='inner'))\n",
    "# aggy(self.Y[1])\n",
    "# self.X[0]\n",
    "# self.X[0]['credit_hr'].min()\n",
    "# self.X[1]\n",
    "# self.X[0][[]].rsindex(['pidm','pred_code'])"
   ]
  },
  {
   "cell_type": "code",
   "execution_count": null,
   "metadata": {},
   "outputs": [],
   "source": [
    "a = self.y0.query(f\"styp_code=='n' & variable=='_allcrse' & credit_hr>0\").groupby(['pred_code','styp_code']).size()\n",
    "# b = self.Y[0].query(f\"variable=='_allcrse' & styp_code=='n'\").groupby(['pred_code','styp_code']).sum()\n",
    "print(a)\n",
    "self.X0.query(f\"styp_code=='n' & enrolled_ind\").groupby(['pred_code','styp_code']).size()"
   ]
  },
  {
   "cell_type": "code",
   "execution_count": null,
   "metadata": {},
   "outputs": [],
   "source": [
    "y.vc('styp_code')"
   ]
  },
  {
   "cell_type": "code",
   "execution_count": null,
   "metadata": {},
   "outputs": [],
   "source": [
    "self.get_terms()\n",
    "self.terms[0][202308].cycle_date"
   ]
  },
  {
   "cell_type": "code",
   "execution_count": null,
   "metadata": {},
   "outputs": [],
   "source": [
    "# qry = f\"select * from opeir.registration_fall2023 A where A.current_date={dt('2023-09-13')} and pidm=1108765\"\n",
    "qry = f\"select * from opeir.registration_fall2021 A where pidm=1026466\"\n",
    "# 1111252\"\n",
    "db.execute(qry).disp(1000)"
   ]
  },
  {
   "cell_type": "code",
   "execution_count": null,
   "metadata": {},
   "outputs": [],
   "source": [
    "y = self.y0.to_frame().query(f\"variable=='_allcrse' & credit_hr>0 & pred_code<202408\").reset_index(['levl_code','styp_code','variable'], drop=True)\n",
    "# y = self.y0.to_frame().query(f\"variable=='_allcrse'\").reset_index('variable', drop=True).reset_index(['levl_code','styp_code'])\n",
    "X = self.X0.query(f\"styp_code=='n' & enrolled_ind\")[['enrolled_ind']]\n",
    "Z = X.join(y, how=\"left\")\n",
    "Z[Z.isnull().any(axis=1)]#.vc('pred_code')\n",
    "# y.join(X).vc(['pred_code','styp_code'])"
   ]
  },
  {
   "cell_type": "code",
   "execution_count": null,
   "metadata": {},
   "outputs": [],
   "source": [
    "y = self.y0.to_frame().query(f\"variable=='_allcrse' & credit_hr>0 & levl_code=='ug' & styp_code=='n'\").reset_index(['levl_code','styp_code','variable'], drop=True)\n",
    "# y = self.y0.to_frame().query(f\"variable=='_allcrse'\").reset_index('variable', drop=True).reset_index(['levl_code','styp_code'])\n",
    "X = self.X0#.query(f\"styp_code=='n' & enrolled_ind\")[[]]\n",
    "# Z = X.join(y, how=\"left\")\n",
    "# Z[Z.isnull().any(axis=1)]\n",
    "y.join(X).vc(['pred_code','styp_code'])"
   ]
  },
  {
   "cell_type": "code",
   "execution_count": null,
   "metadata": {},
   "outputs": [],
   "source": [
    "self.get_X()\n",
    "self.mlt"
   ]
  },
  {
   "cell_type": "code",
   "execution_count": null,
   "metadata": {},
   "outputs": [],
   "source": [
    "self.Y"
   ]
  },
  {
   "cell_type": "code",
   "execution_count": null,
   "metadata": {},
   "outputs": [],
   "source": [
    "self.Y"
   ]
  },
  {
   "cell_type": "code",
   "execution_count": null,
   "metadata": {},
   "outputs": [],
   "source": [
    "qry = f\"\"\"\n",
    "select\n",
    "    A.*,\n",
    "    (select B.stvlgcy_desc from stvlgcy B where B.stvlgcy_code = A.lgcy_code) as lgcy_desc\n",
    "from (\n",
    "    select\n",
    "        A.*,\n",
    "        (select B.spbpers_lgcy_code from spbpers B where B.spbpers_pidm = A.pidm) as lgcy_code\n",
    "    from\n",
    "        opeir.admissions_fall2023 A\n",
    "    where enrolled_ind='Y' and A.current_date = {dt('2023-09-13')}\n",
    ") A\n",
    "--fetch first 1 rows only\n",
    "\"\"\"\n",
    "X = db.execute(qry)"
   ]
  },
  {
   "cell_type": "code",
   "execution_count": null,
   "metadata": {},
   "outputs": [],
   "source": [
    "X.vc(['lgcy_code','lgcy_desc'])\n",
    "# X['lgcy_code'].isin([pd.NA,'o']).sum()"
   ]
  },
  {
   "cell_type": "code",
   "execution_count": null,
   "metadata": {},
   "outputs": [],
   "source": [
    "self.mlt"
   ]
  },
  {
   "cell_type": "code",
   "execution_count": null,
   "metadata": {},
   "outputs": [],
   "source": [
    "self.y['final']\n",
    "# self.credit"
   ]
  },
  {
   "cell_type": "code",
   "execution_count": null,
   "metadata": {},
   "outputs": [],
   "source": [
    "self.X.vc(['pred_code','lgcy'])"
   ]
  },
  {
   "cell_type": "code",
   "execution_count": null,
   "metadata": {},
   "outputs": [],
   "source": [
    "self.credit\n",
    "g = lambda y: y.query(f\"variable=='{self.crse_code}'\").droplevel('variable')\n",
    "y = self.y['current']\n",
    "y.squeeze().rename_axis(index={'variable':'crse_code'}).rename('d')\n",
    "# g(self.y['current'])"
   ]
  },
  {
   "cell_type": "code",
   "execution_count": null,
   "metadata": {},
   "outputs": [],
   "source": [
    "# for k,v in self.y.items():\n",
    "#     print(k)\n",
    "#     v.disp(4)\n",
    "self.mlt.query(\"styp_code=='n'\").head(10)\n",
    "# self.__dict__.keys()\n",
    "# self.credit"
   ]
  },
  {
   "cell_type": "code",
   "execution_count": null,
   "metadata": {},
   "outputs": [],
   "source": [
    "self.X.apdc_code"
   ]
  },
  {
   "cell_type": "code",
   "execution_count": null,
   "metadata": {},
   "outputs": [],
   "source": [
    "attr = ['gender','lgcy']\n",
    "Z = self.X_final[attr].melt(ignore_index=False).astype('string')\n",
    "A1 = Z.groupby(['styp_code','pred_code','variable','value']).size()"
   ]
  },
  {
   "cell_type": "code",
   "execution_count": null,
   "metadata": {},
   "outputs": [],
   "source": [
    "ren = {'term_code':'pred_code', 'term_desc':'pred_desc', 'index':'idx', 'crse_code':'variable'}\n",
    "Y = [pd.concat([\n",
    "        T.reg\n",
    "        .rename(columns=ren)\n",
    "        .set_index(['pidm','levl_code','styp_code','pred_code','variable'])\n",
    "        ['credit_hr']\n",
    "        .fillna(0)\n",
    "        .query('credit_hr>0')\n",
    "        .rename('value')\n",
    "        .to_frame()\n",
    "        > 0\n",
    "        \n",
    "    for pred_code, T in dct.items()]) for dct in self.terms]\n",
    "Y[1].rename(columns={'a':'b'})\n",
    "# A2 = Y[1].groupby(['styp_code','pred_code','variable','value']).size()"
   ]
  },
  {
   "cell_type": "code",
   "execution_count": null,
   "metadata": {},
   "outputs": [],
   "source": [
    "pd.concat([A1,A2])"
   ]
  },
  {
   "cell_type": "code",
   "execution_count": null,
   "metadata": {},
   "outputs": [],
   "source": [
    "dct = self.terms[1]\n",
    "ren = {'term_code':'pred_code', 'term_desc':'pred_desc', 'index':'idx', 'crse_code':'variable'}\n",
    "R = pd.concat([T.raw.rename(columns=ren) for pred_code, T in dct.items()]).copy().dropna(axis=1, how='all').reset_index(drop=True).prep()\n",
    "repl = {'ae':0, 'n1':1, 'n2':2, 'n3':3, 'n4':4, 'r1':1, 'r2':2, 'r3':3, 'r4':4}\n",
    "R['hs_qrtl'] = pd.cut(R['hs_pctl'], bins=[-1,25,50,75,90,101], labels=[4,3,2,1,0], right=False).combine_first(R['apdc_code'].map(repl))\n",
    "R['remote'] = R['camp_code'] != 's'\n",
    "R['resd'] = R['resd_code'] == 'r'\n",
    "R['oriented'] = R['oriented'] != 'n'\n",
    "R['lgcy'] = ~R['lgcy_code'].isin(['n','o'])\n",
    "R['majr_code'] = R['majr_code'].replace({'0000':pd.NA, 'und':pd.NA, 'eled':'eted', 'agri':'unda'})\n",
    "R['coll_code'] = R['coll_code'].replace({'ae':'an', 'eh':'ed', 'hs':'hl', 'st':'sm', '00':pd.NA})\n",
    "R['coll_desc'] = R['coll_code'].map({\n",
    "    'an': 'ag & natural_resources',\n",
    "    'ba': 'business',\n",
    "    'ed': 'education',\n",
    "    'en': 'engineering',\n",
    "    'hl': 'health sciences',\n",
    "    'la': 'liberal & fine arts',\n",
    "    'sm': 'science & mathematics',\n",
    "    pd.NA: 'no college designated',\n",
    "})\n",
    "majr = ['majr_desc','dept_code','dept_desc','coll_code','coll_desc']\n",
    "S = R.sort_values('cycle_date').drop_duplicates(subset='majr_code', keep='last')[['majr_code',*majr]]\n",
    "X = R.drop(columns=majr).merge(S, on='majr_code', how='left').prep(bool=True)\n",
    "checks = [\n",
    "    'cycle_day >= 0',\n",
    "    'apdc_day >= cycle_day',\n",
    "    'appl_day >= apdc_day',\n",
    "    'birth_day >= appl_day',\n",
    "    'birth_day >= 5000',\n",
    "    'distance >= 0',\n",
    "    'hs_pctl >=0',\n",
    "    'hs_pctl <= 100',\n",
    "    'hs_qrtl >= 0',\n",
    "    'hs_qrtl <= 4',\n",
    "    'act_equiv >= 1',\n",
    "    'act_equiv <= 36',\n",
    "    'gap_score >= 0',\n",
    "    'gap_score <= 100',\n",
    "]\n",
    "for check in checks:\n",
    "    mask = X.eval(check)\n",
    "    assert mask.all(), [check,X[~mask].disp(5)]\n",
    "\n",
    "fill = {\n",
    "    'birth_day': ['median',['pred_code','styp_code']],\n",
    "    'remote': False,\n",
    "    'international': False,\n",
    "    **{f'race_{r}': False for r in ['american_indian','asian','black','pacific','white','hispanic']},\n",
    "    'lgcy': False,\n",
    "    'resd': False,\n",
    "    'waiver': False,\n",
    "    'fafsa_app': False,\n",
    "    'schlship_app': False,\n",
    "    'finaid_accepted': False,\n",
    "    'ssb': False,\n",
    "    'math': False,\n",
    "    'reading': False,\n",
    "    'writing': False,\n",
    "    'gap_score': 0,\n",
    "    'oriented': False,\n",
    "    # 'coll_code': 'na',\n",
    "    # 'coll_desc': 'na',\n",
    "}\n",
    "for k, v in fill.items():\n",
    "    X[k] = X.impute(k, *listify(v))\n",
    "M = X.isnull().rename(columns=lambda x:x+'_missing')\n",
    "attr = ['idx','id','pidm','levl_code','styp_code','pred_code']\n",
    "X = X.join(M).sample(frac=1, random_state=self.param['imp'][2]['random_state']).reset_index().rename(columns=ren).prep(bool=True).set_index(attr).sort_index()\n",
    "X.disp(4)"
   ]
  },
  {
   "cell_type": "code",
   "execution_count": null,
   "metadata": {},
   "outputs": [],
   "source": [
    "X"
   ]
  },
  {
   "cell_type": "code",
   "execution_count": null,
   "metadata": {},
   "outputs": [],
   "source": [
    "y = pd.concat([\n",
    "        T.reg\n",
    "        .rename(columns=ren)\n",
    "        .set_index(['pidm','pred_code','variable'])\n",
    "        # .set_index(['pidm','pred_code','crse_code'])\n",
    "        [['credit_hr','levl_code','styp_code']]\n",
    "        # .query('credit_hr>0')\n",
    "        # .rename('value')\n",
    "    for pred_code, T in dct.items()])#.reset_index()#.unstack().fillna(0)#.prep()\n",
    "y"
   ]
  },
  {
   "cell_type": "code",
   "execution_count": null,
   "metadata": {},
   "outputs": [],
   "source": [
    "y"
   ]
  },
  {
   "cell_type": "code",
   "execution_count": null,
   "metadata": {},
   "outputs": [],
   "source": [
    "cols = ['levl_code_x','levl_code_y','styp_code_x','styp_code_y']\n",
    "Z = y.reset_index().merge(X[[]].reset_index(), on=['pidm','pred_code'], how='outer').fillna({k:'' for k in cols})\n",
    "# Z = Z[['levl_code_x','levl_code_y','styp_code_x','styp_code_y']].fillna('')\n",
    "msk = (Z['levl_code_x'] != Z['levl_code_y']) | (Z['styp_code_x'] != Z['styp_code_y'])\n",
    "Z[msk].vc(cols).sort_index().reset_index()\n",
    "# Z"
   ]
  },
  {
   "cell_type": "code",
   "execution_count": null,
   "metadata": {},
   "outputs": [],
   "source": [
    "Z = X[[]].join(y, how='right').reset_index()"
   ]
  },
  {
   "cell_type": "code",
   "execution_count": null,
   "metadata": {},
   "outputs": [],
   "source": [
    "y.reset_index()"
   ]
  },
  {
   "cell_type": "code",
   "execution_count": null,
   "metadata": {},
   "outputs": [],
   "source": [
    "y.query(\"variable=='_allcrse'\").drop(columns='variable')"
   ]
  },
  {
   "cell_type": "code",
   "execution_count": null,
   "metadata": {},
   "outputs": [],
   "source": [
    "r = y.query(\"variable=='_allcrse' & value>0\").droplevel('variable').rename('registered')>0\n",
    "r"
   ]
  },
  {
   "cell_type": "code",
   "execution_count": null,
   "metadata": {},
   "outputs": [],
   "source": [
    "y.to_frame().join(r)"
   ]
  },
  {
   "cell_type": "code",
   "execution_count": null,
   "metadata": {},
   "outputs": [],
   "source": [
    "attr = ['gender','lgcy']\n",
    "Z = X[attr].melt(ignore_index=False).astype('string').join(r)\n",
    "Z"
   ]
  },
  {
   "cell_type": "code",
   "execution_count": null,
   "metadata": {},
   "outputs": [],
   "source": [
    "y.join(y.query(\"variable=='_allcrse'\").droplevel('variable').rename('registered')>0)"
   ]
  },
  {
   "cell_type": "code",
   "execution_count": null,
   "metadata": {},
   "outputs": [],
   "source": [
    "Z.groupby(['styp_code','pred_code','variable','value'])['registered'].sum()"
   ]
  },
  {
   "cell_type": "code",
   "execution_count": null,
   "metadata": {},
   "outputs": [],
   "source": [
    "Z = X.join(y).melt(ignore_index=False).astype('string')"
   ]
  },
  {
   "cell_type": "code",
   "execution_count": null,
   "metadata": {},
   "outputs": [],
   "source": []
  },
  {
   "cell_type": "code",
   "execution_count": null,
   "metadata": {},
   "outputs": [],
   "source": [
    "Z.dtypes"
   ]
  },
  {
   "cell_type": "code",
   "execution_count": null,
   "metadata": {},
   "outputs": [],
   "source": []
  },
  {
   "cell_type": "code",
   "execution_count": null,
   "metadata": {},
   "outputs": [],
   "source": [
    "Z.prep().dtypes"
   ]
  },
  {
   "cell_type": "code",
   "execution_count": null,
   "metadata": {},
   "outputs": [],
   "source": [
    "pd.concat([X.melt(ignore_index=False).reset_index(), y])"
   ]
  },
  {
   "cell_type": "code",
   "execution_count": null,
   "metadata": {},
   "outputs": [],
   "source": [
    "self.X"
   ]
  },
  {
   "cell_type": "code",
   "execution_count": null,
   "metadata": {},
   "outputs": [],
   "source": []
  },
  {
   "cell_type": "code",
   "execution_count": null,
   "metadata": {},
   "outputs": [],
   "source": [
    "self.get_X()\n",
    "self.mlt.query(\"crse_code=='_allcrse'\")"
   ]
  },
  {
   "cell_type": "code",
   "execution_count": null,
   "metadata": {},
   "outputs": [],
   "source": [
    "A = self.summary.groupby('crse_code')['pred_code_actual'].agg(['min','max'])\n",
    "A.query('min>1 & min<5').sort_values('max', ascending=False)"
   ]
  },
  {
   "cell_type": "code",
   "execution_count": null,
   "metadata": {},
   "outputs": [],
   "source": [
    "import numpy as np\n",
    "x = np.arange(100)\n",
    "100 * (1 - (x%5==0).cumsum() / (x+1))"
   ]
  },
  {
   "cell_type": "code",
   "execution_count": null,
   "metadata": {},
   "outputs": [],
   "source": [
    "self.train_score\n",
    "self.get_X()\n",
    "nm='crse_code'\n",
    "grp = uniquify([nm,'crse_code','levl_code','styp_code','train_code','pred_code','trf_hash','imp_hash','clf_hash','sim'])\n",
    "Z = self.X.join(self.Y, how='inner').reset_index()\n",
    "S = Z.groupby(grp).apply(lambda y: pd.Series({\n",
    "    'pred_code_actual': y['actual'].sum(),\n",
    "    'pred_code_predicted': y['proba'].sum(),\n",
    "    'test_score': log_loss(y['actual'], y['proba'], labels=[False,True]) * 100,\n",
    "}), include_groups=False).join(self.train_score)\n"
   ]
  },
  {
   "cell_type": "code",
   "execution_count": null,
   "metadata": {},
   "outputs": [],
   "source": [
    "w = read('/home/scook/institutional_data_analytics/admitted_matriculation_projection/resources/rslt3/119/rslt_crse_code/n/_allcrse/fa15/77d7/d6c4.pkl')\n",
    "w = read('/home/scook/institutional_data_analytics/admitted_matriculation_projection/resources/rslt5/119/rslt_crse_code/n/_allcrse/fa15/77d7/bf3e.pkl')\n",
    "print(w['param']['clf'][2]['time_budget'])\n",
    "w['rslt_crse_code'][' 50%']"
   ]
  },
  {
   "cell_type": "code",
   "execution_count": null,
   "metadata": {},
   "outputs": [],
   "source": [
    "w = read('/home/scook/institutional_data_analytics/admitted_matriculation_projection/resources/rslt4/119/rslt_crse_code/n/_allcrse/fa15/77d7/d6c4.pkl')\n",
    "w['rslt_crse_code'][' 50%']"
   ]
  },
  {
   "cell_type": "code",
   "execution_count": null,
   "metadata": {},
   "outputs": [],
   "source": [
    "w = read('/home/scook/institutional_data_analytics/admitted_matriculation_projection/resources/rslt5/119/rslt_crse_code/n/_allcrse/fa15/77d7/b66c.pkl')\n",
    "w['rslt_crse_code'][' 50%']"
   ]
  },
  {
   "cell_type": "code",
   "execution_count": null,
   "metadata": {},
   "outputs": [],
   "source": [
    "w = read('/home/scook/institutional_data_analytics/admitted_matriculation_projection/resources/rslt2/119/rslt_crse_code/n/_allcrse/fa15/77d7/114b.pkl')\n",
    "w['rslt_crse_code'][' 50%']"
   ]
  },
  {
   "cell_type": "code",
   "execution_count": null,
   "metadata": {},
   "outputs": [],
   "source": [
    "y1 = read('/home/scook/institutional_data_analytics/admitted_matriculation_projection/resources/rslt/119/Y/n/_allcrse/fa15/77d7/b66c.pkl')['Y']\n",
    "y2 = read('/home/scook/institutional_data_analytics/admitted_matriculation_projection/resources/rslt2/119/Y/n/_allcrse/fa15/77d7/b66c.pkl')['Y']\n",
    "y2b = read('/home/scook/institutional_data_analytics/admitted_matriculation_projection/resources/rslt2/119/Y/n/_allcrse/fa15/77d7/114b.pkl')['Y']\n",
    "y3 = read('/home/scook/institutional_data_analytics/admitted_matriculation_projection/resources/rslt3/119/Y/n/_allcrse/fa15/77d7/b66c.pkl')['Y']\n",
    "nm = 'crse_code'\n",
    "def g(y):\n",
    "    grp = uniquify([nm,'crse_code','levl_code','styp_code','train_code','pred_code','trf_hash','imp_hash','clf_hash','sim'])\n",
    "    z = y.groupby(grp)[['actual','proba']].sum()\n",
    "    grp.remove('sim')\n",
    "    return z.groupby(grp).mean()"
   ]
  },
  {
   "cell_type": "code",
   "execution_count": null,
   "metadata": {},
   "outputs": [],
   "source": [
    "g(y1)"
   ]
  },
  {
   "cell_type": "code",
   "execution_count": null,
   "metadata": {},
   "outputs": [],
   "source": [
    "g(y2)"
   ]
  },
  {
   "cell_type": "code",
   "execution_count": null,
   "metadata": {},
   "outputs": [],
   "source": [
    "g(y2b)"
   ]
  },
  {
   "cell_type": "code",
   "execution_count": null,
   "metadata": {},
   "outputs": [],
   "source": [
    "g(y3)"
   ]
  },
  {
   "cell_type": "code",
   "execution_count": null,
   "metadata": {},
   "outputs": [],
   "source": [
    "g(y3) - g(y2)"
   ]
  },
  {
   "cell_type": "code",
   "execution_count": 15,
   "metadata": {},
   "outputs": [
    {
     "name": "stdout",
     "output_type": "stream",
     "text": [
      "{'overwrite': set(), 'dependence': {'adm': 'raw', 'flg': 'raw', 'raw': 'X', 'reg': 'X', 'X': 'X_proc', 'X_proc': 'Y'}, 'cycle_day': 0, 'proj_code': 202408, 'pred_codes': (202108, 202208, 202308, 202408), 'crse_code': '_allcrse', 'styp_code': 'n', 'stats': ('mean',), 'show': set(), 'param': {}, 'aggregations': ('coll_desc', 'dept_desc', 'majr_desc', 'camp_desc', 'stat_desc', 'cnty_desc', 'gender', 'race_american_indian', 'race_asian', 'race_black', 'race_pacific', 'race_white', 'race_hispanic', 'waiver', 'hs_qrtl', 'international', 'resd_desc', 'lgcy', 'lgcy_desc', 'admt_desc', 'math', 'reading', 'writing', 'ssb', 'oriented'), 'cycle_date': Timestamp('2024-05-15 00:00:00'), 'mlt':                                                                         pred_code_current  \\\n",
      "pred_code levl_code styp_code variable  value                                               \n",
      "202108    ug        n         crse_code _allcrse                                     1104   \n",
      "                                        acct2301                                       10   \n",
      "                                        acom1110                                        4   \n",
      "                                        aest1101                                        1   \n",
      "                                        aestl100                                        1   \n",
      "...                                                                                   ...   \n",
      "202308    ug        t         majr_desc international business                          0   \n",
      "                                        premedical - biomedical scienc                  0   \n",
      "                                        spanish                                         0   \n",
      "                              resd_desc undeclared                                      0   \n",
      "                              styp_desc dual admit                                      0   \n",
      "\n",
      "                                                                        pred_code_admitted  \\\n",
      "pred_code levl_code styp_code variable  value                                                \n",
      "202108    ug        n         crse_code _allcrse                                      1975   \n",
      "                                        acct2301                                        38   \n",
      "                                        acom1110                                        16   \n",
      "                                        aest1101                                         6   \n",
      "                                        aestl100                                         6   \n",
      "...                                                                                    ...   \n",
      "202308    ug        t         majr_desc international business                           0   \n",
      "                                        premedical - biomedical scienc                   0   \n",
      "                                        spanish                                          0   \n",
      "                              resd_desc undeclared                                       0   \n",
      "                              styp_desc dual admit                                       0   \n",
      "\n",
      "                                                                        pred_code_final  \\\n",
      "pred_code levl_code styp_code variable  value                                             \n",
      "202108    ug        n         crse_code _allcrse                                   2142   \n",
      "                                        acct2301                                     40   \n",
      "                                        acom1110                                     16   \n",
      "                                        aest1101                                      6   \n",
      "                                        aestl100                                      6   \n",
      "...                                                                                 ...   \n",
      "202308    ug        t         majr_desc international business                        1   \n",
      "                                        premedical - biomedical scienc                3   \n",
      "                                        spanish                                       1   \n",
      "                              resd_desc undeclared                                    3   \n",
      "                              styp_desc dual admit                                    3   \n",
      "\n",
      "                                                                        pred_code_mlt  \n",
      "pred_code levl_code styp_code variable  value                                          \n",
      "202108    ug        n         crse_code _allcrse                             1.084557  \n",
      "                                        acct2301                             1.052632  \n",
      "                                        acom1110                                  1.0  \n",
      "                                        aest1101                                  1.0  \n",
      "                                        aestl100                                  1.0  \n",
      "...                                                                               ...  \n",
      "202308    ug        t         majr_desc international business                   <NA>  \n",
      "                                        premedical - biomedical scienc           <NA>  \n",
      "                                        spanish                                  <NA>  \n",
      "                              resd_desc undeclared                               <NA>  \n",
      "                              styp_desc dual admit                               <NA>  \n",
      "\n",
      "[7705 rows x 4 columns], 'X':                                                  cycle_day  apdc_day  \\\n",
      "id       pidm     pred_code levl_code styp_code                        \n",
      "9175043  9176350  202208    ug        n                119       166   \n",
      "9175060  9175795  202208    ug        t                119       147   \n",
      "9175062  9175789  202208    ug        t                119       160   \n",
      "9175069  9175800  202208    ug        t                119       162   \n",
      "9175071  9175802  202208    ug        n                119       158   \n",
      "...                                                    ...       ...   \n",
      "10481658 10425099 202308    ug        t                119       250   \n",
      "10482947 10483294 202108    ug        r                119       172   \n",
      "10483082 10483361 202108    ug        t                119       237   \n",
      "10485195 10485475 202108    ug        r                119       134   \n",
      "10485540 10477692 202208    ug        n                119       140   \n",
      "\n",
      "                                                 appl_day  birth_day  \\\n",
      "id       pidm     pred_code levl_code styp_code                        \n",
      "9175043  9176350  202208    ug        n               176       6717   \n",
      "9175060  9175795  202208    ug        t               176       7519   \n",
      "9175062  9175789  202208    ug        t               176       7534   \n",
      "9175069  9175800  202208    ug        t               176       9330   \n",
      "9175071  9175802  202208    ug        n               176       8435   \n",
      "...                                                   ...        ...   \n",
      "10481658 10425099 202308    ug        t               250      11846   \n",
      "10482947 10483294 202108    ug        r               175      11789   \n",
      "10483082 10483361 202108    ug        t               244       9652   \n",
      "10485195 10485475 202108    ug        r               134      10956   \n",
      "10485540 10477692 202208    ug        n               155      11035   \n",
      "\n",
      "                                                  end_date cycle_date  \\\n",
      "id       pidm     pred_code levl_code styp_code                         \n",
      "9175043  9176350  202208    ug        n         2022-09-07 2022-05-11   \n",
      "9175060  9175795  202208    ug        t         2022-09-07 2022-05-11   \n",
      "9175062  9175789  202208    ug        t         2022-09-07 2022-05-11   \n",
      "9175069  9175800  202208    ug        t         2022-09-07 2022-05-11   \n",
      "9175071  9175802  202208    ug        n         2022-09-07 2022-05-11   \n",
      "...                                                    ...        ...   \n",
      "10481658 10425099 202308    ug        t         2023-09-13 2023-05-17   \n",
      "10482947 10483294 202108    ug        r         2021-09-08 2021-05-12   \n",
      "10483082 10483361 202108    ug        t         2021-09-08 2021-05-12   \n",
      "10485195 10485475 202108    ug        r         2021-09-08 2021-05-12   \n",
      "10485540 10477692 202208    ug        n         2022-09-07 2022-05-11   \n",
      "\n",
      "                                                 apdc_date  appl_date  \\\n",
      "id       pidm     pred_code levl_code styp_code                         \n",
      "9175043  9176350  202208    ug        n         2022-03-25 2022-03-15   \n",
      "9175060  9175795  202208    ug        t         2022-04-13 2022-03-15   \n",
      "9175062  9175789  202208    ug        t         2022-03-31 2022-03-15   \n",
      "9175069  9175800  202208    ug        t         2022-03-29 2022-03-15   \n",
      "9175071  9175802  202208    ug        n         2022-04-02 2022-03-15   \n",
      "...                                                    ...        ...   \n",
      "10481658 10425099 202308    ug        t         2023-01-06 2023-01-06   \n",
      "10482947 10483294 202108    ug        r         2021-03-20 2021-03-17   \n",
      "10483082 10483361 202108    ug        t         2021-01-14 2021-01-07   \n",
      "10485195 10485475 202108    ug        r         2021-04-27 2021-04-27   \n",
      "10485540 10477692 202208    ug        n         2022-04-20 2022-04-05   \n",
      "\n",
      "                                                birth_date  term_code_entry  \\\n",
      "id       pidm     pred_code levl_code styp_code                               \n",
      "9175043  9176350  202208    ug        n         2004-04-17           202208   \n",
      "9175060  9175795  202208    ug        t         2002-02-05           202208   \n",
      "9175062  9175789  202208    ug        t         2002-01-21           202208   \n",
      "9175069  9175800  202208    ug        t         1997-02-20           202208   \n",
      "9175071  9175802  202208    ug        n         1999-08-04           202208   \n",
      "...                                                    ...              ...   \n",
      "10481658 10425099 202308    ug        t         1991-04-08           202306   \n",
      "10482947 10483294 202108    ug        r         1989-05-30           202108   \n",
      "10483082 10483361 202108    ug        t         1995-04-06           202108   \n",
      "10485195 10485475 202108    ug        r         1991-09-10           202106   \n",
      "10485540 10477692 202208    ug        n         1992-06-21           202208   \n",
      "\n",
      "                                                 ... hs_qrtl_missing  \\\n",
      "id       pidm     pred_code levl_code styp_code  ...                   \n",
      "9175043  9176350  202208    ug        n          ...           False   \n",
      "9175060  9175795  202208    ug        t          ...            True   \n",
      "9175062  9175789  202208    ug        t          ...            True   \n",
      "9175069  9175800  202208    ug        t          ...            True   \n",
      "9175071  9175802  202208    ug        n          ...           False   \n",
      "...                                              ...             ...   \n",
      "10481658 10425099 202308    ug        t          ...            True   \n",
      "10482947 10483294 202108    ug        r          ...            True   \n",
      "10483082 10483361 202108    ug        t          ...            True   \n",
      "10485195 10485475 202108    ug        r          ...            True   \n",
      "10485540 10477692 202208    ug        n          ...           False   \n",
      "\n",
      "                                                 remote_missing resd_missing  \\\n",
      "id       pidm     pred_code levl_code styp_code                                \n",
      "9175043  9176350  202208    ug        n                   False        False   \n",
      "9175060  9175795  202208    ug        t                   False        False   \n",
      "9175062  9175789  202208    ug        t                   False        False   \n",
      "9175069  9175800  202208    ug        t                   False        False   \n",
      "9175071  9175802  202208    ug        n                   False        False   \n",
      "...                                                         ...          ...   \n",
      "10481658 10425099 202308    ug        t                   False        False   \n",
      "10482947 10483294 202108    ug        r                   False        False   \n",
      "10483082 10483361 202108    ug        t                   False        False   \n",
      "10485195 10485475 202108    ug        r                   False        False   \n",
      "10485540 10477692 202208    ug        n                   False        False   \n",
      "\n",
      "                                                lgcy_missing  \\\n",
      "id       pidm     pred_code levl_code styp_code                \n",
      "9175043  9176350  202208    ug        n                False   \n",
      "9175060  9175795  202208    ug        t                False   \n",
      "9175062  9175789  202208    ug        t                False   \n",
      "9175069  9175800  202208    ug        t                False   \n",
      "9175071  9175802  202208    ug        n                False   \n",
      "...                                                      ...   \n",
      "10481658 10425099 202308    ug        t                False   \n",
      "10482947 10483294 202108    ug        r                False   \n",
      "10483082 10483361 202108    ug        t                False   \n",
      "10485195 10485475 202108    ug        r                False   \n",
      "10485540 10477692 202208    ug        n                False   \n",
      "\n",
      "                                                majr_desc_missing  \\\n",
      "id       pidm     pred_code levl_code styp_code                     \n",
      "9175043  9176350  202208    ug        n                     False   \n",
      "9175060  9175795  202208    ug        t                     False   \n",
      "9175062  9175789  202208    ug        t                     False   \n",
      "9175069  9175800  202208    ug        t                     False   \n",
      "9175071  9175802  202208    ug        n                     False   \n",
      "...                                                           ...   \n",
      "10481658 10425099 202308    ug        t                     False   \n",
      "10482947 10483294 202108    ug        r                     False   \n",
      "10483082 10483361 202108    ug        t                     False   \n",
      "10485195 10485475 202108    ug        r                     False   \n",
      "10485540 10477692 202208    ug        n                     False   \n",
      "\n",
      "                                                dept_code_missing  \\\n",
      "id       pidm     pred_code levl_code styp_code                     \n",
      "9175043  9176350  202208    ug        n                     False   \n",
      "9175060  9175795  202208    ug        t                     False   \n",
      "9175062  9175789  202208    ug        t                     False   \n",
      "9175069  9175800  202208    ug        t                     False   \n",
      "9175071  9175802  202208    ug        n                     False   \n",
      "...                                                           ...   \n",
      "10481658 10425099 202308    ug        t                     False   \n",
      "10482947 10483294 202108    ug        r                     False   \n",
      "10483082 10483361 202108    ug        t                     False   \n",
      "10485195 10485475 202108    ug        r                     False   \n",
      "10485540 10477692 202208    ug        n                     False   \n",
      "\n",
      "                                                dept_desc_missing  \\\n",
      "id       pidm     pred_code levl_code styp_code                     \n",
      "9175043  9176350  202208    ug        n                     False   \n",
      "9175060  9175795  202208    ug        t                     False   \n",
      "9175062  9175789  202208    ug        t                     False   \n",
      "9175069  9175800  202208    ug        t                     False   \n",
      "9175071  9175802  202208    ug        n                     False   \n",
      "...                                                           ...   \n",
      "10481658 10425099 202308    ug        t                     False   \n",
      "10482947 10483294 202108    ug        r                     False   \n",
      "10483082 10483361 202108    ug        t                     False   \n",
      "10485195 10485475 202108    ug        r                     False   \n",
      "10485540 10477692 202208    ug        n                     False   \n",
      "\n",
      "                                                coll_code_missing  \\\n",
      "id       pidm     pred_code levl_code styp_code                     \n",
      "9175043  9176350  202208    ug        n                     False   \n",
      "9175060  9175795  202208    ug        t                     False   \n",
      "9175062  9175789  202208    ug        t                     False   \n",
      "9175069  9175800  202208    ug        t                     False   \n",
      "9175071  9175802  202208    ug        n                     False   \n",
      "...                                                           ...   \n",
      "10481658 10425099 202308    ug        t                     False   \n",
      "10482947 10483294 202108    ug        r                     False   \n",
      "10483082 10483361 202108    ug        t                     False   \n",
      "10485195 10485475 202108    ug        r                     False   \n",
      "10485540 10477692 202208    ug        n                     False   \n",
      "\n",
      "                                                coll_desc_missing credit_hr  \n",
      "id       pidm     pred_code levl_code styp_code                              \n",
      "9175043  9176350  202208    ug        n                     False       0.0  \n",
      "9175060  9175795  202208    ug        t                     False       0.0  \n",
      "9175062  9175789  202208    ug        t                     False      15.0  \n",
      "9175069  9175800  202208    ug        t                     False       0.0  \n",
      "9175071  9175802  202208    ug        n                     False       0.0  \n",
      "...                                                           ...       ...  \n",
      "10481658 10425099 202308    ug        t                     False      12.0  \n",
      "10482947 10483294 202108    ug        r                     False       0.0  \n",
      "10483082 10483361 202108    ug        t                     False      15.0  \n",
      "10485195 10485475 202108    ug        r                     False       3.0  \n",
      "10485540 10477692 202208    ug        n                     False       0.0  \n",
      "\n",
      "[35476 rows x 132 columns], 'y': [Empty DataFrame\n",
      "Columns: []\n",
      "Index: [(9614650, 202108, wses4326), (9507391, 202108, wses4326), (9503907, 202108, wses4326), (9639317, 202108, wses4326), (9930919, 202108, wses4326), (9495438, 202108, agsd3101), (9538762, 202108, agsd3101), (9640885, 202108, agsd3101), (9654918, 202108, agsd3101), (9676446, 202108, agsd3101), (9655369, 202108, agsd3101), (9750145, 202108, agsd3101), (9491351, 202108, agsd3101), (10042142, 202108, agsd3101), (9548123, 202108, agri2304), (9676965, 202108, agri2304), (9206641, 202108, agri2304), (9537224, 202108, agri2304), (9476713, 202108, agri2304), (9655216, 202108, cven2200), (9492762, 202108, acrs5088), (10073781, 202108, cnsl5350), (9672490, 202108, cnsl5350), (9562851, 202108, cnsl5350), (9872649, 202108, cnsl5350), (9753325, 202108, cnsl5350), (10049400, 202108, cnsl5350), (9202400, 202108, cnsl5350), (9200137, 202108, cnsl5350), (9637381, 202108, cnsl5350), (9207298, 202108, cnsl5350), (9672640, 202108, cnsl5350), (9918072, 202108, cnsl5350), (9207298, 202108, cnsl5353), (9515822, 202108, cnsl5353), (9962945, 202108, cnsl5353), (9194630, 202108, cnsl5353), (10096352, 202108, cnsl5353), (9503134, 202108, edad7088), (9538274, 202108, edad7088), (10483738, 202108, edad7088), (9683788, 202108, elen3314), (9636007, 202108, elen3314), (9584525, 202108, elen3314), (9587854, 202108, elen3314), (9822905, 202108, educ5085), (9669778, 202108, univ0301), (9692371, 202108, comm1315), (9204692, 202108, comm1315), (9689227, 202108, comm1315), (9672563, 202108, comm1315), (9682129, 202108, comm1315), (9680569, 202108, comm1315), (9682499, 202108, comm1315), (9671943, 202108, comm1315), (9535932, 202108, comm1315), (9668193, 202108, comm1315), (9698523, 202108, comm1315), (9692295, 202108, comm1315), (9677030, 202108, comm1315), (9537237, 202108, comm4085), (9612523, 202108, muap4121), (9836235, 202108, busi3312), (9694059, 202108, busi3312), (9744869, 202108, muap4121), (9614074, 202108, busi3312), (9684691, 202108, busi3312), (9480776, 202108, busi4344), (9640511, 202108, busi4344), (9493169, 202108, muap4231), (9695902, 202108, muap4231), (9676248, 202108, mdls4592), (9688255, 202108, mdls4592), (9688255, 202108, mdls4593), (9689909, 202108, mdls4594), (9676248, 202108, mdls4594), (9684830, 202108, mdls4595), (9635853, 202108, mdls4595), (9675838, 202108, mdls4595), (9686645, 202108, kine2315), (9637651, 202108, kine2315), (9195438, 202108, kine2315), (9675368, 202108, kine2315), (9871601, 202108, kine2315), (9671510, 202108, kine2315), (9759768, 202108, kine2315), (9676067, 202108, kine2315), (9861360, 202108, kine2315), (9681622, 202108, agri1100), (9682887, 202108, agri1100), (9669324, 202108, agri1100), (9682235, 202108, agri1100), (9678956, 202108, agri1100), (9207556, 202108, agri1100), (9681397, 202108, agri1100), (9671107, 202108, agri1100), (9678656, 202108, agri1100), (9203326, 202108, agri1100), (9678776, 202108, agri1100), (9678047, 202108, agri1100), ...]\n",
      "\n",
      "[260897 rows x 0 columns], Empty DataFrame\n",
      "Columns: []\n",
      "Index: [(9680853, 202108, socw5340), (9732914, 202108, socw5340), (9764248, 202108, socw5373), (9698386, 202108, chfs3333), (9721051, 202108, chfs3333), (9687815, 202108, chfs3333), (9459627, 202108, engt2303), (10171638, 202108, engt2303), (10159267, 202108, engt3360), (9613482, 202108, engt3360), (9535641, 202108, agsd2330), (9542563, 202108, agsd2330), (9540323, 202108, agsd2330), (9499567, 202108, agsd2330), (9654461, 202108, agsd2330), (9686883, 202108, huma1315), (9685097, 202108, musi1116), (9673196, 202108, musi1116), (9644756, 202108, psyc3360), (9655633, 202108, psyc3360), (9520348, 202108, atrn5191), (9690279, 202108, dram1310), (9698841, 202108, dram1310), (9676130, 202108, psyc4312), (9693113, 202108, psyc4312), (9677106, 202108, engl1301), (9676257, 202108, govt2305), (9640078, 202108, govt2305), (9684558, 202108, govt2305), (9492722, 202108, pbhl4305), (9537640, 202108, pbhl4305), (9644789, 202108, pbhl4305), (9646649, 202108, pbhl4350), (9670280, 202108, pbhl4350), (9639193, 202108, socw5360), (9452574, 202108, mdls4137), (9680389, 202108, mdls4137), (9765881, 202108, mdls4147), (9668935, 202108, mdls4147), (9934343, 202108, mdls4147), (9680389, 202108, mdls4147), (9670186, 202108, mdls4179), (9636457, 202108, crij5352), (9539534, 202108, crij5352), (9644202, 202108, math2412), (9673980, 202108, math2412), (9202215, 202108, kine3360), (9646750, 202108, kine3360), (9646473, 202108, kine3360), (9586374, 202108, kine3360), (9687956, 202108, psyc3307), (9675082, 202108, psyc3307), (9492713, 202108, psyc3307), (9684174, 202108, chfs4320), (9682672, 202108, chfs4320), (9642841, 202108, acct2301), (9687525, 202108, acct2301), (9639161, 202108, acct2301), (9639958, 202108, acct2301), (9681588, 202108, acct2301), (9691458, 202108, acct2301), (9682512, 202108, bcis1305), (9509956, 202108, bcis1305), (9646316, 202108, bcis1305), (9674905, 202108, engl1302), (9676028, 202108, engl2320), (9602364, 202108, engl2320), (9697387, 202108, engl2340), (9636076, 202108, engl2340), (9488639, 202108, engl2340), (9689311, 202108, engl2340), (9203475, 202108, engl3301), (9519199, 202108, engl3301), (9675451, 202108, engl3301), (9603801, 202108, comm1311), (9587135, 202108, comm1311), (9521744, 202108, acct2302), (9653708, 202108, acct2302), (9645306, 202108, acct2302), (9925028, 202108, acct2302), (9561992, 202108, acct3301), (9819317, 202108, acct5307), (9678747, 202108, acct5307), (9831898, 202108, acct5307), (9875500, 202108, acct5307), (9654883, 202108, busi2301), (9645655, 202108, econ2301), (9650925, 202108, econ2301), (9541643, 202108, econ2301), (9691516, 202108, econ2301), (9602317, 202108, finc3301), (9646595, 202108, finc3301), (9656695, 202108, finc3301), (9636886, 202108, finc3301), (9562038, 202108, econ2301), (9656159, 202108, arts1311), (9644605, 202108, arts2316), (9449585, 202108, arts3310), (10162158, 202108, arts3363), (9675742, 202108, arts3363), ...]\n",
      "\n",
      "[164200 rows x 0 columns]]}\n"
     ]
    }
   ],
   "source": [
    "import pathlib\n",
    "import dill\n",
    "\n",
    "path = pathlib.Path('C:\\\\Users\\\\gavin\\Documents\\\\AMP\\\\admitted_matriculation_predictor\\\\119\\\\X.pkl')\n",
    "\n",
    "with open(path, 'rb') as f:\n",
    "    a = dill.load(f)\n",
    "\n",
    "print(a)"
   ]
  }
 ],
 "metadata": {
  "kernelspec": {
   "display_name": "my3.11",
   "language": "python",
   "name": "python3"
  },
  "language_info": {
   "codemirror_mode": {
    "name": "ipython",
    "version": 3
   },
   "file_extension": ".py",
   "mimetype": "text/x-python",
   "name": "python",
   "nbconvert_exporter": "python",
   "pygments_lexer": "ipython3",
   "version": "3.11.9"
  }
 },
 "nbformat": 4,
 "nbformat_minor": 2
}
